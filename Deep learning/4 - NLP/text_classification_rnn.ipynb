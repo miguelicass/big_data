{
 "cells": [
  {
   "cell_type": "markdown",
   "metadata": {},
   "source": [
    "It is highly recommended to use a powerful **GPU**, you can use it for free uploading this notebook to [Google Colab](https://colab.research.google.com/notebooks/intro.ipynb).\n",
    "<table align=\"center\">\n",
    " <td align=\"center\"><a target=\"_blank\" href=\"https://colab.research.google.com/github/ezponda/intro_deep_learning/blob/main/class/NLP/text_classification_rnn.ipynb\">\n",
    "        <img src=\"https://i.ibb.co/2P3SLwK/colab.png\"  style=\"padding-bottom:5px;\" />Run in Google Colab</a></td>\n",
    "  <td align=\"center\"><a target=\"_blank\" href=\"https://github.com/ezponda/intro_deep_learning/blob/main/class/NLP/text_classification_rnn.ipynb\">\n",
    "        <img src=\"https://i.ibb.co/xfJbPmL/github.png\"  height=\"70px\" style=\"padding-bottom:5px;\"  />View Source on GitHub</a></td>\n",
    "</table>"
   ]
  },
  {
   "cell_type": "code",
   "execution_count": null,
   "metadata": {
    "execution": {
     "iopub.execute_input": "2021-01-13T03:51:08.377448Z",
     "iopub.status.busy": "2021-01-13T03:51:08.376763Z",
     "iopub.status.idle": "2021-01-13T03:51:15.989069Z",
     "shell.execute_reply": "2021-01-13T03:51:15.988434Z"
    },
    "id": "z682XYsrjkY9"
   },
   "outputs": [],
   "source": [
    "import numpy as np\n",
    "import tensorflow_datasets as tfds\n",
    "import tensorflow as tf\n",
    "import matplotlib.pyplot as plt"
   ]
  },
  {
   "cell_type": "markdown",
   "metadata": {
    "id": "pRmMubr0jrE2"
   },
   "source": [
    "## Loading IMBD Dataset\n",
    "\n",
    "\n",
    "We’ll work with the IMDB dataset: a set of 50,000 highly polarized reviews from the Internet Movie Database. They’re split into 25,000 reviews for training and 25,000 reviews for testing, each set consisting of 50% negative and 50% positive reviews. The parameter num_words controls how many words different we want to use.\n",
    "\n",
    "\n",
    "We are going to download the dataset using [TFDS](https://www.tensorflow.org/datasets). TFDS provides a collection of ready-to-use datasets for use with TensorFlow, Jax, and other Machine Learning frameworks.\n"
   ]
  },
  {
   "cell_type": "code",
   "execution_count": null,
   "metadata": {
    "id": "PN51LEh8za1v"
   },
   "outputs": [],
   "source": [
    "#!pip install -q tensorflow_datasets"
   ]
  },
  {
   "cell_type": "code",
   "execution_count": null,
   "metadata": {
    "colab": {
     "base_uri": "https://localhost:8080/"
    },
    "execution": {
     "iopub.execute_input": "2021-01-13T03:51:16.001184Z",
     "iopub.status.busy": "2021-01-13T03:51:16.000514Z",
     "iopub.status.idle": "2021-01-13T03:51:17.568416Z",
     "shell.execute_reply": "2021-01-13T03:51:17.568875Z"
    },
    "id": "SHRwRoP2nVHX",
    "outputId": "a73bf02b-0879-492c-e31d-6b9340333662"
   },
   "outputs": [],
   "source": [
    "dataset, info = tfds.load('imdb_reviews', with_info=True,\n",
    "                          as_supervised=True)\n",
    "train_dataset, test_dataset = dataset['train'], dataset['test']\n",
    "\n",
    "train_dataset.element_spec"
   ]
  },
  {
   "cell_type": "markdown",
   "metadata": {
    "id": "nWA4c2ir7g6p"
   },
   "source": [
    "Initially this returns a dataset of (text, label pairs):"
   ]
  },
  {
   "cell_type": "code",
   "execution_count": null,
   "metadata": {
    "colab": {
     "base_uri": "https://localhost:8080/"
    },
    "execution": {
     "iopub.execute_input": "2021-01-13T03:51:17.574503Z",
     "iopub.status.busy": "2021-01-13T03:51:17.573198Z",
     "iopub.status.idle": "2021-01-13T03:51:17.618857Z",
     "shell.execute_reply": "2021-01-13T03:51:17.619346Z"
    },
    "id": "vd4_BGKyurao",
    "outputId": "1d821ff5-a369-493d-c624-10f8e4b8437e"
   },
   "outputs": [],
   "source": [
    "for example, label in train_dataset.take(1):\n",
    "    print('text: ', example.numpy())\n",
    "    print('--'*50)\n",
    "    print('label: ', label.numpy())"
   ]
  },
  {
   "cell_type": "markdown",
   "metadata": {
    "id": "z2qVJzcEluH_"
   },
   "source": [
    "Next shuffle the data for training and create batches of these `(text, label)` pairs:"
   ]
  },
  {
   "cell_type": "code",
   "execution_count": null,
   "metadata": {
    "execution": {
     "iopub.execute_input": "2021-01-13T03:51:17.623697Z",
     "iopub.status.busy": "2021-01-13T03:51:17.623008Z",
     "iopub.status.idle": "2021-01-13T03:51:17.624931Z",
     "shell.execute_reply": "2021-01-13T03:51:17.625389Z"
    },
    "id": "dDsCaZCDYZgm"
   },
   "outputs": [],
   "source": [
    "BUFFER_SIZE = 10000\n",
    "BATCH_SIZE = 512"
   ]
  },
  {
   "cell_type": "code",
   "execution_count": null,
   "metadata": {
    "execution": {
     "iopub.execute_input": "2021-01-13T03:51:17.629810Z",
     "iopub.status.busy": "2021-01-13T03:51:17.629159Z",
     "iopub.status.idle": "2021-01-13T03:51:17.632829Z",
     "shell.execute_reply": "2021-01-13T03:51:17.633249Z"
    },
    "id": "VznrltNOnUc5"
   },
   "outputs": [],
   "source": [
    "train_dataset = train_dataset.shuffle(BUFFER_SIZE).batch(BATCH_SIZE).prefetch(tf.data.AUTOTUNE)\n",
    "test_dataset = test_dataset.batch(BATCH_SIZE).prefetch(tf.data.AUTOTUNE)"
   ]
  },
  {
   "cell_type": "code",
   "execution_count": null,
   "metadata": {
    "colab": {
     "base_uri": "https://localhost:8080/"
    },
    "execution": {
     "iopub.execute_input": "2021-01-13T03:51:17.638666Z",
     "iopub.status.busy": "2021-01-13T03:51:17.637321Z",
     "iopub.status.idle": "2021-01-13T03:51:17.883181Z",
     "shell.execute_reply": "2021-01-13T03:51:17.883586Z"
    },
    "id": "jqkvdcFv41wC",
    "outputId": "794aa9a0-1255-4a88-bfdd-3b693ea190f4"
   },
   "outputs": [],
   "source": [
    "for example, label in train_dataset.take(1):\n",
    "    print('texts: ', example.numpy()[:3])\n",
    "    print()\n",
    "    print('labels: ', label.numpy()[:3])"
   ]
  },
  {
   "cell_type": "markdown",
   "metadata": {
    "id": "s5eWCo88voPY"
   },
   "source": [
    "## Preprocessing layer"
   ]
  },
  {
   "cell_type": "markdown",
   "metadata": {
    "id": "TFevcItw15P_"
   },
   "source": [
    "The raw text loaded by `tfds` needs to be processed before it can be used in a model. The simplest way to process text for training is using the [`experimental.preprocessing.TextVectorization`](https://www.tensorflow.org/api_docs/python/tf/keras/layers/experimental/preprocessing/TextVectorization) layer. It transforms strings into arrays of word indexes.\n",
    "\n",
    "```python\n",
    "tf.keras.layers.experimental.preprocessing.TextVectorization(\n",
    "    max_tokens=None, standardize=LOWER_AND_STRIP_PUNCTUATION,\n",
    "    split=SPLIT_ON_WHITESPACE, ngrams=None, output_mode=INT,\n",
    "    output_sequence_length=None, pad_to_max_tokens=True, vocabulary=None, **kwargs\n",
    ")\n",
    "```\n",
    "\n",
    "- **output_sequence_length**: If set, the output will have its time dimension padded or truncated to exactly output_sequence_length values, resulting in a tensor of shape `[batch_size, output_sequence_length]`.\n",
    "- **max_tokens**: The maximum size of the vocabulary for this layer\n",
    "- **standardize**: Standardize each sample (usually lowercasing + punctuation stripping)\n",
    "\n",
    "\n",
    "Create the layer, and pass the dataset's text to the layer's `.adapt` method:"
   ]
  },
  {
   "cell_type": "code",
   "execution_count": null,
   "metadata": {
    "execution": {
     "iopub.execute_input": "2021-01-13T03:51:17.888778Z",
     "iopub.status.busy": "2021-01-13T03:51:17.888113Z",
     "iopub.status.idle": "2021-01-13T03:51:21.858729Z",
     "shell.execute_reply": "2021-01-13T03:51:21.858056Z"
    },
    "id": "uC25Lu1Yvuqy"
   },
   "outputs": [],
   "source": [
    "vocab_size = 5000\n",
    "max_sequence_length = None# 100\n",
    "\n",
    "preprocessing = tf.keras.layers.experimental.preprocessing.TextVectorization(\n",
    "    max_tokens=vocab_size, output_sequence_length=max_sequence_length)\n",
    "preprocessing.adapt(train_dataset.map(lambda text, label: text))"
   ]
  },
  {
   "cell_type": "markdown",
   "metadata": {
    "id": "IuQzVBbe3Ldu"
   },
   "source": [
    "The `.adapt` method sets the layer's vocabulary. Here are the first 20 tokens. After the padding and unknown tokens they're sorted by frequency: "
   ]
  },
  {
   "cell_type": "code",
   "execution_count": null,
   "metadata": {
    "colab": {
     "base_uri": "https://localhost:8080/"
    },
    "execution": {
     "iopub.execute_input": "2021-01-13T03:51:21.863814Z",
     "iopub.status.busy": "2021-01-13T03:51:21.863094Z",
     "iopub.status.idle": "2021-01-13T03:51:21.867751Z",
     "shell.execute_reply": "2021-01-13T03:51:21.868242Z"
    },
    "id": "tBoyjjWg0Ac9",
    "outputId": "87be77cc-ff7a-4b21-d848-ad24aa06dd6b"
   },
   "outputs": [],
   "source": [
    "vocab = np.array(preprocessing.get_vocabulary())\n",
    "vocab[:20]"
   ]
  },
  {
   "cell_type": "markdown",
   "metadata": {
    "id": "mjId5pua3jHQ"
   },
   "source": [
    "Once the vocabulary is set, the layer can encode text into indices. The tensors of indices are 0-padded to the longest sequence in the batch (unless you set a fixed `output_sequence_length`):"
   ]
  },
  {
   "cell_type": "code",
   "execution_count": null,
   "metadata": {
    "colab": {
     "base_uri": "https://localhost:8080/"
    },
    "id": "wbrH5N7Fza1y",
    "outputId": "c8899287-f044-4f27-8090-324b62be5855"
   },
   "outputs": [],
   "source": [
    "voc = preprocessing.get_vocabulary()\n",
    "word_index = dict(zip(voc, range(len(voc))))\n",
    "\n",
    "text = 'the film is good asfadf'\n",
    "[word_index.get(w, 1) for w in text.split()]"
   ]
  },
  {
   "cell_type": "markdown",
   "metadata": {
    "id": "wqY2udS3za1y"
   },
   "source": [
    "As you can see, we obtain the same encoding"
   ]
  },
  {
   "cell_type": "code",
   "execution_count": null,
   "metadata": {
    "colab": {
     "base_uri": "https://localhost:8080/"
    },
    "id": "2X9x80rJza1y",
    "outputId": "31be76f6-2c24-4eb9-bb71-2d786753df86"
   },
   "outputs": [],
   "source": [
    "preprocessing([text])"
   ]
  },
  {
   "cell_type": "markdown",
   "metadata": {
    "id": "F5cjz0bS39IN"
   },
   "source": [
    "Lets see some examples of the preprocessing step:"
   ]
  },
  {
   "cell_type": "code",
   "execution_count": null,
   "metadata": {
    "colab": {
     "base_uri": "https://localhost:8080/"
    },
    "execution": {
     "iopub.execute_input": "2021-01-13T03:51:21.891588Z",
     "iopub.status.busy": "2021-01-13T03:51:21.890914Z",
     "iopub.status.idle": "2021-01-13T03:51:21.896502Z",
     "shell.execute_reply": "2021-01-13T03:51:21.896949Z"
    },
    "id": "N_tD0QY5wXaK",
    "outputId": "12d7ce2d-4da9-4b9d-eb2d-65329ab75175"
   },
   "outputs": [],
   "source": [
    "processed_example = preprocessing(example).numpy()\n",
    "for n in range(2):\n",
    "    print(\"Original: \", example[n].numpy())\n",
    "    print()\n",
    "    print(\"Preprocessed: \", processed_example[n])\n",
    "    print()\n",
    "    print(\"Round-trip: \", \" \".join(vocab[processed_example[n]]))\n",
    "    print()\n",
    "    print()"
   ]
  },
  {
   "cell_type": "markdown",
   "metadata": {
    "id": "wGmM4da1za1y"
   },
   "source": [
    "### Embedding layer\n",
    "\n",
    "\n",
    "```python\n",
    "tf.keras.layers.Embedding(\n",
    "    input_dim,\n",
    "    output_dim,\n",
    "    input_length=None,\n",
    "    mask_zero=False,\n",
    ")\n",
    "```\n",
    "\n",
    "- **input_dim**: Integer. Size of the vocabulary, i.e. maximum integer index + 1.\n",
    "- **output_dim**: Integer. Dimension of the dense embedding.\n",
    "- **input_length**: Length of input sequences, when it is constant.\n",
    "\n",
    "\n",
    "This layer can only be used as the first layer in a model:\n",
    "\n",
    "```python\n",
    "model = tf.keras.Sequential()\n",
    "model.add(tf.keras.layers.Embedding(input_dim=1000, output_dim=64, input_length=10))\n",
    "...\n",
    "```"
   ]
  },
  {
   "cell_type": "markdown",
   "metadata": {
    "id": "bjUqGVBxGw-t"
   },
   "source": [
    "## Create the model"
   ]
  },
  {
   "cell_type": "markdown",
   "metadata": {
    "id": "XAnutC5_za1z"
   },
   "source": [
    "The embedding layer [uses masking](https://www.tensorflow.org/guide/keras/masking_and_padding) to handle the varying sequence-lengths. Configure the embedding layer with `mask_zero=True`.\n"
   ]
  },
  {
   "cell_type": "code",
   "execution_count": null,
   "metadata": {
    "id": "W7zsmInBOCPO"
   },
   "outputs": [],
   "source": [
    "vocab_size = 4000\n",
    "max_sequence_length = 120 \n",
    "embedding_size = 64\n",
    "\n",
    "\n",
    "preprocessing = tf.keras.layers.experimental.preprocessing.TextVectorization(\n",
    "    max_tokens=vocab_size, output_sequence_length=max_sequence_length)\n",
    "preprocessing.adapt(train_dataset.map(lambda text, label: text))\n",
    "\n",
    "\n",
    "model = tf.keras.Sequential()\n",
    "model.add(preprocessing)\n",
    "model.add(tf.keras.layers.Embedding(\n",
    "        input_dim=len(preprocessing.get_vocabulary()),\n",
    "        output_dim=embedding_size,\n",
    "        # Use masking to handle the variable sequence lengths\n",
    "        mask_zero=False))\n",
    "model.add(tf.keras.layers.GRU(32))\n",
    "model.add(tf.keras.layers.Dense(1, activation='sigmoid'))"
   ]
  },
  {
   "cell_type": "code",
   "execution_count": null,
   "metadata": {
    "colab": {
     "base_uri": "https://localhost:8080/"
    },
    "id": "gHaBujjlCsnf",
    "outputId": "3f32d211-594f-477a-fa25-85e26629650e"
   },
   "outputs": [],
   "source": [
    "print([layer.supports_masking for layer in model.layers])"
   ]
  },
  {
   "cell_type": "markdown",
   "metadata": {
    "id": "sRI776ZcH3Tf"
   },
   "source": [
    "Compile the Keras model to configure the training process:"
   ]
  },
  {
   "cell_type": "code",
   "execution_count": null,
   "metadata": {
    "colab": {
     "base_uri": "https://localhost:8080/"
    },
    "execution": {
     "iopub.execute_input": "2021-01-13T03:51:29.543266Z",
     "iopub.status.busy": "2021-01-13T03:51:29.542210Z",
     "iopub.status.idle": "2021-01-13T03:51:29.554230Z",
     "shell.execute_reply": "2021-01-13T03:51:29.554650Z"
    },
    "id": "kj2xei41YZjC",
    "outputId": "e6117ef7-73b8-4e8a-ca62-a9b9c3ae0e1d"
   },
   "outputs": [],
   "source": [
    "model.compile(loss='BinaryCrossentropy',\n",
    "              optimizer='adam',\n",
    "              metrics=['accuracy'])\n",
    "history = model.fit(train_dataset, epochs=5,\n",
    "                    validation_data=test_dataset, \n",
    "                    validation_steps=5)"
   ]
  },
  {
   "cell_type": "code",
   "execution_count": null,
   "metadata": {
    "colab": {
     "base_uri": "https://localhost:8080/"
    },
    "execution": {
     "iopub.execute_input": "2021-01-13T03:57:17.842766Z",
     "iopub.status.busy": "2021-01-13T03:57:17.841687Z",
     "iopub.status.idle": "2021-01-13T03:57:34.265776Z",
     "shell.execute_reply": "2021-01-13T03:57:34.265216Z"
    },
    "id": "BaNbXi43YgUT",
    "outputId": "a4bf81cf-c8be-4f26-9032-da2998bada37"
   },
   "outputs": [],
   "source": [
    "results = model.evaluate(test_dataset)\n",
    "\n",
    "print('Test Loss: {}'.format(results[0]))\n",
    "print('Test Accuracy: {}'.format(results[1]))"
   ]
  },
  {
   "cell_type": "code",
   "execution_count": null,
   "metadata": {
    "colab": {
     "base_uri": "https://localhost:8080/",
     "height": 389
    },
    "execution": {
     "iopub.execute_input": "2021-01-13T03:57:34.284326Z",
     "iopub.status.busy": "2021-01-13T03:57:34.283544Z",
     "iopub.status.idle": "2021-01-13T03:57:34.574582Z",
     "shell.execute_reply": "2021-01-13T03:57:34.575021Z"
    },
    "id": "OZmwt_mzaQJk",
    "outputId": "3f0bb471-a92c-4cdd-d3fd-89f01ec267f4"
   },
   "outputs": [],
   "source": [
    "import pandas as pd\n",
    "def show_loss_accuracy_evolution(history):\n",
    "    \n",
    "    hist = pd.DataFrame(history.history)\n",
    "    hist['epoch'] = history.epoch\n",
    "\n",
    "    fig, (ax1, ax2) = plt.subplots(1, 2, figsize=(16, 6))\n",
    "\n",
    "    ax1.set_xlabel('Epoch')\n",
    "    ax1.set_ylabel('Sparse Categorical Crossentropy')\n",
    "    ax1.plot(hist['epoch'], hist['loss'], label='Train Error')\n",
    "    ax1.plot(hist['epoch'], hist['val_loss'], label = 'Val Error')\n",
    "    ax1.grid()\n",
    "    ax1.legend()\n",
    "\n",
    "    ax2.set_xlabel('Epoch')\n",
    "    ax2.set_ylabel('Accuracy')\n",
    "    ax2.plot(hist['epoch'], hist['accuracy'], label='Train Accuracy')\n",
    "    ax2.plot(hist['epoch'], hist['val_accuracy'], label = 'Val Accuracy')\n",
    "    ax2.grid()\n",
    "    ax2.legend()\n",
    "\n",
    "    plt.show()\n",
    "\n",
    "show_loss_accuracy_evolution(history)"
   ]
  },
  {
   "cell_type": "markdown",
   "metadata": {
    "id": "DwSE_386uhxD"
   },
   "source": [
    "Run a prediction on a new sentence:\n",
    "\n",
    "If the prediction is >= 0.5, it is positive else it is negative."
   ]
  },
  {
   "cell_type": "code",
   "execution_count": null,
   "metadata": {
    "colab": {
     "base_uri": "https://localhost:8080/"
    },
    "execution": {
     "iopub.execute_input": "2021-01-13T03:57:34.579884Z",
     "iopub.status.busy": "2021-01-13T03:57:34.579199Z",
     "iopub.status.idle": "2021-01-13T03:57:36.666160Z",
     "shell.execute_reply": "2021-01-13T03:57:36.665530Z"
    },
    "id": "ZXgfQSgRW6zU",
    "outputId": "11af19a8-6bcd-4c00-8add-6edceb38c7c7"
   },
   "outputs": [],
   "source": [
    "reviews = ['the film was really bad and i am very disappointed',\n",
    "           'The film was very funny entertaining and good we had a great time . brilliant film',\n",
    "           'this film was just brilliant',\n",
    "          'This movie has been a disaster',\n",
    "           'the movie is not bad']\n",
    "predictions = model.predict(np.array(reviews))\n",
    "\n",
    "for review, pred in zip(reviews, predictions.flatten()):\n",
    "    print()\n",
    "    print(review)\n",
    "    print('Sentiment: ', np.round(pred, 2))"
   ]
  },
  {
   "cell_type": "markdown",
   "metadata": {
    "id": "Y3dKjEfxza11"
   },
   "source": [
    "### Question 1: Change the  `vocab_size`, `max_sequence_length` and embedding dimension too compare the results"
   ]
  },
  {
   "cell_type": "code",
   "execution_count": null,
   "metadata": {
    "id": "2afzL1_Pza11"
   },
   "outputs": [],
   "source": [
    "vocab_size = 1000 # Number of words\n",
    "max_sequence_length = 50#None# 100  # Max length of a sentence \n",
    "embedding_size = 64## embedding dimension"
   ]
  },
  {
   "cell_type": "code",
   "execution_count": null,
   "metadata": {
    "id": "TClSc-vqza11"
   },
   "outputs": [],
   "source": [
    "preprocessing = tf.keras.layers.experimental.preprocessing.TextVectorization(\n",
    "    max_tokens=vocab_size, output_sequence_length=max_sequence_length)\n",
    "preprocessing.adapt(train_dataset.map(lambda text, label: text))\n",
    "\n",
    "model = tf.keras.Sequential()\n",
    "model.add(preprocessing)\n",
    "model.add(tf.keras.layers.Embedding(\n",
    "        input_dim=len(preprocessing.get_vocabulary()),\n",
    "        output_dim=embedding_size,\n",
    "        # Use masking to handle the variable sequence lengths\n",
    "        mask_zero=True))\n",
    "model.add(tf.keras.layers.GRU(32))\n",
    "model.add(tf.keras.layers.Dense(1, activation='sigmoid'))"
   ]
  },
  {
   "cell_type": "code",
   "execution_count": null,
   "metadata": {
    "colab": {
     "base_uri": "https://localhost:8080/",
     "height": 781
    },
    "id": "rGr66Ofrza11",
    "outputId": "f15ac9d8-ae9c-4659-d20c-6c2d8882dd8d"
   },
   "outputs": [],
   "source": [
    "model.compile(loss='BinaryCrossentropy',\n",
    "              optimizer='adam',\n",
    "              metrics=['accuracy'])\n",
    "history = model.fit(train_dataset, epochs=10,\n",
    "                    validation_data=test_dataset, \n",
    "                    validation_steps=5)\n",
    "show_loss_accuracy_evolution(history)\n",
    "\n",
    "results = model.evaluate(test_dataset)\n",
    "\n",
    "print('Test Loss: {}'.format(results[0]))\n",
    "print('Test Accuracy: {}'.format(results[1]))"
   ]
  },
  {
   "cell_type": "code",
   "execution_count": null,
   "metadata": {
    "colab": {
     "base_uri": "https://localhost:8080/"
    },
    "id": "o2USmk_2za12",
    "outputId": "9d181365-e2cb-4c4b-9333-cba2261ca194"
   },
   "outputs": [],
   "source": [
    "reviews = ['the film was really bad and i am very disappointed',\n",
    "           'The film was very funny entertaining and good we had a great time . brilliant film',\n",
    "           'this film was just brilliant',\n",
    "          'This movie has been a disaster', 'the movie is not bad']\n",
    "predictions = model.predict(np.array(reviews))\n",
    "\n",
    "for review, pred in zip(reviews, predictions.flatten()):\n",
    "    print()\n",
    "    print(review)\n",
    "    print('Sentiment: ', np.round(pred, 2))"
   ]
  },
  {
   "cell_type": "markdown",
   "metadata": {
    "id": "l8b3mwVXza12"
   },
   "source": [
    "### Question 2: Use a convolutional   network instead of a RNN\n",
    "\n",
    "```python\n",
    "tf.keras.layers.Conv1D(\n",
    "    filters, kernel_size\n",
    ")\n",
    "```\n",
    "\n",
    "```python\n",
    "tf.keras.layers.MaxPool1D(\n",
    "    pool_size=2\n",
    ")\n",
    "```\n",
    "\n",
    "```python\n",
    "tf.keras.layers.Flatten()\n",
    "```"
   ]
  },
  {
   "cell_type": "code",
   "execution_count": null,
   "metadata": {
    "id": "ftOTfyU7za12"
   },
   "outputs": [],
   "source": [
    "vocab_size = 5000 # Number of words\n",
    "max_sequence_length = 600#None# 100  # Max length of a sentence \n",
    "embedding_size = 300## embedding dimension"
   ]
  },
  {
   "cell_type": "code",
   "execution_count": null,
   "metadata": {
    "colab": {
     "base_uri": "https://localhost:8080/",
     "height": 341
    },
    "id": "5b4EzuWYE30q",
    "outputId": "40747bf6-b8cb-4eeb-a928-a2900775e77c"
   },
   "outputs": [],
   "source": [
    "from tensorflow.keras import layers\n",
    "\n",
    "preprocessing = tf.keras.layers.experimental.preprocessing.TextVectorization(\n",
    "    max_tokens=vocab_size, output_sequence_length=max_sequence_length)\n",
    "preprocessing.adapt(train_dataset.map(lambda text, label: text))\n",
    "\n",
    "model = tf.keras.Sequential()\n",
    "model.add(preprocessing)\n",
    "model.add(tf.keras.layers.Embedding(\n",
    "        input_dim=len(preprocessing.get_vocabulary()),\n",
    "        output_dim=embedding_size,\n",
    "        input_length=max_sequence_length))\n",
    "\n",
    "model.add(layers.Conv1D(..., ..., activation=...))\n",
    "model.add(layers.MaxPooling1D(...))\n",
    "...\n",
    "model.add(layers.Flatten())\n",
    "...\n",
    "model.add(layers.Dense(1, activation='sigmoid'))\n"
   ]
  },
  {
   "cell_type": "code",
   "execution_count": null,
   "metadata": {
    "colab": {
     "base_uri": "https://localhost:8080/",
     "height": 609
    },
    "id": "ale2QzjPza12",
    "outputId": "aacc3c91-6545-42dc-b382-001d55a1e71a"
   },
   "outputs": [],
   "source": [
    "model.compile(loss='BinaryCrossentropy',\n",
    "              optimizer='adam',\n",
    "              metrics=['accuracy'])\n",
    "history = model.fit(train_dataset, epochs=5,\n",
    "                    validation_data=test_dataset, \n",
    "                    validation_steps=5)\n",
    "show_loss_accuracy_evolution(history)\n",
    "\n",
    "results = model.evaluate(test_dataset)\n",
    "\n",
    "print('Test Loss: {}'.format(results[0]))\n",
    "print('Test Accuracy: {}'.format(results[1]))"
   ]
  },
  {
   "cell_type": "code",
   "execution_count": null,
   "metadata": {
    "colab": {
     "base_uri": "https://localhost:8080/"
    },
    "id": "-OBitCdZza12",
    "outputId": "21ebcacf-0cf7-4443-8538-4baa95c5e581"
   },
   "outputs": [],
   "source": [
    "reviews = ['the film was really bad and i am very disappointed',\n",
    "           'The film was very funny entertaining and good we had a great time . brilliant film',\n",
    "           'this film was just brilliant',\n",
    "          'This movie has been a disaster',\n",
    "          'very good',\n",
    "          'film very good',\n",
    "           'the film is very good',\n",
    "           'the film is not good',\n",
    "           'the film is not very good',\n",
    "           'the movie is not bad',\n",
    "           'the movie is not very bad']\n",
    "predictions = model.predict(np.array(reviews))\n",
    "\n",
    "for review, pred in zip(reviews, predictions.flatten()):\n",
    "    print()\n",
    "    print(review)\n",
    "    print('Sentiment: ', np.round(pred, 2))"
   ]
  },
  {
   "cell_type": "markdown",
   "metadata": {
    "id": "oNGpTev1za12"
   },
   "source": [
    "## Generalization\n",
    "\n",
    "We are going to see, how the trained model generalizes in a new dataset.\n",
    "\n",
    "Large Yelp Review Dataset. This is a dataset for binary sentiment classification. We provide a set of 560,000 highly polar yelp reviews for training, and 38,000 for testing. ORIGIN The Yelp reviews dataset consists of reviews from Yelp. It is extracted from the Yelp Dataset Challenge 2015 data. For more information, please refer to http://www.yelp.com/dataset\n",
    "\n"
   ]
  },
  {
   "cell_type": "code",
   "execution_count": null,
   "metadata": {
    "colab": {
     "base_uri": "https://localhost:8080/",
     "height": 418,
     "referenced_widgets": [
      "726e01a161694a7386a3e83ee26b2650",
      "442c19d1fbad488ba88853c1ed2417fe",
      "5d9ac0c4132d47baa8f6e6b00ffc8fce",
      "e92a49567abc4cfe833b50ae6d7cef82",
      "a713205f143d4e37ac75380dd4ccf9dd",
      "09a5037d6b7f4267bef11d5c81943444",
      "d0d66a43fdf14a51bcddd90fe5bf651c",
      "6ca709c36824411a919ef49f782c8d12",
      "30c80f7d3b384ed7a4ba525415a3ef5a",
      "15ad41875025485f9c2ba9f7c6b92498",
      "793ff5f4662e474183a11a0e448521f3",
      "8dddd6764bfe4a0c845407b69cd0be50",
      "a93bb57243754ab3b8a9c3cb8a78211c",
      "1fd08774574b44a1a2a36af1f643c942",
      "e14f76d510a74a9fbdbed89f76786f93",
      "fe91b6a4f32247f2aefd924544268b33",
      "df3a76b70f3f4aa19cf63c9f628b9f53",
      "31b9fd9168f14620b6f5955ea2af963b",
      "923a951e7cb3460a90db6b82e9046195",
      "ec3fe2b406254fb4a74ae16d4e77c30c",
      "8a2adb706b724582851f31b3f4fcc73b",
      "60bb67d6a3464d21bc89f38d0fc955f0",
      "8c4eb2eeb4aa48e488e4b9abdfc9ad08",
      "8b78a2eb022945dd8c73c000b96fb6bc",
      "5d4f4ec65d8c44578e148b97dc9d0a76",
      "c528c936fec741d48c0dc6eae2bca36a",
      "d8637c44c0244be2be06ed247a995295",
      "e953e6006a344777a4f7685a9bc66678",
      "835e764670d94003a44493fc0be19633",
      "2b9b7d77220043d19155315091514533",
      "bd81e2f1a0e6468ba0587d29496e727b",
      "4e4f337752c6432a898e5749a94d6375",
      "b0096931873d4b55b6b1456413f30920",
      "c1bc796e2fd749108fb946929f36eb39",
      "6cf6d946856a435c840f6e19b84ed7d4",
      "445830624f4940a0a51cb737786e4d4b",
      "6c19360285e542e9bdeb04f32204be0f",
      "9e2c70ea2ca245998ae563f83b440d8a",
      "702a25b5f8c242d197cbfd286ed6ad60",
      "ab8317f9b67a4cf7a225cf5a6faba271",
      "9026e0f46b1c429a84b4ff00a4cd07d5",
      "f2799ba998e145bf8dcf160595729e2e",
      "1e31e01a1e6f4adbb41346bac206b0e6",
      "dd12490030ad4bb381d76811f95bef5e",
      "bb4d57e2e5e5416f87e2d015125d39fb",
      "c7381148fdfe49fd949891c075a3c5f0",
      "cab8fd2390eb4481824b2a29bfca8229",
      "44224fa13a8048ab948f96e68e3e934c",
      "3b482c5205814ee5b6df6481c5616cf6",
      "5cc571e53bfb45248a2cb850b627b809",
      "b0c51846ce7d401bb67e9acf128ce52a",
      "2cad34f44fc44a8399e81fed7bb0eccf",
      "a0fbaf8346a242c1a98b67c799dad0c3",
      "fb16bdb84f0a4f1a9feeb53dac6de3d3",
      "40f498de8ffc4af38b118a090a36df08",
      "49f2acb4d2ac49b2accd62aea479e700"
     ]
    },
    "execution": {
     "iopub.execute_input": "2021-01-13T03:51:16.001184Z",
     "iopub.status.busy": "2021-01-13T03:51:16.000514Z",
     "iopub.status.idle": "2021-01-13T03:51:17.568416Z",
     "shell.execute_reply": "2021-01-13T03:51:17.568875Z"
    },
    "id": "z9D12Vexza13",
    "outputId": "be2997de-3f69-422f-c3ce-56b21594908b"
   },
   "outputs": [],
   "source": [
    "dataset_yelp, info = tfds.load('yelp_polarity_reviews', with_info=True,\n",
    "                          as_supervised=True)\n",
    "train_dataset_yelp, test_dataset_yelp = dataset_yelp['train'], dataset_yelp['test']\n",
    "\n",
    "train_dataset_yelp.element_spec"
   ]
  },
  {
   "cell_type": "markdown",
   "metadata": {
    "id": "8iJCsaP3za13"
   },
   "source": [
    "Initially this returns a dataset of (text, label pairs):"
   ]
  },
  {
   "cell_type": "code",
   "execution_count": null,
   "metadata": {
    "colab": {
     "base_uri": "https://localhost:8080/"
    },
    "execution": {
     "iopub.execute_input": "2021-01-13T03:51:17.574503Z",
     "iopub.status.busy": "2021-01-13T03:51:17.573198Z",
     "iopub.status.idle": "2021-01-13T03:51:17.618857Z",
     "shell.execute_reply": "2021-01-13T03:51:17.619346Z"
    },
    "id": "vvGplW2qza13",
    "outputId": "93e07fcc-c44e-4a1a-9690-bed151e82bb1"
   },
   "outputs": [],
   "source": [
    "for example, label in test_dataset_yelp.take(2):\n",
    "    print('text: ', example.numpy())\n",
    "    print('label: ', label.numpy())"
   ]
  },
  {
   "cell_type": "markdown",
   "metadata": {
    "id": "6R3LG29-za13"
   },
   "source": [
    "Next shuffle the data for training and create batches of these `(text, label)` pairs:"
   ]
  },
  {
   "cell_type": "code",
   "execution_count": null,
   "metadata": {
    "execution": {
     "iopub.execute_input": "2021-01-13T03:51:17.623697Z",
     "iopub.status.busy": "2021-01-13T03:51:17.623008Z",
     "iopub.status.idle": "2021-01-13T03:51:17.624931Z",
     "shell.execute_reply": "2021-01-13T03:51:17.625389Z"
    },
    "id": "Pof5it9sza14"
   },
   "outputs": [],
   "source": [
    "BUFFER_SIZE = 10000\n",
    "BATCH_SIZE = 512\n",
    "train_dataset_yelp = train_dataset_yelp.shuffle(BUFFER_SIZE).batch(BATCH_SIZE).prefetch(tf.data.AUTOTUNE)\n",
    "test_dataset_yelp = test_dataset_yelp.batch(BATCH_SIZE).prefetch(tf.data.AUTOTUNE)"
   ]
  },
  {
   "cell_type": "code",
   "execution_count": null,
   "metadata": {
    "colab": {
     "base_uri": "https://localhost:8080/"
    },
    "execution": {
     "iopub.execute_input": "2021-01-13T03:51:17.629810Z",
     "iopub.status.busy": "2021-01-13T03:51:17.629159Z",
     "iopub.status.idle": "2021-01-13T03:51:17.632829Z",
     "shell.execute_reply": "2021-01-13T03:51:17.633249Z"
    },
    "id": "sXxqMK-yza14",
    "outputId": "08a6ee91-ef13-4ffd-cb44-f237d4100c57"
   },
   "outputs": [],
   "source": [
    "for example, label in test_dataset_yelp.take(1):\n",
    "    print('text: ', example.numpy()[0])\n",
    "    print('label: ', label.numpy()[0])"
   ]
  },
  {
   "cell_type": "markdown",
   "metadata": {
    "id": "jhVGFOnnQ8t2"
   },
   "source": [
    "### Generalization of the IMBD-model"
   ]
  },
  {
   "cell_type": "code",
   "execution_count": null,
   "metadata": {
    "colab": {
     "base_uri": "https://localhost:8080/"
    },
    "execution": {
     "iopub.execute_input": "2021-01-13T03:51:17.638666Z",
     "iopub.status.busy": "2021-01-13T03:51:17.637321Z",
     "iopub.status.idle": "2021-01-13T03:51:17.883181Z",
     "shell.execute_reply": "2021-01-13T03:51:17.883586Z"
    },
    "id": "SpB9hZIgza14",
    "outputId": "6ac2bb5c-7bf6-4081-a06f-bc869a4930f8"
   },
   "outputs": [],
   "source": [
    "results = model.evaluate(test_dataset_yelp)\n",
    "\n",
    "print('Test Loss: {}'.format(results[0]))\n",
    "print('Test Accuracy: {}'.format(results[1]))"
   ]
  },
  {
   "cell_type": "markdown",
   "metadata": {
    "id": "gujasFcfRLQl"
   },
   "source": [
    "### Question 3: Create a model for the Yelp dataset and obtain `val_accuracy>0.92`"
   ]
  },
  {
   "cell_type": "code",
   "execution_count": null,
   "metadata": {
    "id": "b5tMk-T_Csnk"
   },
   "outputs": [],
   "source": [
    "output_dim = 200\n",
    "max_sequence_length = 100\n",
    "vocab_size = 5000\n",
    "preprocessing_yelp = tf.keras.layers.experimental.preprocessing.TextVectorization(\n",
    "    max_tokens=vocab_size, output_sequence_length=max_sequence_length)\n",
    "preprocessing_yelp.adapt(train_dataset_yelp.map(lambda text, label: text))\n",
    "model_yelp = tf.keras.Sequential()\n"
   ]
  },
  {
   "cell_type": "code",
   "execution_count": null,
   "metadata": {
    "id": "0QaBLQcSza14"
   },
   "outputs": [],
   "source": [
    "model_yelp.compile(loss='BinaryCrossentropy',\n",
    "              optimizer='adam',\n",
    "              metrics=['accuracy'])\n",
    "\n",
    "history = model_yelp.fit(train_dataset_yelp, epochs=2,\n",
    "                    validation_data=test_dataset_yelp, \n",
    "                    validation_steps=10)\n",
    "show_loss_accuracy_evolution(history)\n",
    "\n",
    "results = model_yelp.evaluate(test_dataset_yelp)\n",
    "\n",
    "print('Test Loss: {}'.format(results[0]))\n",
    "print('Test Accuracy: {}'.format(results[1]))"
   ]
  },
  {
   "cell_type": "code",
   "execution_count": null,
   "metadata": {
    "colab": {
     "base_uri": "https://localhost:8080/"
    },
    "id": "K5XmeCVB4LrP",
    "outputId": "2c85ff55-af17-41e5-87c8-815e6096c35d"
   },
   "outputs": [],
   "source": [
    "reviews = ['the film was really bad and i am very disappointed',\n",
    "           'The film was very funny entertaining and good we had a great time . brilliant film',\n",
    "           'this film was just brilliant',\n",
    "          'This movie has been a disaster',\n",
    "          'very good',\n",
    "           'the film isn\\'t very good',\n",
    "           'the film is very good',\n",
    "           'the movie is not bad',\n",
    "           'the film is not good',\n",
    "           'the movie is  bad']\n",
    "predictions = model_yelp.predict(np.array(reviews))\n",
    "\n",
    "for review, pred in zip(reviews, predictions.flatten()):\n",
    "    print()\n",
    "    print(review)\n",
    "    print('Sentiment: ', np.round(pred, 2))"
   ]
  },
  {
   "cell_type": "code",
   "execution_count": null,
   "metadata": {
    "colab": {
     "base_uri": "https://localhost:8080/"
    },
    "id": "toIfrm_14vwt",
    "outputId": "f45154b6-a9fa-4f1d-b17d-46dd8176f9b9"
   },
   "outputs": [],
   "source": [
    "results = model_yelp.evaluate(test_dataset_yelp)\n",
    "\n",
    "print('Yelp-model in Yelp dataset Test Loss: {}'.format(results[0]))\n",
    "print('Yelp-model in Yelp dataset Test Accuracy: {}'.format(results[1]))\n",
    "print('--'*50)\n",
    "\n",
    "results = model.evaluate(test_dataset_yelp)\n",
    "\n",
    "print('IMBD-model in Yelp dataset Test Loss: {}'.format(results[0]))\n",
    "print('IMBD-model in Yelp dataset Test Accuracy: {}'.format(results[1]))"
   ]
  },
  {
   "cell_type": "code",
   "execution_count": null,
   "metadata": {
    "colab": {
     "base_uri": "https://localhost:8080/"
    },
    "id": "e_wsqGz3422b",
    "outputId": "da6e4305-1d7d-4a79-ee81-c69295ae6483"
   },
   "outputs": [],
   "source": [
    "results = model_yelp.evaluate(test_dataset)\n",
    "\n",
    "print('Yelp-model in IMBD dataset Test Loss: {}'.format(results[0]))\n",
    "print('Yelp-model in IMBD dataset Test Accuracy: {}'.format(results[1]))\n",
    "print('--'*50)\n",
    "\n",
    "results = model.evaluate(test_dataset)\n",
    "\n",
    "print('IMBD-model in IMBD dataset Test Loss: {}'.format(results[0]))\n",
    "print('IMBD-model in IMBD dataset Test Accuracy: {}'.format(results[1]))"
   ]
  },
  {
   "cell_type": "markdown",
   "metadata": {
    "id": "pNm0f_3Gza14"
   },
   "source": [
    "## Practice\n",
    "\n"
   ]
  },
  {
   "cell_type": "code",
   "execution_count": null,
   "metadata": {
    "id": "oukUJSI3za14"
   },
   "outputs": [],
   "source": [
    "from tensorflow.keras.datasets import reuters\n",
    "\n",
    "((train_seqs, train_labels), (test_seqs, test_labels)) = reuters.load_data(\n",
    "    path='reuters.npz', test_split=0.15,  index_from=0\n",
    ")\n",
    "word_index = tf.keras.datasets.reuters.get_word_index()\n",
    "index_word = {wid: w for w, wid in word_index.items()}\n",
    "\n",
    "\n",
    "def seq2sentence(seq, index_word):\n",
    "    return ' '.join([index_word[wid] for wid in seq])\n",
    "\n",
    "\n",
    "train_sentences = np.array([seq2sentence(seq, index_word) for seq in train_seqs])\n",
    "test_sentences = np.array([seq2sentence(seq, index_word) for seq in test_seqs])\n",
    "\n",
    "labels = np.array(['cocoa', 'grain', 'veg-oil', 'earn', 'acq', 'wheat', 'copper', 'housing', 'money-supply',\n",
    "          'coffee', 'sugar', 'trade', 'reserves', 'ship', 'cotton', 'carcass', 'crude', 'nat-gas',\n",
    "          'cpi', 'money-fx', 'interest', 'gnp', 'meal-feed', 'alum', 'oilseed', 'gold', 'tin',\n",
    "          'strategic-metal', 'livestock', 'retail', 'ipi', 'iron-steel', 'rubber', 'heat', 'jobs',\n",
    "          'lei', 'bop', 'zinc', 'orange', 'pet-chem', 'dlr', 'gas', 'silver', 'wpi', 'hog', 'lead'])\n",
    "\n",
    "num_classes = 46\n",
    "train_sentences[0]\n",
    "test_sentences[0]"
   ]
  },
  {
   "cell_type": "code",
   "execution_count": null,
   "metadata": {
    "id": "7mCQqAkrza14"
   },
   "outputs": [],
   "source": [
    "train_dataset = tf.data.Dataset.from_tensor_slices((train_sentences, train_labels))\n",
    "test_dataset = tf.data.Dataset.from_tensor_slices((test_sentences, test_labels))"
   ]
  },
  {
   "cell_type": "code",
   "execution_count": null,
   "metadata": {
    "id": "iYBSDx-aza15"
   },
   "outputs": [],
   "source": [
    "BUFFER_SIZE = 10000\n",
    "BATCH_SIZE = 64\n",
    "train_dataset = train_dataset.shuffle(BUFFER_SIZE).batch(BATCH_SIZE).prefetch(tf.data.AUTOTUNE)\n",
    "test_dataset = test_dataset.batch(BATCH_SIZE).prefetch(tf.data.AUTOTUNE)"
   ]
  },
  {
   "cell_type": "code",
   "execution_count": null,
   "metadata": {
    "execution": {
     "iopub.execute_input": "2021-01-13T03:51:17.623697Z",
     "iopub.status.busy": "2021-01-13T03:51:17.623008Z",
     "iopub.status.idle": "2021-01-13T03:51:17.624931Z",
     "shell.execute_reply": "2021-01-13T03:51:17.625389Z"
    },
    "id": "ZWEAPFBOza15"
   },
   "outputs": [],
   "source": [
    "for example, label in train_dataset.take(1):\n",
    "    print('texts: ', example.numpy()[:3])\n",
    "    print()\n",
    "    print('labels: ', label.numpy()[:3], labels[label.numpy()[:3]])"
   ]
  },
  {
   "cell_type": "markdown",
   "metadata": {
    "id": "Haf49rcoza16"
   },
   "source": [
    "## Extra\n",
    "### Transfer learning: pre-trained text embeddings\n",
    "\n",
    "For this example we will use a **pre-trained text embedding model** from [TensorFlow Hub](https://tfhub.dev) called [google/nnlm-en-dim50/2](https://tfhub.dev/google/nnlm-en-dim50/2).\n",
    "\n",
    "[TensorFlow Hub](https://tfhub.dev/) has hundreds of trained, ready-to-deploy machine learning models.  You can find more [text embedding models](https://tfhub.dev/s?module-type=text-embedding) on TFHub.\n",
    "\n",
    "One way to represent the text is to convert sentences into embeddings vectors. We can use a pre-trained text embedding as the first layer, which will have three advantages:\n",
    "\n",
    "One way to represent the text is to convert sentences into embeddings vectors. We can use a pre-trained text embedding as the first layer, which will have three advantages:\n",
    "\n",
    "*   we don't have to worry about text preprocessing,\n",
    "*   we can benefit from transfer learning,\n",
    "*   the embedding has a fixed size, so it's simpler to process.\n",
    "\n",
    "For this example we will use a pre-trained text embedding model from TensorFlow Hub called google/nnlm-en-dim50/2.\n",
    "Let's first create a Keras layer that uses a TensorFlow Hub model to embed the sentences."
   ]
  },
  {
   "cell_type": "code",
   "execution_count": null,
   "metadata": {
    "id": "GwYXxtZzza16"
   },
   "outputs": [],
   "source": [
    "!pip install tensorflow-hub"
   ]
  },
  {
   "cell_type": "code",
   "execution_count": null,
   "metadata": {
    "id": "lEVBJ1G9za16"
   },
   "outputs": [],
   "source": [
    "import tensorflow_hub as hub\n",
    "\n",
    "embedding = \"https://tfhub.dev/google/nnlm-en-dim50/2\"\n",
    "hub_layer = hub.KerasLayer(embedding, input_shape=[], \n",
    "                           dtype=tf.string, trainable=True)\n"
   ]
  },
  {
   "cell_type": "code",
   "execution_count": null,
   "metadata": {
    "id": "Jf6SUMwhza16"
   },
   "outputs": [],
   "source": [
    "hub_layer(['The film was ok'])"
   ]
  },
  {
   "cell_type": "code",
   "execution_count": null,
   "metadata": {
    "id": "r_O_JeOeza16"
   },
   "outputs": [],
   "source": [
    "model = tf.keras.Sequential()\n",
    "model.add(hub_layer)\n",
    "model.add(tf.keras.layers.Dense(32, activation='relu'))\n",
    "model.add(tf.keras.layers.Dense(1, activation='softmax'))\n",
    "\n",
    "model.summary()"
   ]
  },
  {
   "cell_type": "code",
   "execution_count": null,
   "metadata": {
    "id": "hNlBKj1Zza16"
   },
   "outputs": [],
   "source": [
    "model.compile(loss='BinaryCrossentropy',\n",
    "              optimizer='adam',\n",
    "              metrics=['accuracy'])\n",
    "history = model.fit(train_dataset, epochs=1,\n",
    "                    validation_data=test_dataset, \n",
    "                    validation_steps=5)\n",
    "show_loss_accuracy_evolution(history)\n",
    "\n",
    "results = model.evaluate(test_dataset)\n",
    "\n",
    "print('Test Loss: {}'.format(results[0]))\n",
    "print('Test Accuracy: {}'.format(results[1]))"
   ]
  }
 ],
 "metadata": {
  "accelerator": "GPU",
  "colab": {
   "name": "text_classification_rnn.ipynb",
   "provenance": []
  },
  "kernelspec": {
   "display_name": "Python 3",
   "language": "python",
   "name": "python3"
  },
  "language_info": {
   "codemirror_mode": {
    "name": "ipython",
    "version": 3
   },
   "file_extension": ".py",
   "mimetype": "text/x-python",
   "name": "python",
   "nbconvert_exporter": "python",
   "pygments_lexer": "ipython3",
   "version": "3.8.5"
  },
  "widgets": {
   "application/vnd.jupyter.widget-state+json": {
    "09a5037d6b7f4267bef11d5c81943444": {
     "model_module": "@jupyter-widgets/base",
     "model_name": "LayoutModel",
     "state": {
      "_model_module": "@jupyter-widgets/base",
      "_model_module_version": "1.2.0",
      "_model_name": "LayoutModel",
      "_view_count": null,
      "_view_module": "@jupyter-widgets/base",
      "_view_module_version": "1.2.0",
      "_view_name": "LayoutView",
      "align_content": null,
      "align_items": null,
      "align_self": null,
      "border": null,
      "bottom": null,
      "display": null,
      "flex": null,
      "flex_flow": null,
      "grid_area": null,
      "grid_auto_columns": null,
      "grid_auto_flow": null,
      "grid_auto_rows": null,
      "grid_column": null,
      "grid_gap": null,
      "grid_row": null,
      "grid_template_areas": null,
      "grid_template_columns": null,
      "grid_template_rows": null,
      "height": null,
      "justify_content": null,
      "justify_items": null,
      "left": null,
      "margin": null,
      "max_height": null,
      "max_width": null,
      "min_height": null,
      "min_width": null,
      "object_fit": null,
      "object_position": null,
      "order": null,
      "overflow": null,
      "overflow_x": null,
      "overflow_y": null,
      "padding": null,
      "right": null,
      "top": null,
      "visibility": null,
      "width": null
     }
    },
    "15ad41875025485f9c2ba9f7c6b92498": {
     "model_module": "@jupyter-widgets/base",
     "model_name": "LayoutModel",
     "state": {
      "_model_module": "@jupyter-widgets/base",
      "_model_module_version": "1.2.0",
      "_model_name": "LayoutModel",
      "_view_count": null,
      "_view_module": "@jupyter-widgets/base",
      "_view_module_version": "1.2.0",
      "_view_name": "LayoutView",
      "align_content": null,
      "align_items": null,
      "align_self": null,
      "border": null,
      "bottom": null,
      "display": null,
      "flex": null,
      "flex_flow": null,
      "grid_area": null,
      "grid_auto_columns": null,
      "grid_auto_flow": null,
      "grid_auto_rows": null,
      "grid_column": null,
      "grid_gap": null,
      "grid_row": null,
      "grid_template_areas": null,
      "grid_template_columns": null,
      "grid_template_rows": null,
      "height": null,
      "justify_content": null,
      "justify_items": null,
      "left": null,
      "margin": null,
      "max_height": null,
      "max_width": null,
      "min_height": null,
      "min_width": null,
      "object_fit": null,
      "object_position": null,
      "order": null,
      "overflow": null,
      "overflow_x": null,
      "overflow_y": null,
      "padding": null,
      "right": null,
      "top": null,
      "visibility": null,
      "width": null
     }
    },
    "1e31e01a1e6f4adbb41346bac206b0e6": {
     "model_module": "@jupyter-widgets/controls",
     "model_name": "FloatProgressModel",
     "state": {
      "_dom_classes": [],
      "_model_module": "@jupyter-widgets/controls",
      "_model_module_version": "1.5.0",
      "_model_name": "FloatProgressModel",
      "_view_count": null,
      "_view_module": "@jupyter-widgets/controls",
      "_view_module_version": "1.5.0",
      "_view_name": "ProgressView",
      "bar_style": "info",
      "description": "",
      "description_tooltip": null,
      "layout": "IPY_MODEL_c7381148fdfe49fd949891c075a3c5f0",
      "max": 1,
      "min": 0,
      "orientation": "horizontal",
      "style": "IPY_MODEL_bb4d57e2e5e5416f87e2d015125d39fb",
      "value": 1
     }
    },
    "1fd08774574b44a1a2a36af1f643c942": {
     "model_module": "@jupyter-widgets/base",
     "model_name": "LayoutModel",
     "state": {
      "_model_module": "@jupyter-widgets/base",
      "_model_module_version": "1.2.0",
      "_model_name": "LayoutModel",
      "_view_count": null,
      "_view_module": "@jupyter-widgets/base",
      "_view_module_version": "1.2.0",
      "_view_name": "LayoutView",
      "align_content": null,
      "align_items": null,
      "align_self": null,
      "border": null,
      "bottom": null,
      "display": null,
      "flex": null,
      "flex_flow": null,
      "grid_area": null,
      "grid_auto_columns": null,
      "grid_auto_flow": null,
      "grid_auto_rows": null,
      "grid_column": null,
      "grid_gap": null,
      "grid_row": null,
      "grid_template_areas": null,
      "grid_template_columns": null,
      "grid_template_rows": null,
      "height": null,
      "justify_content": null,
      "justify_items": null,
      "left": null,
      "margin": null,
      "max_height": null,
      "max_width": null,
      "min_height": null,
      "min_width": null,
      "object_fit": null,
      "object_position": null,
      "order": null,
      "overflow": null,
      "overflow_x": null,
      "overflow_y": null,
      "padding": null,
      "right": null,
      "top": null,
      "visibility": null,
      "width": null
     }
    },
    "2b9b7d77220043d19155315091514533": {
     "model_module": "@jupyter-widgets/base",
     "model_name": "LayoutModel",
     "state": {
      "_model_module": "@jupyter-widgets/base",
      "_model_module_version": "1.2.0",
      "_model_name": "LayoutModel",
      "_view_count": null,
      "_view_module": "@jupyter-widgets/base",
      "_view_module_version": "1.2.0",
      "_view_name": "LayoutView",
      "align_content": null,
      "align_items": null,
      "align_self": null,
      "border": null,
      "bottom": null,
      "display": null,
      "flex": null,
      "flex_flow": null,
      "grid_area": null,
      "grid_auto_columns": null,
      "grid_auto_flow": null,
      "grid_auto_rows": null,
      "grid_column": null,
      "grid_gap": null,
      "grid_row": null,
      "grid_template_areas": null,
      "grid_template_columns": null,
      "grid_template_rows": null,
      "height": null,
      "justify_content": null,
      "justify_items": null,
      "left": null,
      "margin": null,
      "max_height": null,
      "max_width": null,
      "min_height": null,
      "min_width": null,
      "object_fit": null,
      "object_position": null,
      "order": null,
      "overflow": null,
      "overflow_x": null,
      "overflow_y": null,
      "padding": null,
      "right": null,
      "top": null,
      "visibility": null,
      "width": null
     }
    },
    "2cad34f44fc44a8399e81fed7bb0eccf": {
     "model_module": "@jupyter-widgets/controls",
     "model_name": "HTMLModel",
     "state": {
      "_dom_classes": [],
      "_model_module": "@jupyter-widgets/controls",
      "_model_module_version": "1.5.0",
      "_model_name": "HTMLModel",
      "_view_count": null,
      "_view_module": "@jupyter-widgets/controls",
      "_view_module_version": "1.5.0",
      "_view_name": "HTMLView",
      "description": "",
      "description_tooltip": null,
      "layout": "IPY_MODEL_49f2acb4d2ac49b2accd62aea479e700",
      "placeholder": "​",
      "style": "IPY_MODEL_40f498de8ffc4af38b118a090a36df08",
      "value": " 14233/38000 [00:00&lt;00:00, 142327.08 examples/s]"
     }
    },
    "30c80f7d3b384ed7a4ba525415a3ef5a": {
     "model_module": "@jupyter-widgets/controls",
     "model_name": "HBoxModel",
     "state": {
      "_dom_classes": [],
      "_model_module": "@jupyter-widgets/controls",
      "_model_module_version": "1.5.0",
      "_model_name": "HBoxModel",
      "_view_count": null,
      "_view_module": "@jupyter-widgets/controls",
      "_view_module_version": "1.5.0",
      "_view_name": "HBoxView",
      "box_style": "",
      "children": [
       "IPY_MODEL_793ff5f4662e474183a11a0e448521f3",
       "IPY_MODEL_8dddd6764bfe4a0c845407b69cd0be50"
      ],
      "layout": "IPY_MODEL_15ad41875025485f9c2ba9f7c6b92498"
     }
    },
    "31b9fd9168f14620b6f5955ea2af963b": {
     "model_module": "@jupyter-widgets/base",
     "model_name": "LayoutModel",
     "state": {
      "_model_module": "@jupyter-widgets/base",
      "_model_module_version": "1.2.0",
      "_model_name": "LayoutModel",
      "_view_count": null,
      "_view_module": "@jupyter-widgets/base",
      "_view_module_version": "1.2.0",
      "_view_name": "LayoutView",
      "align_content": null,
      "align_items": null,
      "align_self": null,
      "border": null,
      "bottom": null,
      "display": null,
      "flex": null,
      "flex_flow": null,
      "grid_area": null,
      "grid_auto_columns": null,
      "grid_auto_flow": null,
      "grid_auto_rows": null,
      "grid_column": null,
      "grid_gap": null,
      "grid_row": null,
      "grid_template_areas": null,
      "grid_template_columns": null,
      "grid_template_rows": null,
      "height": null,
      "justify_content": null,
      "justify_items": null,
      "left": null,
      "margin": null,
      "max_height": null,
      "max_width": null,
      "min_height": null,
      "min_width": null,
      "object_fit": null,
      "object_position": null,
      "order": null,
      "overflow": null,
      "overflow_x": null,
      "overflow_y": null,
      "padding": null,
      "right": null,
      "top": null,
      "visibility": null,
      "width": null
     }
    },
    "3b482c5205814ee5b6df6481c5616cf6": {
     "model_module": "@jupyter-widgets/controls",
     "model_name": "HBoxModel",
     "state": {
      "_dom_classes": [],
      "_model_module": "@jupyter-widgets/controls",
      "_model_module_version": "1.5.0",
      "_model_name": "HBoxModel",
      "_view_count": null,
      "_view_module": "@jupyter-widgets/controls",
      "_view_module_version": "1.5.0",
      "_view_name": "HBoxView",
      "box_style": "",
      "children": [
       "IPY_MODEL_b0c51846ce7d401bb67e9acf128ce52a",
       "IPY_MODEL_2cad34f44fc44a8399e81fed7bb0eccf"
      ],
      "layout": "IPY_MODEL_5cc571e53bfb45248a2cb850b627b809"
     }
    },
    "40f498de8ffc4af38b118a090a36df08": {
     "model_module": "@jupyter-widgets/controls",
     "model_name": "DescriptionStyleModel",
     "state": {
      "_model_module": "@jupyter-widgets/controls",
      "_model_module_version": "1.5.0",
      "_model_name": "DescriptionStyleModel",
      "_view_count": null,
      "_view_module": "@jupyter-widgets/base",
      "_view_module_version": "1.2.0",
      "_view_name": "StyleView",
      "description_width": ""
     }
    },
    "44224fa13a8048ab948f96e68e3e934c": {
     "model_module": "@jupyter-widgets/base",
     "model_name": "LayoutModel",
     "state": {
      "_model_module": "@jupyter-widgets/base",
      "_model_module_version": "1.2.0",
      "_model_name": "LayoutModel",
      "_view_count": null,
      "_view_module": "@jupyter-widgets/base",
      "_view_module_version": "1.2.0",
      "_view_name": "LayoutView",
      "align_content": null,
      "align_items": null,
      "align_self": null,
      "border": null,
      "bottom": null,
      "display": null,
      "flex": null,
      "flex_flow": null,
      "grid_area": null,
      "grid_auto_columns": null,
      "grid_auto_flow": null,
      "grid_auto_rows": null,
      "grid_column": null,
      "grid_gap": null,
      "grid_row": null,
      "grid_template_areas": null,
      "grid_template_columns": null,
      "grid_template_rows": null,
      "height": null,
      "justify_content": null,
      "justify_items": null,
      "left": null,
      "margin": null,
      "max_height": null,
      "max_width": null,
      "min_height": null,
      "min_width": null,
      "object_fit": null,
      "object_position": null,
      "order": null,
      "overflow": null,
      "overflow_x": null,
      "overflow_y": null,
      "padding": null,
      "right": null,
      "top": null,
      "visibility": null,
      "width": null
     }
    },
    "442c19d1fbad488ba88853c1ed2417fe": {
     "model_module": "@jupyter-widgets/base",
     "model_name": "LayoutModel",
     "state": {
      "_model_module": "@jupyter-widgets/base",
      "_model_module_version": "1.2.0",
      "_model_name": "LayoutModel",
      "_view_count": null,
      "_view_module": "@jupyter-widgets/base",
      "_view_module_version": "1.2.0",
      "_view_name": "LayoutView",
      "align_content": null,
      "align_items": null,
      "align_self": null,
      "border": null,
      "bottom": null,
      "display": null,
      "flex": null,
      "flex_flow": null,
      "grid_area": null,
      "grid_auto_columns": null,
      "grid_auto_flow": null,
      "grid_auto_rows": null,
      "grid_column": null,
      "grid_gap": null,
      "grid_row": null,
      "grid_template_areas": null,
      "grid_template_columns": null,
      "grid_template_rows": null,
      "height": null,
      "justify_content": null,
      "justify_items": null,
      "left": null,
      "margin": null,
      "max_height": null,
      "max_width": null,
      "min_height": null,
      "min_width": null,
      "object_fit": null,
      "object_position": null,
      "order": null,
      "overflow": null,
      "overflow_x": null,
      "overflow_y": null,
      "padding": null,
      "right": null,
      "top": null,
      "visibility": null,
      "width": null
     }
    },
    "445830624f4940a0a51cb737786e4d4b": {
     "model_module": "@jupyter-widgets/controls",
     "model_name": "HTMLModel",
     "state": {
      "_dom_classes": [],
      "_model_module": "@jupyter-widgets/controls",
      "_model_module_version": "1.5.0",
      "_model_name": "HTMLModel",
      "_view_count": null,
      "_view_module": "@jupyter-widgets/controls",
      "_view_module_version": "1.5.0",
      "_view_name": "HTMLView",
      "description": "",
      "description_tooltip": null,
      "layout": "IPY_MODEL_ab8317f9b67a4cf7a225cf5a6faba271",
      "placeholder": "​",
      "style": "IPY_MODEL_702a25b5f8c242d197cbfd286ed6ad60",
      "value": " 539237/560000 [00:02&lt;00:38, 539.26 examples/s]"
     }
    },
    "49f2acb4d2ac49b2accd62aea479e700": {
     "model_module": "@jupyter-widgets/base",
     "model_name": "LayoutModel",
     "state": {
      "_model_module": "@jupyter-widgets/base",
      "_model_module_version": "1.2.0",
      "_model_name": "LayoutModel",
      "_view_count": null,
      "_view_module": "@jupyter-widgets/base",
      "_view_module_version": "1.2.0",
      "_view_name": "LayoutView",
      "align_content": null,
      "align_items": null,
      "align_self": null,
      "border": null,
      "bottom": null,
      "display": null,
      "flex": null,
      "flex_flow": null,
      "grid_area": null,
      "grid_auto_columns": null,
      "grid_auto_flow": null,
      "grid_auto_rows": null,
      "grid_column": null,
      "grid_gap": null,
      "grid_row": null,
      "grid_template_areas": null,
      "grid_template_columns": null,
      "grid_template_rows": null,
      "height": null,
      "justify_content": null,
      "justify_items": null,
      "left": null,
      "margin": null,
      "max_height": null,
      "max_width": null,
      "min_height": null,
      "min_width": null,
      "object_fit": null,
      "object_position": null,
      "order": null,
      "overflow": null,
      "overflow_x": null,
      "overflow_y": null,
      "padding": null,
      "right": null,
      "top": null,
      "visibility": null,
      "width": null
     }
    },
    "4e4f337752c6432a898e5749a94d6375": {
     "model_module": "@jupyter-widgets/base",
     "model_name": "LayoutModel",
     "state": {
      "_model_module": "@jupyter-widgets/base",
      "_model_module_version": "1.2.0",
      "_model_name": "LayoutModel",
      "_view_count": null,
      "_view_module": "@jupyter-widgets/base",
      "_view_module_version": "1.2.0",
      "_view_name": "LayoutView",
      "align_content": null,
      "align_items": null,
      "align_self": null,
      "border": null,
      "bottom": null,
      "display": null,
      "flex": null,
      "flex_flow": null,
      "grid_area": null,
      "grid_auto_columns": null,
      "grid_auto_flow": null,
      "grid_auto_rows": null,
      "grid_column": null,
      "grid_gap": null,
      "grid_row": null,
      "grid_template_areas": null,
      "grid_template_columns": null,
      "grid_template_rows": null,
      "height": null,
      "justify_content": null,
      "justify_items": null,
      "left": null,
      "margin": null,
      "max_height": null,
      "max_width": null,
      "min_height": null,
      "min_width": null,
      "object_fit": null,
      "object_position": null,
      "order": null,
      "overflow": null,
      "overflow_x": null,
      "overflow_y": null,
      "padding": null,
      "right": null,
      "top": null,
      "visibility": null,
      "width": null
     }
    },
    "5cc571e53bfb45248a2cb850b627b809": {
     "model_module": "@jupyter-widgets/base",
     "model_name": "LayoutModel",
     "state": {
      "_model_module": "@jupyter-widgets/base",
      "_model_module_version": "1.2.0",
      "_model_name": "LayoutModel",
      "_view_count": null,
      "_view_module": "@jupyter-widgets/base",
      "_view_module_version": "1.2.0",
      "_view_name": "LayoutView",
      "align_content": null,
      "align_items": null,
      "align_self": null,
      "border": null,
      "bottom": null,
      "display": null,
      "flex": null,
      "flex_flow": null,
      "grid_area": null,
      "grid_auto_columns": null,
      "grid_auto_flow": null,
      "grid_auto_rows": null,
      "grid_column": null,
      "grid_gap": null,
      "grid_row": null,
      "grid_template_areas": null,
      "grid_template_columns": null,
      "grid_template_rows": null,
      "height": null,
      "justify_content": null,
      "justify_items": null,
      "left": null,
      "margin": null,
      "max_height": null,
      "max_width": null,
      "min_height": null,
      "min_width": null,
      "object_fit": null,
      "object_position": null,
      "order": null,
      "overflow": null,
      "overflow_x": null,
      "overflow_y": null,
      "padding": null,
      "right": null,
      "top": null,
      "visibility": null,
      "width": null
     }
    },
    "5d4f4ec65d8c44578e148b97dc9d0a76": {
     "model_module": "@jupyter-widgets/controls",
     "model_name": "HBoxModel",
     "state": {
      "_dom_classes": [],
      "_model_module": "@jupyter-widgets/controls",
      "_model_module_version": "1.5.0",
      "_model_name": "HBoxModel",
      "_view_count": null,
      "_view_module": "@jupyter-widgets/controls",
      "_view_module_version": "1.5.0",
      "_view_name": "HBoxView",
      "box_style": "",
      "children": [
       "IPY_MODEL_d8637c44c0244be2be06ed247a995295",
       "IPY_MODEL_e953e6006a344777a4f7685a9bc66678"
      ],
      "layout": "IPY_MODEL_c528c936fec741d48c0dc6eae2bca36a"
     }
    },
    "5d9ac0c4132d47baa8f6e6b00ffc8fce": {
     "model_module": "@jupyter-widgets/controls",
     "model_name": "FloatProgressModel",
     "state": {
      "_dom_classes": [],
      "_model_module": "@jupyter-widgets/controls",
      "_model_module_version": "1.5.0",
      "_model_name": "FloatProgressModel",
      "_view_count": null,
      "_view_module": "@jupyter-widgets/controls",
      "_view_module_version": "1.5.0",
      "_view_name": "ProgressView",
      "bar_style": "success",
      "description": "Dl Completed...: 100%",
      "description_tooltip": null,
      "layout": "IPY_MODEL_09a5037d6b7f4267bef11d5c81943444",
      "max": 1,
      "min": 0,
      "orientation": "horizontal",
      "style": "IPY_MODEL_a713205f143d4e37ac75380dd4ccf9dd",
      "value": 1
     }
    },
    "60bb67d6a3464d21bc89f38d0fc955f0": {
     "model_module": "@jupyter-widgets/base",
     "model_name": "LayoutModel",
     "state": {
      "_model_module": "@jupyter-widgets/base",
      "_model_module_version": "1.2.0",
      "_model_name": "LayoutModel",
      "_view_count": null,
      "_view_module": "@jupyter-widgets/base",
      "_view_module_version": "1.2.0",
      "_view_name": "LayoutView",
      "align_content": null,
      "align_items": null,
      "align_self": null,
      "border": null,
      "bottom": null,
      "display": null,
      "flex": null,
      "flex_flow": null,
      "grid_area": null,
      "grid_auto_columns": null,
      "grid_auto_flow": null,
      "grid_auto_rows": null,
      "grid_column": null,
      "grid_gap": null,
      "grid_row": null,
      "grid_template_areas": null,
      "grid_template_columns": null,
      "grid_template_rows": null,
      "height": null,
      "justify_content": null,
      "justify_items": null,
      "left": null,
      "margin": null,
      "max_height": null,
      "max_width": null,
      "min_height": null,
      "min_width": null,
      "object_fit": null,
      "object_position": null,
      "order": null,
      "overflow": null,
      "overflow_x": null,
      "overflow_y": null,
      "padding": null,
      "right": null,
      "top": null,
      "visibility": null,
      "width": null
     }
    },
    "6c19360285e542e9bdeb04f32204be0f": {
     "model_module": "@jupyter-widgets/controls",
     "model_name": "ProgressStyleModel",
     "state": {
      "_model_module": "@jupyter-widgets/controls",
      "_model_module_version": "1.5.0",
      "_model_name": "ProgressStyleModel",
      "_view_count": null,
      "_view_module": "@jupyter-widgets/base",
      "_view_module_version": "1.2.0",
      "_view_name": "StyleView",
      "bar_color": null,
      "description_width": "initial"
     }
    },
    "6ca709c36824411a919ef49f782c8d12": {
     "model_module": "@jupyter-widgets/base",
     "model_name": "LayoutModel",
     "state": {
      "_model_module": "@jupyter-widgets/base",
      "_model_module_version": "1.2.0",
      "_model_name": "LayoutModel",
      "_view_count": null,
      "_view_module": "@jupyter-widgets/base",
      "_view_module_version": "1.2.0",
      "_view_name": "LayoutView",
      "align_content": null,
      "align_items": null,
      "align_self": null,
      "border": null,
      "bottom": null,
      "display": null,
      "flex": null,
      "flex_flow": null,
      "grid_area": null,
      "grid_auto_columns": null,
      "grid_auto_flow": null,
      "grid_auto_rows": null,
      "grid_column": null,
      "grid_gap": null,
      "grid_row": null,
      "grid_template_areas": null,
      "grid_template_columns": null,
      "grid_template_rows": null,
      "height": null,
      "justify_content": null,
      "justify_items": null,
      "left": null,
      "margin": null,
      "max_height": null,
      "max_width": null,
      "min_height": null,
      "min_width": null,
      "object_fit": null,
      "object_position": null,
      "order": null,
      "overflow": null,
      "overflow_x": null,
      "overflow_y": null,
      "padding": null,
      "right": null,
      "top": null,
      "visibility": null,
      "width": null
     }
    },
    "6cf6d946856a435c840f6e19b84ed7d4": {
     "model_module": "@jupyter-widgets/controls",
     "model_name": "FloatProgressModel",
     "state": {
      "_dom_classes": [],
      "_model_module": "@jupyter-widgets/controls",
      "_model_module_version": "1.5.0",
      "_model_name": "FloatProgressModel",
      "_view_count": null,
      "_view_module": "@jupyter-widgets/controls",
      "_view_module_version": "1.5.0",
      "_view_name": "ProgressView",
      "bar_style": "danger",
      "description": " 96%",
      "description_tooltip": null,
      "layout": "IPY_MODEL_9e2c70ea2ca245998ae563f83b440d8a",
      "max": 560000,
      "min": 0,
      "orientation": "horizontal",
      "style": "IPY_MODEL_6c19360285e542e9bdeb04f32204be0f",
      "value": 539237
     }
    },
    "702a25b5f8c242d197cbfd286ed6ad60": {
     "model_module": "@jupyter-widgets/controls",
     "model_name": "DescriptionStyleModel",
     "state": {
      "_model_module": "@jupyter-widgets/controls",
      "_model_module_version": "1.5.0",
      "_model_name": "DescriptionStyleModel",
      "_view_count": null,
      "_view_module": "@jupyter-widgets/base",
      "_view_module_version": "1.2.0",
      "_view_name": "StyleView",
      "description_width": ""
     }
    },
    "726e01a161694a7386a3e83ee26b2650": {
     "model_module": "@jupyter-widgets/controls",
     "model_name": "HBoxModel",
     "state": {
      "_dom_classes": [],
      "_model_module": "@jupyter-widgets/controls",
      "_model_module_version": "1.5.0",
      "_model_name": "HBoxModel",
      "_view_count": null,
      "_view_module": "@jupyter-widgets/controls",
      "_view_module_version": "1.5.0",
      "_view_name": "HBoxView",
      "box_style": "",
      "children": [
       "IPY_MODEL_5d9ac0c4132d47baa8f6e6b00ffc8fce",
       "IPY_MODEL_e92a49567abc4cfe833b50ae6d7cef82"
      ],
      "layout": "IPY_MODEL_442c19d1fbad488ba88853c1ed2417fe"
     }
    },
    "793ff5f4662e474183a11a0e448521f3": {
     "model_module": "@jupyter-widgets/controls",
     "model_name": "FloatProgressModel",
     "state": {
      "_dom_classes": [],
      "_model_module": "@jupyter-widgets/controls",
      "_model_module_version": "1.5.0",
      "_model_name": "FloatProgressModel",
      "_view_count": null,
      "_view_module": "@jupyter-widgets/controls",
      "_view_module_version": "1.5.0",
      "_view_name": "ProgressView",
      "bar_style": "success",
      "description": "Dl Size...: 100%",
      "description_tooltip": null,
      "layout": "IPY_MODEL_1fd08774574b44a1a2a36af1f643c942",
      "max": 1,
      "min": 0,
      "orientation": "horizontal",
      "style": "IPY_MODEL_a93bb57243754ab3b8a9c3cb8a78211c",
      "value": 1
     }
    },
    "835e764670d94003a44493fc0be19633": {
     "model_module": "@jupyter-widgets/controls",
     "model_name": "ProgressStyleModel",
     "state": {
      "_model_module": "@jupyter-widgets/controls",
      "_model_module_version": "1.5.0",
      "_model_name": "ProgressStyleModel",
      "_view_count": null,
      "_view_module": "@jupyter-widgets/base",
      "_view_module_version": "1.2.0",
      "_view_name": "StyleView",
      "bar_color": null,
      "description_width": "initial"
     }
    },
    "8a2adb706b724582851f31b3f4fcc73b": {
     "model_module": "@jupyter-widgets/controls",
     "model_name": "ProgressStyleModel",
     "state": {
      "_model_module": "@jupyter-widgets/controls",
      "_model_module_version": "1.5.0",
      "_model_name": "ProgressStyleModel",
      "_view_count": null,
      "_view_module": "@jupyter-widgets/base",
      "_view_module_version": "1.2.0",
      "_view_name": "StyleView",
      "bar_color": null,
      "description_width": "initial"
     }
    },
    "8b78a2eb022945dd8c73c000b96fb6bc": {
     "model_module": "@jupyter-widgets/base",
     "model_name": "LayoutModel",
     "state": {
      "_model_module": "@jupyter-widgets/base",
      "_model_module_version": "1.2.0",
      "_model_name": "LayoutModel",
      "_view_count": null,
      "_view_module": "@jupyter-widgets/base",
      "_view_module_version": "1.2.0",
      "_view_name": "LayoutView",
      "align_content": null,
      "align_items": null,
      "align_self": null,
      "border": null,
      "bottom": null,
      "display": null,
      "flex": null,
      "flex_flow": null,
      "grid_area": null,
      "grid_auto_columns": null,
      "grid_auto_flow": null,
      "grid_auto_rows": null,
      "grid_column": null,
      "grid_gap": null,
      "grid_row": null,
      "grid_template_areas": null,
      "grid_template_columns": null,
      "grid_template_rows": null,
      "height": null,
      "justify_content": null,
      "justify_items": null,
      "left": null,
      "margin": null,
      "max_height": null,
      "max_width": null,
      "min_height": null,
      "min_width": null,
      "object_fit": null,
      "object_position": null,
      "order": null,
      "overflow": null,
      "overflow_x": null,
      "overflow_y": null,
      "padding": null,
      "right": null,
      "top": null,
      "visibility": null,
      "width": null
     }
    },
    "8c4eb2eeb4aa48e488e4b9abdfc9ad08": {
     "model_module": "@jupyter-widgets/controls",
     "model_name": "DescriptionStyleModel",
     "state": {
      "_model_module": "@jupyter-widgets/controls",
      "_model_module_version": "1.5.0",
      "_model_name": "DescriptionStyleModel",
      "_view_count": null,
      "_view_module": "@jupyter-widgets/base",
      "_view_module_version": "1.2.0",
      "_view_name": "StyleView",
      "description_width": ""
     }
    },
    "8dddd6764bfe4a0c845407b69cd0be50": {
     "model_module": "@jupyter-widgets/controls",
     "model_name": "HTMLModel",
     "state": {
      "_dom_classes": [],
      "_model_module": "@jupyter-widgets/controls",
      "_model_module_version": "1.5.0",
      "_model_name": "HTMLModel",
      "_view_count": null,
      "_view_module": "@jupyter-widgets/controls",
      "_view_module_version": "1.5.0",
      "_view_name": "HTMLView",
      "description": "",
      "description_tooltip": null,
      "layout": "IPY_MODEL_fe91b6a4f32247f2aefd924544268b33",
      "placeholder": "​",
      "style": "IPY_MODEL_e14f76d510a74a9fbdbed89f76786f93",
      "value": " 158/158 [00:11&lt;00:00, 14.08 MiB/s]"
     }
    },
    "9026e0f46b1c429a84b4ff00a4cd07d5": {
     "model_module": "@jupyter-widgets/controls",
     "model_name": "HBoxModel",
     "state": {
      "_dom_classes": [],
      "_model_module": "@jupyter-widgets/controls",
      "_model_module_version": "1.5.0",
      "_model_name": "HBoxModel",
      "_view_count": null,
      "_view_module": "@jupyter-widgets/controls",
      "_view_module_version": "1.5.0",
      "_view_name": "HBoxView",
      "box_style": "",
      "children": [
       "IPY_MODEL_1e31e01a1e6f4adbb41346bac206b0e6",
       "IPY_MODEL_dd12490030ad4bb381d76811f95bef5e"
      ],
      "layout": "IPY_MODEL_f2799ba998e145bf8dcf160595729e2e"
     }
    },
    "923a951e7cb3460a90db6b82e9046195": {
     "model_module": "@jupyter-widgets/controls",
     "model_name": "FloatProgressModel",
     "state": {
      "_dom_classes": [],
      "_model_module": "@jupyter-widgets/controls",
      "_model_module_version": "1.5.0",
      "_model_name": "FloatProgressModel",
      "_view_count": null,
      "_view_module": "@jupyter-widgets/controls",
      "_view_module_version": "1.5.0",
      "_view_name": "ProgressView",
      "bar_style": "success",
      "description": "Extraction completed...: 100%",
      "description_tooltip": null,
      "layout": "IPY_MODEL_60bb67d6a3464d21bc89f38d0fc955f0",
      "max": 1,
      "min": 0,
      "orientation": "horizontal",
      "style": "IPY_MODEL_8a2adb706b724582851f31b3f4fcc73b",
      "value": 1
     }
    },
    "9e2c70ea2ca245998ae563f83b440d8a": {
     "model_module": "@jupyter-widgets/base",
     "model_name": "LayoutModel",
     "state": {
      "_model_module": "@jupyter-widgets/base",
      "_model_module_version": "1.2.0",
      "_model_name": "LayoutModel",
      "_view_count": null,
      "_view_module": "@jupyter-widgets/base",
      "_view_module_version": "1.2.0",
      "_view_name": "LayoutView",
      "align_content": null,
      "align_items": null,
      "align_self": null,
      "border": null,
      "bottom": null,
      "display": null,
      "flex": null,
      "flex_flow": null,
      "grid_area": null,
      "grid_auto_columns": null,
      "grid_auto_flow": null,
      "grid_auto_rows": null,
      "grid_column": null,
      "grid_gap": null,
      "grid_row": null,
      "grid_template_areas": null,
      "grid_template_columns": null,
      "grid_template_rows": null,
      "height": null,
      "justify_content": null,
      "justify_items": null,
      "left": null,
      "margin": null,
      "max_height": null,
      "max_width": null,
      "min_height": null,
      "min_width": null,
      "object_fit": null,
      "object_position": null,
      "order": null,
      "overflow": null,
      "overflow_x": null,
      "overflow_y": null,
      "padding": null,
      "right": null,
      "top": null,
      "visibility": null,
      "width": null
     }
    },
    "a0fbaf8346a242c1a98b67c799dad0c3": {
     "model_module": "@jupyter-widgets/controls",
     "model_name": "ProgressStyleModel",
     "state": {
      "_model_module": "@jupyter-widgets/controls",
      "_model_module_version": "1.5.0",
      "_model_name": "ProgressStyleModel",
      "_view_count": null,
      "_view_module": "@jupyter-widgets/base",
      "_view_module_version": "1.2.0",
      "_view_name": "StyleView",
      "bar_color": null,
      "description_width": "initial"
     }
    },
    "a713205f143d4e37ac75380dd4ccf9dd": {
     "model_module": "@jupyter-widgets/controls",
     "model_name": "ProgressStyleModel",
     "state": {
      "_model_module": "@jupyter-widgets/controls",
      "_model_module_version": "1.5.0",
      "_model_name": "ProgressStyleModel",
      "_view_count": null,
      "_view_module": "@jupyter-widgets/base",
      "_view_module_version": "1.2.0",
      "_view_name": "StyleView",
      "bar_color": null,
      "description_width": "initial"
     }
    },
    "a93bb57243754ab3b8a9c3cb8a78211c": {
     "model_module": "@jupyter-widgets/controls",
     "model_name": "ProgressStyleModel",
     "state": {
      "_model_module": "@jupyter-widgets/controls",
      "_model_module_version": "1.5.0",
      "_model_name": "ProgressStyleModel",
      "_view_count": null,
      "_view_module": "@jupyter-widgets/base",
      "_view_module_version": "1.2.0",
      "_view_name": "StyleView",
      "bar_color": null,
      "description_width": "initial"
     }
    },
    "ab8317f9b67a4cf7a225cf5a6faba271": {
     "model_module": "@jupyter-widgets/base",
     "model_name": "LayoutModel",
     "state": {
      "_model_module": "@jupyter-widgets/base",
      "_model_module_version": "1.2.0",
      "_model_name": "LayoutModel",
      "_view_count": null,
      "_view_module": "@jupyter-widgets/base",
      "_view_module_version": "1.2.0",
      "_view_name": "LayoutView",
      "align_content": null,
      "align_items": null,
      "align_self": null,
      "border": null,
      "bottom": null,
      "display": null,
      "flex": null,
      "flex_flow": null,
      "grid_area": null,
      "grid_auto_columns": null,
      "grid_auto_flow": null,
      "grid_auto_rows": null,
      "grid_column": null,
      "grid_gap": null,
      "grid_row": null,
      "grid_template_areas": null,
      "grid_template_columns": null,
      "grid_template_rows": null,
      "height": null,
      "justify_content": null,
      "justify_items": null,
      "left": null,
      "margin": null,
      "max_height": null,
      "max_width": null,
      "min_height": null,
      "min_width": null,
      "object_fit": null,
      "object_position": null,
      "order": null,
      "overflow": null,
      "overflow_x": null,
      "overflow_y": null,
      "padding": null,
      "right": null,
      "top": null,
      "visibility": null,
      "width": null
     }
    },
    "b0096931873d4b55b6b1456413f30920": {
     "model_module": "@jupyter-widgets/controls",
     "model_name": "HBoxModel",
     "state": {
      "_dom_classes": [],
      "_model_module": "@jupyter-widgets/controls",
      "_model_module_version": "1.5.0",
      "_model_name": "HBoxModel",
      "_view_count": null,
      "_view_module": "@jupyter-widgets/controls",
      "_view_module_version": "1.5.0",
      "_view_name": "HBoxView",
      "box_style": "",
      "children": [
       "IPY_MODEL_6cf6d946856a435c840f6e19b84ed7d4",
       "IPY_MODEL_445830624f4940a0a51cb737786e4d4b"
      ],
      "layout": "IPY_MODEL_c1bc796e2fd749108fb946929f36eb39"
     }
    },
    "b0c51846ce7d401bb67e9acf128ce52a": {
     "model_module": "@jupyter-widgets/controls",
     "model_name": "FloatProgressModel",
     "state": {
      "_dom_classes": [],
      "_model_module": "@jupyter-widgets/controls",
      "_model_module_version": "1.5.0",
      "_model_name": "FloatProgressModel",
      "_view_count": null,
      "_view_module": "@jupyter-widgets/controls",
      "_view_module_version": "1.5.0",
      "_view_name": "ProgressView",
      "bar_style": "danger",
      "description": " 37%",
      "description_tooltip": null,
      "layout": "IPY_MODEL_fb16bdb84f0a4f1a9feeb53dac6de3d3",
      "max": 38000,
      "min": 0,
      "orientation": "horizontal",
      "style": "IPY_MODEL_a0fbaf8346a242c1a98b67c799dad0c3",
      "value": 14233
     }
    },
    "bb4d57e2e5e5416f87e2d015125d39fb": {
     "model_module": "@jupyter-widgets/controls",
     "model_name": "ProgressStyleModel",
     "state": {
      "_model_module": "@jupyter-widgets/controls",
      "_model_module_version": "1.5.0",
      "_model_name": "ProgressStyleModel",
      "_view_count": null,
      "_view_module": "@jupyter-widgets/base",
      "_view_module_version": "1.2.0",
      "_view_name": "StyleView",
      "bar_color": null,
      "description_width": "initial"
     }
    },
    "bd81e2f1a0e6468ba0587d29496e727b": {
     "model_module": "@jupyter-widgets/controls",
     "model_name": "DescriptionStyleModel",
     "state": {
      "_model_module": "@jupyter-widgets/controls",
      "_model_module_version": "1.5.0",
      "_model_name": "DescriptionStyleModel",
      "_view_count": null,
      "_view_module": "@jupyter-widgets/base",
      "_view_module_version": "1.2.0",
      "_view_name": "StyleView",
      "description_width": ""
     }
    },
    "c1bc796e2fd749108fb946929f36eb39": {
     "model_module": "@jupyter-widgets/base",
     "model_name": "LayoutModel",
     "state": {
      "_model_module": "@jupyter-widgets/base",
      "_model_module_version": "1.2.0",
      "_model_name": "LayoutModel",
      "_view_count": null,
      "_view_module": "@jupyter-widgets/base",
      "_view_module_version": "1.2.0",
      "_view_name": "LayoutView",
      "align_content": null,
      "align_items": null,
      "align_self": null,
      "border": null,
      "bottom": null,
      "display": null,
      "flex": null,
      "flex_flow": null,
      "grid_area": null,
      "grid_auto_columns": null,
      "grid_auto_flow": null,
      "grid_auto_rows": null,
      "grid_column": null,
      "grid_gap": null,
      "grid_row": null,
      "grid_template_areas": null,
      "grid_template_columns": null,
      "grid_template_rows": null,
      "height": null,
      "justify_content": null,
      "justify_items": null,
      "left": null,
      "margin": null,
      "max_height": null,
      "max_width": null,
      "min_height": null,
      "min_width": null,
      "object_fit": null,
      "object_position": null,
      "order": null,
      "overflow": null,
      "overflow_x": null,
      "overflow_y": null,
      "padding": null,
      "right": null,
      "top": null,
      "visibility": null,
      "width": null
     }
    },
    "c528c936fec741d48c0dc6eae2bca36a": {
     "model_module": "@jupyter-widgets/base",
     "model_name": "LayoutModel",
     "state": {
      "_model_module": "@jupyter-widgets/base",
      "_model_module_version": "1.2.0",
      "_model_name": "LayoutModel",
      "_view_count": null,
      "_view_module": "@jupyter-widgets/base",
      "_view_module_version": "1.2.0",
      "_view_name": "LayoutView",
      "align_content": null,
      "align_items": null,
      "align_self": null,
      "border": null,
      "bottom": null,
      "display": null,
      "flex": null,
      "flex_flow": null,
      "grid_area": null,
      "grid_auto_columns": null,
      "grid_auto_flow": null,
      "grid_auto_rows": null,
      "grid_column": null,
      "grid_gap": null,
      "grid_row": null,
      "grid_template_areas": null,
      "grid_template_columns": null,
      "grid_template_rows": null,
      "height": null,
      "justify_content": null,
      "justify_items": null,
      "left": null,
      "margin": null,
      "max_height": null,
      "max_width": null,
      "min_height": null,
      "min_width": null,
      "object_fit": null,
      "object_position": null,
      "order": null,
      "overflow": null,
      "overflow_x": null,
      "overflow_y": null,
      "padding": null,
      "right": null,
      "top": null,
      "visibility": null,
      "width": null
     }
    },
    "c7381148fdfe49fd949891c075a3c5f0": {
     "model_module": "@jupyter-widgets/base",
     "model_name": "LayoutModel",
     "state": {
      "_model_module": "@jupyter-widgets/base",
      "_model_module_version": "1.2.0",
      "_model_name": "LayoutModel",
      "_view_count": null,
      "_view_module": "@jupyter-widgets/base",
      "_view_module_version": "1.2.0",
      "_view_name": "LayoutView",
      "align_content": null,
      "align_items": null,
      "align_self": null,
      "border": null,
      "bottom": null,
      "display": null,
      "flex": null,
      "flex_flow": null,
      "grid_area": null,
      "grid_auto_columns": null,
      "grid_auto_flow": null,
      "grid_auto_rows": null,
      "grid_column": null,
      "grid_gap": null,
      "grid_row": null,
      "grid_template_areas": null,
      "grid_template_columns": null,
      "grid_template_rows": null,
      "height": null,
      "justify_content": null,
      "justify_items": null,
      "left": null,
      "margin": null,
      "max_height": null,
      "max_width": null,
      "min_height": null,
      "min_width": null,
      "object_fit": null,
      "object_position": null,
      "order": null,
      "overflow": null,
      "overflow_x": null,
      "overflow_y": null,
      "padding": null,
      "right": null,
      "top": null,
      "visibility": null,
      "width": null
     }
    },
    "cab8fd2390eb4481824b2a29bfca8229": {
     "model_module": "@jupyter-widgets/controls",
     "model_name": "DescriptionStyleModel",
     "state": {
      "_model_module": "@jupyter-widgets/controls",
      "_model_module_version": "1.5.0",
      "_model_name": "DescriptionStyleModel",
      "_view_count": null,
      "_view_module": "@jupyter-widgets/base",
      "_view_module_version": "1.2.0",
      "_view_name": "StyleView",
      "description_width": ""
     }
    },
    "d0d66a43fdf14a51bcddd90fe5bf651c": {
     "model_module": "@jupyter-widgets/controls",
     "model_name": "DescriptionStyleModel",
     "state": {
      "_model_module": "@jupyter-widgets/controls",
      "_model_module_version": "1.5.0",
      "_model_name": "DescriptionStyleModel",
      "_view_count": null,
      "_view_module": "@jupyter-widgets/base",
      "_view_module_version": "1.2.0",
      "_view_name": "StyleView",
      "description_width": ""
     }
    },
    "d8637c44c0244be2be06ed247a995295": {
     "model_module": "@jupyter-widgets/controls",
     "model_name": "FloatProgressModel",
     "state": {
      "_dom_classes": [],
      "_model_module": "@jupyter-widgets/controls",
      "_model_module_version": "1.5.0",
      "_model_name": "FloatProgressModel",
      "_view_count": null,
      "_view_module": "@jupyter-widgets/controls",
      "_view_module_version": "1.5.0",
      "_view_name": "ProgressView",
      "bar_style": "info",
      "description": "",
      "description_tooltip": null,
      "layout": "IPY_MODEL_2b9b7d77220043d19155315091514533",
      "max": 1,
      "min": 0,
      "orientation": "horizontal",
      "style": "IPY_MODEL_835e764670d94003a44493fc0be19633",
      "value": 1
     }
    },
    "dd12490030ad4bb381d76811f95bef5e": {
     "model_module": "@jupyter-widgets/controls",
     "model_name": "HTMLModel",
     "state": {
      "_dom_classes": [],
      "_model_module": "@jupyter-widgets/controls",
      "_model_module_version": "1.5.0",
      "_model_name": "HTMLModel",
      "_view_count": null,
      "_view_module": "@jupyter-widgets/controls",
      "_view_module_version": "1.5.0",
      "_view_name": "HTMLView",
      "description": "",
      "description_tooltip": null,
      "layout": "IPY_MODEL_44224fa13a8048ab948f96e68e3e934c",
      "placeholder": "​",
      "style": "IPY_MODEL_cab8fd2390eb4481824b2a29bfca8229",
      "value": " 38000/0 [00:05&lt;00:00, 7675.71 examples/s]"
     }
    },
    "df3a76b70f3f4aa19cf63c9f628b9f53": {
     "model_module": "@jupyter-widgets/controls",
     "model_name": "HBoxModel",
     "state": {
      "_dom_classes": [],
      "_model_module": "@jupyter-widgets/controls",
      "_model_module_version": "1.5.0",
      "_model_name": "HBoxModel",
      "_view_count": null,
      "_view_module": "@jupyter-widgets/controls",
      "_view_module_version": "1.5.0",
      "_view_name": "HBoxView",
      "box_style": "",
      "children": [
       "IPY_MODEL_923a951e7cb3460a90db6b82e9046195",
       "IPY_MODEL_ec3fe2b406254fb4a74ae16d4e77c30c"
      ],
      "layout": "IPY_MODEL_31b9fd9168f14620b6f5955ea2af963b"
     }
    },
    "e14f76d510a74a9fbdbed89f76786f93": {
     "model_module": "@jupyter-widgets/controls",
     "model_name": "DescriptionStyleModel",
     "state": {
      "_model_module": "@jupyter-widgets/controls",
      "_model_module_version": "1.5.0",
      "_model_name": "DescriptionStyleModel",
      "_view_count": null,
      "_view_module": "@jupyter-widgets/base",
      "_view_module_version": "1.2.0",
      "_view_name": "StyleView",
      "description_width": ""
     }
    },
    "e92a49567abc4cfe833b50ae6d7cef82": {
     "model_module": "@jupyter-widgets/controls",
     "model_name": "HTMLModel",
     "state": {
      "_dom_classes": [],
      "_model_module": "@jupyter-widgets/controls",
      "_model_module_version": "1.5.0",
      "_model_name": "HTMLModel",
      "_view_count": null,
      "_view_module": "@jupyter-widgets/controls",
      "_view_module_version": "1.5.0",
      "_view_name": "HTMLView",
      "description": "",
      "description_tooltip": null,
      "layout": "IPY_MODEL_6ca709c36824411a919ef49f782c8d12",
      "placeholder": "​",
      "style": "IPY_MODEL_d0d66a43fdf14a51bcddd90fe5bf651c",
      "value": " 1/1 [00:11&lt;00:00, 11.25s/ url]"
     }
    },
    "e953e6006a344777a4f7685a9bc66678": {
     "model_module": "@jupyter-widgets/controls",
     "model_name": "HTMLModel",
     "state": {
      "_dom_classes": [],
      "_model_module": "@jupyter-widgets/controls",
      "_model_module_version": "1.5.0",
      "_model_name": "HTMLModel",
      "_view_count": null,
      "_view_module": "@jupyter-widgets/controls",
      "_view_module_version": "1.5.0",
      "_view_name": "HTMLView",
      "description": "",
      "description_tooltip": null,
      "layout": "IPY_MODEL_4e4f337752c6432a898e5749a94d6375",
      "placeholder": "​",
      "style": "IPY_MODEL_bd81e2f1a0e6468ba0587d29496e727b",
      "value": " 560000/0 [01:15&lt;00:00, 7491.08 examples/s]"
     }
    },
    "ec3fe2b406254fb4a74ae16d4e77c30c": {
     "model_module": "@jupyter-widgets/controls",
     "model_name": "HTMLModel",
     "state": {
      "_dom_classes": [],
      "_model_module": "@jupyter-widgets/controls",
      "_model_module_version": "1.5.0",
      "_model_name": "HTMLModel",
      "_view_count": null,
      "_view_module": "@jupyter-widgets/controls",
      "_view_module_version": "1.5.0",
      "_view_name": "HTMLView",
      "description": "",
      "description_tooltip": null,
      "layout": "IPY_MODEL_8b78a2eb022945dd8c73c000b96fb6bc",
      "placeholder": "​",
      "style": "IPY_MODEL_8c4eb2eeb4aa48e488e4b9abdfc9ad08",
      "value": " 1/1 [00:11&lt;00:00, 11.19s/ file]"
     }
    },
    "f2799ba998e145bf8dcf160595729e2e": {
     "model_module": "@jupyter-widgets/base",
     "model_name": "LayoutModel",
     "state": {
      "_model_module": "@jupyter-widgets/base",
      "_model_module_version": "1.2.0",
      "_model_name": "LayoutModel",
      "_view_count": null,
      "_view_module": "@jupyter-widgets/base",
      "_view_module_version": "1.2.0",
      "_view_name": "LayoutView",
      "align_content": null,
      "align_items": null,
      "align_self": null,
      "border": null,
      "bottom": null,
      "display": null,
      "flex": null,
      "flex_flow": null,
      "grid_area": null,
      "grid_auto_columns": null,
      "grid_auto_flow": null,
      "grid_auto_rows": null,
      "grid_column": null,
      "grid_gap": null,
      "grid_row": null,
      "grid_template_areas": null,
      "grid_template_columns": null,
      "grid_template_rows": null,
      "height": null,
      "justify_content": null,
      "justify_items": null,
      "left": null,
      "margin": null,
      "max_height": null,
      "max_width": null,
      "min_height": null,
      "min_width": null,
      "object_fit": null,
      "object_position": null,
      "order": null,
      "overflow": null,
      "overflow_x": null,
      "overflow_y": null,
      "padding": null,
      "right": null,
      "top": null,
      "visibility": null,
      "width": null
     }
    },
    "fb16bdb84f0a4f1a9feeb53dac6de3d3": {
     "model_module": "@jupyter-widgets/base",
     "model_name": "LayoutModel",
     "state": {
      "_model_module": "@jupyter-widgets/base",
      "_model_module_version": "1.2.0",
      "_model_name": "LayoutModel",
      "_view_count": null,
      "_view_module": "@jupyter-widgets/base",
      "_view_module_version": "1.2.0",
      "_view_name": "LayoutView",
      "align_content": null,
      "align_items": null,
      "align_self": null,
      "border": null,
      "bottom": null,
      "display": null,
      "flex": null,
      "flex_flow": null,
      "grid_area": null,
      "grid_auto_columns": null,
      "grid_auto_flow": null,
      "grid_auto_rows": null,
      "grid_column": null,
      "grid_gap": null,
      "grid_row": null,
      "grid_template_areas": null,
      "grid_template_columns": null,
      "grid_template_rows": null,
      "height": null,
      "justify_content": null,
      "justify_items": null,
      "left": null,
      "margin": null,
      "max_height": null,
      "max_width": null,
      "min_height": null,
      "min_width": null,
      "object_fit": null,
      "object_position": null,
      "order": null,
      "overflow": null,
      "overflow_x": null,
      "overflow_y": null,
      "padding": null,
      "right": null,
      "top": null,
      "visibility": null,
      "width": null
     }
    },
    "fe91b6a4f32247f2aefd924544268b33": {
     "model_module": "@jupyter-widgets/base",
     "model_name": "LayoutModel",
     "state": {
      "_model_module": "@jupyter-widgets/base",
      "_model_module_version": "1.2.0",
      "_model_name": "LayoutModel",
      "_view_count": null,
      "_view_module": "@jupyter-widgets/base",
      "_view_module_version": "1.2.0",
      "_view_name": "LayoutView",
      "align_content": null,
      "align_items": null,
      "align_self": null,
      "border": null,
      "bottom": null,
      "display": null,
      "flex": null,
      "flex_flow": null,
      "grid_area": null,
      "grid_auto_columns": null,
      "grid_auto_flow": null,
      "grid_auto_rows": null,
      "grid_column": null,
      "grid_gap": null,
      "grid_row": null,
      "grid_template_areas": null,
      "grid_template_columns": null,
      "grid_template_rows": null,
      "height": null,
      "justify_content": null,
      "justify_items": null,
      "left": null,
      "margin": null,
      "max_height": null,
      "max_width": null,
      "min_height": null,
      "min_width": null,
      "object_fit": null,
      "object_position": null,
      "order": null,
      "overflow": null,
      "overflow_x": null,
      "overflow_y": null,
      "padding": null,
      "right": null,
      "top": null,
      "visibility": null,
      "width": null
     }
    }
   }
  }
 },
 "nbformat": 4,
 "nbformat_minor": 1
}
