{
 "cells": [
  {
   "cell_type": "markdown",
   "metadata": {},
   "source": [
    "# Procesamiento de grafos en Spark con GraphFrames"
   ]
  },
  {
   "cell_type": "markdown",
   "metadata": {},
   "source": [
    "Recordemos que GraphFrames no es parte de Spark. Es un paquete externo que permite procesar grafos usando Spark DataFrames en lugar de los RDD menos cómodos, como hacía el antiguo módulo GraphX que sí es parte de Spark. Se espera que GraphFrames se incorpore oficialmente a Spark en el futuro cercano.\n",
    "\n",
    "Mientras tanto, primero debemos instalar el paquete GraphFrames para python, que es solo un wrapper de Python para el código Scala que contiene la implementación realmente paralela y distribuida. Podemos instalar el paquete de Python a través de `pip3 install`. Para la implementación de Scala, tenemos que indicar el paquete GraphFrames como \"Spark package\" que queremos usar en la opción de configuración `--packages` antes de crear el objeto SparkSession. Esto descargará la implementación GraphFrames para Scala sobre la marcha. El paquete de Python se basa por completo en dicho código Scala y generará un error si no se encuentra. Para que los notebooks de JupyterLab ya lleven esto incorporado, se añadió la propiedad de `spark.jars.packages` al crear el cluster en Dataproc. "
   ]
  },
  {
   "cell_type": "markdown",
   "metadata": {},
   "source": [
    "### Descargamos el fichero csv de vuelos y lo subimos a HDFS"
   ]
  },
  {
   "cell_type": "code",
   "execution_count": null,
   "metadata": {},
   "outputs": [],
   "source": [
    "!wget https://raw.githubusercontent.com/olbapjose/xapi-clojure/master/flights_jan08.csv\n",
    "!hdfs dfs -copyFromLocal flights_jan08.csv /tmp"
   ]
  },
  {
   "cell_type": "markdown",
   "metadata": {},
   "source": [
    "### Descargamos el paquete graphframes de python con el comando pip habitual de Python"
   ]
  },
  {
   "cell_type": "code",
   "execution_count": null,
   "metadata": {},
   "outputs": [],
   "source": [
    "!pip install graphframes-dev"
   ]
  },
  {
   "cell_type": "code",
   "execution_count": null,
   "metadata": {
    "scrolled": false
   },
   "outputs": [],
   "source": [
    "from pyspark.sql import functions as F\n",
    "from graphframes import GraphFrame\n",
    "\n",
    "flightsDF = spark.read.option(\"header\", \"true\")\\\n",
    "                      .option(\"inferSchema\", \"true\")\\\n",
    "                      .csv(\"/tmp/flights_jan08.csv\")\n",
    "\n",
    "verticesDF = flightsDF.select(F.col(\"Origin\").alias(\"id\")).distinct().cache()\n",
    "\n",
    "edgesDF = flightsDF.withColumnRenamed(\"Origin\", \"src\")\\\n",
    "                   .withColumnRenamed(\"Dest\", \"dst\")\\\n",
    "                   .select(\"src\", \"dst\", \"Distance\")\\\n",
    "                   .distinct()\\\n",
    "                   .cache() # select a few columns just to keep things simple\n",
    "                \n",
    "graph = GraphFrame(verticesDF, edgesDF)"
   ]
  },
  {
   "cell_type": "markdown",
   "metadata": {},
   "source": [
    "Vamos a calcular los aeropuertos con más vuelos como aquellos con el grado más alto en su vértice (suma de ambos).\n",
    "Es sorprendente que el aeropuerto LAS (Las Vegas - McCarran International Airport) quede en primer lugar en número de vuelos!"
   ]
  },
  {
   "cell_type": "code",
   "execution_count": null,
   "metadata": {},
   "outputs": [],
   "source": [
    "graph.degrees.orderBy(F.col(\"degree\").desc()).show(3)"
   ]
  },
  {
   "cell_type": "code",
   "execution_count": null,
   "metadata": {},
   "outputs": [],
   "source": [
    "graph.inDegrees.orderBy(F.col(\"inDegree\").desc()).show(3)"
   ]
  },
  {
   "cell_type": "code",
   "execution_count": null,
   "metadata": {},
   "outputs": [],
   "source": [
    "graph.outDegrees.orderBy(F.col(\"outDegree\").desc()).show(3)"
   ]
  },
  {
   "cell_type": "markdown",
   "metadata": {},
   "source": [
    "## PageRank para determinar la importancia global de los vértices"
   ]
  },
  {
   "cell_type": "markdown",
   "metadata": {},
   "source": [
    "Si ejecutamos PageRank, que es un poco más sofisticado que contar simplemente el número de aristas que llegan o salen de cada vértice, confirma que LAS tiene importancia estratégica en nuestro grafo en base a las conexiones con otros aeropuertos."
   ]
  },
  {
   "cell_type": "code",
   "execution_count": null,
   "metadata": {},
   "outputs": [],
   "source": [
    "ranks = graph.pageRank(resetProbability=0.15, maxIter=10)"
   ]
  },
  {
   "cell_type": "markdown",
   "metadata": {},
   "source": [
    "### ADVERTENCIA: pageRank tarda unos minutos en ejecutarse. Descomentar la siguiente línea si realmente queremos ejecutarlo :-)"
   ]
  },
  {
   "cell_type": "code",
   "execution_count": 7,
   "metadata": {},
   "outputs": [
    {
     "name": "stdout",
     "output_type": "stream",
     "text": [
      "+---+------------------+\n",
      "| id|          pagerank|\n",
      "+---+------------------+\n",
      "|LAS|3.9681005880868927|\n",
      "|MDW| 3.464188596739582|\n",
      "|PHX|2.9996296419306288|\n",
      "|BWI| 2.859044345021574|\n",
      "|MCO| 2.506806330762528|\n",
      "|TPA| 2.325980728922274|\n",
      "|ABQ|  2.28062606472766|\n",
      "|HOU| 2.242821989285586|\n",
      "|BNA|2.1393487543945984|\n",
      "|SAN|  2.10337109753917|\n",
      "|MCI|1.9976511399324188|\n",
      "|AUS|1.8642893476111473|\n",
      "|STL|1.8263822546604833|\n",
      "|ONT|1.7722329347353263|\n",
      "|SAT|1.5303551318597992|\n",
      "|OAK|1.4886721798643956|\n",
      "|SMF|1.4779258223049847|\n",
      "|LAX|1.4134227909403223|\n",
      "|SLC| 1.362280151671023|\n",
      "|JAX|1.2637766842227056|\n",
      "+---+------------------+\n",
      "only showing top 20 rows\n",
      "\n"
     ]
    }
   ],
   "source": [
    "#ranks = graph.pageRank(resetProbability=0.15, maxIter=10)\n",
    "ranks.vertices.orderBy(F.col(\"pagerank\").desc()).show()"
   ]
  },
  {
   "cell_type": "markdown",
   "metadata": {},
   "source": [
    "## Componentes conexas"
   ]
  },
  {
   "cell_type": "markdown",
   "metadata": {},
   "source": [
    "En nuestor grafo es posible llegar a cualquier aeropuerto desde cualquier otro, y por tanto solo hay una componente conexa y la columna `component` (identificador de la componente) tiene el mismo valor para todos los vértices."
   ]
  },
  {
   "cell_type": "code",
   "execution_count": null,
   "metadata": {},
   "outputs": [],
   "source": [
    "spark.sparkContext.setCheckpointDir(\"/home/\")\n",
    "conCompResult = graph.connectedComponents(checkpointInterval=10)\n",
    "conCompResult.show(100)"
   ]
  },
  {
   "cell_type": "markdown",
   "metadata": {},
   "source": [
    "## Consultas por estructura: rutas de vuelo entre aeropuertos sin conexión directa"
   ]
  },
  {
   "cell_type": "markdown",
   "metadata": {},
   "source": [
    "Estamos indicando que queremos encontrar vértices **a**, **b** y **c** para que haya una arista de **a** a **b**, otra de **b** a **c**, pero no de **a** a **c**, por lo tanto, **a** y **c** no están conectados en un solo salto sino que requieren al menos dos. La restricción adicional evita que **a** y **c** sean el mismo vértice, ya que ningún aeropuerto está conectado consigo mismo, por lo que cada aeropuerto cumpliría individualmente la condición respecto a sí mismo."
   ]
  },
  {
   "cell_type": "code",
   "execution_count": null,
   "metadata": {
    "scrolled": false
   },
   "outputs": [],
   "source": [
    "res = graph\\\n",
    " .find(\"(a)-[]->(b); (b)-[]->(c); !(a)-[]->(c)\")\\\n",
    " .filter(\"c.id !=a.id\")\n",
    "\n",
    "res.show()"
   ]
  },
  {
   "cell_type": "markdown",
   "metadata": {},
   "source": [
    "## Caminos más cortos: Breadth-first search"
   ]
  },
  {
   "cell_type": "markdown",
   "metadata": {},
   "source": [
    "Vamos a encontrar el camino más corto entre dos aeropuertos que no están directamente conectados"
   ]
  },
  {
   "cell_type": "markdown",
   "metadata": {},
   "source": [
    "<div class=\"alert alert-danger\">\n",
    "    <b>IMPORTANTE</b>: BFS (Breadth-first search) en Spark calcula el camino mínimo en términos de <b>número de saltos</b> entre dos vértices. No tiene en cuenta el peso de las aristas. Se podría implementar pero de forma personalizada, no con la función bfs().\n",
    "</div>"
   ]
  },
  {
   "cell_type": "markdown",
   "metadata": {},
   "source": [
    "Como hay varios caminos que tienen 2 saltos entre ABQ y BNA, la función `bfs` devuelve todos ellos."
   ]
  },
  {
   "cell_type": "code",
   "execution_count": null,
   "metadata": {},
   "outputs": [],
   "source": [
    "paths = graph.bfs(fromExpr = \"id = 'ABQ'\", toExpr= \"id = 'BNA'\")\n",
    "paths.show()"
   ]
  },
  {
   "cell_type": "code",
   "execution_count": null,
   "metadata": {},
   "outputs": [],
   "source": []
  }
 ],
 "metadata": {
  "kernelspec": {
   "display_name": "PySpark",
   "language": "python",
   "name": "pyspark"
  },
  "language_info": {
   "codemirror_mode": {
    "name": "ipython",
    "version": 3
   },
   "file_extension": ".py",
   "mimetype": "text/x-python",
   "name": "python",
   "nbconvert_exporter": "python",
   "pygments_lexer": "ipython3",
   "version": "3.7.4"
  }
 },
 "nbformat": 4,
 "nbformat_minor": 2
}
