{
 "cells": [
  {
   "cell_type": "markdown",
   "metadata": {
    "collapsed": true
   },
   "source": [
    "<h1>\n",
    "    <center>\n",
    "        Ley D'Hont\n",
    "    </center>\n",
    "</h1>\n",
    "\n",
    "<hr>\n",
    "\n",
    "### Datos personales\n",
    "\n",
    "-   **Apellidos:** ......................................\n",
    "-   **Nombre:** ......................................\n",
    "-   **Email:** ......................................\n",
    "-   **DNI:** ......................................\n",
    "\n",
    "<hr>"
   ]
  },
  {
   "cell_type": "markdown",
   "metadata": {
    "collapsed": true
   },
   "source": [
    "## 1. Introducción\n",
    "\n",
    "En las elecciones, una vez ejecutado el escrutinio, se debe calcular cuántos escaños corresponden a cada lista electoral. El objetivo ideal sería repartir dichos escaños de manera proporcional a los votos obtenidos por cada lista. Como esto no es posible en general, porque rara vez las proporciones son números enteros, se persigue acercarse a dicha proporcionalidad lo más posible.\n",
    "\n",
    "El sistema D'Hondt es un método para asignar un número de escaños dado a partir de los votos recibidos por distintas listas  electorales, buscando acercar al máximo el reparto a las proporciones de votos resultantes en el escrutinio. Concretamente, este sistema va asignando escaños de uno en uno, dando cada vez el escaño a la lista cuyo cociente \n",
    "\n",
    "$$\\frac{\\mbox{número de votos recibidos}}{\\mbox{número de escaños recibido hasta el momento} + 1}$$\n",
    "\n",
    "sea mayor. Sobre este problema trata este ejercicio que ahora te planteo, paso a paso."
   ]
  },
  {
   "cell_type": "markdown",
   "metadata": {
    "collapsed": true
   },
   "source": [
    "### (a) Lectura de datos\n",
    "\n",
    "Nuestros datos de partida estarán en un archivo de texto con dos líneas: el número de escaños en la primera, y los votos recibidos por cada lista electoral, en la segunda. Para concretar al máximo, te proporciono dos ejemplos. El primero es el archivo `Datos_DHont_ej1.txt`:\n",
    "\n",
    "    7\n",
    "    340000 280000 160000 60000 15000\n",
    "\n",
    "Y el segundo, `Datos_DHont_ej2.txt`:\n",
    "\n",
    "    21\n",
    "    391000 311000 184000 73000 27000 12000 2000\n",
    "\n",
    "Diseña una función que carga los datos de uno de esos archivos en dos variables, una (entera) con el número de escaños que se van a repartir; otra, una lista de enteros con los votos escrutados por cada lista."
   ]
  },
  {
   "cell_type": "code",
   "execution_count": 1,
   "metadata": {},
   "outputs": [],
   "source": [
    "# Aquí viene la función definida por el estudiante\n",
    "\n"
   ]
  },
  {
   "cell_type": "code",
   "execution_count": 2,
   "metadata": {},
   "outputs": [
    {
     "name": "stdout",
     "output_type": "stream",
     "text": [
      "7 [340000, 280000, 160000, 60000, 15000]\n",
      "21 [391000, 311000, 184000, 73000, 27000, 12000, 2000]\n"
     ]
    }
   ],
   "source": [
    "# La función anterior debe funcionar según muestran las pruebas siguientes:\n",
    "\n",
    "escannos, votos = leer_datos(\"Datos_DHont_ej1.txt\")\n",
    "print(escannos, votos)\n",
    "\n",
    "escannos, votos = leer_datos(\"Datos_DHont_ej2.txt\")\n",
    "print(escannos, votos)"
   ]
  },
  {
   "cell_type": "markdown",
   "metadata": {
    "collapsed": true
   },
   "source": [
    "### (b) Reparto\n",
    "\n",
    "Partiendo de los datos leídos, procedemos ahora a realizar el reparto. Para ello, para cada lista electoral se calcula el cociente siguiente:\n",
    "\n",
    "$$ coc_i = \\frac{V_i}{s_i + 1}$$\n",
    "\n",
    "donde $V_i$ es el número total de votos recibidos por la lista $i$, y $s_i$ el número de escaños recibidos hasta el momento por la misma lista.\n",
    "\n",
    "Esto se ha de realizar tantas veces como escaños se desean repartir, partiendo de 0 escaños repartidos inicialmente para cada lista, naturalmente.\n",
    "\n",
    "Te pido una función que realice dicho reparto."
   ]
  },
  {
   "cell_type": "code",
   "execution_count": 3,
   "metadata": {},
   "outputs": [],
   "source": [
    "# Aquí viene la función definida por el estudiante\n",
    "\n"
   ]
  },
  {
   "cell_type": "code",
   "execution_count": 4,
   "metadata": {},
   "outputs": [
    {
     "name": "stdout",
     "output_type": "stream",
     "text": [
      "[3, 3, 1, 0, 0]\n",
      "[9, 7, 4, 1, 0, 0, 0]\n"
     ]
    }
   ],
   "source": [
    "# La función anterior debe funcionar según muestran las pruebas siguientes:\n",
    "\n",
    "escannos, votos = leer_datos(\"Datos_DHont_ej1.txt\")\n",
    "resultado = reparto(escannos, votos)\n",
    "print(resultado)\n",
    "\n",
    "escannos, votos = leer_datos(\"Datos_DHont_ej2.txt\")\n",
    "resultado = reparto(escannos, votos)\n",
    "print(resultado)"
   ]
  },
  {
   "cell_type": "markdown",
   "metadata": {
    "collapsed": true
   },
   "source": [
    "### (c) Reparto, mostrando las cuentas\n",
    "\n",
    "La nueva Ley de Transparencia obliga ahora a que los repartos muestren el proceso de reparto paso a paso. Modifica la función anterior para que muestre el proceso de departo de cada escaño."
   ]
  },
  {
   "cell_type": "code",
   "execution_count": 5,
   "metadata": {},
   "outputs": [],
   "source": [
    "# Aquí viene la función definida por el estudiante\n",
    "\n"
   ]
  },
  {
   "cell_type": "code",
   "execution_count": 6,
   "metadata": {},
   "outputs": [
    {
     "name": "stdout",
     "output_type": "stream",
     "text": [
      "Escanno:  0\n",
      "['340000/1 = 340000.0', '280000/1 = 280000.0', '160000/1 = 160000.0', '60000/1 = 60000.0', '15000/1 = 15000.0']\n",
      "Escanno:  1\n",
      "['340000/2 = 170000.0', '280000/1 = 280000.0', '160000/1 = 160000.0', '60000/1 = 60000.0', '15000/1 = 15000.0']\n",
      "Escanno:  2\n",
      "['340000/2 = 170000.0', '280000/2 = 140000.0', '160000/1 = 160000.0', '60000/1 = 60000.0', '15000/1 = 15000.0']\n",
      "Escanno:  3\n",
      "['340000/3 = 113333.33333333333', '280000/2 = 140000.0', '160000/1 = 160000.0', '60000/1 = 60000.0', '15000/1 = 15000.0']\n",
      "Escanno:  4\n",
      "['340000/3 = 113333.33333333333', '280000/2 = 140000.0', '160000/2 = 80000.0', '60000/1 = 60000.0', '15000/1 = 15000.0']\n",
      "Escanno:  5\n",
      "['340000/3 = 113333.33333333333', '280000/3 = 93333.33333333333', '160000/2 = 80000.0', '60000/1 = 60000.0', '15000/1 = 15000.0']\n",
      "Escanno:  6\n",
      "['340000/4 = 85000.0', '280000/3 = 93333.33333333333', '160000/2 = 80000.0', '60000/1 = 60000.0', '15000/1 = 15000.0']\n",
      "[3, 3, 1, 0, 0] \n",
      "\n",
      "\n",
      "Escanno:  0\n",
      "['391000/1 = 391000.0', '311000/1 = 311000.0', '184000/1 = 184000.0', '73000/1 = 73000.0', '27000/1 = 27000.0', '12000/1 = 12000.0', '2000/1 = 2000.0']\n",
      "Escanno:  1\n",
      "['391000/2 = 195500.0', '311000/1 = 311000.0', '184000/1 = 184000.0', '73000/1 = 73000.0', '27000/1 = 27000.0', '12000/1 = 12000.0', '2000/1 = 2000.0']\n",
      "Escanno:  2\n",
      "['391000/2 = 195500.0', '311000/2 = 155500.0', '184000/1 = 184000.0', '73000/1 = 73000.0', '27000/1 = 27000.0', '12000/1 = 12000.0', '2000/1 = 2000.0']\n",
      "Escanno:  3\n",
      "['391000/3 = 130333.33333333333', '311000/2 = 155500.0', '184000/1 = 184000.0', '73000/1 = 73000.0', '27000/1 = 27000.0', '12000/1 = 12000.0', '2000/1 = 2000.0']\n",
      "Escanno:  4\n",
      "['391000/3 = 130333.33333333333', '311000/2 = 155500.0', '184000/2 = 92000.0', '73000/1 = 73000.0', '27000/1 = 27000.0', '12000/1 = 12000.0', '2000/1 = 2000.0']\n",
      "Escanno:  5\n",
      "['391000/3 = 130333.33333333333', '311000/3 = 103666.66666666667', '184000/2 = 92000.0', '73000/1 = 73000.0', '27000/1 = 27000.0', '12000/1 = 12000.0', '2000/1 = 2000.0']\n",
      "Escanno:  6\n",
      "['391000/4 = 97750.0', '311000/3 = 103666.66666666667', '184000/2 = 92000.0', '73000/1 = 73000.0', '27000/1 = 27000.0', '12000/1 = 12000.0', '2000/1 = 2000.0']\n",
      "Escanno:  7\n",
      "['391000/4 = 97750.0', '311000/4 = 77750.0', '184000/2 = 92000.0', '73000/1 = 73000.0', '27000/1 = 27000.0', '12000/1 = 12000.0', '2000/1 = 2000.0']\n",
      "Escanno:  8\n",
      "['391000/5 = 78200.0', '311000/4 = 77750.0', '184000/2 = 92000.0', '73000/1 = 73000.0', '27000/1 = 27000.0', '12000/1 = 12000.0', '2000/1 = 2000.0']\n",
      "Escanno:  9\n",
      "['391000/5 = 78200.0', '311000/4 = 77750.0', '184000/3 = 61333.333333333336', '73000/1 = 73000.0', '27000/1 = 27000.0', '12000/1 = 12000.0', '2000/1 = 2000.0']\n",
      "Escanno:  10\n",
      "['391000/6 = 65166.666666666664', '311000/4 = 77750.0', '184000/3 = 61333.333333333336', '73000/1 = 73000.0', '27000/1 = 27000.0', '12000/1 = 12000.0', '2000/1 = 2000.0']\n",
      "Escanno:  11\n",
      "['391000/6 = 65166.666666666664', '311000/5 = 62200.0', '184000/3 = 61333.333333333336', '73000/1 = 73000.0', '27000/1 = 27000.0', '12000/1 = 12000.0', '2000/1 = 2000.0']\n",
      "Escanno:  12\n",
      "['391000/6 = 65166.666666666664', '311000/5 = 62200.0', '184000/3 = 61333.333333333336', '73000/2 = 36500.0', '27000/1 = 27000.0', '12000/1 = 12000.0', '2000/1 = 2000.0']\n",
      "Escanno:  13\n",
      "['391000/7 = 55857.142857142855', '311000/5 = 62200.0', '184000/3 = 61333.333333333336', '73000/2 = 36500.0', '27000/1 = 27000.0', '12000/1 = 12000.0', '2000/1 = 2000.0']\n",
      "Escanno:  14\n",
      "['391000/7 = 55857.142857142855', '311000/6 = 51833.333333333336', '184000/3 = 61333.333333333336', '73000/2 = 36500.0', '27000/1 = 27000.0', '12000/1 = 12000.0', '2000/1 = 2000.0']\n",
      "Escanno:  15\n",
      "['391000/7 = 55857.142857142855', '311000/6 = 51833.333333333336', '184000/4 = 46000.0', '73000/2 = 36500.0', '27000/1 = 27000.0', '12000/1 = 12000.0', '2000/1 = 2000.0']\n",
      "Escanno:  16\n",
      "['391000/8 = 48875.0', '311000/6 = 51833.333333333336', '184000/4 = 46000.0', '73000/2 = 36500.0', '27000/1 = 27000.0', '12000/1 = 12000.0', '2000/1 = 2000.0']\n",
      "Escanno:  17\n",
      "['391000/8 = 48875.0', '311000/7 = 44428.57142857143', '184000/4 = 46000.0', '73000/2 = 36500.0', '27000/1 = 27000.0', '12000/1 = 12000.0', '2000/1 = 2000.0']\n",
      "Escanno:  18\n",
      "['391000/9 = 43444.444444444445', '311000/7 = 44428.57142857143', '184000/4 = 46000.0', '73000/2 = 36500.0', '27000/1 = 27000.0', '12000/1 = 12000.0', '2000/1 = 2000.0']\n",
      "Escanno:  19\n",
      "['391000/9 = 43444.444444444445', '311000/7 = 44428.57142857143', '184000/5 = 36800.0', '73000/2 = 36500.0', '27000/1 = 27000.0', '12000/1 = 12000.0', '2000/1 = 2000.0']\n",
      "Escanno:  20\n",
      "['391000/9 = 43444.444444444445', '311000/8 = 38875.0', '184000/5 = 36800.0', '73000/2 = 36500.0', '27000/1 = 27000.0', '12000/1 = 12000.0', '2000/1 = 2000.0']\n",
      "[9, 7, 4, 1, 0, 0, 0] \n",
      "\n",
      "\n"
     ]
    }
   ],
   "source": [
    "# La función anterior debe funcionar según muestran las pruebas siguientes:\n",
    "\n",
    "escannos, votos = leer_datos(\"Datos_DHont_ej1.txt\")\n",
    "resultado = reparto(escannos, votos)\n",
    "print(resultado, \"\\n\")\n",
    "\n",
    "escannos, votos = leer_datos(\"Datos_DHont_ej2.txt\")\n",
    "resultado = reparto(escannos, votos)\n",
    "print(resultado, \"\\n\")"
   ]
  },
  {
   "cell_type": "markdown",
   "metadata": {
    "collapsed": true
   },
   "source": [
    "### (d) Diagrama de barras\n",
    "\n",
    "Si conociéramos los nombres de los partidos, con los números de los escaños podríamos hacer un bonito diagrama de barras, aunque sea a. Asumimos que los datos vienen dados en un diccionario que, para cada nombre de un partido, tiene aparejado su número de escaños.\n",
    "\n",
    "En la demostración, observa que las longitudes se ajustan, de manera que el nombre más largo determina dónde aparecen las barras."
   ]
  },
  {
   "cell_type": "code",
   "execution_count": 8,
   "metadata": {},
   "outputs": [],
   "source": [
    "# Aquí viene la función definida por el estudiante\n",
    "\n"
   ]
  },
  {
   "cell_type": "code",
   "execution_count": 9,
   "metadata": {},
   "outputs": [
    {
     "name": "stdout",
     "output_type": "stream",
     "text": [
      "Los Verdes             | *********\n",
      "Izquierdas             | *****************\n",
      "Norteños               | \n",
      "Sur                    | ************\n",
      "Villa Arriba Ecológica | ****\n"
     ]
    }
   ],
   "source": [
    "# Pruebas de funcionamiento:\n",
    "\n",
    "trazar_diagrama_de_barras({\"Los Verdes\": 9, \"Izquierdas\": 17, \"Norteños\": 0, \"Sur\": 12, \"Villa Arriba Ecológica\": 4})"
   ]
  }
 ],
 "metadata": {
  "kernelspec": {
   "display_name": "Python 3",
   "language": "python",
   "name": "python3"
  },
  "language_info": {
   "codemirror_mode": {
    "name": "ipython",
    "version": 3
   },
   "file_extension": ".py",
   "mimetype": "text/x-python",
   "name": "python",
   "nbconvert_exporter": "python",
   "pygments_lexer": "ipython3",
   "version": "3.8.3"
  }
 },
 "nbformat": 4,
 "nbformat_minor": 2
}
