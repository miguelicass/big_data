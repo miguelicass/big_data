{
 "cells": [
  {
   "cell_type": "markdown",
   "metadata": {},
   "source": [
    "# Datos mutables e inmutables. Ejercicios\n",
    "\n",
    "<hr>"
   ]
  },
  {
   "cell_type": "markdown",
   "metadata": {},
   "source": [
    "### Agenda básica\n",
    "\n",
    "Queremos hacer algo para modificar un entero, o un par de enteros, como los términos de una fracción, por ejemplo. Pero lo siguiente no funciona:"
   ]
  },
  {
   "cell_type": "code",
   "execution_count": 1,
   "metadata": {},
   "outputs": [
    {
     "name": "stdout",
     "output_type": "stream",
     "text": [
      "4\n",
      "4\n"
     ]
    }
   ],
   "source": [
    "def incr(l):\n",
    "    l[0] = l[0]+1\n",
    "\n",
    "n = 4\n",
    "incr([n])\n",
    "print(n)\n",
    "\n",
    "lista = [n]\n",
    "incr(lista)\n",
    "print(n)"
   ]
  },
  {
   "cell_type": "markdown",
   "metadata": {},
   "source": [
    "Pero no debe estar del todo mal, porque lo siguiente, que es muy parecido, sí funciona:"
   ]
  },
  {
   "cell_type": "code",
   "execution_count": 3,
   "metadata": {},
   "outputs": [
    {
     "name": "stdout",
     "output_type": "stream",
     "text": [
      "[5]\n"
     ]
    }
   ],
   "source": [
    "n = 4\n",
    "lista = [n]\n",
    "incr(lista)\n",
    "print(lista)"
   ]
  },
  {
   "cell_type": "markdown",
   "metadata": {},
   "source": [
    "Ayúdame a entender qué pasa y a arreglarlo para poder usar funciones que modifican sus parámetros, enteros.\n",
    "\n",
    "### Solución\n",
    "\n",
    "No es posible que una función modifique un parámetro entero directamente, porque los enteros son inmutables.\n",
    "\n",
    "El último experimento anterior da la pista: se modifica el contenido de una lista. Para modificar la variable `n`, será necesario encapsular el entero, y desencapsularlo:"
   ]
  },
  {
   "cell_type": "code",
   "execution_count": 4,
   "metadata": {},
   "outputs": [
    {
     "name": "stdout",
     "output_type": "stream",
     "text": [
      "5\n"
     ]
    }
   ],
   "source": [
    "n = 4\n",
    "lista = [n]\n",
    "incr(lista)\n",
    "n = lista[0]\n",
    "print(n)"
   ]
  },
  {
   "cell_type": "markdown",
   "metadata": {},
   "source": [
    "### Otra solución\n",
    "\n",
    "... esta vez encapsulando el entero en una clase, en vez de hacerlo en una lista... Realmente esto requiere un estilo algo mejor, ya se verá..."
   ]
  },
  {
   "cell_type": "code",
   "execution_count": 5,
   "metadata": {},
   "outputs": [
    {
     "name": "stdout",
     "output_type": "stream",
     "text": [
      "4\n",
      "5\n"
     ]
    }
   ],
   "source": [
    "class Num:\n",
    "    n = 0\n",
    "\n",
    "def incr(numero):\n",
    "    numero.n = numero.n + 1\n",
    "\n",
    "num = Num()\n",
    "num.n = 4\n",
    "print(num.n)\n",
    "incr(num)\n",
    "print(num.n)"
   ]
  }
 ],
 "metadata": {
  "kernelspec": {
   "display_name": "Python 3",
   "language": "python",
   "name": "python3"
  },
  "language_info": {
   "codemirror_mode": {
    "name": "ipython",
    "version": 3
   },
   "file_extension": ".py",
   "mimetype": "text/x-python",
   "name": "python",
   "nbconvert_exporter": "python",
   "pygments_lexer": "ipython3",
   "version": "3.7.3"
  }
 },
 "nbformat": 4,
 "nbformat_minor": 1
}
