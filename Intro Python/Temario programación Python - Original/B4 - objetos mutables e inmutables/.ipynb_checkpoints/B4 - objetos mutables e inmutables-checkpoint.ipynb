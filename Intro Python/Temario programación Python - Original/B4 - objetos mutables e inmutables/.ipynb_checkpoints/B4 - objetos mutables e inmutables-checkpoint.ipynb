{
 "cells": [
  {
   "cell_type": "markdown",
   "metadata": {},
   "source": [
    "# Tipos de datos mutables e inmutables\n",
    "\n",
    "<hr>\n",
    "\n",
    "Un concepto preliminar importante: nosotros nombramos cada objeto mediante su identificador, pero en la memoria, lo que identifica un objeto es la dirección de memoria en que se almacena. En Python, la dirección de memoria de un objeto se puede obtener con la función \"id\":"
   ]
  },
  {
   "cell_type": "code",
   "execution_count": 1,
   "metadata": {
    "scrolled": true
   },
   "outputs": [
    {
     "name": "stdout",
     "output_type": "stream",
     "text": [
      "[1, 2, 3]\n",
      "2957914260104\n",
      "7\n",
      "1417525904\n"
     ]
    }
   ],
   "source": [
    "lista = [1, 2, 3]\n",
    "print(lista)\n",
    "print(id(lista))\n",
    "n = 7\n",
    "print(n)\n",
    "print(id(n))"
   ]
  },
  {
   "cell_type": "markdown",
   "metadata": {},
   "source": [
    "Vamos a cambiar el contenido de una lista. ¿Afecta esto a la dirección de memoria en que se almacena?"
   ]
  },
  {
   "cell_type": "code",
   "execution_count": 2,
   "metadata": {
    "scrolled": true
   },
   "outputs": [
    {
     "name": "stdout",
     "output_type": "stream",
     "text": [
      "[1, 2, 3]\n",
      "2957914260552\n",
      "[666, 2, 3]\n",
      "2957914260552\n"
     ]
    }
   ],
   "source": [
    "lista = [1, 2, 3]\n",
    "print(lista)\n",
    "print(id(lista))\n",
    "lista[0] = 666\n",
    "print(lista)\n",
    "print(id(lista))"
   ]
  },
  {
   "cell_type": "markdown",
   "metadata": {},
   "source": [
    "Vamos a cambiar el contenido de un entero. ¿Afecta esto a la dirección de memoria en que se almacena?"
   ]
  },
  {
   "cell_type": "code",
   "execution_count": 3,
   "metadata": {
    "scrolled": true
   },
   "outputs": [
    {
     "name": "stdout",
     "output_type": "stream",
     "text": [
      "100\n",
      "1417528880\n",
      "666\n",
      "2957914520240\n"
     ]
    }
   ],
   "source": [
    "n = 100\n",
    "print(n)\n",
    "print(id(n))\n",
    "n = 666\n",
    "print(n)\n",
    "print(id(n))"
   ]
  },
  {
   "cell_type": "markdown",
   "metadata": {},
   "source": [
    "Vemos que las modificaciones efectuadas sobre una lista pueden alterarla <it>in situ</it>, y la lista ha <it>mutado</it>. Si se modifica un entero, deja de existir y se crea otro entero: el entero no ha podido mutar. En resumen, ahora podemos afirmar lo siguiente:\n",
    "<ul>\n",
    "  <li> Las listas son objetos mutables.</li>\n",
    "  <li> Los enteros no son objetos mutables.</li>\n",
    "</ul>"
   ]
  },
  {
   "cell_type": "markdown",
   "metadata": {},
   "source": [
    "### Consecuencia: datos mutables como parámetros\n",
    "\n",
    "Una lista y un entero pueden ser parámetros de una función. La función puede cambiar <it>internamente</it> su valor. ¿Cómo afecta esto a los parámetros reales?"
   ]
  },
  {
   "cell_type": "code",
   "execution_count": 4,
   "metadata": {},
   "outputs": [
    {
     "name": "stdout",
     "output_type": "stream",
     "text": [
      "2957914915464 [1, 2, 3]\n",
      "1417525840 5\n",
      "2957914915464 [100, 2, 3]\n",
      "1417525840 5\n"
     ]
    }
   ],
   "source": [
    "def cambio(numeros, a):\n",
    "    numeros[0] = numeros[0] * 100\n",
    "    a = a + 1000\n",
    "\n",
    "lista = [1, 2, 3]\n",
    "n = 5\n",
    "print(id(lista), lista)\n",
    "print(id(n), n)\n",
    "cambio(lista, n)\n",
    "print(id(lista), lista)\n",
    "print(id(n), n)"
   ]
  },
  {
   "cell_type": "markdown",
   "metadata": {},
   "source": [
    "En efecto: los parámetros de una función son siempre la referencia. Si la función modifica un objeto mutable, el parámetro real se ve afectado, porque la función opera sobre dicho objeto allí donde está almacenado. En cambio, si un objeto inmutable cambia en la función, el nuevo valor se coloca en un lugar distinto de la memoria, y no afecta al parámetro real.\n",
    "\n",
    "Para simplificar, podríamos decir que los objetos mutables se pasan como parámetros por referencia o por variable, y que los inmutables pasan como parámetros por valor... aunque en realidad, todos pasan como referencias..."
   ]
  },
  {
   "cell_type": "markdown",
   "metadata": {},
   "source": [
    "### Otra consecuencia: la asignación de objetos mutables...\n",
    "\n",
    "Es mejor que lo veas con un ejemplo."
   ]
  },
  {
   "cell_type": "code",
   "execution_count": 5,
   "metadata": {},
   "outputs": [
    {
     "name": "stdout",
     "output_type": "stream",
     "text": [
      "[1, 2, 3] [1, 2, 3]\n",
      "[666, 2, 3] [666, 2, 3]\n"
     ]
    }
   ],
   "source": [
    "lista_a = [1, 2, 3]\n",
    "lista_b = lista_a\n",
    "print(lista_a, lista_b)\n",
    "lista_a[0] = 666\n",
    "print(lista_a, lista_b)"
   ]
  },
  {
   "cell_type": "markdown",
   "metadata": {},
   "source": [
    "Observa el cambio que se ha realizado sobre la <tt>lista_b</tt> \"sin que la hayamos cambiado\".\n",
    "\n",
    "Hagamos lo mismo con enteros..."
   ]
  },
  {
   "cell_type": "code",
   "execution_count": 6,
   "metadata": {},
   "outputs": [
    {
     "name": "stdout",
     "output_type": "stream",
     "text": [
      "7 7\n",
      "666 7\n"
     ]
    }
   ],
   "source": [
    "a = 7\n",
    "b = a\n",
    "print(a, b)\n",
    "a = 666\n",
    "print(a, b)"
   ]
  },
  {
   "cell_type": "markdown",
   "metadata": {},
   "source": [
    "Seguramente, ahora puedes explicar la diferencia en el comportamiento de listas y enteros.\n",
    "\n",
    "¿Y si queremos copiar una lista en otra variable, para que se comporte con independencia?"
   ]
  },
  {
   "cell_type": "code",
   "execution_count": 7,
   "metadata": {},
   "outputs": [
    {
     "name": "stdout",
     "output_type": "stream",
     "text": [
      "[1, 2, 3] [1, 2, 3]\n",
      "[666, 2, 3] [1, 2, 3]\n"
     ]
    }
   ],
   "source": [
    "lista_a = [1, 2, 3]\n",
    "lista_b = lista_a.copy()\n",
    "print(lista_a, lista_b)\n",
    "lista_a[0] = 666\n",
    "print(lista_a, lista_b)"
   ]
  },
  {
   "cell_type": "markdown",
   "metadata": {},
   "source": [
    "¿Y si queremos que un entero se copie en otro compartiendo su referencia? ¿O que un entero sea un parámetro por variable de una función?\n",
    "\n",
    "La respuesta es la siguiente: podemos envolverlo en una lista. Veámoslo:"
   ]
  },
  {
   "cell_type": "code",
   "execution_count": 8,
   "metadata": {},
   "outputs": [
    {
     "name": "stdout",
     "output_type": "stream",
     "text": [
      "[7] [7]\n",
      "[666] [7]\n",
      "-------------------------------\n",
      "[1666] [7]\n"
     ]
    }
   ],
   "source": [
    "a = [7]\n",
    "b = a\n",
    "print(a, b)\n",
    "a = [666]\n",
    "print(a, b)\n",
    "print(\"-------------------------------\")\n",
    "def cambio(nn):\n",
    "    nn[0] = nn[0] + 1000\n",
    "cambio(a)\n",
    "print(a, b)"
   ]
  },
  {
   "cell_type": "markdown",
   "metadata": {},
   "source": [
    "### Catálogo de objetos mutables e inmutables\n",
    "\n",
    "<ul>\n",
    "  <li>**Inmutables**: int, float, decimal, complex, bool, string, tuple, range, frozenset, bytes</li>\n",
    "  <li>**Mutables**: list, dict, set, bytearray, user-defined classes (salvo que se declaren específicamente como inmutables)</li>\n",
    "</ul>\n",
    "<br>\n",
    "En efecto, las cadenas de caracteres son inmutables, al contrario que las listas. Tú mismo puedes idear algún ejemplo que lo muestre."
   ]
  },
  {
   "cell_type": "markdown",
   "metadata": {},
   "source": [
    "### Pequeño apéndice\n",
    "\n",
    "Las ventajas de los objetos mutables son obvias: eficiencia. Los peligros, también. A manera de ejemplo final, observa el siguiente comportamiento:"
   ]
  },
  {
   "cell_type": "code",
   "execution_count": 9,
   "metadata": {},
   "outputs": [
    {
     "name": "stdout",
     "output_type": "stream",
     "text": [
      "[[1, 2, 3], [1, 2, 3], [1, 2, 3]]\n",
      "[[666, 2, 3], [666, 2, 3], [666, 2, 3]]\n"
     ]
    }
   ],
   "source": [
    "matriz = [[1, 2, 3]] * 3\n",
    "print(matriz)\n",
    "matriz[0][0] = 666\n",
    "print(matriz)"
   ]
  },
  {
   "cell_type": "code",
   "execution_count": 10,
   "metadata": {},
   "outputs": [
    {
     "name": "stdout",
     "output_type": "stream",
     "text": [
      "[666, 2, 3] 2957914917768\n",
      "[666, 2, 3] 2957914917768\n",
      "[666, 2, 3] 2957914917768\n"
     ]
    }
   ],
   "source": [
    "print(matriz[0], id(matriz[0]))\n",
    "print(matriz[1], id(matriz[1]))\n",
    "print(matriz[2], id(matriz[2]))"
   ]
  }
 ],
 "metadata": {
  "kernelspec": {
   "display_name": "Python 3",
   "language": "python",
   "name": "python3"
  },
  "language_info": {
   "codemirror_mode": {
    "name": "ipython",
    "version": 3
   },
   "file_extension": ".py",
   "mimetype": "text/x-python",
   "name": "python",
   "nbconvert_exporter": "python",
   "pygments_lexer": "ipython3",
   "version": "3.7.3"
  }
 },
 "nbformat": 4,
 "nbformat_minor": 1
}
