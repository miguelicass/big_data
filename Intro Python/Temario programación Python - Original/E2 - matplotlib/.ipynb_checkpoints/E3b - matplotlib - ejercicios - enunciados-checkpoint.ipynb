{
 "cells": [
  {
   "cell_type": "markdown",
   "metadata": {},
   "source": [
    "# Librería matplotlib. Ejercicios resueltos"
   ]
  },
  {
   "cell_type": "markdown",
   "metadata": {},
   "source": [
    "## 1. Nube de puntos en torno a una recta\n",
    "\n",
    "Se pide la generación de una nube de N = 50 puntos aleatorios, en torno a la recta y = 1 - x. Digamos por ejemplo que se crean con una dispersión vertical extraída de [-0.5, 0.5] uniformemente. Los puntos deben generarse con tamaños y colores aleatorios.\n",
    "\n",
    "<img src='./figuras/fig-ejercicio-1.png' alt='' style='height:300px'>\n"
   ]
  },
  {
   "cell_type": "markdown",
   "metadata": {},
   "source": [
    "## 2. Recta de regresión\n",
    "\n",
    "Deseamos ahora ver la recta de regresión que aproxima la nube de puntos generados en el ejercicio anterior. Esta vez cambiamos la apariencia, porque los colores y tamaños realmente no afectan a la recoa de regresión.\n",
    "\n",
    "<img src='./figuras/fig-ejercicio-2.png' alt='' style='height:300px'>"
   ]
  },
  {
   "cell_type": "markdown",
   "metadata": {},
   "source": [
    "## 3. Diagrama de barras\n",
    "\n",
    "Tras un sondeo a pocos días de unas elecciones, se ha registrado la intención de voto que sigue, donde se han camuflado los nombres de los partidos políticos para no influir en tu opinión personal:\n",
    "\n",
    "    partidos = ['Part A', 'Part B', 'Part C', 'Part D', 'Part E', 'Part F']\n",
    "    intencion_voto = [21.5, 17.8, 31.8, 10.3, 5.7, 12.9]\n",
    "\n",
    "Se pide mostrar estos datos en un diagrama de barras como el que sigue:\n",
    "\n",
    "<img src='./figuras/fig-ejercicio-3.png' alt='' style='height:300px'>"
   ]
  },
  {
   "cell_type": "markdown",
   "metadata": {},
   "source": [
    "## 4. Diagrama de sectores\n",
    "\n",
    "Para el sondeo anterior, deseamos ahora ver los datos recogidos en un diagrama de sectores, con los datos de los partidos $A$ y $D$ detacados.\n",
    "\n",
    "<img src='./figuras/fig-ejercicio-4.png' alt='' style='height:300px'>"
   ]
  }
 ],
 "metadata": {
  "kernelspec": {
   "display_name": "Python 3",
   "language": "python",
   "name": "python3"
  },
  "language_info": {
   "codemirror_mode": {
    "name": "ipython",
    "version": 3
   },
   "file_extension": ".py",
   "mimetype": "text/x-python",
   "name": "python",
   "nbconvert_exporter": "python",
   "pygments_lexer": "ipython3",
   "version": "3.6.0"
  }
 },
 "nbformat": 4,
 "nbformat_minor": 0
}
