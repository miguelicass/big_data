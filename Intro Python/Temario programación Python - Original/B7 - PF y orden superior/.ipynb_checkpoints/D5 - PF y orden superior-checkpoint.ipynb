{
 "cells": [
  {
   "cell_type": "markdown",
   "metadata": {},
   "source": [
    "# Programación funcional y orden superior\n",
    "\n",
    "<hr>"
   ]
  },
  {
   "cell_type": "markdown",
   "metadata": {},
   "source": [
    "En el modelo de programación funcional, la programación gira por completo en torno al concepto de función. Las funciones son tan naturales como los datos, y juegan el papel de parámetros o resultados de otras funciones; no existen variables, y este asunto que puede decirse tan rápidamente tiene consecuencias importantísimas: por ejemplo, no hay bucles. Y muchas otras cosas más.\n",
    "\n",
    "En esta pequeña sesión exploramos algunos conceptos de la programación funcional que se inculye Python."
   ]
  },
  {
   "cell_type": "markdown",
   "metadata": {},
   "source": [
    "## 1. Orden superior\n",
    "\n",
    "Las funciones pueden jugar el papel de parámetros o resultados de otras funciones, llamadas entonces f.o.s. por funciones de orden superior (h.o.f., por higher order functions, en inglés)."
   ]
  },
  {
   "cell_type": "code",
   "execution_count": 1,
   "metadata": {},
   "outputs": [
    {
     "name": "stdout",
     "output_type": "stream",
     "text": [
      "625\n"
     ]
    }
   ],
   "source": [
    "def cua(n):             # Esta función es de primer orden\n",
    "    return n*n\n",
    "\n",
    "def re_aplica(f, n):    # Esta función es una f.o.s.: un parámetro suyo es una función\n",
    "    return f(f(n))\n",
    "\n",
    "print(re_aplica(cua, 5))"
   ]
  },
  {
   "cell_type": "code",
   "execution_count": 2,
   "metadata": {},
   "outputs": [
    {
     "name": "stdout",
     "output_type": "stream",
     "text": [
      "64\n"
     ]
    }
   ],
   "source": [
    "def elevar_a(n):        # Esta funciónes una f.o.s.: el resultado es una función\n",
    "    def elevar(x):\n",
    "        return x ** n\n",
    "    return elevar\n",
    "\n",
    "ele = elevar_a(3)       # La función ele es una función de primer orden. ¿Cuál?\n",
    "\n",
    "print(ele(4))"
   ]
  },
  {
   "cell_type": "code",
   "execution_count": 3,
   "metadata": {},
   "outputs": [
    {
     "name": "stdout",
     "output_type": "stream",
     "text": [
      "64\n"
     ]
    }
   ],
   "source": [
    "print(elevar_a(3)(4))"
   ]
  },
  {
   "cell_type": "code",
   "execution_count": 4,
   "metadata": {},
   "outputs": [
    {
     "name": "stdout",
     "output_type": "stream",
     "text": [
      "81\n"
     ]
    }
   ],
   "source": [
    "def componer(f, g):     # f.o.s.: dos parámetros son funciones y el resultado también\n",
    "    def fun_result(x):\n",
    "        return f(g(x))\n",
    "    return fun_result\n",
    "\n",
    "print(componer(cua, cua)(3))\n",
    "\n",
    "# ¿La función \"componer(cua, cua)\" es de primer orden o de orden superior? Define esa función."
   ]
  },
  {
   "cell_type": "markdown",
   "metadata": {},
   "source": [
    "### Aplicación: $\\int_a^b f(x)dx$"
   ]
  },
  {
   "cell_type": "code",
   "execution_count": 5,
   "metadata": {},
   "outputs": [
    {
     "name": "stdout",
     "output_type": "stream",
     "text": [
      "0.0\n",
      "0.0\n"
     ]
    }
   ],
   "source": [
    "def f(x):\n",
    "    return x*x\n",
    "\n",
    "def g(x):\n",
    "    return 2*x - 1\n",
    "\n",
    "def integral(f, a, b):\n",
    "    n = 100   # num de trozos iguales en que dividimos el intervalo [a, b]\n",
    "    suma_acum = 0.0\n",
    "    \"\"\"\n",
    "        Calcular el sumatorio\n",
    "    \"\"\"\n",
    "    return suma_acum\n",
    "\n",
    "print(integral(f, 0, 2))\n",
    "\n",
    "print(integral(g, 0, 1))"
   ]
  },
  {
   "cell_type": "markdown",
   "metadata": {},
   "source": [
    "### Ejercicio\n",
    "\n",
    "Otras funciones conocidas de orden superior que puedes diseñar ahora son las siguientes:\n",
    "- La derivada de una función (derivable) en un punto\n",
    "- El método de bipartición para calcular el cero de una función en un intervalo supuesto que...\n",
    "- Newton-Raphson, partiendo de un punto y supuesto que..."
   ]
  },
  {
   "cell_type": "markdown",
   "metadata": {},
   "source": [
    "## 2. Funciones de orden superior predefinidas"
   ]
  },
  {
   "cell_type": "markdown",
   "metadata": {},
   "source": [
    "### La función map"
   ]
  },
  {
   "cell_type": "code",
   "execution_count": 6,
   "metadata": {},
   "outputs": [
    {
     "name": "stdout",
     "output_type": "stream",
     "text": [
      "[0, 1, 2, 3, 4, 5, 6, 7, 8, 9]\n",
      "[1, 2, 3, 4, 5, 6, 7, 8, 9, 10]\n",
      "[1, 2, 3, 4, 5, 6, 7, 8, 9, 10]\n"
     ]
    }
   ],
   "source": [
    "# map ---------------------------------------------------------------------\n",
    "\n",
    "def mymap(funcion, lista):\n",
    "    lista_nueva = []\n",
    "    for a in lista:\n",
    "        lista_nueva.append(funcion(a))\n",
    "    return lista_nueva\n",
    "\n",
    "lista_a = list(range(10))\n",
    "print(lista_a)\n",
    "\n",
    "# Definimos una función de primer orden que nos servirá luego:\n",
    "\n",
    "def incr_1(n):\n",
    "    return n+1\n",
    "\n",
    "print(mymap(incr_1, lista_a))\n",
    "lista_b = list(map(incr_1, lista_a))\n",
    "print(lista_b)"
   ]
  },
  {
   "cell_type": "markdown",
   "metadata": {},
   "source": [
    "### Pereza\n",
    "La función map es perezosa: NO se evalúa mientras no haya demanda."
   ]
  },
  {
   "cell_type": "code",
   "execution_count": 7,
   "metadata": {},
   "outputs": [
    {
     "name": "stdout",
     "output_type": "stream",
     "text": [
      "<map object at 0x0000019C623605F8>\n",
      "[10.0, 5.0, 3.3333333333333335, 2.5, 2.0]\n",
      "<map object at 0x0000019C623606A0>\n",
      "2.0\n",
      "2.5\n",
      "3.3333333333333335\n"
     ]
    }
   ],
   "source": [
    "lista_a = [1, 2, 3, 4, 5]\n",
    "lista_b = map(lambda d : 10 / d, lista_a)\n",
    "print(lista_b)\n",
    "print(list(lista_b))\n",
    "\n",
    "# lo siguiente produciría un error con evaluación impaciente:\n",
    "\n",
    "lista_a = [5, 4, 3, 2, 1, 0]\n",
    "lista_b = map(lambda d : 10 / d, lista_a)\n",
    "print(lista_b)\n",
    "for e in range(3):\n",
    "    print(next(lista_b))"
   ]
  },
  {
   "cell_type": "markdown",
   "metadata": {},
   "source": [
    "### La función filter"
   ]
  },
  {
   "cell_type": "code",
   "execution_count": 8,
   "metadata": {},
   "outputs": [
    {
     "name": "stdout",
     "output_type": "stream",
     "text": [
      "[0, 1, 2, 3, 4, 5, 6, 7, 8, 9]\n",
      "[0, 2, 4, 6, 8]\n",
      "[0, 2, 4, 6, 8]\n"
     ]
    }
   ],
   "source": [
    "# filter ---------------------------------------------------------------------\n",
    "\n",
    "def myfilter(predicado, lista):\n",
    "    lista_nueva = []\n",
    "    for a in lista:\n",
    "        if predicado(a):\n",
    "            lista_nueva.append(a)\n",
    "    return lista_nueva\n",
    "\n",
    "lista_a = list(range(10))\n",
    "print(lista_a)\n",
    "\n",
    "# Definimos una función de primer orden que nos servirá luego:\n",
    "\n",
    "def es_par(n):\n",
    "    return n%2 == 0\n",
    "\n",
    "print(myfilter(es_par, lista_a))\n",
    "lista_b = list(filter(es_par, lista_a))\n",
    "print(lista_b)"
   ]
  },
  {
   "cell_type": "markdown",
   "metadata": {},
   "source": [
    "La función filter también es perezosa: NO se evalúa mientras no haya demanda."
   ]
  },
  {
   "cell_type": "markdown",
   "metadata": {},
   "source": [
    "### La función reduce"
   ]
  },
  {
   "cell_type": "code",
   "execution_count": 9,
   "metadata": {},
   "outputs": [
    {
     "name": "stdout",
     "output_type": "stream",
     "text": [
      "[1, 2, 3, 4, 5]\n",
      "120\n"
     ]
    }
   ],
   "source": [
    "# reduce ---------------------------------------------------------------------\n",
    "\n",
    "def prod(a, b):\n",
    "    return a*b\n",
    "\n",
    "from functools import reduce\n",
    "\n",
    "lista = range(1, 6)\n",
    "print(list(lista))\n",
    "\n",
    "fact = reduce(prod, range(1, 6))\n",
    "print(fact)"
   ]
  },
  {
   "cell_type": "markdown",
   "metadata": {},
   "source": [
    "### Ejercicios\n",
    "\n",
    "<ul> \n",
    "<li> Define la función $myreduce$, de orden superior... Observa que si la función no fuera asociativa podría funcionar de manera distinta asociando a la derecha o a la izquierda, de manera que es mejor definir dos funciones. Aplícala a la evaluación de polinomios: eval_pol(x, $[k_0, k_1, ..., k_n]$) = $k_0 x^n +  k_1 x^{n-1} + ... + k_n$.\n",
    "<li> Dado el término general de una sucesión $a_n$ de reales (que en realidad es una función a : N -> R), podemos dar la lista de términos $a_i$ para $i \\in \\{k_1, ..., k_2\\}$ aplicando la función $a$ a cada uno de los términos de la lista... mediante la función map. También podemos quedarnos con los que cumplen una propiedad y hallar el sumatorio: $\\sum_{i \\in \\{k_1, ..., k_2\\}, p(i)} a_i$\n",
    "</li> \n",
    "</ul>"
   ]
  },
  {
   "cell_type": "markdown",
   "metadata": {},
   "source": [
    "## 3. Lambda expresiones\n"
   ]
  },
  {
   "cell_type": "code",
   "execution_count": 10,
   "metadata": {},
   "outputs": [
    {
     "name": "stdout",
     "output_type": "stream",
     "text": [
      "25\n"
     ]
    }
   ],
   "source": [
    "f = lambda x : x*x\n",
    "\n",
    "print(f(5))"
   ]
  },
  {
   "cell_type": "code",
   "execution_count": 11,
   "metadata": {},
   "outputs": [
    {
     "name": "stdout",
     "output_type": "stream",
     "text": [
      "6\n"
     ]
    }
   ],
   "source": [
    "print((lambda x : (x+1)*2)(2))     # Usamos la función x -> (x+1)*2, sin nombre, y la aplicamos a un dato"
   ]
  },
  {
   "cell_type": "code",
   "execution_count": 12,
   "metadata": {},
   "outputs": [
    {
     "name": "stdout",
     "output_type": "stream",
     "text": [
      "48\n",
      "5\n"
     ]
    }
   ],
   "source": [
    "fun_p2g = lambda a, b, c : (lambda x : a*x*x + b*x + c)\n",
    "f = fun_p2g(2, 3, 4)\n",
    "print(f(4))\n",
    "print(fun_p2g(1, 0, 1)(2))"
   ]
  },
  {
   "cell_type": "markdown",
   "metadata": {},
   "source": [
    "### Ejercicios\n",
    "\n",
    "<ul>\n",
    "<li> El factorial es la función que toma un parámetro y... (factorial = lambda n : ...) calcula el producto de los números desde 1 hasta el dato $n$, dado. ¿Sabrías escribir esto con lambda expresiones?\n",
    "</li>\n",
    "<li>\n",
    "Dada una lista de nombres de persona, tenemos una función que selecciona los que tienen una longitud menor o igual a una cantidad, dada. Funciona así, por ejemplo:\n",
    "\n",
    "<pre>\n",
    "          >>>l = ['Ana', 'Marta', 'Patricia', 'Alba', 'Silvia', 'Gloria', 'Lara']\n",
    "          >>>short_names(l, 5), short_names(l, 3)\n",
    "          ([’Ana’, ’Marta’, ’Alba’, ’Lara’], [’Ana’])\n",
    "</pre>\n",
    "\n",
    "Se trata de definir la función short_names así:\n",
    "\n",
    "<pre>\n",
    "          >>>sort_names = list(lambda ... : filter ...)\n",
    "</pre>\n",
    "</li>\n",
    "\n",
    "<li> Dado el término general de una sucesión $a_n$ de reales (que en realidad es una función a : N -> R), podemos dar la lista de términos $a_i$ para $i \\in {k_1, ..., k_2}$ aplicando la función $a$ a cada uno de los términos de la lista... mediante la función map.\n",
    "</li> \n",
    "\n",
    "<li> Expresa la función sumatorio, que suma los términos de una sucesión entre dos límites dados, esto es, $\\sum_{i=k_1}^{k_2}a_i$, usando lambda expresiones.\n",
    "</li> \n",
    "\n",
    "<li> El sumatorio en sí es una función de orden superior, pues recibe como parámetro una sucesión...</li> \n",
    "\n",
    "</ul>"
   ]
  },
  {
   "cell_type": "markdown",
   "metadata": {},
   "source": [
    "### Aplicación: el orden superior como parámetro de la ordenación"
   ]
  },
  {
   "cell_type": "code",
   "execution_count": 13,
   "metadata": {},
   "outputs": [
    {
     "name": "stdout",
     "output_type": "stream",
     "text": [
      "[0, 1, 2, 3, 4, 5, 6, 7, 8, 9, 10, 11, 12, 13, 14, 15, 16, 17, 18, 19, 20, 21, 22, 23, 24, 25, 26, 27, 28, 29, 30, 31, 32, 33, 34, 35, 36, 37, 38, 39, 40, 41, 42, 43, 44, 45, 46, 47, 48, 49, 50, 51, 52, 53, 54, 55, 56, 57, 58, 59, 60, 61, 62, 63, 64, 65, 66, 67, 68, 69, 70, 71, 72, 73, 74, 75, 76, 77, 78, 79, 80, 81, 82, 83, 84, 85, 86, 87, 88, 89, 90, 91, 92, 93, 94, 95, 96, 97, 98, 99]\n",
      "------------------------------------------\n",
      "[0, 1, 2, 3, 4, 5, 6, 7, 8, 9, 1, 2, 3, 4, 5, 6, 7, 8, 9, 10, 2, 3, 4, 5, 6, 7, 8, 9, 10, 11, 3, 4, 5, 6, 7, 8, 9, 10, 11, 12, 4, 5, 6, 7, 8, 9, 10, 11, 12, 13, 5, 6, 7, 8, 9, 10, 11, 12, 13, 14, 6, 7, 8, 9, 10, 11, 12, 13, 14, 15, 7, 8, 9, 10, 11, 12, 13, 14, 15, 16, 8, 9, 10, 11, 12, 13, 14, 15, 16, 17, 9, 10, 11, 12, 13, 14, 15, 16, 17, 18]\n",
      "------------------------------------------\n",
      "[0, 1, 10, 2, 11, 20, 3, 12, 21, 30, 4, 13, 22, 31, 40, 5, 14, 23, 32, 41, 50, 6, 15, 24, 33, 42, 51, 60, 7, 16, 25, 34, 43, 52, 61, 70, 8, 17, 26, 35, 44, 53, 62, 71, 80, 9, 18, 27, 36, 45, 54, 63, 72, 81, 90, 19, 28, 37, 46, 55, 64, 73, 82, 91, 29, 38, 47, 56, 65, 74, 83, 92, 39, 48, 57, 66, 75, 84, 93, 49, 58, 67, 76, 85, 94, 59, 68, 77, 86, 95, 69, 78, 87, 96, 79, 88, 97, 89, 98, 99]\n",
      "------------------------------------------\n"
     ]
    }
   ],
   "source": [
    "# Cosas preliminares:\n",
    "\n",
    "import random\n",
    "lista = list(range(0,100)) # todos los números de dos cifras\n",
    "\n",
    "print(lista)\n",
    "\n",
    "print(\"------------------------------------------\")\n",
    "\n",
    "def sumCifras(n):\n",
    "    return n//10 + n%10\n",
    "\n",
    "print(list(map(sumCifras, lista)))\n",
    "\n",
    "print(\"------------------------------------------\")\n",
    "\n",
    "lista.sort(key=sumCifras)\n",
    "print(lista)\n",
    "\n",
    "print(\"------------------------------------------\")"
   ]
  },
  {
   "cell_type": "markdown",
   "metadata": {},
   "source": [
    "### Ejercicios\n",
    "\n",
    "- Genera una lista con 25 pares de números enteros aleatorios, entre 1 y 10: son las coordenadas de 25 puntos del plano discreto. Almacenamos esta lista en una variable *lista_inicial*, y en otra *lista_de_trabajo*, con la que vamos a trabajar.\n",
    "\n",
    "- Ahora, define una función que reciba dos puntos del plano discreto (dos pares de enteros) y calcule la distancia euclídea entre dichos puntos.\n",
    "\n",
    "- Define ahora una función de orden superior tal que, dado un punto $P$, dé la función $dist_P$, que calcula la distancia (a $P$) de un punto: $dist_P(Q) = ||\\overline{PQ}||$.\n",
    "\n",
    "- Define una función que, dado un punto $P$ y una lista de puntos, devuelve la lista de puntos dada, pero ordenada de menor a mayor distancia a $P$.\n",
    "\n",
    "(Nota: observa que la función *sorted(lista)* da una lista ordenada, pero no cambia la lista dada.)"
   ]
  },
  {
   "cell_type": "markdown",
   "metadata": {},
   "source": [
    "## 4. Listas definidas por comprensión"
   ]
  },
  {
   "cell_type": "code",
   "execution_count": 14,
   "metadata": {},
   "outputs": [
    {
     "name": "stdout",
     "output_type": "stream",
     "text": [
      "[0, 1, 4, 9, 16, 25, 36, 49, 64, 81, 100]\n"
     ]
    }
   ],
   "source": [
    "print([i**2 for i in range(11)])                      # una expresión (sencilla) y un generador"
   ]
  },
  {
   "cell_type": "code",
   "execution_count": 15,
   "metadata": {},
   "outputs": [
    {
     "name": "stdout",
     "output_type": "stream",
     "text": [
      "[(0, 0), (1, 1), (2, 4), (3, 9), (4, 16), (5, 25), (6, 36), (7, 49), (8, 64), (9, 81), (10, 100)]\n"
     ]
    }
   ],
   "source": [
    "print([(i, i**2) for i in range(11)])                 # una expresión (una tupla) y un generador"
   ]
  },
  {
   "cell_type": "code",
   "execution_count": 16,
   "metadata": {},
   "outputs": [
    {
     "name": "stdout",
     "output_type": "stream",
     "text": [
      "[(0, 0), (2, 4), (4, 16), (6, 36), (8, 64), (10, 100)]\n"
     ]
    }
   ],
   "source": [
    "print([(i, i**2) for i in range(11) if i%2==0])       # una expresión, un generador y un filtro"
   ]
  },
  {
   "cell_type": "code",
   "execution_count": 17,
   "metadata": {},
   "outputs": [
    {
     "name": "stdout",
     "output_type": "stream",
     "text": [
      "[(0, 0), (0, 1), (0, 2), (1, 0), (1, 1), (1, 2), (2, 0), (2, 1), (2, 2), (3, 0), (3, 1), (3, 2), (4, 0), (4, 1), (4, 2)]\n"
     ]
    }
   ],
   "source": [
    "print([(i, j) for i in range(5) for j in range(3)])   # una expresión y dos generadores"
   ]
  },
  {
   "cell_type": "code",
   "execution_count": 18,
   "metadata": {},
   "outputs": [
    {
     "name": "stdout",
     "output_type": "stream",
     "text": [
      "[(1, 0), (2, 0), (2, 1), (3, 0), (3, 1), (3, 2), (4, 0), (4, 1), (4, 2), (4, 3), (5, 0), (5, 1), (5, 2), (5, 3), (5, 4), (6, 0), (6, 1), (6, 2), (6, 3), (6, 4), (6, 5), (7, 0), (7, 1), (7, 2), (7, 3), (7, 4), (7, 5), (7, 6), (8, 0), (8, 1), (8, 2), (8, 3), (8, 4), (8, 5), (8, 6), (8, 7), (9, 0), (9, 1), (9, 2), (9, 3), (9, 4), (9, 5), (9, 6), (9, 7), (9, 8)]\n"
     ]
    }
   ],
   "source": [
    "print([(i, j) for i in range(10) for j in range(i)])  # una expresión y dos generadores, el segundo dependiente del primero"
   ]
  },
  {
   "cell_type": "markdown",
   "metadata": {},
   "source": [
    "### Ejercicio\n",
    "\n",
    "<ul>\n",
    "<li>\n",
    "La función *select_multiplos(n, k)* genera los números desde 1 hasta $n$ que son múltiplos de $k$. Defínela usando listas por comprensión.\n",
    "</li>\n",
    "</ul>"
   ]
  },
  {
   "cell_type": "code",
   "execution_count": 19,
   "metadata": {},
   "outputs": [
    {
     "name": "stdout",
     "output_type": "stream",
     "text": [
      "[1, 2, 3, 4, 5, 6, 7]\n",
      "-----------------------------------------------\n",
      "[0, 1, 3, 5, 7, 11, 13, 17, 19, 23, 29, 31, 37, 41, 43, 47, 53, 59, 61, 67, 71, 73, 79, 83, 89, 97]\n"
     ]
    }
   ],
   "source": [
    "import math\n",
    "\n",
    "def take_until_reach_value(list_in, valor):\n",
    "    \"\"\"Pre.: list is long enough, and increasing\"\"\"\n",
    "    i = 0\n",
    "    list_out = []\n",
    "    while list_in[i] <= valor:\n",
    "        list_out.append(list_in[i])\n",
    "        i = i+1\n",
    "    return list_out\n",
    "\n",
    "print(take_until_reach_value(range(1, 1000), math.sqrt(56)))\n",
    "\n",
    "print(\"-----------------------------------------------\")\n",
    "\n",
    "def es_primo_relativo(n, lista):\n",
    "    \"\"\"Dev. True syss n NO es divisible entre ningún entero de la lista\"\"\"\n",
    "    return all(map(lambda d : n % d != 0, lista))\n",
    "\n",
    "es_primo_relativo(27, [2, 4, 5, 6, 8, 10])\n",
    "\n",
    "def es_primo(n):\n",
    "    return es_primo_relativo(n, range(2, math.ceil(math.sqrt(n))+1))\n",
    "\n",
    "print(list(filter(es_primo, range(100))))"
   ]
  },
  {
   "cell_type": "markdown",
   "metadata": {},
   "source": [
    "### Ejercicio\n",
    "\n",
    "Esta última instrucción\n",
    "<pre>print(list(filter(es_primo, range(2, 100))))</pre>\n",
    "se puede expresar mediante una lista definida por comprensión:\n",
    "<pre>[... for ... if ...]</pre>\n",
    "\n",
    "Eso es lo que te pido."
   ]
  },
  {
   "cell_type": "markdown",
   "metadata": {},
   "source": [
    "## 5. Listas y generadores. Listas infinitas y evaluación perezosa"
   ]
  },
  {
   "cell_type": "code",
   "execution_count": 20,
   "metadata": {},
   "outputs": [
    {
     "name": "stdout",
     "output_type": "stream",
     "text": [
      "[0, 1, 2, 3, 4, 5, 6, 7, 8, 9, 10, 11, 12, 13, 14, 15, 16, 17, 18, 19, 20, 21, 22, 23, 24, 25, 26, 27, 28, 29, 30, 31, 32, 33, 34, 35, 36, 37, 38, 39, 40, 41, 42, 43, 44, 45, 46, 47, 48, 49]\n"
     ]
    }
   ],
   "source": [
    "def natural_numbers():\n",
    "    i = 0\n",
    "    while True:\n",
    "        yield i\n",
    "        i = i+1\n",
    "    \n",
    "def tomar_n_valores_de(generador, n):\n",
    "    cont = 0\n",
    "    for i in generador:\n",
    "        yield i\n",
    "        cont = cont + 1\n",
    "        if cont == n:\n",
    "            return\n",
    "\n",
    "lista = tomar_n_valores_de(natural_numbers(), 50)\n",
    "print(list(lista))"
   ]
  },
  {
   "cell_type": "code",
   "execution_count": 21,
   "metadata": {},
   "outputs": [
    {
     "name": "stdout",
     "output_type": "stream",
     "text": [
      "[0, 1, 2, 3, 4, 5, 6, 7, 8, 9, 10, 11, 12, 13, 14, 15, 16, 17, 18, 19, 20, 21, 22, 23, 24, 25, 26, 27, 28, 29, 30, 31]\n"
     ]
    }
   ],
   "source": [
    "def tomar_hasta_rebasar(generador, valor):\n",
    "    for i in generador:\n",
    "        yield i\n",
    "        if i > valor:\n",
    "            return\n",
    "\n",
    "lista = tomar_hasta_rebasar(natural_numbers(), 30.4)\n",
    "\n",
    "print(list(lista))"
   ]
  },
  {
   "cell_type": "code",
   "execution_count": 22,
   "metadata": {},
   "outputs": [
    {
     "name": "stdout",
     "output_type": "stream",
     "text": [
      "0 1 2 3 4 5 6 7 8 9 10 11 12 13 14 15 16 17 18 19 20 21 22 23 24 25 26 27 28 29 30 31 32 33 34 35 36 37 38 39 40 41 42 43 44 45 46 47 48 49 50 51 52 53 54 55 56 57 58 59 60 61 62 63 64 65 66 67 68 69 70 71 72 73 74 75 76 77 78 79 80 81 82 83 84 85 86 87 88 89 90 91 92 93 94 95 96 97 98 99 100 \n",
      "-----------------------------------\n",
      "101 102 103 104 105 106 107 108 109 110 111 112 113 114 115 116 117 118 119 120 121 122 123 124 125 126 127 128 129 130 131 132 133 134 135 136 137 138 139 140 141 142 143 144 145 146 147 148 149 150 151 152 153 154 155 156 157 158 159 160 161 162 163 164 165 166 167 168 169 170 171 172 173 174 175 176 177 178 179 180 181 182 183 184 185 186 187 188 189 190 191 192 193 194 195 196 197 198 199 200 201 \n"
     ]
    }
   ],
   "source": [
    "zeta = natural_numbers()\n",
    "\n",
    "for i in zeta:\n",
    "    print(i, end= \" \")\n",
    "    if i >= 100:\n",
    "        print()\n",
    "        break\n",
    "\n",
    "print(\"-----------------------------------\")\n",
    "\n",
    "for i in zeta:\n",
    "    print(i, end= \" \")\n",
    "    if i > 200:\n",
    "        print()\n",
    "        break\n"
   ]
  }
 ],
 "metadata": {
  "kernelspec": {
   "display_name": "Python 3",
   "language": "python",
   "name": "python3"
  },
  "language_info": {
   "codemirror_mode": {
    "name": "ipython",
    "version": 3
   },
   "file_extension": ".py",
   "mimetype": "text/x-python",
   "name": "python",
   "nbconvert_exporter": "python",
   "pygments_lexer": "ipython3",
   "version": "3.7.3"
  }
 },
 "nbformat": 4,
 "nbformat_minor": 1
}
