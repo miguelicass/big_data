{
 "cells": [
  {
   "cell_type": "markdown",
   "metadata": {},
   "source": [
    "# Programación funcional y orden superior. Ejercicios resueltos\n",
    "\n",
    "<hr>"
   ]
  },
  {
   "cell_type": "markdown",
   "metadata": {},
   "source": [
    "### Introducción\n",
    "\n",
    "1.\tGenera las siguientes listas, usando listas intensionales o usando las funciones de orden superior map, filter, etc.\n",
    "\n",
    "    -\tLa lista con los cuadrados de los 10 primeros números\n",
    "    -\tÍdem, pero únicamente de los números pares."
   ]
  },
  {
   "cell_type": "code",
   "execution_count": 1,
   "metadata": {},
   "outputs": [
    {
     "name": "stdout",
     "output_type": "stream",
     "text": [
      "[1, 4, 9, 16, 25, 36, 49, 64, 81, 100]\n",
      "[1, 4, 9, 16, 25, 36, 49, 64, 81, 100]\n",
      "[4, 16, 36, 64, 100]\n",
      "[4, 16, 36, 64, 100]\n"
     ]
    }
   ],
   "source": [
    "diez_cuadrados = [i**2 for i in range(1, 10+1)]\n",
    "print(diez_cuadrados)\n",
    "\n",
    "diez_cuadrados = list(map(lambda i: i**2, range(1, 10+1)))\n",
    "print(diez_cuadrados)\n",
    "\n",
    "diez_cuadrados_pares = [i**2 for i in range(1, 10+1) if i%2==0]\n",
    "print(diez_cuadrados_pares)\n",
    "\n",
    "diez_cuadrados_pares = list(map(lambda i: i**2, filter(lambda n: n%2==0, range(1, 10+1))))\n",
    "print(diez_cuadrados_pares)"
   ]
  },
  {
   "cell_type": "markdown",
   "metadata": {},
   "source": [
    "### Algunos ejercicios sencillos con un poco de matemáticas\n",
    "\n",
    "Diseña funciones para los siguientes cálculos:\n",
    "\n",
    "- La derivada de una función (derivable) en un punto\n",
    "\n",
    "- El método de bipartición para calcular el cero de una función en un intervalo supuesto que...\n",
    "\n",
    "- Newton-Raphson, partiendo de un punto y supuesto que...\n",
    "\n",
    "- Dado el término general de una sucesión $a_n$ de reales (que en realidad es una función $a ∶ N \\rightarrow R$), define la función que da la lista de términos $a_i$ para  $i \\in \\{a_1, \\ldots, a_n\\}$, aplicando la función a cada término de la lista $[1, \\ldots, n]$ mediante la función `map`. Expresa la función “sumatorio”, que suma los términos de una sucesión entre dos límites dados, esta vez, usando lambda expresiones.\n",
    "\n",
    "- También podemos quedarnos con los que cumplen una propiedad y hallar el sumatorio:\n",
    "    \n",
    "    $$\\sum_{i \\in \\{k_1, ..., k_2\\}, p(i)} a_i$$"
   ]
  },
  {
   "cell_type": "markdown",
   "metadata": {},
   "source": [
    "### Vamos con las soluciones a este pequeño apartado:\n",
    "\n",
    "- La derivada de una función (derivable) en un punto"
   ]
  },
  {
   "cell_type": "code",
   "execution_count": 2,
   "metadata": {},
   "outputs": [
    {
     "name": "stdout",
     "output_type": "stream",
     "text": [
      "0.49956690400077 0.4999995669718871\n"
     ]
    }
   ],
   "source": [
    "from math import sin, pi\n",
    "\n",
    "def derivada(f, x, eps=0.001):\n",
    "    return (f(x + eps) - f(x)) / eps\n",
    "\n",
    "print(derivada(sin, pi/3), derivada(sin, pi/3, eps=0.000001))"
   ]
  },
  {
   "cell_type": "markdown",
   "metadata": {},
   "source": [
    "La función anterior tiene el siguiente tipo:\n",
    "\n",
    "    derivada: (R -> R, R) -> R\n",
    "\n",
    "Es decir, recibe como parámetros una función $f$ y un real $x$ y da como resultado otro real, $f'x)$.\n",
    "\n",
    "Pero podríamos desear convertir una función en su derivada; esto es:\n",
    "\n",
    "    derivada: (R -> R) -> (R -> R)\n",
    "\n",
    "Vamos con ello:"
   ]
  },
  {
   "cell_type": "code",
   "execution_count": 3,
   "metadata": {},
   "outputs": [
    {
     "name": "stdout",
     "output_type": "stream",
     "text": [
      "0.49956690400077\n",
      "0.4999995669718871\n",
      "........................\n",
      "0.49956690400077\n",
      "0.4999995669718871\n"
     ]
    }
   ],
   "source": [
    "from math import sin, pi\n",
    "\n",
    "def derivada(f, eps=0.001):\n",
    "    def der_f(x):\n",
    "        return (f(x + eps) - f(x)) / eps\n",
    "    return der_f\n",
    "\n",
    "print(derivada(sin)(pi/3))\n",
    "print(derivada(sin, eps=0.000001)(pi/3))\n",
    "\n",
    "print(\"........................\")\n",
    "\n",
    "# A lo mejor lo ves más claro así:\n",
    "\n",
    "der_sin = derivada(sin)\n",
    "print(der_sin(pi/3))\n",
    "      \n",
    "der_sin = derivada(sin, eps=0.000001)\n",
    "print(der_sin(pi/3))"
   ]
  },
  {
   "cell_type": "markdown",
   "metadata": {},
   "source": [
    "- El método de bipartición para calcular el cero de una función en un intervalo supuesto que..."
   ]
  },
  {
   "cell_type": "code",
   "execution_count": 4,
   "metadata": {},
   "outputs": [],
   "source": [
    "# Bipartición y Newton Raphson, resueltos en el apartado de funciones"
   ]
  },
  {
   "cell_type": "markdown",
   "metadata": {},
   "source": [
    "- Dado el término general de una sucesión $a_n$ de reales (que en realidad es una función $a ∶ N \\rightarrow R$), define la función que da la lista de términos $a_i$ para  $i \\in \\{a_1, \\ldots, a_n\\}$, aplicando la función a cada término de la lista $[1, \\ldots, n]$ mediante la función `map`. Expresa la función “sumatorio”, que suma los términos de una sucesión entre dos límites dados, esta vez, usando lambda expresiones."
   ]
  },
  {
   "cell_type": "code",
   "execution_count": 5,
   "metadata": {},
   "outputs": [
    {
     "name": "stdout",
     "output_type": "stream",
     "text": [
      "[3, 5, 7, 9, 11, 13, 15, 17, 19, 21]\n",
      "143\n"
     ]
    }
   ],
   "source": [
    "def a(n):\n",
    "    return 2*n+1\n",
    "\n",
    "print(list(map(a, range(1, 11))))\n",
    "\n",
    "sumatorio = lambda a, inf, sup: sum(map(a, range(inf, sup+1)))\n",
    "\n",
    "print(sumatorio(a, 1, 11))"
   ]
  },
  {
   "cell_type": "markdown",
   "metadata": {},
   "source": [
    "- Variante: además de dar los límites del sumatorio, podríamos desear imponer un predicado:\n",
    "\n",
    "$$\\sum_{i=0, \\ i \\ es \\ par}^n a_i$$\n",
    "\n",
    "o no imponer dicha condición, en cuyo caso se acumulan todos los términos de la sucesión entre los límites indicados:\n",
    "   \n",
    "$$\\sum_{i=0}^n a_i$$"
   ]
  },
  {
   "cell_type": "code",
   "execution_count": 6,
   "metadata": {},
   "outputs": [
    {
     "name": "stdout",
     "output_type": "stream",
     "text": [
      "[3, 5, 7, 9, 11, 13, 15, 17, 19, 21]\n",
      "143\n",
      "65\n"
     ]
    }
   ],
   "source": [
    "def a(n):\n",
    "    return 2*n+1\n",
    "\n",
    "def es_par(n):\n",
    "    return n%2==0\n",
    "\n",
    "print(list(map(a, range(1, 11))))\n",
    "\n",
    "def sumatorio_p(a, inf, sup, p=lambda x: True):\n",
    "    return sum([a(i) for i in range(inf, sup + 1) if p(i)])\n",
    "    \n",
    "print(sumatorio_p(a, 1, 11))\n",
    "print(sumatorio_p(a, 1, 11, es_par))"
   ]
  },
  {
   "cell_type": "markdown",
   "metadata": {},
   "source": [
    "### Función misteriosa\n",
    "\n",
    "¿Qué hace la siguiente función?\n",
    "\n",
    "    fun = lambda a, b: lambda c: (a(b(c)), b(a(c)))"
   ]
  },
  {
   "cell_type": "code",
   "execution_count": 7,
   "metadata": {},
   "outputs": [
    {
     "name": "stdout",
     "output_type": "stream",
     "text": [
      "(15, 16)\n"
     ]
    }
   ],
   "source": [
    "# Solución: veo que a y f son funciones, de un parámetro, porque se aplican a argumentos simples.\n",
    "# Cambio los identificadores...\n",
    "\n",
    "fun = lambda f, g: lambda x: (f(g(x)), g(f(x)))\n",
    "\n",
    "# y pruebo con funciones conocidas:\n",
    "\n",
    "m1 = lambda x: x+1 # mas 1\n",
    "p2 = lambda x: x*2 # por 2\n",
    "\n",
    "print(fun(m1, p2)(7))\n",
    "\n",
    "# Y vemos cómo compone ambas funciones en los dos órdenes posibles:"
   ]
  },
  {
   "cell_type": "markdown",
   "metadata": {},
   "source": [
    "### Función factorial, de nuevo\n",
    "\n",
    "La función factorial toma un parámetro y calcula el producto de los números desde 1 hasta el dato. Escribe esto con lambda expresiones: $f = \\lambda n : \\ldots$."
   ]
  },
  {
   "cell_type": "code",
   "execution_count": 8,
   "metadata": {},
   "outputs": [
    {
     "name": "stdout",
     "output_type": "stream",
     "text": [
      "93326215443944152681699238856266700490715968264381621468592963895217599993229915608941463976156518286253697920827223758251185210916864000000000000000000000000\n"
     ]
    }
   ],
   "source": [
    "from functools import reduce\n",
    "\n",
    "prod = lambda a, b: a*b\n",
    "factorial = lambda n : reduce(prod, range(1, n+1))\n",
    "\n",
    "print(factorial(100))"
   ]
  },
  {
   "cell_type": "markdown",
   "metadata": {},
   "source": [
    "### Función máximo, reinventada\n",
    "\n",
    "4.\tLa función máximo se puede definir mediante un reduce:\n",
    "\n",
    "        def maximo(lista):\n",
    "            return reduce(lambda..., lista)\n",
    "\n",
    "    ¿Serás capaz de completar los puntos suspensivos con una expresión lambda?\n"
   ]
  },
  {
   "cell_type": "code",
   "execution_count": 9,
   "metadata": {},
   "outputs": [
    {
     "name": "stdout",
     "output_type": "stream",
     "text": [
      "400\n"
     ]
    }
   ],
   "source": [
    "from functools import reduce\n",
    "\n",
    "def maximo(lista):\n",
    "    return reduce(lambda a, b: a if a > b else b, lista)\n",
    "\n",
    "print(maximo([3, 2, 5, 9, 23, 6, 45, 400, 57, 0]))"
   ]
  },
  {
   "cell_type": "markdown",
   "metadata": {},
   "source": [
    "### Nombres de persona\n",
    "\n",
    "Dada una lista de nombres de persona, tenemos una función que selecciona los que tienen una longitud menor o igual a una cantidad, dada. Funciona así, por ejemplo:\n",
    "\n",
    "    >>>l = ['Ana', 'Marta', 'Patricia', 'Alba', 'Silvia', 'Gloria', 'Lara']\n",
    "    >>>short_names(l, 5), short_names(l, 3)\n",
    "    ([’Ana’, ’Marta’, ’Alba’, ’Lara’], [’Ana’])\n",
    "\n",
    "Te pido que definas la función short_names así:\n",
    "\n",
    "    >>>sort_names = lambda lista, n: list(filter ...)"
   ]
  },
  {
   "cell_type": "code",
   "execution_count": 10,
   "metadata": {},
   "outputs": [
    {
     "data": {
      "text/plain": [
       "(['Ana', 'Marta', 'Alba', 'Lara'], ['Ana'])"
      ]
     },
     "execution_count": 10,
     "metadata": {},
     "output_type": "execute_result"
    }
   ],
   "source": [
    "l = ['Ana', 'Marta', 'Patricia', 'Alba', 'Silvia', 'Gloria', 'Lara']\n",
    "\n",
    "short_names = lambda lista, n: list(filter(lambda name: len(name)<=n, lista))\n",
    "\n",
    "short_names(l, 5), short_names(l, 3)"
   ]
  },
  {
   "cell_type": "markdown",
   "metadata": {},
   "source": [
    "### Múltiplos\n",
    "\n",
    "Define la función `select_multiplos(n, k)`, que genera los números desde 1 hasta $n$ que son múltiplos de $k$. Hazlo usando listas por comprensión."
   ]
  },
  {
   "cell_type": "code",
   "execution_count": 11,
   "metadata": {},
   "outputs": [
    {
     "data": {
      "text/plain": [
       "[7, 14, 21, 28, 35, 42, 49, 56, 63, 70, 77, 84, 91, 98]"
      ]
     },
     "execution_count": 11,
     "metadata": {},
     "output_type": "execute_result"
    }
   ],
   "source": [
    "def select_multiplos(n, k):\n",
    "    return [i for i in range(1, n+1) if i % k == 0]\n",
    "\n",
    "select_multiplos(100, 7)"
   ]
  },
  {
   "cell_type": "markdown",
   "metadata": {},
   "source": [
    "### Función para filter\n",
    "\n",
    "Supongamos definida la función siguiente, que comprueba si un número es primo:\n",
    "\n",
    "    def es_primo(n):\n",
    "        i = 2\n",
    "        while i*i <= n and (n%i!=0):\n",
    "            i += 1\n",
    "        return i*i>n\n",
    "\n",
    "Define una instrucción que actúe como la siguiente,\n",
    "\n",
    "    >>> print(list(filter(es_primo, range(2, 100))))\n",
    "\n",
    "pero usando una lista definida por comprensión:\n",
    "\n",
    "    >>> print([... for ... if ...])"
   ]
  },
  {
   "cell_type": "code",
   "execution_count": 12,
   "metadata": {},
   "outputs": [
    {
     "name": "stdout",
     "output_type": "stream",
     "text": [
      "[2, 3, 5, 7, 11, 13, 17, 19, 23, 29, 31, 37, 41, 43, 47, 53, 59, 61, 67, 71, 73, 79, 83, 89, 97]\n",
      "........................\n",
      "[2, 3, 5, 7, 11, 13, 17, 19, 23, 29, 31, 37, 41, 43, 47, 53, 59, 61, 67, 71, 73, 79, 83, 89, 97]\n"
     ]
    }
   ],
   "source": [
    "def es_primo(n):\n",
    "    i = 2\n",
    "    while i*i <= n and (n%i!=0):\n",
    "        i += 1\n",
    "    return i*i>n\n",
    "\n",
    "print(list(filter(es_primo, range(2, 100))))\n",
    "\n",
    "print(\"........................\")\n",
    "    \n",
    "print([p for p in range(2, 100) if es_primo(p)])"
   ]
  },
  {
   "cell_type": "markdown",
   "metadata": {},
   "source": [
    "### Puntos y distancias\n",
    "\n",
    "Dado un punto especial $P$, deseamos definir una función `dist`, que aplicada a $P$ dé como resultado otra función, (le llamaremos `dist`$_P$), que aplicada a un punto $q$ calcule la distancia (a $P$) de $q$:\n",
    "\n",
    "$$dist_P(q) = |P, q|$$\n",
    "\n",
    "Tenemos ahora una colección de puntos del plano, esto es, una lista de pares de reales. La llamamos, sencillamente “puntos”. También tenemos un punto especial “P”. Deseamos diseñar una función que ordene la lista de puntos de más cercano a más lejano a “P”, esto es, de menor a mayor distancia a “P”, usando la función “sort” predefinida."
   ]
  },
  {
   "cell_type": "code",
   "execution_count": 13,
   "metadata": {},
   "outputs": [
    {
     "name": "stdout",
     "output_type": "stream",
     "text": [
      "[(0.6077779771660067, 0.34060506196105533), (0.8265466272222809, 0.9040786155960392), (0.7287640823886236, 0.9413786661210941), (0.8933218233318494, 0.11186364662581805), (0.5422959412593723, 0.7390902636211032), (0.12183506288070511, 0.14451208957826656), (0.9941764997810759, 0.9210209082250459), (0.6052296508225109, 0.6185177724663791), (0.7895855183766723, 0.8964033043924888), (0.05657054931278438, 0.3288502764397364)]\n",
      "\n",
      "[((0.6052296508225109, 0.6185177724663791), 0.17253854989831807), ((0.6077779771660067, 0.34060506196105533), 0.21781994393422954), ((0.5422959412593723, 0.7390902636211032), 0.29996675053131583), ((0.05657054931278438, 0.3288502764397364), 0.5046046573477492), ((0.7895855183766723, 0.8964033043924888), 0.6480483542531271), ((0.7287640823886236, 0.9413786661210941), 0.691955079332655), ((0.12183506288070511, 0.14451208957826656), 0.6453903189782515), ((0.8265466272222809, 0.9040786155960392), 0.6828103036985559), ((0.8933218233318494, 0.11186364662581805), 0.7032363700145159), ((0.9941764997810759, 0.9210209082250459), 0.8264650577634451)]\n"
     ]
    }
   ],
   "source": [
    "import random\n",
    "from math import sqrt\n",
    "\n",
    "puntos = [(random.random(), random.random()) for i in range(10)]\n",
    "\n",
    "def dist(P):\n",
    "    def distQ(q):\n",
    "        return sqrt((P[0]-q[0])**2 + (P[1]-q[1])**2)\n",
    "    return distQ\n",
    "\n",
    "def ordenar_dist(lista, P):\n",
    "    lista.sort(key=dist(P))\n",
    "    \n",
    "print(puntos)\n",
    "print()\n",
    "\n",
    "P = (0.5, 0.5)\n",
    "\n",
    "ordenar_dist(puntos, P)\n",
    "\n",
    "print([(q, sqrt((P[0]-q[0])**2 + (P[1]-q[1])**2) + (P[1]-q[1])**2)\n",
    "       for q in puntos])"
   ]
  }
 ],
 "metadata": {
  "kernelspec": {
   "display_name": "Python 3",
   "language": "python",
   "name": "python3"
  },
  "language_info": {
   "codemirror_mode": {
    "name": "ipython",
    "version": 3
   },
   "file_extension": ".py",
   "mimetype": "text/x-python",
   "name": "python",
   "nbconvert_exporter": "python",
   "pygments_lexer": "ipython3",
   "version": "3.7.3"
  }
 },
 "nbformat": 4,
 "nbformat_minor": 1
}
