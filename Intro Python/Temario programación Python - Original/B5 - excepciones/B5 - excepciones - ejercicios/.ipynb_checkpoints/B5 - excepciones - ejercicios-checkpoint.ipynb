{
 "cells": [
  {
   "cell_type": "markdown",
   "metadata": {},
   "source": [
    "# Excepciones. Ejercicios\n",
    "\n",
    "<hr>"
   ]
  },
  {
   "cell_type": "markdown",
   "metadata": {},
   "source": [
    "### Agenda básica\n",
    "\n",
    "Tenemos un archivo en el disco con una agenda, algo así:\n",
    "\n",
    "<img src='./images/agenda.png' alt='' style='height:100px'>\n",
    "\n",
    "Si lo abrimos con un nombre erróneo, falla la cosa:"
   ]
  },
  {
   "cell_type": "code",
   "execution_count": 1,
   "metadata": {},
   "outputs": [
    {
     "ename": "FileNotFoundError",
     "evalue": "[Errno 2] No such file or directory: 'aggenda.txt'",
     "output_type": "error",
     "traceback": [
      "\u001b[1;31m---------------------------------------------------------------------------\u001b[0m",
      "\u001b[1;31mFileNotFoundError\u001b[0m                         Traceback (most recent call last)",
      "\u001b[1;32m<ipython-input-1-abd9852ccd19>\u001b[0m in \u001b[0;36m<module>\u001b[1;34m\u001b[0m\n\u001b[0;32m     11\u001b[0m     \u001b[1;32mreturn\u001b[0m \u001b[0magenda\u001b[0m\u001b[1;33m\u001b[0m\u001b[1;33m\u001b[0m\u001b[0m\n\u001b[0;32m     12\u001b[0m \u001b[1;33m\u001b[0m\u001b[0m\n\u001b[1;32m---> 13\u001b[1;33m \u001b[0magenda\u001b[0m \u001b[1;33m=\u001b[0m \u001b[0mcargar_agenda\u001b[0m\u001b[1;33m(\u001b[0m\u001b[1;34m\"aggenda.txt\"\u001b[0m\u001b[1;33m)\u001b[0m\u001b[1;33m\u001b[0m\u001b[1;33m\u001b[0m\u001b[0m\n\u001b[0m\u001b[0;32m     14\u001b[0m \u001b[0mprint\u001b[0m\u001b[1;33m(\u001b[0m\u001b[0magenda\u001b[0m\u001b[1;33m)\u001b[0m\u001b[1;33m\u001b[0m\u001b[1;33m\u001b[0m\u001b[0m\n\u001b[0;32m     15\u001b[0m \u001b[1;33m\u001b[0m\u001b[0m\n",
      "\u001b[1;32m<ipython-input-1-abd9852ccd19>\u001b[0m in \u001b[0;36mcargar_agenda\u001b[1;34m(nombre_archivo)\u001b[0m\n\u001b[0;32m      1\u001b[0m \u001b[1;32mdef\u001b[0m \u001b[0mcargar_agenda\u001b[0m\u001b[1;33m(\u001b[0m\u001b[0mnombre_archivo\u001b[0m\u001b[1;33m)\u001b[0m\u001b[1;33m:\u001b[0m\u001b[1;33m\u001b[0m\u001b[1;33m\u001b[0m\u001b[0m\n\u001b[0;32m      2\u001b[0m     \u001b[0magenda\u001b[0m \u001b[1;33m=\u001b[0m \u001b[0mdict\u001b[0m\u001b[1;33m(\u001b[0m\u001b[1;33m{\u001b[0m\u001b[1;33m}\u001b[0m\u001b[1;33m)\u001b[0m\u001b[1;33m\u001b[0m\u001b[1;33m\u001b[0m\u001b[0m\n\u001b[1;32m----> 3\u001b[1;33m     \u001b[0mel_archivo\u001b[0m \u001b[1;33m=\u001b[0m \u001b[0mopen\u001b[0m\u001b[1;33m(\u001b[0m\u001b[0mnombre_archivo\u001b[0m\u001b[1;33m,\u001b[0m \u001b[1;34m\"r\"\u001b[0m\u001b[1;33m)\u001b[0m\u001b[1;33m\u001b[0m\u001b[1;33m\u001b[0m\u001b[0m\n\u001b[0m\u001b[0;32m      4\u001b[0m     \u001b[1;32mfor\u001b[0m \u001b[0ml\u001b[0m \u001b[1;32min\u001b[0m \u001b[0mel_archivo\u001b[0m\u001b[1;33m:\u001b[0m\u001b[1;33m\u001b[0m\u001b[1;33m\u001b[0m\u001b[0m\n\u001b[0;32m      5\u001b[0m         \u001b[0mdatos\u001b[0m \u001b[1;33m=\u001b[0m \u001b[0ml\u001b[0m\u001b[1;33m.\u001b[0m\u001b[0msplit\u001b[0m\u001b[1;33m(\u001b[0m\u001b[1;34m\" # \"\u001b[0m\u001b[1;33m)\u001b[0m\u001b[1;33m\u001b[0m\u001b[1;33m\u001b[0m\u001b[0m\n",
      "\u001b[1;31mFileNotFoundError\u001b[0m: [Errno 2] No such file or directory: 'aggenda.txt'"
     ]
    }
   ],
   "source": [
    "def cargar_agenda(nombre_archivo):\n",
    "    agenda = dict({})\n",
    "    el_archivo = open(nombre_archivo, \"r\")\n",
    "    for l in el_archivo:\n",
    "        datos = l.split(\" # \")\n",
    "        agenda[datos[0]] = {\n",
    "            \"email\" : datos[1],\n",
    "            \"direc\" : datos[2].rstrip()\n",
    "        }\n",
    "    el_archivo.close()\n",
    "    return agenda\n",
    "\n",
    "agenda = cargar_agenda(\"aggenda.txt\")\n",
    "print(agenda)\n",
    "\n",
    "# Esto va a fallar: el archivo no está en el disco"
   ]
  },
  {
   "cell_type": "markdown",
   "metadata": {},
   "source": [
    "Arréglalo, manejando esa situación con una excepcción."
   ]
  },
  {
   "cell_type": "code",
   "execution_count": 2,
   "metadata": {},
   "outputs": [
    {
     "name": "stdout",
     "output_type": "stream",
     "text": [
      "El archivo dado no está a mano\n",
      "\n",
      "{'639232983': {'email': 'blaky@ucm.es', 'direc': 'calle BB 45 8-3-3 Madrid'}, '659163091': {'email': 'fer@upm.es', 'direc': 'ctra. Húmera 45 8-3-3 Pozuelo'}, '654091275': {'email': 'elena@gmail.com', 'direc': 'calle BB 12 8-3-3 Praga'}, '234560123': {'email': 'artu@ucm.es', 'direc': 'calle Aravaca 1 12-3 Madrid'}}\n"
     ]
    }
   ],
   "source": [
    "def cargar_agenda(nombre_archivo):\n",
    "    agenda = dict({})\n",
    "    try:\n",
    "        f = open(nombre_archivo, 'r')\n",
    "    except:\n",
    "        print('El archivo dado no está a mano')\n",
    "        return\n",
    "    el_archivo = open(nombre_archivo, \"r\")\n",
    "    for l in el_archivo:\n",
    "        datos = l.split(\" # \")\n",
    "        agenda[datos[0]] = {\n",
    "            \"email\" : datos[1],\n",
    "            \"direc\" : datos[2].rstrip()\n",
    "        }\n",
    "    el_archivo.close()\n",
    "    return agenda\n",
    "\n",
    "agenda = cargar_agenda(\"aggenda.txt\")\n",
    "print()\n",
    "agenda = cargar_agenda(\"agenda.txt\")\n",
    "print(agenda)"
   ]
  },
  {
   "cell_type": "markdown",
   "metadata": {},
   "source": [
    "### Aserciones\n",
    "\n",
    "Además de las excepciones, tenemos la función `assert`, para asegurarnos de que los requisitos de una función se cumplen.\n",
    "\n",
    "Diseña un par de funciones con la instrucción assert y con excepciones para calcular el mcd de dos números, pensando en un usuario que pueda algún dato no entero, o nulo, o negativo… y compara su funcionamiento cuando la función es llamada desde otra."
   ]
  },
  {
   "cell_type": "code",
   "execution_count": 3,
   "metadata": {},
   "outputs": [
    {
     "ename": "AssertionError",
     "evalue": "Los parámetros han de ser enteros",
     "output_type": "error",
     "traceback": [
      "\u001b[1;31m---------------------------------------------------------------------------\u001b[0m",
      "\u001b[1;31mAssertionError\u001b[0m                            Traceback (most recent call last)",
      "\u001b[1;32m<ipython-input-3-a0ca75462829>\u001b[0m in \u001b[0;36m<module>\u001b[1;34m\u001b[0m\n\u001b[0;32m     10\u001b[0m     \u001b[1;32mreturn\u001b[0m \u001b[0ma\u001b[0m\u001b[1;33m\u001b[0m\u001b[1;33m\u001b[0m\u001b[0m\n\u001b[0;32m     11\u001b[0m \u001b[1;33m\u001b[0m\u001b[0m\n\u001b[1;32m---> 12\u001b[1;33m \u001b[0mprint\u001b[0m\u001b[1;33m(\u001b[0m\u001b[0mmcd\u001b[0m\u001b[1;33m(\u001b[0m\u001b[1;36m2.3\u001b[0m\u001b[1;33m,\u001b[0m \u001b[1;36m4\u001b[0m\u001b[1;33m)\u001b[0m\u001b[1;33m)\u001b[0m\u001b[1;33m\u001b[0m\u001b[1;33m\u001b[0m\u001b[0m\n\u001b[0m",
      "\u001b[1;32m<ipython-input-3-a0ca75462829>\u001b[0m in \u001b[0;36mmcd\u001b[1;34m(a, b)\u001b[0m\n\u001b[0;32m      1\u001b[0m \u001b[1;32mdef\u001b[0m \u001b[0mmcd\u001b[0m\u001b[1;33m(\u001b[0m\u001b[0ma\u001b[0m\u001b[1;33m,\u001b[0m \u001b[0mb\u001b[0m\u001b[1;33m)\u001b[0m\u001b[1;33m:\u001b[0m\u001b[1;33m\u001b[0m\u001b[1;33m\u001b[0m\u001b[0m\n\u001b[1;32m----> 2\u001b[1;33m     \u001b[1;32massert\u001b[0m \u001b[0misinstance\u001b[0m\u001b[1;33m(\u001b[0m\u001b[0ma\u001b[0m\u001b[1;33m,\u001b[0m \u001b[0mint\u001b[0m\u001b[1;33m)\u001b[0m \u001b[1;32mand\u001b[0m \u001b[0misinstance\u001b[0m\u001b[1;33m(\u001b[0m\u001b[0mb\u001b[0m\u001b[1;33m,\u001b[0m \u001b[0mint\u001b[0m\u001b[1;33m)\u001b[0m\u001b[1;33m,\u001b[0m \u001b[1;34m\"Los parámetros han de ser enteros\"\u001b[0m\u001b[1;33m\u001b[0m\u001b[1;33m\u001b[0m\u001b[0m\n\u001b[0m\u001b[0;32m      3\u001b[0m     \u001b[1;32massert\u001b[0m \u001b[0ma\u001b[0m \u001b[1;33m!=\u001b[0m \u001b[1;36m0\u001b[0m \u001b[1;32mand\u001b[0m \u001b[0mb\u001b[0m \u001b[1;33m!=\u001b[0m \u001b[1;36m0\u001b[0m\u001b[1;33m,\u001b[0m \u001b[1;34m\"Los parámetros han de no nulos\"\u001b[0m\u001b[1;33m\u001b[0m\u001b[1;33m\u001b[0m\u001b[0m\n\u001b[0;32m      4\u001b[0m     \u001b[0ma\u001b[0m\u001b[1;33m,\u001b[0m \u001b[0mb\u001b[0m \u001b[1;33m=\u001b[0m \u001b[0mabs\u001b[0m\u001b[1;33m(\u001b[0m\u001b[0ma\u001b[0m\u001b[1;33m)\u001b[0m\u001b[1;33m,\u001b[0m \u001b[0mabs\u001b[0m\u001b[1;33m(\u001b[0m\u001b[0mb\u001b[0m\u001b[1;33m)\u001b[0m\u001b[1;33m\u001b[0m\u001b[1;33m\u001b[0m\u001b[0m\n\u001b[0;32m      5\u001b[0m     \u001b[1;32mwhile\u001b[0m \u001b[0ma\u001b[0m \u001b[1;33m!=\u001b[0m \u001b[0mb\u001b[0m\u001b[1;33m:\u001b[0m\u001b[1;33m\u001b[0m\u001b[1;33m\u001b[0m\u001b[0m\n",
      "\u001b[1;31mAssertionError\u001b[0m: Los parámetros han de ser enteros"
     ]
    }
   ],
   "source": [
    "def mcd(a, b):\n",
    "    assert isinstance(a, int) and isinstance(b, int), \"Los parámetros han de ser enteros\"\n",
    "    assert a != 0 and b != 0, \"Los parámetros han de no nulos\"\n",
    "    a, b = abs(a), abs(b)\n",
    "    while a != b:\n",
    "        if a > b:\n",
    "            a = a-b\n",
    "        else:\n",
    "            b = b-a\n",
    "    return a\n",
    "\n",
    "print(mcd(2.3, 4))"
   ]
  },
  {
   "cell_type": "code",
   "execution_count": 4,
   "metadata": {},
   "outputs": [
    {
     "name": "stdout",
     "output_type": "stream",
     "text": [
      "2.3 4\n",
      "Algo va mal en los parámetros: Los parámetros han de ser enteros\n",
      "\n",
      "2 pepito\n",
      "Algo va mal en los parámetros: Los parámetros han de ser enteros\n",
      "\n",
      "-20 0\n",
      "Algo va mal en los parámetros: Los parámetros han de no nulos\n",
      "\n",
      "-20 30\n",
      "10\n"
     ]
    }
   ],
   "source": [
    "def mcd(a, b):\n",
    "    assert isinstance(a, int) and isinstance(b, int), \"Los parámetros han de ser enteros\"\n",
    "    assert a != 0 and b != 0, \"Los parámetros han de no nulos\"\n",
    "    a, b = abs(a), abs(b)\n",
    "    while a != b:\n",
    "        if a > b:\n",
    "            a = a-b\n",
    "        else:\n",
    "            b = b-a\n",
    "    return a\n",
    "\n",
    "def prueba_mcd(m, n):\n",
    "    print(m, n)\n",
    "    try:\n",
    "        cd = mcd(m, n)\n",
    "        print(cd)\n",
    "    except AssertionError as e:\n",
    "        print(\"Algo va mal en los parámetros:\", e)\n",
    "        print()\n",
    "\n",
    "prueba_mcd(2.3, 4)\n",
    "prueba_mcd(2, \"pepito\")\n",
    "prueba_mcd(-20, 0)\n",
    "prueba_mcd(-20, 30)"
   ]
  }
 ],
 "metadata": {
  "kernelspec": {
   "display_name": "Python 3",
   "language": "python",
   "name": "python3"
  }
 },
 "nbformat": 4,
 "nbformat_minor": 1
}
