{
 "cells": [
  {
   "cell_type": "markdown",
   "metadata": {},
   "source": [
    "# Listas\n",
    "\n",
    "<hr>\n",
    "\n",
    "Una lista es una secuencia de datos. Ya sé que esta descripción es un poco incompleta, pero ten paciencia y confórmate de momento con esa  idea."
   ]
  },
  {
   "cell_type": "code",
   "execution_count": 1,
   "metadata": {},
   "outputs": [
    {
     "name": "stdout",
     "output_type": "stream",
     "text": [
      "Cristóbal 59 1.74 ['Música', 'Lectura', 'Ajedrez']\n",
      "Música\n",
      "4\n"
     ]
    }
   ],
   "source": [
    "# Algunos de mis datos, en una lista\n",
    "\n",
    "mis_datos = [\"Cristóbal\", 59, 1.74, [\"Música\", \"Lectura\", \"Ajedrez\"]]\n",
    "\n",
    "print(mis_datos[0], mis_datos[1], mis_datos[2], mis_datos[3])\n",
    "print(mis_datos[3][0])\n",
    "print(len(mis_datos))"
   ]
  },
  {
   "cell_type": "markdown",
   "metadata": {},
   "source": [
    "Si la longitud de una lista es 4, sus elementos son el 0, 1, 2 y 3.\n",
    "\n",
    "Las listas en Python son heterogéneas, porque sus elementos son de tipos arbitrarios y posiblemente distintos: en el ejemplo, un string, un entero, un real, o incluso una lista."
   ]
  },
  {
   "cell_type": "code",
   "execution_count": 2,
   "metadata": {},
   "outputs": [
    {
     "name": "stdout",
     "output_type": "stream",
     "text": [
      "Cristóbal\n",
      "59\n",
      "1.74\n",
      "['Música', 'Lectura', 'Ajedrez']\n",
      "\n",
      "Cristóbal\n",
      "59\n",
      "1.74\n",
      "['Música', 'Lectura', 'Ajedrez']\n"
     ]
    }
   ],
   "source": [
    "# Los elementos de una lista pueden recorrerse más cómodamente sin mencionar sus posiciones:\n",
    "\n",
    "mis_datos = [\"Cristóbal\", 59, 1.74, [\"Música\", \"Lectura\", \"Ajedrez\"]]\n",
    "\n",
    "for i in range(len(mis_datos)):\n",
    "    print(mis_datos[i])\n",
    "\n",
    "print()\n",
    "\n",
    "for elem in mis_datos:\n",
    "    print(elem)"
   ]
  },
  {
   "cell_type": "markdown",
   "metadata": {},
   "source": [
    "### Un ejemplo de partida: cálculo de la media\n",
    "\n",
    "Queremos calcular la media de unos cuantos números reales:"
   ]
  },
  {
   "cell_type": "code",
   "execution_count": 3,
   "metadata": {},
   "outputs": [
    {
     "data": {
      "text/plain": [
       "4.4"
      ]
     },
     "execution_count": 3,
     "metadata": {},
     "output_type": "execute_result"
    }
   ],
   "source": [
    "def media(numeros):\n",
    "    \"\"\"\n",
    "    Esta función calcula la media de una lista de reales\n",
    "    \n",
    "    Parameters\n",
    "    ----------\n",
    "    numeros : [float]\n",
    "        Una lista de números reales no vacía\n",
    "        \n",
    "    Returns\n",
    "    -------\n",
    "    float\n",
    "        La media de la lista\n",
    "    \n",
    "    Example\n",
    "    -------\n",
    "    >>> media([4.0, 6.0, 7.0, 3.0, 2.0])\n",
    "    4.4\n",
    "    \"\"\"\n",
    "    suma = 0.0\n",
    "    for x in numeros:\n",
    "        suma = suma + x\n",
    "    return suma / len(numeros)\n",
    "\n",
    "media([4.0, 6.0, 7.0, 3.0, 2.0])"
   ]
  },
  {
   "cell_type": "markdown",
   "metadata": {},
   "source": [
    "### Segundo ejemplo: polinomios\n",
    "\n",
    "Podemos representar un **polinomio** como una lista:\n",
    "\n",
    "    3x³ - 6x  + 2\n",
    "\n",
    "Lo representamos con 4 reales, los coeficientes de menor a mayor orden:"
   ]
  },
  {
   "cell_type": "code",
   "execution_count": 4,
   "metadata": {},
   "outputs": [
    {
     "name": "stdout",
     "output_type": "stream",
     "text": [
      "2.0 -6.0 0.0 3.0\n",
      "4\n"
     ]
    }
   ],
   "source": [
    "poly = [2.0, -6.0, 0.0, 3.0]\n",
    "\n",
    "# Acceso a cada elemento:\n",
    "\n",
    "print(poly[0], poly[1], poly[2], poly[3])\n",
    "\n",
    "# Longitud de una lista:\n",
    "\n",
    "print(len(poly))"
   ]
  },
  {
   "cell_type": "markdown",
   "metadata": {},
   "source": [
    "Las posiciones de la lista poly van desde `0` hasta `len(poly)-1`. \n",
    "\n",
    "Ojo a los accesos ilegales!!"
   ]
  },
  {
   "cell_type": "code",
   "execution_count": 5,
   "metadata": {},
   "outputs": [
    {
     "ename": "IndexError",
     "evalue": "list index out of range",
     "output_type": "error",
     "traceback": [
      "\u001b[1;31m---------------------------------------------------------------------------\u001b[0m",
      "\u001b[1;31mIndexError\u001b[0m                                Traceback (most recent call last)",
      "\u001b[1;32m<ipython-input-5-d87bb9df8586>\u001b[0m in \u001b[0;36m<module>\u001b[1;34m\u001b[0m\n\u001b[1;32m----> 1\u001b[1;33m \u001b[0mpoly\u001b[0m\u001b[1;33m[\u001b[0m\u001b[1;36m4\u001b[0m\u001b[1;33m]\u001b[0m\u001b[1;33m\u001b[0m\u001b[1;33m\u001b[0m\u001b[0m\n\u001b[0m",
      "\u001b[1;31mIndexError\u001b[0m: list index out of range"
     ]
    }
   ],
   "source": [
    "poly[4]"
   ]
  },
  {
   "cell_type": "markdown",
   "metadata": {},
   "source": [
    "Se puede cambiar el contenido de una posición de una lista"
   ]
  },
  {
   "cell_type": "code",
   "execution_count": 6,
   "metadata": {},
   "outputs": [
    {
     "data": {
      "text/plain": [
       "[2.0, -6.0, 0.0, -7.0]"
      ]
     },
     "execution_count": 6,
     "metadata": {},
     "output_type": "execute_result"
    }
   ],
   "source": [
    "poly[3] = -7.0\n",
    "poly"
   ]
  },
  {
   "cell_type": "code",
   "execution_count": 7,
   "metadata": {},
   "outputs": [
    {
     "ename": "IndexError",
     "evalue": "list assignment index out of range",
     "output_type": "error",
     "traceback": [
      "\u001b[1;31m---------------------------------------------------------------------------\u001b[0m",
      "\u001b[1;31mIndexError\u001b[0m                                Traceback (most recent call last)",
      "\u001b[1;32m<ipython-input-7-c08954f25ba8>\u001b[0m in \u001b[0;36m<module>\u001b[1;34m\u001b[0m\n\u001b[1;32m----> 1\u001b[1;33m \u001b[0mpoly\u001b[0m\u001b[1;33m[\u001b[0m\u001b[1;36m4\u001b[0m\u001b[1;33m]\u001b[0m \u001b[1;33m=\u001b[0m \u001b[1;36m9.0\u001b[0m\u001b[1;33m\u001b[0m\u001b[1;33m\u001b[0m\u001b[0m\n\u001b[0m",
      "\u001b[1;31mIndexError\u001b[0m: list assignment index out of range"
     ]
    }
   ],
   "source": [
    "poly[4] = 9.0"
   ]
  },
  {
   "cell_type": "markdown",
   "metadata": {},
   "source": [
    "Los elementos de una lista se pueden usar en cualquier contexto:"
   ]
  },
  {
   "cell_type": "code",
   "execution_count": 8,
   "metadata": {},
   "outputs": [
    {
     "data": {
      "text/plain": [
       "7.0"
      ]
     },
     "execution_count": 8,
     "metadata": {},
     "output_type": "execute_result"
    }
   ],
   "source": [
    "a = poly[2] + 1 # expresión\n",
    "abs(poly[3])    # llamada a función"
   ]
  },
  {
   "cell_type": "markdown",
   "metadata": {},
   "source": [
    "Se pueden añadir más elementos a una lista"
   ]
  },
  {
   "cell_type": "code",
   "execution_count": 9,
   "metadata": {},
   "outputs": [
    {
     "data": {
      "text/plain": [
       "[2.0, -6.0, 0.0, -7.0, 9.0]"
      ]
     },
     "execution_count": 9,
     "metadata": {},
     "output_type": "execute_result"
    }
   ],
   "source": [
    "poly.append(9.0)\n",
    "poly"
   ]
  },
  {
   "cell_type": "markdown",
   "metadata": {},
   "source": [
    "Vamos a diseñar una función que evalúe un polinomio en un valor, `x`, de la variable."
   ]
  },
  {
   "cell_type": "code",
   "execution_count": 10,
   "metadata": {},
   "outputs": [
    {
     "data": {
      "text/plain": [
       "-66.0"
      ]
     },
     "execution_count": 10,
     "metadata": {},
     "output_type": "execute_result"
    }
   ],
   "source": [
    "x = 2\n",
    "result = 0.0\n",
    "power = 1\n",
    "result = result + power * poly[0]\n",
    "power = power * x\n",
    "result = result + power * poly[1]\n",
    "power = power * x\n",
    "result = result + power * poly[2]\n",
    "power = power * x\n",
    "result = result + power * poly[3]\n",
    "result\n"
   ]
  },
  {
   "cell_type": "markdown",
   "metadata": {},
   "source": [
    "Hagámoslo ahora con un bucle, para que funcione con un polinomio de cualquier grado."
   ]
  },
  {
   "cell_type": "code",
   "execution_count": 11,
   "metadata": {},
   "outputs": [
    {
     "data": {
      "text/plain": [
       "14.0"
      ]
     },
     "execution_count": 11,
     "metadata": {},
     "output_type": "execute_result"
    }
   ],
   "source": [
    "poly = [2.0, -6.0, 0.0, 3.0]\n",
    "x = 2\n",
    "suma = 0.0\n",
    "potencia = 1\n",
    "degree = len(poly) - 1\n",
    "i = 0\n",
    "while i <= degree:\n",
    "    suma = suma + potencia * poly[i]\n",
    "    potencia = potencia * x\n",
    "    i = i + 1\n",
    "suma"
   ]
  },
  {
   "cell_type": "code",
   "execution_count": 12,
   "metadata": {},
   "outputs": [
    {
     "data": {
      "text/plain": [
       "(-10.0, 3.0)"
      ]
     },
     "execution_count": 12,
     "metadata": {},
     "output_type": "execute_result"
    }
   ],
   "source": [
    "def eval_poly(poly, x):\n",
    "    \"\"\"Esta función evalúa un polinomio para un valor dado de la variable x.\n",
    "    \n",
    "    Parameters\n",
    "    ----------\n",
    "    poly: [float]\n",
    "        El polinomio, dado por la lista de sus coeficientes, \n",
    "        donde poly[i] -> coeficiente de grado i\n",
    "    x : float\n",
    "        Valor de la variable x\n",
    "    \n",
    "    Returns\n",
    "    -------\n",
    "    float\n",
    "        Valor del polinomio poly para el valor de la variable x\n",
    "        \n",
    "    Example\n",
    "    -------\n",
    "    >>> eval_poly( [1.0, 1.0], 2)\n",
    "    3.0\n",
    "    \"\"\"   \n",
    "    suma = 0.0\n",
    "    potencia = 1\n",
    "    long = len(poly)\n",
    "    i = 0\n",
    "    for i in range(long):\n",
    "        suma = suma + poly[i] * potencia\n",
    "        potencia = potencia * x \n",
    "    return suma\n",
    "\n",
    "eval_poly([2.0, -6.0, 0.0], 2.0), eval_poly( [1.0, 1.0], 2)"
   ]
  },
  {
   "cell_type": "markdown",
   "metadata": {},
   "source": [
    "### Ejemplo 3: Descomposición en factores primos de un número\n",
    "\n",
    "Ejemplos:\n",
    "\n",
    "    60 -> [2, 2, 3, 5]\n",
    "\n",
    "    15 -> [3, 5]"
   ]
  },
  {
   "cell_type": "code",
   "execution_count": 13,
   "metadata": {},
   "outputs": [
    {
     "data": {
      "text/plain": [
       "[2, 2, 2, 2, 3, 3, 3, 5, 5, 7, 7, 7, 7, 7, 7]"
      ]
     },
     "execution_count": 13,
     "metadata": {},
     "output_type": "execute_result"
    }
   ],
   "source": [
    "def factores(n):\n",
    "    \"\"\"\n",
    "    Genera la lista de factores de n\n",
    "    \n",
    "    Parameters\n",
    "    ----------\n",
    "    n : int\n",
    "        Número que se desea descomponer, n > 1\n",
    "        \n",
    "    Returns\n",
    "    -------\n",
    "    [int]\n",
    "        Factores de n\n",
    "        \n",
    "    Example\n",
    "    -------\n",
    "    >>> factores(256)\n",
    "    [2, 2, 2, 2, 2, 2, 2, 2]\n",
    "    \"\"\"\n",
    "    fct = 2 # el primer factor primo posible\n",
    "    lista_factores = []\n",
    "    while n > 1:\n",
    "        if n % fct == 0:\n",
    "            lista_factores.append(fct)\n",
    "            n = n // fct\n",
    "        else:\n",
    "            fct += 1\n",
    "    return lista_factores\n",
    "\n",
    "factores(3**2 * 2**4 * 7**5 * 5**2 * 3 * 7)"
   ]
  },
  {
   "cell_type": "markdown",
   "metadata": {},
   "source": [
    "Si queremos calcular la multiplicidad de cada divisor, podemos hacer que devuelva una lista de tuplas:"
   ]
  },
  {
   "cell_type": "code",
   "execution_count": 14,
   "metadata": {},
   "outputs": [
    {
     "name": "stdout",
     "output_type": "stream",
     "text": [
      "60  ->  [[2, 2], [3, 1], [5, 1]]\n",
      "96  ->  [[2, 5], [3, 1]]\n"
     ]
    }
   ],
   "source": [
    "def factores_exponentes(n):\n",
    "    \"\"\"\n",
    "    Genera la lista de fectores de n,\n",
    "    cada uno de ellos con su grado de multiplicidad\n",
    "    \n",
    "    Parameters\n",
    "    ----------\n",
    "    n : int\n",
    "        Número que se desea descomponer, n > 1\n",
    "        \n",
    "    Returns\n",
    "    -------\n",
    "    [(int, int)]\n",
    "        Factores (factor, exponente) de n\n",
    "        \n",
    "    Example\n",
    "    -------\n",
    "    >>> factores_exponentes(256)\n",
    "    [(2, 8)]\n",
    "    \"\"\"\n",
    "    fct = 2\n",
    "    lista_factores = []\n",
    "    while n > 1:\n",
    "        if n % fct == 0:\n",
    "            exp = 1\n",
    "            n = n // fct\n",
    "            while (n % fct) == 0:\n",
    "                exp += 1\n",
    "                n = n // fct\n",
    "            lista_factores.append([fct,exp])\n",
    "        # aquí, n % fct != 0, de manera que incrementamos fct\n",
    "        fct = fct + 1\n",
    "    return lista_factores\n",
    "\n",
    "print(60, \" -> \", factores_exponentes(60))\n",
    "print(96, \" -> \", factores_exponentes(96))"
   ]
  },
  {
   "cell_type": "markdown",
   "metadata": {},
   "source": [
    "# Listas intensionales"
   ]
  },
  {
   "cell_type": "code",
   "execution_count": 15,
   "metadata": {},
   "outputs": [
    {
     "data": {
      "text/plain": [
       "[(2, 4), (3, 9), (4, 16), (5, 25), (6, 36), (7, 49), (8, 64), (9, 81)]"
      ]
     },
     "execution_count": 15,
     "metadata": {},
     "output_type": "execute_result"
    }
   ],
   "source": [
    "[(i, i**2) for i in range(2, 10)]"
   ]
  },
  {
   "cell_type": "code",
   "execution_count": 16,
   "metadata": {},
   "outputs": [
    {
     "name": "stdout",
     "output_type": "stream",
     "text": [
      "[(1, 120), (2, 60), (3, 40), (4, 30), (5, 24), (6, 20), (8, 15), (10, 12), (12, 10), (15, 8), (20, 6), (24, 5), (30, 4), (40, 3), (60, 2), (120, 1)]\n"
     ]
    }
   ],
   "source": [
    "# Descomponemos 120 en dos factores de todos los modos posibles:\n",
    "\n",
    "print([(i, 120//i) for i in range(1, 120+1) if 120 % i == 0])\n",
    "\n",
    "# Seguro que tú puedes diseñar una función que hace esto con cualquier entero positivo. "
   ]
  },
  {
   "cell_type": "code",
   "execution_count": 17,
   "metadata": {},
   "outputs": [
    {
     "name": "stdout",
     "output_type": "stream",
     "text": [
      "[(8, 4), (8, 5), (8, 6), (8, 7)]\n"
     ]
    }
   ],
   "source": [
    "# Combinación de generadores (for) y filtros (if):\n",
    "\n",
    "print([(i, j) for i in range(10) for j in range(i) if i % 4 == 0 if j > 3])"
   ]
  },
  {
   "cell_type": "code",
   "execution_count": 18,
   "metadata": {},
   "outputs": [
    {
     "data": {
      "text/plain": [
       "[(2, [[2, 1]]),\n",
       " (3, [[3, 1]]),\n",
       " (4, [[2, 2]]),\n",
       " (5, [[5, 1]]),\n",
       " (6, [[2, 1], [3, 1]]),\n",
       " (7, [[7, 1]]),\n",
       " (8, [[2, 3]]),\n",
       " (9, [[3, 2]]),\n",
       " (10, [[2, 1], [5, 1]]),\n",
       " (11, [[11, 1]]),\n",
       " (12, [[2, 2], [3, 1]]),\n",
       " (13, [[13, 1]]),\n",
       " (14, [[2, 1], [7, 1]]),\n",
       " (15, [[3, 1], [5, 1]]),\n",
       " (16, [[2, 4]]),\n",
       " (17, [[17, 1]]),\n",
       " (18, [[2, 1], [3, 2]]),\n",
       " (19, [[19, 1]]),\n",
       " (20, [[2, 2], [5, 1]]),\n",
       " (21, [[3, 1], [7, 1]]),\n",
       " (22, [[2, 1], [11, 1]]),\n",
       " (23, [[23, 1]]),\n",
       " (24, [[2, 3], [3, 1]]),\n",
       " (25, [[5, 2]]),\n",
       " (26, [[2, 1], [13, 1]]),\n",
       " (27, [[3, 3]]),\n",
       " (28, [[2, 2], [7, 1]]),\n",
       " (29, [[29, 1]]),\n",
       " (30, [[2, 1], [3, 1], [5, 1]]),\n",
       " (31, [[31, 1]]),\n",
       " (32, [[2, 5]]),\n",
       " (33, [[3, 1], [11, 1]]),\n",
       " (34, [[2, 1], [17, 1]]),\n",
       " (35, [[5, 1], [7, 1]]),\n",
       " (36, [[2, 2], [3, 2]]),\n",
       " (37, [[37, 1]]),\n",
       " (38, [[2, 1], [19, 1]]),\n",
       " (39, [[3, 1], [13, 1]])]"
      ]
     },
     "execution_count": 18,
     "metadata": {},
     "output_type": "execute_result"
    }
   ],
   "source": [
    "# Lo siguiente usa la descoposición en factores definida antes:\n",
    "\n",
    "[(i, factores_exponentes(i)) for i in range(2, 40)]"
   ]
  }
 ],
 "metadata": {
  "kernelspec": {
   "display_name": "Python 3",
   "language": "python",
   "name": "python3"
  },
  "language_info": {
   "codemirror_mode": {
    "name": "ipython",
    "version": 3
   },
   "file_extension": ".py",
   "mimetype": "text/x-python",
   "name": "python",
   "nbconvert_exporter": "python",
   "pygments_lexer": "ipython3",
   "version": "3.7.3"
  }
 },
 "nbformat": 4,
 "nbformat_minor": 1
}
