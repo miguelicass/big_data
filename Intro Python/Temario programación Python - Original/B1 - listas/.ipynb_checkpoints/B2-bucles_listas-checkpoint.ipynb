{
 "cells": [
  {
   "cell_type": "markdown",
   "metadata": {},
   "source": [
    "# Listas\n",
    "\n",
    "<hr>\n",
    "\n",
    "Una lista es una secuencia de datos. Ya sé que esta definición es un poco incompleta, pero ten paciencia y confórmate de momento con esta idea."
   ]
  },
  {
   "cell_type": "markdown",
   "metadata": {},
   "source": [
    "### Un ejempoco de motivación\n",
    "\n",
    "Queremos hacer la media de unos números reales, cada uno en una variable. ¿qué ocurre si no se sabe cuántos numeros hay?"
   ]
  },
  {
   "cell_type": "code",
   "execution_count": 1,
   "metadata": {
    "collapsed": true
   },
   "outputs": [],
   "source": [
    "numberlst = [4.0, 6.0, 7.0, 3.0, 2.0]"
   ]
  },
  {
   "cell_type": "code",
   "execution_count": 2,
   "metadata": {},
   "outputs": [
    {
     "data": {
      "text/plain": [
       "4.4"
      ]
     },
     "execution_count": 2,
     "metadata": {},
     "output_type": "execute_result"
    }
   ],
   "source": [
    "s = 0.0\n",
    "s = s + numberlst[0]\n",
    "s = s + numberlst[1]\n",
    "s = s + numberlst[2]\n",
    "s = s + numberlst[3]\n",
    "s = s + numberlst[4]\n",
    "mean = s / len(numberlst)\n",
    "mean"
   ]
  },
  {
   "cell_type": "markdown",
   "metadata": {},
   "source": [
    "Eso no es generalizable. Necesitamos un bucle"
   ]
  },
  {
   "cell_type": "code",
   "execution_count": 3,
   "metadata": {
    "collapsed": true
   },
   "outputs": [],
   "source": [
    "def mean(numberlst):\n",
    "    \"\"\"This function returns the mean of a list of numbers\n",
    "    \n",
    "    Parameters\n",
    "    ----------\n",
    "    numberlst : [float]\n",
    "        Non-empty list of float numbers\n",
    "        \n",
    "    Returns\n",
    "    -------\n",
    "    float\n",
    "        Mean of the list\n",
    "    \n",
    "    Example\n",
    "    -------\n",
    "    >>> mean([4.0, 6.0, 7.0, 3.0, 2.0])\n",
    "    4.4\n",
    "    \"\"\"\n",
    "    s = 0.0\n",
    "    i = 0\n",
    "    while i < len(numberlst):\n",
    "        s = s + numberlst[i]\n",
    "        i = i + 1\n",
    "    return s / len(numberlst)"
   ]
  },
  {
   "cell_type": "code",
   "execution_count": 4,
   "metadata": {},
   "outputs": [
    {
     "data": {
      "text/plain": [
       "(4.4, 146592.47368421053)"
      ]
     },
     "execution_count": 4,
     "metadata": {},
     "output_type": "execute_result"
    }
   ],
   "source": [
    "mean(numberlst)"
   ]
  },
  {
   "cell_type": "code",
   "execution_count": 4,
   "metadata": {},
   "outputs": [
    {
     "data": {
      "text/plain": [
       "146592.47368421053"
      ]
     },
     "execution_count": 4,
     "metadata": {},
     "output_type": "execute_result"
    }
   ],
   "source": [
    "mean([1,2,3,3,3,3,3,3,3,3,3,3,3,3,3,3,435435,2345234,4543])"
   ]
  },
  {
   "cell_type": "markdown",
   "metadata": {},
   "source": [
    "Queremos hacer funciones con **polinomios**\n",
    "\n",
    "poly ----> 3x³ - 6x  + 2\n",
    "\n",
    "Como representamos este polinomio, ¿con 4 reales?\n",
    "¿y si el polinomio tiene grado n?\n",
    "Necesitamos algo que nos permita representar n reales: 3, 0, -6, 2"
   ]
  },
  {
   "cell_type": "code",
   "execution_count": 5,
   "metadata": {},
   "outputs": [
    {
     "data": {
      "text/plain": [
       "(2.0, -6.0, 0.0, 3.0)"
      ]
     },
     "execution_count": 5,
     "metadata": {},
     "output_type": "execute_result"
    }
   ],
   "source": [
    "poly = [2.0, -6.0, 0.0, 3.0]\n",
    "poly[0], poly[1], poly[2], poly[3]"
   ]
  },
  {
   "cell_type": "markdown",
   "metadata": {},
   "source": [
    "### Trabajar con listas\n",
    "\n",
    "La *longitud* de una lista"
   ]
  },
  {
   "cell_type": "code",
   "execution_count": 6,
   "metadata": {},
   "outputs": [
    {
     "data": {
      "text/plain": [
       "4"
      ]
     },
     "execution_count": 6,
     "metadata": {},
     "output_type": "execute_result"
    }
   ],
   "source": [
    "len(poly)"
   ]
  },
  {
   "cell_type": "markdown",
   "metadata": {},
   "source": [
    "Las posiciones de la lista poly van desde 0 hasta len(poly)-1. \n",
    "\n",
    "Ojo a los accesos ilegales!!"
   ]
  },
  {
   "cell_type": "code",
   "execution_count": 7,
   "metadata": {},
   "outputs": [
    {
     "ename": "IndexError",
     "evalue": "list index out of range",
     "output_type": "error",
     "traceback": [
      "\u001b[0;31m---------------------------------------------------------------------------\u001b[0m",
      "\u001b[0;31mIndexError\u001b[0m                                Traceback (most recent call last)",
      "\u001b[0;32m<ipython-input-7-a085d43b506f>\u001b[0m in \u001b[0;36m<module>\u001b[0;34m()\u001b[0m\n\u001b[0;32m----> 1\u001b[0;31m \u001b[0mpoly\u001b[0m\u001b[0;34m[\u001b[0m\u001b[0;36m4\u001b[0m\u001b[0;34m]\u001b[0m\u001b[0;34m\u001b[0m\u001b[0m\n\u001b[0m",
      "\u001b[0;31mIndexError\u001b[0m: list index out of range"
     ]
    }
   ],
   "source": [
    "poly[4]"
   ]
  },
  {
   "cell_type": "markdown",
   "metadata": {},
   "source": [
    "Se puede cambiar el contenido de una posición de una lista"
   ]
  },
  {
   "cell_type": "code",
   "execution_count": 8,
   "metadata": {},
   "outputs": [
    {
     "data": {
      "text/plain": [
       "[2.0, -6.0, 0.0, -7.0]"
      ]
     },
     "execution_count": 8,
     "metadata": {},
     "output_type": "execute_result"
    }
   ],
   "source": [
    "poly[3] = -7.0\n",
    "poly"
   ]
  },
  {
   "cell_type": "code",
   "execution_count": 9,
   "metadata": {},
   "outputs": [
    {
     "ename": "IndexError",
     "evalue": "list assignment index out of range",
     "output_type": "error",
     "traceback": [
      "\u001b[0;31m---------------------------------------------------------------------------\u001b[0m",
      "\u001b[0;31mIndexError\u001b[0m                                Traceback (most recent call last)",
      "\u001b[0;32m<ipython-input-9-d742d21044b4>\u001b[0m in \u001b[0;36m<module>\u001b[0;34m()\u001b[0m\n\u001b[0;32m----> 1\u001b[0;31m \u001b[0mpoly\u001b[0m\u001b[0;34m[\u001b[0m\u001b[0;36m4\u001b[0m\u001b[0;34m]\u001b[0m \u001b[0;34m=\u001b[0m \u001b[0;36m9.0\u001b[0m\u001b[0;34m\u001b[0m\u001b[0m\n\u001b[0m",
      "\u001b[0;31mIndexError\u001b[0m: list assignment index out of range"
     ]
    }
   ],
   "source": [
    "poly[4] = 9.0"
   ]
  },
  {
   "cell_type": "markdown",
   "metadata": {},
   "source": [
    "Los elementos de una lista se pueden usar en cualquier contexto"
   ]
  },
  {
   "cell_type": "code",
   "execution_count": 10,
   "metadata": {},
   "outputs": [
    {
     "data": {
      "text/plain": [
       "7.0"
      ]
     },
     "execution_count": 10,
     "metadata": {},
     "output_type": "execute_result"
    }
   ],
   "source": [
    "a = poly[2] + 1 # expresión\n",
    "abs(poly[3])    #llamada a función"
   ]
  },
  {
   "cell_type": "markdown",
   "metadata": {},
   "source": [
    "Se pueden añadir más elementos a una lista"
   ]
  },
  {
   "cell_type": "code",
   "execution_count": 11,
   "metadata": {},
   "outputs": [
    {
     "data": {
      "text/plain": [
       "[2.0, -6.0, 0.0, -7.0, 9.0]"
      ]
     },
     "execution_count": 11,
     "metadata": {},
     "output_type": "execute_result"
    }
   ],
   "source": [
    "poly.append(9.0)\n",
    "poly"
   ]
  },
  {
   "cell_type": "markdown",
   "metadata": {},
   "source": [
    "### Ejemplos de bucles con listas\n",
    "Vamos a hacer una función que evalúe el polinomio en el punto x"
   ]
  },
  {
   "cell_type": "code",
   "execution_count": 12,
   "metadata": {},
   "outputs": [
    {
     "data": {
      "text/plain": [
       "-66.0"
      ]
     },
     "execution_count": 12,
     "metadata": {},
     "output_type": "execute_result"
    }
   ],
   "source": [
    "x = 2\n",
    "result = 0.0\n",
    "power = 1\n",
    "result = result + power * poly[0]\n",
    "power = power * x\n",
    "result = result + power * poly[1]\n",
    "power = power * x\n",
    "result = result + power * poly[2]\n",
    "power = power * x\n",
    "result = result + power * poly[3]\n",
    "result\n"
   ]
  },
  {
   "cell_type": "markdown",
   "metadata": {},
   "source": [
    "¿y si el polinomio tiene grado n?"
   ]
  },
  {
   "cell_type": "code",
   "execution_count": 13,
   "metadata": {},
   "outputs": [
    {
     "data": {
      "text/plain": [
       "78.0"
      ]
     },
     "execution_count": 13,
     "metadata": {},
     "output_type": "execute_result"
    }
   ],
   "source": [
    "x = 2\n",
    "result = 0.0\n",
    "power = 1\n",
    "degree = 4\n",
    "i = 0\n",
    "while i <= degree:\n",
    "    result = result + power * poly[i]\n",
    "    power = power * x\n",
    "    i = i + 1\n",
    "result"
   ]
  },
  {
   "cell_type": "code",
   "execution_count": 14,
   "metadata": {
    "collapsed": true
   },
   "outputs": [],
   "source": [
    "def eval_poly(poly, x):\n",
    "    \"\"\"This function evaluates the polynomial poly at point x.\n",
    "    Poly is a list of floats containing the coeficients \n",
    "    of the polynomial\n",
    "    poly[i] -> coeficient of degree i\n",
    "    \n",
    "    Parameters\n",
    "    ----------\n",
    "    poly: [float]\n",
    "        Coefficients of the polynomial, \n",
    "        where poly[i] -> coeficient of degree i\n",
    "    x : float\n",
    "        Point\n",
    "    \n",
    "    Returns\n",
    "    -------\n",
    "    float\n",
    "        Value of the polynomial at point x\n",
    "        \n",
    "    Example\n",
    "    -------\n",
    "    >>> eval_poly( [1.0, 1.0], 2)\n",
    "    3.0\n",
    "    \"\"\"   \n",
    "    result = 0.0\n",
    "    power = 1\n",
    "    degree = len(poly) - 1\n",
    "    i = 0\n",
    "    while i <= degree:\n",
    "        result = result + poly[i] * power\n",
    "        power = power * x \n",
    "        i = i + 1\n",
    "    return result"
   ]
  },
  {
   "cell_type": "code",
   "execution_count": 15,
   "metadata": {},
   "outputs": [
    {
     "data": {
      "text/plain": [
       "78.0"
      ]
     },
     "execution_count": 15,
     "metadata": {},
     "output_type": "execute_result"
    }
   ],
   "source": [
    "eval_poly(poly, 2.0)"
   ]
  },
  {
   "cell_type": "code",
   "execution_count": 16,
   "metadata": {},
   "outputs": [
    {
     "data": {
      "text/plain": [
       "3.0"
      ]
     },
     "execution_count": 16,
     "metadata": {},
     "output_type": "execute_result"
    }
   ],
   "source": [
    "eval_poly( [1.0, 1.0], 2)"
   ]
  },
  {
   "cell_type": "markdown",
   "metadata": {},
   "source": [
    "**Ejercicio propuesto:** Descomposición en factores primos de un número.\n",
    "\n",
    "Ejemplos:\n",
    "\n",
    "60 = 2, 2, 3, 5\n",
    "\n",
    "15 = 3, 5 \n",
    "\n",
    "Seguimos el algoritmo 'clásico' de descomposición, se comienza dividiendo el número original entre \n",
    "el divisor más pequeño posible, se acumula el dividendo y se continua con el divisor.\n",
    "\n",
    "`60|2\n",
    "30|2\n",
    "15|3\n",
    " 5|5\n",
    " 1`"
   ]
  },
  {
   "cell_type": "code",
   "execution_count": 17,
   "metadata": {
    "collapsed": true
   },
   "outputs": [],
   "source": [
    "def factors(n):\n",
    "    \"\"\"\n",
    "    This function computes the list of factors of n\n",
    "    \n",
    "    Parameters\n",
    "    ----------\n",
    "    n : int\n",
    "        Integer number to decompose, n > 1\n",
    "        \n",
    "    Returns\n",
    "    -------\n",
    "    [int]\n",
    "        Factors of n\n",
    "        \n",
    "    Example\n",
    "    -------\n",
    "    >>> factors(256)\n",
    "    [2, 2, 2, 2, 2, 2, 2, 2]\n",
    "    \"\"\"\n",
    "    fct = 2 # 2 is the first prime number\n",
    "    factors = [] #This is an empty list\n",
    "    while n > 1:\n",
    "        if n % fct == 0: # if fct divides n, it is a prime number\n",
    "            factors.append(fct)\n",
    "            n = n // fct\n",
    "        else:\n",
    "            fct += 1\n",
    "    return factors"
   ]
  },
  {
   "cell_type": "code",
   "execution_count": 18,
   "metadata": {},
   "outputs": [
    {
     "data": {
      "text/plain": [
       "[2, 2, 2, 2, 2, 2, 5, 5, 5, 5, 7, 7]"
      ]
     },
     "execution_count": 18,
     "metadata": {},
     "output_type": "execute_result"
    }
   ],
   "source": [
    "l = factors(392000*5)\n",
    "l"
   ]
  },
  {
   "cell_type": "code",
   "execution_count": 19,
   "metadata": {},
   "outputs": [
    {
     "data": {
      "text/plain": [
       "2"
      ]
     },
     "execution_count": 19,
     "metadata": {},
     "output_type": "execute_result"
    }
   ],
   "source": [
    "l[2]"
   ]
  },
  {
   "cell_type": "markdown",
   "metadata": {},
   "source": [
    "Si queremos calcular la multiplicidad podemos hacer que devuelva una lista de tuplas"
   ]
  },
  {
   "cell_type": "code",
   "execution_count": 2,
   "metadata": {
    "collapsed": true
   },
   "outputs": [],
   "source": [
    "def factors_exp(n):\n",
    "    \"\"\"\n",
    "    This function returns the list of factors of n,\n",
    "    together with their exponents. The function returns\n",
    "    a list of tuples, the first element of the tuple is \n",
    "    the factor and the second one is the exponent.\n",
    "    \n",
    "    Parameters\n",
    "    ----------\n",
    "    n : int\n",
    "        Integer number to decompose, n > 1\n",
    "        \n",
    "    Returns\n",
    "    -------\n",
    "    [(int, int)]\n",
    "        Factors (factor, exponene) of n\n",
    "        \n",
    "    Example\n",
    "    -------\n",
    "    >>> factors_exp(256)\n",
    "    [(2, 8)]\n",
    "    \"\"\"\n",
    "    fct = 2\n",
    "    factors = []\n",
    "    while n > 1:\n",
    "        if n % fct == 0: #if it is a divisor, we compute its multiplicity.\n",
    "            exp = 1\n",
    "            n = n // fct\n",
    "            while (n % fct) == 0:\n",
    "                exp += 1\n",
    "                n = n // fct\n",
    "            factors.append([fct,exp])\n",
    "        # at this point n % fct != 0, so we increase fct in any case.\n",
    "        fct += 1\n",
    "    return factors"
   ]
  },
  {
   "cell_type": "code",
   "execution_count": 3,
   "metadata": {},
   "outputs": [
    {
     "data": {
      "text/plain": [
       "[[2, 2], [3, 1], [5, 1]]"
      ]
     },
     "execution_count": 3,
     "metadata": {},
     "output_type": "execute_result"
    }
   ],
   "source": [
    "factors_exp(60)"
   ]
  },
  {
   "cell_type": "code",
   "execution_count": 22,
   "metadata": {},
   "outputs": [
    {
     "data": {
      "text/plain": [
       "[(2, 8)]"
      ]
     },
     "execution_count": 22,
     "metadata": {},
     "output_type": "execute_result"
    }
   ],
   "source": [
    "factors_exp(256)"
   ]
  },
  {
   "cell_type": "markdown",
   "metadata": {},
   "source": [
    "# Listas intensionales"
   ]
  },
  {
   "cell_type": "code",
   "execution_count": 5,
   "metadata": {},
   "outputs": [
    {
     "data": {
      "text/plain": [
       "[[2, [[2, 1]]],\n",
       " [3, [[3, 1]]],\n",
       " [4, [[2, 2]]],\n",
       " [5, [[5, 1]]],\n",
       " [6, [[2, 1], [3, 1]]],\n",
       " [7, [[7, 1]]],\n",
       " [8, [[2, 3]]],\n",
       " [9, [[3, 2]]],\n",
       " [10, [[2, 1], [5, 1]]],\n",
       " [11, [[11, 1]]],\n",
       " [12, [[2, 2], [3, 1]]],\n",
       " [13, [[13, 1]]],\n",
       " [14, [[2, 1], [7, 1]]],\n",
       " [15, [[3, 1], [5, 1]]],\n",
       " [16, [[2, 4]]],\n",
       " [17, [[17, 1]]],\n",
       " [18, [[2, 1], [3, 2]]],\n",
       " [19, [[19, 1]]],\n",
       " [20, [[2, 2], [5, 1]]],\n",
       " [21, [[3, 1], [7, 1]]],\n",
       " [22, [[2, 1], [11, 1]]],\n",
       " [23, [[23, 1]]],\n",
       " [24, [[2, 3], [3, 1]]],\n",
       " [25, [[5, 2]]],\n",
       " [26, [[2, 1], [13, 1]]],\n",
       " [27, [[3, 3]]],\n",
       " [28, [[2, 2], [7, 1]]],\n",
       " [29, [[29, 1]]],\n",
       " [30, [[2, 1], [3, 1], [5, 1]]],\n",
       " [31, [[31, 1]]],\n",
       " [32, [[2, 5]]],\n",
       " [33, [[3, 1], [11, 1]]],\n",
       " [34, [[2, 1], [17, 1]]],\n",
       " [35, [[5, 1], [7, 1]]],\n",
       " [36, [[2, 2], [3, 2]]],\n",
       " [37, [[37, 1]]],\n",
       " [38, [[2, 1], [19, 1]]],\n",
       " [39, [[3, 1], [13, 1]]]]"
      ]
     },
     "execution_count": 5,
     "metadata": {},
     "output_type": "execute_result"
    }
   ],
   "source": [
    "[[i, factors_exp(i)] for i in range(2,40)]"
   ]
  },
  {
   "cell_type": "code",
   "execution_count": null,
   "metadata": {
    "collapsed": true
   },
   "outputs": [],
   "source": []
  }
 ],
 "metadata": {
  "kernelspec": {
   "display_name": "Python 3",
   "language": "python",
   "name": "python3"
  },
  "language_info": {
   "codemirror_mode": {
    "name": "ipython",
    "version": 3
   },
   "file_extension": ".py",
   "mimetype": "text/x-python",
   "name": "python",
   "nbconvert_exporter": "python",
   "pygments_lexer": "ipython3",
   "version": "3.7.3"
  }
 },
 "nbformat": 4,
 "nbformat_minor": 1
}
