{
 "cells": [
  {
   "cell_type": "markdown",
   "metadata": {},
   "source": [
    "# Listas. Ejercicios (cont.)\n",
    "\n",
    "<hr>"
   ]
  },
  {
   "cell_type": "markdown",
   "metadata": {},
   "source": [
    "### Máximo comun divisor\n",
    "\n",
    "Así: generando las listas de divisores y seleccionando el mayor común."
   ]
  },
  {
   "cell_type": "code",
   "execution_count": 1,
   "metadata": {},
   "outputs": [
    {
     "name": "stdout",
     "output_type": "stream",
     "text": [
      "1  2  3  4  6  9  12  18  36  \n",
      "[1, 2, 3, 4, 6, 9, 12, 18, 36]\n",
      "[1, 36, 2, 18, 3, 12, 4, 9, 6]\n"
     ]
    }
   ],
   "source": [
    "def lista_de_divisores(n):\n",
    "    \n",
    "def mcd(a, b):\n",
    "    div_a, div = []\n",
    "        if n % d == 0:\n",
    "            print(d, \" \", end=\"\")\n",
    "    print()\n",
    "    \n",
    "def divisores(n):\n",
    "    return [d for d in range(1, n+1) if n % d == 0]\n",
    "\n",
    "def divisores_2(n):\n",
    "    divs = []\n",
    "    for d in range(1, int(math.sqrt(n))+1):\n",
    "        if n % d == 0:\n",
    "            divs.append(d)\n",
    "            if d*d != n:\n",
    "                divs.append(n//d)\n",
    "    return divs\n",
    "\n",
    "imprimir_divisores(36)\n",
    "                   \n",
    "print(divisores(36))\n",
    "                   \n",
    "print(divisores_2(36))"
   ]
  }
 ],
 "metadata": {
  "kernelspec": {
   "display_name": "Python 3",
   "language": "python",
   "name": "python3"
  },
  "language_info": {
   "codemirror_mode": {
    "name": "ipython",
    "version": 3
   },
   "file_extension": ".py",
   "mimetype": "text/x-python",
   "name": "python",
   "nbconvert_exporter": "python",
   "pygments_lexer": "ipython3",
   "version": "3.7.3"
  }
 },
 "nbformat": 4,
 "nbformat_minor": 1
}
