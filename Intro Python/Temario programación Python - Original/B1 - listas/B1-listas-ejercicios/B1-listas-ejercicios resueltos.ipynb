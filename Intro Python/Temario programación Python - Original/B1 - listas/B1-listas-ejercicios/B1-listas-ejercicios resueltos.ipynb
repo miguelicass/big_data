{
 "cells": [
  {
   "cell_type": "markdown",
   "metadata": {},
   "source": [
    "# Listas. Ejercicios (cont.)\n",
    "\n",
    "<hr>"
   ]
  },
  {
   "cell_type": "markdown",
   "metadata": {},
   "source": [
    "### Máximo comun divisor\n",
    "\n",
    "Así: generando las listas de divisores y seleccionando el mayor común.\n",
    "\n",
    "Damos una solución con listas y bucles y otra con conjuntos y la notación extensional o por comprensión. No te resultará difícil dar tú una con conjuntos y bucles o una con listas y la notación extensional."
   ]
  },
  {
   "cell_type": "code",
   "execution_count": 1,
   "metadata": {},
   "outputs": [
    {
     "name": "stdout",
     "output_type": "stream",
     "text": [
      "12\n",
      "12 24\n"
     ]
    }
   ],
   "source": [
    "def lista_de_divisores(n):\n",
    "    div_list = []\n",
    "    for d in range(1, n+1):\n",
    "        if n % d == 0:\n",
    "            div_list.append(d)\n",
    "    return div_list\n",
    "\n",
    "def mcd(a, b):\n",
    "    div_a, div_b = lista_de_divisores(a), lista_de_divisores(b)\n",
    "    max_comun = 1\n",
    "    for d in div_a:\n",
    "        if d in div_b:\n",
    "            max_comun = d\n",
    "    return max_comun\n",
    "                     \n",
    "print(mcd(24, 36))\n",
    "\n",
    "def maxcd(a, b):\n",
    "    div_a = {d for d in range(1, a+1) if a % d == 0} \n",
    "    div_b = {d for d in range(1, b+1) if b % d == 0} \n",
    "    return max(div_a & div_b)\n",
    "\n",
    "print(maxcd(24, 36), maxcd(24, 24))"
   ]
  },
  {
   "cell_type": "markdown",
   "metadata": {},
   "source": [
    "### Limpieza en las palabras\n",
    "\n",
    "Diseña una función que toma una palabra y la limpia, de todos los caracteres que no son alfabéticos, por la izquierda o por la derecha:\n",
    "\n",
    "\t    \"quijote,\" --> \"quijote\"\n",
    "\t    \" 4 quijote,\" --> \"quijote\"\n",
    "\n",
    "Puedes hacerlo tú mismo, pero también puedes inspeccionar las funciones “strip”, “lstrip”, “rstrip” en Python."
   ]
  },
  {
   "cell_type": "code",
   "execution_count": 2,
   "metadata": {},
   "outputs": [
    {
     "name": "stdout",
     "output_type": "stream",
     "text": [
      "quijote quijote\n"
     ]
    }
   ],
   "source": [
    "# Hagamos esto por nosotros mismos:\n",
    "\n",
    "def limpia(palabra):\n",
    "    while palabra != [] and not palabra[0].isalpha():\n",
    "        palabra = palabra[1:]\n",
    "    while palabra != [] and not palabra[-1].isalpha():\n",
    "        palabra = palabra[:-1]\n",
    "    return palabra\n",
    "\n",
    "print(limpia(\"quijote,\"), limpia(\" 4 quijote,\"))"
   ]
  },
  {
   "cell_type": "markdown",
   "metadata": {},
   "source": [
    "### Criba de Eratóstenes\n",
    "\n",
    "Diseña un programa que simule la conocida criba de Eratóstenes."
   ]
  },
  {
   "cell_type": "code",
   "execution_count": 3,
   "metadata": {},
   "outputs": [
    {
     "name": "stdout",
     "output_type": "stream",
     "text": [
      "lista inicial =  [2, 3, 4, 5, 6, 7, 8, 9, 10, 11, 12, 13, 14, 15, 16, 17, 18, 19, 20, 21, 22, 23, 24, 25, 26, 27, 28, 29, 30, 31, 32, 33, 34, 35, 36, 37, 38, 39, 40, 41, 42, 43, 44, 45, 46, 47, 48, 49, 50, 51, 52, 53, 54, 55, 56, 57, 58, 59, 60, 61, 62, 63, 64, 65, 66, 67, 68, 69, 70, 71, 72, 73, 74, 75, 76, 77, 78, 79, 80, 81, 82, 83, 84, 85, 86, 87, 88, 89, 90, 91, 92, 93, 94, 95, 96, 97, 98, 99, 100]\n",
      "\n",
      "tras cribar 2, la lista queda así:  [2, 3, 5, 7, 9, 11, 13, 15, 17, 19, 21, 23, 25, 27, 29, 31, 33, 35, 37, 39, 41, 43, 45, 47, 49, 51, 53, 55, 57, 59, 61, 63, 65, 67, 69, 71, 73, 75, 77, 79, 81, 83, 85, 87, 89, 91, 93, 95, 97, 99]\n",
      "\n",
      "tras cribar 3, la lista queda así:  [2, 3, 5, 7, 11, 13, 17, 19, 23, 25, 29, 31, 35, 37, 41, 43, 47, 49, 53, 55, 59, 61, 65, 67, 71, 73, 77, 79, 83, 85, 89, 91, 95, 97]\n",
      "\n",
      "4  no es primo\n",
      "\n",
      "tras cribar 5, la lista queda así:  [2, 3, 5, 7, 11, 13, 17, 19, 23, 29, 31, 37, 41, 43, 47, 49, 53, 59, 61, 67, 71, 73, 77, 79, 83, 89, 91, 97]\n",
      "\n",
      "6  no es primo\n",
      "\n",
      "tras cribar 7, la lista queda así:  [2, 3, 5, 7, 11, 13, 17, 19, 23, 29, 31, 37, 41, 43, 47, 53, 59, 61, 67, 71, 73, 79, 83, 89, 97]\n",
      "\n",
      "8  no es primo\n",
      "\n",
      "9  no es primo\n",
      "\n",
      "10  no es primo\n",
      "\n"
     ]
    }
   ],
   "source": [
    "from math import sqrt as raiz\n",
    "\n",
    "def criba_de_eratostenes(n):\n",
    "    lista = list(range(2, n+1))\n",
    "    print(\"lista inicial = \", lista)\n",
    "    print()\n",
    "    for d in range(2, int(raiz(n)) + 1):\n",
    "        if d in lista:\n",
    "            lista = [k for k in lista if not (k > d and k % d == 0)]\n",
    "            print(\"tras cribar \" + str(d) + \", la lista queda así: \", lista)\n",
    "            print()\n",
    "        else:\n",
    "            print(d, \" no es primo\")\n",
    "            print()\n",
    "\n",
    "criba_de_eratostenes(100)"
   ]
  },
  {
   "cell_type": "markdown",
   "metadata": {},
   "source": [
    "### Derivar un polinomio\n",
    "\n",
    "Tenemos un polinomio dado en una lista de los coeficientes, de menor a mayor orden, y con un cero para los coeficientes nulos, lógicamente. Diseña una función que calcule la lista correspondiente al polinomio derivada. Diseña también una función que calcule la derivada enésima, siendo el orden un parámetro que, si se omite, es uno.\n",
    "\n",
    "La función derivada admite una solución usando la función “enumerate” y otra sin ella. También se puede definir con listas intensionales y sin ellas. Diseña ahora una segunda versión de la derivada."
   ]
  },
  {
   "cell_type": "markdown",
   "metadata": {},
   "source": [
    "def der_1(poly):\n",
    "    return [c*n for n, c in list(enumerate(poly))[1:]]\n",
    "        \n",
    "poli = [5, 4, 3, 2]\n",
    "\n",
    "print(list(enumerate(poli)))\n",
    "print(list(enumerate(poli))[1:]) \n",
    "print(der_1([5, 4, 3, 2]))\n",
    "\n",
    "def derivada(poly, n=1):\n",
    "    p = poly\n",
    "    for i in range(n):\n",
    "        p = der_1(p)\n",
    "    return p\n",
    "\n",
    "print(derivada([3, 6, 5, 9, 1, 2, 90, 12, 3], 2))"
   ]
  },
  {
   "cell_type": "markdown",
   "metadata": {},
   "source": [
    "### Ordenación de una lista. Usemos `sort()`\n",
    "\n",
    "Python proporciona distintas maneras de ordenar una lista.\n",
    "Nos interesa especialmente poder hacerlo usando una función\n",
    "arbitraria que compare los elementos.\n",
    "\n",
    "Tenemos una colección de puntos del plano, esto es,\n",
    "una lista de pares de reales. La llamamos, sencillamente “puntos”.\n",
    "También tenemos un punto especial “P”.\n",
    "Deseamos diseñar una función que ordene la lista de puntos\n",
    "de más cercano a más lejano a “P”, esto es,\n",
    "de menor a mayor distancia a “P”, usando la función “sort” predefinida."
   ]
  },
  {
   "cell_type": "code",
   "execution_count": 4,
   "metadata": {},
   "outputs": [
    {
     "name": "stdout",
     "output_type": "stream",
     "text": [
      "Puntos =  [(9.091750879584772, -9.417980516140815), (-6.402693587261085, 4.576724030740634), (0.2961643371777871, 7.614613920274923), (-8.029068505589553, 2.6366634553167057), (-5.671660930796056, 4.503498275644098), (8.799619658516797, -5.310194901044946), (7.2222503129979785, 4.551245942453885), (-9.9325806581978, 5.650836080251153), (-0.479062878325049, -4.155129167729399), (3.9508828628401282, -5.078538499790861)]\n",
      "[(9.091750879584772, -9.417980516140815), (-6.402693587261085, 4.576724030740634), (0.2961643371777871, 7.614613920274923), (-8.029068505589553, 2.6366634553167057), (-5.671660930796056, 4.503498275644098), (8.799619658516797, -5.310194901044946), (7.2222503129979785, 4.551245942453885), (-9.9325806581978, 5.650836080251153), (-0.479062878325049, -4.155129167729399), (3.9508828628401282, -5.078538499790861)]\n",
      "\n",
      "\n",
      "[(-0.479062878325049, -4.155129167729399), (3.9508828628401282, -5.078538499790861), (-5.671660930796056, 4.503498275644098), (0.2961643371777871, 7.614613920274923), (-6.402693587261085, 4.576724030740634), (-8.029068505589553, 2.6366634553167057), (7.2222503129979785, 4.551245942453885), (8.799619658516797, -5.310194901044946), (-9.9325806581978, 5.650836080251153), (9.091750879584772, -9.417980516140815)]\n",
      "\n",
      "\n",
      "[(-0.479062878325049, -4.155129167729399), (3.9508828628401282, -5.078538499790861), (0.2961643371777871, 7.614613920274923), (-5.671660930796056, 4.503498275644098), (7.2222503129979785, 4.551245942453885), (-6.402693587261085, 4.576724030740634), (-8.029068505589553, 2.6366634553167057), (8.799619658516797, -5.310194901044946), (-9.9325806581978, 5.650836080251153), (9.091750879584772, -9.417980516140815)]\n",
      "\n",
      "\n",
      "[((-0.479062878325049, -4.155129167729399), 26.427200522546844), ((3.9508828628401282, -5.078538499790861), 37.67971711272713), ((0.2961643371777871, 7.614613920274923), 57.73526453003155), ((-5.671660930796056, 4.503498275644098), 23.384451194772026), ((7.2222503129979785, 4.551245942453885), 24.261239617672558), ((-6.402693587261085, 4.576724030740634), 24.636340071893954), ((-8.029068505589553, 2.6366634553167057), 13.357960606270595), ((8.799619658516797, -5.310194901044946), 43.88960613675756), ((-9.9325806581978, 5.650836080251153), 38.1659673533095), ((9.091750879584772, -9.417980516140815), 111.48824746700507)]\n"
     ]
    }
   ],
   "source": [
    "import random\n",
    "from math import sqrt\n",
    "\n",
    "num_puntos = 10\n",
    "puntos = [(20 * random.random() -10, 20 * random.random() - 10) for i in range(num_puntos)]\n",
    "\n",
    "print(\"Puntos = \", puntos)\n",
    "\n",
    "def dist_origen(punto):\n",
    "    x, y = punto\n",
    "    return sqrt(x**2 + y**2)\n",
    "\n",
    "def ordenar_dist(lista, P):\n",
    "    Px, Py = P\n",
    "    def dist_p(q):\n",
    "        qx, qy = q\n",
    "        return sqrt((Px-qx)**2 + (Py-qy)**2)\n",
    "    lista.sort(key=dist_p)\n",
    "    \n",
    "print(puntos)\n",
    "print(\"\\n\")\n",
    "\n",
    "puntos.sort(key=dist_origen)\n",
    "\n",
    "print(puntos)\n",
    "print(\"\\n\")\n",
    "\n",
    "P = (0.5, 0.5)\n",
    "\n",
    "ordenar_dist(puntos, P)\n",
    "\n",
    "print(puntos)\n",
    "print(\"\\n\")\n",
    "\n",
    "print([(q, sqrt((P[0]-q[0])**2 + (P[1]-q[1])**2) + (P[1]-q[1])**2)\n",
    "       for q in puntos])"
   ]
  },
  {
   "cell_type": "markdown",
   "metadata": {},
   "source": [
    "### Sustitución de un string\n",
    "\n",
    "Dado un string, deseamos cambiar sus vocales por un carácter punto, “.”\n",
    "\n",
    "Ejemplo:\n",
    "\n",
    "        'Tengo que decir que esto es sencillo.'\n",
    "        ->\n",
    "        'T.ng. q.. d.c.r q.. .st. .s s.nc.ll..'\n",
    "\n",
    "Piezas útiles. Te doy algunas pistas. A ver si sabes buscar tú solo en Internet la información que necesites.\n",
    "\n",
    "<ol>\n",
    "    <li> Predicado que dice si un carácter es una vocal (minúscula o mayúscula).</li>\n",
    "    <li> Función que convierte un carácter en “.” si es vocal, o lo deja igual.</li>\n",
    "    <li> Lista que hace lo dicho con todos los caracteres de una lista. (Para una cadena de caracteres, list(cadena).</li>\n",
    "    <li> Se puede unir todos los caracteres de una lista para formar un string, con un bucle o con la función “join”, que une una lista de cadenas de caracteres con el separador dado inicialmente:\n",
    "        \n",
    "        >>> \"-\".join(['ae', 'i', 'o', 'u'])\n",
    "        'ae-i-o-u'\n",
    "</li>\n",
    "        \n",
    "<li> Luego está la notación de listas por comprensión:\n",
    "\n",
    "        lista_de_letras =  [\".\" if …………… else c for c in …]\n",
    "        resultado =  …………… lista_de_letras ……………\n",
    "\n",
    "</li>"
   ]
  },
  {
   "cell_type": "markdown",
   "metadata": {},
   "source": [
    "### Paso a paso\n",
    "\n",
    "Vamos paso a paso.\n",
    "\n",
    "<ol>\n",
    "    <li> Predicado que dice si un carácter es una vocal (minúscula o mayúscula).</li>\n",
    "    <li> Función que convierte un carácter en “.” si es vocal, o lo deja igual.</li>\n",
    "    <li> Lista que hace lo dicho con todos los caracteres de una lista. (Para una cadena de caracteres, list(cadena).</li>\n",
    "    <li> Se puede unir todos los caracteres de una lista para formar un string, con un bucle o con la función “join”, que une una lista de cadenas de caracteres con el separador dado inicialmente:\n",
    "        \n",
    "        >>> \"-\".join(['ae', 'i', 'o', 'u'])\n",
    "        'ae-i-o-u'\n",
    "</li>\n",
    "\n",
    "Averiguo si una letra es una vocal. Las dos primeras versiones son las que posiblemente se os han ocurrido a vosotros. Añado las siguientes, con notación conjuntista (in) y, puesto que resulta ya tan sencillo, pongo las letras con tilde en la lista\n",
    "\n",
    "Voy con el primer apartado: \"Predicado que dice si un carácter es una vocal (minúscula o mayúscula).\" Para resolver esto, se puede poner en Internet, en Google por ejemplo, lo siguiente: \"python predicado averigua si una letra es minúscula\"."
   ]
  },
  {
   "cell_type": "code",
   "execution_count": 5,
   "metadata": {},
   "outputs": [
    {
     "name": "stdout",
     "output_type": "stream",
     "text": [
      "True True False False\n",
      "True True False False\n",
      "True True False False\n",
      "True True False False\n"
     ]
    }
   ],
   "source": [
    "# Predicado que dice si un carácter es una vocal (minúscula o mayúscula)\n",
    "\n",
    "def es_vocal(letra):\n",
    "    lm = letra.lower()\n",
    "    if lm == 'a' or lm == 'e' or lm == 'i' or lm == 'o' or lm == 'u':\n",
    "        return True\n",
    "    else:\n",
    "        return False\n",
    "\n",
    "print(es_vocal(\"a\"), es_vocal(\"A\"), es_vocal(\"b\"), es_vocal(\"B\"))\n",
    "\n",
    "def es_vocal(letra):\n",
    "    lm = letra.lower()\n",
    "    return lm == 'a' or lm == 'e' or lm == 'i' or lm == 'i' or lm == 'u'\n",
    "\n",
    "print(es_vocal(\"a\"), es_vocal(\"A\"), es_vocal(\"b\"), es_vocal(\"B\"))\n",
    "\n",
    "def es_vocal(letra):\n",
    "    return letra.lower() in \"aeiou\"\n",
    "\n",
    "print(es_vocal(\"a\"), es_vocal(\"A\"), es_vocal(\"b\"), es_vocal(\"B\"))\n",
    "\n",
    "def es_vocal(letra):\n",
    "    return letra.lower() in \"aeiou\" + \"áéíóú\"\n",
    "\n",
    "print(es_vocal(\"a\"), es_vocal(\"A\"), es_vocal(\"b\"), es_vocal(\"B\"))"
   ]
  },
  {
   "cell_type": "code",
   "execution_count": 6,
   "metadata": {},
   "outputs": [
    {
     "name": "stdout",
     "output_type": "stream",
     "text": [
      ". b . B *\n"
     ]
    }
   ],
   "source": [
    "# Función que convierte un carácter en “.” si es vocal, o lo deja igual.\n",
    "\n",
    "def a_punto(letra):\n",
    "    if es_vocal(letra):\n",
    "        return \".\"\n",
    "    else:\n",
    "        return letra\n",
    "\n",
    "print(a_punto(\"a\"), a_punto(\"b\"), a_punto(\"A\"), a_punto(\"B\"), a_punto(\"*\"))"
   ]
  },
  {
   "cell_type": "code",
   "execution_count": 7,
   "metadata": {},
   "outputs": [
    {
     "name": "stdout",
     "output_type": "stream",
     "text": [
      "['M', '.', 'r', '.', ' ', 'l', '.', 's', ' ', 'm', '.', 'r', '.', 's', ' ', 'd', '.', ' ', 'l', '.', ' ', 'P', '.', 't', 'r', '.', '.', ' ', 'm', '.', '.', '.', '.', '.']\n",
      "['M', '.', 'r', '.', ' ', 'l', '.', 's', ' ', 'm', '.', 'r', '.', 's', ' ', 'd', '.', ' ', 'l', '.', ' ', 'P', '.', 't', 'r', '.', '.', ' ', 'm', '.', '.', '.', '.', '.']\n"
     ]
    }
   ],
   "source": [
    "# Lista que hace lo dicho con todos los caracteres de una lista. (Para una cadena de caracteres, list(cadena).\n",
    "\n",
    "def convertir_en_punto(lista):\n",
    "    lista_out = []\n",
    "    for x in lista:\n",
    "        lista_out.append(a_punto(x))\n",
    "    return lista_out\n",
    "\n",
    "print(convertir_en_punto(\"Miré los muros de la Patria mía...\"))\n",
    "\n",
    "def convertir_en_punto(lista):\n",
    "    return [a_punto(x) for x in lista]\n",
    "\n",
    "print(convertir_en_punto(\"Miré los muros de la Patria mía...\"))"
   ]
  },
  {
   "cell_type": "code",
   "execution_count": 8,
   "metadata": {},
   "outputs": [
    {
     "name": "stdout",
     "output_type": "stream",
     "text": [
      "M.r. l.s m.r.s d. l. P.tr.. m.....\n"
     ]
    }
   ],
   "source": [
    "# Uniendo el resultado en un string:\n",
    "\n",
    "def transformar_string(cadena):\n",
    "    resultado = \"\"\n",
    "    for x in cadena:\n",
    "        resultado = resultado + a_punto(x)\n",
    "    return resultado\n",
    "\n",
    "print(transformar_string(\"Miré los muros de la Patria mía...\"))"
   ]
  },
  {
   "cell_type": "code",
   "execution_count": 9,
   "metadata": {},
   "outputs": [
    {
     "name": "stdout",
     "output_type": "stream",
     "text": [
      "T.ng. q.. d.c.r q.. .st. .s s.nc.ll..\n"
     ]
    }
   ],
   "source": [
    "# De otro modo, tú sabrás interpretarlo bien:\n",
    "\n",
    "frase = 'Tengo que decir que esto es sencillo.'\n",
    "lista_de_letras =  [\".\" if c.lower() in \"aeiou\" else c for c in frase]\n",
    "solucion = \"\".join(lista_de_letras)\n",
    "print(solucion)"
   ]
  }
 ],
 "metadata": {
  "kernelspec": {
   "display_name": "Python 3",
   "language": "python",
   "name": "python3"
  },
  "language_info": {
   "codemirror_mode": {
    "name": "ipython",
    "version": 3
   },
   "file_extension": ".py",
   "mimetype": "text/x-python",
   "name": "python",
   "nbconvert_exporter": "python",
   "pygments_lexer": "ipython3",
   "version": "3.7.3"
  }
 },
 "nbformat": 4,
 "nbformat_minor": 1
}
