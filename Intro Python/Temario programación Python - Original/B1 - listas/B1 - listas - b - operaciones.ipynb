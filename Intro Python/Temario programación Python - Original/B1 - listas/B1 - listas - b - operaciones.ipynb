{
 "cells": [
  {
   "cell_type": "markdown",
   "metadata": {},
   "source": [
    "# Funciones y métodos de listas\n",
    "\n",
    "<hr>\n",
    "\n",
    "Las listas en Python vienen con una colección de **operaciones** muy completa. Veamos algunas de ellas:"
   ]
  },
  {
   "cell_type": "markdown",
   "metadata": {},
   "source": [
    "### Rangos o secciones o **slices**\n",
    "\n",
    "En Python hay distintos modos de extraer fragmentos de una lista. Imposible ecxplicarlo mejor que con un ejemplo."
   ]
  },
  {
   "cell_type": "code",
   "execution_count": 1,
   "metadata": {},
   "outputs": [
    {
     "name": "stdout",
     "output_type": "stream",
     "text": [
      "a)  [10, 20, 30, 40, 50, 60, 70, 80, 90, 100]\n",
      "b)  [40, 50, 60]\n",
      "c)  [10, 20, 30, 40, 50, 60]\n",
      "d)  [70, 80, 90, 100]\n",
      "e)  [100, 90, 80, 70, 60, 50, 40, 30, 20]\n",
      "f)  [100, 90, 80, 70, 60, 50, 40, 30, 20, 10]\n",
      "g)  [10, 20, 30, 40, 50, 60, 70, 80, 90, 100]\n",
      "h)  [10, 20, 30, 40, 50, 60, 70, 80, 90, 100]\n",
      "i)  [10, 30, 50, 70, 90]\n",
      "j)  [100, 80, 60, 40, 20]\n"
     ]
    }
   ],
   "source": [
    "lista = list(range(10, 101, 10))\n",
    "print(\"a) \", lista)\n",
    "print(\"b) \", lista[3:6])\n",
    "print(\"c) \", lista[:6])\n",
    "print(\"d) \", lista[6:])\n",
    "print(\"e) \", lista[-1:0:-1])\n",
    "print(\"f) \", lista[::-1])\n",
    "print(\"g) \", lista[0:10:1])\n",
    "print(\"h) \", lista[ :  :1])\n",
    "print(\"i) \", lista[0:10:2])\n",
    "print(\"j) \", lista[::-2])"
   ]
  },
  {
   "cell_type": "markdown",
   "metadata": {},
   "source": [
    "### Funciones de uso frecuente\n",
    "\n",
    "Repasamos seguidamente algunas de las operaciones más frecuentes con listas."
   ]
  },
  {
   "cell_type": "markdown",
   "metadata": {},
   "source": [
    "    lista.append(objeto)\n",
    "        Añade un objeto al final de una lista\n",
    " \n",
    "    lista.count(valor) -> integer\n",
    "        Da el número de apariciones de un valor en una lista\n",
    "        \n",
    "\n",
    "    lista.extend(iterable)\n",
    "        Extiende una lista, al final, añadiendo una colección de elementos (iterable)\n",
    "   \n",
    "    lista.index(valor, [start, [stop]]) -> integer\n",
    "        Da el primer índice en que se encuentra el valor\n",
    "        Dispara un ValueError si el valor no está presente\n",
    "   \n",
    "    lista.insert(index, objeto)\n",
    "        Inserta un objeto en la posición indicada\n",
    "  \n",
    "    lista.pop([index]) -> item\n",
    "        Elimina (y devuelve) el elemento en la posición dada por index\n",
    "        (Por defecto, el elemento será el último)\n",
    "        Dispara un IndexError si la lista está vacía o el índice está fuera de rango\n",
    "   \n",
    "    lista.remove(valor)\n",
    "        Elimina el primer elemento igual al valor dado\n",
    "        Dispara un ValueError si el valor no está presente\n",
    " \n",
    "    lista.reverse()\n",
    "        invierte una lista *in place*\n",
    " \n",
    "    lista.sort(cmp=None, key=None, reverse=False)\n",
    "        sort *in place*\n",
    "        cmp(x, y) -> -1, 0, 1    "
   ]
  },
  {
   "cell_type": "code",
   "execution_count": 2,
   "metadata": {},
   "outputs": [
    {
     "data": {
      "text/plain": [
       "range(0, 5)"
      ]
     },
     "execution_count": 2,
     "metadata": {},
     "output_type": "execute_result"
    }
   ],
   "source": [
    "l = range(5)\n",
    "l"
   ]
  },
  {
   "cell_type": "code",
   "execution_count": 3,
   "metadata": {},
   "outputs": [
    {
     "ename": "AttributeError",
     "evalue": "'range' object has no attribute 'append'",
     "output_type": "error",
     "traceback": [
      "\u001b[1;31m---------------------------------------------------------------------------\u001b[0m",
      "\u001b[1;31mAttributeError\u001b[0m                            Traceback (most recent call last)",
      "\u001b[1;32m<ipython-input-3-afa9ad1b6fd8>\u001b[0m in \u001b[0;36m<module>\u001b[1;34m\u001b[0m\n\u001b[1;32m----> 1\u001b[1;33m \u001b[0ml\u001b[0m\u001b[1;33m.\u001b[0m\u001b[0mappend\u001b[0m\u001b[1;33m(\u001b[0m\u001b[1;36m7\u001b[0m\u001b[1;33m)\u001b[0m \u001b[1;31m# deseamos añadir el elemento 7 al final de la lista... pero se produce un error:\u001b[0m\u001b[1;33m\u001b[0m\u001b[1;33m\u001b[0m\u001b[0m\n\u001b[0m",
      "\u001b[1;31mAttributeError\u001b[0m: 'range' object has no attribute 'append'"
     ]
    }
   ],
   "source": [
    "l.append(7) # deseamos añadir el elemento 7 al final de la lista... pero se produce un error:"
   ]
  },
  {
   "cell_type": "code",
   "execution_count": 4,
   "metadata": {},
   "outputs": [
    {
     "data": {
      "text/plain": [
       "[0, 1, 2, 3, 4, 7]"
      ]
     },
     "execution_count": 4,
     "metadata": {},
     "output_type": "execute_result"
    }
   ],
   "source": [
    "l = list(range(5)) # Como range() no genera una lista, hay que convertirlo en una lista\n",
    "l.append(7)        # Y ya funciona append, añadiendo el elemento 7 a la lista, *in place*\n",
    "l"
   ]
  },
  {
   "cell_type": "code",
   "execution_count": 5,
   "metadata": {},
   "outputs": [
    {
     "data": {
      "text/plain": [
       "[0, 1, 2, 3, 4, 7, 45, 56, 3, 2]"
      ]
     },
     "execution_count": 5,
     "metadata": {},
     "output_type": "execute_result"
    }
   ],
   "source": [
    "l.extend([45, 56, 3, 2])\n",
    "# Este método extiende la lista, añadiendo al final\n",
    "# todos los elementos dados en la lista parámetro\n",
    "l"
   ]
  },
  {
   "cell_type": "code",
   "execution_count": 6,
   "metadata": {},
   "outputs": [
    {
     "name": "stdout",
     "output_type": "stream",
     "text": [
      "[0, 1, 2, 3, 45, 56, 3, 2]\n",
      "[0, 1, 2, 3, 200, 56, 3, 2]\n"
     ]
    }
   ],
   "source": [
    "l = list(range(4))\n",
    "l = l + [45, 56, 3, 2] # La concatenación crea una lista nueva\n",
    "print(l)\n",
    "l[4] = 200\n",
    "print(l)"
   ]
  },
  {
   "cell_type": "code",
   "execution_count": 7,
   "metadata": {},
   "outputs": [
    {
     "name": "stdout",
     "output_type": "stream",
     "text": [
      "[0, 1, 2, 3]\n",
      "[100, 0, 1, 2, 3]\n"
     ]
    }
   ],
   "source": [
    "l = list(range(4))\n",
    "print(l)\n",
    "l.insert(0, 100)    # En cambio, insert opera *in place*\n",
    "print(l)"
   ]
  },
  {
   "cell_type": "code",
   "execution_count": 8,
   "metadata": {},
   "outputs": [
    {
     "name": "stdout",
     "output_type": "stream",
     "text": [
      "[0, 1, 2, 100, 3]\n",
      "[0, 1, 2, 100, 200, 3]\n"
     ]
    }
   ],
   "source": [
    "l = list(range(4))\n",
    "l.insert(-1,100)\n",
    "print(l)\n",
    "l.insert(-1,200)\n",
    "print(l)"
   ]
  },
  {
   "cell_type": "code",
   "execution_count": 9,
   "metadata": {},
   "outputs": [],
   "source": [
    "def posic(lst, elem):\n",
    "    \"\"\"\n",
    "    Da la primera posición de un elemento en una lista\n",
    "    Si el elemento no está en la lista, el resultado es -1\n",
    "    \n",
    "    Parameters\n",
    "    ------------------------\n",
    "    elem: Alpha, un tipo cualquiera\n",
    "    lst: lista de Alpha\n",
    "    \n",
    "    \n",
    "    Returns\n",
    "    ----------------------------\n",
    "    pos si, si elem está presente en lst[pos], y no antes\n",
    "    -1, en caso contrario\n",
    "\n",
    "    Example\n",
    "    ---------------------------------------\n",
    "    >>> posic([1, 2, 5, 45], 5)\n",
    "    2\n",
    "    \"\"\"\n",
    "    i = 0\n",
    "    while i<len(lst) and lst[i]!=elem:\n",
    "        i += 1\n",
    "    if i==len(lst):\n",
    "        return -1\n",
    "    else:\n",
    "        return i"
   ]
  },
  {
   "cell_type": "code",
   "execution_count": 10,
   "metadata": {},
   "outputs": [
    {
     "name": "stdout",
     "output_type": "stream",
     "text": [
      "[5, 6, 7, 8, 9, 10, 11, 12, 13, 14]\n",
      "2 -1\n"
     ]
    }
   ],
   "source": [
    "l = list(range(5,15))\n",
    "print(l)\n",
    "print(posic(l, 7), posic(l, 20))"
   ]
  },
  {
   "cell_type": "code",
   "execution_count": 11,
   "metadata": {},
   "outputs": [
    {
     "name": "stdout",
     "output_type": "stream",
     "text": [
      "[5, 6, 7, 8, 9, 10, 11, 12, 13, 14]\n",
      "3\n"
     ]
    }
   ],
   "source": [
    "print(l)\n",
    "print(l.index(8)) # En realidad, existe un método index predefinido :-)"
   ]
  },
  {
   "cell_type": "code",
   "execution_count": 12,
   "metadata": {},
   "outputs": [
    {
     "ename": "ValueError",
     "evalue": "15 is not in list",
     "output_type": "error",
     "traceback": [
      "\u001b[1;31m---------------------------------------------------------------------------\u001b[0m",
      "\u001b[1;31mValueError\u001b[0m                                Traceback (most recent call last)",
      "\u001b[1;32m<ipython-input-12-c05323e57243>\u001b[0m in \u001b[0;36m<module>\u001b[1;34m\u001b[0m\n\u001b[0;32m      1\u001b[0m \u001b[0ml\u001b[0m\u001b[1;33m\u001b[0m\u001b[1;33m\u001b[0m\u001b[0m\n\u001b[1;32m----> 2\u001b[1;33m \u001b[0ml\u001b[0m\u001b[1;33m.\u001b[0m\u001b[0mindex\u001b[0m\u001b[1;33m(\u001b[0m\u001b[1;36m15\u001b[0m\u001b[1;33m)\u001b[0m \u001b[1;31m# pero si el elemento no está, el método index da un error\u001b[0m\u001b[1;33m\u001b[0m\u001b[1;33m\u001b[0m\u001b[0m\n\u001b[0m",
      "\u001b[1;31mValueError\u001b[0m: 15 is not in list"
     ]
    }
   ],
   "source": [
    "l\n",
    "l.index(15) # pero si el elemento no está, el método index da un error"
   ]
  },
  {
   "cell_type": "markdown",
   "metadata": {},
   "source": [
    " #### Eliminación de elementos en una lista"
   ]
  },
  {
   "cell_type": "code",
   "execution_count": 13,
   "metadata": {},
   "outputs": [
    {
     "name": "stdout",
     "output_type": "stream",
     "text": [
      "[5, 6, 7, 8, 9, 10, 11, 12, 13]\n",
      "[5, 6, 7, 8, 9, 10, 11, 12]\n"
     ]
    }
   ],
   "source": [
    "l = [5, 6, 7, 8, 9, 10, 11, 12, 13]\n",
    "print(l)\n",
    "l.pop()\n",
    "print(l)"
   ]
  },
  {
   "cell_type": "markdown",
   "metadata": {},
   "source": [
    "Podemos desear también eliminar todos los elementos entre dos posiciones dadas:"
   ]
  },
  {
   "cell_type": "code",
   "execution_count": 14,
   "metadata": {},
   "outputs": [],
   "source": [
    "def eliminar(lst, ini, end):\n",
    "    \"\"\"\n",
    "    Eliminación *in place* de todos los elementos lst[j], para ini <= j < end\n",
    "    \n",
    "    Parameters\n",
    "    ------------------------\n",
    "    lst: [x]\n",
    "    ini: int\n",
    "    end: int\n",
    "    \n",
    "    \n",
    "    0 <= ini < end <= len(lst)\n",
    "\n",
    "    Returns\n",
    "    ----------------------------\n",
    "    None\n",
    "    \n",
    "    Action\n",
    "    ----------------------------\n",
    "    modifica lst, eliminando todos los elementos entre ini y end\n",
    "\n",
    "    Example\n",
    "    ---------------------------------------\n",
    "    >>> l = [1, 2, 3, 4, 5, 6, 7, 8, 9, 10]\n",
    "    >>> eliminar(l, 3, 5)\n",
    "    >>> print(l)\n",
    "    [1, 2, 3, 6, 7, 8, 9, 10]\n",
    "    \"\"\"\n",
    "\n",
    "    # Primero adelantamos todos los elementos tras la franja que se va a eliminar,\n",
    "    # esto es, movemos los elementos lst[i], para end <= i < len(lst),\n",
    "    # a las posiciones que empiezan en ini:\n",
    "    \n",
    "    pos_end = end\n",
    "    pos_ini = ini\n",
    "    while pos_end<len(lst):\n",
    "        lst[pos_ini] = lst[pos_end]\n",
    "        pos_ini += 1\n",
    "        pos_end += 1\n",
    "    \n",
    "    # Ahora, eliminamos los end-ini elementos desde el final de la lista:\n",
    "    for i in range(end-ini):\n",
    "        lst.pop()"
   ]
  },
  {
   "cell_type": "code",
   "execution_count": 15,
   "metadata": {},
   "outputs": [
    {
     "name": "stdout",
     "output_type": "stream",
     "text": [
      "[1, 2, 3, 6, 7, 8, 9, 10]\n"
     ]
    }
   ],
   "source": [
    "l = [1, 2, 3, 4, 5, 6, 7, 8, 9, 10]\n",
    "eliminar(l, 3, 5)\n",
    "print(l)"
   ]
  },
  {
   "cell_type": "markdown",
   "metadata": {},
   "source": [
    "Como ya podíamos imaginar, una función tan útil como ésta ya está predefinida:"
   ]
  },
  {
   "cell_type": "code",
   "execution_count": 16,
   "metadata": {},
   "outputs": [
    {
     "name": "stdout",
     "output_type": "stream",
     "text": [
      "[1, 2, 3, 4, 5, 6, 7, 8, 9, 10]\n",
      "[1, 2, 4, 5, 6, 7, 8, 9, 10]\n",
      "[1, 2, 9, 10]\n"
     ]
    }
   ],
   "source": [
    "l = [1, 2, 3, 4, 5, 6, 7, 8, 9, 10]\n",
    "print(l)\n",
    "del l[2]\n",
    "print(l)\n",
    "del l[2:7] # Borra los elementos entre la posición 3 y 5 (sin incluir), lo mismo que delete(l, 3, 5)\n",
    "print(l)"
   ]
  },
  {
   "cell_type": "code",
   "execution_count": 17,
   "metadata": {},
   "outputs": [
    {
     "data": {
      "text/plain": [
       "[1, 2]"
      ]
     },
     "execution_count": 17,
     "metadata": {},
     "output_type": "execute_result"
    }
   ],
   "source": [
    "del l[2:]\n",
    "l"
   ]
  },
  {
   "cell_type": "code",
   "execution_count": 18,
   "metadata": {},
   "outputs": [
    {
     "data": {
      "text/plain": [
       "[1, 2]"
      ]
     },
     "execution_count": 18,
     "metadata": {},
     "output_type": "execute_result"
    }
   ],
   "source": [
    "del l[5:2]  # queda sin efecto, al tratarse de un rango vacío\n",
    "l"
   ]
  },
  {
   "cell_type": "code",
   "execution_count": 19,
   "metadata": {},
   "outputs": [],
   "source": [
    "def invierte(lst):\n",
    "    \"\"\"\n",
    "    Permuta *in place* los elementos de la lista dada,\n",
    "    dejándola en orden inverso al proporcionado\n",
    "    \n",
    "    Parameters\n",
    "    ------------------------\n",
    "    lst: [x]    \n",
    "    \n",
    "    Returns\n",
    "    ----------------------------\n",
    "    None\n",
    "    \n",
    "    Example\n",
    "    ---------------------------------------\n",
    "    >>> lista = [1, 2, 5, 4]\n",
    "    >>> invierte(lista)\n",
    "    >>> lista\n",
    "    \n",
    "    \"\"\"\n",
    "    # Permutamos la primera mitad de los elementos de la lista\n",
    "    # con los de la otra mitad\n",
    "    i = 0\n",
    "    for i in range(0, len(lst)//2):\n",
    "        j = len(lst) - 1 - i\n",
    "        lst[i], lst[j] = lst[j], lst[i]\n",
    "     # Cuidado: esta lista NO devuelve valor alguno: permuta los elementos *in place*"
   ]
  },
  {
   "cell_type": "code",
   "execution_count": 20,
   "metadata": {},
   "outputs": [
    {
     "name": "stdout",
     "output_type": "stream",
     "text": [
      "[0, 1, 2, 3, 4, 5, 6, 7, 8, 9]\n",
      "[9, 8, 7, 6, 5, 4, 3, 2, 1, 0]\n",
      "None\n"
     ]
    }
   ],
   "source": [
    "l = list(range(10))\n",
    "print(l)\n",
    "invierte(l)\n",
    "print(l)\n",
    "print(invierte(l))"
   ]
  },
  {
   "cell_type": "markdown",
   "metadata": {},
   "source": [
    "Por supuesto, esta función también está definida:"
   ]
  },
  {
   "cell_type": "code",
   "execution_count": 21,
   "metadata": {},
   "outputs": [
    {
     "name": "stdout",
     "output_type": "stream",
     "text": [
      "[0, 1, 2, 3, 4, 5, 6, 7, 8, 9]\n",
      "[9, 8, 7, 6, 5, 4, 3, 2, 1, 0]\n"
     ]
    }
   ],
   "source": [
    "l = list(range(10))\n",
    "print(l)\n",
    "l.reverse()\n",
    "print(l)"
   ]
  },
  {
   "cell_type": "markdown",
   "metadata": {},
   "source": [
    "#### Función enumerate\n",
    "\n",
    "Utilísima, como se irá viendo, es la siguiente función:"
   ]
  },
  {
   "cell_type": "code",
   "execution_count": 22,
   "metadata": {},
   "outputs": [
    {
     "data": {
      "text/plain": [
       "[(0, 'a'), (1, 'e'), (2, 'i'), (3, 'o'), (4, 'u')]"
      ]
     },
     "execution_count": 22,
     "metadata": {},
     "output_type": "execute_result"
    }
   ],
   "source": [
    "list(enumerate(\"aeiou\"))"
   ]
  },
  {
   "cell_type": "markdown",
   "metadata": {},
   "source": [
    "#### Catálogo de funciones predefinidas sobre listas"
   ]
  },
  {
   "cell_type": "code",
   "execution_count": 23,
   "metadata": {},
   "outputs": [
    {
     "name": "stdout",
     "output_type": "stream",
     "text": [
      "Help on class list in module builtins:\n",
      "\n",
      "class list(object)\n",
      " |  list(iterable=(), /)\n",
      " |  \n",
      " |  Built-in mutable sequence.\n",
      " |  \n",
      " |  If no argument is given, the constructor creates a new empty list.\n",
      " |  The argument must be an iterable if specified.\n",
      " |  \n",
      " |  Methods defined here:\n",
      " |  \n",
      " |  __add__(self, value, /)\n",
      " |      Return self+value.\n",
      " |  \n",
      " |  __contains__(self, key, /)\n",
      " |      Return key in self.\n",
      " |  \n",
      " |  __delitem__(self, key, /)\n",
      " |      Delete self[key].\n",
      " |  \n",
      " |  __eq__(self, value, /)\n",
      " |      Return self==value.\n",
      " |  \n",
      " |  __ge__(self, value, /)\n",
      " |      Return self>=value.\n",
      " |  \n",
      " |  __getattribute__(self, name, /)\n",
      " |      Return getattr(self, name).\n",
      " |  \n",
      " |  __getitem__(...)\n",
      " |      x.__getitem__(y) <==> x[y]\n",
      " |  \n",
      " |  __gt__(self, value, /)\n",
      " |      Return self>value.\n",
      " |  \n",
      " |  __iadd__(self, value, /)\n",
      " |      Implement self+=value.\n",
      " |  \n",
      " |  __imul__(self, value, /)\n",
      " |      Implement self*=value.\n",
      " |  \n",
      " |  __init__(self, /, *args, **kwargs)\n",
      " |      Initialize self.  See help(type(self)) for accurate signature.\n",
      " |  \n",
      " |  __iter__(self, /)\n",
      " |      Implement iter(self).\n",
      " |  \n",
      " |  __le__(self, value, /)\n",
      " |      Return self<=value.\n",
      " |  \n",
      " |  __len__(self, /)\n",
      " |      Return len(self).\n",
      " |  \n",
      " |  __lt__(self, value, /)\n",
      " |      Return self<value.\n",
      " |  \n",
      " |  __mul__(self, value, /)\n",
      " |      Return self*value.\n",
      " |  \n",
      " |  __ne__(self, value, /)\n",
      " |      Return self!=value.\n",
      " |  \n",
      " |  __repr__(self, /)\n",
      " |      Return repr(self).\n",
      " |  \n",
      " |  __reversed__(self, /)\n",
      " |      Return a reverse iterator over the list.\n",
      " |  \n",
      " |  __rmul__(self, value, /)\n",
      " |      Return value*self.\n",
      " |  \n",
      " |  __setitem__(self, key, value, /)\n",
      " |      Set self[key] to value.\n",
      " |  \n",
      " |  __sizeof__(self, /)\n",
      " |      Return the size of the list in memory, in bytes.\n",
      " |  \n",
      " |  append(self, object, /)\n",
      " |      Append object to the end of the list.\n",
      " |  \n",
      " |  clear(self, /)\n",
      " |      Remove all items from list.\n",
      " |  \n",
      " |  copy(self, /)\n",
      " |      Return a shallow copy of the list.\n",
      " |  \n",
      " |  count(self, value, /)\n",
      " |      Return number of occurrences of value.\n",
      " |  \n",
      " |  extend(self, iterable, /)\n",
      " |      Extend list by appending elements from the iterable.\n",
      " |  \n",
      " |  index(self, value, start=0, stop=9223372036854775807, /)\n",
      " |      Return first index of value.\n",
      " |      \n",
      " |      Raises ValueError if the value is not present.\n",
      " |  \n",
      " |  insert(self, index, object, /)\n",
      " |      Insert object before index.\n",
      " |  \n",
      " |  pop(self, index=-1, /)\n",
      " |      Remove and return item at index (default last).\n",
      " |      \n",
      " |      Raises IndexError if list is empty or index is out of range.\n",
      " |  \n",
      " |  remove(self, value, /)\n",
      " |      Remove first occurrence of value.\n",
      " |      \n",
      " |      Raises ValueError if the value is not present.\n",
      " |  \n",
      " |  reverse(self, /)\n",
      " |      Reverse *IN PLACE*.\n",
      " |  \n",
      " |  sort(self, /, *, key=None, reverse=False)\n",
      " |      Stable sort *IN PLACE*.\n",
      " |  \n",
      " |  ----------------------------------------------------------------------\n",
      " |  Static methods defined here:\n",
      " |  \n",
      " |  __new__(*args, **kwargs) from builtins.type\n",
      " |      Create and return a new object.  See help(type) for accurate signature.\n",
      " |  \n",
      " |  ----------------------------------------------------------------------\n",
      " |  Data and other attributes defined here:\n",
      " |  \n",
      " |  __hash__ = None\n",
      "\n"
     ]
    }
   ],
   "source": [
    "help(list)"
   ]
  }
 ],
 "metadata": {
  "kernelspec": {
   "display_name": "Python 3",
   "language": "python",
   "name": "python3"
  },
  "language_info": {
   "codemirror_mode": {
    "name": "ipython",
    "version": 3
   },
   "file_extension": ".py",
   "mimetype": "text/x-python",
   "name": "python",
   "nbconvert_exporter": "python",
   "pygments_lexer": "ipython3",
   "version": "3.8.3"
  }
 },
 "nbformat": 4,
 "nbformat_minor": 1
}
