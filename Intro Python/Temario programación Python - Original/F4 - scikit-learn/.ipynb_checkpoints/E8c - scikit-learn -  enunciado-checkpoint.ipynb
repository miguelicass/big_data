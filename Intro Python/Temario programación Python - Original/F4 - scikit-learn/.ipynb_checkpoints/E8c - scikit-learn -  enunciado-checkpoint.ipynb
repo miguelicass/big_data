{
 "cells": [
  {
   "cell_type": "markdown",
   "metadata": {},
   "source": [
    "# Ejercicio - máquinas de soporte vectorial\n",
    "\n",
    "<hr>"
   ]
  },
  {
   "cell_type": "markdown",
   "metadata": {},
   "source": [
    "## Clasificación de una imagen\n",
    "\n",
    "Considera una matriz como la siguiente,\n",
    "que se encuentra en el archivo \"matriz.txt\":\n",
    " \n",
    "<img src='./images/matriz.png' alt='' style='height:250px'>\n",
    " \n",
    "Si interpretamos sus valores como intensidades de gris,\n",
    "esta imagen podría representar uno de los dígitos que tenemos en nuestra librería:\n",
    " \n",
    " <img src='./images/un_numero.png' alt='' style='height:250px'>\n",
    " \n",
    "Quizás un 1 o un 2...\n",
    "\n",
    "Lo que se pide en este ejercicio es, simplemente, usar un algoritmo de tipo svm para clasificarla, contrastándola con los dígitos de la librería de dígitos de sklearn.\n",
    "\n",
    "Para ello, puedes completar el siguiente script:\n",
    "\n",
    "    import numpy as np\n",
    "    \n",
    "    # Cargar la imagen del archivo (y comprobar la carga):\n",
    "    # ...\n",
    "    \n",
    "    # Visualizarla, con ayuda de matplotlib.pyplot:\n",
    "    # ...\n",
    "\n",
    "    # Visualizarla, con ayuda de matplotlib.pyplot:\n",
    "    # ...\n",
    "\n",
    "    # Cargar la librería de imágenes de dígitos:\n",
    "\n",
    "    from sklearn import datasets\n",
    "    digits = datasets.load_digits()\n",
    "    # ...\n",
    "\n",
    "    # Cargar y el clasificador svm:\n",
    "    # ...\n",
    "\n",
    "    # y ajustarlo para precedir con todos los ejemplares como de entrenamiento:\n",
    "    # ...\n",
    "\n",
    "    # Efectuar la predicción:\n",
    "    # ...\n",
    "    \n",
    "Eso es lo que te pido."
   ]
  }
 ],
 "metadata": {
  "kernelspec": {
   "display_name": "Python 3",
   "language": "python",
   "name": "python3"
  },
  "language_info": {
   "codemirror_mode": {
    "name": "ipython",
    "version": 3
   },
   "file_extension": ".py",
   "mimetype": "text/x-python",
   "name": "python",
   "nbconvert_exporter": "python",
   "pygments_lexer": "ipython3",
   "version": "3.7.3"
  }
 },
 "nbformat": 4,
 "nbformat_minor": 1
}
