{
 "cells": [
  {
   "cell_type": "markdown",
   "metadata": {},
   "source": [
    "# Ejercicio - máquinas de soporte vectorial"
   ]
  },
  {
   "cell_type": "markdown",
   "metadata": {},
   "source": [
    "## Clasificación de una imagen\n",
    "\n",
    " Cosidera la siguiente imagen, que podría ser uno de los dígitos que tenemos en nuestra librería, quizás un 1 o un 2..."
   ]
  },
  {
   "cell_type": "code",
   "execution_count": 1,
   "metadata": {},
   "outputs": [
    {
     "data": {
      "image/png": "[encoded data removed]",
      "text/plain": [
       "<matplotlib.figure.Figure at 0x170cbd5e588>"
      ]
     },
     "metadata": {},
     "output_type": "display_data"
    }
   ],
   "source": [
    "import numpy as np\n",
    "\n",
    "mi_imagen = \\\n",
    "    np.array([[  0.,   0.,   5.,  13.,   9.,   1.,   0.,   0.],\n",
    "              [  0.,   0.,   0.,  15.,  10.,   0.,   0.,   0.],\n",
    "              [  0.,   0.,   0.,   2.,   0.,   0.,   0.,   0.],\n",
    "              [  0.,   0.,   0.,   0.,   9.,   8.,   0.,   0.],\n",
    "              [  0.,   0.,   0.,   0.,   0.,   9.,   0.,   0.],\n",
    "              [  0.,   0.,   0.,   7.,   1.,   0.,   0.,   0.],\n",
    "              [  0.,   0.,   0.,   5.,  10.,   0.,   0.,   0.],\n",
    "              [  0.,   1.,   6.,  13.,  10.,  11.,  12.,   0.]])\n",
    "\n",
    "\n",
    "# Mostramos la imagen del primer dígito:\n",
    "import matplotlib.pyplot as plt\n",
    "plt.figure(1, figsize=(3, 3))\n",
    "plt.imshow(mi_imagen, cmap=plt.cm.gray_r, interpolation='nearest')\n",
    "plt.show()"
   ]
  },
  {
   "cell_type": "markdown",
   "metadata": {},
   "source": [
    "## Solución"
   ]
  },
  {
   "cell_type": "code",
   "execution_count": 2,
   "metadata": {},
   "outputs": [],
   "source": [
    "# Cargamos la librería de imágenes de dígitos:\n",
    "\n",
    "from sklearn import datasets\n",
    "digits = datasets.load_digits()\n",
    "\n",
    "# print(digits.data)\n",
    "# print(digits.target)"
   ]
  },
  {
   "cell_type": "code",
   "execution_count": 3,
   "metadata": {},
   "outputs": [
    {
     "data": {
      "text/plain": [
       "SVC(C=100.0, cache_size=200, class_weight=None, coef0=0.0,\n",
       "  decision_function_shape=None, degree=3, gamma=0.001, kernel='rbf',\n",
       "  max_iter=-1, probability=False, random_state=None, shrinking=True,\n",
       "  tol=0.001, verbose=False)"
      ]
     },
     "execution_count": 3,
     "metadata": {},
     "output_type": "execute_result"
    }
   ],
   "source": [
    "# Y la clase de clasificación svm, ajustada como sabemos:\n",
    "\n",
    "from sklearn import svm\n",
    "clf = svm.SVC(gamma=0.001, C=100.)\n",
    "\n",
    "# Elegimos seguidamente todos los ejemplares como de entrenamiento:\n",
    "clf.fit(digits.data, digits.target)"
   ]
  },
  {
   "cell_type": "code",
   "execution_count": 4,
   "metadata": {},
   "outputs": [
    {
     "data": {
      "text/plain": [
       "array([2])"
      ]
     },
     "execution_count": 4,
     "metadata": {},
     "output_type": "execute_result"
    }
   ],
   "source": [
    "# Y predecimos:\n",
    "\n",
    "mi_imagen_plana = mi_imagen.reshape(1, 64)\n",
    "clf.predict(mi_imagen_plana)"
   ]
  }
 ],
 "metadata": {
  "kernelspec": {
   "display_name": "Python 3",
   "language": "python",
   "name": "python3"
  },
  "language_info": {
   "codemirror_mode": {
    "name": "ipython",
    "version": 3
   },
   "file_extension": ".py",
   "mimetype": "text/x-python",
   "name": "python",
   "nbconvert_exporter": "python",
   "pygments_lexer": "ipython3",
   "version": "3.7.3"
  }
 },
 "nbformat": 4,
 "nbformat_minor": 1
}
