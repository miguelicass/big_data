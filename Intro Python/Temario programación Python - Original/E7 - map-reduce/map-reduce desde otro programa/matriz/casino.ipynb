{
 "cells": [
  {
   "cell_type": "markdown",
   "metadata": {},
   "source": [
    "# En el casino. Ejemplo de map-reduce"
   ]
  },
  {
   "cell_type": "markdown",
   "metadata": {},
   "source": [
    "## Generación de apuestas\n",
    "\n",
    "Generamos apuestas muy simples: dos jugadores lanzan cada uno su dado. Están cargados. Y apuestan una cantidad de dinero.\n",
    "No nos importa lo que ocurre, pero estas apuestas se recogen en un archivo para su posterior procesamiento estadístico."
   ]
  },
  {
   "cell_type": "code",
   "execution_count": 1,
   "metadata": {},
   "outputs": [
    {
     "name": "stdout",
     "output_type": "stream",
     "text": [
      "J J 370\n",
      "J A 100\n",
      "Q 8 180\n",
      "K A 295\n",
      "A K 345\n",
      "J 8 485\n",
      "J J 490\n",
      "8 Q 45\n",
      "K Q 205\n",
      "K J 430\n"
     ]
    }
   ],
   "source": [
    "import random\n",
    "\n",
    "dado = [\"A\", \"K\", \"Q\", \"J\", \"8\", \"7\"]\n",
    "\n",
    "def generar_muestra(n, probs1, probs2, archivo):\n",
    "    f = open(archivo, \"w\")\n",
    "    for i in range(n):\n",
    "        dado1 = random.choices(dado, probs1)[0]\n",
    "        dado2 = random.choices(dado, probs2)[0]\n",
    "        apuesta = 5 * random.randint(1, 100)\n",
    "        f.write(dado1 + \" \" + dado2 + \" \" + str(apuesta) + \"\\n\")\n",
    "    f.close()\n",
    "\n",
    "def gana(d1, d2):\n",
    "    if d1 == d2:\n",
    "        return random.random() > 0.5\n",
    "    else:\n",
    "        return d1.index(d1) >= d2.index(d2)\n",
    "\n",
    "def ver_inicio_archivo(archivo, n):\n",
    "    f = open(archivo, \"r\")\n",
    "    for i in range(n):\n",
    "        linea = f.readline().rstrip()\n",
    "        print(linea)\n",
    "\n",
    "probs_dado1 = [0.1, 0.3, 0.2, 0.2, 0.1, 0.1]\n",
    "probs_dado2 = [0.2, 0.2, 0.1, 0.3, 0.1, 0.1]\n",
    "generar_muestra(10000, probs_dado1, probs_dado2, \"casino.txt\")\n",
    "ver_inicio_archivo(\"casino.txt\", 10)"
   ]
  },
  {
   "cell_type": "markdown",
   "metadata": {},
   "source": [
    "## Análisis estadístico de las apuestas\n",
    "\n",
    "Ahora deseamos examinar el contenido del archivo para ver con qué probabilidades salen los dados.\n",
    "A diferenica de otros ejemplos con map-reduce, el archivo de datos lo proporcionamos dentro del programa (y no en la línea de comandos), y el resultado se maneja también dentro del programa."
   ]
  },
  {
   "cell_type": "code",
   "execution_count": 11,
   "metadata": {
    "scrolled": true
   },
   "outputs": [],
   "source": [
    "import random\n",
    "from mrjob.job import MRJob\n",
    "from collections import defaultdict\n",
    "\n",
    "def gana(d1, d2):\n",
    "    if d1 == d2:\n",
    "        return random.random() > 0.5\n",
    "    else:\n",
    "        return d1.index(d1) >= d2.index(d2)\n",
    "\n",
    "def suma_doble(pares):\n",
    "    \"\"\"\n",
    "    Ejemplo:\n",
    "    >>> suma_doble([(1, 10), (2, 20), (3, 30)])\n",
    "    (6, 60)\n",
    "    \"\"\"\n",
    "    a, b = 0, 0\n",
    "    for x, y in pares:\n",
    "        a, b = a + x, b + y\n",
    "    return a, b\n",
    "\n",
    "class MRComputoApuestas(MRJob):\n",
    "   \n",
    "    def mapper(self, _, line):\n",
    "        linea = line.split()\n",
    "        dados, apuesta = linea[0] + linea[1], int(linea[2])\n",
    "        resultado = apuesta if gana(dados[0], dados[1]) else -apuesta\n",
    "        yield dados, (1, resultado)\n",
    "              \n",
    "    def reducer(self, key, values):\n",
    "        yield key, suma_doble(values)\n",
    "\n",
    "def demo(nombre_archivo):\n",
    "    trabajo = MRComputoApuestas(args=[nombre_archivo])\n",
    "    resultados = []\n",
    "    with trabajo.make_runner() as runner:\n",
    "        runner.run()\n",
    "        for key, value in trabajo.parse_output(runner.cat_output()):\n",
    "            nuevo_item = key, (value[0], value[1])\n",
    "            resultados.append(nuevo_item)\n",
    "    return resultados\n",
    "\n",
    "def estadisticas(totales):\n",
    "    frecuencia = defaultdict(lambda:0,{})\n",
    "    for dados in totales:\n",
    "        dados[0]\n",
    "        \n",
    "\"\"\"\n",
    "resultado = demo(\"casino.txt\")  \n",
    "total_dados = defaultdict(lambda:0,{})\n",
    "total_tiradas = 0\n",
    "for par, totales in resultado:\n",
    "    dado1, dado2 = par[0], par[1]\n",
    "    cuantos, total = totales\n",
    "    total_dados[dado1] += cuantos\n",
    "    total_dados[dado2] += cuantos\n",
    "    total_tiradas += cuantos\n",
    "for d, v in total_dados.items():\n",
    "    print(d, v/(2*total_tiradas))\n",
    "\"\"\"\n",
    "trabajo = MRComputoApuestas(args=[\"casino.txt\"])"
   ]
  },
  {
   "cell_type": "code",
   "execution_count": 22,
   "metadata": {},
   "outputs": [
    {
     "ename": "TypeError",
     "evalue": "expected str, bytes or os.PathLike object, not NoneType",
     "output_type": "error",
     "traceback": [
      "\u001b[1;31m---------------------------------------------------------------------------\u001b[0m",
      "\u001b[1;31mTypeError\u001b[0m                                 Traceback (most recent call last)",
      "\u001b[1;32m<ipython-input-22-ac9083122bc7>\u001b[0m in \u001b[0;36m<module>\u001b[1;34m\u001b[0m\n\u001b[1;32m----> 1\u001b[1;33m \u001b[0mresultado\u001b[0m \u001b[1;33m=\u001b[0m \u001b[0mtrabajo\u001b[0m\u001b[1;33m.\u001b[0m\u001b[0mmake_runner\u001b[0m\u001b[1;33m(\u001b[0m\u001b[1;33m)\u001b[0m\u001b[1;33m.\u001b[0m\u001b[0mrun\u001b[0m\u001b[1;33m(\u001b[0m\u001b[1;33m)\u001b[0m\u001b[1;33m\u001b[0m\u001b[1;33m\u001b[0m\u001b[0m\n\u001b[0m",
      "\u001b[1;32mC:\\ProgramData\\Anaconda3\\lib\\site-packages\\mrjob\\job.py\u001b[0m in \u001b[0;36mmake_runner\u001b[1;34m(self)\u001b[0m\n\u001b[0;32m    488\u001b[0m                                  \" __main__, which doesn't work.\" % w)\n\u001b[0;32m    489\u001b[0m \u001b[1;33m\u001b[0m\u001b[0m\n\u001b[1;32m--> 490\u001b[1;33m         \u001b[1;32mreturn\u001b[0m \u001b[0msuper\u001b[0m\u001b[1;33m(\u001b[0m\u001b[0mMRJob\u001b[0m\u001b[1;33m,\u001b[0m \u001b[0mself\u001b[0m\u001b[1;33m)\u001b[0m\u001b[1;33m.\u001b[0m\u001b[0mmake_runner\u001b[0m\u001b[1;33m(\u001b[0m\u001b[1;33m)\u001b[0m\u001b[1;33m\u001b[0m\u001b[1;33m\u001b[0m\u001b[0m\n\u001b[0m\u001b[0;32m    491\u001b[0m \u001b[1;33m\u001b[0m\u001b[0m\n\u001b[0;32m    492\u001b[0m     \u001b[1;32mdef\u001b[0m \u001b[0m_runner_class\u001b[0m\u001b[1;33m(\u001b[0m\u001b[0mself\u001b[0m\u001b[1;33m)\u001b[0m\u001b[1;33m:\u001b[0m\u001b[1;33m\u001b[0m\u001b[1;33m\u001b[0m\u001b[0m\n",
      "\u001b[1;32mC:\\ProgramData\\Anaconda3\\lib\\site-packages\\mrjob\\launch.py\u001b[0m in \u001b[0;36mmake_runner\u001b[1;34m(self)\u001b[0m\n\u001b[0;32m    208\u001b[0m         \u001b[1;33m:\u001b[0m\u001b[0mrtype\u001b[0m\u001b[1;33m:\u001b[0m \u001b[1;33m:\u001b[0m\u001b[0mpy\u001b[0m\u001b[1;33m:\u001b[0m\u001b[1;32mclass\u001b[0m\u001b[1;33m:\u001b[0m\u001b[0;31m`\u001b[0m\u001b[0mmrjob\u001b[0m\u001b[1;33m.\u001b[0m\u001b[0mrunner\u001b[0m\u001b[1;33m.\u001b[0m\u001b[0mMRJobRunner\u001b[0m\u001b[0;31m`\u001b[0m\u001b[1;33m\u001b[0m\u001b[1;33m\u001b[0m\u001b[0m\n\u001b[0;32m    209\u001b[0m         \"\"\"\n\u001b[1;32m--> 210\u001b[1;33m         \u001b[1;32mreturn\u001b[0m \u001b[0mself\u001b[0m\u001b[1;33m.\u001b[0m\u001b[0m_runner_class\u001b[0m\u001b[1;33m(\u001b[0m\u001b[1;33m)\u001b[0m\u001b[1;33m(\u001b[0m\u001b[1;33m**\u001b[0m\u001b[0mself\u001b[0m\u001b[1;33m.\u001b[0m\u001b[0m_runner_kwargs\u001b[0m\u001b[1;33m(\u001b[0m\u001b[1;33m)\u001b[0m\u001b[1;33m)\u001b[0m\u001b[1;33m\u001b[0m\u001b[1;33m\u001b[0m\u001b[0m\n\u001b[0m\u001b[0;32m    211\u001b[0m \u001b[1;33m\u001b[0m\u001b[0m\n\u001b[0;32m    212\u001b[0m     \u001b[1;33m@\u001b[0m\u001b[0mclassmethod\u001b[0m\u001b[1;33m\u001b[0m\u001b[1;33m\u001b[0m\u001b[0m\n",
      "\u001b[1;32mC:\\ProgramData\\Anaconda3\\lib\\site-packages\\mrjob\\job.py\u001b[0m in \u001b[0;36m_runner_kwargs\u001b[1;34m(self)\u001b[0m\n\u001b[0;32m    503\u001b[0m         \"\"\"If we're building an inline or Spark runner,\n\u001b[0;32m    504\u001b[0m         include mrjob_cls in kwargs.\"\"\"\n\u001b[1;32m--> 505\u001b[1;33m         \u001b[0mkwargs\u001b[0m \u001b[1;33m=\u001b[0m \u001b[0msuper\u001b[0m\u001b[1;33m(\u001b[0m\u001b[0mMRJob\u001b[0m\u001b[1;33m,\u001b[0m \u001b[0mself\u001b[0m\u001b[1;33m)\u001b[0m\u001b[1;33m.\u001b[0m\u001b[0m_runner_kwargs\u001b[0m\u001b[1;33m(\u001b[0m\u001b[1;33m)\u001b[0m\u001b[1;33m\u001b[0m\u001b[1;33m\u001b[0m\u001b[0m\n\u001b[0m\u001b[0;32m    506\u001b[0m \u001b[1;33m\u001b[0m\u001b[0m\n\u001b[0;32m    507\u001b[0m         \u001b[1;32mif\u001b[0m \u001b[0mself\u001b[0m\u001b[1;33m.\u001b[0m\u001b[0m_runner_class\u001b[0m\u001b[1;33m(\u001b[0m\u001b[1;33m)\u001b[0m\u001b[1;33m.\u001b[0m\u001b[0malias\u001b[0m \u001b[1;32min\u001b[0m \u001b[1;33m(\u001b[0m\u001b[1;34m'inline'\u001b[0m\u001b[1;33m,\u001b[0m \u001b[1;34m'spark'\u001b[0m\u001b[1;33m)\u001b[0m\u001b[1;33m:\u001b[0m\u001b[1;33m\u001b[0m\u001b[1;33m\u001b[0m\u001b[0m\n",
      "\u001b[1;32mC:\\ProgramData\\Anaconda3\\lib\\site-packages\\mrjob\\launch.py\u001b[0m in \u001b[0;36m_runner_kwargs\u001b[1;34m(self)\u001b[0m\n\u001b[0;32m    516\u001b[0m             \u001b[1;31m# don't screen out irrelevant opts (see #1898)\u001b[0m\u001b[1;33m\u001b[0m\u001b[1;33m\u001b[0m\u001b[1;33m\u001b[0m\u001b[0m\n\u001b[0;32m    517\u001b[0m             \u001b[0mself\u001b[0m\u001b[1;33m.\u001b[0m\u001b[0m_kwargs_from_switches\u001b[0m\u001b[1;33m(\u001b[0m\u001b[0mset\u001b[0m\u001b[1;33m(\u001b[0m\u001b[0m_RUNNER_OPTS\u001b[0m\u001b[1;33m)\u001b[0m\u001b[1;33m)\u001b[0m\u001b[1;33m,\u001b[0m\u001b[1;33m\u001b[0m\u001b[1;33m\u001b[0m\u001b[0m\n\u001b[1;32m--> 518\u001b[1;33m             \u001b[0mself\u001b[0m\u001b[1;33m.\u001b[0m\u001b[0m_job_kwargs\u001b[0m\u001b[1;33m(\u001b[0m\u001b[1;33m)\u001b[0m\u001b[1;33m,\u001b[0m\u001b[1;33m\u001b[0m\u001b[1;33m\u001b[0m\u001b[0m\n\u001b[0m\u001b[0;32m    519\u001b[0m         )\n\u001b[0;32m    520\u001b[0m \u001b[1;33m\u001b[0m\u001b[0m\n",
      "\u001b[1;32mC:\\ProgramData\\Anaconda3\\lib\\site-packages\\mrjob\\launch.py\u001b[0m in \u001b[0;36m_job_kwargs\u001b[1;34m(self)\u001b[0m\n\u001b[0;32m    587\u001b[0m                 self.jobconf(), self.options.jobconf),\n\u001b[0;32m    588\u001b[0m             libjars=combine_lists(\n\u001b[1;32m--> 589\u001b[1;33m                 self.libjars(), self.options.libjars),\n\u001b[0m\u001b[0;32m    590\u001b[0m             \u001b[0mpartitioner\u001b[0m\u001b[1;33m=\u001b[0m\u001b[0mself\u001b[0m\u001b[1;33m.\u001b[0m\u001b[0mpartitioner\u001b[0m\u001b[1;33m(\u001b[0m\u001b[1;33m)\u001b[0m\u001b[1;33m,\u001b[0m\u001b[1;33m\u001b[0m\u001b[1;33m\u001b[0m\u001b[0m\n\u001b[0;32m    591\u001b[0m             \u001b[0msort_values\u001b[0m\u001b[1;33m=\u001b[0m\u001b[0mself\u001b[0m\u001b[1;33m.\u001b[0m\u001b[0msort_values\u001b[0m\u001b[1;33m(\u001b[0m\u001b[1;33m)\u001b[0m\u001b[1;33m,\u001b[0m\u001b[1;33m\u001b[0m\u001b[1;33m\u001b[0m\u001b[0m\n",
      "\u001b[1;32mC:\\ProgramData\\Anaconda3\\lib\\site-packages\\mrjob\\job.py\u001b[0m in \u001b[0;36mlibjars\u001b[1;34m(self)\u001b[0m\n\u001b[0;32m   1077\u001b[0m            \u001b[0;31m`\u001b[0m\u001b[0;31m`\u001b[0m\u001b[1;33m-\u001b[0m\u001b[1;33m-\u001b[0m\u001b[0mlibjars\u001b[0m\u001b[0;31m`\u001b[0m\u001b[0;31m`\u001b[0m \u001b[0moption\u001b[0m\u001b[1;33m\u001b[0m\u001b[1;33m\u001b[0m\u001b[0m\n\u001b[0;32m   1078\u001b[0m         \"\"\"\n\u001b[1;32m-> 1079\u001b[1;33m         \u001b[0mscript_dir\u001b[0m \u001b[1;33m=\u001b[0m \u001b[0mos\u001b[0m\u001b[1;33m.\u001b[0m\u001b[0mpath\u001b[0m\u001b[1;33m.\u001b[0m\u001b[0mdirname\u001b[0m\u001b[1;33m(\u001b[0m\u001b[0mself\u001b[0m\u001b[1;33m.\u001b[0m\u001b[0mmr_job_script\u001b[0m\u001b[1;33m(\u001b[0m\u001b[1;33m)\u001b[0m\u001b[1;33m)\u001b[0m\u001b[1;33m\u001b[0m\u001b[1;33m\u001b[0m\u001b[0m\n\u001b[0m\u001b[0;32m   1080\u001b[0m \u001b[1;33m\u001b[0m\u001b[0m\n\u001b[0;32m   1081\u001b[0m         \u001b[0mpaths\u001b[0m \u001b[1;33m=\u001b[0m \u001b[1;33m[\u001b[0m\u001b[1;33m]\u001b[0m\u001b[1;33m\u001b[0m\u001b[1;33m\u001b[0m\u001b[0m\n",
      "\u001b[1;32mC:\\ProgramData\\Anaconda3\\lib\\ntpath.py\u001b[0m in \u001b[0;36mdirname\u001b[1;34m(p)\u001b[0m\n\u001b[0;32m    219\u001b[0m \u001b[1;32mdef\u001b[0m \u001b[0mdirname\u001b[0m\u001b[1;33m(\u001b[0m\u001b[0mp\u001b[0m\u001b[1;33m)\u001b[0m\u001b[1;33m:\u001b[0m\u001b[1;33m\u001b[0m\u001b[1;33m\u001b[0m\u001b[0m\n\u001b[0;32m    220\u001b[0m     \u001b[1;34m\"\"\"Returns the directory component of a pathname\"\"\"\u001b[0m\u001b[1;33m\u001b[0m\u001b[1;33m\u001b[0m\u001b[0m\n\u001b[1;32m--> 221\u001b[1;33m     \u001b[1;32mreturn\u001b[0m \u001b[0msplit\u001b[0m\u001b[1;33m(\u001b[0m\u001b[0mp\u001b[0m\u001b[1;33m)\u001b[0m\u001b[1;33m[\u001b[0m\u001b[1;36m0\u001b[0m\u001b[1;33m]\u001b[0m\u001b[1;33m\u001b[0m\u001b[1;33m\u001b[0m\u001b[0m\n\u001b[0m\u001b[0;32m    222\u001b[0m \u001b[1;33m\u001b[0m\u001b[0m\n\u001b[0;32m    223\u001b[0m \u001b[1;31m# Is a path a symbolic link?\u001b[0m\u001b[1;33m\u001b[0m\u001b[1;33m\u001b[0m\u001b[1;33m\u001b[0m\u001b[0m\n",
      "\u001b[1;32mC:\\ProgramData\\Anaconda3\\lib\\ntpath.py\u001b[0m in \u001b[0;36msplit\u001b[1;34m(p)\u001b[0m\n\u001b[0;32m    181\u001b[0m     \u001b[0mReturn\u001b[0m \u001b[0mtuple\u001b[0m \u001b[1;33m(\u001b[0m\u001b[0mhead\u001b[0m\u001b[1;33m,\u001b[0m \u001b[0mtail\u001b[0m\u001b[1;33m)\u001b[0m \u001b[0mwhere\u001b[0m \u001b[0mtail\u001b[0m \u001b[1;32mis\u001b[0m \u001b[0meverything\u001b[0m \u001b[0mafter\u001b[0m \u001b[0mthe\u001b[0m \u001b[0mfinal\u001b[0m \u001b[0mslash\u001b[0m\u001b[1;33m.\u001b[0m\u001b[1;33m\u001b[0m\u001b[1;33m\u001b[0m\u001b[0m\n\u001b[0;32m    182\u001b[0m     Either part may be empty.\"\"\"\n\u001b[1;32m--> 183\u001b[1;33m     \u001b[0mp\u001b[0m \u001b[1;33m=\u001b[0m \u001b[0mos\u001b[0m\u001b[1;33m.\u001b[0m\u001b[0mfspath\u001b[0m\u001b[1;33m(\u001b[0m\u001b[0mp\u001b[0m\u001b[1;33m)\u001b[0m\u001b[1;33m\u001b[0m\u001b[1;33m\u001b[0m\u001b[0m\n\u001b[0m\u001b[0;32m    184\u001b[0m     \u001b[0mseps\u001b[0m \u001b[1;33m=\u001b[0m \u001b[0m_get_bothseps\u001b[0m\u001b[1;33m(\u001b[0m\u001b[0mp\u001b[0m\u001b[1;33m)\u001b[0m\u001b[1;33m\u001b[0m\u001b[1;33m\u001b[0m\u001b[0m\n\u001b[0;32m    185\u001b[0m     \u001b[0md\u001b[0m\u001b[1;33m,\u001b[0m \u001b[0mp\u001b[0m \u001b[1;33m=\u001b[0m \u001b[0msplitdrive\u001b[0m\u001b[1;33m(\u001b[0m\u001b[0mp\u001b[0m\u001b[1;33m)\u001b[0m\u001b[1;33m\u001b[0m\u001b[1;33m\u001b[0m\u001b[0m\n",
      "\u001b[1;31mTypeError\u001b[0m: expected str, bytes or os.PathLike object, not NoneType"
     ]
    }
   ],
   "source": [
    "resultado = trabajo.make_runner().run()"
   ]
  },
  {
   "cell_type": "code",
   "execution_count": null,
   "metadata": {},
   "outputs": [],
   "source": []
  }
 ],
 "metadata": {
  "kernelspec": {
   "display_name": "Python 3",
   "language": "python",
   "name": "python3"
  },
  "language_info": {
   "codemirror_mode": {
    "name": "ipython",
    "version": 3
   },
   "file_extension": ".py",
   "mimetype": "text/x-python",
   "name": "python",
   "nbconvert_exporter": "python",
   "pygments_lexer": "ipython3",
   "version": "3.7.3"
  }
 },
 "nbformat": 4,
 "nbformat_minor": 1
}
