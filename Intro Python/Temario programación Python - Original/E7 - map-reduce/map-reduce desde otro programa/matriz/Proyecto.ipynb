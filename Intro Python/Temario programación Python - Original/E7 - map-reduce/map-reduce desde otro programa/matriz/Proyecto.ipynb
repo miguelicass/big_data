{
 "cells": [
  {
   "cell_type": "markdown",
   "metadata": {},
   "source": [
    "# Proyecto de programación en Python"
   ]
  },
  {
   "cell_type": "markdown",
   "metadata": {},
   "source": [
    "## A) Generar fichero de llamadas World-Com"
   ]
  },
  {
   "cell_type": "markdown",
   "metadata": {},
   "source": [
    "Se solicita generar el archivo de texto de prueba \"llamadas2020.txt\" a partir de datos aleatorios que describan las hipotéticas llamadas que podrían tener lugar a lo largo del primer trimestre de 2020. \n",
    "\n",
    "Este archivo contendrá 5000 líneas, cada una de las cuales contiene los siguientes datos: fecha de la llamada en formato yyyy-MM-dd, hora de la llamada en formato 24h, duración de la llamada en mm:ss, código del cliente emisor de la llamada identificando su país de origen, código del cliente receptor de la llamada identificando su país de origen y serie de palabras clave obtenidas de la conversación. Estos datos están separados por \" # \", como en las siguientes líneas de ejemplo:\n",
    "\n",
    "    2020-01-03 # 0:21 # 4:46 # A-023 # C-238 # oferta mejor tarifa teléfono no me interesa\n",
    "    2020-02-17 # 5:01 # 1:12 # B-089 # A-210 # pedido listo entregar domicilio cuando mañana tarde\n",
    "    2020-02-23 # 15:21 # 9:58 # A-454 # A-MbnT5e # amorcito mañana vernos cenar cine te quiero muchito\n",
    "    2020-03-02 # 45:19 # 1:01 # D-9UygD5 # E-HFb28S # atraco lingotes oro banco del sur discretos ok mañana\n",
    "    2020-03-23 # 17:05 # 5:30 # C-10IOjJ # E-MbG5Ed # mami lentejas exquisitas receta estupenda gracias\n",
    "\n",
    "A continuación se describirán las funciones destinadas a obtener cada uno de estos datos de prueba:"
   ]
  },
  {
   "cell_type": "markdown",
   "metadata": {},
   "source": [
    "### 1. Fecha aleatoria de llamada"
   ]
  },
  {
   "cell_type": "markdown",
   "metadata": {},
   "source": [
    "Se define la función \"random_date(inicio, final)\" para generar una fecha aleatoria elegida uniformemente en un periodo de tiempo definido por el usuario con el formato yyyy-MM-dd. Para ello haremos uso de los módulos \"random\" y \"datetime\"."
   ]
  },
  {
   "cell_type": "code",
   "execution_count": 1,
   "metadata": {},
   "outputs": [
    {
     "data": {
      "text/plain": [
       "'2020-03-23'"
      ]
     },
     "execution_count": 1,
     "metadata": {},
     "output_type": "execute_result"
    }
   ],
   "source": [
    "def random_date(inicio, final):\n",
    "    \"\"\"\n",
    "    Función que genera una fecha aleatoria en el periodo comprendido entre \"inicio\" y \"final\"\n",
    "        \n",
    "    Parameters\n",
    "    ----------\n",
    "    inicio, final : tuplas de int en que se indican (yyyy,MM,dd)\n",
    "    \n",
    "    Returns\n",
    "    -------\n",
    "    str\n",
    "        Cadena de texto representando una fecha aleatoria perteneciente al periodo indicado con el formato 'yyyy-MM-dd'\n",
    "    \n",
    "    Preconditions\n",
    "    ------------\n",
    "    1 <= yyyy <=9999\n",
    "    1 <= MM   <=12\n",
    "    1 <= dd   <=número de días en MM\n",
    "    inicio < final\n",
    "    \n",
    "    Example\n",
    "    -------\n",
    "    >>> random_date((2020,1,1), (2020,3,31))\n",
    "    '2020-02-15'\n",
    "    \"\"\"\n",
    "    import random\n",
    "    from datetime import date\n",
    "    \n",
    "    inicio = date(inicio[0], inicio[1], inicio[2])\n",
    "    final =  date(final[0], final[1], final[2])\n",
    "    #se suma a la fecha inicial un periodo aleatorio comprendido entre la fecha inicial y la fecha final\n",
    "    random_date = inicio + (final - inicio) * random.random() \n",
    "    \n",
    "    return random_date.isoformat()\n",
    "\n",
    "random_date((2020,1,1),(2020,3,31))"
   ]
  },
  {
   "cell_type": "markdown",
   "metadata": {},
   "source": [
    "### 2. Hora aleatoria de llamada"
   ]
  },
  {
   "cell_type": "markdown",
   "metadata": {},
   "source": [
    "Se define la función \"random_time()\" para generar un momento del día aleatorio elegido uniformemente con el formato hh:mm (24h). Para ello haremos uso de los módulos \"random\" y \"datetime\"."
   ]
  },
  {
   "cell_type": "code",
   "execution_count": 2,
   "metadata": {},
   "outputs": [
    {
     "data": {
      "text/plain": [
       "'18:19'"
      ]
     },
     "execution_count": 2,
     "metadata": {},
     "output_type": "execute_result"
    }
   ],
   "source": [
    "def random_time():\n",
    "    \"\"\"\n",
    "    Función que genera un momento aleatorio del día expresado en hh:mm con formato 24h\n",
    "        \n",
    "    Parameters\n",
    "    ----------\n",
    "    None\n",
    "    \n",
    "    Returns\n",
    "    -------\n",
    "    str\n",
    "        Cadena de texto de la forma 'hh:mm'\n",
    "    \n",
    "    Preconditions\n",
    "    ------------\n",
    "    None\n",
    "    \n",
    "    Example\n",
    "    -------\n",
    "    >>> random_time()\n",
    "    '10:24'\n",
    "    \"\"\"\n",
    "    import random\n",
    "    from datetime import timedelta \n",
    "    \n",
    "    dia_completo =  timedelta(hours = 23, minutes = 59)\n",
    "    random_time = str(dia_completo * random.random())\n",
    "    \n",
    "    return random_time[0:random_time.index(\":\",3)] #solo nos interesa la porción de resultado que indica horas y minutos\n",
    "\n",
    "random_time()"
   ]
  },
  {
   "cell_type": "markdown",
   "metadata": {},
   "source": [
    "### 3. Duración aleatoria de llamada"
   ]
  },
  {
   "cell_type": "markdown",
   "metadata": {},
   "source": [
    "Se define la función \"random_time_length_poisson(mu)\" para generar un periodo de tiempo aleatorio elegido según la distribución de Poisson de #mu segundos en promedio con el formato mm:ss. Para ello haremos uso de los módulos \"SciPy.Stats.Poisson\" y \"datetime\"."
   ]
  },
  {
   "cell_type": "code",
   "execution_count": 3,
   "metadata": {},
   "outputs": [
    {
     "data": {
      "text/plain": [
       "'5:15'"
      ]
     },
     "execution_count": 3,
     "metadata": {},
     "output_type": "execute_result"
    }
   ],
   "source": [
    "def random_time_length_poisson(mu):\n",
    "    \"\"\"\n",
    "    Función que genera un periodo de tiempo aleatorio según la distribución de Poisson con \"mu\" de promedio\n",
    "        \n",
    "    Parameters\n",
    "    ----------\n",
    "    mu : segundos de duración del periodo de tiempo promedio de la distribución\n",
    "    \n",
    "    Returns\n",
    "    -------\n",
    "    str\n",
    "        Cadena de texto representando un periodo aleatorio con el formato mm:ss\n",
    "    \n",
    "    Preconditions\n",
    "    ------------\n",
    "    mu > 0\n",
    "    \n",
    "    Example\n",
    "    -------\n",
    "    >>> random_time_length_poisson(300)\n",
    "    '4:47'\n",
    "    \"\"\"\n",
    "    from scipy.stats import poisson\n",
    "    from datetime import timedelta\n",
    "    \n",
    "    duracion_HHMMSS = str(timedelta(minutes = poisson.rvs(mu)//60, seconds=poisson.rvs(mu)%60))\n",
    "    \n",
    "    #si las horas del resultado son 0, se descartan, al igual que el 0 inicial de los minutos si son inferiores a 10\n",
    "    if duracion_HHMMSS.startswith('0'):\n",
    "        if duracion_HHMMSS[(duracion_HHMMSS.index(\":\")+1):].startswith('0'):\n",
    "            duracion_MMSS = duracion_HHMMSS[(duracion_HHMMSS.index(\":\")+2):] \n",
    "        else:\n",
    "            duracion_MMSS = duracion_HHMMSS[(duracion_HHMMSS.index(\":\")+1):]\n",
    "    #si las horas del resultado no son 0, se pasan a minutos\n",
    "    else:\n",
    "        duracion_MMSS = str(int(duracion_HHMMS[:(duracion_HHMMSS.index(\":\"))])*60 \n",
    "        + int(duracion_HHMMSS[(duracion_HHMMSS.index(\":\")+1):(duracion_HHMMSS.index(\":\")+3)])) \n",
    "        + duracion_HHMMSS[(duracion_HHMMSS.index(\":\")+3):]\n",
    "        \n",
    "    return duracion_MMSS\n",
    "\n",
    "random_time_length_poisson(300)"
   ]
  },
  {
   "cell_type": "markdown",
   "metadata": {},
   "source": [
    "### 4. Códigos de clientes"
   ]
  },
  {
   "cell_type": "markdown",
   "metadata": {},
   "source": [
    "Se define la función \"customer_codes(archivo)\" para generar un array de códigos de cliente únicos para todos los clientes de la compañía. Cada código consiste en una letra mayúscula que codifica el país de origen del cliente, un guión y un número de tres cifras aleatorio elegido uniformemente del 000 al 999, por ejemplo 'B-704'. \n",
    "\n",
    "En el archivo externo con el nombre indicado en los parámetros estarán registradas las letras correspondientes al código de cada país en una fila separadas por espacios y el número de clientes de cada país en otra fila siguiendo el mismo orden y separados también por espacio, con lo que en cada columna encontraríamos el código del país y su número de clientes, siendo ampliable la información contenida en este fichero siguiendo la misma estructura. \n",
    "\n",
    "El array generado por la función contendrá, por lo tanto, tantos clientes de cada país como se indica en el archivo externo. Para obtenerlo haremos uso de los módulos \"numpy\" y \"random\"."
   ]
  },
  {
   "cell_type": "code",
   "execution_count": 4,
   "metadata": {},
   "outputs": [
    {
     "data": {
      "text/plain": [
       "array(['A-835', 'A-958', 'A-968', ..., 'E-708', 'E-638', 'E-628'],\n",
       "      dtype='<U32')"
      ]
     },
     "execution_count": 4,
     "metadata": {},
     "output_type": "execute_result"
    }
   ],
   "source": [
    "def customer_codes(archivo):\n",
    "    \"\"\"\n",
    "    Función que genera un array con los códigos de los clientes de todos los países presentes en la primera fila del archivo \n",
    "    indicado como parámetro. El array contendrá tantos códigos únicos por cada país como número de clientes por país que se \n",
    "    indica en la segunda fila del archivo. \n",
    "    \n",
    "    Los códigos están formados por:\n",
    "         - una letra de las presentes en la primera fila del archivo indicado como parámetro\n",
    "         - un guión\n",
    "         - un número de tres cifras escogido aleatoriamente entre el 000 y el 999\n",
    "        \n",
    "    Parameters\n",
    "    ----------\n",
    "    archivo : cadena de texto indicando el nombre del archivo del que se extraen las letras representantes de cada país y sus \n",
    "    pesos (número de clientes de cada país)\n",
    "    \n",
    "    Returns\n",
    "    -------\n",
    "    array\n",
    "        conjunto de códigos de cliente únicos para todos los clientes de la compañía\n",
    "    \n",
    "    Preconditions\n",
    "    ------------\n",
    "    el archivo debe existir en la carpeta que alberga el script con el nombre indicado, debiendo incluirse la extensión.\n",
    "    \n",
    "    Example\n",
    "    -------\n",
    "    >>> customer_codes(\"ClientesPorPaises.txt\")\n",
    "    array(['A-979', 'A-671', 'A-272', ..., 'E-098', 'E-828', 'E-285'],\n",
    "      dtype='<U32')\n",
    "    \"\"\"\n",
    "    import numpy as np\n",
    "    import random\n",
    "    \n",
    "    clientes_paises = []\n",
    "    with open(archivo, 'r') as f:\n",
    "        for fila in f:\n",
    "            x = fila.split()\n",
    "            clientes_paises.append(x)\n",
    "    paises = clientes_paises[0]\n",
    "    clientes = clientes_paises[1]\n",
    "    todos_los_clientes = np.array([])\n",
    "    for pais in paises:\n",
    "        numero_clientes = int(clientes[paises.index(pais)])\n",
    "        #para obtener los códigos de tres cifras se generará una lista con tantos elementos como clientes tenga cada país  \n",
    "        #extraídos de la permutación aleatoria de los números entre el 0 y el 999, garantizando que cada elemento sea único. \n",
    "        codigos_numericos = random.sample(range(0,999), numero_clientes)\n",
    "        #Después se les añade la letra del país correspondiente, un guión y tantos ceros a la izquierda como sea necesario para\n",
    "        #completar las tres cifras.\n",
    "        clientes_pais = np.array([pais + \"-\" + str(num_cod).rjust(3, '0') for num_cod in codigos_numericos])\n",
    "        todos_los_clientes= np.append(todos_los_clientes, clientes_pais)\n",
    "    return todos_los_clientes\n",
    "\n",
    "customer_codes(\"ClientesPorPaises.txt\")"
   ]
  },
  {
   "cell_type": "markdown",
   "metadata": {},
   "source": [
    "### 5. Palabras clave aleatorias "
   ]
  },
  {
   "cell_type": "markdown",
   "metadata": {},
   "source": [
    "Se define la función \"random_key_words()\" para generar aleatoriamente una lista de palabras que puedan emular a las palabras clave de una conversación. \n",
    "\n",
    "El número de palabras se elegirá aleatoriamente con una distribución uniforme entre 5 y 25. \n",
    "\n",
    "Las palabras se extraerán de un corpus generado mediante el procedimiento \"generar_corpus()\" a partir de las 500 palabras más frecuentes del español y sus frecuencias relativas, recogidas en la url \"https://es.wiktionary.org/wiki/Wikcionario:Frecuentes-(1-1000)-Subt%C3%ADtulos_de_pel%C3%ADculas \", de las que se descartan todas aquellas palabras que no aportan significado, como por ejemplo, preposiciones. De este corpus se elegirán aleatoriamente mediante la función \"random_key_words()\" el número de palabras aleatorio explicado en el párrafo anterior atendiendo a la frecuencia relativa de cada uno, siendo más probable elegir una palabra cuanta más frecuencia de uso presente. Para ello haremos uso de los módulos \"BeautifulSoup\", \"requests\", \"nltk.corpus.stopwords\", \"numpy\" y \"random\"."
   ]
  },
  {
   "cell_type": "code",
   "execution_count": 5,
   "metadata": {},
   "outputs": [],
   "source": [
    "def generar_corpus():\n",
    "    \"\"\"\n",
    "    Procedimiento que genera el fichero 'corpus_500_palabras_mas_frecuentes.txt'. Este fichero contiene dos columnas, la primera\n",
    "    está compuesta por las palabras más frecuentes del español y la segunda por las frecuencias en ppm (palabras por millón)\n",
    "    de cada una de ellas. Las columnas estarán ordenadas de mayor a menor frecuencia. Los datos se extraen a partir del\n",
    "    código fuente de la página con url\n",
    "    https://es.wiktionary.org/wiki/Wikcionario:Frecuentes-(1-1000)-Subt%C3%ADtulos_de_pel%C3%ADculas\n",
    "    \n",
    "    Parameters\n",
    "    ----------\n",
    "    None\n",
    "    \n",
    "    Returns\n",
    "    -------\n",
    "    None\n",
    "    \n",
    "    Preconditions\n",
    "    ------------\n",
    "    es necesario que exista conexión a internet y que la página web\n",
    "    https://es.wiktionary.org/wiki/Wikcionario:Frecuentes-(1-1000)-Subt%C3%ADtulos_de_pel%C3%ADculas esté disponible.\n",
    "    Además el módulo nltk debe estar descargado en el equipo, si no será necesario descargarlo descomentando la línea de\n",
    "    código 'nltk.download()', presente en las líneas iniciales de la definición del procedimiento.\n",
    "    \"\"\"\n",
    "    from bs4 import BeautifulSoup\n",
    "    import requests\n",
    "    import nltk\n",
    "    #nltk.download()\n",
    "    from nltk.corpus import stopwords\n",
    "    \n",
    "    palabras_frecuentes = []\n",
    "    \n",
    "    #Extraemos los datos de palabras y frecuencias del código html de una web a partir de su url\n",
    "    \n",
    "    url_palabras_frecuentes = \"https://es.wiktionary.org/wiki/Wikcionario:Frecuentes-(1-1000)-Subt%C3%ADtulos_de_pel%C3%ADculas\"\n",
    "    codigo_html_palabras_frecuentes = requests.get(url_palabras_frecuentes).text\n",
    "    codigo_html_BS = BeautifulSoup(codigo_html_palabras_frecuentes, \"lxml\")\n",
    "    \n",
    "    #Los valores que nos interesan están incluidos en una tabla (etiqueta 'table'), en cada una de sus celdas (etiquetas 'td')\n",
    "    \n",
    "    tabla_palabras_frecuencias = codigo_html_BS.find('table')\n",
    "    html_palabras_frecuencias = tabla_palabras_frecuencias.find_all('td')\n",
    "    \n",
    "    #Para cada etiqueta 'td' encontrada en la tabla (celda), añadimos un elemento a la lista \"palabras_frecuentes\"\n",
    "    \n",
    "    for celda in html_palabras_frecuencias:\n",
    "        palabras_frecuentes.append(celda.get_text())\n",
    "        \n",
    "    #Ahora tenemos una lista en la que aparecen, por cada palabra, su número de orden según frecuencia, la palabra y su\n",
    "    #frecuencia. Cada uno de estos elementos incorpora un salto de línea que queremos eliminar.\n",
    "    \n",
    "    palabras_frecuentes_strip = []\n",
    "    for elemento in palabras_frecuentes:\n",
    "        palabras_frecuentes_strip.append(elemento.strip())\n",
    "    \n",
    "    #A continuación, queremos conseguir una lista que contenga exclusivamente las palabras y las frecuencias, descartando el \n",
    "    #elemento que contiene el orden de la palabra según su frecuencia.\n",
    "    \n",
    "    palabras_frecuentes_sin_ordinal = []\n",
    "    for elemento in palabras_frecuentes_strip:\n",
    "        indice = palabras_frecuentes_strip.index(elemento)\n",
    "        if indice not in range(0,len(palabras_frecuentes_strip),3):\n",
    "            palabras_frecuentes_sin_ordinal.append(elemento)\n",
    "    \n",
    "    #Ahora que ya tenemos una nueva lista que solo contiene las palabras y las frecuencias, vaciamos la lista inicial \n",
    "    #\"palabras_frecuentes\" para añadirle como elementos sublistas que contienen cada una una palabra y su frecuencia, de manera\n",
    "    #que ambos valores quedan asociados\n",
    "    \n",
    "    palabras_frecuentes = []\n",
    "    for indice in range(0,len(palabras_frecuentes_sin_ordinal),2):\n",
    "        palabra_frecuencia = []\n",
    "        palabra_frecuencia.append(palabras_frecuentes_sin_ordinal[indice])\n",
    "        palabra_frecuencia.append(palabras_frecuentes_sin_ordinal[indice+1])\n",
    "        palabras_frecuentes.append(palabra_frecuencia)\n",
    "    \n",
    "    #Definimos la función \"eliminar_stopwords\", capaz de eliminar de una lista de listas como \"palabras_frecuentes\" aquellos\n",
    "    #elementos (par palabra-frecuencia) en los que la palabra sea una stopword\n",
    "\n",
    "    def palabras_sin_stopwords(listado_palabras):\n",
    "        for elemento in listado_palabras:\n",
    "            if elemento[0] in stopwords.words(\"spanish\"):\n",
    "                listado_palabras.remove(elemento)\n",
    "        return listado_palabras\n",
    "    \n",
    "    #Aplicamos la función a la lista \"palabras_frecuentes\"\n",
    "    \n",
    "    palabras_frecuentes_sin_stopwords = palabras_sin_stopwords(palabras_frecuentes)\n",
    "    \n",
    "    #Ordenamos descendentemente la lista según frecuencia\n",
    "    \n",
    "    palabras_frecuentes_sin_stopwords.sort(key = lambda palabras_frecuencias: int(palabras_frecuencias[1]), reverse = True)\n",
    "    \n",
    "    #Creamos sendas listas por separado de palabras y frecuencias\n",
    "    \n",
    "    palabras = []\n",
    "    frecuencias = []\n",
    "    [palabras.append(elemento[0]) for elemento in palabras_frecuentes_sin_stopwords]\n",
    "    [frecuencias.append(elemento[1]) for elemento in palabras_frecuentes_sin_stopwords]\n",
    "    \n",
    "    #Generamos un fichero txt con las 500 primeras palabras\n",
    "    \n",
    "    with open('corpus_500_palabras_mas_frecuentes.txt','w') as f:\n",
    "        for i in range(500):\n",
    "            f.write(palabras[i].ljust(20)+\" \"+frecuencias[i].ljust(20)+\"\\n\")\n",
    "            \n",
    "generar_corpus()"
   ]
  },
  {
   "cell_type": "code",
   "execution_count": 6,
   "metadata": {},
   "outputs": [
    {
     "data": {
      "text/plain": [
       "['seguir',\n",
       " 'hiciste',\n",
       " 'adónde',\n",
       " 'acaba',\n",
       " 'mierda',\n",
       " 'mal',\n",
       " 'equipo',\n",
       " 'voy',\n",
       " 'dónde',\n",
       " 'vas',\n",
       " 'primera',\n",
       " 'poder',\n",
       " 'auto',\n",
       " 'vi',\n",
       " 'mano',\n",
       " 'juego',\n",
       " 'vas']"
      ]
     },
     "execution_count": 6,
     "metadata": {},
     "output_type": "execute_result"
    }
   ],
   "source": [
    "def random_key_words():\n",
    "    \"\"\"\n",
    "    Función que genera un listado aleatorio de palabras a partir del fichero 'corpus_500_palabras_mas_frecuentes.txt', en el que\n",
    "    aparecen en dos columnas las 500 palabras más frecuentes del español y sus frecuencias relativas en ppm. El listado generado\n",
    "    cumple las siguientes condiciones:\n",
    "        -el número de palabras es un número aleatorio elegido uniformemente entre 5 y 25\n",
    "        -las palabras se eligen aleatoriamente atendiendo a una probabilidad proporcional a su frecuencia\n",
    "        \n",
    "    Parameters\n",
    "    ----------\n",
    "    None\n",
    "    \n",
    "    Returns\n",
    "    -------\n",
    "    list\n",
    "        listado de palabras\n",
    "    \n",
    "    Preconditions\n",
    "    ------------\n",
    "    el archivo 'corpus_500_palabras_mas_frecuentes.txt' debe existir en la carpeta que alberga el script.\n",
    "    \n",
    "    Example\n",
    "    -------\n",
    "    >>> random_key_words()\n",
    "    ['dos',\n",
    "     'diablos',\n",
    "     'primera',\n",
    "     'cierto',\n",
    "     'va',\n",
    "     'necesito',\n",
    "     'casa',\n",
    "     'has',\n",
    "     'mierda',\n",
    "     'tengo',\n",
    "     'bueno',\n",
    "     'estas',\n",
    "     'conoces',\n",
    "     'se']\n",
    "    \"\"\"    \n",
    "    import numpy as np\n",
    "    import random\n",
    "    \n",
    "    #Generamos aleatoriamente con distribución uniforme entr 5 y 25 el número de palabras que va a contener la línea\n",
    "    \n",
    "    numero_palabras = random.randrange(5,25)\n",
    "    \n",
    "    #Leemos el fichero 'corpus_500_palabras_mas_frecuentes.txt' y obtenemos las listas 'palabras' y 'frecuencias' para usarlas\n",
    "    #en np.random.choice\n",
    "    \n",
    "    palabras = []\n",
    "    frecuencias = []\n",
    "    with open('corpus_500_palabras_mas_frecuentes.txt','r') as f:\n",
    "        [palabras.append(linea.split()[0])for linea in f]\n",
    "    with open('corpus_500_palabras_mas_frecuentes.txt','r') as f:\n",
    "        [frecuencias.append(linea.split()[1]) for linea in f]\n",
    "        \n",
    "    #Obtenemos un listado con el número aleatorio de palabras 'numero_palabras' en el que las palabras obtenidas del corpus\n",
    "    #tienen una probabilidad de aparecer proporcional a su freecuencia.\n",
    "\n",
    "    palabras_clave = np.random.choice(palabras,numero_palabras,frecuencias)\n",
    "    return list(palabras_clave)\n",
    "            \n",
    "random_key_words()    "
   ]
  },
  {
   "cell_type": "markdown",
   "metadata": {},
   "source": [
    "### 6. Creación del fichero \"llamadas2020.txt\""
   ]
  },
  {
   "cell_type": "markdown",
   "metadata": {},
   "source": [
    "Se define el procedimiento \"generar_fichero_llamadas(nombre_archivo_llamadas, lineas, nombre_archivo_clientes, inicio_periodo, final_periodo, segundos_promedio_llamadas)\" para generar el fichero de llamadas solicitado. \n",
    "\n",
    "Este procedimiento llama a todas las funciones y procedimientos definidas anteriormente para obtener los datos requeridos."
   ]
  },
  {
   "cell_type": "code",
   "execution_count": 7,
   "metadata": {},
   "outputs": [],
   "source": [
    "def generar_fichero_llamadas(nombre_archivo_llamadas, lineas, nombre_archivo_clientes, inicio_periodo, final_periodo, \n",
    "                             segundos_promedio_llamadas):\n",
    "    \"\"\"\n",
    "    Procedimiento que genera un fichero txt con el nombre y número de líneas que se desee conteniendo los siguientes datos: \n",
    "    fecha en formato yyyy-MM-dd, hora en formato 24h, duración en mm:ss, código del cliente emisor de la llamada y código del \n",
    "    cliente receptor de la llamada, distintos entre sí (un cliente no puede llamarse a sí mismo) y elegidos aleatoriamente \n",
    "    atendiendo a una distribución uniforme desde el array de clientes generado por la función \n",
    "    \"customer_codes(nombre_archivo_clientes)\"y serie de palabras clave obtenidas de la conversación. \n",
    "    \n",
    "    Estos datos están separados por \" # \". \n",
    "    \n",
    "    Como el array de clientes generado por la función \"customer_codes(nombre_archivo_clientes)\" tiene tantos códigos de clientes\n",
    "    de cada país como clientes tiene el país, en realidad la probabilidad de obtener un código de un país concreto es \n",
    "    proporcional al número de clientes de dicho país. \n",
    "    \n",
    "    Por otra parte, como el número de llamadas producidas es superior al número total de clientes existentes, cada código puede\n",
    "    aparecer como emisor o receptor en varias llamadas.\n",
    "        \n",
    "    Parameters\n",
    "    ----------\n",
    "    nombre_archivo_llamadas: nombre que se le quiere dar al fichero generado por el procedimiento\n",
    "    lineas: número de líneas que se desea que contenga el fichero\n",
    "    nombre_archivo_clientes: nombre del fichero que contiene la información de los clientes por país\n",
    "    inicio_periodo: (yyyy,MM,dd) inicio del periodo del que se desea obtener las fechas\n",
    "    final_periodo: (yyyy,MM,dd) fin del periodo del que se desea obtener las fechas\n",
    "    segundos_promedio_llamadas : segundos de duración promedio de las llamadas\n",
    "        \n",
    "    Returns\n",
    "    -------\n",
    "    None\n",
    "    \n",
    "    Preconditions\n",
    "    ------------\n",
    "    Las funciones y procedimientos invocados deben estar definidos y haber sido ejecutados con éxito.\n",
    "    \"\"\"    \n",
    "    import numpy as np\n",
    "    with open (nombre_archivo_llamadas, 'w') as f:\n",
    "        codigos_clientes = customer_codes(nombre_archivo_clientes)\n",
    "        generar_corpus()\n",
    "        for i in range(lineas):\n",
    "            codigo_emisor = \" \".join(np.random.choice(codigos_clientes, 1))\n",
    "            codigo_receptor = \" \".join(np.random.choice(codigos_clientes, 1))\n",
    "            while codigo_emisor == codigo_receptor:\n",
    "                codigo_receptor = \" \".join(np.random.choice(codigos_clientes, 1))\n",
    "            f.write(random_date(inicio_periodo,final_periodo) + \" # \"+random_time() + \" # \" + \n",
    "                    random_time_length_poisson(segundos_promedio_llamadas) + \" # \" + codigo_emisor + \" # \" + codigo_receptor +\n",
    "                    \" # \" + \" \".join(random_key_words()) + \"\\n\")\n",
    "\n",
    "generar_fichero_llamadas(\"llamadas2020.txt\", 5000, \"ClientesPorPaises.txt\", (2020,1,1), (2020,3,31), 300)"
   ]
  },
  {
   "cell_type": "markdown",
   "metadata": {},
   "source": [
    "## B) Contabilidad y análisis de llamadas"
   ]
  },
  {
   "cell_type": "markdown",
   "metadata": {},
   "source": [
    "A continuación, se pide analizar el archivo de llamadas descrito, para sacar conclusiones desde el punto de vista social y desde el económico."
   ]
  },
  {
   "cell_type": "markdown",
   "metadata": {},
   "source": [
    "### 1. Obtención matriz renta per cápita por país desde archivo externo"
   ]
  },
  {
   "cell_type": "markdown",
   "metadata": {},
   "source": [
    "Se define la función \"rentas_per_capita(nombre_archivo)\" para obtener las rentas per cápita de los países clientes de la compañía a partir de un fichero externo en el que se indica en la primera fila los países separados por espacios y en la segunda, los valores de renta per cápita en dólares con dos decimales.\n",
    "\n",
    "Se decide devolver una lista de listas en la que el primer elemento es la lista de países (strings) y el segundo los valores de las rentas per cápita (float), por operatividad en su uso posterior para el análisis y la representación gráfica, ya que los arrays no permiten elementos con tipos diferentes."
   ]
  },
  {
   "cell_type": "code",
   "execution_count": 8,
   "metadata": {},
   "outputs": [
    {
     "data": {
      "text/plain": [
       "[['A', 'B', 'C', 'D', 'E'], [44469.91, 43323.81, 8826.99, 56307.51, 28156.82]]"
      ]
     },
     "execution_count": 8,
     "metadata": {},
     "output_type": "execute_result"
    }
   ],
   "source": [
    "def rentas_per_capita(nombre_archivo):\n",
    "    \"\"\"\n",
    "    Función que genera una lista de listas en la que el primer elemento es la lista de países (strings) y el segundo los valores\n",
    "    de las rentas per cápita (float) que se encuentran en el archivo indicado en los parámetros de la función.\n",
    "        \n",
    "    Parameters\n",
    "    ----------\n",
    "    nombre_archivo : cadena de texto indicando el nombre del archivo del que se extraen las letras representantes de cada país \n",
    "    y el valor de renta per cápita correspondiente a cada país.\n",
    "    \n",
    "    Returns\n",
    "    -------\n",
    "    list\n",
    "        lista cuyo primer elemento es la lista de países y cuyo segundo elemento es la lista de rentas per cápita.\n",
    "    \n",
    "    Preconditions\n",
    "    ------------\n",
    "    el archivo debe existir en la carpeta que alberga el script con el nombre indicado, debiendo incluirse la extensión.\n",
    "    \n",
    "    Example\n",
    "    -------\n",
    "    >>> rentas_per_capita(\"renta_per_capita.txt\")\n",
    "    [['A', 'B', 'C', 'D', 'E'], [44469.91, 43323.81, 8826.99, 56307.51, 28156.82]]\n",
    "    \"\"\"\n",
    "    renta_per_capita_paises = []\n",
    "    \n",
    "    with open (nombre_archivo, 'r') as f:\n",
    "        for fila in f:\n",
    "            x = fila.split()\n",
    "            renta_per_capita_paises.append(x)\n",
    "    #sustituimos cada uno de los elementos del listado de rentas per cápita (segunda lista) por su conversión a float para  \n",
    "    #luego poder operar con ellos.         \n",
    "    for element in renta_per_capita_paises[1]:\n",
    "        renta_per_capita_paises[1].insert(renta_per_capita_paises[1].index(element), float(element))\n",
    "        renta_per_capita_paises[1].remove(element)\n",
    "\n",
    "    return renta_per_capita_paises\n",
    "\n",
    "rentas_per_capita(\"renta_per_capita.txt\")"
   ]
  },
  {
   "cell_type": "markdown",
   "metadata": {},
   "source": [
    "### 2. Obtención matriz tarifa por país desde archivo externo"
   ]
  },
  {
   "cell_type": "markdown",
   "metadata": {},
   "source": [
    "Se define la función \"tarifas_por_pais(nombre_archivo)\" para obtener la matriz 5x5 de tarifas entre cada 2 países (emisor y receptor) en €/minuto de llamada a partir del fichero externo indicado en los parámetros de la función. Para ello haremos uso del módulo \"numpy\"."
   ]
  },
  {
   "cell_type": "code",
   "execution_count": 9,
   "metadata": {},
   "outputs": [
    {
     "data": {
      "text/plain": [
       "array([[0.05, 0.15, 2.  , 0.2 , 0.23],\n",
       "       [0.15, 0.04, 1.8 , 0.17, 0.2 ],\n",
       "       [2.  , 1.8 , 0.1 , 2.05, 1.94],\n",
       "       [0.2 , 0.17, 2.05, 0.03, 0.19],\n",
       "       [0.23, 0.2 , 1.94, 0.19, 0.06]])"
      ]
     },
     "execution_count": 9,
     "metadata": {},
     "output_type": "execute_result"
    }
   ],
   "source": [
    "def tarifas_por_pais(nombre_archivo):\n",
    "    \"\"\"\n",
    "    Función para obtener la matriz 5x5 de tarifas entre cada 2 países (emisor y receptor) en €/minuto de llamada a partir del\n",
    "    fichero externo indicado en los parámetros de la función.\n",
    "        \n",
    "    Parameters\n",
    "    ----------\n",
    "    nombre_archivo : cadena de texto indicando el nombre del archivo del que se extrae la matriz.\n",
    "    \n",
    "    Returns\n",
    "    -------\n",
    "    array\n",
    "        valores numéricos de los precios por minuto de llamada entre cada dos países.\n",
    "    \n",
    "    Preconditions\n",
    "    ------------\n",
    "    el archivo debe existir en la carpeta que alberga el script con el nombre indicado, debiendo incluirse la extensión.\n",
    "    \n",
    "    Example\n",
    "    -------\n",
    "    >>> tarifas_por_pais(\"tarifas_llamadas.txt\")\n",
    "    array([[0.05, 0.15, 2.  , 0.2 , 0.23],\n",
    "       [0.15, 0.04, 1.8 , 0.17, 0.2 ],\n",
    "       [2.  , 1.8 , 0.1 , 2.05, 1.94],\n",
    "       [0.2 , 0.17, 2.05, 0.03, 0.19],\n",
    "       [0.23, 0.2 , 1.94, 0.19, 0.06]])\n",
    "    \"\"\"\n",
    "    import numpy as np\n",
    "    \n",
    "    tarifas_por_pais = []\n",
    "    \n",
    "    with open (nombre_archivo, 'r') as f:\n",
    "        for fila in f:\n",
    "            x = fila.split()\n",
    "            tarifas_float = []\n",
    "            #se convierten los valores de las tarifas a tipo numérico\n",
    "            for element in x:\n",
    "                tarifas_float.append(float(element))\n",
    "            tarifas_por_pais.append(tarifas_float)\n",
    "    array_tarifas_por_pais = np.array(tarifas_por_pais)\n",
    "    return array_tarifas_por_pais\n",
    "\n",
    "tarifas_por_pais(\"tarifas_llamadas.txt\")"
   ]
  },
  {
   "cell_type": "markdown",
   "metadata": {},
   "source": [
    "### 3.a. Obtención matriz duración llamadas entre paises con Pandas"
   ]
  },
  {
   "cell_type": "markdown",
   "metadata": {},
   "source": [
    "Se define la función \"duracion_llamadas_por_pais(nombre_archivo, paises)\" para obtener la matriz nxn de tiempo de llamadas total entre países. Para ello se redondea superiormente a minutos todas las duraciones de llamadas que aparecen en el archivo de llamadas indicado en los parámetros y se suman entre sí los que tengan el mismo país emisor y el mismo país receptor, incorporando los resultados correspondientes como términos de la matriz según su país emisor y receptor. \n",
    "\n",
    "El archivo de llamadas se importará y se operará con él haciendo uso del módulo \"pandas\". También se emplearán los módulos \"numpy\" y \"math\"."
   ]
  },
  {
   "cell_type": "code",
   "execution_count": 10,
   "metadata": {},
   "outputs": [
    {
     "data": {
      "text/plain": [
       "array([[1528,  463, 2565, 1308,  725],\n",
       "       [ 496,  177,  725,  465,  188],\n",
       "       [2568,  751, 3933, 2018, 1262],\n",
       "       [1166,  384, 2101,  945,  609],\n",
       "       [ 763,  223, 1189,  528,  373]], dtype=int64)"
      ]
     },
     "execution_count": 10,
     "metadata": {},
     "output_type": "execute_result"
    }
   ],
   "source": [
    "def duracion_llamadas_por_pais(nombre_archivo, paises):\n",
    "    \"\"\"\n",
    "    Función para obtener la matriz nxn, siendo n el número de países implicados, de tiempo total de llamadas entre cada dos \n",
    "    países (emisor y receptor), a partir de los datos presentes en el fichero externo indicado en los parámetros de la función. \n",
    "    El tiempo total de llamadas entre cada dos países se calcula sumando las duraciones, redondeadas superiormente a minutos,\n",
    "    de cada llamada entre clientes de dichos países. \n",
    "        \n",
    "    Parameters\n",
    "    ----------\n",
    "    nombre_archivo : cadena de texto indicando el nombre del archivo del que se extraen los datos.\n",
    "    paises : lista de países\n",
    "    \n",
    "    Returns\n",
    "    -------\n",
    "    array\n",
    "        valores numéricos de los minutos totales de llamadas entre cada dos países.\n",
    "    \n",
    "    Preconditions\n",
    "    ------------\n",
    "    el archivo debe existir en la carpeta que alberga el script con el nombre indicado, debiendo incluirse la extensión.\n",
    "    \n",
    "    Example\n",
    "    -------\n",
    "    >>> duracion_llamadas_por_pais(\"llamadas2020.txt\", [\"A\", \"B\", \"C\", \"D\", \"E\"])\n",
    "    array([[1517,  496, 2253, 1184,  644],\n",
    "       [ 493,  116,  819,  512,  253],\n",
    "       [2484,  810, 4324, 1912, 1261],\n",
    "       [1216,  405, 2173, 1045,  619],\n",
    "       [ 671,  144, 1142,  523,  420]], dtype=int64)\n",
    "    \"\"\"\n",
    "    import pandas as pd\n",
    "    import numpy as np\n",
    "    import math\n",
    "    \n",
    "    #se definen los nombres de las columnas del fichero importado\n",
    "    names=[\"fecha\", \"hora\", \"duracion\", \"emisor\", \"receptor\", \"palabras\"]\n",
    "    #importamos el fichero con pandas\n",
    "    df_llamadas = pd.read_csv(nombre_archivo, delimiter=\" # \", engine=\"python\", names=names)\n",
    "    \n",
    "    duracion = []\n",
    "    \n",
    "    for pais in paises:\n",
    "        #por cada país generamos un filtro de la columna emisor\n",
    "        cond_emisor = df_llamadas['emisor'].str.contains(pais)\n",
    "        linea = []\n",
    "        for pais in paises:\n",
    "            #por cada país generamos un filtro de la columna receptor\n",
    "            cond_receptor = df_llamadas['receptor'].str.contains(pais)\n",
    "            #filtramos el dataframe por cada emisor y receptor\n",
    "            llamadas = df_llamadas[cond_emisor & cond_receptor]\n",
    "            #aislamos la columna duración\n",
    "            duracion_llamadas = llamadas[\"duracion\"]\n",
    "            #dividimos la columna duración en minutos y segundos y cambiamos el tipo de los minutos a numérico para poder \n",
    "            #sumarlos\n",
    "            duracion_llamadas_split = duracion_llamadas.apply(lambda x: pd.Series(x.split(\":\")))\n",
    "            duracion_llamadas_split.columns = [\"minutos\",\"segundos\"]\n",
    "            duracion_llamadas_minutos = pd.to_numeric(duracion_llamadas_split[\"minutos\"])\n",
    "            #se obtienen los registros en los que la duración de la llamada no son minutos exactos y se cuentan para saber \n",
    "            #cuantos minutos adicionales hay que sumar a la suma la columna minutos (un minuto extra por duración de llamada no\n",
    "            #exacta)\n",
    "            redondear_segundos_a_minutos = duracion_llamadas_split[\"segundos\"]!= \"00\"\n",
    "            sumar_minutos_adicionales = duracion_llamadas_split[redondear_segundos_a_minutos]\n",
    "            minutos_adicionales = sumar_minutos_adicionales[\"segundos\"].count()\n",
    "            #se suma la columna minutos y al resultado se suman los minutos adicionales obtenidos en el paso anterior\n",
    "            suma_minutos = duracion_llamadas_minutos.sum()\n",
    "            total_minutos = minutos_adicionales + suma_minutos\n",
    "            #el resultado se añade a la lista que será la línea del array correspondiente a cada país emisor\n",
    "            linea.append(total_minutos)\n",
    "        #por cada país emisor se añade la línea correspondiente con las llamadas a todos los países receptores\n",
    "        duracion.append(linea)\n",
    "        \n",
    "    #se genera el array añadiendo las listas correspondientes a las líneas de cada país\n",
    "    array_duracion = np.array([duracion[0]])\n",
    "    for i in range(1,len(paises)):\n",
    "        linea_array = np.array([duracion[i]])\n",
    "        array_duracion = np.append(array_duracion, linea_array, axis = 0)\n",
    "    return array_duracion\n",
    "\n",
    "duracion_llamadas_por_pais(\"llamadas2020.txt\", [\"A\", \"B\", \"C\", \"D\", \"E\"])"
   ]
  },
  {
   "cell_type": "markdown",
   "metadata": {},
   "source": [
    "### 3.b. Obtención matriz duración llamadas entre paises con MRJob"
   ]
  },
  {
   "cell_type": "markdown",
   "metadata": {},
   "source": [
    "Se define la clase MRSumaLlamadasPaises(MRJob) con las funciones \"mapper(self, __ , line)\" y \"reducer (self, key, values)\" para obtener mediante map-reduce la suma de los tiempos de llamada (redondeados superiormente a minutos) entre cada dos países de la lista \"paises = [\"A\", \"B\", \"C\", \"D\", \"E\"]\" a partir de los datos disponibles en el fichero \"llamadas2020.txt\". \n",
    "\n",
    "Para la ejecución del map-reduce será necesario tener instalado mrjob (para instalar, descomentar y ejecutar la celda siguiente) e importar MRJob. Los valores obtenidos se introducirán en una matriz haciendo uso del módulo \"numpy\"."
   ]
  },
  {
   "cell_type": "code",
   "execution_count": 11,
   "metadata": {},
   "outputs": [],
   "source": [
    "#pip install mrjob"
   ]
  },
  {
   "cell_type": "code",
   "execution_count": 13,
   "metadata": {},
   "outputs": [
    {
     "name": "stdout",
     "output_type": "stream",
     "text": [
      "Overwriting sumallamadas.py\n"
     ]
    }
   ],
   "source": [
    "%%file sumallamadas.py\n",
    "\n",
    "from mrjob.job import MRJob\n",
    "\n",
    "class MRSumaLlamadasPaises(MRJob):\n",
    "    def mapper(self, __, line):\n",
    "        paises = [\"A\", \"B\", \"C\", \"D\", \"E\"]\n",
    "        #se crean listas con las combinaciones de países emisores y receptores de la lista \"paises\" disponibles en el fichero\n",
    "        emisor_receptor = [c for c in line.split(\" # \") if c[0].isupper() and c[0] in paises]\n",
    "        #se obtienen los minutos y segundos de la duración de la llamada, sumando 1 a los minutos si los segundos no son 0\n",
    "        duracion_llamada = line.split(\" # \")[2]\n",
    "        duracion_llamada_split = duracion_llamada.split(\":\")\n",
    "        if int(duracion_llamada_split[1]) != 0:\n",
    "            duracion_llamada_minutos = int(duracion_llamada_split[0])+1\n",
    "        else:\n",
    "            duracion_llamada_minutos = int(duracion_llamada_split[0])\n",
    "        #se devuelve como clave la concatenación de país emisor-país receptor y como valor la duración de la llamada en minutos\n",
    "        #redondeada superiormente\n",
    "        yield (emisor_receptor[0][0]+\"-\"+emisor_receptor[1][0]), duracion_llamada_minutos\n",
    "        \n",
    "    def reducer (self, key, values):\n",
    "        #se devuelve cada clave creada en el mapper con la suma de todos los valores de dicha clave\n",
    "        yield key, sum(values)\n",
    "        \n",
    "if __name__ == '__main__':\n",
    "    MRSumaLlamadasPaises.run()"
   ]
  },
  {
   "cell_type": "code",
   "execution_count": 14,
   "metadata": {},
   "outputs": [
    {
     "name": "stderr",
     "output_type": "stream",
     "text": [
      "No configs specified for inline runner\n"
     ]
    },
    {
     "data": {
      "text/plain": [
       "array([[1528,  463, 2565, 1308,  725],\n",
       "       [ 496,  177,  725,  465,  188],\n",
       "       [2568,  751, 3933, 2018, 1262],\n",
       "       [1166,  384, 2101,  945,  609],\n",
       "       [ 763,  223, 1189,  528,  373]])"
      ]
     },
     "execution_count": 14,
     "metadata": {},
     "output_type": "execute_result"
    }
   ],
   "source": [
    "import sumallamadas\n",
    "import numpy as np\n",
    "\n",
    "mr_job = sumallamadas.MRSumaLlamadasPaises(args=[\"llamadas2020.txt\"])\n",
    "duracion = []\n",
    "paises = []\n",
    "#se ejecuta el .py con el código map-reduce generado en el apartado anterior\n",
    "with mr_job.make_runner() as runner:\n",
    "    runner.run()\n",
    "    for key, value in mr_job.parse_output(runner.cat_output()):\n",
    "        #se obtiene la lista de países a partir de las claves resultado del map-reduce para luego dimensionar la matriz\n",
    "        if key[0] not in paises:\n",
    "            paises.append(key[0])\n",
    "        #se añade cada valor producido por mr a la lista \"duracion\"\n",
    "        duracion.append(value)\n",
    "#se transforma la lista \"duracion\" en un array\n",
    "array_duracion = np.array([duracion])\n",
    "#se reorganiza la matriz en tantas filas y columnas como países haya\n",
    "array_duracion = array_duracion.reshape(len(paises), len(paises))\n",
    "array_duracion"
   ]
  },
  {
   "cell_type": "markdown",
   "metadata": {},
   "source": [
    "### 4. Obtención matriz ingresos llamadas entre paises"
   ]
  },
  {
   "cell_type": "markdown",
   "metadata": {},
   "source": [
    "Se define la función \"ingresos_llamadas_por_país(archivo_tarifas, array_duracion)\" para obtener la matriz resultado de multiplicar la matriz de tarifas por la matriz de duración de llamadas obtenida en el paso anterior. Esta matriz representará los ingresos generados por las llamadas emitidas y recibidas por cada país. "
   ]
  },
  {
   "cell_type": "code",
   "execution_count": 15,
   "metadata": {},
   "outputs": [
    {
     "data": {
      "text/plain": [
       "array([[ 5695.49,  1679.79,  8796.67,  4481.59,  2796.04],\n",
       "       [ 5222.26,  1538.21,  8088.12,  4113.45,  2566.  ],\n",
       "       [ 8076.12,  2539.52, 13442.01,  6616.37,  3886.67],\n",
       "       [ 5834.27,  1716.13,  8987.84,  4606.22,  2853.2 ],\n",
       "       [ 5699.88,  1685.17,  8835.5 ,  4519.99,  2790.72]])"
      ]
     },
     "execution_count": 15,
     "metadata": {},
     "output_type": "execute_result"
    }
   ],
   "source": [
    "def ingresos_llamadas_por_país(archivo_tarifas, array_duracion):\n",
    "    \"\"\"\n",
    "    Función que multiplica la matriz de tarifas, obtenida mediante la función \"tarifas_por_pais(archivo_tarifas)\" por la matriz\n",
    "    de duraciones de llamadas para así calcular los ingresos a la compañía generados por las llamadas entre los países en los\n",
    "    que opera. \n",
    "        \n",
    "    Parameters\n",
    "    ----------\n",
    "    archivo_tarifas : cadena de texto indicando el nombre del archivo del que se extrae la matriz de las tarifas.\n",
    "    array_duracion : matriz con los minutos totales de llamadas entre cada dos países\n",
    "    \n",
    "    Returns\n",
    "    -------\n",
    "    array\n",
    "        valores numéricos de los ingresos para la compañía generados por las llamadas entre cada dos países.\n",
    "    \n",
    "    Preconditions\n",
    "    ------------\n",
    "    el archivo debe existir en la carpeta que alberga el script con el nombre indicado, debiendo incluirse la extensión\n",
    "    las matrices de tarifas y duración de llamadas deben tener la misma dimensión\n",
    "    \n",
    "    Example\n",
    "    -------\n",
    "    >>> ingresos_llamadas_por_país(\"tarifas_llamadas.txt\", [[1517,  496, 2253, 1184,  644],[ 493,  116,  819,  512,  253],\n",
    "    [2484,  810, 4324, 1912, 1261],[1216,  405, 2173, 1045,  619],[ 671,  144, 1142,  523,  420]])\n",
    "    array([[ 5515.33,  1776.32,  9580.76,  4289.29,  2812.55],\n",
    "       [ 5059.39,  1634.69,  8751.72,  3921.93,  2565.75],\n",
    "       [ 7964.34,  2391.41, 13082.73,  6637.67,  3953.25],\n",
    "       [ 5643.38,  1818.93,  9736.2 ,  4374.16,  2855.23],\n",
    "       [ 5537.77,  1794.27,  9551.94,  4313.93,  2787.87]])\n",
    "    \"\"\"\n",
    "    tarifas = tarifas_por_pais(archivo_tarifas)\n",
    "    ingresos = tarifas@array_duracion\n",
    "    return ingresos\n",
    "\n",
    "array_ingresos = ingresos_llamadas_por_país(\"tarifas_llamadas.txt\", array_duracion)\n",
    "array_ingresos"
   ]
  },
  {
   "cell_type": "markdown",
   "metadata": {},
   "source": [
    "### 5. Totales llamadas por país"
   ]
  },
  {
   "cell_type": "markdown",
   "metadata": {},
   "source": [
    "Se define la función \"total_llamadas_pais(array, emisor)\" para obtener la suma de las filas (llamadas emitidas) o columnas (llamadas recibidas) de la matriz de ingresos o de duración de llamadas (según se indique en los parámetros)."
   ]
  },
  {
   "cell_type": "code",
   "execution_count": 16,
   "metadata": {},
   "outputs": [
    {
     "data": {
      "text/plain": [
       "array([23449.58, 21528.04, 34560.69, 23997.66, 23531.26])"
      ]
     },
     "execution_count": 16,
     "metadata": {},
     "output_type": "execute_result"
    }
   ],
   "source": [
    "def total_llamadas_pais(array, emisor):\n",
    "    \"\"\"\n",
    "    Función que suma las filas o las columnas, según se indique en el parámetro \"emisor\", de la matriz indicada también en\n",
    "    parámetros. \n",
    "        \n",
    "    Parameters\n",
    "    ----------\n",
    "    array : matriz con la que se desea operar.\n",
    "    emisor : 0 si desean sumarse las columnas de la matriz (llamadas recibidas) o 1 si desean sumarse las filas (llamadas \n",
    "    emitidas)\n",
    "    \n",
    "    Returns\n",
    "    -------\n",
    "    array\n",
    "        valores numéricos de las sumas de filas o columnas de la matriz indicada en parámetros.\n",
    "    \n",
    "    Preconditions\n",
    "    ------------\n",
    "    El emisor debe ser 0 o 1\n",
    "    \n",
    "    Example\n",
    "    -------\n",
    "    >>> total_llamadas_pais(array_ingresos, 1)\n",
    "    array([23974.25, 21933.48, 34029.4 , 24427.9 , 23985.78])\n",
    "    \"\"\"\n",
    "    total_llamadas = array.sum(axis = emisor)  \n",
    "    return total_llamadas\n",
    "\n",
    "total_llamadas_pais(array_ingresos, 1)"
   ]
  },
  {
   "cell_type": "markdown",
   "metadata": {},
   "source": [
    "### 6. Gráficos"
   ]
  },
  {
   "cell_type": "markdown",
   "metadata": {},
   "source": [
    "#### Renta per Cápita vs Gasto de llamadas por país"
   ]
  },
  {
   "cell_type": "markdown",
   "metadata": {},
   "source": [
    "Se genera un gráfico de barras horizontales con una escala diferente en cada eje para representar superpuestas la relación entre las rentas per cápita de los países y la relación entre los gastos en llamadas de cada país."
   ]
  },
  {
   "cell_type": "code",
   "execution_count": 18,
   "metadata": {},
   "outputs": [
    {
     "data": {
      "image/png": "[encoded data removed]",
      "text/plain": [
       "<Figure size 640x480 with 2 Axes>"
      ]
     },
     "metadata": {},
     "output_type": "display_data"
    }
   ],
   "source": [
    "import matplotlib.pyplot as plt\n",
    "import numpy as np\n",
    "\n",
    "RPC = rentas_per_capita(\"renta_per_capita.txt\")\n",
    "total_ingresos_recibidas_pais = total_llamadas_pais(array_ingresos, 0)\n",
    "total_ingresos_emitidas_pais = total_llamadas_pais(array_ingresos, 1)\n",
    "total_ingresos_llamadas_pais = total_ingresos_recibidas_pais + total_ingresos_emitidas_pais\n",
    "\n",
    "plt.rcdefaults()\n",
    "fig, ax1 = plt.subplots()\n",
    "\n",
    "paises = RPC[0] \n",
    "marcas_y = np.arange(len(paises)) \n",
    "ancho_barras = 0.35  \n",
    "\n",
    "barras1 = ax1.barh(marcas_y, RPC[1], ancho_barras, label='RPC')\n",
    "ax1.set_yticks(marcas_y)\n",
    "ax1.set_yticklabels(paises)\n",
    "ax1.invert_yaxis()  # labels read top-to-bottom\n",
    "ax1.set_xlabel('Renta per Capita por país')\n",
    "ax1.set_title('Renta per Capita vs Gasto en llamadas por país')\n",
    "\n",
    "ax2 = ax1.twiny()\n",
    "ax2.set_xlabel('Gasto en llamadas por país')\n",
    "\n",
    "barras2 = ax2.barh(marcas_y, total_ingresos_llamadas_pais, ancho_barras, label='Ingresos',align = \"edge\", color = \"pink\")\n",
    "\n",
    "ax1.legend((barras1, barras2), ('Gasto en llamadas', 'Renta per Capita'), loc='best', shadow=True)\n",
    "\n",
    "plt.show()"
   ]
  },
  {
   "cell_type": "markdown",
   "metadata": {},
   "source": [
    "#### Ingresos a la compañía por países y desglose en ingresos por llamadas recibidas y enviadas"
   ]
  },
  {
   "cell_type": "markdown",
   "metadata": {},
   "source": [
    "Se genera un gráfico de tarta para representar la proporción de ingresos generados para la compañía por las llamadas recibidas, emitidas y totales de cada país."
   ]
  },
  {
   "cell_type": "code",
   "execution_count": 19,
   "metadata": {},
   "outputs": [
    {
     "data": {
      "image/png": "[encoded data removed]",
      "text/plain": [
       "<Figure size 640x480 with 1 Axes>"
      ]
     },
     "metadata": {},
     "output_type": "display_data"
    }
   ],
   "source": [
    "import matplotlib.pyplot as plt\n",
    "import numpy as np\n",
    "\n",
    "fig, ax = plt.subplots()\n",
    "\n",
    "paises = RPC[0]\n",
    "total_ingresos_recibidas_pais = list(total_llamadas_pais(array_ingresos, 0))\n",
    "total_ingresos_emitidas_pais = list(total_llamadas_pais(array_ingresos, 1))\n",
    "\n",
    "size = 0.3\n",
    "\n",
    "a=[[tirp, tiep] for tirp in total_ingresos_recibidas_pais for tiep in total_ingresos_emitidas_pais if \n",
    "   total_ingresos_recibidas_pais.index(tirp) == total_ingresos_emitidas_pais.index(tiep)]\n",
    "    \n",
    "\n",
    "vals = np.array(a)\n",
    "\n",
    "cmap = plt.get_cmap(\"tab20c\")\n",
    "outer_colors = cmap(np.arange(5)*4)\n",
    "inner_colors = cmap(np.array([1, 2, 5, 6, 9, 10, 13, 14, 17, 18]))\n",
    "\n",
    "ax.pie(vals.sum(axis=1), radius=1, colors=outer_colors,\n",
    "       wedgeprops=dict(width=size, edgecolor='w'))\n",
    "\n",
    "ax.pie(vals.flatten(), radius=1-size, colors=inner_colors,\n",
    "       wedgeprops=dict(width=size, edgecolor='w'))\n",
    "\n",
    "ax.set(aspect=\"equal\", title='Ingresos por llamadas por país')\n",
    "\n",
    "plt.show()"
   ]
  },
  {
   "cell_type": "markdown",
   "metadata": {},
   "source": [
    "#### Duración llamadas emitidas, recibidas y totales"
   ]
  },
  {
   "cell_type": "markdown",
   "metadata": {},
   "source": [
    "Se genera un gráfico de dispersión en el que cada círculo representa un país, está centrado en las coordenadas de llamadas recibidas (eje x) y emitidas (eje y) y su tamaño representa el total de tiempo de llamadas emitidas y recibidas para cada país."
   ]
  },
  {
   "cell_type": "code",
   "execution_count": 20,
   "metadata": {},
   "outputs": [
    {
     "data": {
      "image/png": "[encoded data removed]",
      "text/plain": [
       "<Figure size 640x480 with 1 Axes>"
      ]
     },
     "metadata": {},
     "output_type": "display_data"
    }
   ],
   "source": [
    "import matplotlib.pyplot as plt\n",
    "import numpy as np\n",
    "\n",
    "total_duracion_recibidas_pais = total_llamadas_pais(array_duracion, 0)\n",
    "total_duracion_emitidas_pais = total_llamadas_pais(array_duracion, 1)\n",
    "\n",
    "total_duracion_llamadas_pais = total_duracion_recibidas_pais + total_duracion_emitidas_pais\n",
    "\n",
    "fig, ax = plt.subplots()\n",
    "\n",
    "x = total_duracion_recibidas_pais\n",
    "y = total_duracion_emitidas_pais\n",
    "s = total_duracion_llamadas_pais\n",
    "\n",
    "cmap = plt.get_cmap(\"Set1\")\n",
    "colors = cmap(np.arange(5))\n",
    "\n",
    "\n",
    "scatter = ax.scatter(x, y, c=colors, s=s, alpha = 0.5)"
   ]
  },
  {
   "cell_type": "code",
   "execution_count": null,
   "metadata": {},
   "outputs": [],
   "source": []
  },
  {
   "cell_type": "code",
   "execution_count": null,
   "metadata": {},
   "outputs": [],
   "source": []
  }
 ],
 "metadata": {
  "kernelspec": {
   "display_name": "Python 3",
   "language": "python",
   "name": "python3"
  },
  "language_info": {
   "codemirror_mode": {
    "name": "ipython",
    "version": 3
   },
   "file_extension": ".py",
   "mimetype": "text/x-python",
   "name": "python",
   "nbconvert_exporter": "python",
   "pygments_lexer": "ipython3",
   "version": "3.7.3"
  }
 },
 "nbformat": 4,
 "nbformat_minor": 2
}
