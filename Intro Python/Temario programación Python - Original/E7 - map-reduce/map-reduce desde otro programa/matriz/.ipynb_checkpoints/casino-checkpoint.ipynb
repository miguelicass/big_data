{
 "cells": [
  {
   "cell_type": "markdown",
   "metadata": {},
   "source": [
    "# En el casino. Ejemplo de map-reduce"
   ]
  },
  {
   "cell_type": "markdown",
   "metadata": {},
   "source": [
    "## Generación de apuestas\n",
    "\n",
    "Generamos apuestas muy simples: dos jugadores lanzan cada uno su dado. Están cargados. Y apuestan una cantidad de dinero.\n",
    "No nos importa lo que ocurre, pero estas apuestas se recogen en un archivo para su posterior procesamiento estadístico.\n",
    "\n",
    "    # Visualizarla, con ayuda de matplotlib.pyplot:\n",
    "    # ...\n",
    "\n",
    "    # Cargar la librería de imágenes de dígitos:\n",
    "\n",
    "    from sklearn import datasets\n",
    "    digits = datasets.load_digits()\n",
    "    # ...\n",
    "\n",
    "    # Cargar y el clasificador svm:\n",
    "    # ...\n",
    "\n",
    "    # y ajustarlo para precedir con todos los ejemplares como de entrenamiento:\n",
    "    # ...\n",
    "\n",
    "    # Efectuar la predicción:\n",
    "    # ...\n",
    "    \n",
    "Eso es lo que te pido."
   ]
  },
  {
   "cell_type": "code",
   "execution_count": 1,
   "metadata": {},
   "outputs": [
    {
     "name": "stdout",
     "output_type": "stream",
     "text": [
      "[[ 0.  0.  5. 13.  9.  1.  0.  0.]\n",
      " [ 0.  0.  0. 15. 10.  0.  0.  0.]\n",
      " [ 0.  0.  0.  2.  0.  0.  0.  0.]\n",
      " [ 0.  0.  0.  0.  9.  8.  0.  0.]\n",
      " [ 0.  0.  0.  0.  0.  9.  0.  0.]\n",
      " [ 0.  0.  0.  7.  1.  0.  0.  0.]\n",
      " [ 0.  0.  0.  5. 10.  0.  0.  0.]\n",
      " [ 0.  1.  6. 13. 10. 11. 12.  0.]]\n"
     ]
    },
    {
     "data": {
      "text/plain": [
       "<Figure size 300x300 with 1 Axes>"
      ]
     },
     "metadata": {},
     "output_type": "display_data"
    }
   ],
   "source": [
    "# Cargar la imagen del archivo (y comprobar la carga):\n",
    "\n",
    "import numpy as np\n",
    "\n",
    "archivo_imagen = open(\"matriz.txt\", \"r\")\n",
    "mi_imagen = np.array([[float(e) for e in linea.split()] for linea in archivo_imagen])\n",
    "archivo_imagen.close()\n",
    "\n",
    "\"\"\"\n",
    "La misma imagen, creada con un archivo:\n",
    "\n",
    "mi_imagen = \\\n",
    "    np.array([[  0.,   0.,   5.,  13.,   9.,   1.,   0.,   0.],\n",
    "              [  0.,   0.,   0.,  15.,  10.,   0.,   0.,   0.],\n",
    "              [  0.,   0.,   0.,   2.,   0.,   0.,   0.,   0.],\n",
    "              [  0.,   0.,   0.,   0.,   9.,   8.,   0.,   0.],\n",
    "              [  0.,   0.,   0.,   0.,   0.,   9.,   0.,   0.],\n",
    "              [  0.,   0.,   0.,   7.,   1.,   0.,   0.,   0.],\n",
    "              [  0.,   0.,   0.,   5.,  10.,   0.,   0.,   0.],\n",
    "              [  0.,   1.,   6.,  13.,  10.,  11.,  12.,   0.]])\n",
    "\"\"\"\n",
    "\n",
    "print(mi_imagen)\n",
    "\n",
    "# Visualizar la imagen, con ayuda de matplotlib.pyplot:\n",
    "\n",
    "import matplotlib.pyplot as plt\n",
    "plt.figure(1, figsize=(3, 3))\n",
    "plt.imshow(mi_imagen, cmap=plt.cm.gray_r, interpolation='nearest')\n",
    "plt.show()"
   ]
  },
  {
   "cell_type": "code",
   "execution_count": 2,
   "metadata": {},
   "outputs": [
    {
     "data": {
      "text/plain": [
       "SVC(C=100.0, cache_size=200, class_weight=None, coef0=0.0,\n",
       "  decision_function_shape='ovr', degree=3, gamma=0.001, kernel='rbf',\n",
       "  max_iter=-1, probability=False, random_state=None, shrinking=True,\n",
       "  tol=0.001, verbose=False)"
      ]
     },
     "execution_count": 2,
     "metadata": {},
     "output_type": "execute_result"
    }
   ],
   "source": [
    "# Cargar la librería de imágenes de dígitos:\n",
    "\n",
    "from sklearn import datasets\n",
    "digits = datasets.load_digits()\n",
    "\n",
    "# Por si se desea comprobar la lectura:\n",
    "# print(digits.data)\n",
    "# print(digits.target)\n",
    "\n",
    "# Cargar y el clasificador svm:\n",
    "\n",
    "from sklearn import svm\n",
    "clf = svm.SVC(gamma=0.001, C=100.)\n",
    "\n",
    "# y ajustarlo para precedir con todos los ejemplares como de entrenamiento:\n",
    "clf.fit(digits.data, digits.target)"
   ]
  },
  {
   "cell_type": "code",
   "execution_count": 3,
   "metadata": {},
   "outputs": [
    {
     "data": {
      "text/plain": [
       "array([2])"
      ]
     },
     "execution_count": 3,
     "metadata": {},
     "output_type": "execute_result"
    }
   ],
   "source": [
    "# Realizar la predicción:\n",
    "\n",
    "mi_imagen_plana = mi_imagen.reshape(1, 64)\n",
    "clf.predict(mi_imagen_plana)"
   ]
  }
 ],
 "metadata": {
  "kernelspec": {
   "display_name": "Python 3",
   "language": "python",
   "name": "python3"
  },
  "language_info": {
   "codemirror_mode": {
    "name": "ipython",
    "version": 3
   },
   "file_extension": ".py",
   "mimetype": "text/x-python",
   "name": "python",
   "nbconvert_exporter": "python",
   "pygments_lexer": "ipython3",
   "version": "3.7.3"
  }
 },
 "nbformat": 4,
 "nbformat_minor": 1
}
