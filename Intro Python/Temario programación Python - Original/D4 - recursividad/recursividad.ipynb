{
 "cells": [
  {
   "cell_type": "markdown",
   "metadata": {},
   "source": [
    "# Recursividad"
   ]
  },
  {
   "cell_type": "markdown",
   "metadata": {},
   "source": [
    "Funciones que, al operar, disparan llamadas a sí mismas para obtener resultados auxiliares. También, estructuras de datos que, en su definición, usan la propia estructura que se está definiendo."
   ]
  },
  {
   "cell_type": "code",
   "execution_count": 1,
   "metadata": {},
   "outputs": [
    {
     "name": "stdout",
     "output_type": "stream",
     "text": [
      "120\n"
     ]
    }
   ],
   "source": [
    "def f(n):\n",
    "    \"\"\"Factorial\"\"\"\n",
    "    if n==0:\n",
    "        return 1\n",
    "    else:\n",
    "        return n * f(n-1)\n",
    "\n",
    "print(f(5))"
   ]
  },
  {
   "cell_type": "code",
   "execution_count": 2,
   "metadata": {},
   "outputs": [
    {
     "name": "stdout",
     "output_type": "stream",
     "text": [
      "210 210\n"
     ]
    }
   ],
   "source": [
    "def sum_list_A(numbers):\n",
    "    if len(numbers) == 0:\n",
    "        return 0\n",
    "    else:\n",
    "        return numbers[0] + sum_list_A(numbers[1:])\n",
    "\n",
    "def sum_list_B(numbers):\n",
    "    length = len(numbers)\n",
    "    if length == 0:\n",
    "        return 0\n",
    "    elif length == 1:\n",
    "        return numbers[0]\n",
    "    else:\n",
    "        mid = length // 2\n",
    "        return sum_list_B(numbers[:mid]) + sum_list_B(numbers[mid:])\n",
    "\n",
    "my_numbers = range(21)\n",
    "print(sum_list_A(my_numbers), sum_list_B(my_numbers))"
   ]
  },
  {
   "cell_type": "markdown",
   "metadata": {},
   "source": [
    "### Teoría mínima:\n",
    "<ol>\n",
    "    <li> Elementos de una función recursiva:\n",
    "        <ul>\n",
    "            <li>Casos básicos o casos base: los datos que **no** generan nuevas llamadas recursivas</li>\n",
    "            <li>Casos recurrentes: los datos que **sí** generan nuevas llamadas recursivas</li>\n",
    "        </ul>\n",
    "        (a) Identifica estos casos en las funciones anteriores.\n",
    "        Quizá sea necesario poner alguna precondición en la función del factorial.\n",
    "        <br>\n",
    "        (b) Muestra las llamadas que generan las siguientes invocaciones: f(5), sum_list_A(range(10)), sum_list_B(range(10)). \n",
    "        (La figura que expresa estas invocaciones subsidiarias es el llamado *árbol de llamadas*.)\n",
    "    </li>\n",
    "    <li> Al definir una función recursiva, importa asegurarse de lo siguiente:\n",
    "        <ul>\n",
    "            <li>Los casos base están definidos.</li>\n",
    "            <li>Los casos recurrentes conducen a los casos base, a través de las llamadas recursivas.</li>\n",
    "        </ul>\n",
    "        (a) Comprueba cuidadosamente estas dos condiciones, en las funciones anteriores.\n",
    "        Explica la necesidad de incluir la precondición en la función del factorial.\n",
    "    </li>\n",
    "</ol>"
   ]
  },
  {
   "cell_type": "code",
   "execution_count": 3,
   "metadata": {},
   "outputs": [
    {
     "name": "stdout",
     "output_type": "stream",
     "text": [
      "1024\n"
     ]
    }
   ],
   "source": [
    "def pow2(n):\n",
    "    if n == 0:\n",
    "        return 1\n",
    "    else:\n",
    "        return pow2(n-1) + pow2(n-1)\n",
    "\n",
    "print(pow2(10))"
   ]
  },
  {
   "cell_type": "markdown",
   "metadata": {},
   "source": [
    "### Ejercicio:\n",
    "\n",
    "En la función anterior, $\\lambda n \\rightarrow 2^n$, identifica los casos base y los recurrentes; añade una precondición si lo consideras necesario; traza el árbol de llamadas del cálculo mostrado, $2^{10}$; calcula el número de llamadas necesario para el parámetro $n$; calcula la altura de dicho árbol para el cálculo mostrado, $2^{10}$, y para un parámetro $n$ genérico."
   ]
  },
  {
   "cell_type": "code",
   "execution_count": 4,
   "metadata": {},
   "outputs": [
    {
     "name": "stdout",
     "output_type": "stream",
     "text": [
      "5AD\n",
      "10110101101\n"
     ]
    }
   ],
   "source": [
    "# From integer to string in any base <= 16\n",
    "\n",
    "def to_str(n, base):\n",
    "    figures = \"0123456789ABCDEF\"\n",
    "    if n < base:\n",
    "        return figures[n]\n",
    "    else:\n",
    "        return to_str(n // base, base) + figures[n % base]\n",
    "\n",
    "print(to_str(1453, 16))\n",
    "print(to_str(1453, 2))"
   ]
  },
  {
   "cell_type": "markdown",
   "metadata": {},
   "source": [
    "### Ejercicio:\n",
    "\n",
    "Define una función que invierte una cadena de caracteres. Úsala para ver si una palabra es un *palíndromo*, es decir, puede leerse por igual al derecho y al revés."
   ]
  },
  {
   "cell_type": "markdown",
   "metadata": {},
   "source": [
    "### Pila y árbol\n",
    "\n",
    "El *árbol recursivo* representa las dependencias entre las llamadas disparadas, unas como consecuencia de otras. La *pila recursiva* representa las llamadas suspendidas en cada momento. Para cada una de las funciones anteriores, cada llamada inicial genera un árbol recursivo y, en cada momento de los cálculos, una pila recursiva.\n",
    "\n",
    "### Ejercicio\n",
    "\n",
    "En un ejercicio anterior se calculó el árbol de llamadas recursivas generado por las siguientes invocaciones: f(5), sum_list_A(range(10)), sum_list_B(range(10)). Calcula ahora la secuencia de pilas producidas por cada una de estas invocaciones. (En el ejemplo siguiente adaptamos la función factorial para que, mientras funciona, muestre la pila recursiva que pone en juego.)"
   ]
  },
  {
   "cell_type": "code",
   "execution_count": 5,
   "metadata": {},
   "outputs": [
    {
     "name": "stdout",
     "output_type": "stream",
     "text": [
      "[5]\n",
      "[5, 4]\n",
      "[5, 4, 3]\n",
      "[5, 4, 3, 2]\n",
      "[5, 4, 3, 2, 1]\n",
      "[5, 4, 3, 2, 1, 0]\n",
      "[5, 4, 3, 2, 1]\n",
      "[5, 4, 3, 2]\n",
      "[5, 4, 3]\n",
      "[5, 4]\n",
      "[5]\n",
      "120\n"
     ]
    }
   ],
   "source": [
    "f_stack = []\n",
    "\n",
    "def f_with_stack(n):\n",
    "    \"\"\"Factorial with stack\"\"\"\n",
    "    f_stack.append(n)\n",
    "    print(f_stack)\n",
    "    if n==0:\n",
    "        return 1\n",
    "    else:\n",
    "        aux_result = f_with_stack(n-1)\n",
    "        f_stack.pop()\n",
    "        print(f_stack)\n",
    "        return n * aux_result\n",
    "\n",
    "print(f_with_stack(5))"
   ]
  },
  {
   "cell_type": "markdown",
   "metadata": {},
   "source": [
    "### Tipos de recursividad\n",
    "\n",
    "*Simple* o *lineal*: una única llamada recursiva; *doble*: dos llamadas recursivas; *múltiple* o *multilineal*...\n",
    "\n",
    "Cuando tenemos varias llamadas recursivas iguales, es posible transformar la función recursiva en otra más eficiente:\n",
    "\n",
    "<br>\n",
    "\n",
    "<center>\n",
    "    pow2(n-1) + pow2(n-1) $\\leadsto$ 2 * pow2(n-1)\n",
    "</center>\n",
    "\n",
    "*Recursividad final*: en el caso de la recursividad simple, cuando lo último que hace la función es la llamada recursiva:"
   ]
  },
  {
   "cell_type": "code",
   "execution_count": 6,
   "metadata": {},
   "outputs": [
    {
     "name": "stdout",
     "output_type": "stream",
     "text": [
      "120\n"
     ]
    }
   ],
   "source": [
    "def factorial_acum(acum, n):\n",
    "    \"\"\"Factorial con acumulador\"\"\"\n",
    "    if n==0:\n",
    "        return acum\n",
    "    else:\n",
    "        return factorial_acum(acum*n, n-1)\n",
    "\n",
    "print(factorial_acum(1, 5))"
   ]
  },
  {
   "cell_type": "markdown",
   "metadata": {},
   "source": [
    "Las funciones con recursividad final se pueden transformar fácilmente en funciones iterativas:"
   ]
  },
  {
   "cell_type": "code",
   "execution_count": 7,
   "metadata": {},
   "outputs": [
    {
     "name": "stdout",
     "output_type": "stream",
     "text": [
      "120\n"
     ]
    }
   ],
   "source": [
    "def factorial_acum_iterativa(acum, n):\n",
    "    while not (n==0):\n",
    "        acum, n = acum * n, n-1\n",
    "    return acum\n",
    "\n",
    "print(factorial_acum_iterativa(1, 5))"
   ]
  },
  {
   "cell_type": "markdown",
   "metadata": {},
   "source": [
    "### Eliminación de la recursividad final\n",
    "\n",
    "La transformación de recursividad final en un bucle se puede hacer siempre:\n",
    "\n",
    "    def f(xxx):               |         |    def f(xxx):\n",
    "        if base(xxx):         |         |        while not base(xxx):\n",
    "            return triv(xxx)  |    ==>  |            xxx = t(xxx)\n",
    "        else                  |         |        return triv(xxx)\n",
    "            return f(t(xxx))  |         |\n",
    "\n",
    "### Ejercicio\n",
    "\n",
    "A lo mejor puedes transformar tú algunas de las siguientes funciones, siguiendo el esquema anterior En cada caso, explica la mejora lograda en términos de complejidad."
   ]
  },
  {
   "cell_type": "code",
   "execution_count": 8,
   "metadata": {},
   "outputs": [
    {
     "name": "stdout",
     "output_type": "stream",
     "text": [
      "1024\n"
     ]
    }
   ],
   "source": [
    "def pow2_acum(acum, n):\n",
    "    if n == 0:\n",
    "        return acum\n",
    "    else:\n",
    "        return pow2_acum(acum*2, n-1)\n",
    "\n",
    "print(pow2_acum(1, 10))"
   ]
  },
  {
   "cell_type": "code",
   "execution_count": 9,
   "metadata": {},
   "outputs": [
    {
     "name": "stdout",
     "output_type": "stream",
     "text": [
      "3  +  5  =  8\n"
     ]
    }
   ],
   "source": [
    "def addition_naive(a, b):\n",
    "    if a == 0:\n",
    "        return b\n",
    "    else:\n",
    "        return addition_naive(a-1, b+1)\n",
    "\n",
    "print(3, \" + \", 5, \" = \", addition_naive(3, 5))"
   ]
  },
  {
   "cell_type": "code",
   "execution_count": 10,
   "metadata": {},
   "outputs": [
    {
     "name": "stdout",
     "output_type": "stream",
     "text": [
      "3  *  5  =  15\n"
     ]
    }
   ],
   "source": [
    "def product_acum(acum, a, b):\n",
    "    if a == 0:\n",
    "        return acum\n",
    "    else:\n",
    "        return product_acum(acum + b, a-1, b)\n",
    "\n",
    "print(3, \" * \", 5, \" = \", product_acum(0, 3, 5))"
   ]
  },
  {
   "cell_type": "code",
   "execution_count": 11,
   "metadata": {},
   "outputs": [
    {
     "name": "stdout",
     "output_type": "stream",
     "text": [
      "[(0, False), (1, True), (2, False), (3, True), (4, False), (5, True), (6, False), (7, True), (8, False), (9, True), (10, False), (11, True), (12, False), (13, True), (14, False)]\n"
     ]
    }
   ],
   "source": [
    "def binary_search(n, nnn, left, right):\n",
    "    \"\"\"Pre.: nnn is sorted in ascending order\"\"\"\n",
    "    if left >= right:\n",
    "        if left == right:\n",
    "            return nnn[left] == n\n",
    "        else:\n",
    "            return False\n",
    "    else:\n",
    "        mid = (right + left) // 2\n",
    "        if n <= nnn[mid]:\n",
    "            right = mid\n",
    "        else:\n",
    "            left = mid+1\n",
    "        return binary_search(n, nnn, left, right)\n",
    "\n",
    "print([(i, binary_search(i, [1, 3, 5, 7, 9, 11, 13], 0, 6)) for i in range(0, 15)])"
   ]
  },
  {
   "cell_type": "code",
   "execution_count": 12,
   "metadata": {},
   "outputs": [
    {
     "name": "stdout",
     "output_type": "stream",
     "text": [
      "[(0, False), (1, True), (2, False), (3, True), (4, False), (5, True), (6, False), (7, True), (8, False), (9, True), (10, False), (11, True), (12, False), (13, True), (14, False)]\n",
      "---------------------------------\n"
     ]
    }
   ],
   "source": [
    "def binary_search_again(n, nnn):\n",
    "    \"\"\"Pre.: nnn is sorted in ascending order\"\"\"\n",
    "    mid = len(nnn) // 2\n",
    "    if len(nnn) == 0:\n",
    "        return False\n",
    "    elif nnn[mid] == n:\n",
    "        return True\n",
    "    else:\n",
    "        if n < nnn[mid]:\n",
    "            nnn_new = nnn[:mid]\n",
    "        else:\n",
    "            nnn_new = nnn[mid + 1:]\n",
    "        return binary_search_again(n, nnn_new[:mid])\n",
    "\n",
    "print([(i, binary_search_again(i, [1, 3, 5, 7, 9, 11, 13])) for i in range(0, 15)])\n",
    "print(\"---------------------------------\")"
   ]
  },
  {
   "cell_type": "markdown",
   "metadata": {},
   "source": [
    "### Diseño de algoritmos recursivos eficientes\n",
    "\n",
    "El principal escollo al diseñar algoritmos recursivos es lograr que sean eficientes.\n",
    "Los aspectos concretos más importantes son los siguientes:\n",
    "<ul>\n",
    "    <li>\n",
    "        La recursividad lineal final puede siempre transformarse en un bucle, con el consiguiente ahorro de espacio,\n",
    "        al evitar el uso de la pila recursiva.\n",
    "    </li>\n",
    "    <li>\n",
    "        Es importante examinar si nuestro si nuestro diseño produce llamadas repetidas (redundantes).\n",
    "        Este paso puede ser más fácil examinando el árbol de llamadas.\n",
    "        En este caso, tenemos una ineficiencia evidente que debe afrontarse.\n",
    "        Una de las técnicas más importantes para abordar este problema es la *programación dinámica*.\n",
    "    </li>\n",
    "    <li>\n",
    "        Otra forma de optimizar los algoritmos recursivos es podando las ramas del árbol recursivo\n",
    "        que no vayan a conducir a ningún resultado positivo.\n",
    "        Las técnicas concretas que abordan esta mejora se conocen como algoritmos de vuelta atrás\n",
    "        (en inglés, *backtracking*), ramificación y poda y poda alfa-beta.\n",
    "    </li>\n",
    "</ul>\n",
    "\n",
    "También es importante el análisis de la complejidad de un algoritmo recursivo, que normalmente requiere saber plantear y resolver una ecuacióin de recurrencias.\n",
    "\n",
    "Cada una de las técnicas mencionadas en este apartado tiene su propio capítulo, por lo que no abundamos más en ellas."
   ]
  },
  {
   "cell_type": "markdown",
   "metadata": {},
   "source": [
    "### Ejercicio. Distintas versiones de la potencia \n",
    "\n",
    "Diseña distintas funciones para el cálculo de una potencia, de exponente entero y positivo, basándote en las ideas siguientes:\n",
    "<ol>\n",
    "    <li>\n",
    "        $a^n = a \\cdot a^{n-1}$, cuando $n>0$\n",
    "    </li>\n",
    "    <li>\n",
    "        $a^n = a^{n//2} \\cdot a^{(n+1)//2}$\n",
    "    </li>\n",
    "    <li>\n",
    "        $a^n = (a^2)^{n//2}$, cuando $n>0$ y par\n",
    "    </li>\n",
    "    <li>\n",
    "        Consideramos varias propiedades simultáneamente:\n",
    "        <ul>\n",
    "            <li>\n",
    "                $a^n = 1 \\cdot a^n$\n",
    "            </li>\n",
    "            <li>\n",
    "                $ac \\cdot a^n = (ac \\cdot a) \\cdot a^{n-1}$,  cuando $n>0$\n",
    "            </li>\n",
    "            <li>\n",
    "                $ac \\cdot a^n = ac \\cdot (a^2)^{n//2}$,  cuando $n>0$ y par\n",
    "            </li>\n",
    "        </ul>\n",
    "    </li>\n",
    "</ol>\n",
    "\n",
    "Clasifica las funciones diseñadas atendiendo al tipo de recursividad que usan, mejóralas en la medida en que sea posible y compáralas, atendiendo a su complejidad."
   ]
  },
  {
   "cell_type": "code",
   "execution_count": 13,
   "metadata": {
    "collapsed": true
   },
   "outputs": [],
   "source": [
    "def pow1(a, n):\n",
    "    \"\"\"Pre.: ...\"\"\"\n",
    "    if ...:\n",
    "        ...\n",
    "    else:\n",
    "        return a * pow1(a, n-1)\n",
    "\n",
    "def pow4(a, n):\n",
    "    \"\"\"...\"\"\"\n",
    "    return pow_ac(prod_ac, a, n)\n",
    "\n",
    "def pow_ac(prod_ac, a, n):\n",
    "    ..."
   ]
  }
 ],
 "metadata": {
  "kernelspec": {
   "display_name": "Python 3",
   "language": "python",
   "name": "python3"
  },
  "language_info": {
   "codemirror_mode": {
    "name": "ipython",
    "version": 3
   },
   "file_extension": ".py",
   "mimetype": "text/x-python",
   "name": "python",
   "nbconvert_exporter": "python",
   "pygments_lexer": "ipython3",
   "version": "3.7.3"
  }
 },
 "nbformat": 4,
 "nbformat_minor": 1
}
