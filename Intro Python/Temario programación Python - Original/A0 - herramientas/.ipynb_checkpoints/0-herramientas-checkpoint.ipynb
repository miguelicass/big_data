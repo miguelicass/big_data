{
 "cells": [
  {
   "cell_type": "markdown",
   "metadata": {
    "collapsed": true
   },
   "source": [
    "# Las herramientas básicas\n",
    "\n",
    "<hr>\n",
    "\n",
    "En esta pieza introducimos las herramientas básicas, desde el punto de vista práctico, con las que vamos a trabajar en este curso: Python e IPython, Anaconda, Spyder y el Notebook de Python."
   ]
  },
  {
   "cell_type": "markdown",
   "metadata": {
    "collapsed": true
   },
   "source": [
    "## ¿Qué es Python?\n",
    "\n",
    "Python es un lenguaje de Programación creado por Guido van Rossum en 1991. El nombre de este lenguaje \n",
    "no guarda ninguna relación con la serpiente pitón --aunque luego resulta divertido hacer analogías con este reptil-- sino con el grupo de humoristas británicos, los Monty Python.\n",
    "\n",
    "Python se ha convertido en el principal lenguaje de programación usado para áreas tan importantes en la actualidad como son la ciencia de los datos, el aprendizaje de máquina, el anñalisis de datos, el procesamiento de datos a gran escala, procesamiento de grande volúmenes de datos, análisis predictivo, procesdamiento de lenguaje natural, matemática simbólica, estadística, y un largo etcétera.\n",
    " \n",
    "Este lenguaje posee una licencia de código abierto, que es compatible con la Licencia pública general de GNU a partir de la versión 2.1.1. Nosotros usaremos la versión 3, que no es completamente compatible con las anteriores; esto es un detalle importante porque si se usa código Python de la versión 2, es posible que se produzcan algunos errores.\n",
    "\n",
    "\n",
    "## Anaconda\n",
    "\n",
    "Anaconda es una distribución científica de Python gratuita, que incluye varias herramientas que nos facilitarán el trabajo y es perfecta para empezar. Para instalarla, sigue las instrucciones incluidas en la siguiente página:\n",
    "\n",
    "<br>\n",
    "\n",
    "<center>\n",
    "<a href=\"https://store.continuum.io/cshop/anaconda/\">\n",
    "    https://store.continuum.io/cshop/anaconda/</a>\n",
    "</center>    \n",
    "\n",
    "Al instalarla, podemos comprobar que aparecen las siguientes herramientas en nuestro sistema:\n",
    "\n",
    "\n",
    "<img src=\"./images/anaconda-2.png\">\n",
    "\n",
    "\n",
    "## Spyder\n",
    "\n",
    "Una de las herramientas que proporciona Anaconda es Spyder, un entorno de desarrollo integrado (en inglés, IDE = *Interactive Development Environment*) para el lenguaje Python. Spyder puede instalarse y usarse independientemente de Anaconda. Spyder ofrece facilidades para edición, pruebas interactivas, depuración, etc., e incluye una serie de paquetes típicamente usados para computación científica y ciencia de los datos.\n",
    "\n",
    "\n",
    "Al arrancar Spyder, se abre una ventana como la siguiente:\n",
    "\n",
    "<img src=\"./images/spyder.png\" width=\"500\">\n",
    "\n",
    "El nombre *SPYDER* proviene de *Scientific PYthon Development EnviRonment*.\n",
    "\n",
    "Las dos partes más importantes ahora en la ventana de Spyder son el cuadro de la izquierda, en el que se puede ir escribiendo código de Python, y la parte central de la derecha, una terminal donde se pueden ir haciendo pruebas interactivas. \n",
    "\n",
    "\n",
    "## IPython\n",
    "\n",
    "IPython es una consola interactiva de Python, que amplía sus funcionalidades con otras, como son el resaltado de líneas y errores mediante colores, autocompletado de variables mediante el tabulador, etc.\n",
    "\n",
    "<img src=\"./images/Terminal de IPython-2.png\" width=\"500\">\n",
    "\n",
    "Al arrancar Spyder, mi primera recomendación es que te sitúes en la ventana de IPython y pruebes por tí mismo su funcionamiento con las instrucciones que ves en el ejemplo o con otras que tú mismo elijas.\n",
    "\n",
    "\n",
    "## El Notebook de Python\n",
    "\n",
    "El Notebook de Python es una interfaz de Python que añade algunas mejoras, permitiendo combinar código de Python con fragmentos de texto y con imágenes, y donde el texto está enriquecido con tablas, tipos de letra, fórmulas de $\\LaTeX$, etc. Por lo tanto, es una herramienta ideal para crear documentos interactivos, y también por eso existen actualmente muchos cursos en que el material se organiza con uns colección de archivos de Notebook.\n",
    "\n",
    "Por ejemplo, este documento es un archivo de Notebook, y tú puedes usarlo para leerlo, para probar el funcionamiento de las instrucciones que contiene y experimentar con ellas o con otras nuevas, puedes cambiar en él lo que quieras y añadir o modificar texto, código o imágenes.\n",
    "\n",
    "Los archivos manejados por el Notebook de Python se almacenan con la extensión *ipynb*. Este archivo es un ejemplo de ello, aunque también se puede almacenar en forma de *pdf*."
   ]
  },
  {
   "cell_type": "markdown",
   "metadata": {
    "collapsed": true
   },
   "source": [
    "## Modo interactivo\n",
    "\n",
    "En IPython y en el Notebook de Jupyter se puede trabajar de manera interactiva. La manera más básica de iniciarse es similar al uso de una calculadora:"
   ]
  },
  {
   "cell_type": "code",
   "execution_count": 1,
   "metadata": {},
   "outputs": [
    {
     "data": {
      "text/plain": [
       "8"
      ]
     },
     "execution_count": 1,
     "metadata": {},
     "output_type": "execute_result"
    }
   ],
   "source": [
    "3 + 5"
   ]
  },
  {
   "cell_type": "markdown",
   "metadata": {
    "collapsed": true
   },
   "source": [
    "En el modo interactivo, podemos ir escribiendo *expresiones*, como la anterior, y se calculan directamente.\n",
    "\n",
    "También podemos ir ejecutando *instrucciones*, y se van ejecutando una a una:\n",
    "\n",
    "Por ejemplo, una *instrucción de asignación*, que sirve para almacenar el resultado de un cálculo en una *variable*, o la *instrucción de escritura*, que escribe en la pantalla el resultado de un cálculo:"
   ]
  },
  {
   "cell_type": "code",
   "execution_count": 2,
   "metadata": {},
   "outputs": [
    {
     "name": "stdout",
     "output_type": "stream",
     "text": [
      "8\n"
     ]
    }
   ],
   "source": [
    "x = 3 + 5\n",
    "print(x)"
   ]
  },
  {
   "cell_type": "markdown",
   "metadata": {
    "collapsed": true
   },
   "source": [
    "Es decir, la suma de 3 + 5 se almacena en la variable `x`, y luego se escribe el valor de esta variable.\n",
    "\n",
    "La variable `x` es como un contenedor, una cajita en la que se guarda un valor, y que se usa diciendo su nombre o *identificador*, `x`. En este caso, `x` es una variable entera, es decir, el *tipo de datos* de dicha variable es un entero:"
   ]
  },
  {
   "cell_type": "code",
   "execution_count": 3,
   "metadata": {},
   "outputs": [
    {
     "name": "stdout",
     "output_type": "stream",
     "text": [
      "<class 'int'>\n"
     ]
    }
   ],
   "source": [
    "print(type(x))"
   ]
  },
  {
   "cell_type": "markdown",
   "metadata": {
    "collapsed": true
   },
   "source": [
    "Pero podemos manejar reales, cadenas de caracteres, listas..."
   ]
  },
  {
   "cell_type": "code",
   "execution_count": 4,
   "metadata": {},
   "outputs": [
    {
     "name": "stdout",
     "output_type": "stream",
     "text": [
      "8.0\n",
      "<class 'float'>\n",
      "Python, mi serpiente favorita\n",
      "<class 'str'>\n",
      "['Cristóbal', 59, 72.0, '91123985']\n",
      "<class 'list'>\n"
     ]
    }
   ],
   "source": [
    "x = (5.75 + 6.75 + 9.5 + 10.0) / 4\n",
    "print(x)\n",
    "print(type(x))\n",
    "\n",
    "x = \"Python, mi serpiente favorita\"\n",
    "print(x)\n",
    "print(type(x))\n",
    "\n",
    "x = [\"Cristóbal\", 59, 72.0, \"91123985\"]\n",
    "print(x)\n",
    "print(type(x))"
   ]
  },
  {
   "cell_type": "markdown",
   "metadata": {
    "collapsed": true
   },
   "source": [
    "Observamos que la variable `x` es un entero, luego una cadena de caracteres (llamada un *string*), luego una lista, etc."
   ]
  },
  {
   "cell_type": "markdown",
   "metadata": {
    "collapsed": true
   },
   "source": [
    "A medida que vamos escribiendo secuencias de código más largas, comprendemos la necesidad de usar identificadores adecuados para las variables, y también la necesidad de añadir *comentarios* que aclaren el cometido de las instrucciones:"
   ]
  },
  {
   "cell_type": "code",
   "execution_count": 5,
   "metadata": {},
   "outputs": [
    {
     "name": "stdout",
     "output_type": "stream",
     "text": [
      "8.0\n",
      "<class 'float'>\n",
      "Python es el nombre de un grupo humorístico.\n",
      "<class 'str'>\n",
      "['Cristóbal', 59, 72.0, '91123456']\n",
      "<class 'list'>\n"
     ]
    }
   ],
   "source": [
    "# Cálculo de mi nota media:\n",
    "nota_media = (5.75 + 6.75 + 9.5 + 10.0) / 4\n",
    "print(nota_media)\n",
    "print(type(nota_media))\n",
    "\n",
    "# Origen del nombre del lenguaje Python:\n",
    "frase = \"Python es el nombre de un grupo humorístico.\"\n",
    "print(frase)\n",
    "print(type(frase))\n",
    "\n",
    "# Mis datos: nombre, edad, peso, teléfono:\n",
    "datos_cris = [\"Cristóbal\", 59, 72.0, \"91123456\"]\n",
    "print(datos_cris)\n",
    "print(type(datos_cris))"
   ]
  },
  {
   "cell_type": "markdown",
   "metadata": {
    "collapsed": true
   },
   "source": [
    "## Script de Python\n",
    "\n",
    "La ventana de la izquierda de Spyder permite escribir funciones y programas:"
   ]
  },
  {
   "cell_type": "code",
   "execution_count": 6,
   "metadata": {},
   "outputs": [],
   "source": [
    "# Función factorial, versión iterativa:\n",
    "\n",
    "def factorial(n):\n",
    "    acum = 1\n",
    "    for i in range(1, n+1):\n",
    "        acum = acum * i\n",
    "    return acum"
   ]
  },
  {
   "cell_type": "markdown",
   "metadata": {
    "collapsed": true
   },
   "source": [
    "Para usar una función, debemos ejecutar este archivo e ir de nuevo a la ventana de la derecha, donde ya es posible ejecutar la función definida:"
   ]
  },
  {
   "cell_type": "code",
   "execution_count": 7,
   "metadata": {},
   "outputs": [
    {
     "name": "stdout",
     "output_type": "stream",
     "text": [
      "120\n"
     ]
    }
   ],
   "source": [
    "print(factorial(5))"
   ]
  },
  {
   "cell_type": "markdown",
   "metadata": {
    "collapsed": true
   },
   "source": [
    "## Librerías\n",
    "\n",
    "Existen miles de librerías de Python para resolver problemas en las áreas más diversas, tales como cálculos matemáticos, numéricos o simbólicos, procesamiento de lenguaje natural, estadística, conexión con bases de datos, redes neuronales, procesamiento de imágenes, gráficos, web scraping, estructuras de datos, automatic learning, y un largo etcétera."
   ]
  },
  {
   "cell_type": "code",
   "execution_count": 8,
   "metadata": {},
   "outputs": [
    {
     "name": "stdout",
     "output_type": "stream",
     "text": [
      "0.5000000000000001\n"
     ]
    }
   ],
   "source": [
    "# Importación de la librería math:\n",
    "import math\n",
    "\n",
    "# y uso de una constante definida en dicha librería:\n",
    "print(math.cos(math.pi/3))"
   ]
  },
  {
   "cell_type": "markdown",
   "metadata": {
    "collapsed": true
   },
   "source": [
    "## Conda: instalación de librerías\n",
    "\n",
    "Una de las herramientas que se instalan con Anaconda es el *Anaconda prompt*, una consola desde la cual se pueden actualizar e instalar librerías para los fines más diversos. He aquí un ejemplo de uso, en el que he abreviado la pantalla de ejecución por claridad:\n",
    "\n",
    "<img src=\"./images/anaconda-prompt-breve.png\">"
   ]
  },
  {
   "cell_type": "markdown",
   "metadata": {
    "collapsed": true
   },
   "source": [
    "## Por dónde continuar ahora\n",
    "\n",
    "\n",
    "Una vez introducidas las herramientas básicas, toca en primer lugar instalarlas y familiarizarse con ellas.\n",
    "\n",
    "Toca también prepararse para estudiar un curso de Python desde el principio, al ritmo que necesites, según sea tu experiencia en programación en algún otro lenguaje. Y si eres un principiante en el mundo de la programación, simplemente prepárate para disfrutar sin prisa de un lenguaje muy sencillo, muy bonito, y que es actualmente usado ampliamente en el mundo del análisis de datos, de la ciencia de los datos y de la ingeniería de datos."
   ]
  },
  {
   "cell_type": "markdown",
   "metadata": {
    "collapsed": true
   },
   "source": [
    "## Referencias\n",
    "\n",
    "El material elaborado sobre lo estudiado en esta pieza es enorme. Ahora y en general, procuro dar una selección de referencias muy reducida, que sea útil y ofrezca una cantidad de información controlada. He aquí la escueta selección que he recopilado esta vez:\n",
    "\n",
    "<ul>\n",
    "    <li> <a href=\"https://en.wikipedia.org/wiki/Anaconda_(Python_distribution)\">https://en.wikipedia.org/wiki/Anaconda_(Python_distribution)</a> </li>\n",
    "</ul>   "
   ]
  }
 ],
 "metadata": {
  "kernelspec": {
   "display_name": "Python 3",
   "language": "python",
   "name": "python3"
  },
  "language_info": {
   "codemirror_mode": {
    "name": "ipython",
    "version": 3
   },
   "file_extension": ".py",
   "mimetype": "text/x-python",
   "name": "python",
   "nbconvert_exporter": "python",
   "pygments_lexer": "ipython3",
   "version": "3.7.3"
  }
 },
 "nbformat": 4,
 "nbformat_minor": 2
}
