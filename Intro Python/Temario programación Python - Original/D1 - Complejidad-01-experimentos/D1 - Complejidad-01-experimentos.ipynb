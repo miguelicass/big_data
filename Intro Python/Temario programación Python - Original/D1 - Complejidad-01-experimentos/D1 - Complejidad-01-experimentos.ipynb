{
 "cells": [
  {
   "cell_type": "markdown",
   "metadata": {},
   "source": [
    "# Complejidad de algoritmos. Introducción experimental"
   ]
  },
  {
   "cell_type": "markdown",
   "metadata": {},
   "source": [
    "Dos programas resuelven la misma tarea. ¿Es mejor uno que otro? Atendiendo al tiempo y la memoria que consumen, un mismo programa tendrá un comportamiento distinto con cada juego de datos; y también en cada equipo en el que se ejecute; incluso en cada lenguaje de programación. Así, ¿cómo podemos adoptar un criterio general para compararlos?\n",
    "\n",
    "Los siguientes ejemplos siguen el capítulo 2 de \"Problem Solving with Algorithms and Data Structures using Python\", de Ranum y Miller (2013). Repásalos leyendo el texto de ese libro."
   ]
  },
  {
   "cell_type": "markdown",
   "metadata": {},
   "source": [
    "## What is Algorithm Analysis?"
   ]
  },
  {
   "cell_type": "code",
   "execution_count": 1,
   "metadata": {},
   "outputs": [
    {
     "name": "stdout",
     "output_type": "stream",
     "text": [
      "55\n"
     ]
    }
   ],
   "source": [
    "def sum_of_n(n):\n",
    "    the_sum = 0\n",
    "    for i in range(1,n+1):\n",
    "        the_sum = the_sum + i\n",
    "    return the_sum\n",
    "\n",
    "print(sum_of_n(10))"
   ]
  },
  {
   "cell_type": "code",
   "execution_count": 2,
   "metadata": {},
   "outputs": [
    {
     "name": "stdout",
     "output_type": "stream",
     "text": [
      "55\n"
     ]
    }
   ],
   "source": [
    "def foo(tom):\n",
    "    fred = 0\n",
    "    for bill in range(1, tom+1):\n",
    "        barney = bill\n",
    "        fred = fred + barney\n",
    "    return fred\n",
    "\n",
    "print(foo(10))"
   ]
  },
  {
   "cell_type": "markdown",
   "metadata": {},
   "source": [
    "- Atendiendo a la legibilidad, ¿cuál es mejor?\n",
    "- Si cada suma y cada asignación cuentan como un paso, ¿Cuántos pasos requiere cada algoritmo aplicado al parámetro 20?\n",
    "¿Y a 30, 40...?\n",
    "¿Puedes dar una fórmula para el número de pasos que necesita cada función?\n",
    "- Si consideramos que cada parámetro y cada variable entera ocupan una celda de memoria,\n",
    "¿Cuál es el espacio empleado por cada una de las dos funciones?"
   ]
  },
  {
   "cell_type": "code",
   "execution_count": 3,
   "metadata": {},
   "outputs": [
    {
     "name": "stdout",
     "output_type": "stream",
     "text": [
      "10 (55, 11)\n",
      "[(0, (0, 1)), (1, (1, 2)), (2, (3, 3)), (3, (6, 4)), (4, (10, 5)), (5, (15, 6)), (6, (21, 7)), (7, (28, 8)), (8, (36, 9)), (9, (45, 10))]\n"
     ]
    }
   ],
   "source": [
    "def sum_of_n_count_steps(n):\n",
    "    num_steps = 0\n",
    "    the_sum = 0\n",
    "    num_steps = num_steps + 1\n",
    "    for i in range(1,n+1):\n",
    "        the_sum = the_sum + i\n",
    "        num_steps = num_steps + 1\n",
    "    return the_sum, num_steps\n",
    "\n",
    "print(10, sum_of_n_count_steps(10))\n",
    "print([(i, sum_of_n_count_steps(i)) for i in range(10)])"
   ]
  },
  {
   "cell_type": "markdown",
   "metadata": {},
   "source": [
    "Para cada input, hemos calculado su output y el número de pasos. Pero hemos tenido que alterar la función, haciéndola menos legible. Además, tenemos números concretos pero no una expresión general y clara del número de pasos.\n",
    "\n",
    "Otra idea: cronometrar el tiempo que tarda una ejecución: "
   ]
  },
  {
   "cell_type": "code",
   "execution_count": 4,
   "metadata": {},
   "outputs": [
    {
     "name": "stdout",
     "output_type": "stream",
     "text": [
      "Sum 1 + ... + 10000 = 50005000. Time: 0.002\n",
      "Sum 1 + ... + 20000 = 200010000. Time: 0.01099\n",
      "Sum 1 + ... + 30000 = 450015000. Time: 0.01999\n",
      "Sum 1 + ... + 40000 = 800020000. Time: 0.01499\n",
      "Sum 1 + ... + 50000 = 1250025000. Time: 0.03898\n",
      "Sum 1 + ... + 60000 = 1800030000. Time: 0.04198\n",
      "Sum 1 + ... + 70000 = 2450035000. Time: 0.02498\n",
      "Sum 1 + ... + 80000 = 3200040000. Time: 0.01911\n",
      "Sum 1 + ... + 90000 = 4050045000. Time: 0.03845\n"
     ]
    }
   ],
   "source": [
    "import time\n",
    "\n",
    "for i in range(1, 10):\n",
    "    n = i*10000\n",
    "    start = time.time()\n",
    "    sum_obtained = sum_of_n(n)\n",
    "    end = time.time()\n",
    "    time_used = end - start\n",
    "\n",
    "    print(\"Sum 1 + ... + \" + str(n) + \" = \" + str(sum_obtained) + \". Time: \" + str(round(time_used, 5)))"
   ]
  },
  {
   "cell_type": "markdown",
   "metadata": {},
   "source": [
    "Es mucho más claro. Problemas: la medida del tiempo dará un resultado distinto en cada ordenador, e incluso en el mismo ordenador en cada ejecución hay ligeras variaciones.\n",
    "\n",
    "Este último defecto se puede aminorar ejecutando cada ejemplar varias veces (por ejemplo, 100) y quedándonos con la media:"
   ]
  },
  {
   "cell_type": "code",
   "execution_count": 5,
   "metadata": {},
   "outputs": [
    {
     "name": "stdout",
     "output_type": "stream",
     "text": [
      "Sum 1 + ... + 40000 = 800020000. Time: 0.01459\n"
     ]
    }
   ],
   "source": [
    "n = 40000 # por ejemplo\n",
    "\n",
    "num_reps = 100\n",
    "start = time.time()\n",
    "for i in range(num_reps):\n",
    "    sum_obtained = sum_of_n(n)\n",
    "end = time.time()\n",
    "time_used = (end - start)/num_reps\n",
    "print(\"Sum 1 + ... + \" + str(n) + \" = \" + str(sum_obtained) + \". Time: \" + str(round(time_used, 5)))"
   ]
  },
  {
   "cell_type": "markdown",
   "metadata": {},
   "source": [
    "Todo esto se ve mucho más claro gráficamente:"
   ]
  },
  {
   "cell_type": "code",
   "execution_count": 6,
   "metadata": {},
   "outputs": [
    {
     "name": "stdout",
     "output_type": "stream",
     "text": [
      "[ 0  1  2  3  4  5  6  7  8  9 10 11 12 13 14 15 16 17 18 19]\n",
      "[ 0.          0.01562262  0.          0.01562476  0.          0.0156002\n",
      "  0.01561761  0.01562715  0.01564837  0.03124881  0.01560163  0.04686475\n",
      "  0.04652834  0.03124928  0.03124762  0.03357005  0.04687691  0.03124285\n",
      "  0.04689837  0.04684448]\n"
     ]
    },
    {
     "data": {
      "image/png": "[encoded data removed]",
      "text/plain": [
       "<matplotlib.figure.Figure at 0x1c25cfce9b0>"
      ]
     },
     "metadata": {},
     "output_type": "display_data"
    }
   ],
   "source": [
    "def take_time_my_fun(n):\n",
    "    start = time.time()\n",
    "    nn = sum_of_n(n*10000)\n",
    "    end = time.time()\n",
    "    return end - start\n",
    "\n",
    "import matplotlib.pyplot as plt\n",
    "import numpy as np\n",
    "\n",
    "def graph(fun, x_range):\n",
    "    y_range = map(fun, x_range)\n",
    "    \"\"\"http://stackoverflow.com/questions/14000595/graphing-an-equation-with-matplotlib\"\"\"\n",
    "    x = np.array(x_range)  \n",
    "    y = np.array(list(y_range))\n",
    "    print(x)\n",
    "    print(y)\n",
    "    plt.plot(x, y)  \n",
    "    plt.show()  \n",
    "\n",
    "graph(take_time_my_fun, range(20))"
   ]
  },
  {
   "cell_type": "markdown",
   "metadata": {},
   "source": [
    "Se ven claramente las irregularidades de cada ejecución. La solución es repetir cada ejecución un cierto número de veces y tomar el tiempo medio:"
   ]
  },
  {
   "cell_type": "code",
   "execution_count": 7,
   "metadata": {},
   "outputs": [
    {
     "name": "stdout",
     "output_type": "stream",
     "text": [
      "[ 0  1  2  3  4  5  6  7  8  9 10 11 12 13 14 15 16 17 18 19]\n",
      "[ 0.          0.00379727  0.00969443  0.0073384   0.01002271  0.01093709\n",
      "  0.01510658  0.01562693  0.02030885  0.02187309  0.0234355   0.03003018\n",
      "  0.03199348  0.03194177  0.03431773  0.03593776  0.0406194   0.04981625\n",
      "  0.04530916  0.04862902]\n"
     ]
    },
    {
     "data": {
      "image/png": "[encoded data removed]",
      "text/plain": [
       "<matplotlib.figure.Figure at 0x1c25b0cfc18>"
      ]
     },
     "metadata": {},
     "output_type": "display_data"
    }
   ],
   "source": [
    "def take_time_my_fun_avg(n):\n",
    "    k = 10 # num repetitions\n",
    "    start = time.time()\n",
    "    for i in range(k):\n",
    "        nn = sum_of_n(n*10000)\n",
    "    end = time.time()\n",
    "    return (end - start) / k\n",
    "\n",
    "graph(take_time_my_fun_avg, range(20))"
   ]
  },
  {
   "cell_type": "markdown",
   "metadata": {},
   "source": [
    "En resumen, se suavizan las irregularidades y vemos que el tiempo crece linealmente con respecto al tamaño del argumento proporcionado:\n",
    "\n",
    "$$t_{sum\\_of\\_n}(n) = k \\cdot n$$\n",
    "\n",
    "para alguna constante $k$, que no nos importa ahora.\n",
    "\n",
    "Dos asuntos nos preocupan:\n",
    "\n",
    "- Adquirir conciencia de la complejidad de los algoritmos y calcular su eficiencia con la precisión que sea posible \n",
    "- Encontrar algoritmos más eficientes, constatando la ganancia en términos de las funciones de coste.\n",
    "\n",
    "El algorimto siguiente resuelve el mismo problema de calcular $\\sum_{i=1}^{n} i$, y es más eficiente:"
   ]
  },
  {
   "cell_type": "code",
   "execution_count": 8,
   "metadata": {},
   "outputs": [
    {
     "name": "stdout",
     "output_type": "stream",
     "text": [
      "55\n"
     ]
    }
   ],
   "source": [
    "def sum_of_n_3(n):\n",
    "    return (n * (n + 1)) // 2\n",
    "\n",
    "print(sum_of_n_3(10))"
   ]
  },
  {
   "cell_type": "markdown",
   "metadata": {},
   "source": [
    "- Calcula los recursos (tiempo y espacio de memoria) empleados por esta función con los mismos criterios usados con las otras versiones, para los datos 10, 20, 30... y en general.\n",
    "\n",
    "- El siguiente programa no hace realmente nada interesante. Pero nosotros atendemos a su eficiencia, y no a su cometido ni al resultado. Variando los valores de *n*, calcula el tiempo y el espacio requeridos. Emplea la notación con sumatorio cuando lo necesites."
   ]
  },
  {
   "cell_type": "code",
   "execution_count": 9,
   "metadata": {},
   "outputs": [],
   "source": [
    "a = 5\n",
    "b = 6\n",
    "n = 10\n",
    "for i in range(n):\n",
    "    for j in range(n):\n",
    "        x = i * i\n",
    "        y = j * j\n",
    "        z = i * j\n",
    "for k in range(n):\n",
    "    w = a * k + 45\n",
    "    v = b * b\n",
    "d = 33"
   ]
  },
  {
   "cell_type": "markdown",
   "metadata": {},
   "source": [
    "## An Anagram Detection Example"
   ]
  },
  {
   "cell_type": "markdown",
   "metadata": {},
   "source": [
    "Deseamos saber si dos cadenas de caracteres contienen las mismas letras aunque en un orden posiblemente distinto. Presentamos seguidamente distintos algoritmos posibles para este problema. Tu trabajo consiste en (a) entender cómo opera cada uno de ellos (sugerencia: ejecútalos a mano, como si fueras tú el ordenador que realiza las instrucciones indicadas en Python); y (b) reflexionar sobre el tiempo que lleva."
   ]
  },
  {
   "cell_type": "code",
   "execution_count": 10,
   "metadata": {},
   "outputs": [
    {
     "name": "stdout",
     "output_type": "stream",
     "text": [
      "True\n"
     ]
    }
   ],
   "source": [
    "# Solution 1: Checking Off\n",
    "\n",
    "def anagram_solution1(s1,s2):\n",
    "    # Pre: len(s1) == len(s2)\n",
    "    a_list = list(s2)\n",
    "    pos1 = 0\n",
    "    still_ok = True\n",
    "    while pos1 < len(s1) and still_ok:\n",
    "        pos2 = 0\n",
    "        found = False\n",
    "        while pos2 < len(a_list) and not found:\n",
    "            if s1[pos1] == a_list[pos2]:\n",
    "                found = True\n",
    "            else:\n",
    "                pos2 = pos2 + 1\n",
    "        if found:\n",
    "            a_list[pos2] = None\n",
    "        else:\n",
    "            still_ok = False\n",
    "        pos1 = pos1 + 1\n",
    "    return still_ok\n",
    "\n",
    "print(anagram_solution1('abcd','dcba'))"
   ]
  },
  {
   "cell_type": "markdown",
   "metadata": {},
   "source": [
    "- Calcula el coste (número de operaciones) y exprésalo mediante una función, dependiente de la longitud *n* del primer *string*, *s1*.\n",
    "- Simplificamos un poco: una instrucción, o dos o tres (finitamente) cuentan como un paso, y a este coste le llamamos *constante*. Si tenemos una instrucción simple (coste constante) + un bucle (coste mayor posiblemente, o igual, al menos), basta con tener en cuenta el bucle. Simplifica en lo posible la solución anterior."
   ]
  },
  {
   "cell_type": "code",
   "execution_count": 11,
   "metadata": {},
   "outputs": [
    {
     "name": "stdout",
     "output_type": "stream",
     "text": [
      "True\n"
     ]
    }
   ],
   "source": [
    "# Solution 2: Sort and Compare\n",
    "\n",
    "def anagram_solution2(s1,s2):\n",
    "    # Pre: len(s1) == len(s2)\n",
    "    a_list1 = list(s1)\n",
    "    a_list2 = list(s2)\n",
    "    a_list1.sort()\n",
    "    a_list2.sort()\n",
    "    pos = 0\n",
    "    matches = True\n",
    "    while pos < len(s1) and matches:\n",
    "        if a_list1[pos] == a_list2[pos]:\n",
    "            pos = pos + 1\n",
    "        else:\n",
    "            matches = False\n",
    "    return matches\n",
    "\n",
    "print(anagram_solution2('abcde','edcba'))"
   ]
  },
  {
   "cell_type": "markdown",
   "metadata": {},
   "source": [
    "La instrucción *sort* no puede considerarse de un paso; de hecho, según el algoritmo empleado, será típicamente la siguiente:\n",
    "*t<sub>sort</sub>(n) = n<sup>2</sup>* o *t<sub>sort</sub>(n) = n log n*.\n",
    "\n",
    "- Teniendo en cuenta ambas posibilidades, calcula la complejidad del algoritmo anterior.\n",
    "\n",
    "En la solución siguiente, el primer paso es entender el algoritmo empleado. Invierte un tiempo en saber qué hace y cómo."
   ]
  },
  {
   "cell_type": "code",
   "execution_count": 12,
   "metadata": {},
   "outputs": [
    {
     "name": "stdout",
     "output_type": "stream",
     "text": [
      "True\n"
     ]
    }
   ],
   "source": [
    "# Solution 3: Brute Force\n",
    "\n",
    "def insertions(char, word):\n",
    "    total = []\n",
    "    length = len(word)\n",
    "    for i in range(0,length+1):\n",
    "        total.append(word[0:i] + char + word[i:length])       \n",
    "    return total\n",
    "                        \n",
    "def permutations(word):\n",
    "    if word == \"\":\n",
    "        return [\"\"]\n",
    "    else:\n",
    "        length = len(word)\n",
    "        last   = word[length-1]\n",
    "        front  = word[0:length-1]\n",
    "        all_permutations = []\n",
    "        for perm in permutations(front):\n",
    "            for i in insertions(last, perm):\n",
    "                all_permutations.append(i)\n",
    "        return all_permutations\n",
    "\n",
    "def are_anagrams(word1, word2):\n",
    "    # Pre: len(s1) == len(s2)\n",
    "    return word1 in permutations(word2)\n",
    "\n",
    "print(are_anagrams(\"roma\", \"amor\"))"
   ]
  },
  {
   "cell_type": "markdown",
   "metadata": {},
   "source": [
    "Para entender la complejidad del algoritmo anterior, podemos ir por partes:\n",
    "- ¿Cuántos pasos necesita la función insertions, dependiendo de la longitud del parámetro *word*?\n",
    "\n",
    "- Etc.\n",
    "\n",
    "Pero basta con saber la longitud de la lista calculada por *permutations* (aunque el coste puede ser aún mayor...)"
   ]
  },
  {
   "cell_type": "code",
   "execution_count": 13,
   "metadata": {},
   "outputs": [
    {
     "name": "stdout",
     "output_type": "stream",
     "text": [
      "True\n"
     ]
    }
   ],
   "source": [
    "# Sol 4: Count and Compare\n",
    "\n",
    "def anagram_solution4(s1, s2):\n",
    "    # Pre: len(s1) == len(s2)\n",
    "    c1 = [0] * 26\n",
    "    c2 = [0] * 26\n",
    "    for i in range(len(s1)):\n",
    "        pos = ord(s1[i]) - ord('a')\n",
    "        c1[pos] = c1[pos] + 1\n",
    "    for i in range(len(s2)):\n",
    "        pos = ord(s2[i]) - ord('a')\n",
    "        c2[pos] = c2[pos] + 1\n",
    "    j = 0\n",
    "    still_ok = True\n",
    "    while j < 26 and still_ok:\n",
    "        if c1[j] == c2[j]:\n",
    "            j = j + 1\n",
    "        else:\n",
    "            still_ok = False\n",
    "    return still_ok\n",
    "\n",
    "print(anagram_solution4('apple','pleap'))"
   ]
  },
  {
   "cell_type": "code",
   "execution_count": 14,
   "metadata": {},
   "outputs": [
    {
     "name": "stdout",
     "output_type": "stream",
     "text": [
      "True\n"
     ]
    }
   ],
   "source": [
    "# Sol 4': Count and Compare, with a dictionary\n",
    "\n",
    "def anagram_solution5(s1, s2):\n",
    "    # Pre: len(s1) == len(s2)\n",
    "    dict_1 = {}\n",
    "    dict_2 = {}\n",
    "    for i in s1:\n",
    "        if i in dict_1:\n",
    "            dict_1[i] = dict_1[i] + 1\n",
    "        else:\n",
    "            dict_1[i] = 0\n",
    "    for i in s2:\n",
    "        if i in dict_2:\n",
    "            dict_2[i] = dict_2[i] + 1\n",
    "        else:\n",
    "            dict_2[i] = 0\n",
    "    return dict_1 == dict_2\n",
    "\n",
    "print(anagram_solution5('apple','pleap'))"
   ]
  },
  {
   "cell_type": "markdown",
   "metadata": {},
   "source": [
    "## Self Check"
   ]
  },
  {
   "cell_type": "markdown",
   "metadata": {},
   "source": [
    "Calcula la complejidad de cada uno de los siguientes algoritmos (Ranum and Miller, 2.2.4), y clasifícala según la siguiente escala:\n",
    "\n",
    "<table>\n",
    "  <tr>\n",
    "    <td> O(1)       </td>\n",
    "    <td> O(log n)   </td>\n",
    "    <td> O(n)       </td>\n",
    "    <td> O(n log n) </td>\n",
    "    <td> O(n^2)     </td>\n",
    "    <td> O(n^3)     </td>\n",
    "    <td> Otra       </td>\n",
    "  </tr>\n",
    "</table>"
   ]
  },
  {
   "cell_type": "code",
   "execution_count": 15,
   "metadata": {},
   "outputs": [
    {
     "name": "stdout",
     "output_type": "stream",
     "text": [
      "2025\n",
      "0\n",
      "0\n"
     ]
    }
   ],
   "source": [
    "# Q-1 ------------------------------\n",
    "\n",
    "test = 0\n",
    "for i in range(n):\n",
    "    for j in range(n):\n",
    "        test = test + i * j\n",
    "print(test)\n",
    "\n",
    "# Q-2 ------------------------------\n",
    "\n",
    "test = 0\n",
    "for i in range(n):\n",
    "    test = test + 1\n",
    "for j in range(n):\n",
    "    test = test - 1\n",
    "print(test)\n",
    "    \n",
    "# Q-3 ------------------------------\n",
    "\n",
    "i = n\n",
    "while i > 0:\n",
    "    k = 2 + 2\n",
    "    i = i // 2\n",
    "print(test)"
   ]
  },
  {
   "cell_type": "markdown",
   "metadata": {},
   "source": [
    "Calcula la complejidad de cada uno de los siguientes algoritmos:\n",
    "\n",
    "- Cálculo del factorial de un número entero positivo: $fact(n) = n!$.\n",
    "- Cálculo de la función *muchos_fac(n) = [fac(i) for i in range(n+1)]*. Es decir:\n",
    "<center>\n",
    "  [0!, 1!, 2!, ..., n!]\n",
    "</center>\n",
    "- Busca la función más eficiente que puedas para este último cálculo, y halla su complejidad."
   ]
  }
 ],
 "metadata": {
  "kernelspec": {
   "display_name": "Python 3",
   "language": "python",
   "name": "python3"
  },
  "language_info": {
   "codemirror_mode": {
    "name": "ipython",
    "version": 3
   },
   "file_extension": ".py",
   "mimetype": "text/x-python",
   "name": "python",
   "nbconvert_exporter": "python",
   "pygments_lexer": "ipython3",
   "version": "3.7.3"
  }
 },
 "nbformat": 4,
 "nbformat_minor": 1
}
