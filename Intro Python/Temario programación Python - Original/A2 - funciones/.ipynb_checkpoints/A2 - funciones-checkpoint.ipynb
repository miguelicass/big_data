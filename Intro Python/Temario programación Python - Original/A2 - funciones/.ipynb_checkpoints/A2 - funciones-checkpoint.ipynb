{
 "cells": [
  {
   "cell_type": "markdown",
   "metadata": {},
   "source": [
    "# Funciones\n",
    "\n",
    "<hr>\n",
    "\n",
    "Cuando definimos una función, disponemos de una herramienta útil que podemos luego usar en múltiples situaciones concretas:"
   ]
  },
  {
   "cell_type": "markdown",
   "metadata": {},
   "source": [
    "## Definición y llamada de una función\n",
    "\n",
    "Estos dos conceptos se ven mucho mejor con un ejemplo:"
   ]
  },
  {
   "cell_type": "code",
   "execution_count": 1,
   "metadata": {},
   "outputs": [
    {
     "data": {
      "text/plain": [
       "(34, 92, 5)"
      ]
     },
     "execution_count": 1,
     "metadata": {},
     "output_type": "execute_result"
    }
   ],
   "source": [
    "# Definición de una función:\n",
    "\n",
    "def formar_numero(dec, uni):\n",
    "    valor_decenas = 10 * dec\n",
    "    valor_unidades = uni\n",
    "    return valor_decenas + valor_unidades\n",
    "\n",
    "# Distintas llamadas a la función anterior:\n",
    "\n",
    "formar_numero(3, 4), formar_numero(9, 2), formar_numero(0, 5)"
   ]
  },
  {
   "cell_type": "markdown",
   "metadata": {},
   "source": [
    "En el ejemplo anterior, la función \"componer_numero\" se define usando los *parámetros abstractos* \"dec\" y \"uni\", que representan las cifras de las decenas y las unidades de un número. \n",
    "\n",
    "El cuerpo de la definición se compone de instrucciones, que trabajan con los parámetros abstractos.\n",
    "Una instrucción especial, llamada *return* sirve para expresar el valor que la función devuelve, tras los cálculos.\n",
    "\n",
    "Cada uso (o *llamada*) de la función se hace con los parámetros concretos con los que realmente necesitamos realizar los cálculos. En cada llamada, los parámetros abstractos (también llamados parámetros *formales*) asumen los valores de los parámetros concretos (también llamados parámetros *reales*) y se ejecuta el cuerpo con ellos.\n",
    "\n",
    "Los ejemplos siguientes son fáciles de entender. En ellos, te resultará fácil distinguir entre definición y llamadas, y entre parámetros formales y reales."
   ]
  },
  {
   "cell_type": "code",
   "execution_count": 2,
   "metadata": {},
   "outputs": [
    {
     "data": {
      "text/plain": [
       "(14.0, 4.5, -2.0)"
      ]
     },
     "execution_count": 2,
     "metadata": {},
     "output_type": "execute_result"
    }
   ],
   "source": [
    "def media(x, y):\n",
    "    return (x + y) / 2\n",
    "\n",
    "media(3,25), media(3.4,5.6), media(-1,-3)"
   ]
  },
  {
   "cell_type": "code",
   "execution_count": 3,
   "metadata": {},
   "outputs": [
    {
     "data": {
      "text/plain": [
       "5.075"
      ]
     },
     "execution_count": 3,
     "metadata": {},
     "output_type": "execute_result"
    }
   ],
   "source": [
    "def media_4(a1, a2, a3, a4):\n",
    "    s = 0.0\n",
    "    s = s + a1\n",
    "    s = s + a2\n",
    "    s = s + a3\n",
    "    s = s + a4\n",
    "    return s / 4\n",
    "\n",
    "media_4(1.5, 9.1, 3.0, 6.7)"
   ]
  },
  {
   "cell_type": "code",
   "execution_count": 4,
   "metadata": {},
   "outputs": [
    {
     "name": "stdout",
     "output_type": "stream",
     "text": [
      "3.141592653589793\n",
      "12.566370614359172\n"
     ]
    }
   ],
   "source": [
    "import math\n",
    "\n",
    "def area_circulo(radius):\n",
    "    return math.pi * radius ** 2\n",
    "\n",
    "print(math.pi)\n",
    "area = area_circulo(2)\n",
    "print(area)"
   ]
  },
  {
   "cell_type": "markdown",
   "metadata": {},
   "source": [
    "## Documentación de una función\n",
    "\n",
    "Debemos indicar lo que hace la función y el tipo que deben tener los parámetros de entrada y el valor devuelto."
   ]
  },
  {
   "cell_type": "code",
   "execution_count": 5,
   "metadata": {},
   "outputs": [
    {
     "data": {
      "text/plain": [
       "(3, 2, 7)"
      ]
     },
     "execution_count": 5,
     "metadata": {},
     "output_type": "execute_result"
    }
   ],
   "source": [
    "def maximo(x, y):\n",
    "    \"\"\"\n",
    "    Función que calcula el máximo de 2 números\n",
    "    \n",
    "    Parameters\n",
    "    ----------\n",
    "    x : int\n",
    "        El primer número\n",
    "    y : int\n",
    "        El segundo número\n",
    "        \n",
    "    Return\n",
    "    ------\n",
    "    int\n",
    "        El máximo de los valores x e y\n",
    "    \n",
    "    Example\n",
    "    -------\n",
    "    >>> maximo(2, 3)\n",
    "    3\n",
    "    \"\"\"\n",
    "    return (x + y + abs(x - y)) // 2\n",
    "\n",
    "maximo(2, 3), maximo(2, -3), maximo(7, 7)"
   ]
  },
  {
   "cell_type": "code",
   "execution_count": 6,
   "metadata": {},
   "outputs": [
    {
     "data": {
      "text/plain": [
       "5.075"
      ]
     },
     "execution_count": 6,
     "metadata": {},
     "output_type": "execute_result"
    }
   ],
   "source": [
    "def media_4(a1, a2, a3, a4):\n",
    "    \"\"\"\n",
    "    Función que devuelve la media de 4 números reales\n",
    "   \n",
    "    Parameters\n",
    "    ----------\n",
    "    a1, a2, a3, a4: number (int or float)\n",
    "    \n",
    "    Return\n",
    "    ------\n",
    "    float\n",
    "        la media de a1, a2, a3 y a4\n",
    "        \n",
    "    Example\n",
    "    -------\n",
    "    >>> media_4(1.5, 9.1, 3.0, 6.7)\n",
    "    5.075\n",
    "    \"\"\"\n",
    "    s = 0.0\n",
    "    s = s + a1\n",
    "    s = s + a2\n",
    "    s = s + a3\n",
    "    s = s + a4\n",
    "    return s / 4\n",
    "\n",
    "media_4(1.5, 9.1, 3.0, 6.7)"
   ]
  },
  {
   "cell_type": "markdown",
   "metadata": {},
   "source": [
    "## Requisitos: precondición\n",
    "\n",
    "Cuando sea necesario, también se han de poner los requisitos que deben cumplir los parámetros de una función."
   ]
  },
  {
   "cell_type": "code",
   "execution_count": 7,
   "metadata": {},
   "outputs": [
    {
     "name": "stdout",
     "output_type": "stream",
     "text": [
      "1.4142135623730951\n"
     ]
    },
    {
     "ename": "ValueError",
     "evalue": "math domain error",
     "output_type": "error",
     "traceback": [
      "\u001b[1;31m---------------------------------------------------------------------------\u001b[0m",
      "\u001b[1;31mValueError\u001b[0m                                Traceback (most recent call last)",
      "\u001b[1;32m<ipython-input-7-71833929903c>\u001b[0m in \u001b[0;36m<module>\u001b[1;34m\u001b[0m\n\u001b[0;32m     31\u001b[0m \u001b[1;31m# El siguiente ejemplo fallará. Vemos que la precondición era necesaria:\u001b[0m\u001b[1;33m\u001b[0m\u001b[1;33m\u001b[0m\u001b[1;33m\u001b[0m\u001b[0m\n\u001b[0;32m     32\u001b[0m \u001b[1;33m\u001b[0m\u001b[0m\n\u001b[1;32m---> 33\u001b[1;33m \u001b[0mprint\u001b[0m\u001b[1;33m(\u001b[0m\u001b[0mlado_cuadrado\u001b[0m\u001b[1;33m(\u001b[0m\u001b[1;33m-\u001b[0m\u001b[1;36m2\u001b[0m\u001b[1;33m)\u001b[0m\u001b[1;33m)\u001b[0m\u001b[1;33m\u001b[0m\u001b[1;33m\u001b[0m\u001b[0m\n\u001b[0m",
      "\u001b[1;32m<ipython-input-7-71833929903c>\u001b[0m in \u001b[0;36mlado_cuadrado\u001b[1;34m(area)\u001b[0m\n\u001b[0;32m     24\u001b[0m     \u001b[1;36m28.274333882308138\u001b[0m\u001b[1;33m\u001b[0m\u001b[1;33m\u001b[0m\u001b[0m\n\u001b[0;32m     25\u001b[0m     \"\"\"\n\u001b[1;32m---> 26\u001b[1;33m     \u001b[0mlado\u001b[0m \u001b[1;33m=\u001b[0m \u001b[0mmath\u001b[0m\u001b[1;33m.\u001b[0m\u001b[0msqrt\u001b[0m\u001b[1;33m(\u001b[0m\u001b[0marea\u001b[0m\u001b[1;33m)\u001b[0m\u001b[1;33m\u001b[0m\u001b[1;33m\u001b[0m\u001b[0m\n\u001b[0m\u001b[0;32m     27\u001b[0m     \u001b[1;32mreturn\u001b[0m \u001b[0mlado\u001b[0m\u001b[1;33m\u001b[0m\u001b[1;33m\u001b[0m\u001b[0m\n\u001b[0;32m     28\u001b[0m \u001b[1;33m\u001b[0m\u001b[0m\n",
      "\u001b[1;31mValueError\u001b[0m: math domain error"
     ]
    }
   ],
   "source": [
    "import math\n",
    "\n",
    "def lado_cuadrado(area):\n",
    "    \"\"\"\n",
    "    Función que calcula el lado de un cuadrado, comocida su área\n",
    "\n",
    "    Parameters\n",
    "    ----------\n",
    "    area : float\n",
    "        El área de un cuadrado\n",
    "    \n",
    "    Returns\n",
    "    ------\n",
    "    float\n",
    "        El lado de dicho cuadrado\n",
    "        \n",
    "    Precondition\n",
    "    ------------\n",
    "    area >= 0\n",
    "    \n",
    "    Example\n",
    "    -------\n",
    "    >>> circle(3)\n",
    "    28.274333882308138    \n",
    "    \"\"\"\n",
    "    lado = math.sqrt(area) \n",
    "    return lado\n",
    "\n",
    "print(lado_cuadrado(2))\n",
    "\n",
    "# El siguiente ejemplo fallará. Vemos que la precondición era necesaria:\n",
    "\n",
    "print(lado_cuadrado(-2))"
   ]
  },
  {
   "cell_type": "markdown",
   "metadata": {},
   "source": [
    "Una forma de imponer una precondición es mediante una aserción al inicio de una función:"
   ]
  },
  {
   "cell_type": "code",
   "execution_count": 8,
   "metadata": {},
   "outputs": [
    {
     "name": "stdout",
     "output_type": "stream",
     "text": [
      "1.4142135623730951\n"
     ]
    },
    {
     "ename": "AssertionError",
     "evalue": "el área debe ser positiva",
     "output_type": "error",
     "traceback": [
      "\u001b[1;31m---------------------------------------------------------------------------\u001b[0m",
      "\u001b[1;31mAssertionError\u001b[0m                            Traceback (most recent call last)",
      "\u001b[1;32m<ipython-input-8-490fbbca0c6a>\u001b[0m in \u001b[0;36m<module>\u001b[1;34m\u001b[0m\n\u001b[0;32m     10\u001b[0m \u001b[1;31m# El siguiente ejemplo fallará. Vemos que la precondición era necesaria:\u001b[0m\u001b[1;33m\u001b[0m\u001b[1;33m\u001b[0m\u001b[1;33m\u001b[0m\u001b[0m\n\u001b[0;32m     11\u001b[0m \u001b[1;33m\u001b[0m\u001b[0m\n\u001b[1;32m---> 12\u001b[1;33m \u001b[0mprint\u001b[0m\u001b[1;33m(\u001b[0m\u001b[0mlado_cuadrado\u001b[0m\u001b[1;33m(\u001b[0m\u001b[1;33m-\u001b[0m\u001b[1;36m2\u001b[0m\u001b[1;33m)\u001b[0m\u001b[1;33m)\u001b[0m\u001b[1;33m\u001b[0m\u001b[1;33m\u001b[0m\u001b[0m\n\u001b[0m",
      "\u001b[1;32m<ipython-input-8-490fbbca0c6a>\u001b[0m in \u001b[0;36mlado_cuadrado\u001b[1;34m(area)\u001b[0m\n\u001b[0;32m      2\u001b[0m \u001b[1;33m\u001b[0m\u001b[0m\n\u001b[0;32m      3\u001b[0m \u001b[1;32mdef\u001b[0m \u001b[0mlado_cuadrado\u001b[0m\u001b[1;33m(\u001b[0m\u001b[0marea\u001b[0m\u001b[1;33m)\u001b[0m\u001b[1;33m:\u001b[0m\u001b[1;33m\u001b[0m\u001b[1;33m\u001b[0m\u001b[0m\n\u001b[1;32m----> 4\u001b[1;33m     \u001b[1;32massert\u001b[0m \u001b[0marea\u001b[0m \u001b[1;33m>=\u001b[0m \u001b[1;36m0\u001b[0m\u001b[1;33m,\u001b[0m \u001b[1;34m\"el área debe ser positiva\"\u001b[0m\u001b[1;33m\u001b[0m\u001b[1;33m\u001b[0m\u001b[0m\n\u001b[0m\u001b[0;32m      5\u001b[0m     \u001b[0mlado\u001b[0m \u001b[1;33m=\u001b[0m \u001b[0mmath\u001b[0m\u001b[1;33m.\u001b[0m\u001b[0msqrt\u001b[0m\u001b[1;33m(\u001b[0m\u001b[0marea\u001b[0m\u001b[1;33m)\u001b[0m\u001b[1;33m\u001b[0m\u001b[1;33m\u001b[0m\u001b[0m\n\u001b[0;32m      6\u001b[0m     \u001b[1;32mreturn\u001b[0m \u001b[0mlado\u001b[0m\u001b[1;33m\u001b[0m\u001b[1;33m\u001b[0m\u001b[0m\n",
      "\u001b[1;31mAssertionError\u001b[0m: el área debe ser positiva"
     ]
    }
   ],
   "source": [
    "import math\n",
    "\n",
    "def lado_cuadrado(area):\n",
    "    assert area >= 0, \"el área debe ser positiva\"\n",
    "    lado = math.sqrt(area) \n",
    "    return lado\n",
    "\n",
    "print(lado_cuadrado(2))\n",
    "\n",
    "# El siguiente ejemplo fallará. Vemos que la precondición era necesaria:\n",
    "\n",
    "print(lado_cuadrado(-2))"
   ]
  },
  {
   "cell_type": "markdown",
   "metadata": {},
   "source": [
    "Como ejemplo de lo anterior, fíjate en la siguiente función. Resuelve una ecuación de segundo grado $a x^2 + b x + c = 0$, dados sus coeficientes. Lo hace áplicando la fórmula siguiente:\n",
    "\n",
    "$$x = \\frac{-b \\pm \\sqrt{b^2 - 4 a c}}{2a}$$\n",
    "\n",
    "Pero no funciona si el radicando es negativo o si el coeficiente $a$ es nulo."
   ]
  },
  {
   "cell_type": "code",
   "execution_count": 9,
   "metadata": {},
   "outputs": [
    {
     "name": "stdout",
     "output_type": "stream",
     "text": [
      "3.0 2.0\n"
     ]
    }
   ],
   "source": [
    "def ec_2_grado(a, b, c):\n",
    "    \"\"\"\n",
    "    Función que calcula las soluciones de una ecuación cuadrática\n",
    "        a * x**2 + b * x + c = 0\n",
    "        \n",
    "    Parameters\n",
    "    ----------\n",
    "    a, b, c : float\n",
    "        coeficientes de la ecuación\n",
    "    \n",
    "    Returns\n",
    "    -------\n",
    "    (float, float)\n",
    "        Solutions of equation\n",
    "    \n",
    "    Precondition\n",
    "    ------------\n",
    "    a != 0 and b*b - 4*a*c >= 0\n",
    "    \n",
    "    Example\n",
    "    -------\n",
    "    >>> ec_2_grado(1, -5, 6)\n",
    "    (3.0, 2.0)\n",
    "    \"\"\"\n",
    "    disc = b*b - 4*a*c\n",
    "    sol1 = (-b + math.sqrt(disc)) / (2*a)\n",
    "    sol2 = (-b - math.sqrt(disc)) / (2*a)\n",
    "    return sol1, sol2\n",
    "\n",
    "a, b = ec_2_grado(1, -5, 6)\n",
    "print(a, b)"
   ]
  },
  {
   "cell_type": "markdown",
   "metadata": {},
   "source": [
    "¿Qué ocurrre a la función si los parámetros no cumplen la precondición?"
   ]
  },
  {
   "cell_type": "code",
   "execution_count": 10,
   "metadata": {},
   "outputs": [
    {
     "ename": "ValueError",
     "evalue": "math domain error",
     "output_type": "error",
     "traceback": [
      "\u001b[1;31m---------------------------------------------------------------------------\u001b[0m",
      "\u001b[1;31mValueError\u001b[0m                                Traceback (most recent call last)",
      "\u001b[1;32m<ipython-input-10-cc47d7b74a8a>\u001b[0m in \u001b[0;36m<module>\u001b[1;34m\u001b[0m\n\u001b[1;32m----> 1\u001b[1;33m \u001b[0ma\u001b[0m\u001b[1;33m,\u001b[0m \u001b[0mb\u001b[0m \u001b[1;33m=\u001b[0m \u001b[0mec_2_grado\u001b[0m\u001b[1;33m(\u001b[0m\u001b[1;36m1\u001b[0m\u001b[1;33m,\u001b[0m \u001b[1;36m1\u001b[0m\u001b[1;33m,\u001b[0m \u001b[1;36m4\u001b[0m\u001b[1;33m)\u001b[0m\u001b[1;33m\u001b[0m\u001b[1;33m\u001b[0m\u001b[0m\n\u001b[0m",
      "\u001b[1;32m<ipython-input-9-fbc1a19a6639>\u001b[0m in \u001b[0;36mec_2_grado\u001b[1;34m(a, b, c)\u001b[0m\n\u001b[0;32m     24\u001b[0m     \"\"\"\n\u001b[0;32m     25\u001b[0m     \u001b[0mdisc\u001b[0m \u001b[1;33m=\u001b[0m \u001b[0mb\u001b[0m\u001b[1;33m*\u001b[0m\u001b[0mb\u001b[0m \u001b[1;33m-\u001b[0m \u001b[1;36m4\u001b[0m\u001b[1;33m*\u001b[0m\u001b[0ma\u001b[0m\u001b[1;33m*\u001b[0m\u001b[0mc\u001b[0m\u001b[1;33m\u001b[0m\u001b[1;33m\u001b[0m\u001b[0m\n\u001b[1;32m---> 26\u001b[1;33m     \u001b[0msol1\u001b[0m \u001b[1;33m=\u001b[0m \u001b[1;33m(\u001b[0m\u001b[1;33m-\u001b[0m\u001b[0mb\u001b[0m \u001b[1;33m+\u001b[0m \u001b[0mmath\u001b[0m\u001b[1;33m.\u001b[0m\u001b[0msqrt\u001b[0m\u001b[1;33m(\u001b[0m\u001b[0mdisc\u001b[0m\u001b[1;33m)\u001b[0m\u001b[1;33m)\u001b[0m \u001b[1;33m/\u001b[0m \u001b[1;33m(\u001b[0m\u001b[1;36m2\u001b[0m\u001b[1;33m*\u001b[0m\u001b[0ma\u001b[0m\u001b[1;33m)\u001b[0m\u001b[1;33m\u001b[0m\u001b[1;33m\u001b[0m\u001b[0m\n\u001b[0m\u001b[0;32m     27\u001b[0m     \u001b[0msol2\u001b[0m \u001b[1;33m=\u001b[0m \u001b[1;33m(\u001b[0m\u001b[1;33m-\u001b[0m\u001b[0mb\u001b[0m \u001b[1;33m-\u001b[0m \u001b[0mmath\u001b[0m\u001b[1;33m.\u001b[0m\u001b[0msqrt\u001b[0m\u001b[1;33m(\u001b[0m\u001b[0mdisc\u001b[0m\u001b[1;33m)\u001b[0m\u001b[1;33m)\u001b[0m \u001b[1;33m/\u001b[0m \u001b[1;33m(\u001b[0m\u001b[1;36m2\u001b[0m\u001b[1;33m*\u001b[0m\u001b[0ma\u001b[0m\u001b[1;33m)\u001b[0m\u001b[1;33m\u001b[0m\u001b[1;33m\u001b[0m\u001b[0m\n\u001b[0;32m     28\u001b[0m     \u001b[1;32mreturn\u001b[0m \u001b[0msol1\u001b[0m\u001b[1;33m,\u001b[0m \u001b[0msol2\u001b[0m\u001b[1;33m\u001b[0m\u001b[1;33m\u001b[0m\u001b[0m\n",
      "\u001b[1;31mValueError\u001b[0m: math domain error"
     ]
    }
   ],
   "source": [
    "a, b = ec_2_grado(1, 1, 4)"
   ]
  },
  {
   "cell_type": "code",
   "execution_count": 11,
   "metadata": {},
   "outputs": [
    {
     "ename": "ZeroDivisionError",
     "evalue": "float division by zero",
     "output_type": "error",
     "traceback": [
      "\u001b[1;31m---------------------------------------------------------------------------\u001b[0m",
      "\u001b[1;31mZeroDivisionError\u001b[0m                         Traceback (most recent call last)",
      "\u001b[1;32m<ipython-input-11-4a6e2865daa0>\u001b[0m in \u001b[0;36m<module>\u001b[1;34m\u001b[0m\n\u001b[1;32m----> 1\u001b[1;33m \u001b[0ma\u001b[0m\u001b[1;33m,\u001b[0m \u001b[0mb\u001b[0m \u001b[1;33m=\u001b[0m \u001b[0mec_2_grado\u001b[0m\u001b[1;33m(\u001b[0m\u001b[1;36m0\u001b[0m\u001b[1;33m,\u001b[0m \u001b[1;36m4\u001b[0m\u001b[1;33m,\u001b[0m \u001b[1;36m1\u001b[0m\u001b[1;33m)\u001b[0m\u001b[1;33m\u001b[0m\u001b[1;33m\u001b[0m\u001b[0m\n\u001b[0m",
      "\u001b[1;32m<ipython-input-9-fbc1a19a6639>\u001b[0m in \u001b[0;36mec_2_grado\u001b[1;34m(a, b, c)\u001b[0m\n\u001b[0;32m     24\u001b[0m     \"\"\"\n\u001b[0;32m     25\u001b[0m     \u001b[0mdisc\u001b[0m \u001b[1;33m=\u001b[0m \u001b[0mb\u001b[0m\u001b[1;33m*\u001b[0m\u001b[0mb\u001b[0m \u001b[1;33m-\u001b[0m \u001b[1;36m4\u001b[0m\u001b[1;33m*\u001b[0m\u001b[0ma\u001b[0m\u001b[1;33m*\u001b[0m\u001b[0mc\u001b[0m\u001b[1;33m\u001b[0m\u001b[1;33m\u001b[0m\u001b[0m\n\u001b[1;32m---> 26\u001b[1;33m     \u001b[0msol1\u001b[0m \u001b[1;33m=\u001b[0m \u001b[1;33m(\u001b[0m\u001b[1;33m-\u001b[0m\u001b[0mb\u001b[0m \u001b[1;33m+\u001b[0m \u001b[0mmath\u001b[0m\u001b[1;33m.\u001b[0m\u001b[0msqrt\u001b[0m\u001b[1;33m(\u001b[0m\u001b[0mdisc\u001b[0m\u001b[1;33m)\u001b[0m\u001b[1;33m)\u001b[0m \u001b[1;33m/\u001b[0m \u001b[1;33m(\u001b[0m\u001b[1;36m2\u001b[0m\u001b[1;33m*\u001b[0m\u001b[0ma\u001b[0m\u001b[1;33m)\u001b[0m\u001b[1;33m\u001b[0m\u001b[1;33m\u001b[0m\u001b[0m\n\u001b[0m\u001b[0;32m     27\u001b[0m     \u001b[0msol2\u001b[0m \u001b[1;33m=\u001b[0m \u001b[1;33m(\u001b[0m\u001b[1;33m-\u001b[0m\u001b[0mb\u001b[0m \u001b[1;33m-\u001b[0m \u001b[0mmath\u001b[0m\u001b[1;33m.\u001b[0m\u001b[0msqrt\u001b[0m\u001b[1;33m(\u001b[0m\u001b[0mdisc\u001b[0m\u001b[1;33m)\u001b[0m\u001b[1;33m)\u001b[0m \u001b[1;33m/\u001b[0m \u001b[1;33m(\u001b[0m\u001b[1;36m2\u001b[0m\u001b[1;33m*\u001b[0m\u001b[0ma\u001b[0m\u001b[1;33m)\u001b[0m\u001b[1;33m\u001b[0m\u001b[1;33m\u001b[0m\u001b[0m\n\u001b[0;32m     28\u001b[0m     \u001b[1;32mreturn\u001b[0m \u001b[0msol1\u001b[0m\u001b[1;33m,\u001b[0m \u001b[0msol2\u001b[0m\u001b[1;33m\u001b[0m\u001b[1;33m\u001b[0m\u001b[0m\n",
      "\u001b[1;31mZeroDivisionError\u001b[0m: float division by zero"
     ]
    }
   ],
   "source": [
    "a, b = ec_2_grado(0, 4, 1)"
   ]
  },
  {
   "cell_type": "markdown",
   "metadata": {},
   "source": [
    "A lo mejor puedes, tú mismo, definir una nueva versión que da lensajes más adecuados, como los siguientes:\n",
    "\n",
    "    - El discriminante de la ecuación es negativo\n",
    "    - La ecuación no es de primer grado"
   ]
  },
  {
   "cell_type": "markdown",
   "metadata": {},
   "source": [
    "## Errores comunes"
   ]
  },
  {
   "cell_type": "markdown",
   "metadata": {},
   "source": [
    "Se nos olvida el ``return``"
   ]
  },
  {
   "cell_type": "code",
   "execution_count": 12,
   "metadata": {},
   "outputs": [],
   "source": [
    "def numero_triangular(n):\n",
    "    \"\"\"\n",
    "    This function computes the n-th triangular number\n",
    "    \n",
    "    Parameters\n",
    "    ----------\n",
    "    n : int\n",
    "    \n",
    "    Returns\n",
    "    -------\n",
    "    int\n",
    "    \n",
    "    Precondition\n",
    "    ------------\n",
    "    n > 0\n",
    "    \"\"\"\n",
    "    ntriag = (n * (n +1)) // 2"
   ]
  },
  {
   "cell_type": "code",
   "execution_count": 13,
   "metadata": {},
   "outputs": [
    {
     "name": "stdout",
     "output_type": "stream",
     "text": [
      "None\n"
     ]
    }
   ],
   "source": [
    "n = numero_triangular(5)\n",
    "print(n)"
   ]
  },
  {
   "cell_type": "markdown",
   "metadata": {},
   "source": [
    "La función devuelve el valor ``None`` (un valor *vacío*)."
   ]
  },
  {
   "cell_type": "markdown",
   "metadata": {},
   "source": [
    "La función siguiente opera correctamente gracias a los redondeos, necesarios para limar los errores de precisión en los cálculos de las raíces."
   ]
  },
  {
   "cell_type": "code",
   "execution_count": 14,
   "metadata": {},
   "outputs": [
    {
     "data": {
      "text/plain": [
       "(1, 1, 2, 3, 5, 8)"
      ]
     },
     "execution_count": 14,
     "metadata": {},
     "output_type": "execute_result"
    }
   ],
   "source": [
    "def fibonacci(n):\n",
    "    \"\"\"\n",
    "    This function returns the n-th Fibonacci number\n",
    "    \n",
    "    Parameters \n",
    "    ----------\n",
    "    n : int\n",
    "        n-th Fibonacci number\n",
    "    \n",
    "    Returns\n",
    "    -------\n",
    "    int\n",
    "    \n",
    "    Precondition\n",
    "    ------------\n",
    "    n > 0\n",
    "    \n",
    "    Example\n",
    "    -------\n",
    "    >>> fibonacci(5)\n",
    "    5\n",
    "    \"\"\"\n",
    "    phi = (1 + math.sqrt(5)) / 2\n",
    "    psi = (1 - math.sqrt(5)) / 2\n",
    "    # do not forget the int(...) and round functions, otherwise it will be a real number.\n",
    "    return int(round( (phi**n - psi**n) / math.sqrt(5) )) \n",
    "\n",
    "fibonacci(1), fibonacci(2), fibonacci(3), fibonacci(4), fibonacci(5), fibonacci(6)"
   ]
  },
  {
   "cell_type": "markdown",
   "metadata": {},
   "source": [
    "## Referencias\n",
    "Siguiendo con las referencias de w3schools, damos seguidamente el enlace sobre las funciones:\n",
    "\n",
    "https://www.w3schools.com/python/python_functions.asp"
   ]
  }
 ],
 "metadata": {
  "kernelspec": {
   "display_name": "Python 3",
   "language": "python",
   "name": "python3"
  },
  "language_info": {
   "codemirror_mode": {
    "name": "ipython",
    "version": 3
   },
   "file_extension": ".py",
   "mimetype": "text/x-python",
   "name": "python",
   "nbconvert_exporter": "python",
   "pygments_lexer": "ipython3",
   "version": "3.7.3"
  }
 },
 "nbformat": 4,
 "nbformat_minor": 1
}
