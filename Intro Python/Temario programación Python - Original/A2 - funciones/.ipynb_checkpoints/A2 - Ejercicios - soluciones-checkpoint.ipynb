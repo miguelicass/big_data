{
 "cells": [
  {
   "cell_type": "markdown",
   "metadata": {},
   "source": [
    "# Funciones. Ejercicios y soluciones\n",
    "\n",
    "<hr>"
   ]
  },
  {
   "cell_type": "markdown",
   "metadata": {},
   "source": [
    "### Ejercicio 1. Reescribir como funciones\n",
    "\n",
    "Reescribe los ejercicios del capítulo de “Tipos básicos” usando funciones. En cada caso, distingue entre funciones (devuelven un resultado) y procedimientos (realizan instrucciones). Documenta adecuadamente cada función."
   ]
  },
  {
   "cell_type": "code",
   "execution_count": 1,
   "metadata": {},
   "outputs": [
    {
     "name": "stdout",
     "output_type": "stream",
     "text": [
      "21 4 3\n"
     ]
    }
   ],
   "source": [
    "def cambio_de_moneda(dinero):\n",
    "    mon_25 = dinero // 25\n",
    "    resto_25 = dinero % 25\n",
    "    mon_5 = resto_25 // 5\n",
    "    mon_1 = resto_25 % 5\n",
    "    return mon_25, mon_5, mon_1\n",
    "\n",
    "dinero = 548\n",
    "mon_25, mon_5, mon_1 = cambio_de_moneda(dinero)\n",
    "print(mon_25, mon_5, mon_1)"
   ]
  },
  {
   "cell_type": "markdown",
   "metadata": {},
   "source": [
    "b. Completa un programa que pida una cierta cantidad de dinero y dé una salida\n",
    "adecuada:\n",
    "\n",
    "        Dame la cantidad de dinero que deseas cambiar: 537\n",
    "        \n",
    "            Desglose de 537 U:\n",
    "            21 monedas de 25 U\n",
    "            2 monedas de 5 U\n",
    "            1 monedas de 1 U"
   ]
  },
  {
   "cell_type": "code",
   "execution_count": 2,
   "metadata": {},
   "outputs": [
    {
     "name": "stdout",
     "output_type": "stream",
     "text": [
      "Dame la cantidad de dinero que deseas cambiar: 159\n",
      "Desglose de 159 U:\n",
      "6 monedas de 25 U\n",
      "1 monedas de 5 U\n",
      "4 monedas de 1 U\n"
     ]
    }
   ],
   "source": [
    "# Cambio de moneda:\n",
    "\n",
    "def cambio_de_moneda(dinero):\n",
    "    mon_25 = dinero // 25\n",
    "    resto_25 = dinero % 25\n",
    "    mon_5 = resto_25 // 5\n",
    "    mon_1 = resto_25 % 5\n",
    "    return mon_25, mon_5, mon_1\n",
    "\n",
    "def mostrar_cambio_de_moneda(dinero, mon_25, mon_5, mon_1):\n",
    "    print(\"Desglose de\", dinero, \"U:\")\n",
    "    print(mon_25, \"monedas de 25 U\")\n",
    "    print(mon_5, \"monedas de 5 U\")\n",
    "    print(mon_1, \"monedas de 1 U\")\n",
    "\n",
    "def main():\n",
    "    entrada = input(\"Dame la cantidad de dinero que deseas cambiar: \")\n",
    "    dinero = int(entrada)\n",
    "    mon_25, mon_5, mon_1 = cambio_de_moneda(dinero)\n",
    "    mostrar_cambio_de_moneda(dinero, mon_25, mon_5, mon_1)\n",
    "\n",
    "    \n",
    "main()"
   ]
  },
  {
   "cell_type": "code",
   "execution_count": 3,
   "metadata": {},
   "outputs": [
    {
     "name": "stdout",
     "output_type": "stream",
     "text": [
      "Blacky Blacky\n"
     ]
    }
   ],
   "source": [
    "# Poner en mayúscilas un nombre:\n",
    "\n",
    "def primera_mayuscula(nombre):\n",
    "    return nombre[0].upper() + nombre[1:].lower() \n",
    "\n",
    "print(primera_mayuscula(\"blacky\"), primera_mayuscula(\"BLACKY\"))"
   ]
  },
  {
   "cell_type": "markdown",
   "metadata": {},
   "source": [
    "### Ecuación de segundo grado con raíces reales\n",
    "\n",
    "Si tenemos los coeficientes $(a, b, c)$ de una ecuación de segundo grado y sabemos que tiene dos raíces reales, expresa instrucciones para calcular dichas fórmulas."
   ]
  },
  {
   "cell_type": "code",
   "execution_count": 4,
   "metadata": {},
   "outputs": [
    {
     "name": "stdout",
     "output_type": "stream",
     "text": [
      "(3.0, 2.0)\n"
     ]
    }
   ],
   "source": [
    "import math\n",
    "\n",
    "def solve_real_roots(a, b, c):\n",
    "    discriminante = b**2 - 4*a*c\n",
    "    sol1 = (-b + math.sqrt(discriminante)) / (2*a)\n",
    "    sol2 = (-b - math.sqrt(discriminante)) / (2*a)\n",
    "    return sol1, sol2\n",
    "\n",
    "print(solve_real_roots(2, -10, 12))"
   ]
  },
  {
   "cell_type": "markdown",
   "metadata": {},
   "source": [
    "### Ecuación de segundo grado con raíces complejas\n",
    "\n",
    "Ídem., si sabemos que tiene dos raíces complejas."
   ]
  },
  {
   "cell_type": "code",
   "execution_count": 5,
   "metadata": {},
   "outputs": [
    {
     "name": "stdout",
     "output_type": "stream",
     "text": [
      "((-1+2j), (-1-2j))\n"
     ]
    }
   ],
   "source": [
    "import cmath\n",
    "\n",
    "def solve_complex_roots(a, b, c):\n",
    "    discriminante = b**2 - 4*a*c\n",
    "    sol1 = (-b + cmath.sqrt(discriminante)) / (2*a)\n",
    "    sol2 = (-b - cmath.sqrt(discriminante)) / (2*a)\n",
    "    return sol1, sol2\n",
    "\n",
    "print(solve_complex_roots(1, 2, 5))"
   ]
  },
  {
   "cell_type": "markdown",
   "metadata": {},
   "source": [
    "### Mínimo y máximo\n",
    "\n",
    "Diseña una función que calcule el mínimo y el máximo de dos reales dados. Observa que, para este ejercicio, a lo mejor necesitas usar una expresión condicional, o una instrucción condicional. Seguro que sabes apañártelas aunque aún no se haya explicado esto, y seguro que sabes hacerlo con ambas posibilidades :-)."
   ]
  },
  {
   "cell_type": "code",
   "execution_count": 6,
   "metadata": {},
   "outputs": [
    {
     "name": "stdout",
     "output_type": "stream",
     "text": [
      "(7, 8)\n",
      "(7, 8)\n",
      "(7, 8)\n",
      "(7, 8)\n"
     ]
    }
   ],
   "source": [
    "# Con una expresión condicional\n",
    "\n",
    "def min_max(a, b):\n",
    "    return (a, b) if a <= b else (b, a)\n",
    "\n",
    "print(min_max(7, 8))\n",
    "print(min_max(8, 7))\n",
    "\n",
    "# Con una instrucción condicional (que no  hemos visto aún):\n",
    "\n",
    "def min_max(a, b):\n",
    "    if a <= b:\n",
    "        return (a, b) \n",
    "    else:\n",
    "        return (b, a)\n",
    "\n",
    "print(min_max(7, 8))\n",
    "print(min_max(8, 7)) "
   ]
  },
  {
   "cell_type": "markdown",
   "metadata": {},
   "source": [
    "### Sucesiones\n",
    "\n",
    "Estudia las siguientes sucesiones y escribe una expresión que calcule el término general:"
   ]
  },
  {
   "cell_type": "code",
   "execution_count": 7,
   "metadata": {},
   "outputs": [
    {
     "name": "stdout",
     "output_type": "stream",
     "text": [
      "a)  [1, 3, 5, 7, 9]\n",
      "b)  [3, 8, 15, 24, 35]\n",
      "c)  [1, -1, 1, -1, 1]\n",
      "d)  [1, 1, 2, 3, 5]\n",
      "e)  [1, 2, 3, 4, 1]\n",
      "f)  [1, 2, 4, 8, 16]\n"
     ]
    }
   ],
   "source": [
    "# a) 1, 3, 5, 7, 9, …\n",
    "\n",
    "def a(n):\n",
    "    return 2*n-1\n",
    "\n",
    "print(\"a) \", [a(i) for i in range(1, 6)])\n",
    "\n",
    "# b) 3, 8, 15, 24, …\n",
    "\n",
    "def b(n):\n",
    "    return (n+1)**2 - 1\n",
    "\n",
    "print(\"b) \", [b(i) for i in range(1, 6)])\n",
    "\n",
    "# c) 1, -1, 1, -1, …\n",
    "\n",
    "def c(n):\n",
    "    return 1 if n%2 != 0 else -1\n",
    "\n",
    "print(\"c) \", [c(i) for i in range(1, 6)])\n",
    "\n",
    "# d) 1, 1, 2, 3, 5, 8, …\n",
    "\n",
    "def d(n):\n",
    "    if n <=2:\n",
    "        return 1\n",
    "    else:\n",
    "        return d(n-1) + d(n-2)\n",
    "\n",
    "print(\"d) \", [d(i) for i in range(1, 6)])\n",
    "\n",
    "# e) 1, 2, 3, 4, 1, 2, 3, 4, 1, 2, 3, 4…\n",
    "\n",
    "def e(n):\n",
    "    return (n-1) % 4 + 1\n",
    "\n",
    "print(\"e) \", [e(i) for i in range(1, 6)])\n",
    "\n",
    "# f) 1, 2, 4, 8, 16, 32, 64, …\n",
    "\n",
    "def f(n):\n",
    "    return 2**(n-1)\n",
    "\n",
    "print(\"f) \", [f(i) for i in range(1, 6)])"
   ]
  },
  {
   "cell_type": "markdown",
   "metadata": {},
   "source": [
    "### Moneda cargada\n",
    "\n",
    "Una moneda (cargada) cae de cara con una probabilidad de 0.7. Diseña una función aleatoria que lance dicha moneda, y responda “cara” o “cruz” con arreglo a las probabilidades dadas."
   ]
  },
  {
   "cell_type": "code",
   "execution_count": 8,
   "metadata": {},
   "outputs": [
    {
     "name": "stdout",
     "output_type": "stream",
     "text": [
      "Cruz\n",
      "Cruz\n",
      "Cara\n",
      "Cara\n",
      "Cara\n",
      "Cara\n",
      "Cara\n",
      "Cara\n",
      "Cara\n",
      "Cruz\n"
     ]
    }
   ],
   "source": [
    "import random\n",
    "\n",
    "def lanza_moneda():\n",
    "    p = random.random()\n",
    "    if p < 0.7:\n",
    "        return \"Cara\"\n",
    "    else:\n",
    "        return \"Cruz\"\n",
    "\n",
    "for i in range(10):\n",
    "    print(lanza_moneda())"
   ]
  },
  {
   "cell_type": "code",
   "execution_count": 9,
   "metadata": {},
   "outputs": [
    {
     "name": "stdout",
     "output_type": "stream",
     "text": [
      "['Cruz']\n",
      "['Cara']\n",
      "['Cruz']\n",
      "['Cara']\n",
      "['Cara']\n",
      "['Cara']\n",
      "['Cara']\n",
      "['Cruz']\n",
      "['Cara']\n",
      "['Cruz']\n"
     ]
    }
   ],
   "source": [
    "#Otra solución:\n",
    "\n",
    "def lanza_moneda():\n",
    "    return random.choices([\"Cara\", \"Cruz\"], [0.7, 0.3])\n",
    "\n",
    "for i in range(10):\n",
    "    print(lanza_moneda())"
   ]
  },
  {
   "cell_type": "markdown",
   "metadata": {},
   "source": [
    "### Sustitución de un string\n",
    "\n",
    "Dado un string, deseamos cambiar sus vocales por un carácter punto, “.”\n",
    "\n",
    "Ejemplo:\n",
    "\n",
    "        'Tengo que decir que esto es sencillo.'\n",
    "        ->\n",
    "        'T.ng. q.. d.c.r q.. .st. .s s.nc.ll..'\n",
    "\n",
    "Piezas útiles. Te doy algunas pistas. A ver si sabes buscar tú solo en Internet la información que necesites.\n",
    "\n",
    "<ol>\n",
    "    <li> Predicado que dice si un carácter es una vocal (minúscula o mayúscula).</li>\n",
    "    <li> Función que convierte un carácter en “.” si es vocal, o lo deja igual.</li>\n",
    "    <li> Lista que hace lo dicho con todos los caracteres de una lista. (Para una cadena de caracteres, list(cadena).</li>\n",
    "    <li> Se puede unir todos los caracteres de una lista para formar un string, con un bucle o con la función “join”, que une una lista de cadenas de caracteres con el separador dado inicialmente:\n",
    "        \n",
    "        >>> \"-\".join(['ae', 'i', 'o', 'u'])\n",
    "        'ae-i-o-u'\n",
    "</li>\n",
    "        \n",
    "<li> Luego está la notación de listas por comprensión:\n",
    "\n",
    "        lista_de_letras =  [\".\" if …………… else c for c in …]\n",
    "        resultado =  …………… lista_de_letras ……………\n",
    "\n",
    "</li>"
   ]
  },
  {
   "cell_type": "code",
   "execution_count": 10,
   "metadata": {},
   "outputs": [
    {
     "name": "stdout",
     "output_type": "stream",
     "text": [
      "T.ng. q.. d.c.r q.. .st. .s s.nc.ll..\n"
     ]
    }
   ],
   "source": [
    "frase = 'Tengo que decir que esto es sencillo.'\n",
    "lista_de_letras =  [\".\" if c.lower() in \"aeiou\" else c for c in frase]\n",
    "solucion = \"\".join(lista_de_letras)\n",
    "print(solucion)"
   ]
  },
  {
   "cell_type": "markdown",
   "metadata": {},
   "source": [
    "### Documentación\n",
    "\n",
    "Las funciones diseñadas en las soluciones precedentes se presentan sin documentación, y esta práctica es habitual, para abreviar, provisionalmente. Pero una solución no se considera terminada mientras no incluya la documentación completa. Por ello, damos seguidamente soluciones documentadas."
   ]
  },
  {
   "cell_type": "code",
   "execution_count": 11,
   "metadata": {},
   "outputs": [
    {
     "name": "stdout",
     "output_type": "stream",
     "text": [
      "(9, 2, 3)\n"
     ]
    }
   ],
   "source": [
    "def cambio_de_moneda(dinero):\n",
    "    \"\"\"\n",
    "    Función que desglosa una cantidad de dinero en el cambio\n",
    "    óptimo, en monedas de 15, 5 y 1 Unidades respectivamente\n",
    "    \n",
    "    Parameters\n",
    "    ----------\n",
    "    dinero : int\n",
    "        Cantidad de dinero que se desea cambiar\n",
    "        \n",
    "    Return\n",
    "    ------\n",
    "    int, int, int\n",
    "        Cantidad de monedas de 25, 5 y 1 U\n",
    "        que equivalen a la cantidad dada, dinero,\n",
    "        suponiendo un cambio óptimo\n",
    "    \n",
    "    Example\n",
    "    -------\n",
    "    >>> cambio_de_moneda(638)\n",
    "    (25, 2, 3)\n",
    "    \"\"\"\n",
    "    mon_25 = dinero // 25\n",
    "    resto_25 = dinero % 25\n",
    "    mon_5 = resto_25 // 5\n",
    "    mon_1 = resto_25 % 5\n",
    "    return mon_25, mon_5, mon_1\n",
    "\n",
    "print(cambio_de_moneda(238))"
   ]
  },
  {
   "cell_type": "markdown",
   "metadata": {},
   "source": [
    "He aquí otra solución correctamente documentada:"
   ]
  },
  {
   "cell_type": "code",
   "execution_count": 12,
   "metadata": {},
   "outputs": [
    {
     "name": "stdout",
     "output_type": "stream",
     "text": [
      "(3.0, 2.0)\n"
     ]
    }
   ],
   "source": [
    "import math\n",
    "\n",
    "def solve_real_roots(a, b, c):\n",
    "    \"\"\"\n",
    "    Función que calcula las raíces de una ecuación de segundo grado,\n",
    "    supuesto que dicha ecuación tiene dos raíces son reales.\n",
    "    \n",
    "    Parameters\n",
    "    ----------\n",
    "    a, b, c: float, float, float\n",
    "        Coeficientes de la ecuación:\n",
    "        $a x^2 + b x + c = 0$\n",
    "\n",
    "    Precondition\n",
    "    ------------\n",
    "    a != 0 and b^2 - 4 a c >= 0\n",
    "    \n",
    "    Return\n",
    "    ------\n",
    "    float, float\n",
    "        Las dos soluciones de la ecuación dada\n",
    "    \n",
    "    Example\n",
    "    -------\n",
    "    >>> print(solve_real_roots(2, -10, 12))\n",
    "    (3.0, 2.0)\n",
    "    \"\"\"\n",
    "    discriminante = b**2 - 4*a*c\n",
    "    sol1 = (-b + math.sqrt(discriminante)) / (2*a)\n",
    "    sol2 = (-b - math.sqrt(discriminante)) / (2*a)\n",
    "    return sol1, sol2\n",
    "\n",
    "print(solve_real_roots(2, -10, 12))"
   ]
  }
 ],
 "metadata": {
  "kernelspec": {
   "display_name": "Python 3",
   "language": "python",
   "name": "python3"
  },
  "language_info": {
   "codemirror_mode": {
    "name": "ipython",
    "version": 3
   },
   "file_extension": ".py",
   "mimetype": "text/x-python",
   "name": "python",
   "nbconvert_exporter": "python",
   "pygments_lexer": "ipython3",
   "version": "3.7.3"
  }
 },
 "nbformat": 4,
 "nbformat_minor": 2
}
