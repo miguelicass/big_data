{
 "cells": [
  {
   "cell_type": "markdown",
   "metadata": {},
   "source": [
    "# Introducción al uso de archivos\n",
    "\n",
    "<hr>\n",
    "\n",
    "En nuestros programas, estamos acostumbrados a utilizar un gran número de datos, tanto como datos de entrada como datos de salida. \n",
    "\n",
    "Es sencillo manejar los datos de manera interactiva, pero cuando tenemos una gran cantidad de datos, esto puede resultar  incómodo. Podemos leer y almacenar los datos de manera permanente, utilizando **archivos**, normalmente almacenados en el disco duro del ordenador, o en un pen-drive."
   ]
  },
  {
   "cell_type": "markdown",
   "metadata": {},
   "source": [
    "## Lectura de archivos\n",
    "\n",
    "La instrucción `open` abre un archivo, y con la etiqueta `r` se abre para lectura:"
   ]
  },
  {
   "cell_type": "code",
   "execution_count": 1,
   "metadata": {
    "scrolled": true
   },
   "outputs": [
    {
     "name": "stdout",
     "output_type": "stream",
     "text": [
      "Con diez cañones por banda,\n",
      "\n",
      "viento en popa a toda vela,\n",
      "\n",
      "no corta el mar, sino vuela,\n",
      "\n",
      "un velero bergantín.\n",
      "\n"
     ]
    }
   ],
   "source": [
    "f = open('texto.txt','r')\n",
    "for linea in f:\n",
    "    print(linea)\n",
    "f.close()"
   ]
  },
  {
   "cell_type": "markdown",
   "metadata": {},
   "source": [
    "**Observaciones**:\n",
    "\n",
    "En el ejemplo anterior, asumimos que del programa que contiene la instrucción `open` se encuentra en una carpeta que también contiene el archivo `texto.txt`.\n",
    "\n",
    "También, es importante cerrar un archivo cuando termina su uso.\n",
    "\n",
    "Observamos que un archivo se comporta de una manera similar a una lista, y por eso lo hemos recorrido con la instrucción `for`.\n",
    "\n",
    "Finalmente, vemos que el resultado emite dos fines de línea por cada línea: uno porque cada línea de ese archivo ya contiene su propio fin de línea. Y otro añadido por cada ejecución de la instrucción *print*. Esto se puede evitar de dos maneras:"
   ]
  },
  {
   "cell_type": "code",
   "execution_count": 2,
   "metadata": {},
   "outputs": [
    {
     "name": "stdout",
     "output_type": "stream",
     "text": [
      "Con diez cañones por banda,\n",
      "viento en popa a toda vela,\n",
      "no corta el mar, sino vuela,\n",
      "un velero bergantín.\n",
      "-----------------------------\n",
      "Con diez cañones por banda,\n",
      "viento en popa a toda vela,\n",
      "no corta el mar, sino vuela,\n",
      "un velero bergantín.\n",
      "-----------------------------\n",
      "Con diez cañones por banda,viento en popa a toda vela,no corta el mar, sino vuela,un velero bergantín."
     ]
    }
   ],
   "source": [
    "f = open('texto.txt','r')\n",
    "for linea in f:\n",
    "    print(linea.strip())\n",
    "f.close()\n",
    "    \n",
    "print(\"-----------------------------\")\n",
    "\n",
    "f = open('texto.txt','r')\n",
    "for linea in f:\n",
    "    print(linea, end=\"\")\n",
    "f.close()\n",
    "\n",
    "print(\"-----------------------------\")\n",
    "\n",
    "f = open('texto.txt','r')\n",
    "for linea in f:\n",
    "    print(linea.strip(), end=\"\")\n",
    "f.close()"
   ]
  },
  {
   "cell_type": "markdown",
   "metadata": {
    "collapsed": true
   },
   "source": [
    "La expresión `readline()` permite leer un archivo línea a línea:"
   ]
  },
  {
   "cell_type": "code",
   "execution_count": 3,
   "metadata": {},
   "outputs": [
    {
     "name": "stdout",
     "output_type": "stream",
     "text": [
      "Con diez cañones por banda,\n",
      "\n",
      "viento en popa a toda vela,\n",
      "\n",
      "-------------------------\n",
      "1  -  no corta el mar, sino vuela,\n",
      "\n",
      "2  -  un velero bergantín.\n",
      "\n"
     ]
    }
   ],
   "source": [
    "f = open('texto.txt','r')\n",
    "a = f.readline()\n",
    "print(a)\n",
    "a = f.readline()\n",
    "print(a)\n",
    "\n",
    "print(\"-------------------------\")\n",
    "\n",
    "linea = f.readline()\n",
    "i = 1\n",
    "while linea != '':\n",
    "    print(i, \" - \", linea)\n",
    "    linea = f.readline()\n",
    "    i += 1\n",
    "f.close()"
   ]
  },
  {
   "cell_type": "markdown",
   "metadata": {},
   "source": [
    "¿Por qué, en el segundo ejemplo, se empieza por la tercera línea, y no por la primera? La respuesta está en la instrucción `close`.\n",
    "\n",
    "Decíamos antes que un archivo se comporta un poco como una lista. De hecho, podemos leerlo todo a un tiempo en una lista utilizando `readlines()`:"
   ]
  },
  {
   "cell_type": "code",
   "execution_count": 4,
   "metadata": {},
   "outputs": [
    {
     "name": "stdout",
     "output_type": "stream",
     "text": [
      "<class 'list'> 4\n",
      "['Con diez cañones por banda,\\n', 'viento en popa a toda vela,\\n', 'no corta el mar, sino vuela,\\n', 'un velero bergantín.\\n']\n"
     ]
    }
   ],
   "source": [
    "f = open('texto.txt', 'r')\n",
    "lista = f.readlines()\n",
    "print(type(lista), len(lista))\n",
    "print(lista)\n",
    "f.close()"
   ]
  },
  {
   "cell_type": "code",
   "execution_count": 5,
   "metadata": {},
   "outputs": [
    {
     "name": "stdout",
     "output_type": "stream",
     "text": [
      "no corta el mar, sino vuela,\n"
     ]
    }
   ],
   "source": [
    "print(lista[2].strip())"
   ]
  },
  {
   "cell_type": "markdown",
   "metadata": {},
   "source": [
    "## Datos numéricos y más, en un archivo\n",
    "\n",
    "Un archivo puede contener datos de cualquier tipo, por ejemplo números, pero inicialmente cada línea es considerada como una **cadena de caracteres**.\n",
    "\n",
    "Como antes, asumimos que existe un fichero `numeros.txt` en el mismo directorio en el que se ejecuta el programa. "
   ]
  },
  {
   "cell_type": "code",
   "execution_count": 6,
   "metadata": {},
   "outputs": [
    {
     "name": "stdout",
     "output_type": "stream",
     "text": [
      "['1\\n', '2\\n', '3\\n', '4\\n', '5\\n']\n"
     ]
    }
   ],
   "source": [
    "g = open('numeros.txt','r')\n",
    "lista = g.readlines()\n",
    "print(lista)\n",
    "g.close()"
   ]
  },
  {
   "cell_type": "markdown",
   "metadata": {},
   "source": [
    "Si queremos recuperar los números como tales, tenemos que convertirlos en enteros:"
   ]
  },
  {
   "cell_type": "code",
   "execution_count": 7,
   "metadata": {},
   "outputs": [
    {
     "data": {
      "text/plain": [
       "[1, 2, 3, 4, 5]"
      ]
     },
     "execution_count": 7,
     "metadata": {},
     "output_type": "execute_result"
    }
   ],
   "source": [
    "lista_num = []\n",
    "for cad in lista:\n",
    "    lista_num.append(int(cad.strip()))\n",
    "lista_num  "
   ]
  },
  {
   "cell_type": "markdown",
   "metadata": {},
   "source": [
    "Es habitual que los ficheros con números haya más de un número por fila, o datos de distinto tipo: "
   ]
  },
  {
   "cell_type": "code",
   "execution_count": 8,
   "metadata": {},
   "outputs": [
    {
     "name": "stdout",
     "output_type": "stream",
     "text": [
      "Fernando 75 1.90 Pozuelo\n",
      "\n",
      "['Fernando', '75', '1.90', 'Pozuelo']\n",
      "{'Fernando': {'peso': 75, 'altura': 1.9, 'dirección': 'Pozuelo'}}\n"
     ]
    }
   ],
   "source": [
    "f = open(\"agenda.txt\", \"r\")\n",
    "linea = f.readline()\n",
    "print(linea)\n",
    "elementos = linea.split()\n",
    "print(elementos)\n",
    "agenda = {elementos[0]: {\n",
    "    \"peso\": int(elementos[1]), \n",
    "    \"altura\": float(elementos[2]), \n",
    "    \"dirección\": elementos[3], \n",
    "    }\n",
    "}\n",
    "print(agenda)\n",
    "f.close()"
   ]
  },
  {
   "cell_type": "markdown",
   "metadata": {},
   "source": [
    "Lo normal es leer todos los datos de un archivo de una vez:"
   ]
  },
  {
   "cell_type": "code",
   "execution_count": 9,
   "metadata": {},
   "outputs": [
    {
     "name": "stdout",
     "output_type": "stream",
     "text": [
      "{'Fernando': {'peso': 75, 'altura': 1.9, 'dirección': 'Pozuelo'}, 'Elena': {'peso': 70, 'altura': 1.7, 'dirección': 'Colón'}}\n"
     ]
    }
   ],
   "source": [
    "f = open(\"agenda.txt\", \"r\")\n",
    "agenda = dict()\n",
    "for linea in f:\n",
    "    elementos = linea.split()\n",
    "    agenda [elementos[0]] = {\n",
    "        \"peso\": int(elementos[1]), \n",
    "        \"altura\": float(elementos[2]), \n",
    "        \"dirección\": elementos[3], \n",
    "    }\n",
    "print(agenda)\n",
    "f.close()"
   ]
  },
  {
   "cell_type": "markdown",
   "metadata": {},
   "source": [
    "Para datos más complejps, podríamos desear usar un separador distinto del espacio:\n",
    "\n",
    "    Fernando # 75 # 1.90 # carretera de Húmera, Pozuelo        # 28223\n",
    "    Elena    # 70 # 1.70 # calle Bárbara de Braganza, Madrid   # 28004\n",
    "\n",
    "Prueba tú con las funciones `split(\"#\")`, o con `split(\" # \")` y las funciones `strip`, `rstrip` y `lstrip`, que toman otras cadenas de caracteres como separador y que limpian de espacios y otras cosas el inicio y final de una cadena de caracteres. "
   ]
  },
  {
   "cell_type": "markdown",
   "metadata": {},
   "source": [
    "### Nota: `map` y listas intensionales\n",
    "\n",
    "Cuando todos los datos de un archivo son del mismo tipo, es adecuado tratarlos genéricamente, mediante el uso de la función `map` o de la notación de listas intensionales:"
   ]
  },
  {
   "cell_type": "code",
   "execution_count": 10,
   "metadata": {},
   "outputs": [
    {
     "name": "stdout",
     "output_type": "stream",
     "text": [
      "[1, 2, 3, 4, 5]\n"
     ]
    }
   ],
   "source": [
    "# Uso de la función `map`:   \n",
    "\n",
    "lista_cadenas = ['1\\n', '2\\n', '3\\n', '4\\n', '5\\n']\n",
    "lista_num = list(map(int, lista_cadenas))\n",
    "print(lista_num)"
   ]
  },
  {
   "cell_type": "code",
   "execution_count": 11,
   "metadata": {},
   "outputs": [
    {
     "name": "stdout",
     "output_type": "stream",
     "text": [
      "[1, 2, 3, 4, 5]\n"
     ]
    }
   ],
   "source": [
    "# Listas intensionales:   \n",
    "\n",
    "lista_cadenas = ['1\\n', '2\\n', '3\\n', '4\\n', '5\\n']\n",
    "lista_num = [int(cad) for cad in lista_cadenas]\n",
    "print(lista_num)"
   ]
  },
  {
   "cell_type": "markdown",
   "metadata": {},
   "source": [
    "## Escritura de archivos"
   ]
  },
  {
   "cell_type": "markdown",
   "metadata": {},
   "source": [
    "También podemos guardar datos en un archivo:"
   ]
  },
  {
   "cell_type": "code",
   "execution_count": 12,
   "metadata": {},
   "outputs": [],
   "source": [
    "f = open('mi_texto.txt','w')\n",
    "f.write('Con cien cañones por banda\\n')\n",
    "f.write('Viento en popa a toda vela...\\n')\n",
    "f.close()"
   ]
  },
  {
   "cell_type": "markdown",
   "metadata": {},
   "source": [
    "**Observaciones**:\n",
    "\n",
    "Al abrir un archivo para escribir pueden ocurrir dos cosas:\n",
    "\n",
    "+    Si el archivo existía pierde su contenido anterior.\n",
    "+    Si el archivo no existía se crea con el contenido que le demos.\n",
    "\n",
    "Por supuesto podemos crear un archivo para guardar números... pero como cadenas!"
   ]
  },
  {
   "cell_type": "code",
   "execution_count": 13,
   "metadata": {},
   "outputs": [],
   "source": [
    "l = range(50)\n",
    "h = open('lista_numeros.txt','w')\n",
    "for x in l:\n",
    "    h.write('{0}\\n'.format(x))\n",
    "h.close()"
   ]
  },
  {
   "cell_type": "markdown",
   "metadata": {},
   "source": [
    "## Apéndice 1. Funciones y métodos específicos para listas y cadenas\n",
    "\n",
    "Repasamos seguidamente algunas funciones y métodos para manejar listas y cadenas."
   ]
  },
  {
   "cell_type": "markdown",
   "metadata": {},
   "source": [
    "**strip**: es un método de las cadenas que devuelve una copia sin *blancos* (espacios, tabuladores o saltos de línea) delante o detrás. \n"
   ]
  },
  {
   "cell_type": "code",
   "execution_count": 14,
   "metadata": {},
   "outputs": [
    {
     "data": {
      "text/plain": [
       "'  hola   \\n'"
      ]
     },
     "execution_count": 14,
     "metadata": {},
     "output_type": "execute_result"
    }
   ],
   "source": [
    "a = '  hola   ' + '\\n'\n",
    "a"
   ]
  },
  {
   "cell_type": "code",
   "execution_count": 15,
   "metadata": {},
   "outputs": [
    {
     "data": {
      "text/plain": [
       "'hola'"
      ]
     },
     "execution_count": 15,
     "metadata": {},
     "output_type": "execute_result"
    }
   ],
   "source": [
    "a.strip()"
   ]
  },
  {
   "cell_type": "markdown",
   "metadata": {},
   "source": [
    "**split (partir)**: es un método de las cadenas que *divide* una cadena de caracteres en trozos y devuelve una lista que contiene los trozos. Si no se indica un separador, se asume que los trozos están separados por espacios en blanco. \n"
   ]
  },
  {
   "cell_type": "code",
   "execution_count": 16,
   "metadata": {},
   "outputs": [
    {
     "data": {
      "text/plain": [
       "['maneras', 'de', 'vivir']"
      ]
     },
     "execution_count": 16,
     "metadata": {},
     "output_type": "execute_result"
    }
   ],
   "source": [
    "a = 'maneras de vivir'\n",
    "l = a.split()\n",
    "l"
   ]
  },
  {
   "cell_type": "code",
   "execution_count": 17,
   "metadata": {},
   "outputs": [
    {
     "data": {
      "text/plain": [
       "['maneras', 'de', 'vivir']"
      ]
     },
     "execution_count": 17,
     "metadata": {},
     "output_type": "execute_result"
    }
   ],
   "source": [
    "b = 'maneras.de.vivir'\n",
    "l2 = b.split('.')\n",
    "l2"
   ]
  },
  {
   "cell_type": "markdown",
   "metadata": {},
   "source": [
    "**join (unir)**: es un método de las cadenas que a partir de una cadena, y dada una lista, une los elementos de la lista para crear una cadena formada por los elementos de la lista conectados por la cadena original."
   ]
  },
  {
   "cell_type": "code",
   "execution_count": 18,
   "metadata": {},
   "outputs": [
    {
     "data": {
      "text/plain": [
       "'unodostrescuatro'"
      ]
     },
     "execution_count": 18,
     "metadata": {},
     "output_type": "execute_result"
    }
   ],
   "source": [
    "lista = ['uno', 'dos', 'tres', 'cuatro']\n",
    "''.join(lista)"
   ]
  },
  {
   "cell_type": "code",
   "execution_count": 19,
   "metadata": {},
   "outputs": [
    {
     "data": {
      "text/plain": [
       "'uno dos tres cuatro'"
      ]
     },
     "execution_count": 19,
     "metadata": {},
     "output_type": "execute_result"
    }
   ],
   "source": [
    "' '.join(lista)"
   ]
  },
  {
   "cell_type": "code",
   "execution_count": 20,
   "metadata": {},
   "outputs": [
    {
     "data": {
      "text/plain": [
       "'uno-=-dos-=-tres-=-cuatro'"
      ]
     },
     "execution_count": 20,
     "metadata": {},
     "output_type": "execute_result"
    }
   ],
   "source": [
    "'-=-'.join(lista)"
   ]
  },
  {
   "cell_type": "markdown",
   "metadata": {},
   "source": [
    "## Apéndice 2: instrucción *with*, para evitar algunos errores típicos con el manejo de archivos\n",
    "\n",
    "La instrucción **with** evita errores de programación.\n",
    "+  Hace el close del fichero de forma automática\n",
    "+  Si se produce cualquier error, se llama a la instrucción close."
   ]
  },
  {
   "cell_type": "code",
   "execution_count": 21,
   "metadata": {},
   "outputs": [
    {
     "name": "stdout",
     "output_type": "stream",
     "text": [
      "Con diez cañones por banda,\n",
      "viento en popa a toda vela,\n",
      "no corta el mar, sino vuela,\n",
      "un velero bergantín.\n"
     ]
    }
   ],
   "source": [
    "with open('texto.txt', 'r') as f:\n",
    "    for linea in f:\n",
    "        print(linea.strip())"
   ]
  },
  {
   "cell_type": "code",
   "execution_count": 22,
   "metadata": {},
   "outputs": [],
   "source": [
    "with open('mi_texto2','w') as f:\n",
    "    f.write('Con cien cañones por banda\\n')\n",
    "    f.write('Viento en popa a toda vela...\\n')"
   ]
  },
  {
   "cell_type": "markdown",
   "metadata": {},
   "source": [
    "Si se produce un error dentro del cuerpo del **with**, el fichero se cierra."
   ]
  },
  {
   "cell_type": "code",
   "execution_count": 23,
   "metadata": {},
   "outputs": [
    {
     "ename": "ZeroDivisionError",
     "evalue": "division by zero",
     "output_type": "error",
     "traceback": [
      "\u001b[1;31m---------------------------------------------------------------------------\u001b[0m",
      "\u001b[1;31mZeroDivisionError\u001b[0m                         Traceback (most recent call last)",
      "\u001b[1;32m<ipython-input-23-c25f8957b440>\u001b[0m in \u001b[0;36m<module>\u001b[1;34m\u001b[0m\n\u001b[0;32m      2\u001b[0m \u001b[1;32mwith\u001b[0m \u001b[0mopen\u001b[0m\u001b[1;33m(\u001b[0m\u001b[1;34m'inverses.txt'\u001b[0m\u001b[1;33m,\u001b[0m \u001b[1;34m'w'\u001b[0m\u001b[1;33m)\u001b[0m \u001b[1;32mas\u001b[0m \u001b[0mf\u001b[0m\u001b[1;33m:\u001b[0m\u001b[1;33m\u001b[0m\u001b[1;33m\u001b[0m\u001b[0m\n\u001b[0;32m      3\u001b[0m     \u001b[1;32mfor\u001b[0m \u001b[0mnumber\u001b[0m \u001b[1;32min\u001b[0m \u001b[0mlst\u001b[0m\u001b[1;33m:\u001b[0m\u001b[1;33m\u001b[0m\u001b[1;33m\u001b[0m\u001b[0m\n\u001b[1;32m----> 4\u001b[1;33m         \u001b[0mf\u001b[0m\u001b[1;33m.\u001b[0m\u001b[0mwrite\u001b[0m\u001b[1;33m(\u001b[0m\u001b[1;34m'{0}\\n'\u001b[0m\u001b[1;33m.\u001b[0m\u001b[0mformat\u001b[0m\u001b[1;33m(\u001b[0m\u001b[1;36m1\u001b[0m\u001b[1;33m/\u001b[0m\u001b[0mnumber\u001b[0m\u001b[1;33m)\u001b[0m\u001b[1;33m)\u001b[0m\u001b[1;33m\u001b[0m\u001b[1;33m\u001b[0m\u001b[0m\n\u001b[0m",
      "\u001b[1;31mZeroDivisionError\u001b[0m: division by zero"
     ]
    }
   ],
   "source": [
    "lst = [3, 4, 5, 0, 6, 8]\n",
    "with open('inverses.txt', 'w') as f:\n",
    "    for number in lst:\n",
    "        f.write('{0}\\n'.format(1/number))"
   ]
  },
  {
   "cell_type": "code",
   "execution_count": 24,
   "metadata": {},
   "outputs": [
    {
     "name": "stdout",
     "output_type": "stream",
     "text": [
      "0.3333333333333333\n",
      "0.25\n",
      "0.2\n"
     ]
    }
   ],
   "source": [
    "with open('inverses.txt', 'r') as f:\n",
    "    for linea in f:\n",
    "        print(linea.strip())"
   ]
  }
 ],
 "metadata": {
  "kernelspec": {
   "display_name": "Python 3",
   "language": "python",
   "name": "python3"
  },
  "language_info": {
   "codemirror_mode": {
    "name": "ipython",
    "version": 3
   },
   "file_extension": ".py",
   "mimetype": "text/x-python",
   "name": "python",
   "nbconvert_exporter": "python",
   "pygments_lexer": "ipython3",
   "version": "3.7.3"
  }
 },
 "nbformat": 4,
 "nbformat_minor": 1
}
