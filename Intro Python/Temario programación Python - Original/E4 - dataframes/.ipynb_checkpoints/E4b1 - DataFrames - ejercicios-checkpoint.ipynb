{
 "cells": [
  {
   "cell_type": "markdown",
   "metadata": {},
   "source": [
    "# Data Frames. Ejercicio\n",
    "\n",
    "A partir del archivo csv de viviendas en venta ('realestate.csv'), deseamos localizar los que tienen más de 1000 pies cuadrados, tres dormitorios y dos o más baños, situados en una ciudad distinta de “Sacramento” y tener un precio entre 100.000\\$ y 150.000\\$. Nos interesa averiguar la siguiente información:\n",
    "<ol>\n",
    "    <li> El listado completo </li>\n",
    "    <li> De ellos, obtén un listado por ciudades y número de baños </li>\n",
    "    <li> El número total de pisos en nuestra tabla </li>\n",
    "    <li> La media de los precios de los pisos de nuestra tabla </li>\n",
    "</ol>"
   ]
  }
 ],
 "metadata": {
  "kernelspec": {
   "display_name": "Python 3",
   "language": "python",
   "name": "python3"
  },
  "language_info": {
   "codemirror_mode": {
    "name": "ipython",
    "version": 3
   },
   "file_extension": ".py",
   "mimetype": "text/x-python",
   "name": "python",
   "nbconvert_exporter": "python",
   "pygments_lexer": "ipython3",
   "version": "3.7.3"
  }
 },
 "nbformat": 4,
 "nbformat_minor": 1
}
