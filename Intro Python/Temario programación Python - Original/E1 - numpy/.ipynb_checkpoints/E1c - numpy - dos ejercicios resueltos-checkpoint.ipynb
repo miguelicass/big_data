{
 "cells": [
  {
   "cell_type": "markdown",
   "metadata": {},
   "source": [
    "# Librería numpy. Dos ejercicios resueltos\n",
    "\n",
    "<hr>"
   ]
  },
  {
   "cell_type": "markdown",
   "metadata": {},
   "source": [
    "## Producto de matrices\n",
    "\n",
    "Sean $A$ y $B$ dos matrices cuadradas de dimensión $n$. Definimos la matriz $C$, producto de las matrices dadas, $A$ y $B$, así:\n",
    "\n",
    "$$C_{i,j} = \\sum_{k=0}^{n-1} A_{i,k} * B_{k,j}$$\n",
    "\n",
    "Se pide definir una función que realice este producto sin usar la operación $@$ de la librería. Luego, puede compararse si nuestra función llega al mismo resultado."
   ]
  },
  {
   "cell_type": "code",
   "execution_count": 1,
   "metadata": {
    "scrolled": true
   },
   "outputs": [
    {
     "name": "stdout",
     "output_type": "stream",
     "text": [
      "a =  [[ 1.  2.  3.]\n",
      " [ 4.  5.  6.]\n",
      " [ 7.  8.  9.]]\n",
      "2 (3, 3) float64\n",
      "\n",
      "b =  [[ 10.  11.  12.]\n",
      " [ 13.  14.  15.]\n",
      " [ 16.  17.  18.]]\n",
      "2 (3, 3) float64\n"
     ]
    }
   ],
   "source": [
    "# Creación arrays a partir de listas:\n",
    "\n",
    "import numpy as np\n",
    "\n",
    "a = np.array([[1., 2., 3.], \n",
    "              [4., 5., 6.],\n",
    "              [7., 8., 9.]\n",
    "             ])\n",
    "\n",
    "b = np.array([[10., 11., 12.], \n",
    "              [13., 14., 15.],\n",
    "              [16., 17., 18.]\n",
    "             ])\n",
    "\n",
    "print(\"a = \", a)\n",
    "print(a.ndim, a.shape, a.dtype)    # dimensión, forma y tipo de los elementos\n",
    "\n",
    "print()\n",
    "\n",
    "print(\"b = \", b)\n",
    "print(b.ndim, b.shape, b.dtype)    # dimensión, forma y tipo de los elementos"
   ]
  },
  {
   "cell_type": "code",
   "execution_count": 2,
   "metadata": {
    "scrolled": true
   },
   "outputs": [
    {
     "name": "stdout",
     "output_type": "stream",
     "text": [
      "[[  84.   90.   96.]\n",
      " [ 201.  216.  231.]\n",
      " [ 318.  342.  366.]]\n",
      "\n",
      "[[  84.   90.   96.]\n",
      " [ 201.  216.  231.]\n",
      " [ 318.  342.  366.]]\n"
     ]
    }
   ],
   "source": [
    "# Producto:\n",
    "\n",
    "def producto_mat(a, b):\n",
    "    # Sup.cuadradas y de la misma dimensión\n",
    "    n = a.shape[0]\n",
    "    c = np.zeros((n, n))\n",
    "    for i in range(n):\n",
    "        for j in range(n):\n",
    "            for k in range(n):\n",
    "                c[i, j] = c[i, j] + a[i, k] * b[k, j]\n",
    "    return c\n",
    "\n",
    "print(producto_mat(a, b))\n",
    "\n",
    "print()\n",
    "\n",
    "print(a@b)"
   ]
  },
  {
   "cell_type": "markdown",
   "metadata": {},
   "source": [
    "## Determinante de una matriz cuadrada mediante la regla del corazón\n",
    "\n",
    "Calcula el valor de un determinante mediante la regla del corazón:\n",
    "\n",
    "https://eprints.ucm.es/10939/1/ct01_2010.pdf"
   ]
  },
  {
   "cell_type": "code",
   "execution_count": 3,
   "metadata": {
    "scrolled": true
   },
   "outputs": [
    {
     "name": "stdout",
     "output_type": "stream",
     "text": [
      "[[ 1.  2.  3.]\n",
      " [ 4.  5.  4.]\n",
      " [ 3.  2.  1.]]\n",
      "-8.0\n",
      "-8.0\n",
      "5.0\n"
     ]
    }
   ],
   "source": [
    "# Producto:\n",
    "\n",
    "def determinante_4_esquinas(a):\n",
    "    # Pre.: Sup.cuadradas y de la misma dimensión\n",
    "    n = a.shape[0]\n",
    "    return determ(a, 0, 0, n)\n",
    "\n",
    "def determ(a, i, j, n):\n",
    "    # Pre.: Los índices a_i, a_j, a_i + n-1, a_j + n-1 están en los rangos de aa\n",
    "    # Y aa es una matriz cuadrada\n",
    "    if n==0:\n",
    "        return 1\n",
    "    elif n==1:\n",
    "        return a[i, j]\n",
    "    else:\n",
    "        return (determ(a, i  , j  , n-1) * determ(a, i+1, j+1, n-1)\n",
    "                - determ(a, i+1, j  , n-1) *determ(a, i  , j+1, n-1)\n",
    "               ) / determ(a, i+1, j+1, n-2)\n",
    "\n",
    "a = np.array([[1., 2., 3.], \n",
    "              [4., 5., 4.],\n",
    "              [3., 2., 1.]\n",
    "             ])\n",
    "\n",
    "print(a)\n",
    "    \n",
    "print(determinante_4_esquinas(a))\n",
    "\n",
    "print(np.linalg.det(a))\n",
    "\n",
    "print(determ(a, 1, 1, 1))"
   ]
  }
 ],
 "metadata": {
  "kernelspec": {
   "display_name": "Python 3",
   "language": "python",
   "name": "python3"
  },
  "language_info": {
   "codemirror_mode": {
    "name": "ipython",
    "version": 3
   },
   "file_extension": ".py",
   "mimetype": "text/x-python",
   "name": "python",
   "nbconvert_exporter": "python",
   "pygments_lexer": "ipython3",
   "version": "3.7.3"
  }
 },
 "nbformat": 4,
 "nbformat_minor": 1
}
