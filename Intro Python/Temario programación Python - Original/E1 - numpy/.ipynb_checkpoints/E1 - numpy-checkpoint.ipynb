{
 "cells": [
  {
   "cell_type": "markdown",
   "metadata": {},
   "source": [
    "# Librería numpy\n",
    "\n",
    "NumPy es un paquete adecuado para cálculos numéricos eficientes y que permite manejar estructuras de datos tales como arrays multidimensionales homogéneos. Ofrece herramientas para integrar código Python con C++ o Fortran y para manejar números aleatorios, álgebra lineal, transformadas de Fourier, etc."
   ]
  },
  {
   "cell_type": "markdown",
   "metadata": {},
   "source": [
    "## Conceptos básicos, creación de arrays, imprimirlos\n",
    "\n",
    "Tipo de datos, Homogéneos, dimensiones, tamaño."
   ]
  },
  {
   "cell_type": "code",
   "execution_count": 1,
   "metadata": {
    "collapsed": false,
    "scrolled": true
   },
   "outputs": [
    {
     "name": "stdout",
     "output_type": "stream",
     "text": [
      "a =  [[ 1.  2.  3.]\n",
      " [ 4.  5.  6.]]\n",
      "2 (2, 3) float64\n"
     ]
    }
   ],
   "source": [
    "# Creación de arrays a partir de listas:\n",
    "\n",
    "import numpy as np\n",
    "\n",
    "a = np.array([[1., 2., 3.], \n",
    "              [4., 5., 6.]\n",
    "             ])\n",
    "\n",
    "print(\"a = \", a)\n",
    "\n",
    "print(a.ndim, a.shape, a.dtype)    # dimensión, forma y tipo de los elementos"
   ]
  },
  {
   "cell_type": "code",
   "execution_count": 2,
   "metadata": {
    "collapsed": false,
    "scrolled": true
   },
   "outputs": [
    {
     "name": "stdout",
     "output_type": "stream",
     "text": [
      "[[ 1.+0.j  2.+0.j]\n",
      " [ 3.+0.j  4.+0.j]] complex128\n"
     ]
    }
   ],
   "source": [
    "# Creación de arrays a partir de listas. Ahora forzamos el tipo de los elementos:\n",
    "\n",
    "b = np.array([[1, 2], [3, 4]], dtype=complex)\n",
    "print(b, b.dtype)"
   ]
  },
  {
   "cell_type": "code",
   "execution_count": 3,
   "metadata": {
    "collapsed": false,
    "scrolled": true
   },
   "outputs": [
    {
     "name": "stdout",
     "output_type": "stream",
     "text": [
      "a =  [ 0  1  2  3  4  5  6  7  8  9 10 11]\n",
      "b =  [[ 0  1  2  3]\n",
      " [ 4  5  6  7]\n",
      " [ 8  9 10 11]]\n",
      "<class 'numpy.ndarray'> <class 'numpy.ndarray'>\n",
      "núm. de dimensiones (ejes) de a:  1\n",
      "núm. de dimensiones (ejes) de b:  2\n",
      "dimensiones de a:  (12,)\n",
      "dimensiones de b:  (3, 4)\n",
      "Tipo de los elementos de a:  int32\n",
      "Tipo de los elementos de b:  int32\n",
      "Número total de elementos de a:  12\n",
      "Número total de elementos de b:  12\n",
      "[   0    1    2 ..., 9997 9998 9999]\n"
     ]
    }
   ],
   "source": [
    "a = np.arange(12)\n",
    "print(\"a = \", a)\n",
    "b = a.reshape(3, 4)\n",
    "print(\"b = \", b)\n",
    "print(type(a), type(b))\n",
    "\n",
    "print(\"núm. de dimensiones (ejes) de a: \", a.ndim)\n",
    "print(\"núm. de dimensiones (ejes) de b: \", b.ndim)\n",
    "\n",
    "print(\"dimensiones de a: \", a.shape)\n",
    "print(\"dimensiones de b: \", b.shape)\n",
    "\n",
    "print(\"Tipo de los elementos de a: \", a.dtype.name)\n",
    "print(\"Tipo de los elementos de b: \", b.dtype.name)\n",
    "\n",
    "print(\"Número total de elementos de a: \", a.size)   # igual al producto de sus dmensiones\n",
    "print(\"Número total de elementos de b: \", b.size)\n",
    "\n",
    "print(np.arange(10000))                             # Cuando es muy largo, se abrevia automáticamente"
   ]
  },
  {
   "cell_type": "markdown",
   "metadata": {},
   "source": [
    "## Arrays grandes, definidos por rangos"
   ]
  },
  {
   "cell_type": "code",
   "execution_count": 4,
   "metadata": {
    "collapsed": false,
    "scrolled": true
   },
   "outputs": [
    {
     "name": "stdout",
     "output_type": "stream",
     "text": [
      "b =  [[ 0.  0.  0.  0.]\n",
      " [ 0.  0.  0.  0.]\n",
      " [ 0.  0.  0.  0.]]\n",
      "c =  [[[1 1 1 1]\n",
      "  [1 1 1 1]\n",
      "  [1 1 1 1]]\n",
      "\n",
      " [[1 1 1 1]\n",
      "  [1 1 1 1]\n",
      "  [1 1 1 1]]]\n",
      "d =  [[ 0.  0.  0.]\n",
      " [ 0.  0.  0.]]\n"
     ]
    }
   ],
   "source": [
    "# Todo ceros:\n",
    "b = np.zeros((3, 4))\n",
    "print(\"b = \", b)\n",
    "\n",
    "# Todo unos:\n",
    "c = np.ones((2, 3, 4), dtype=np.int16)   # El tipo también puede especificarse\n",
    "print(\"c = \", c)\n",
    "\n",
    "# Array vacío:\n",
    "d = np.empty( (2,3) )                    # Sin valores iniciales, el resultado puede variar\n",
    "print(\"d = \", d)\n",
    "\n",
    "# Con elementos elegidos aleatoriamente:\n",
    "e = np.random.random((2,3))"
   ]
  },
  {
   "cell_type": "code",
   "execution_count": 5,
   "metadata": {
    "collapsed": false,
    "scrolled": true
   },
   "outputs": [
    {
     "name": "stdout",
     "output_type": "stream",
     "text": [
      "f =  [10 15 20 25 30 35 40 45]\n",
      "g =  [ 0.          0.08333333  0.16666667  0.25        0.33333333  0.41666667\n",
      "  0.5         0.58333333  0.66666667  0.75        0.83333333  0.91666667\n",
      "  1.          1.08333333  1.16666667  1.25        1.33333333  1.41666667\n",
      "  1.5         1.58333333  1.66666667  1.75        1.83333333  1.91666667\n",
      "  2.        ]\n",
      "[ 0.          0.12822827  0.25645654  0.38468481  0.51291309  0.64114136\n",
      "  0.76936963  0.8975979   1.02582617  1.15405444  1.28228272  1.41051099\n",
      "  1.53873926  1.66696753  1.7951958   1.92342407  2.05165235  2.17988062\n",
      "  2.30810889  2.43633716  2.56456543  2.6927937   2.82102197  2.94925025\n",
      "  3.07747852  3.20570679  3.33393506  3.46216333  3.5903916   3.71861988\n",
      "  3.84684815  3.97507642  4.10330469  4.23153296  4.35976123  4.48798951\n",
      "  4.61621778  4.74444605  4.87267432  5.00090259  5.12913086  5.25735913\n",
      "  5.38558741  5.51381568  5.64204395  5.77027222  5.89850049  6.02672876\n",
      "  6.15495704  6.28318531]\n"
     ]
    }
   ],
   "source": [
    "# Secuencias de valores:\n",
    "f = np.arange( 10, 50, 5)\n",
    "print(\"f = \", f)\n",
    "\n",
    "# Secuencias, interpolando linealmente\n",
    "g = np.linspace( 0, 2, 25) \n",
    "print(\"g = \", g)\n",
    "\n",
    "from numpy import pi\n",
    "h = np.linspace(0, 2*pi, 50)\n",
    "print(h)"
   ]
  },
  {
   "cell_type": "code",
   "execution_count": 6,
   "metadata": {
    "collapsed": false,
    "scrolled": true
   },
   "outputs": [
    {
     "data": {
      "text/plain": [
       "array([  0.00000000e+00,   1.27877162e-01,   2.53654584e-01,\n",
       "         3.75267005e-01,   4.90717552e-01,   5.98110530e-01,\n",
       "         6.95682551e-01,   7.81831482e-01,   8.55142763e-01,\n",
       "         9.14412623e-01,   9.58667853e-01,   9.87181783e-01,\n",
       "         9.99486216e-01,   9.95379113e-01,   9.74927912e-01,\n",
       "         9.38468422e-01,   8.86599306e-01,   8.20172255e-01,\n",
       "         7.40277997e-01,   6.48228395e-01,   5.45534901e-01,\n",
       "         4.33883739e-01,   3.15108218e-01,   1.91158629e-01,\n",
       "         6.40702200e-02,  -6.40702200e-02,  -1.91158629e-01,\n",
       "        -3.15108218e-01,  -4.33883739e-01,  -5.45534901e-01,\n",
       "        -6.48228395e-01,  -7.40277997e-01,  -8.20172255e-01,\n",
       "        -8.86599306e-01,  -9.38468422e-01,  -9.74927912e-01,\n",
       "        -9.95379113e-01,  -9.99486216e-01,  -9.87181783e-01,\n",
       "        -9.58667853e-01,  -9.14412623e-01,  -8.55142763e-01,\n",
       "        -7.81831482e-01,  -6.95682551e-01,  -5.98110530e-01,\n",
       "        -4.90717552e-01,  -3.75267005e-01,  -2.53654584e-01,\n",
       "        -1.27877162e-01,  -2.44929360e-16])"
      ]
     },
     "execution_count": 6,
     "metadata": {},
     "output_type": "execute_result"
    }
   ],
   "source": [
    "np.sin(h)    # se aplica la función seno a todos los puntos"
   ]
  },
  {
   "cell_type": "markdown",
   "metadata": {},
   "source": [
    "## Operaciones aritméticas básicas\n",
    "\n",
    "Las operaciones aritméticas actúan con arrays elemento a elemento:"
   ]
  },
  {
   "cell_type": "code",
   "execution_count": 7,
   "metadata": {
    "collapsed": false,
    "scrolled": true
   },
   "outputs": [
    {
     "name": "stdout",
     "output_type": "stream",
     "text": [
      "[[1 2 3]\n",
      " [4 5 6]]\n",
      "[[2 3 4]\n",
      " [5 6 7]]\n",
      "[[ 1  4  9]\n",
      " [16 25 36]]\n",
      "[[ 0.84147098  0.90929743  0.14112001]\n",
      " [-0.7568025  -0.95892427 -0.2794155 ]]\n",
      "[[ True  True  True]\n",
      " [False False False]]\n",
      "[[3 4 5]\n",
      " [7 8 9]]\n",
      "[[-1  0  1]\n",
      " [ 1  2  3]]\n",
      "[[ 2  4  6]\n",
      " [12 15 18]]\n"
     ]
    }
   ],
   "source": [
    "a = np.array([[1, 2, 3], [4, 5, 6]])\n",
    "print(a)\n",
    "print(a+1)\n",
    "print(a**2)\n",
    "print(np.sin(a))\n",
    "print(a<4)\n",
    "\n",
    "b = np.array([[2, 2, 2], [3, 3, 3]])\n",
    "print(a+b)\n",
    "print(a-b)\n",
    "print(a*b) # OJO: elemento a elemento"
   ]
  },
  {
   "cell_type": "code",
   "execution_count": 8,
   "metadata": {
    "collapsed": false,
    "scrolled": true
   },
   "outputs": [
    {
     "name": "stdout",
     "output_type": "stream",
     "text": [
      "[[1 2 3]\n",
      " [4 5 6]]\n",
      "21 720 1 6\n",
      "[5 7 9] [ 6 15]\n",
      "[[ 1  3  6]\n",
      " [ 4  9 15]]\n"
     ]
    }
   ],
   "source": [
    "a = np.array([[1, 2, 3], [4, 5, 6]])\n",
    "print(a)\n",
    "\n",
    "print(a.sum(), a.prod(), a.min(), a.max())\n",
    "print(a.sum(axis=0), a.sum(axis=1))\n",
    "print(a.cumsum(axis=1))  #sumas acumuladas por filas"
   ]
  },
  {
   "cell_type": "markdown",
   "metadata": {},
   "source": [
    "Observaciones: \n",
    "<ul>\n",
    "  <li> Las funciones como el seno, coseno o exponencial actúan también elemento a elemento.</li>\n",
    "  <li> El producto de matrices se realiza con la operación \"@\", o la función \"dot\".</li>\n",
    "</ul>"
   ]
  },
  {
   "cell_type": "markdown",
   "metadata": {},
   "source": [
    "## Operaciones básicas con vectores "
   ]
  },
  {
   "cell_type": "code",
   "execution_count": 9,
   "metadata": {
    "collapsed": false,
    "scrolled": true
   },
   "outputs": [
    {
     "name": "stdout",
     "output_type": "stream",
     "text": [
      "u . v =  32\n",
      "u x v =  [-3  6 -3]\n",
      "u xx v =  [[ 4  5  6]\n",
      " [ 8 10 12]\n",
      " [12 15 18]]\n"
     ]
    }
   ],
   "source": [
    "# Operaciones matemáticas con vectores:\n",
    "\n",
    "u = [1, 2, 3]\n",
    "v = [4, 5, 6]\n",
    "\n",
    "# Producto interior o escalar:\n",
    "print(\"u . v = \", np.inner(u, v))\n",
    "\n",
    "# Producto vectorial o producto cruzado:\n",
    "print(\"u x v = \", np.cross(u, v))\n",
    "\n",
    "# Producto combinado (cada u_i * cada v_j):\n",
    "print(\"u xx v = \", np.outer(u, v))"
   ]
  },
  {
   "cell_type": "markdown",
   "metadata": {},
   "source": [
    "## Operaciones básicas con matrices"
   ]
  },
  {
   "cell_type": "code",
   "execution_count": 10,
   "metadata": {
    "collapsed": false,
    "scrolled": true
   },
   "outputs": [
    {
     "name": "stdout",
     "output_type": "stream",
     "text": [
      "[[1 2 3]\n",
      " [4 5 6]]\n",
      "[[10 20]\n",
      " [30 40]\n",
      " [50 60]]\n",
      "[[220 280]\n",
      " [490 640]]\n",
      "[[220 280]\n",
      " [490 640]]\n",
      "70\n"
     ]
    }
   ],
   "source": [
    "a = np.array([[1, 2, 3], [4, 5, 6]])\n",
    "b = np.array([[10, 20], [30, 40], [50, 60]])\n",
    "print(a)\n",
    "print(b)\n",
    "\n",
    "# Producto de matrices:\n",
    "\n",
    "print(a@b)\n",
    "print(a.dot(b))\n",
    "\n",
    "# Producto \"escalar\" de matrices:\n",
    "a = np.array([[1, 2], [3, 4]])\n",
    "b = np.array([[5, 6], [7, 8]])\n",
    "print(np.vdot(a, b))    # 1*5  +  2*6  +  3*7  +  4*8"
   ]
  },
  {
   "cell_type": "markdown",
   "metadata": {},
   "source": [
    "## Funciones básicas con matrices"
   ]
  },
  {
   "cell_type": "code",
   "execution_count": 11,
   "metadata": {
    "collapsed": false,
    "scrolled": true
   },
   "outputs": [
    {
     "name": "stdout",
     "output_type": "stream",
     "text": [
      "[[ 1.  2.]\n",
      " [ 3.  4.]]\n",
      "[[ 1.  3.]\n",
      " [ 2.  4.]]\n",
      "[[-2.   1. ]\n",
      " [ 1.5 -0.5]]\n",
      "[[ 1.  0.]\n",
      " [ 0.  1.]]\n",
      "[[-1.  0.]\n",
      " [ 0. -1.]]\n",
      "2.0\n"
     ]
    },
    {
     "data": {
      "text/plain": [
       "2.0"
      ]
     },
     "execution_count": 11,
     "metadata": {},
     "output_type": "execute_result"
    }
   ],
   "source": [
    "a = np.array([[1.0, 2.0], [3.0, 4.0]])\n",
    "print(a)\n",
    "\n",
    "# Traspuesta de una matriz:\n",
    "print(a.transpose())\n",
    "\n",
    "# Inversa de una matriz:\n",
    "print(np.linalg.inv(a))\n",
    "\n",
    "# Matriz unidad:\n",
    "u = np.eye(2)                            # unit 2x2 matrix; \"eye\" represents \"I\"\n",
    "print(u)\n",
    "\n",
    "j = np.array([[0.0, -1.0], [1.0, 0.0]])\n",
    "\n",
    "print(j @ j)                             # producto de matrices\n",
    "\n",
    "print(np.trace(u))                       # trace = suma de la diagonal principal\n",
    "2.0"
   ]
  },
  {
   "cell_type": "markdown",
   "metadata": {},
   "source": [
    "## Álgebra lineal básica: "
   ]
  },
  {
   "cell_type": "code",
   "execution_count": 12,
   "metadata": {
    "collapsed": false,
    "scrolled": true
   },
   "outputs": [
    {
     "name": "stdout",
     "output_type": "stream",
     "text": [
      "[[ 1.  2.]\n",
      " [ 3.  4.]]\n",
      "[[ 5.]\n",
      " [ 7.]]\n",
      "[[-3.]\n",
      " [ 4.]]\n",
      "(array([ 0.+1.j,  0.-1.j]), array([[ 0.70710678+0.j        ,  0.70710678-0.j        ],\n",
      "       [ 0.00000000-0.70710678j,  0.00000000+0.70710678j]]))\n"
     ]
    }
   ],
   "source": [
    "# Resolución de ecuaciones lineales:\n",
    "\n",
    "a = np.array([[1.0, 2.0], [3.0, 4.0]])\n",
    "print(a)\n",
    "y = np.array([[5.], [7.]])\n",
    "print(y)\n",
    "\n",
    "print(np.linalg.solve(a, y))\n",
    "\n",
    "# Vectores y valores propios:\n",
    "\n",
    "print(np.linalg.eig(j))"
   ]
  },
  {
   "cell_type": "markdown",
   "metadata": {},
   "source": [
    "## Iteración con arrays\n",
    "\n",
    "Es mejor que lo veas con un ejemplo."
   ]
  },
  {
   "cell_type": "code",
   "execution_count": 13,
   "metadata": {
    "collapsed": false
   },
   "outputs": [
    {
     "name": "stdout",
     "output_type": "stream",
     "text": [
      "[[1 2 3]\n",
      " [4 5 6]]\n",
      "líneas:\n",
      " ->  [1 2 3]\n",
      " ->  [4 5 6]\n",
      "elementos:\n",
      " ->  1\n",
      " ->  2\n",
      " ->  3\n",
      " ->  4\n",
      " ->  5\n",
      " ->  6\n"
     ]
    }
   ],
   "source": [
    "a = np.array([[1, 2, 3], [4, 5, 6]])\n",
    "print(a)\n",
    "print(\"líneas:\")\n",
    "for linea in a:\n",
    "    print(\" -> \", linea)\n",
    "print(\"elementos:\")\n",
    "for elemento in a.flat:\n",
    "    print(\" -> \", elemento)\n",
    "    "
   ]
  },
  {
   "cell_type": "markdown",
   "metadata": {},
   "source": [
    "## Estadística básica\n",
    "\n",
    "Funciones típicas: media, varianza, covarianza, desviación típica."
   ]
  },
  {
   "cell_type": "code",
   "execution_count": 14,
   "metadata": {
    "collapsed": false
   },
   "outputs": [
    {
     "name": "stdout",
     "output_type": "stream",
     "text": [
      "[[1 2]\n",
      " [3 4]]\n",
      "Media de una matriz: 2.5\n",
      "   ... por columnas:  [ 2.  3.]\n",
      "   ... por filas:  [ 1.5  3.5]\n",
      "... mdia ponderada:  3.11594202899\n",
      "Mediana de un vector:  4.0\n",
      "Varianza de una matriz:  1.25\n",
      "Desviación típica:  1.11803398875\n",
      "Covarianza de x 11.709999999999999\n",
      "Covarianza de x e y:  [[ 11.71        -4.286     ]\n",
      " [ -4.286        2.14413333]]\n",
      "[[ 11.71        -4.286     ]\n",
      " [ -4.286        2.14413333]]\n"
     ]
    }
   ],
   "source": [
    "# Media:\n",
    "\n",
    "a = np.array([[1, 2], [3, 4]])\n",
    "\n",
    "print(a)\n",
    "print(\"Media de una matriz:\", np.mean(a))\n",
    "print(\"   ... por columnas: \", np.mean(a, axis=0))\n",
    "print(\"   ... por filas: \", np.mean(a, axis=1))\n",
    "print(\"... mdia ponderada: \", np.average([1, 2, 3, 4], weights=[0.1, 0.3, 5.2, 1.3]))\n",
    "\n",
    "# Mediana:\n",
    "print(\"Mediana de un vector: \", np.median(np.array([4, 2, 5, 3, 7, 6, 1, 9, 8, 2, 3, 4, 6, 1], float)))\n",
    "\n",
    "# Varianza:\n",
    "print(\"Varianza de una matriz: \", np.var(a))\n",
    "\n",
    "# Desviacón típica\n",
    "print(\"Desviación típica: \", np.std(a))\n",
    "\n",
    "# Matriz de covarianzas:\n",
    "x = [-2.1, -1,  4.3]\n",
    "y = [3,  1.1,  0.12]\n",
    "\n",
    "print(\"Covarianza de x\", np.cov(x))\n",
    "print(\"Covarianza de x e y: \", np.cov(x, y))\n",
    "\n",
    "xy = np.stack((x, y), axis=0) # Combinamos ambos vectores\n",
    "print(np.cov(xy))"
   ]
  },
  {
   "cell_type": "markdown",
   "metadata": {},
   "source": [
    "## Histogramas\n",
    "\n",
    "Se incluye este ejemplo final para dejar buen sabor de boca y para que te itereses por otra librería útil: matplotlib, que  permite crear gráficos claros, de una forma sencilla."
   ]
  },
  {
   "cell_type": "code",
   "execution_count": 15,
   "metadata": {
    "collapsed": false
   },
   "outputs": [
    {
     "data": {
      "image/png": "[encoded data removed]",
      "text/plain": [
       "<matplotlib.figure.Figure at 0x26a7ff94da0>"
      ]
     },
     "metadata": {},
     "output_type": "display_data"
    }
   ],
   "source": [
    "import numpy as np\n",
    "import matplotlib.pyplot as plt\n",
    "\n",
    "# Construimos un vector de 10000 elementos, generados aleatoriamente siguiendo una distribución N(2, 0.5),\n",
    "# esto es, una distribución normal con media = 2 y desviación típica = 0.5.\n",
    "\n",
    "v = np.random.normal(2, 0.5, 10000)\n",
    "\n",
    "# Ahora trazamos el histograma normalized histogram with 50 bins\n",
    "\n",
    "plt.hist(v, bins=50)       # matplotlib version (plot)\n",
    "plt.show()"
   ]
  },
  {
   "cell_type": "code",
   "execution_count": 16,
   "metadata": {
    "collapsed": false
   },
   "outputs": [
    {
     "data": {
      "image/png": "[encoded data removed]",
      "text/plain": [
       "<matplotlib.figure.Figure at 0x26a7ff943c8>"
      ]
     },
     "metadata": {},
     "output_type": "display_data"
    }
   ],
   "source": [
    "# Ahora, computamos el histograma con numpy y luego lo trazamos:\n",
    "\n",
    "(n, bins) = np.histogram(v, bins=50, density=True)  # NumPy version (no plot)\n",
    "\n",
    "plt.plot(.5*(bins[1:]+bins[:-1]), n)\n",
    "\n",
    "plt.show()"
   ]
  },
  {
   "cell_type": "markdown",
   "metadata": {},
   "source": [
    "## Brevísimo comentario final\n",
    "\n",
    "La librería numpy contiene otras funciones y operaciones útiles, pero que nos ha parecido mejor dejar para una lectura más avanzada:\n",
    "\n",
    "<ul>\n",
    "  <li> Funciones para ordenar arrays: argmax, argmin, argsort, max, min, ptp, searchsorted, sort</li>\n",
    "  <li> Funciones de conversión de tipos: ndarray.astype, atleast_1d, atleast_2d, atleast_3d, mat</li>\n",
    "  <li> Funciones para cortar arrays y combinarlos por bloques:\n",
    "       array_split, column_stack, concatenate, diagonal, dsplit, dstack, hsplit, hstack, ndarray.item, newaxis, ravel, repeat,\n",
    "       reshape, resize, squeeze, swapaxes, take, transpose, vsplit, vstack</li>\n",
    "  <li> Y un largo etcétera. V. \"quickstart\", en la lista de referencias siguiente.\n",
    "</ul>\n",
    "\n",
    "He aquí algunas referencias recomendables para complementar el material de este sencillo script:\n",
    "\n",
    "<ul>\n",
    "    <li>http://www.numpy.org/</li>\n",
    "    <li>https://www.w3schools.in/python-data-science/introduction-to-numpy-library/</li>\n",
    "  <li> https://docs.scipy.org/doc/numpy/user/quickstart.html</li>\n",
    "</ul>"
   ]
  }
 ],
 "metadata": {
  "kernelspec": {
   "display_name": "Python 3",
   "language": "python",
   "name": "python3"
  },
  "language_info": {
   "codemirror_mode": {
    "name": "ipython",
    "version": 3
   },
   "file_extension": ".py",
   "mimetype": "text/x-python",
   "name": "python",
   "nbconvert_exporter": "python",
   "pygments_lexer": "ipython3",
   "version": "3.6.0"
  }
 },
 "nbformat": 4,
 "nbformat_minor": 0
}
