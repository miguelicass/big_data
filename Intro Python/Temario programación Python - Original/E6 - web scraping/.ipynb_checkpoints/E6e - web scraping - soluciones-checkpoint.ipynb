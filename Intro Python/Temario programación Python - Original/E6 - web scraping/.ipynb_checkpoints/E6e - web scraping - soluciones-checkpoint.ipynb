{
 "cells": [
  {
   "cell_type": "markdown",
   "metadata": {},
   "source": [
    "# Ejercicios sobre Procesamiento de información en Internet (Web Scraping)"
   ]
  },
  {
   "cell_type": "markdown",
   "metadata": {},
   "source": [
    "### Nombres de bebés: de Internet a un DataFrame\n",
    "\n",
    "En la siguiente url, \n",
    "\n",
    "    https://www.enterat.com/servicios/nombres-nino-nina.php\n",
    "\n",
    "hemos encontrado una tabla con los nombres de bebés más populares en 2019, en el sentido de ser los más elegidos por los padres para bautizar a sus hijos:\n",
    "\n",
    "<img src=\"./images/tabla_bebes.png\" width=\"300\">\n",
    "\n",
    "Se pide acceder a esa página desde Python, localizar la tabla y convertirla en un DataFrame para poder procesarla posteriormente."
   ]
  },
  {
   "cell_type": "markdown",
   "metadata": {},
   "source": [
    "### Apartado 1\n",
    "\n",
    "En primer lugar, debes hacer lo siguiente mediante un programa en Python: (a) acceder a la `url`, (b) cargar el texto de la página, (c) buscar la tabla, (d) cargar las filas (etiqueta `tr`) y (e) las celdas (etiqueta `td`).\n",
    "\n",
    "Comprobamos el resultado de estos pasos imprimiendo alguna fila y alguna celda."
   ]
  },
  {
   "cell_type": "code",
   "execution_count": 1,
   "metadata": {},
   "outputs": [
    {
     "name": "stdout",
     "output_type": "stream",
     "text": [
      "<tr>\n",
      "<td align=\"center\" width=\"10%\">1</td>\n",
      "<td align=\"center\" valign=\"middle\" width=\"117\">HUGO</td>\n",
      "<td align=\"center\" valign=\"middle\" width=\"117\">LUCIA</td>\n",
      "</tr>\n",
      "...............................\n",
      "[<td align=\"center\" width=\"10%\">1</td>, <td align=\"center\" valign=\"middle\" width=\"117\">HUGO</td>, <td align=\"center\" valign=\"middle\" width=\"117\">LUCIA</td>]\n"
     ]
    }
   ],
   "source": [
    "import requests\n",
    "bebes_url = \"https://www.enterat.com/servicios/nombres-nino-nina.php\"\n",
    "bebes_texto = requests.get(bebes_url).text\n",
    "\n",
    "from bs4 import BeautifulSoup\n",
    "bebes_datos = BeautifulSoup(bebes_texto, \"html\")\n",
    "\n",
    "bebes_filas = bebes_datos.findAll(\"tr\")\n",
    "print(bebes_filas[1])\n",
    "\n",
    "print(\"...............................\")\n",
    "\n",
    "bebes_celdas = bebes_datos.findAll(\"td\")\n",
    "print(bebes_celdas[3:6])"
   ]
  },
  {
   "cell_type": "markdown",
   "metadata": {},
   "source": [
    "### Apartado 2\n",
    "\n",
    "Ahora iniciamos en procesamiento de los datos que tenemos, y vamos comprobando el resultado paso a paso. (a) Selecciona las celdas de una fila cualquiera, y (b) extrae el contenido (el texto) de las celdas de esa fila. (c) El dato entero que indica el número de orden debería ser un entero, y no una cadena de caracteres..."
   ]
  },
  {
   "cell_type": "code",
   "execution_count": 2,
   "metadata": {},
   "outputs": [
    {
     "name": "stdout",
     "output_type": "stream",
     "text": [
      "[<td align=\"center\" width=\"10%\">1</td>, <td align=\"center\" valign=\"middle\" width=\"117\">HUGO</td>, <td align=\"center\" valign=\"middle\" width=\"117\">LUCIA</td>]\n",
      "['1', 'HUGO', 'LUCIA']\n",
      "[1, 'HUGO', 'LUCIA']\n"
     ]
    }
   ],
   "source": [
    "fila_1 = bebes_celdas[3:6]\n",
    "info_1 = [elemento.get_text() for elemento in fila_1]\n",
    "print(fila_1)\n",
    "print(info_1)\n",
    "info_1[0] = int(info_1[0])\n",
    "print(info_1)"
   ]
  },
  {
   "cell_type": "markdown",
   "metadata": {},
   "source": [
    "### Apartado 3\n",
    "\n",
    "Es frecuente necesitar cada columna en una lista (porque los datos de cada columna son homogéneos, y así se facilita su procesamiento en algunos programas. Prepara los datos en tres listas, una por cada columna, y almacena el resultado en sendas listas."
   ]
  },
  {
   "cell_type": "code",
   "execution_count": 3,
   "metadata": {},
   "outputs": [
    {
     "name": "stdout",
     "output_type": "stream",
     "text": [
      "[1, 2, 3, 4, 5, 6, 7, 8, 9, 10]\n",
      "['HUGO', 'LUCAS', 'MARTIN', 'DANIEL', 'PABLO', 'MATEO', 'ALEJANDRO', 'LEO', 'ALVARO', 'MANUEL']\n",
      "['LUCIA', 'SOFIA', 'MARTINA', 'MARIA', 'PAULA', 'JULIA', 'EMMA', 'VALERIA', 'DANIELA', 'ALBA']\n"
     ]
    }
   ],
   "source": [
    "num_or = [int(elem.findAll(\"td\")[0].get_text()) for elem in bebes_filas[1:]]\n",
    "chicos = [    elem.findAll(\"td\")[1].get_text()  for elem in bebes_filas[1:]]\n",
    "chicas = [    elem.findAll(\"td\")[2].get_text()  for elem in bebes_filas[1:]]\n",
    "\n",
    "# Los 10 primeros de cada:\n",
    "print(num_or[:10])\n",
    "print(chicos[:10])\n",
    "print(chicas[:10])"
   ]
  },
  {
   "cell_type": "markdown",
   "metadata": {},
   "source": [
    "### Apartado 4\n",
    "\n",
    "Pasa el contenido de estas columnas a un DataFrame de la librería `pandas`."
   ]
  },
  {
   "cell_type": "code",
   "execution_count": 4,
   "metadata": {},
   "outputs": [
    {
     "name": "stdout",
     "output_type": "stream",
     "text": [
      "  Núm. orden  Chicos   Chicas\n",
      "0          1    HUGO    LUCIA\n",
      "1          2   LUCAS    SOFIA\n",
      "2          3  MARTIN  MARTINA\n",
      "3          4  DANIEL    MARIA\n",
      "4          5   PABLO    PAULA\n"
     ]
    }
   ],
   "source": [
    "from pandas import DataFrame\n",
    "\n",
    "tabla = DataFrame([num_or, chicos, chicas]).T\n",
    "tabla.columns = [\"Núm. orden\", \"Chicos\", \"Chicas\"]\n",
    "print(tabla.head())"
   ]
  }
 ],
 "metadata": {
  "kernelspec": {
   "display_name": "Python 3",
   "language": "python",
   "name": "python3"
  },
  "language_info": {
   "codemirror_mode": {
    "name": "ipython",
    "version": 3
   },
   "file_extension": ".py",
   "mimetype": "text/x-python",
   "name": "python",
   "nbconvert_exporter": "python",
   "pygments_lexer": "ipython3",
   "version": "3.7.3"
  }
 },
 "nbformat": 4,
 "nbformat_minor": 1
}
