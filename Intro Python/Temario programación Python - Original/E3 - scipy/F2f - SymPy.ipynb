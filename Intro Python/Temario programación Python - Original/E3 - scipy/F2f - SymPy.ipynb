{
 "cells": [
  {
   "cell_type": "markdown",
   "metadata": {},
   "source": [
    "# SymPy\n",
    "\n",
    "<hr>\n",
    "\n",
    "Es un módulo que permite trabajar con matemática simbólica en Python. Lo que sigue se ha tomado esencialmente de la sitguiente URL:\n",
    "\n",
    "    http://scipy-lectures.org/packages/sympy.html"
   ]
  },
  {
   "cell_type": "markdown",
   "metadata": {},
   "source": [
    "## Primeros pasos\n",
    "\n",
    "(a, b) Expresiones simbólicas: $\\frac{1}{2}, (\\frac{1}{2})^2, \\pi^{2^e}$,\n",
    "\n",
    "(c, d, e) Mismas expresiones pero evaluadas: $\\frac{1}{2}, (\\frac{1}{2})^2, \\pi^{2^e}$\n",
    "\n",
    "(f, g) Tratamiento del infinito"
   ]
  },
  {
   "cell_type": "code",
   "execution_count": 3,
   "metadata": {},
   "outputs": [
    {
     "name": "stdout",
     "output_type": "stream",
     "text": [
      "a)  1/2 1/4\n",
      "b)  pi**2 pi**(2**E)\n",
      "c)  9.86960440108936 pi**6.58088599101792\n",
      "d)  9.869604401089358618834491 pi**6.580886\n",
      "e)  9.869604401089358618834491 504.4138\n",
      "f)  True\n",
      "g)  oo\n"
     ]
    }
   ],
   "source": [
    "import sympy as sym\n",
    "\n",
    "a = sym.Rational(1, 2)\n",
    "\n",
    "# Simplificaciones algebraicas:\n",
    "print(\"a) \", a, a**2)\n",
    "\n",
    "# Números trascendentes:\n",
    "print(\"b) \", sym.pi**2, sym.pi**(2 ** sym.exp(1)))\n",
    "print(\"c) \", (sym.pi**2).evalf(), (sym.pi**(2 ** sym.exp(1)).evalf()))\n",
    "print(\"d) \", (sym.pi**2).evalf(25), (sym.pi**(2 ** sym.exp(1)).evalf(7)))\n",
    "print(\"e) \", sym.N(sym.pi**2, 25), sym.N((sym.pi**2) ** sym.exp(1), 7))\n",
    "\n",
    "# Infinito:\n",
    "print(\"f) \", sym.oo > 99999)\n",
    "print(\"g) \", sym.oo + 1)"
   ]
  },
  {
   "cell_type": "markdown",
   "metadata": {},
   "source": [
    "## Una calculadora simbólica"
   ]
  },
  {
   "cell_type": "code",
   "execution_count": 6,
   "metadata": {},
   "outputs": [
    {
     "name": "stdout",
     "output_type": "stream",
     "text": [
      "a)  2*x\n",
      "b)  (x + y)**2\n",
      "c)  x**2 + 2*x*y + y**2\n",
      "d)  x**3 + 3*x**2*y + 3*x*y**2 + y**3\n",
      "e)  -sin(x)*sin(y) + cos(x)*cos(y)\n",
      "f)  y + 1\n"
     ]
    }
   ],
   "source": [
    "# Variables o símbolos y manipulaciones algebraicas:\n",
    "\n",
    "x = sym.Symbol('x')\n",
    "y = sym.Symbol('y')\n",
    "\n",
    "# Simplificaciones algebraicas:\n",
    "print(\"a) \", x + y + x - y)\n",
    "\n",
    "# Desarrollos algebraicos:\n",
    "print(\"b) \", (x + y) ** 2)\n",
    "print(\"c) \", sym.expand((x + y) ** 2))\n",
    "\n",
    "# Reorganización de términos:\n",
    "print(\"d) \", 3 * x * y ** 2 + 3 * y * x ** 2 + x ** 3 + y ** 3)\n",
    "\n",
    "# Trigonometría:\n",
    "print(\"e) \", sym.expand(sym.cos(x + y), trig=True))\n",
    "\n",
    "# Más simplificaciones algebraicas:\n",
    "print(\"f) \", sym.simplify((x + x * y) / x))"
   ]
  },
  {
   "cell_type": "markdown",
   "metadata": {},
   "source": [
    "## Cálculo infinitesimal"
   ]
  },
  {
   "cell_type": "code",
   "execution_count": 7,
   "metadata": {},
   "outputs": [
    {
     "name": "stdout",
     "output_type": "stream",
     "text": [
      "a1)  oo\n",
      "a2)  0\n",
      "a3)  1\n",
      "b1)  cos(x)\n",
      "b2)  2*cos(2*x)\n",
      "b3)  tan(x)**2 + 1\n",
      "c1)  2*cos(2*x)\n",
      "c2)  -4*sin(2*x)\n",
      "c3)  -8*cos(2*x)\n",
      "d1)  1 - x**2/2 + x**4/24 + O(x**6)\n",
      "d2)  1 + x**2/2 + 5*x**4/24 + O(x**6)\n",
      "e2)  1 + x**2/2 + 5*x**4/24 + O(x**6)\n",
      "e3)  x**6\n",
      "e4)  -cos(x)\n",
      "e5)  x*log(x) - x\n",
      "e6)  x**2 + cosh(x)\n",
      "f6)  0\n",
      "f7)  1\n",
      "f8)  2\n",
      "f9)  1\n",
      "f7)  sqrt(pi)\n"
     ]
    }
   ],
   "source": [
    "# Límites:\n",
    "\n",
    "print(\"a1) \", sym.limit(x, x, sym.oo))\n",
    "print(\"a2) \", sym.limit(1 / x, x, sym.oo))\n",
    "print(\"a3) \", sym.limit(x ** x, x, 0))\n",
    "\n",
    "# Diferenciación:\n",
    "\n",
    "print(\"b1) \", sym.diff(sym.sin(x), x))\n",
    "print(\"b2) \", sym.diff(sym.sin(2 * x), x))\n",
    "print(\"b3) \", sym.diff(sym.tan(x), x))\n",
    "\n",
    "# Derivadas de orden superior:\n",
    "\n",
    "print(\"c1) \", sym.diff(sym.sin(2 * x), x, 1))\n",
    "print(\"c2) \", sym.diff(sym.sin(2 * x), x, 2))\n",
    "print(\"c3) \", sym.diff(sym.sin(2 * x), x, 3))\n",
    "\n",
    "# Desarrollo en serie:\n",
    "\n",
    "print(\"d1) \", sym.series(sym.cos(x), x))\n",
    "print(\"d2) \", sym.series(1/sym.cos(x), x))\n",
    "\n",
    "# Integración indefinida:\n",
    "\n",
    "print(\"e2) \", sym.series(1/sym.cos(x), x))\n",
    "print(\"e3) \", sym.integrate(6 * x ** 5, x))\n",
    "print(\"e4) \", sym.integrate(sym.sin(x), x))\n",
    "print(\"e5) \", sym.integrate(sym.log(x), x))\n",
    "print(\"e6) \", sym.integrate(2 * x + sym.sinh(x), x))\n",
    "\n",
    "# Integración definida:\n",
    "\n",
    "print(\"f6) \", sym.integrate(x**3, (x, -1, 1)))\n",
    "print(\"f7) \", sym.integrate(sym.sin(x), (x, 0, sym.pi / 2)))\n",
    "print(\"f8) \", sym.integrate(sym.cos(x), (x, -sym.pi / 2, sym.pi / 2)))\n",
    "print(\"f9) \", sym.integrate(sym.exp(-x), (x, 0, sym.oo)))\n",
    "print(\"f7) \", sym.integrate(sym.exp(-x ** 2), (x, -sym.oo, sym.oo)))"
   ]
  },
  {
   "cell_type": "markdown",
   "metadata": {},
   "source": [
    "## Resolución de ecuaciones\n",
    "\n",
    "a) $x^4-1=0$\n",
    "\n",
    "b) $e^x + 1 = 0 \\rightarrow  x = i (2 \\pi n + \\pi), n \\in \\cal{Z}$\n",
    "\n",
    "d) $x^4 - 3 * x^2 + 1 = (x^2 - x - 1)(x^2 + x - 1)$"
   ]
  },
  {
   "cell_type": "code",
   "execution_count": 8,
   "metadata": {},
   "outputs": [
    {
     "name": "stdout",
     "output_type": "stream",
     "text": [
      "a)  {-1, 1, -I, I}\n",
      "b)  ImageSet(Lambda(_n, I*(2*_n*pi + pi)), Integers)\n",
      "c)  {x: -3, y: 1}\n",
      "d)  (x**2 - x - 1)*(x**2 + x - 1)\n",
      "e)  (x - 2)**2*(x + 2)**2\n",
      "f)  {x: True, y: True}\n",
      "g)  False\n"
     ]
    }
   ],
   "source": [
    "# Ecuaciones algebraicas:\n",
    "print(\"a) \", sym.solveset(x ** 4 - 1, x))\n",
    "\n",
    "# Ecuaciones algebraicas con números trascendentes:\n",
    "print(\"b) \", sym.solveset(sym.exp(x) + 1, x))\n",
    "\n",
    "# Sistemas de ecuaciones lineales:\n",
    "solution = sym.solve((x + 5 * y - 2, -3 * x + 6 * y - 15), (x, y))\n",
    "print(\"c) \", solution)\n",
    "\n",
    "# Factorización:\n",
    "f = x ** 4 - 3 * x ** 2 + 1\n",
    "print(\"d) \", sym.factor(f))\n",
    "print(\"e) \", sym.factor(f, modulus=5))\n",
    "print(\"f) \", sym.satisfiable(x & y))\n",
    "print(\"g) \", sym.satisfiable(x & ~x))"
   ]
  },
  {
   "cell_type": "markdown",
   "metadata": {},
   "source": [
    "## Álgebra lineal"
   ]
  },
  {
   "cell_type": "code",
   "execution_count": 9,
   "metadata": {},
   "outputs": [
    {
     "name": "stdout",
     "output_type": "stream",
     "text": [
      "a)  Matrix([[1, 0], [0, 1]])\n",
      "b)  Matrix([[1, x], [y, 1]]) Matrix([[x*y + 1, 2*x], [2*y, x*y + 1]])\n"
     ]
    }
   ],
   "source": [
    "# Matrices:\n",
    "print(\"a) \", sym.Matrix([[1, 0], [0, 1]]))\n",
    "x, y = sym.symbols('x, y')\n",
    "A = sym.Matrix([[1, x], [y, 1]])\n",
    "print(\"b) \", A, A**2)"
   ]
  },
  {
   "cell_type": "markdown",
   "metadata": {},
   "source": [
    "## Ecuaciones diferenciales"
   ]
  },
  {
   "cell_type": "code",
   "execution_count": 5,
   "metadata": {},
   "outputs": [
    {
     "name": "stdout",
     "output_type": "stream",
     "text": [
      "c)  f(x)\n",
      "d)  f(x) + Derivative(f(x), (x, 2))\n",
      "e)  Eq(f(x), C1*sin(x) + C2*cos(x))\n",
      "f)  [Eq(f(x), -acos(C1/cos(x)) + 2*pi), Eq(f(x), acos(C1/cos(x)))]\n"
     ]
    }
   ],
   "source": [
    "# Ecuaciones diferenciales:\n",
    "f, g = sym.symbols('f g', cls=sym.Function)\n",
    "print(\"c) \", f(x))\n",
    "print(\"d) \", f(x).diff(x, x) + f(x))\n",
    "print(\"e) \", sym.dsolve(f(x).diff(x, x) + f(x), f(x)))\n",
    "print(\"f) \", sym.dsolve(sym.sin(x) * sym.cos(f(x)) \\\n",
    "                        + sym.cos(x) * sym.sin(f(x)) * f(x).diff(x), \\\n",
    "                        f(x), hint='separable'))"
   ]
  }
 ],
 "metadata": {
  "kernelspec": {
   "display_name": "Python 3",
   "language": "python",
   "name": "python3"
  },
  "language_info": {
   "codemirror_mode": {
    "name": "ipython",
    "version": 3
   },
   "file_extension": ".py",
   "mimetype": "text/x-python",
   "name": "python",
   "nbconvert_exporter": "python",
   "pygments_lexer": "ipython3",
   "version": "3.7.3"
  }
 },
 "nbformat": 4,
 "nbformat_minor": 2
}
