{
 "cells": [
  {
   "cell_type": "markdown",
   "metadata": {},
   "source": [
    "# Librería scipy. Ejercicio\n",
    "\n",
    "Este ejercicio se debe realizar consultando la librería \"integrate\", de scipy. V. por ejemplo el contenido de la siguiente url:\n",
    "\n",
    "https://docs.scipy.org/doc/scipy/reference/tutorial/integrate.html"
   ]
  },
  {
   "cell_type": "markdown",
   "metadata": {},
   "source": [
    "## Integración con parámetros\n",
    "\n",
    "Deseamos calcular la siguiente integral:\n",
    "\n",
    "$$I(a, b) = \\int_{0}^{t} (a x^2 + b)dx$$\n",
    "\n",
    "lo que es, claramente una función de $a$ y $b$ (y de $t$, pero esto vendrá luego). \n",
    "\n",
    "Si por ejemplo, $a=3$ y $b=2$, $I(3, 2)$ sería una función $R \\rightarrow R$, concretamente la definida como $\\lambda t : \\int_{0}^{t} (3 x^2 + 2)dx = t^3 + 2t$.\n",
    "\n",
    "Define la función $I(a, b)$ con arreglo a la descripción proporcionada. \n",
    "El resultado deberá poderse aplicar de la manera siguiente, por ejemplo:\n",
    "\n",
    "    >>> F = I(3, 2)\n",
    "    >>> print(F(2))"
   ]
  },
  {
   "cell_type": "code",
   "execution_count": 1,
   "metadata": {
    "scrolled": true
   },
   "outputs": [
    {
     "name": "stdout",
     "output_type": "stream",
     "text": [
      "12.0\n"
     ]
    }
   ],
   "source": [
    "# Integración con parámetros\n",
    "\n",
    "import scipy.integrate as integrate\n",
    "from scipy.integrate import quad   # La integración definida básica, de propósito generalfrom scipy.integrate import quad   # La integración definida básica, de propósito general\n",
    "\n",
    "def I(a, b):\n",
    "    def f(x):\n",
    "        return a*x**2 + b\n",
    "    valor, error = integrate.quad(f, 0, 1)\n",
    "    return lambda t : integrate.quad(f, 0, t)[0]  # esto es porque integral --> (valor, error)\n",
    "\n",
    "F = I(3, 2)\n",
    "print(F(2))"
   ]
  }
 ],
 "metadata": {
  "kernelspec": {
   "display_name": "Python 3",
   "language": "python",
   "name": "python3"
  },
  "language_info": {
   "codemirror_mode": {
    "name": "ipython",
    "version": 3
   },
   "file_extension": ".py",
   "mimetype": "text/x-python",
   "name": "python",
   "nbconvert_exporter": "python",
   "pygments_lexer": "ipython3",
   "version": "3.7.3"
  }
 },
 "nbformat": 4,
 "nbformat_minor": 1
}
