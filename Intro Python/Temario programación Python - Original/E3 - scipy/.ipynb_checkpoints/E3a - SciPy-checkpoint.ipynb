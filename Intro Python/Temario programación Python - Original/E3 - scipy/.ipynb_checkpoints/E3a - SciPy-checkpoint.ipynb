{
 "cells": [
  {
   "cell_type": "markdown",
   "metadata": {},
   "source": [
    "# SciPy\n",
    "\n",
    "<hr>\n",
    "\n",
    "Es un conjunto de librerías para el cálculo científico, e incluye herramientas de software para matemáticas, ciencia e ingeniería. La siguiente tabla da una idea de lo amplia que es esta colección de librerías:\n",
    "\n",
    "| Módulo | Contenido |\n",
    "| --- | --- |\n",
    "| cluster     | Clustering algorithms|\n",
    "| constants   | Physical and mathematical constants|\n",
    "| fftpack     | Fast Fourier Transform routines|\n",
    "| integrate   | Integration and ordinary differential equation solvers|\n",
    "| interpolate | Interpolation and smoothing splines|\n",
    "| io          | Input and Output|\n",
    "| linalg      | Linear algebra|\n",
    "| ndimage     | N-dimensional image processing|\n",
    "| odr         | Orthogonal distance regression|\n",
    "| optimize    | Optimization and root-finding routines|\n",
    "| signal      | Signal processing|\n",
    "| sparse      | Sparse matrices and associated routines|\n",
    "| spatial     | Spatial data structures and algorithms|\n",
    "| special     | Special functions|\n",
    "| stats       | Statistical distributions and functions|\n",
    "\n",
    "Además de ello, pueden considerarse los siguientes módulos incluidos en scipy, aunque por su relevancia se suelen estudiar aparte:\n",
    "\n",
    "| Módulo      | Contenido |\n",
    "| ---         | --- |\n",
    "| NumPy       | Paquete básico de arrays n-dimensionales|\n",
    "| Matplotlib  | Trazado de gráficos bidimensionales|\n",
    "| IPython     | Consola interactiva mejorada|\n",
    "| SymPy       | Matemática simbólica|\n",
    "| Pandas      | Estructuras y análisis de datos|"
   ]
  },
  {
   "cell_type": "markdown",
   "metadata": {},
   "source": [
    "## Funciones estadísticas\n",
    "\n",
    "El módulo $\\verb|stats|$ contiene una gama amplia de distribuciones de probabilidad y de funciones estadísticas. La página de referencia es la siguiente:\n",
    "\n",
    "    https://docs.scipy.org/doc/scipy/reference/stats.html\n",
    "\n",
    "En esta página se puede ver las funciones y distribuciones disponibles.\n",
    "Para introducirse en ellas, lo mejor es cargar el modulo y solicitar información sobre una distribución o función cualquiera: "
   ]
  },
  {
   "cell_type": "code",
   "execution_count": null,
   "metadata": {},
   "outputs": [],
   "source": [
    "from scipy import stats\n",
    "\n",
    "help(stats.norm) # distibución normal"
   ]
  },
  {
   "cell_type": "code",
   "execution_count": null,
   "metadata": {},
   "outputs": [],
   "source": [
    "# Distribución normal\n",
    "\n",
    "from scipy.stats import norm\n",
    "mean, var, skew, kurt = norm.stats(moments='mvsk')\n",
    "print(\"Media, varianza, sesgo, kurtosis = \", mean, var, skew, kurt)\n",
    "print(\"Probabilidad acumulada en el punto de abcisa 0 = \", norm.cdf(0)) "
   ]
  },
  {
   "cell_type": "markdown",
   "metadata": {},
   "source": [
    "A manera de referencia, todas las funciones incluidas en $\\verb|SciPy.stats.norm|$ pueden verse en la siguiente dirección:\n",
    "\n",
    "    https://docs.scipy.org/doc/scipy/reference/generated/scipy.stats.norm.html\n",
    "\n",
    "Helas aquí:\n",
    "\n",
    "| Uso | Función |\n",
    "| --- | --- |\n",
    "| rvs(loc=0, scale=1, size=1, random_state=None) \t| Random variates.              |\n",
    "| pdf(x, loc=0, scale=1) \t                        | Probability density function. |\n",
    "| logpdf(x, loc=0, scale=1) \t| Log of the probability density function. |\n",
    "| cdf(x, loc=0, scale=1) \t| Cumulative distribution function. |\n",
    "| logcdf(x, loc=0, scale=1) \t| Log of the cumulative distribution function. |\n",
    "| sf(x, loc=0, scale=1) \t| Survival function (also defined as 1 - cdf, but sf is sometimes more accurate). |\n",
    "| logsf(x, loc=0, scale=1) \t| Log of the survival function. |\n",
    "| ppf(q, loc=0, scale=1) \t| Percent point function (inverse of cdf — percentiles). |\n",
    "| isf(q, loc=0, scale=1) \t| Inverse survival function (inverse of sf). |\n",
    "| moment(n, loc=0, scale=1) \t| Non-central moment of order n |\n",
    "| stats(loc=0, scale=1, moments=’mv’) \t| Mean(‘m’), variance(‘v’), skew(‘s’), and/or kurtosis(‘k’). |\n",
    "| entropy(loc=0, scale=1) \t| (Differential) entropy of the RV. |\n",
    "| fit(data, loc=0, scale=1) \t| Parameter estimates for generic data. |\n",
    "| expect(func, args=(), loc=0, scale=1, lb=None, ub=None, conditional=False, kwds) \t| Expected value of a function (of one  argument) with respect to the distribution. |\n",
    "| median(loc=0, scale=1) \t| Median of the distribution. |\n",
    "| mean(loc=0, scale=1) \t| Mean of the distribution. |\n",
    "| var(loc=0, scale=1) \t| Variance of the distribution. |\n",
    "| std(loc=0, scale=1) \t| Standard deviation of the distribution. |\n",
    "| interval(alpha, loc=0, scale=1) \t| Endpoints of the range that contains alpha percent of the distribution |\n"
   ]
  },
  {
   "cell_type": "markdown",
   "metadata": {},
   "source": [
    "Vamos a probar con una de ellas, $\\verb|cdf|$ (*Cumulative distribution function*), a manera de ejemplo:"
   ]
  },
  {
   "cell_type": "code",
   "execution_count": null,
   "metadata": {},
   "outputs": [],
   "source": [
    "import numpy as np\n",
    "xs = np.linspace(-3.,3.,20) \n",
    "ys = norm.cdf(xs) # probabilidad acumulada en una colección de puntos\n",
    "print(xs)\n",
    "print(ys)"
   ]
  },
  {
   "cell_type": "markdown",
   "metadata": {},
   "source": [
    "Veámoslo gráficamente:"
   ]
  },
  {
   "cell_type": "code",
   "execution_count": null,
   "metadata": {},
   "outputs": [],
   "source": [
    "import matplotlib.pyplot as plt\n",
    "plt.plot(xs, ys)\n",
    "plt.show()"
   ]
  },
  {
   "cell_type": "code",
   "execution_count": null,
   "metadata": {},
   "outputs": [],
   "source": [
    "ys_3_2 = norm.cdf(xs, loc=3, scale=2)  # media 3, desviación 2.\n",
    "print(ys_3_2)"
   ]
  },
  {
   "cell_type": "markdown",
   "metadata": {},
   "source": [
    "La gráfica sube ahora hasta 0.5. Es lógico, porque la distribución se centra en 3, que es hasta donde llegan las abcisas."
   ]
  },
  {
   "cell_type": "code",
   "execution_count": null,
   "metadata": {},
   "outputs": [],
   "source": [
    "import matplotlib.pyplot as plt\n",
    "plt.plot(xs, ys_3_2)\n",
    "plt.show()"
   ]
  },
  {
   "cell_type": "code",
   "execution_count": null,
   "metadata": {},
   "outputs": [],
   "source": [
    "# Variables aleatorias (dentro de la distribución normal)\n",
    "# rvs(loc=0, scale=1, size=1, random_state=None)\n",
    "\n",
    "norm.rvs(loc= 100, scale=1, size=10) # genera 10 números aleatorios, centrados en 100 y con una d.t. de 1"
   ]
  },
  {
   "cell_type": "code",
   "execution_count": null,
   "metadata": {},
   "outputs": [],
   "source": [
    "# Los parámetros son los definidos por defecto:\n",
    "np.random.seed(1000)\n",
    "norm.rvs(size=10)"
   ]
  },
  {
   "cell_type": "code",
   "execution_count": null,
   "metadata": {},
   "outputs": [],
   "source": [
    "# Cada ejecución es distinta, salvo cuando nosotros deseamos reproducir un experimento idéntico:\n",
    "np.random.seed(1000)\n",
    "norm.rvs(size=10)"
   ]
  },
  {
   "cell_type": "markdown",
   "metadata": {},
   "source": [
    "## Optimización\n",
    "\n",
    "Este módulo es muy flexible. Centrándonos únicamente en la función que busca un mínimo, el módulo permite aplicar métodos variasídimos de optimización sin y con restricciones, y parametrizarse para adaptarse a la multitud de situaciones que se pueden presentar."
   ]
  },
  {
   "cell_type": "code",
   "execution_count": null,
   "metadata": {},
   "outputs": [],
   "source": [
    "import numpy as np\n",
    "from scipy import optimize\n",
    "import matplotlib.pyplot as plt\n",
    "\n",
    "f = lambda x: np.sin(x) * np.exp(-abs(x/10))\n",
    "sol = optimize.minimize(f, 0.5)\n",
    "x = np.linspace(-10, 10, 5000)\n",
    "plt.plot(x, f(x), '-', sol.x, sol.fun, 'o')\n",
    "plt.show()"
   ]
  },
  {
   "cell_type": "markdown",
   "metadata": {},
   "source": [
    "## Optimización de funciones de 2 variables"
   ]
  },
  {
   "cell_type": "code",
   "execution_count": null,
   "metadata": {},
   "outputs": [],
   "source": [
    "# http://scipy-lectures.org/intro/scipy/auto_examples/plot_2d_minimization.html\n",
    "\n",
    "# Define the function that we are interested in\n",
    "def sixhump(x):\n",
    "    return ((4 - 2.1*x[0]**2 + x[0]**4 / 3.) * x[0]**2 + x[0] * x[1]\n",
    "            + (-4 + 4*x[1]**2) * x[1] **2)\n",
    "\n",
    "# Make a grid to evaluate the function (for plotting)\n",
    "x = np.linspace(-2, 2)\n",
    "y = np.linspace(-1, 1)\n",
    "xg, yg = np.meshgrid(x, y)\n",
    "\n",
    "from mpl_toolkits.mplot3d import Axes3D\n",
    "fig = plt.figure()\n",
    "ax = fig.add_subplot(111, projection='3d')\n",
    "surf = ax.plot_surface(xg, yg, sixhump([xg, yg]), rstride=1, cstride=1, cmap=plt.cm.jet, linewidth=0, antialiased=False)\n",
    "\n",
    "ax.set_xlabel('x')\n",
    "ax.set_ylabel('y')\n",
    "ax.set_zlabel('f(x, y)')\n",
    "ax.set_title('Six-hump Camelback function')\n",
    "\n",
    "from scipy import optimize\n",
    "\n",
    "x_min = optimize.minimize(sixhump, x0=[0, 0])\n",
    "\n",
    "plt.figure()\n",
    "\n",
    "# Show the function in 2D\n",
    "plt.imshow(sixhump([xg, yg]), extent=[-2, 2, -1, 1])\n",
    "plt.colorbar()\n",
    "# And the minimum that we've found:\n",
    "plt.scatter(x_min.x[0], x_min.x[1])\n",
    "\n",
    "plt.show()"
   ]
  },
  {
   "cell_type": "markdown",
   "metadata": {},
   "source": [
    "## Interpolación"
   ]
  },
  {
   "cell_type": "code",
   "execution_count": null,
   "metadata": {
    "scrolled": true
   },
   "outputs": [],
   "source": [
    "# http://scipy-lectures.org/intro/scipy/auto_examples/plot_interpolation.html\n",
    "\n",
    "# Generate data\n",
    "import numpy as np\n",
    "np.random.seed(0)\n",
    "measured_time = np.linspace(0, 1, 10)\n",
    "noise = 1e-1 * (np.random.random(10)*2 - 1)\n",
    "measures = np.sin(2 * np.pi * measured_time) + noise\n",
    "\n",
    "# Interpolate it to new time points\n",
    "from scipy.interpolate import interp1d\n",
    "linear_interp = interp1d(measured_time, measures)\n",
    "interpolation_time = np.linspace(0, 1, 50)\n",
    "linear_results = linear_interp(interpolation_time)\n",
    "cubic_interp = interp1d(measured_time, measures, kind='cubic')\n",
    "cubic_results = cubic_interp(interpolation_time)\n",
    "\n",
    "# Plot the data and the interpolation\n",
    "from matplotlib import pyplot as plt\n",
    "plt.figure(figsize=(6, 4))\n",
    "plt.plot(measured_time, measures, 'o', ms=6, label='measures')\n",
    "plt.plot(interpolation_time, linear_results, label='linear interp')\n",
    "plt.plot(interpolation_time, cubic_results, label='cubic interp')\n",
    "plt.legend()\n",
    "plt.show()"
   ]
  },
  {
   "cell_type": "markdown",
   "metadata": {},
   "source": [
    "## Ajuste de curvas"
   ]
  },
  {
   "cell_type": "code",
   "execution_count": null,
   "metadata": {
    "scrolled": true
   },
   "outputs": [],
   "source": [
    "# http://scipy-lectures.org/intro/scipy/auto_examples/plot_curve_fit.html\n",
    "\n",
    "import numpy as np\n",
    "import matplotlib.pyplot as plt\n",
    "\n",
    "# Empezamos por generar algunos datos:\n",
    "x_data = np.linspace(-5, 5, num=50)\n",
    "y_data = 2.9 * np.sin(1.5 * x_data) + np.random.normal(size=50)\n",
    "\n",
    "# Y los representamos:\n",
    "plt.figure(figsize=(6, 4))\n",
    "plt.scatter(x_data, y_data)\n",
    "plt.show()"
   ]
  },
  {
   "cell_type": "code",
   "execution_count": null,
   "metadata": {
    "scrolled": true
   },
   "outputs": [],
   "source": [
    "from scipy import optimize\n",
    "\n",
    "def test_func(x, a, b):\n",
    "    return a * np.sin(b * x)\n",
    "\n",
    "params, params_covariance = \\\n",
    "    optimize.curve_fit(test_func, x_data, y_data, p0=[2, 2])\n",
    "\n",
    "print(params)\n",
    "print(params_covariance)"
   ]
  },
  {
   "cell_type": "code",
   "execution_count": null,
   "metadata": {
    "scrolled": true
   },
   "outputs": [],
   "source": [
    "plt.figure(figsize=(6, 4))\n",
    "plt.scatter(x_data, y_data, label='Datos')\n",
    "plt.plot(x_data, test_func(x_data, params[0], params[1]),\n",
    "         label='Función de ajuste')\n",
    "\n",
    "plt.legend(loc='best')\n",
    "\n",
    "plt.show()"
   ]
  },
  {
   "cell_type": "markdown",
   "metadata": {},
   "source": [
    "## Álgebra lineal"
   ]
  },
  {
   "cell_type": "code",
   "execution_count": null,
   "metadata": {},
   "outputs": [],
   "source": [
    "from scipy import linalg\n",
    "a = np.array([[1,3,5],[2,5,1],[2,3,8]])\n",
    "a"
   ]
  },
  {
   "cell_type": "code",
   "execution_count": null,
   "metadata": {},
   "outputs": [],
   "source": [
    "# Determinante:\n",
    "print(\"|A| = \", linalg.det(a))\n",
    "# Inversión de matrices:\n",
    "linalg.inv(a)"
   ]
  },
  {
   "cell_type": "code",
   "execution_count": null,
   "metadata": {},
   "outputs": [],
   "source": [
    "# Producto de matrices:\n",
    "a @ linalg.inv(a)"
   ]
  },
  {
   "cell_type": "markdown",
   "metadata": {},
   "source": [
    "Solución de sistemas de ecuaciones:\n",
    "      \n",
    "$$\\begin{pmatrix}\n",
    "    1 & 3 & 5 \\\\\n",
    "    2 & 5 & 1 \\\\\n",
    "    2 & 3 & 8\n",
    "\\end{pmatrix}\n",
    "\\begin{pmatrix}\n",
    "    x \\\\\n",
    "    y \\\\\n",
    "    z\n",
    "\\end{pmatrix} =\n",
    "\\begin{pmatrix}\n",
    "   22 \\\\\n",
    "   15 \\\\\n",
    "   32\n",
    "\\end{pmatrix}\n",
    "$$"
   ]
  },
  {
   "cell_type": "code",
   "execution_count": null,
   "metadata": {},
   "outputs": [],
   "source": [
    "a = np.array([[1, 3, 5],\n",
    "       [2, 5, 1],\n",
    "       [2, 3, 8]])\n",
    "#b = np.array([[10],[8],[3]])\n",
    "b = np.array([[22],[15],[32]])\n",
    "linalg.solve(a, b)"
   ]
  },
  {
   "cell_type": "markdown",
   "metadata": {},
   "source": [
    "## Referencias\n",
    "\n",
    "La referencia principal, obligada, es la siguiente:\n",
    "\n",
    "    https://www.scipy.org/"
   ]
  }
 ],
 "metadata": {
  "kernelspec": {
   "display_name": "Python 3",
   "language": "python",
   "name": "python3"
  },
  "language_info": {
   "codemirror_mode": {
    "name": "ipython",
    "version": 3
   },
   "file_extension": ".py",
   "mimetype": "text/x-python",
   "name": "python",
   "nbconvert_exporter": "python",
   "pygments_lexer": "ipython3",
   "version": "3.7.3"
  }
 },
 "nbformat": 4,
 "nbformat_minor": 2
}
