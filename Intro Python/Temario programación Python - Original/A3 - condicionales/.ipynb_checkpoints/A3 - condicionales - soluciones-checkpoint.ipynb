{
 "cells": [
  {
   "cell_type": "markdown",
   "metadata": {},
   "source": [
    "# Condicionales. Ejercicios y soluciones\n",
    "\n",
    "<hr>"
   ]
  },
  {
   "cell_type": "markdown",
   "metadata": {},
   "source": [
    "### Ejercicio 1. La dura tarea de poner las notas\n",
    "\n",
    "Diseña una función que dé la calificación (“suspenso”, …, Matrícula de Honor”) correspondiente a una nota, exigiendo que la entrada sea un número real entre 0 y 10."
   ]
  },
  {
   "cell_type": "code",
   "execution_count": 1,
   "metadata": {},
   "outputs": [
    {
     "name": "stdout",
     "output_type": "stream",
     "text": [
      "0.5 Suspenso\n",
      "4.999 Suspenso\n",
      "5.0 Aprobado\n",
      "5.5 Aprobado\n",
      "6.8 Aprobado\n",
      "7.2 Notable\n",
      "9.25 Sobresaliente\n",
      "10.0 Matrícula de Honor\n"
     ]
    }
   ],
   "source": [
    "def calificacion(nota):\n",
    "    \"\"\"\n",
    "    Param:\n",
    "        nota: float\n",
    "    Pre:\n",
    "        0 <= nota <= 10\n",
    "    \"\"\"\n",
    "    if nota < 5.0:\n",
    "        return \"Suspenso\"\n",
    "    elif nota < 7.0:\n",
    "        return \"Aprobado\"\n",
    "    elif nota < 9.0:\n",
    "        return \"Notable\"\n",
    "    elif nota < 10.0:\n",
    "        return \"Sobresaliente\"\n",
    "    else:\n",
    "        return \"Matrícula de Honor\"\n",
    "\n",
    "for nota in [0.5, 4.999, 5.0, 5.5, 6.8, 7.2, 9.25, 10.0]:\n",
    "    print(nota, calificacion(nota))"
   ]
  },
  {
   "cell_type": "markdown",
   "metadata": {},
   "source": [
    "### Ecuación de segundo grado\n",
    "\n",
    "Diseña un programa que calcule las soluciones de una ecuación de la forma $ax^2+bx+c=0$. Debes tener en cuenta que los coeficientes pueden ser reales arbitrarios, nulos o no, etc., dando lugar a una ecuación sin solución, con una o con dos soluciones reales o imaginarias.\n",
    "\n",
    "Añadimos por nuestra cuenta"
   ]
  },
  {
   "cell_type": "code",
   "execution_count": 2,
   "metadata": {},
   "outputs": [
    {
     "name": "stdout",
     "output_type": "stream",
     "text": [
      "a  ('Inf Sols',)\n",
      "b  ('Sin Sol',)\n",
      "c  ('Sol única', -2.5)\n",
      "d  ('2 solucs reales', 3.0, 2.0)\n",
      "e  ('2 solucs imags', (-1+2j), (-1-2j))\n"
     ]
    }
   ],
   "source": [
    "import math, cmath\n",
    "\n",
    "def resuelve_ec_2_grado(a, b, c):\n",
    "    \"\"\"\n",
    "    ...\n",
    "    Parameters:\n",
    "    -----------\n",
    "        a, b, c: float, float, float\n",
    "    ...\n",
    "    \"\"\"\n",
    "    if a == 0:\n",
    "        if b == 0:\n",
    "            if c == 0:\n",
    "                return (\"Inf Sols\",)\n",
    "            else:\n",
    "                return (\"Sin Sol\",)\n",
    "        else:\n",
    "            return (\"Sol única\", -c/b)\n",
    "    else:\n",
    "        discriminante = b**2 - 4*a*c\n",
    "        if discriminante >= 0:\n",
    "            sol1 = (-b + math.sqrt(discriminante)) / (2*a)\n",
    "            sol2 = (-b - math.sqrt(discriminante)) / (2*a)\n",
    "            return (\"2 solucs reales\", sol1, sol2)\n",
    "        else:\n",
    "            sol1 = (-b + cmath.sqrt(discriminante)) / (2*a)\n",
    "            sol2 = (-b - cmath.sqrt(discriminante)) / (2*a)\n",
    "            return (\"2 solucs imags\", sol1, sol2)\n",
    "\n",
    "print(\"a \", resuelve_ec_2_grado(0, 0, 0))\n",
    "print(\"b \", resuelve_ec_2_grado(0, 0, 3))\n",
    "print(\"c \", resuelve_ec_2_grado(0, 2, 5))\n",
    "print(\"d \", resuelve_ec_2_grado(1, -5, 6))\n",
    "print(\"e \", resuelve_ec_2_grado(1, 2, 5))"
   ]
  },
  {
   "cell_type": "markdown",
   "metadata": {},
   "source": [
    "### Códigos de rotación\n",
    "\n",
    "Imaginemos las letras del alfabeto ordenadas y dispuestas en círculo.\n",
    "Esto es, a la derecha de la A se encuentra la B, luego la C y así sucesivamente, hasta la Z, y a la derecha de la Z se encuentra nuevamente la A.\n",
    "Definimos una función que codifica un carácter $c$ según un desplazamiento $k$, moviendo ese carácter $c$, $k$ posiciones a la derecha.\n",
    "\n",
    "Defínela y úsala para codificar una frase."
   ]
  },
  {
   "cell_type": "code",
   "execution_count": 3,
   "metadata": {},
   "outputs": [
    {
     "name": "stdout",
     "output_type": "stream",
     "text": [
      "Al ataque.\n",
      "Hs hahxbl.\n",
      "Al ataque.\n"
     ]
    }
   ],
   "source": [
    "def cod_char(a, k):\n",
    "    if not a.isalpha():\n",
    "        return a\n",
    "    kk = ord(a) + k%26\n",
    "    aa = chr(kk)\n",
    "    if a.isupper() and aa.isupper() or a.islower() and aa.islower():\n",
    "        return aa\n",
    "    else:\n",
    "        return chr(kk - 26)\n",
    "    \n",
    "def cod_linea(linea, k):\n",
    "    return \"\".join([cod_char(a, k) for a in linea ])\n",
    "\n",
    "frase = \"Al ataque.\"\n",
    "codificada = cod_linea(frase, 7)\n",
    "descodificada = cod_linea(codificada, -7)\n",
    "\n",
    "print(frase)\n",
    "print(codificada)\n",
    "print(descodificada)"
   ]
  }
 ],
 "metadata": {
  "kernelspec": {
   "display_name": "Python 3",
   "language": "python",
   "name": "python3"
  },
  "language_info": {
   "codemirror_mode": {
    "name": "ipython",
    "version": 3
   },
   "file_extension": ".py",
   "mimetype": "text/x-python",
   "name": "python",
   "nbconvert_exporter": "python",
   "pygments_lexer": "ipython3",
   "version": "3.7.3"
  }
 },
 "nbformat": 4,
 "nbformat_minor": 2
}
