{
 "cells": [
  {
   "cell_type": "markdown",
   "metadata": {},
   "source": [
    "# NLTK - proyecto - predicción textual - solución a la primera parte\n",
    "\n",
    "<hr>\n",
    "\n",
    "NLTK (*Natural Language Tool Kit*) es un módulo para el procesamiento de lenguaje natural. Está muy desarrollado para la lengua inglesa, y menos en español.\n",
    "\n",
    "Abordamos una introducción de los conceptos básicos,\n",
    "intentando ceñirnos al español en la medida de lo posible."
   ]
  },
  {
   "cell_type": "code",
   "execution_count": 1,
   "metadata": {},
   "outputs": [
    {
     "name": "stdout",
     "output_type": "stream",
     "text": [
      "['hace', 'unos', 'años', 'no', 'importa', 'cuánto', 'hace', 'exactamente', 'teniendo', 'poco', 'dinero', 'en', 'el', 'bolsillo', 'nada', 'en', 'particular', 'que', 'me', 'interesara', 'en', 'tierra', 'pensé', 'que', 'me', 'iría', 'un', 'poco', 'por', 'ahí', 'para', 'ver', 'la', 'parte', 'acuática', 'del', 'mundo', 'es', 'un', 'modo', 'que', 'tengo', 'de', 'echar', 'fuera', 'la', 'melancolía', 'arreglar', 'la', 'circulación', 'cada', 'vez', 'que', 'me', 'sorprendo', 'poniendo', 'una', 'boca', 'triste', 'cada', 'vez', 'que', 'en', 'mi', 'alma', 'hay', 'un', 'noviembre', 'lloviznoso', 'cada', 'vez', 'que', 'me', 'encuentro', 'parándome', 'sin', 'querer', 'ante', 'las', 'tiendas', 'de', 'ataúdes', 'especialmente', 'cada', 'vez', 'que', 'la', 'hipocondría', 'me', 'domina', 'de', 'tal', 'modo', 'que', 'hace', 'falta', 'un', 'recio', 'principio', 'moral', 'para', 'impedirme', 'salir', 'la', 'calle', 'con', 'toda', 'deliberación', 'derribar', 'metódicamente', 'el', 'sombrero', 'los', 'entonces', 'entiendo', 'que', 'es', 'más', 'que', 'hora', 'de', 'hacerme', 'la', 'mar', 'tan', 'pronto', 'como', 'pueda', 'es', 'mi', 'sustitutivo', 'de', 'la', 'pistola', 'la', 'bala', 'con', 'floreo', 'filosófico', 'catón', 'se', 'arroja', 'sobre', 'su', 'espada', 'yo', 'calladamente', 'me', 'meto', 'en', 'el', 'barco', 'no', 'hay', 'nada', 'en', 'esto', 'aunque', 'no', 'lo', 'sepan', 'casi', 'todos', 'los', 'hombres', 'en', 'una', 'en', 'otra', 'ocasión', 'abrigan', 'sentimientos', 'muy', 'parecidos', 'los', 'míos', 'respecto', 'al', 'océano']\n"
     ]
    }
   ],
   "source": [
    "moby_dick = \"\"\"Hace unos años —no importa cuánto  hace  exactamente—,  teniendo  poco  o  nin-gún dinero en el bolsillo, y nada en particular que me interesara en tierra, pensé que me iría a nave-gar un poco por ahí, para ver la parte acuática del mundo.  Es  un  modo  que  tengo  de  echar  fuera  la  melancolía  y arreglar  la  circulación.  Cada  vez  que  me  sorprendo  poniendo una boca triste; cada vez que en mi alma hay un noviembre hú-medo  y  lloviznoso;  cada  vez  que  me  encuentro  parándome  sin querer  ante  las  tiendas  de  ataúdes;  y,  especialmente,  cada  vez que  la  hipocondría  me  domina  de  tal  modo  que  hace  falta  un recio  principio  moral  para  impedirme  salir  a  la  calle  con  toda deliberación  a  derribar  metódicamente  el  sombrero  a  los  tran-seúntes,  entonces,  entiendo  que  es  más  que  hora  de  hacerme  a la mar tan pronto como pueda. Es mi sustitutivo de la pistola y la  bala.  Con  floreo  filosófico,  Catón  se  arroja  sobre  su  espada; yo,  calladamente,  me  meto  en  el  barco.  No  hay  nada  sorpren-dente  en  esto.  Aunque  no lo  sepan,  casi  todos  los  hombres,  en una o en otra ocasión, abrigan sentimientos muy parecidos a los míos respecto al océano.\n",
    "\"\"\"\n",
    "\n",
    "def limpiar(palabra):\n",
    "    pal_copia = palabra\n",
    "    while len(pal_copia)>0 and not pal_copia[0].isalpha():\n",
    "        pal_copia = pal_copia[1:]\n",
    "    while len(pal_copia)>0 and not pal_copia[len(pal_copia)-1].isalpha():\n",
    "        pal_copia = pal_copia[:-1]\n",
    "    if pal_copia.isalpha():\n",
    "        return pal_copia\n",
    "    else:\n",
    "        return \"\"\n",
    "\n",
    "md_1 = [limpiar(p) for p in moby_dick.split()]\n",
    "md_2 = [p.lower() for p in md_1 if len(p) > 1]\n",
    "\n",
    "print(md_2)"
   ]
  },
  {
   "cell_type": "code",
   "execution_count": 2,
   "metadata": {},
   "outputs": [
    {
     "name": "stdout",
     "output_type": "stream",
     "text": [
      "[('hace', 'unos'), ('unos', 'años'), ('años', 'no'), ('no', 'importa'), ('importa', 'cuánto'), ('cuánto', 'hace'), ('hace', 'exactamente'), ('exactamente', 'teniendo'), ('teniendo', 'poco'), ('poco', 'dinero'), ('dinero', 'en'), ('en', 'el'), ('el', 'bolsillo'), ('bolsillo', 'nada'), ('nada', 'en'), ('en', 'particular'), ('particular', 'que'), ('que', 'me'), ('me', 'interesara'), ('interesara', 'en'), ('en', 'tierra'), ('tierra', 'pensé'), ('pensé', 'que'), ('que', 'me'), ('me', 'iría'), ('iría', 'un'), ('un', 'poco'), ('poco', 'por'), ('por', 'ahí'), ('ahí', 'para'), ('para', 'ver'), ('ver', 'la'), ('la', 'parte'), ('parte', 'acuática'), ('acuática', 'del'), ('del', 'mundo'), ('mundo', 'es'), ('es', 'un'), ('un', 'modo'), ('modo', 'que'), ('que', 'tengo'), ('tengo', 'de'), ('de', 'echar'), ('echar', 'fuera'), ('fuera', 'la'), ('la', 'melancolía'), ('melancolía', 'arreglar'), ('arreglar', 'la'), ('la', 'circulación'), ('circulación', 'cada'), ('cada', 'vez'), ('vez', 'que'), ('que', 'me'), ('me', 'sorprendo'), ('sorprendo', 'poniendo'), ('poniendo', 'una'), ('una', 'boca'), ('boca', 'triste'), ('triste', 'cada'), ('cada', 'vez'), ('vez', 'que'), ('que', 'en'), ('en', 'mi'), ('mi', 'alma'), ('alma', 'hay'), ('hay', 'un'), ('un', 'noviembre'), ('noviembre', 'lloviznoso'), ('lloviznoso', 'cada'), ('cada', 'vez'), ('vez', 'que'), ('que', 'me'), ('me', 'encuentro'), ('encuentro', 'parándome'), ('parándome', 'sin'), ('sin', 'querer'), ('querer', 'ante'), ('ante', 'las'), ('las', 'tiendas'), ('tiendas', 'de'), ('de', 'ataúdes'), ('ataúdes', 'especialmente'), ('especialmente', 'cada'), ('cada', 'vez'), ('vez', 'que'), ('que', 'la'), ('la', 'hipocondría'), ('hipocondría', 'me'), ('me', 'domina'), ('domina', 'de'), ('de', 'tal'), ('tal', 'modo'), ('modo', 'que'), ('que', 'hace'), ('hace', 'falta'), ('falta', 'un'), ('un', 'recio'), ('recio', 'principio'), ('principio', 'moral'), ('moral', 'para'), ('para', 'impedirme'), ('impedirme', 'salir'), ('salir', 'la'), ('la', 'calle'), ('calle', 'con'), ('con', 'toda'), ('toda', 'deliberación'), ('deliberación', 'derribar'), ('derribar', 'metódicamente'), ('metódicamente', 'el'), ('el', 'sombrero'), ('sombrero', 'los'), ('los', 'entonces'), ('entonces', 'entiendo'), ('entiendo', 'que'), ('que', 'es'), ('es', 'más'), ('más', 'que'), ('que', 'hora'), ('hora', 'de'), ('de', 'hacerme'), ('hacerme', 'la'), ('la', 'mar'), ('mar', 'tan'), ('tan', 'pronto'), ('pronto', 'como'), ('como', 'pueda'), ('pueda', 'es'), ('es', 'mi'), ('mi', 'sustitutivo'), ('sustitutivo', 'de'), ('de', 'la'), ('la', 'pistola'), ('pistola', 'la'), ('la', 'bala'), ('bala', 'con'), ('con', 'floreo'), ('floreo', 'filosófico'), ('filosófico', 'catón'), ('catón', 'se'), ('se', 'arroja'), ('arroja', 'sobre'), ('sobre', 'su'), ('su', 'espada'), ('espada', 'yo'), ('yo', 'calladamente'), ('calladamente', 'me'), ('me', 'meto'), ('meto', 'en'), ('en', 'el'), ('el', 'barco'), ('barco', 'no'), ('no', 'hay'), ('hay', 'nada'), ('nada', 'en'), ('en', 'esto'), ('esto', 'aunque'), ('aunque', 'no'), ('no', 'lo'), ('lo', 'sepan'), ('sepan', 'casi'), ('casi', 'todos'), ('todos', 'los'), ('los', 'hombres'), ('hombres', 'en'), ('en', 'una'), ('una', 'en'), ('en', 'otra'), ('otra', 'ocasión'), ('ocasión', 'abrigan'), ('abrigan', 'sentimientos'), ('sentimientos', 'muy'), ('muy', 'parecidos'), ('parecidos', 'los'), ('los', 'míos'), ('míos', 'respecto'), ('respecto', 'al'), ('al', 'océano')]\n"
     ]
    }
   ],
   "source": [
    "bigramas = list(zip(md_2, md_2[1:]))\n",
    "print(bigramas)"
   ]
  },
  {
   "cell_type": "code",
   "execution_count": 3,
   "metadata": {},
   "outputs": [
    {
     "name": "stdout",
     "output_type": "stream",
     "text": [
      "{'hace': ['unos', 'exactamente', 'falta'], 'unos': ['años'], 'años': ['no'], 'no': ['importa', 'hay', 'lo'], 'importa': ['cuánto'], 'cuánto': ['hace'], 'exactamente': ['teniendo'], 'teniendo': ['poco'], 'poco': ['dinero', 'por'], 'dinero': ['en'], 'en': ['el', 'particular', 'tierra', 'mi', 'el', 'esto', 'una', 'otra'], 'el': ['bolsillo', 'sombrero', 'barco'], 'bolsillo': ['nada'], 'nada': ['en', 'en'], 'particular': ['que'], 'que': ['me', 'me', 'tengo', 'me', 'en', 'me', 'la', 'hace', 'es', 'hora'], 'me': ['interesara', 'iría', 'sorprendo', 'encuentro', 'domina', 'meto'], 'interesara': ['en'], 'tierra': ['pensé'], 'pensé': ['que'], 'iría': ['un'], 'un': ['poco', 'modo', 'noviembre', 'recio'], 'por': ['ahí'], 'ahí': ['para'], 'para': ['ver', 'impedirme'], 'ver': ['la'], 'la': ['parte', 'melancolía', 'circulación', 'hipocondría', 'calle', 'mar', 'pistola', 'bala'], 'parte': ['acuática'], 'acuática': ['del'], 'del': ['mundo'], 'mundo': ['es'], 'es': ['un', 'más', 'mi'], 'modo': ['que', 'que'], 'tengo': ['de'], 'de': ['echar', 'ataúdes', 'tal', 'hacerme', 'la'], 'echar': ['fuera'], 'fuera': ['la'], 'melancolía': ['arreglar'], 'arreglar': ['la'], 'circulación': ['cada'], 'cada': ['vez', 'vez', 'vez', 'vez'], 'vez': ['que', 'que', 'que', 'que'], 'sorprendo': ['poniendo'], 'poniendo': ['una'], 'una': ['boca', 'en'], 'boca': ['triste'], 'triste': ['cada'], 'mi': ['alma', 'sustitutivo'], 'alma': ['hay'], 'hay': ['un', 'nada'], 'noviembre': ['lloviznoso'], 'lloviznoso': ['cada'], 'encuentro': ['parándome'], 'parándome': ['sin'], 'sin': ['querer'], 'querer': ['ante'], 'ante': ['las'], 'las': ['tiendas'], 'tiendas': ['de'], 'ataúdes': ['especialmente'], 'especialmente': ['cada'], 'hipocondría': ['me'], 'domina': ['de'], 'tal': ['modo'], 'falta': ['un'], 'recio': ['principio'], 'principio': ['moral'], 'moral': ['para'], 'impedirme': ['salir'], 'salir': ['la'], 'calle': ['con'], 'con': ['toda', 'floreo'], 'toda': ['deliberación'], 'deliberación': ['derribar'], 'derribar': ['metódicamente'], 'metódicamente': ['el'], 'sombrero': ['los'], 'los': ['entonces', 'hombres', 'míos'], 'entonces': ['entiendo'], 'entiendo': ['que'], 'más': ['que'], 'hora': ['de'], 'hacerme': ['la'], 'mar': ['tan'], 'tan': ['pronto'], 'pronto': ['como'], 'como': ['pueda'], 'pueda': ['es'], 'sustitutivo': ['de'], 'pistola': ['la'], 'bala': ['con'], 'floreo': ['filosófico'], 'filosófico': ['catón'], 'catón': ['se'], 'se': ['arroja'], 'arroja': ['sobre'], 'sobre': ['su'], 'su': ['espada'], 'espada': ['yo'], 'yo': ['calladamente'], 'calladamente': ['me'], 'meto': ['en'], 'barco': ['no'], 'esto': ['aunque'], 'aunque': ['no'], 'lo': ['sepan'], 'sepan': ['casi'], 'casi': ['todos'], 'todos': ['los'], 'hombres': ['en'], 'otra': ['ocasión'], 'ocasión': ['abrigan'], 'abrigan': ['sentimientos'], 'sentimientos': ['muy'], 'muy': ['parecidos'], 'parecidos': ['los'], 'míos': ['respecto'], 'respecto': ['al'], 'al': ['océano']}\n"
     ]
    }
   ],
   "source": [
    "def formar_dicc(pares):\n",
    "    dicc = dict()\n",
    "    for key, val in pares:\n",
    "        if key in dicc:\n",
    "            dicc[key].append(val)\n",
    "        else:\n",
    "            dicc[key] = [val]\n",
    "    return dicc\n",
    "\n",
    "pal_siguientes = formar_dicc(bigramas)\n",
    "\n",
    "print(pal_siguientes)"
   ]
  },
  {
   "cell_type": "code",
   "execution_count": 4,
   "metadata": {},
   "outputs": [
    {
     "name": "stdout",
     "output_type": "stream",
     "text": [
      "['unos', 'exactamente', 'falta']\n",
      "['años']\n",
      "['me', 'me', 'tengo', 'me', 'en', 'me', 'la', 'hace', 'es', 'hora']\n"
     ]
    }
   ],
   "source": [
    "print(pal_siguientes[\"hace\"])\n",
    "print(pal_siguientes[\"unos\"])\n",
    "print(pal_siguientes[\"que\"])"
   ]
  },
  {
   "cell_type": "code",
   "execution_count": 5,
   "metadata": {},
   "outputs": [
    {
     "name": "stdout",
     "output_type": "stream",
     "text": [
      "hace  ->  ['unos', 'exactamente', 'falta']\n",
      "no  ->  ['importa', 'hay', 'lo']\n",
      "poco  ->  ['dinero', 'por']\n",
      "en  ->  ['el', 'particular', 'tierra', 'mi', 'el', 'esto', 'una', 'otra']\n",
      "el  ->  ['bolsillo', 'sombrero', 'barco']\n",
      "nada  ->  ['en', 'en']\n",
      "que  ->  ['me', 'me', 'tengo', 'me', 'en', 'me', 'la', 'hace', 'es', 'hora']\n",
      "me  ->  ['interesara', 'iría', 'sorprendo', 'encuentro', 'domina', 'meto']\n",
      "un  ->  ['poco', 'modo', 'noviembre', 'recio']\n",
      "para  ->  ['ver', 'impedirme']\n",
      "la  ->  ['parte', 'melancolía', 'circulación', 'hipocondría', 'calle', 'mar', 'pistola', 'bala']\n",
      "es  ->  ['un', 'más', 'mi']\n",
      "modo  ->  ['que', 'que']\n",
      "de  ->  ['echar', 'ataúdes', 'tal', 'hacerme', 'la']\n",
      "cada  ->  ['vez', 'vez', 'vez', 'vez']\n",
      "vez  ->  ['que', 'que', 'que', 'que']\n",
      "una  ->  ['boca', 'en']\n",
      "mi  ->  ['alma', 'sustitutivo']\n",
      "hay  ->  ['un', 'nada']\n",
      "con  ->  ['toda', 'floreo']\n",
      "los  ->  ['entonces', 'hombres', 'míos']\n"
     ]
    }
   ],
   "source": [
    "for key, val in pal_siguientes.items():\n",
    "    if len(val) > 1:\n",
    "        print (key, \" -> \", val)"
   ]
  },
  {
   "cell_type": "markdown",
   "metadata": {},
   "source": [
    "Queremos que, para cada palabra, se de la lista de posibles siguientes, en orden de mayor a menor frecuencia. "
   ]
  },
  {
   "cell_type": "code",
   "execution_count": 6,
   "metadata": {},
   "outputs": [
    {
     "name": "stdout",
     "output_type": "stream",
     "text": [
      "[('me', 4), ('tengo', 1), ('en', 3), ('hace', 2)]\n",
      "[('me', 4), ('en', 3), ('hace', 2), ('tengo', 1)]\n",
      "['me', 'en', 'hace', 'tengo']\n"
     ]
    }
   ],
   "source": [
    "lista_inicial = ['me', 'me', 'tengo', 'me', 'en', 'me', 'en', 'hace', 'en', 'hace']\n",
    "\n",
    "# Calculamos las frecuencias de las palabras:\n",
    "\n",
    "def frecuencias(palabras):\n",
    "    lista = [(w, palabras.count(w)) for w in palabras]\n",
    "    lista_sin_dups = []\n",
    "    for wf in lista:\n",
    "        if wf not in lista_sin_dups:\n",
    "            lista_sin_dups.append(wf)\n",
    "    return lista_sin_dups\n",
    "\n",
    "pal_frecs = frecuencias(lista_inicial)\n",
    "\n",
    "print(pal_frecs)\n",
    "\n",
    "# Ordenamos la lista, de mayor a menor frecuencia:\n",
    "\n",
    "pal_frecs_ordenadas = sorted(pal_frecs, key = lambda wf: wf[1], reverse=True)\n",
    "\n",
    "print(pal_frecs_ordenadas)\n",
    "\n",
    "# Nos quedamos únicamente con el primer elemento de cada par:\n",
    "\n",
    "pals_ordenadas = [w for (w, f) in pal_frecs_ordenadas]\n",
    "\n",
    "print(pals_ordenadas)"
   ]
  },
  {
   "cell_type": "markdown",
   "metadata": {},
   "source": [
    "Pongamos lo anterior todo junto:"
   ]
  },
  {
   "cell_type": "code",
   "execution_count": 7,
   "metadata": {},
   "outputs": [
    {
     "name": "stdout",
     "output_type": "stream",
     "text": [
      "['me', 'en', 'hace', 'tengo']\n"
     ]
    }
   ],
   "source": [
    "def palabras_frecuentes(palabras):\n",
    "    lista = [(w, palabras.count(w)) for w in palabras]\n",
    "    lista_sin_dups = []\n",
    "    for wf in lista:\n",
    "        if wf not in lista_sin_dups:\n",
    "            lista_sin_dups.append(wf)\n",
    "    pal_frecs_ordenadas = sorted(pal_frecs, key = lambda wf: wf[1], reverse=True)\n",
    "    return [w for (w, f) in pal_frecs_ordenadas]\n",
    "\n",
    "lista_inicial = ['me', 'me', 'tengo', 'me', 'en', 'me', 'en', 'hace', 'en', 'hace']\n",
    "\n",
    "print(palabras_frecuentes(lista_inicial))"
   ]
  },
  {
   "cell_type": "markdown",
   "metadata": {},
   "source": [
    "Ahora un diccionario de sugerencias dará, para cada palabra, la lista de posibles continuaciones, ordenadas de mayor a menor frecuencia.\n",
    "\n",
    "Dejo esto pendiente como un pequeño desafío para ti... :-)"
   ]
  }
 ],
 "metadata": {
  "kernelspec": {
   "display_name": "Python 3",
   "language": "python",
   "name": "python3"
  },
  "language_info": {
   "codemirror_mode": {
    "name": "ipython",
    "version": 3
   },
   "file_extension": ".py",
   "mimetype": "text/x-python",
   "name": "python",
   "nbconvert_exporter": "python",
   "pygments_lexer": "ipython3",
   "version": "3.7.3"
  }
 },
 "nbformat": 4,
 "nbformat_minor": 2
}
