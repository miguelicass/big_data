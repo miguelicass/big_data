{
 "cells": [
  {
   "cell_type": "markdown",
   "metadata": {},
   "source": [
    "# Tipos de datos. Ejercicios y soluciones\n",
    "\n",
    "<hr>"
   ]
  },
  {
   "cell_type": "markdown",
   "metadata": {},
   "source": [
    "### Ejercicio 1. Cambio de moneda\n",
    "\n",
    "a. Un país tiene monedas de 1 U, 5 U y 25 U. Si tenemos una cierta cantidad de\n",
    "dinero en una variable, diseña fórmulas para dar el cambio óptimo en las\n",
    "monedas descritas.\n",
    "\n",
    "        >>> dinero = 537\n",
    "        >>> mon_1 = dinero % 5\n",
    "        ..."
   ]
  },
  {
   "cell_type": "code",
   "execution_count": 1,
   "metadata": {},
   "outputs": [
    {
     "name": "stdout",
     "output_type": "stream",
     "text": [
      "Dinero =  537\n",
      "21 2 2\n"
     ]
    }
   ],
   "source": [
    "dinero = 537\n",
    "print(\"Dinero = \", dinero)\n",
    "\n",
    "mon_25 = dinero // 25\n",
    "resto_25 = dinero % 25\n",
    "mon_5 = resto_25 // 5\n",
    "mon_1 = resto_25 % 5\n",
    "\n",
    "print(mon_25, mon_5, mon_1)"
   ]
  },
  {
   "cell_type": "code",
   "execution_count": 2,
   "metadata": {},
   "outputs": [
    {
     "name": "stdout",
     "output_type": "stream",
     "text": [
      "537  =  537\n"
     ]
    }
   ],
   "source": [
    "# Comprobación:\n",
    "\n",
    "print(dinero, \" = \", mon_25  * 25 +  mon_5  * 5 +  mon_1 * 1)"
   ]
  },
  {
   "cell_type": "markdown",
   "metadata": {},
   "source": [
    "b. Completa un programa que pida una cierta cantidad de dinero y dé una salida\n",
    "adecuada:\n",
    "\n",
    "        Dame la cantidad de dinero que deseas cambiar: 537\n",
    "        \n",
    "            Desglose de 537 U:\n",
    "            21 monedas de 25 U\n",
    "            2 monedas de 5 U\n",
    "            1 monedas de 1 U"
   ]
  },
  {
   "cell_type": "code",
   "execution_count": 3,
   "metadata": {},
   "outputs": [
    {
     "name": "stdout",
     "output_type": "stream",
     "text": [
      "Dame la cantidad de dinero que deseas cambiar: 459\n",
      "desglose de 459 U:\n",
      "18 monedas de 25 U\n",
      "1 monedas de 5 U\n",
      "4 monedas de 1 U\n"
     ]
    }
   ],
   "source": [
    "# Con una salida más clara:\n",
    "\n",
    "entrada = input(\"Dame la cantidad de dinero que deseas cambiar: \")\n",
    "dinero = int(entrada)\n",
    "\n",
    "mon_25 = dinero // 25\n",
    "resto_25 = dinero % 25\n",
    "mon_5 = resto_25 // 5\n",
    "mon_1 = resto_25 % 5\n",
    "\n",
    "print(\"desglose de \" + entrada + \" U:\")\n",
    "print(mon_25, \"monedas de 25 U\")\n",
    "print(mon_5, \"monedas de 5 U\")\n",
    "print(mon_1, \"monedas de 1 U\")"
   ]
  },
  {
   "cell_type": "markdown",
   "metadata": {},
   "source": [
    "### Ejercicio 2. Hola Edmundo\n",
    "\n",
    "a. En casi todas partes, es clásico el programa “Hola Mundo”, que simplemente escribe esta frase en la pantalla:\n",
    "\n",
    "        print(\"Hola, mundo\")\n",
    "\n",
    "Hazlo en tu consola de Spyder, y haz luego dos versiones o tres más: una, que pregunta el nombre del usuario y lo saluda con dicho nombre:\n",
    "    \n",
    "        ¿Cómo te llamas? Edmundo\n",
    "        Hola, Edmundo"
   ]
  },
  {
   "cell_type": "code",
   "execution_count": 4,
   "metadata": {},
   "outputs": [
    {
     "name": "stdout",
     "output_type": "stream",
     "text": [
      "¿Cómo te llamas? Cristóbal\n",
      "Hola,  Cristóbal\n"
     ]
    }
   ],
   "source": [
    "nombre = input(\"¿Cómo te llamas? \")\n",
    "print(\"Hola, \", nombre)"
   ]
  },
  {
   "cell_type": "markdown",
   "metadata": {},
   "source": [
    "b. Diseña ahora una segunda versión, que pregunta también la edad y le contesta con su nombre, la edad y los años que cumplirá la próxima vez. (Esto es simplemente para que convierta la edad en un número…)"
   ]
  },
  {
   "cell_type": "code",
   "execution_count": 5,
   "metadata": {},
   "outputs": [
    {
     "name": "stdout",
     "output_type": "stream",
     "text": [
      "¿Cómo te llamas? Fernando\n",
      "Dime tu edad: 21\n",
      "Hola,  Fernando . En tu próximo cumpleaños, cumplirás  22  años.\n"
     ]
    }
   ],
   "source": [
    "nombre = input(\"¿Cómo te llamas? \")\n",
    "edad = input(\"Dime tu edad: \")\n",
    "\n",
    "print(\"Hola, \", nombre, \". En tu próximo cumpleaños, cumplirás \", int(edad) + 1, \" años.\")"
   ]
  },
  {
   "cell_type": "markdown",
   "metadata": {},
   "source": [
    "c. La última versión que te pido, funciona desde la consola del sistema operativo. \n",
    "    \n",
    "        if __name__ == \"__main__\":\n",
    "            ...\n",
    "\n",
    "Esta solución se ha de dar fuera de Jupyter..."
   ]
  },
  {
   "cell_type": "markdown",
   "metadata": {},
   "source": [
    "### Algunas funciones con cadenas de caracteres\n",
    "\n",
    "Practica con las funciones siguientes, hasta entender bien su funcionamiento:"
   ]
  },
  {
   "cell_type": "code",
   "execution_count": 6,
   "metadata": {},
   "outputs": [
    {
     "name": "stdout",
     "output_type": "stream",
     "text": [
      "e s 28\n",
      "r r\n",
      "HOLA hola\n",
      "esta frase -  es para practicar\n",
      "Hola amigo, espero que estés bien.\n"
     ]
    }
   ],
   "source": [
    "cadena = \"esta frase es para practicar\"\n",
    "print(cadena[0], cadena[1], len(cadena))\n",
    "print(cadena[len(cadena)-1], cadena[-1])\n",
    "print(\"hola\".upper(), \"Hola\".lower())\n",
    "print(cadena[:10], \"-\", cadena[10:])\n",
    "frase = \"Hola \" + \"amigo, \" + \"espero que estés bien.\"\n",
    "print(frase)"
   ]
  },
  {
   "cell_type": "markdown",
   "metadata": {},
   "source": [
    "### Ejercicio 3. Nombres propios con mayúscula\n",
    "\n",
    "Un nombre propio ha de escribirse con la primera letra mayúscula. Diseña instrucciones para que, en el caso de que se dé con minúscula, lo arregle:\n",
    "\n",
    "    nombre_propio = “blacky”\n",
    "    ...\n",
    "    print(nombre_propio)\n",
    "    Blacky"
   ]
  },
  {
   "cell_type": "code",
   "execution_count": 7,
   "metadata": {},
   "outputs": [
    {
     "name": "stdout",
     "output_type": "stream",
     "text": [
      "Blacky\n"
     ]
    }
   ],
   "source": [
    "nombre_propio = \"blacky\"\n",
    "inicial = nombre_propio[0]\n",
    "resto = nombre_propio[1:]\n",
    "nombre_propio = inicial.upper() + resto\n",
    "print(nombre_propio)"
   ]
  },
  {
   "cell_type": "markdown",
   "metadata": {},
   "source": [
    "### Ecuación de segundo grado con raíces reales\n",
    "\n",
    "Si tenemos los coeficientes $(a, b, c)$ de una ecuación de segundo grado y sabemos que tiene dos raíces reales, expresa instrucciones para calcular dichas fórmulas."
   ]
  },
  {
   "cell_type": "code",
   "execution_count": 8,
   "metadata": {},
   "outputs": [
    {
     "name": "stdout",
     "output_type": "stream",
     "text": [
      "3.0 2.0\n"
     ]
    }
   ],
   "source": [
    "import math \n",
    "a, b, c = 2, -10, 12\n",
    "discriminante = b**2 - 4*a*c\n",
    "sol1 = (-b + math.sqrt(discriminante)) / (2*a)\n",
    "sol2 = (-b - math.sqrt(discriminante)) / (2*a)\n",
    "print(sol1, sol2)"
   ]
  },
  {
   "cell_type": "markdown",
   "metadata": {},
   "source": [
    "### Ecuación de segundo grado con raíces complejas\n",
    "\n",
    "Ídem., si sabemos que tiene dos raíces complejas."
   ]
  },
  {
   "cell_type": "code",
   "execution_count": 9,
   "metadata": {},
   "outputs": [
    {
     "name": "stdout",
     "output_type": "stream",
     "text": [
      "(-1.0, 2.0 i) (-1.0, -2.0 i)\n",
      "(-1+2j) (-1-2j)\n",
      "(-1+2j) (-1-2j)\n"
     ]
    }
   ],
   "source": [
    "#solución 1:\n",
    "\n",
    "import math \n",
    "a, b, c = 1, 2, 5\n",
    "discriminante = b**2 - 4*a*c\n",
    "parte_real = -b/(2*a)\n",
    "parte_imag = math.sqrt(-discriminante) / (2*a)\n",
    "sol1 = \"(\" + str(parte_real) + \", \" + str(parte_imag) + \" i)\"\n",
    "sol2 = \"(\" + str(parte_real) + \", \" + str(-parte_imag) + \" i)\"\n",
    "print(sol1, sol2)\n",
    "\n",
    "# solución 2:\n",
    "\n",
    "import cmath\n",
    "\n",
    "a, b, c = 1, 2, 5\n",
    "discriminante = b**2 - 4*a*c\n",
    "parte_real = -b/(2*a)\n",
    "parte_imag = cmath.sqrt(-discriminante) / (2*a)\n",
    "z1 = complex(parte_real, parte_imag)\n",
    "z2 = complex(parte_real, -parte_imag)\n",
    "print(z1, z2)\n",
    "\n",
    "# solución 3:\n",
    "\n",
    "sol1 = (-b + cmath.sqrt(discriminante)) / (2*a)\n",
    "sol2 = (-b - cmath.sqrt(discriminante)) / (2*a)\n",
    "print(sol1, sol2)"
   ]
  }
 ],
 "metadata": {
  "kernelspec": {
   "display_name": "Python 3",
   "language": "python",
   "name": "python3"
  },
  "language_info": {
   "codemirror_mode": {
    "name": "ipython",
    "version": 3
   },
   "file_extension": ".py",
   "mimetype": "text/x-python",
   "name": "python",
   "nbconvert_exporter": "python",
   "pygments_lexer": "ipython3",
   "version": "3.7.3"
  }
 },
 "nbformat": 4,
 "nbformat_minor": 2
}
