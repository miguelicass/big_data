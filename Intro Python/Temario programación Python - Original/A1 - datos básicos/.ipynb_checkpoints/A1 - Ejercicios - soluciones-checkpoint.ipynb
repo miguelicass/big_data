{
 "cells": [
  {
   "cell_type": "markdown",
   "metadata": {},
   "source": [
    "# Tipos de datos. Ejercicios y soluciones\n",
    "\n",
    "<hr>"
   ]
  },
  {
   "cell_type": "markdown",
   "metadata": {},
   "source": [
    "### Ejercicio 1. Cambio de moneda\n",
    "\n",
    "a. Un país tiene monedas de 1 U, 5 U y 25 U. Si tenemos una cierta cantidad de\n",
    "dinero en una variable, diseña fórmulas para dar el cambio óptimo en las\n",
    "monedas descritas.\n",
    "\n",
    "        >>> dinero = 537\n",
    "        >>> mon_1 = dinero % 5\n",
    "        ..."
   ]
  },
  {
   "cell_type": "code",
   "execution_count": null,
   "metadata": {},
   "outputs": [],
   "source": [
    "dinero = 537\n",
    "print(\"Dinero = \", dinero)\n",
    "\n",
    "mon_25 = dinero // 25\n",
    "resto_25 = dinero % 25\n",
    "mon_5 = resto_25 // 5\n",
    "mon_1 = resto_25 % 5\n",
    "\n",
    "print(mon_25, mon_5, mon_1)"
   ]
  },
  {
   "cell_type": "code",
   "execution_count": 2,
   "metadata": {},
   "outputs": [
    {
     "name": "stdout",
     "output_type": "stream",
     "text": [
      "537  =  537\n"
     ]
    }
   ],
   "source": [
    "# Comprobación:\n",
    "\n",
    "print(dinero, \" = \", mon_25  * 25 +  mon_5  * 5 +  mon_1 * 1)"
   ]
  },
  {
   "cell_type": "markdown",
   "metadata": {},
   "source": [
    "b. Completa un programa que pida una cierta cantidad de dinero y dé una salida\n",
    "adecuada:\n",
    "\n",
    "        Dame la cantidad de dinero que deseas cambiar: 537\n",
    "        \n",
    "            Desglose de 537 U:\n",
    "            21 monedas de 25 U\n",
    "            2 monedas de 5 U\n",
    "            1 monedas de 1 U"
   ]
  },
  {
   "cell_type": "code",
   "execution_count": null,
   "metadata": {},
   "outputs": [],
   "source": [
    "# Con una salida más clara:\n",
    "\n",
    "entrada = input(\"Dame la cantidad de dinero que deseas cambiar: \")\n",
    "dinero = int(entrada)\n",
    "\n",
    "mon_25 = dinero // 25\n",
    "resto_25 = dinero % 25\n",
    "mon_5 = resto_25 // 5\n",
    "mon_1 = resto_25 % 5\n",
    "\n",
    "print(\"desglose de \" + entrada + \" U:\")\n",
    "print(mon_25, \"monedas de 25 U\")\n",
    "print(mon_5, \"monedas de 5 U\")\n",
    "print(mon_1, \"monedas de 1 U\")"
   ]
  },
  {
   "cell_type": "markdown",
   "metadata": {},
   "source": [
    "### Ejercicio 2. Hola Edmundo\n",
    "\n",
    "a. En casi todas partes, es clásico el programa “Hola Mundo”, que simplemente escribe esta frase en la pantalla:\n",
    "\n",
    "        print(\"Hola, mundo\")\n",
    "\n",
    "Hazlo en tu consola de Spyder, y haz luego dos versiones o tres más: una, que pregunta el nombre del usuario y lo saluda con dicho nombre:\n",
    "    \n",
    "        ¿Cómo te llamas? Edmundo\n",
    "        Hola, Edmundo"
   ]
  },
  {
   "cell_type": "code",
   "execution_count": 5,
   "metadata": {},
   "outputs": [
    {
     "name": "stdout",
     "output_type": "stream",
     "text": [
      "¿Cómo te llamas?Cristóbal\n",
      "Hola,  Cristóbal\n"
     ]
    }
   ],
   "source": [
    "nombre = input(\"¿Cómo te llamas? \")\n",
    "print(\"Hola, \", nombre)"
   ]
  },
  {
   "cell_type": "markdown",
   "metadata": {},
   "source": [
    "b. Diseña ahora una segunda versión, que pregunta también la edad y le contesta con su nombre, la edad y los años que cumplirá la próxima vez. (Esto es simplemente para que convierta la edad en un número…)"
   ]
  },
  {
   "cell_type": "code",
   "execution_count": 6,
   "metadata": {},
   "outputs": [
    {
     "name": "stdout",
     "output_type": "stream",
     "text": [
      "¿Cómo te llamas? Cristóbal\n",
      "Dime tu edad: 59\n",
      "Hola,  Cristóbal . En tu próximo cumpleaños, cumplirás  60  años.\n"
     ]
    }
   ],
   "source": [
    "nombre = input(\"¿Cómo te llamas? \")\n",
    "edad = input(\"Dime tu edad: \")\n",
    "\n",
    "print(\"Hola, \", nombre, \". En tu próximo cumpleaños, cumplirás \", int(edad) + 1, \" años.\")"
   ]
  },
  {
   "cell_type": "markdown",
   "metadata": {},
   "source": [
    "c. La última versión que te pido, funciona desde la consola del sistema operativo. \n",
    "    \n",
    "        if __name__ == \"__main__\":\n",
    "            ...\n",
    "\n",
    "Esta solución se ha de dar fuera de Jupyter..."
   ]
  },
  {
   "cell_type": "markdown",
   "metadata": {},
   "source": [
    "### Algunas funciones con cadenas de caracteres\n",
    "\n",
    "Practica con las funciones siguientes, hasta entender bien su funcionamiento:"
   ]
  },
  {
   "cell_type": "code",
   "execution_count": null,
   "metadata": {},
   "outputs": [],
   "source": [
    "cadena = \"esta frase es para practicar...\"\n",
    "print(cadena[0], cadena[1], len(cadena))\n",
    "print(cadena[len(cadena)-1], cadena[-1])\n",
    "print(hola.upper(), \"Hola.lower()\")\n",
    "print(cadena[:10], \"...\", cadena[10:])"
   ]
  },
  {
   "cell_type": "markdown",
   "metadata": {},
   "source": [
    "### Ejercicio 3. Nombres propios con mayúscula\n",
    "\n",
    "Un nombre propio ha de escribirse con la primera letra mayúscula. Diseña instrucciones para que, en el caso de que se dé con minúscula, lo arregle:\n",
    "\n",
    "    nombre_propio = “blacky”\n",
    "    ...\n",
    "    print(nombre_propio)\n",
    "    Blacky"
   ]
  },
  {
   "cell_type": "markdown",
   "metadata": {},
   "source": [
    "nombre_propio = \"blacky\"\n",
    "nombre_propio = nombre_propio[0].upper() + nombre_propio[1:]\n",
    "print(nombre_propio)"
   ]
  },
  {
   "cell_type": "markdown",
   "metadata": {},
   "source": [
    "Fórmula: $c = \\sqrt{a^2 + b^2}$\n",
    "\n",
    "Otra:    $\\frac{-b + \\sqrt{b^2 - 4ac}}{2a}$"
   ]
  },
  {
   "cell_type": "code",
   "execution_count": null,
   "metadata": {},
   "outputs": [],
   "source": []
  }
 ],
 "metadata": {
  "kernelspec": {
   "display_name": "Python 3",
   "language": "python",
   "name": "python3"
  },
  "language_info": {
   "codemirror_mode": {
    "name": "ipython",
    "version": 3
   },
   "file_extension": ".py",
   "mimetype": "text/x-python",
   "name": "python",
   "nbconvert_exporter": "python",
   "pygments_lexer": "ipython3",
   "version": "3.7.3"
  }
 },
 "nbformat": 4,
 "nbformat_minor": 2
}
