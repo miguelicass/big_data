{
 "cells": [
  {
   "cell_type": "markdown",
   "metadata": {},
   "source": [
    "# Tipos de datos básicos en Python\n",
    "\n",
    "<hr>\n",
    "\n",
    "Como tantos otros lenguajes de programación, Python ofrece, de entrada, los tipos de datos enteros, reales, booleanos y cadenas de caracteres. También permite el manejo de números complejos sin importar librería alguna. Veamos algunas operaciones básicas con estos tipos de datos."
   ]
  },
  {
   "cell_type": "markdown",
   "metadata": {},
   "source": [
    "## Enteros\n",
    "\n",
    "Las operaciones típicas entre enteros son la suma, resta y multiplicación, respetando la prioridad de esta última. Para el caso en que deseemos una prioridad distinta, podemos colocar paréntesis donde sea necesario. También tenemos una operación de potencia, con una prioridad superior aún. He aquí un ejemplo de todas estas cosas juntas:"
   ]
  },
  {
   "cell_type": "code",
   "execution_count": 1,
   "metadata": {
    "scrolled": true
   },
   "outputs": [
    {
     "data": {
      "text/plain": [
       "(10, -4, 17, 35, 19)"
      ]
     },
     "execution_count": 1,
     "metadata": {},
     "output_type": "execute_result"
    }
   ],
   "source": [
    "(3+7, 3-7, 3 + 2*7, (3+2)*7, 1 + 2 * 3**2)"
   ]
  },
  {
   "cell_type": "markdown",
   "metadata": {},
   "source": [
    "La división estándar \"/\" no da lugar a un entero sino a un real. Por eso, ewxiste una división entera \"//\", que trunca el resultado al entero inferior, y una operación para calcular el resto de esta división:"
   ]
  },
  {
   "cell_type": "code",
   "execution_count": 2,
   "metadata": {},
   "outputs": [
    {
     "data": {
      "text/plain": [
       "(3.4, 3, 2)"
      ]
     },
     "execution_count": 2,
     "metadata": {},
     "output_type": "execute_result"
    }
   ],
   "source": [
    "17 / 5, 17 // 5, 17 % 5"
   ]
  },
  {
   "cell_type": "markdown",
   "metadata": {},
   "source": [
    "Observa, en la expresión anterior, que todas las expresiones están agrupadas pero esta vez sin paréntesis, aunque el resultado es igualmente una tupla, como el caso precedente.\n",
    "\n",
    "También, observa que la división entera trunca el entero resultante al entero *inferior*, que al ser negativo lo aleja del cero, siendo siempre positivo el resto:"
   ]
  },
  {
   "cell_type": "code",
   "execution_count": 3,
   "metadata": {},
   "outputs": [
    {
     "data": {
      "text/plain": [
       "(-3.4, -4, 3)"
      ]
     },
     "execution_count": 3,
     "metadata": {},
     "output_type": "execute_result"
    }
   ],
   "source": [
    "-17 / 5, -17 // 5, -17 % 5"
   ]
  },
  {
   "cell_type": "code",
   "execution_count": 4,
   "metadata": {},
   "outputs": [
    {
     "data": {
      "text/plain": [
       "(17, 17)"
      ]
     },
     "execution_count": 4,
     "metadata": {},
     "output_type": "execute_result"
    }
   ],
   "source": [
    "# Podríamos haber trabajado igualmente con variables:\n",
    "dividendo = 17\n",
    "divisor   = 5\n",
    "cociente  = dividendo // divisor\n",
    "resto     = dividendo % divisor\n",
    "\n",
    "# Y sería bonito comprobar que el dividendo es igual a divisor * cociente + resto:\n",
    "\n",
    "dividendo, divisor * cociente + resto"
   ]
  },
  {
   "cell_type": "markdown",
   "metadata": {},
   "source": [
    "Como hemos visto, las *variables* en Python se pueden introducir sin declarar el tipo de datos. Pero siempre es posible averiguar el tipo de datos que tiene una variable, o un dato:"
   ]
  },
  {
   "cell_type": "code",
   "execution_count": 5,
   "metadata": {},
   "outputs": [
    {
     "data": {
      "text/plain": [
       "(float, int, float)"
      ]
     },
     "execution_count": 5,
     "metadata": {},
     "output_type": "execute_result"
    }
   ],
   "source": [
    "x = (4 * 9) / 6\n",
    "y = (4 * 9) // 6\n",
    "type(x), type(y), type(x+y)"
   ]
  },
  {
   "cell_type": "markdown",
   "metadata": {},
   "source": [
    "Aunque el resultado de $(4 * 9) / 6$ es el entero $6$ matemáticamente, la operación de división $/$ genera en Python un resultado de tipo real, y por eso hemos obtenido el tipo $float$, a diferencia del tipo generado por la operación $//$."
   ]
  },
  {
   "cell_type": "markdown",
   "metadata": {},
   "source": [
    "Seguidamente, vamos a definir una *función* por primera vez en Python. Deseamos calcular el valor del polinomio $-6 - 4x + 3x^2$, para cualquier valor de la variable $x$:"
   ]
  },
  {
   "cell_type": "code",
   "execution_count": 6,
   "metadata": {},
   "outputs": [
    {
     "data": {
      "text/plain": [
       "49"
      ]
     },
     "execution_count": 6,
     "metadata": {},
     "output_type": "execute_result"
    }
   ],
   "source": [
    "def poli(x):\n",
    "    c0 = -6              # término independiente\n",
    "    c1 = -4 * x          # término de primer grado\n",
    "    c2 = 3 * x**2        # término de segundo grado\n",
    "    return c2 + c1 + c0  # valor del polinomio\n",
    "\n",
    "poli(5)"
   ]
  },
  {
   "cell_type": "code",
   "execution_count": 7,
   "metadata": {},
   "outputs": [
    {
     "data": {
      "text/plain": [
       "49"
      ]
     },
     "execution_count": 7,
     "metadata": {},
     "output_type": "execute_result"
    }
   ],
   "source": [
    "# Lo mismo, pero ahora la potencia se va recalculando:\n",
    "def poli(x):\n",
    "    s = 0\n",
    "    pot = 1             # x ** 0\n",
    "    s = s + (-6 * pot)\n",
    "    pot = pot * x       # x ** 1\n",
    "    s = s + (-4 * pot)\n",
    "    pot = pot * x       # x ** 2\n",
    "    s = s + (3 * pot)\n",
    "    return s\n",
    "\n",
    "poli(5)"
   ]
  },
  {
   "cell_type": "markdown",
   "metadata": {},
   "source": [
    "## Reales, aritmética de coma flotante"
   ]
  },
  {
   "cell_type": "code",
   "execution_count": 8,
   "metadata": {},
   "outputs": [
    {
     "data": {
      "text/plain": [
       "(5.0, -1.0, 6.0, 0.6666666666666666)"
      ]
     },
     "execution_count": 8,
     "metadata": {},
     "output_type": "execute_result"
    }
   ],
   "source": [
    "# El punto indica la coma decimal:\n",
    "a = 2.0\n",
    "b = 3.0\n",
    "# Asignamos dos (o más) variables al mismo tiempo, con la notación de tupla\n",
    "suma, resta, multi, divi = a + b, a - b, a * b, a / b\n",
    "suma, resta, multi, divi"
   ]
  },
  {
   "cell_type": "code",
   "execution_count": 9,
   "metadata": {},
   "outputs": [
    {
     "data": {
      "text/plain": [
       "(14.0, float)"
      ]
     },
     "execution_count": 9,
     "metadata": {},
     "output_type": "execute_result"
    }
   ],
   "source": [
    "a * 7, type(a * 7) # al multiplicar un entero por un real, el resultado es un real, automáticamente"
   ]
  },
  {
   "cell_type": "code",
   "execution_count": 10,
   "metadata": {},
   "outputs": [
    {
     "data": {
      "text/plain": [
       "49.0"
      ]
     },
     "execution_count": 10,
     "metadata": {},
     "output_type": "execute_result"
    }
   ],
   "source": [
    "# Aunque introduzcamos un entero, el resultado va a ser un real:\n",
    "def poli(x):\n",
    "    return -6.0 + -4.0 * x + 3.0 * x**2\n",
    "\n",
    "poli(5)"
   ]
  },
  {
   "cell_type": "code",
   "execution_count": 11,
   "metadata": {},
   "outputs": [
    {
     "name": "stdout",
     "output_type": "stream",
     "text": [
      "18.84955592153876\n",
      "0.8660254037844386\n",
      "0.5000000000000001\n"
     ]
    },
    {
     "data": {
      "text/plain": [
       "2.23606797749979"
      ]
     },
     "execution_count": 11,
     "metadata": {},
     "output_type": "execute_result"
    }
   ],
   "source": [
    "# podemos usar muchas funciones matemáticas:\n",
    "import math \n",
    "radio = 3\n",
    "print(2 * radio * math.pi) # math.pi es un nombre que contiene el número pi\n",
    "print(math.sin(math.pi/3)) # math.sin, el seno del ángulo en radianes\n",
    "print(math.cos(math.pi/3)) # math.cos, el coseno. Obsérverse el error obtenido\n",
    "math.sqrt(5) # la raíz cuadrada"
   ]
  },
  {
   "cell_type": "markdown",
   "metadata": {},
   "source": [
    "Existen distintas operacionse para pasar de real a entero:\n"
   ]
  },
  {
   "cell_type": "code",
   "execution_count": 12,
   "metadata": {},
   "outputs": [
    {
     "name": "stdout",
     "output_type": "stream",
     "text": [
      "3 -3\n",
      "3 4 -4 -3\n",
      "3 -4 <class 'int'>\n",
      "4 -3\n"
     ]
    }
   ],
   "source": [
    "# 'int' construye un entero truncando la parte decimal:\n",
    "print(int(3.9), int(-3.9))\n",
    "# 'round' redondea al entero más próximo:\n",
    "print(round(3.2), round(3.5), round(-3.5), round(-3.2))\n",
    "# 'math.floor' redondea al entero inferior:\n",
    "print(math.floor(3.7), math.floor(-3.2), type(math.floor(3.7)))\n",
    "# 'math.ceil' redondea al entero siguiente:\n",
    "print(math.ceil(3.2), math.ceil(-3.2))"
   ]
  },
  {
   "cell_type": "markdown",
   "metadata": {},
   "source": [
    "# Complejos"
   ]
  },
  {
   "cell_type": "code",
   "execution_count": 13,
   "metadata": {},
   "outputs": [
    {
     "data": {
      "text/plain": [
       "(-12+16j)"
      ]
     },
     "execution_count": 13,
     "metadata": {},
     "output_type": "execute_result"
    }
   ],
   "source": [
    "z = complex(2, 4) # Números complejos\n",
    "z**2"
   ]
  },
  {
   "cell_type": "code",
   "execution_count": 14,
   "metadata": {},
   "outputs": [
    {
     "data": {
      "text/plain": [
       "(-5+12j)"
      ]
     },
     "execution_count": 14,
     "metadata": {},
     "output_type": "execute_result"
    }
   ],
   "source": [
    "# La unidad imaginaria es j\n",
    "(2+3j)**2 # otra notación"
   ]
  },
  {
   "cell_type": "code",
   "execution_count": 15,
   "metadata": {},
   "outputs": [
    {
     "data": {
      "text/plain": [
       "1j"
      ]
     },
     "execution_count": 15,
     "metadata": {},
     "output_type": "execute_result"
    }
   ],
   "source": [
    "import cmath\n",
    "cmath.sqrt(-1) # en el módulo cmath se encuentran las versiones complejas  de las funciones de math."
   ]
  },
  {
   "cell_type": "markdown",
   "metadata": {},
   "source": [
    "## Booleanos"
   ]
  },
  {
   "cell_type": "code",
   "execution_count": 16,
   "metadata": {},
   "outputs": [],
   "source": [
    "a = True  # valor lógico de cierto\n",
    "b = False # valor lógico de falso"
   ]
  },
  {
   "cell_type": "code",
   "execution_count": 17,
   "metadata": {},
   "outputs": [
    {
     "data": {
      "text/plain": [
       "(False, True, True, False)"
      ]
     },
     "execution_count": 17,
     "metadata": {},
     "output_type": "execute_result"
    }
   ],
   "source": [
    "# conjunción lógica (and) y disyuncion lógica (or):\n",
    "a and b, a or b, a or True, b and False "
   ]
  },
  {
   "cell_type": "code",
   "execution_count": 18,
   "metadata": {},
   "outputs": [
    {
     "data": {
      "text/plain": [
       "True"
      ]
     },
     "execution_count": 18,
     "metadata": {},
     "output_type": "execute_result"
    }
   ],
   "source": [
    "a, b = 2, 4\n",
    "b == a * 2 # la comparación devuelve un valor lógico"
   ]
  },
  {
   "cell_type": "code",
   "execution_count": 19,
   "metadata": {},
   "outputs": [
    {
     "data": {
      "text/plain": [
       "(False, False, False, False, True, True)"
      ]
     },
     "execution_count": 19,
     "metadata": {},
     "output_type": "execute_result"
    }
   ],
   "source": [
    "# Otros operadores relacionales:\n",
    "34 != 34, not (34 == 34), a * 3 >= 7, b * 2 < 8, b * 2 <= 8, a >= 2 or b < 7"
   ]
  },
  {
   "cell_type": "code",
   "execution_count": 20,
   "metadata": {},
   "outputs": [
    {
     "data": {
      "text/plain": [
       "(True, True)"
      ]
     },
     "execution_count": 20,
     "metadata": {},
     "output_type": "execute_result"
    }
   ],
   "source": [
    "# Dos maneras de expresar lo mismo en Python:\n",
    "2 <= a and a < 7, 2 <= a < 7"
   ]
  },
  {
   "cell_type": "code",
   "execution_count": 21,
   "metadata": {},
   "outputs": [
    {
     "data": {
      "text/plain": [
       "(True, False)"
      ]
     },
     "execution_count": 21,
     "metadata": {},
     "output_type": "execute_result"
    }
   ],
   "source": [
    "def is_in_circle(x, y, r):\n",
    "    # Averigua si el punto (x, y) dista de (0, 0) a lo más, r \n",
    "    return x**2 + y**2 <= r*r\n",
    "\n",
    "is_in_circle(0.5, 0.5, 1), is_in_circle(0.5, 0.9, 1)"
   ]
  },
  {
   "cell_type": "markdown",
   "metadata": {},
   "source": [
    "## Cadenas de caracteres"
   ]
  },
  {
   "cell_type": "code",
   "execution_count": 22,
   "metadata": {},
   "outputs": [
    {
     "data": {
      "text/plain": [
       "('Hola', 'Hola', True)"
      ]
     },
     "execution_count": 22,
     "metadata": {},
     "output_type": "execute_result"
    }
   ],
   "source": [
    "a = \"Hola\"\n",
    "b = 'Hola' # Las cadenas de caracteres se pueden poner con comillas dobles o simples.\n",
    "a, b, a == b"
   ]
  },
  {
   "cell_type": "code",
   "execution_count": 23,
   "metadata": {},
   "outputs": [
    {
     "data": {
      "text/plain": [
       "'Hola Juan'"
      ]
     },
     "execution_count": 23,
     "metadata": {},
     "output_type": "execute_result"
    }
   ],
   "source": [
    "nombre = \"Juan\"\n",
    "saludo = \"Hola \" + nombre # + es la concatenación de cadenas de caracteres\n",
    "saludo"
   ]
  },
  {
   "cell_type": "code",
   "execution_count": 24,
   "metadata": {},
   "outputs": [
    {
     "data": {
      "text/plain": [
       "'HHHHHHHHHH'"
      ]
     },
     "execution_count": 24,
     "metadata": {},
     "output_type": "execute_result"
    }
   ],
   "source": [
    "\"H\" * 10 # replicación"
   ]
  },
  {
   "cell_type": "markdown",
   "metadata": {},
   "source": [
    "Las cadenas de caracteres se comparan según el orden alfabético, siendo las mayúsculas y las minúsculas distintas, y concretamente, siendo las mayúsculas 'anteriores' a las minúsculas:"
   ]
  },
  {
   "cell_type": "code",
   "execution_count": 25,
   "metadata": {},
   "outputs": [
    {
     "data": {
      "text/plain": [
       "(True, False, True)"
      ]
     },
     "execution_count": 25,
     "metadata": {},
     "output_type": "execute_result"
    }
   ],
   "source": [
    "\"Juan\" < \"Juap\", \"j\" == \"J\", \"J\" < \"j\""
   ]
  },
  {
   "cell_type": "code",
   "execution_count": 26,
   "metadata": {},
   "outputs": [
    {
     "data": {
      "text/plain": [
       "4"
      ]
     },
     "execution_count": 26,
     "metadata": {},
     "output_type": "execute_result"
    }
   ],
   "source": [
    "len(\"Hola\") # la longitud de una longitud de cadena de caracteres"
   ]
  },
  {
   "cell_type": "markdown",
   "metadata": {},
   "source": [
    "### Cadenas de caracteres largas"
   ]
  },
  {
   "cell_type": "code",
   "execution_count": 27,
   "metadata": {},
   "outputs": [],
   "source": [
    "quijote = \"\"\"En un lugar de la Mancha, de cuyo nombre no quiero acordarme, \n",
    "no ha mucho tiempo que vivía un hidalgo de los de lanza en astillero, \n",
    "adarga antigua, rocín flaco y galgo corredor. \n",
    "Una olla de algo más vaca que carnero, salpicón las más noches, \n",
    "duelos y quebrantos los sábados, lantejas los viernes, algún palomino de añadidura los domingos, \n",
    "consumían las tres partes de su hacienda. \n",
    "El resto della concluían sayo de velarte, calzas de velludo para las fiestas, con sus pantuflos de lo mesmo, \n",
    "y los días de entresemana se honraba con su vellorí de lo más fino. \n",
    "Tenía en su casa una ama que pasaba de los cuarenta, y una sobrina que no llegaba a los veinte, \n",
    "y un mozo de campo y plaza, que así ensillaba el rocín como tomaba la podadera. \n",
    "Frisaba la edad de nuestro hidalgo con los cincuenta años; era de complexión recia, seco de carnes, \n",
    "enjuto de rostro, gran madrugador y amigo de la caza. \n",
    "Quieren decir que tenía el sobrenombre de Quijada, o Quesada, que en esto hay alguna diferencia en los autores que deste caso escriben; \n",
    "aunque, por conjeturas verosímiles, se deja entender que se llamaba Quejana. \n",
    "Pero esto importa poco a nuestro cuento; basta que en la narración dél no se salga un punto de la verdad.\"\"\""
   ]
  },
  {
   "cell_type": "code",
   "execution_count": 28,
   "metadata": {},
   "outputs": [
    {
     "name": "stdout",
     "output_type": "stream",
     "text": [
      "En un lugar de la Mancha, de cuyo nombre no quiero acordarme, \n",
      "no ha mucho tiempo que vivía un hidalgo de los de lanza en astillero, \n",
      "adarga antigua, rocín flaco y galgo corredor. \n",
      "Una olla de algo más vaca que carnero, salpicón las más noches, \n",
      "duelos y quebrantos los sábados, lantejas los viernes, algún palomino de añadidura los domingos, \n",
      "consumían las tres partes de su hacienda. \n",
      "El resto della concluían sayo de velarte, calzas de velludo para las fiestas, con sus pantuflos de lo mesmo, \n",
      "y los días de entresemana se honraba con su vellorí de lo más fino. \n",
      "Tenía en su casa una ama que pasaba de los cuarenta, y una sobrina que no llegaba a los veinte, \n",
      "y un mozo de campo y plaza, que así ensillaba el rocín como tomaba la podadera. \n",
      "Frisaba la edad de nuestro hidalgo con los cincuenta años; era de complexión recia, seco de carnes, \n",
      "enjuto de rostro, gran madrugador y amigo de la caza. \n",
      "Quieren decir que tenía el sobrenombre de Quijada, o Quesada, que en esto hay alguna diferencia en los autores que deste caso escriben; \n",
      "aunque, por conjeturas verosímiles, se deja entender que se llamaba Quejana. \n",
      "Pero esto importa poco a nuestro cuento; basta que en la narración dél no se salga un punto de la verdad.\n"
     ]
    }
   ],
   "source": [
    "print(quijote)"
   ]
  },
  {
   "cell_type": "markdown",
   "metadata": {},
   "source": [
    "### Caracteres especiales"
   ]
  },
  {
   "cell_type": "code",
   "execution_count": 29,
   "metadata": {},
   "outputs": [
    {
     "data": {
      "text/plain": [
       "'Las \"comillas\" son caracteres especiales'"
      ]
     },
     "execution_count": 29,
     "metadata": {},
     "output_type": "execute_result"
    }
   ],
   "source": [
    "especial1 = \"Las \\\"comillas\\\" son caracteres especiales\"\n",
    "especial1"
   ]
  },
  {
   "cell_type": "code",
   "execution_count": 30,
   "metadata": {},
   "outputs": [
    {
     "data": {
      "text/plain": [
       "\"Las 'comillas' son caracteres especiales\""
      ]
     },
     "execution_count": 30,
     "metadata": {},
     "output_type": "execute_result"
    }
   ],
   "source": [
    "especial2 = \"Las \\'comillas\\' son caracteres especiales\"\n",
    "especial2"
   ]
  },
  {
   "cell_type": "code",
   "execution_count": 31,
   "metadata": {},
   "outputs": [
    {
     "data": {
      "text/plain": [
       "'Por tanto la barra invertida también lo es \\\\'"
      ]
     },
     "execution_count": 31,
     "metadata": {},
     "output_type": "execute_result"
    }
   ],
   "source": [
    "especial3 = \"Por tanto la barra invertida también lo es \\\\\"\n",
    "especial3"
   ]
  },
  {
   "cell_type": "code",
   "execution_count": 32,
   "metadata": {},
   "outputs": [
    {
     "name": "stdout",
     "output_type": "stream",
     "text": [
      "Hay otros caracteres especiales como el salto de línea.\n",
      "Que sirve para representar el fín de línea en ficheros.\n",
      "Lo veremos más adelante\n"
     ]
    }
   ],
   "source": [
    "especial4 = \"Hay otros caracteres especiales como el salto de línea.\\nQue sirve para representar el fín de línea en ficheros.\\nLo veremos más adelante\"\n",
    "print(especial4)"
   ]
  },
  {
   "cell_type": "markdown",
   "metadata": {},
   "source": [
    "## Errores comunes"
   ]
  },
  {
   "cell_type": "code",
   "execution_count": 33,
   "metadata": {},
   "outputs": [
    {
     "data": {
      "text/plain": [
       "False"
      ]
     },
     "execution_count": 33,
     "metadata": {},
     "output_type": "execute_result"
    }
   ],
   "source": [
    "# El siguiente ejemplo te invita a reflexionar sobre la precisión\n",
    "# de las operaciones y sobre la comparación de números reales\n",
    "\n",
    "def paradoja(a):\n",
    "    b = math.sqrt(a)  # la raíz cuadrada de 2\n",
    "    return a == b * b # esto debería ser cierto siempre, no lo es por el error de la representación de los reales\n",
    "\n",
    "paradoja(2)"
   ]
  },
  {
   "cell_type": "code",
   "execution_count": 34,
   "metadata": {},
   "outputs": [
    {
     "data": {
      "text/plain": [
       "False"
      ]
     },
     "execution_count": 34,
     "metadata": {},
     "output_type": "execute_result"
    }
   ],
   "source": [
    "# Otro ejemplo en la misma línea:\n",
    "# teóricamente, esto también debería ser cierto.\n",
    "\n",
    "0.5 == math.cos(math.pi/3)"
   ]
  },
  {
   "cell_type": "code",
   "execution_count": 35,
   "metadata": {},
   "outputs": [
    {
     "data": {
      "text/plain": [
       "3.0000000000000004"
      ]
     },
     "execution_count": 35,
     "metadata": {},
     "output_type": "execute_result"
    }
   ],
   "source": [
    "# Y otro más. Lo siguiente, matemáticamente,\n",
    "# debería dar como resultado un entero:\n",
    "\n",
    "def fibonacci(n):\n",
    "    phi = (1 + math.sqrt(5)) / 2\n",
    "    return (phi ** n - (1 - phi) ** n)/math.sqrt(5)\n",
    "\n",
    "fibonacci(4)"
   ]
  },
  {
   "cell_type": "code",
   "execution_count": 36,
   "metadata": {},
   "outputs": [
    {
     "data": {
      "text/plain": [
       "3"
      ]
     },
     "execution_count": 36,
     "metadata": {},
     "output_type": "execute_result"
    }
   ],
   "source": [
    "# Una solución sencilla consiste en redondear:\n",
    "\n",
    "def fibonacci(n):\n",
    "    phi = (1 + math.sqrt(5)) / 2\n",
    "    return int(round((phi ** n - (1 - phi) ** n)/math.sqrt(5)))\n",
    "\n",
    "fibonacci(4)"
   ]
  },
  {
   "cell_type": "markdown",
   "metadata": {},
   "source": [
    "## Referencias\n",
    "\n",
    "Damos una sola referencia, una sola, pero importante y útil:\n",
    "\n",
    "<ul>\n",
    "    <li> <a href=\"https://www.w3schools.com/python/\">https://www.w3schools.com/python/</a> </li>\n",
    "</ul>\n",
    "\n",
    "Pero nuestra recomendación es mirar, en el menú de la izquierda de esta referencia, y seleccionar del mismo las páginas *Python variables*, *Python numbers*, *Python casting*, *Python strings* y *Python operators*. En ellas se repasa y se amplía suavemente lo que hemos visto en esta pieza."
   ]
  }
 ],
 "metadata": {
  "kernelspec": {
   "display_name": "Python 3",
   "language": "python",
   "name": "python3"
  },
  "language_info": {
   "codemirror_mode": {
    "name": "ipython",
    "version": 3
   },
   "file_extension": ".py",
   "mimetype": "text/x-python",
   "name": "python",
   "nbconvert_exporter": "python",
   "pygments_lexer": "ipython3",
   "version": "3.7.3"
  }
 },
 "nbformat": 4,
 "nbformat_minor": 1
}
