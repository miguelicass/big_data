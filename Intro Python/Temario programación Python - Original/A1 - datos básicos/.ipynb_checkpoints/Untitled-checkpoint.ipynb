{
 "cells": [
  {
   "cell_type": "markdown",
   "metadata": {},
   "source": [
    "### Soluciones...\n",
    "\n",
    "1. Un país tiene monedas de 1 U, 5 U y 25 U. Si tenemos una cierta cantidad de\n",
    "dinero en una variable, diseña fórmulas para dar el cambio óptimo en las\n",
    "monedas descritas."
   ]
  },
  {
   "cell_type": "code",
   "execution_count": 2,
   "metadata": {},
   "outputs": [
    {
     "name": "stdout",
     "output_type": "stream",
     "text": [
      "Dinero =  537\n",
      "2\n"
     ]
    }
   ],
   "source": [
    "dinero = 537\n",
    "mon_1 = dinero % 5\n",
    "print(\"Dinero = \", dinero)\n",
    "print(mon_1)"
   ]
  },
  {
   "cell_type": "code",
   "execution_count": null,
   "metadata": {},
   "outputs": [],
   "source": []
  }
 ],
 "metadata": {
  "kernelspec": {
   "display_name": "Python 3",
   "language": "python",
   "name": "python3"
  },
  "language_info": {
   "codemirror_mode": {
    "name": "ipython",
    "version": 3
   },
   "file_extension": ".py",
   "mimetype": "text/x-python",
   "name": "python",
   "nbconvert_exporter": "python",
   "pygments_lexer": "ipython3",
   "version": "3.7.3"
  }
 },
 "nbformat": 4,
 "nbformat_minor": 2
}
