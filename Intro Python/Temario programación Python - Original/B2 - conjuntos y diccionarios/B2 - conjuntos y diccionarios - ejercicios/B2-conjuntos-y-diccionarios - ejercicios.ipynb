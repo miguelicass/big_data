{
 "cells": [
  {
   "cell_type": "markdown",
   "metadata": {},
   "source": [
    "# Conjuntos y diccionarios. Ejercicios\n",
    "\n",
    "<hr>"
   ]
  },
  {
   "cell_type": "markdown",
   "metadata": {},
   "source": [
    "### Aficiones"
   ]
  },
  {
   "cell_type": "code",
   "execution_count": 1,
   "metadata": {},
   "outputs": [
    {
     "name": "stdout",
     "output_type": "stream",
     "text": [
      "Ella       :  {'lectura', 'música', 'teatro', 'natación', 'cine'}\n",
      "Él         :  {'lectura', 'música', 'fútbol', 'equitación', 'tenis', 'fotografía'}\n",
      "Comunes    :  {'música', 'lectura'}\n",
      "Ella sola  :  {'natación', 'teatro', 'cine'}\n",
      "Entre ambos:  {'lectura', 'música', 'fútbol', 'equitación', 'teatro', 'tenis', 'fotografía', 'natación', 'cine'}\n"
     ]
    }
   ],
   "source": [
    "af_ella = set([\"teatro\", \"música\", \"cine\", \"lectura\", \"natación\"])\n",
    "af_el = set([\"tenis\", \"equitación\", \"fútbol\", \"música\", \"lectura\", \"fotografía\"])\n",
    "\n",
    "print(\"Ella       : \", af_ella)\n",
    "print(\"Él         : \", af_el)\n",
    "\n",
    "# Aficiones comunes:\n",
    "print(\"Comunes    : \", af_ella & af_el)\n",
    "\n",
    "# Aficiones de ella sola:\n",
    "print(\"Ella sola  : \", af_ella - af_el)\n",
    "\n",
    "# Aficiones que tiene alguno de los dos:\n",
    "print(\"Entre ambos: \", af_el | af_ella)"
   ]
  },
  {
   "cell_type": "markdown",
   "metadata": {},
   "source": [
    "### Máximo comun divisor"
   ]
  },
  {
   "cell_type": "code",
   "execution_count": 1,
   "metadata": {},
   "outputs": [
    {
     "name": "stdout",
     "output_type": "stream",
     "text": [
      "12 24\n"
     ]
    }
   ],
   "source": [
    "def mcd(a, b):\n",
    "    # Pre.: a, b >= 1\n",
    "    div_a = {d for d in range(1, a+1) if a % d == 0} \n",
    "    div_b = {d for d in range(1, b+1) if b % d == 0} \n",
    "    divisores_comunes = div_a & div_b\n",
    "    return max(divisores_comunes)\n",
    "\n",
    "print(mcd(24, 36), mcd(24, 24))"
   ]
  },
  {
   "cell_type": "markdown",
   "metadata": {},
   "source": [
    "### Agenda básica\n",
    "\n",
    "Tenemos una lista de líneas de texto como la siguiente:\n",
    "\n",
    "        \"639232983 # blaky@ucm.es # calle BB 45 8-3-3 Madrid\"\n",
    "\n",
    "Cada una contiene un número de teléfono, una dirección de email y una dirección física. El separador es la cadena de tres espacios `\" # \"`. Diseña una función que toma como entrada la lista de líneas como la descrita y forma un diccionario, donde la clave es el número de teléfono, y el valor, un nuevo diccionario con dos elementos: el email y la dirección.\n",
    "\n",
    "Nota: usa el método split(…) para descomponer cada línea."
   ]
  },
  {
   "cell_type": "code",
   "execution_count": 3,
   "metadata": {},
   "outputs": [
    {
     "name": "stdout",
     "output_type": "stream",
     "text": [
      "{'639232983': {'email': 'blaky@ucm.es', 'direc': 'calle BB 45 8-3-3 Madrid'}, '659163091': {'email': 'fer@upm.es', 'direc': 'ctra. Húmera 45 8-3-3 Pozuelo'}, '654091275': {'email': 'elena@gmail.com', 'direc': 'calle BB 12 8-3-3 Praga'}, '234560123': {'email': 'artu@ucm.es', 'direc': 'calle Aravaca 1 12-3 Madrid'}}\n"
     ]
    }
   ],
   "source": [
    "# Hagamos esto por nosotros mismos:\n",
    "\n",
    "datos = [\n",
    "    \"639232983 # blaky@ucm.es # calle BB 45 8-3-3 Madrid\",\n",
    "    \"659163091 # fer@upm.es # ctra. Húmera 45 8-3-3 Pozuelo\",\n",
    "    \"654091275 # elena@gmail.com # calle BB 12 8-3-3 Praga\",\n",
    "    \"234560123 # artu@ucm.es # calle Aravaca 1 12-3 Madrid\"\n",
    "]\n",
    "\n",
    "def formar_diccionario(listas_de_datos):\n",
    "    agenda = dict({})\n",
    "    for l in listas_de_datos:\n",
    "        datos = l.split(\" # \")\n",
    "        agenda[datos[0]] = {\n",
    "            \"email\" : datos[1],\n",
    "            \"direc\" : datos[2]\n",
    "        }\n",
    "    return agenda\n",
    "\n",
    "agenda = formar_diccionario(datos)\n",
    "print(agenda)"
   ]
  },
  {
   "cell_type": "markdown",
   "metadata": {},
   "source": [
    "### Listado de un diccionario\n",
    "\n",
    "Para ver el funcionamiento del programa anterior, diseña también una función que dé un listado legible de la agenda, una vez leída en un diccionario."
   ]
  },
  {
   "cell_type": "code",
   "execution_count": 4,
   "metadata": {},
   "outputs": [
    {
     "name": "stdout",
     "output_type": "stream",
     "text": [
      "telefono   email             direccion\n",
      "---------- ---------------   -----------------------------\n",
      "639232983  blaky@ucm.es      calle BB 45 8-3-3 Madrid\n",
      "659163091  fer@upm.es        ctra. Húmera 45 8-3-3 Pozuelo\n",
      "654091275  elena@gmail.com   calle BB 12 8-3-3 Praga\n",
      "234560123  artu@ucm.es       calle Aravaca 1 12-3 Madrid\n"
     ]
    }
   ],
   "source": [
    "def listado(agenda):\n",
    "    print(\"telefono   email             direccion\")\n",
    "    print(\"---------- ---------------   -----------------------------\")\n",
    "    for telefono, datos in agenda.items():\n",
    "        print(telefono.ljust(10), \n",
    "              datos[\"email\"].ljust(17),\n",
    "              datos[\"direc\"])\n",
    "\n",
    "listado(agenda)"
   ]
  }
 ],
 "metadata": {
  "kernelspec": {
   "display_name": "Python 3",
   "language": "python",
   "name": "python3"
  },
  "language_info": {
   "codemirror_mode": {
    "name": "ipython",
    "version": 3
   },
   "file_extension": ".py",
   "mimetype": "text/x-python",
   "name": "python",
   "nbconvert_exporter": "python",
   "pygments_lexer": "ipython3",
   "version": "3.7.3"
  }
 },
 "nbformat": 4,
 "nbformat_minor": 1
}
