{
 "cells": [
  {
   "cell_type": "markdown",
   "metadata": {},
   "source": [
    "# Conjuntos y Diccionarios\n",
    "\n",
    "<hr>"
   ]
  },
  {
   "cell_type": "markdown",
   "metadata": {},
   "source": [
    "## Conjuntos\n",
    "\n",
    "El concepto de **conjunto** es similar al matemático: una colección de elementos sin orden ni repetición. Las operaciones básicas para trabajar con conjuntos permiten crear un conjunto, calcular la unión, intersección, diferencia y diferencia simétrica."
   ]
  },
  {
   "cell_type": "code",
   "execution_count": 1,
   "metadata": {},
   "outputs": [
    {
     "name": "stdout",
     "output_type": "stream",
     "text": [
      "A =  {'o', 'i', 'u', 'e', 'a'}\n",
      "B =  {'r', 'c', 'b', 'd', 'a'}\n",
      "A unión B =  {'o', 'r', 'i', 'c', 'u', 'b', 'd', 'e', 'a'}\n",
      "A intersección B =  {'a'}\n",
      "A dif. simétrica B =  {'r', 'o', 'c', 'u', 'd', 'e', 'i', 'b'}\n"
     ]
    }
   ],
   "source": [
    "# Podemos formar conjuntos directamente, por extensión, con la notación matemática usual: \"{...}\"\n",
    "\n",
    "conj_a = {\"a\", \"e\", \"i\", \"o\", \"u\"}\n",
    "conj_b = {\"a\", \"b\", \"r\", \"a\", \"c\", \"a\", \"d\", \"a\", \"b\", \"r\", \"a\"}\n",
    "\n",
    "# Y con ellos es posible usar las operaciones típicas de conjuntos:\n",
    "\n",
    "print(\"A = \", conj_a)\n",
    "print(\"B = \", conj_b)\n",
    "print(\"A unión B = \", conj_a | conj_b)\n",
    "print(\"A intersección B = \", conj_a & conj_b)\n",
    "print(\"A dif. simétrica B = \", conj_a ^ conj_b)"
   ]
  },
  {
   "cell_type": "markdown",
   "metadata": {},
   "source": [
    "Un conjunto puede crearse a partir de una lista, y también es posible añadir elementos a un conjunto o suprimirlos, así como comprobar la pertenencia de un elemento a un conjunto fácilmente:"
   ]
  },
  {
   "cell_type": "code",
   "execution_count": 2,
   "metadata": {},
   "outputs": [
    {
     "name": "stdout",
     "output_type": "stream",
     "text": [
      "{'o', 'i', 'u', 'e', 'a'}\n",
      "{'o', 'A', 'i', 'u', 'e', 'a'}\n",
      "{'o', 'i', 'u', 'e', 'a'}\n",
      "a está en el conjunto\n"
     ]
    }
   ],
   "source": [
    "conj_A = set(\"aeiou\")\n",
    "print(conj_A)\n",
    "conj_A.add(\"A\")\n",
    "print(conj_A)\n",
    "conj_A.remove(\"A\")\n",
    "print(conj_A)\n",
    "\n",
    "if \"a\" in conj_A:\n",
    "    print(\"a está en el conjunto\")\n",
    "else:\n",
    "    print(\"a NO está en el conjunto\")"
   ]
  },
  {
   "cell_type": "code",
   "execution_count": 3,
   "metadata": {},
   "outputs": [
    {
     "name": "stdout",
     "output_type": "stream",
     "text": [
      "A =  {'o', 'i', 'u', 'e', 'a'}\n",
      "B =  {'r', 'c', 'b', 'd', 'a'}\n",
      "{'o', 'r', 'i', 'c', 'u', 'b', 'd', 'e', 'a'}\n",
      "{'e', 'i', 'a', 'o'}\n",
      "{'e', 'u'}\n",
      "A =  {'o', 'i', 'u', 'e', 'a'}\n",
      "B =  {'r', 'c', 'b', 'd', 'a'}\n"
     ]
    },
    {
     "data": {
      "text/plain": [
       "False"
      ]
     },
     "execution_count": 3,
     "metadata": {},
     "output_type": "execute_result"
    }
   ],
   "source": [
    "# Las operaciones típicas de conjuntos pueden realizarse con la notación de objetos:\n",
    "\n",
    "conj_a = {\"a\", \"e\", \"i\", \"o\", \"u\"}\n",
    "conj_b = {\"a\", \"b\", \"r\", \"a\", \"c\", \"a\", \"d\", \"a\", \"b\", \"r\", \"a\"}\n",
    "print(\"A = \", conj_a)\n",
    "print(\"B = \", conj_b)\n",
    "print(conj_a.union(conj_b))\n",
    "print(conj_a.intersection({\"a\", \"r\", \"p\", \"e\", \"g\", \"i\", \"o\"}))\n",
    "print(conj_a.difference({\"a\", \"g\", \"r\", \"i\", \"o\"}))\n",
    "print(\"A = \", conj_a)\n",
    "print(\"B = \", conj_b)\n",
    "conj_a.issubset({\"t\", \"r\", \"o\", \"m\", \"p\", \"e\", \"t\", \"a\"})"
   ]
  },
  {
   "cell_type": "code",
   "execution_count": 4,
   "metadata": {},
   "outputs": [
    {
     "name": "stdout",
     "output_type": "stream",
     "text": [
      "A =  {'o', 'i', 'u', 'e', 'a'}\n",
      "B =  {'r', 'c', 'b', 'd', 'a'}\n"
     ]
    }
   ],
   "source": [
    "# Con conjuntos es posible y muy cómoda la notación por comprensión o intensional:\n",
    "\n",
    "conj_a = {c for c in \"aeiou\"}\n",
    "conj_b = {c for c in \"abracadabra\"}\n",
    "print(\"A = \", conj_a)\n",
    "print(\"B = \", conj_b)"
   ]
  },
  {
   "cell_type": "code",
   "execution_count": 5,
   "metadata": {},
   "outputs": [
    {
     "name": "stdout",
     "output_type": "stream",
     "text": [
      "{2, 3, 4, 6, 8, 12, 24}\n"
     ]
    }
   ],
   "source": [
    "# Divisores:\n",
    "\n",
    "def divisores(n):\n",
    "    \"\"\"pre: n > 0\"\"\"\n",
    "    return {i for i in range(2, n+1) if n % i == 0}\n",
    "\n",
    "print(divisores(24))"
   ]
  },
  {
   "cell_type": "markdown",
   "metadata": {},
   "source": [
    "### Ejercicio\n",
    "El máximo común divisor de dos números se puede calcular así: calculamos el conjunto de los divisores de cada uno de los números; la intersección da los divisores comunes, y de ellos, nos quedamos con el mayor (prueba la función max). No es el método más eficiente para calcular el m.c.d. de dos enteros, pero nos sirve para practicar un poco con conjuntos."
   ]
  },
  {
   "cell_type": "markdown",
   "metadata": {},
   "source": [
    "## Diccionarios\n",
    "\n",
    "Un **diccionario** (también llamado **memoria asociativa**) es parecido a un array, pero en vez de dar información a partir de un índice, que es la posición, da información a partir de una clave cualquiera."
   ]
  },
  {
   "cell_type": "code",
   "execution_count": 6,
   "metadata": {},
   "outputs": [
    {
     "name": "stdout",
     "output_type": "stream",
     "text": [
      "{'despacho': 3957, 'casa': 917121314}\n",
      "{'despacho': 3957, 'casa': 917121314, 'movil': 687001122}\n",
      "687001122\n",
      "{'despacho': 3957, 'casa': 917121314}\n"
     ]
    }
   ],
   "source": [
    "# Mis teléfonos:\n",
    "    \n",
    "telefonos = {\"despacho\": 3957, \"casa\": 917121314}\n",
    "print(telefonos)\n",
    "telefonos[\"movil\"] = 687001122\n",
    "print(telefonos)\n",
    "print(telefonos[\"movil\"])\n",
    "del telefonos[\"movil\"]\n",
    "print(telefonos)"
   ]
  },
  {
   "cell_type": "code",
   "execution_count": 7,
   "metadata": {},
   "outputs": [
    {
     "name": "stdout",
     "output_type": "stream",
     "text": [
      "{'despacho': 3957, 'casa': 917121314}\n"
     ]
    },
    {
     "ename": "KeyError",
     "evalue": "'manuel'",
     "output_type": "error",
     "traceback": [
      "\u001b[1;31m---------------------------------------------------------------------------\u001b[0m",
      "\u001b[1;31mKeyError\u001b[0m                                  Traceback (most recent call last)",
      "\u001b[1;32m<ipython-input-7-5e0b10da71ad>\u001b[0m in \u001b[0;36m<module>\u001b[1;34m\u001b[0m\n\u001b[0;32m      2\u001b[0m \u001b[1;33m\u001b[0m\u001b[0m\n\u001b[0;32m      3\u001b[0m \u001b[0mprint\u001b[0m\u001b[1;33m(\u001b[0m\u001b[0mtelefonos\u001b[0m\u001b[1;33m)\u001b[0m\u001b[1;33m\u001b[0m\u001b[1;33m\u001b[0m\u001b[0m\n\u001b[1;32m----> 4\u001b[1;33m \u001b[0mprint\u001b[0m\u001b[1;33m(\u001b[0m\u001b[0mtelefonos\u001b[0m\u001b[1;33m[\u001b[0m\u001b[1;34m\"manuel\"\u001b[0m\u001b[1;33m]\u001b[0m\u001b[1;33m)\u001b[0m   \u001b[1;31m# Esto dará lugar a un error\u001b[0m\u001b[1;33m\u001b[0m\u001b[1;33m\u001b[0m\u001b[0m\n\u001b[0m",
      "\u001b[1;31mKeyError\u001b[0m: 'manuel'"
     ]
    }
   ],
   "source": [
    "# Consulta de un elemento inexistente:\n",
    "\n",
    "print(telefonos)\n",
    "print(telefonos[\"manuel\"])   # Esto dará lugar a un error"
   ]
  },
  {
   "cell_type": "code",
   "execution_count": 8,
   "metadata": {},
   "outputs": [
    {
     "name": "stdout",
     "output_type": "stream",
     "text": [
      "manuel no tiene un teléfono registrado\n"
     ]
    }
   ],
   "source": [
    "# Se puede comprobar primero si está (la clave de) el elemento:\n",
    "\n",
    "if \"manuel\" in telefonos.keys():\n",
    "    print(telefonos[\"manuel\"])\n",
    "else:\n",
    "    print(\"manuel\" + \" no tiene un teléfono registrado\")"
   ]
  },
  {
   "cell_type": "code",
   "execution_count": 9,
   "metadata": {},
   "outputs": [
    {
     "name": "stdout",
     "output_type": "stream",
     "text": [
      "dict_keys(['despacho', 'casa'])\n",
      "['despacho', 'casa']\n",
      "dict_values([3957, 917121314])\n",
      "[3957, 917121314]\n"
     ]
    }
   ],
   "source": [
    "# Las claves en el diccionario y los valores se pueden extraer por separado:\n",
    "    \n",
    "print(telefonos.keys())         # Ojo: sin un orden prefijado\n",
    "print(list(telefonos.keys()))   # En forma de lista\n",
    "\n",
    "print(telefonos.values())         # Ojo: sin un orden prefijado\n",
    "print(list(telefonos.values()))   # En forma de lista\n"
   ]
  },
  {
   "cell_type": "code",
   "execution_count": 10,
   "metadata": {},
   "outputs": [
    {
     "name": "stdout",
     "output_type": "stream",
     "text": [
      "despacho 3957\n",
      "casa 917121314\n",
      "--------------------------------\n",
      "despacho 3957\n",
      "casa 917121314\n"
     ]
    }
   ],
   "source": [
    "# Recorridos en diccionarios:\n",
    "    \n",
    "for sitio in telefonos:\n",
    "    print(sitio, telefonos[sitio])\n",
    "print(\"--------------------------------\")\n",
    "for sitio, num_tel in telefonos.items():\n",
    "    print(sitio, num_tel)    "
   ]
  },
  {
   "cell_type": "code",
   "execution_count": 11,
   "metadata": {},
   "outputs": [
    {
     "name": "stdout",
     "output_type": "stream",
     "text": [
      "Fernando vive en Pozuelo\n",
      "Elena vive en Colón\n"
     ]
    }
   ],
   "source": [
    "# A cada clave se le puede asignar una estructura de datos más compleja:\n",
    "    \n",
    "agenda = {\"Fernando\": {\"tel.casa\":  11111111, \n",
    "                       \"tel.movil\": 22222222, \n",
    "                       \"direccion\": \"Pozuelo\"\n",
    "                      },\n",
    "          \"Elena\":    {\"tel.casa\":  555555555, \n",
    "                       \"tel.movil\": 66666666, \n",
    "                       \"direccion\": \"Colón\"\n",
    "                      }\n",
    "         }\n",
    "for persona in agenda:\n",
    "    print(persona + \" vive en \" + agenda[persona][\"direccion\"])"
   ]
  },
  {
   "cell_type": "markdown",
   "metadata": {},
   "source": [
    "# Ejercicio sencillo:\n",
    "\n",
    "Partimos de un archivo de texto, un fragmento literario tel vez.\n",
    "<ul>\n",
    "  <li> Se pide extraer la lista de las palabas que están en dicho archivo. </li>\n",
    "  <li> Se pide ahora extraer el conjunto, esto es, con las palabras pero sin repetición. </li>\n",
    "  <li> Se desea también contar el número de veces que aparece cada palabras en dicho archivo. </li>\n",
    "  <li> Por último, se desea construir un diccionario cuyas claves sean frecuencias y cuyos valores conjunto de palabras:\n",
    "        <center>\n",
    "           frecs = {1: {palabras con frecuencia 1}, ...}\n",
    "        </center>\n",
    "  </li>\n",
    "</ul>"
   ]
  },
  {
   "cell_type": "markdown",
   "metadata": {},
   "source": [
    "# Práctica:\n",
    "\n",
    "Deseamos gestionar el inventario de un supermercado. Cada producto se localiza mediante su código, y además de eso se guarda de él lo siguiente:\n",
    "<ul>\n",
    "  <li> La ubicación en las estanterías del supermercado </li>\n",
    "  <li> La cantidad máxima de unidades de ese producto que caben en dicha estantería correspondiente </li>\n",
    "  <li> La cantidad mínima de unidades de ese producto que debe haber en dicha estantería </li>\n",
    "  <li> Las existencias en un momento dado, en su estantería </li>\n",
    "  <li> Una descripción del producto </li>\n",
    "</ul>\n",
    "Un diccionario puede archivar la situación en un instante dado, siendo la clave el código de cada producto. Las operaciones necesarias representarán las siguientes situaciones:\n",
    "<ul>\n",
    "  <li> Deseamos ver un producto del supermercado. </li>\n",
    "  <li> Deseamos obtener un listado del inventario. </li>\n",
    "  <li> Se reponen las existencias de un producto, dando su número y la cantidad de unidades que se reponen.\n",
    "    Esta cantidad debe ser compatible con la cantidad máxima que admiten las estanterías. </li>\n",
    "  <li> Un cliente compra una cierta cantidad de unidades de un producto.\n",
    "    Como consecuencia, se modifica el inventario. Además, en caso de que las existencias queden por debajo del mínimo,\n",
    "    se detectará la situación para avisar de que es necesario reponer las existencias. </li>\n",
    "</ul>\n",
    "Es fácil convertir este ejercicio en una pequeña colección de funciones y, luego, en una aplicación que:\n",
    "<ul>\n",
    "  <li> Lee la situación de un inventario, guardada en un archivo de texto.\n",
    "  <li> Lee un tíquet de compra, y va atualizando el inventario y avisando de las reposiciones que se van necesitando.</li>\n",
    "</ul>"
   ]
  },
  {
   "cell_type": "markdown",
   "metadata": {},
   "source": [
    "## Referencias\n",
    "\n",
    "Algunos ejemplos de este script se han tomado de las siguientes URLs:\n",
    "\n",
    "    https://docs.python.org/2/tutorial/datastructures.html#sets\n",
    "    https://docs.python.org/2/tutorial/datastructures.html#dictionaries"
   ]
  }
 ],
 "metadata": {
  "kernelspec": {
   "display_name": "Python 3",
   "language": "python",
   "name": "python3"
  },
  "language_info": {
   "codemirror_mode": {
    "name": "ipython",
    "version": 3
   },
   "file_extension": ".py",
   "mimetype": "text/x-python",
   "name": "python",
   "nbconvert_exporter": "python",
   "pygments_lexer": "ipython3",
   "version": "3.8.3"
  }
 },
 "nbformat": 4,
 "nbformat_minor": 1
}
