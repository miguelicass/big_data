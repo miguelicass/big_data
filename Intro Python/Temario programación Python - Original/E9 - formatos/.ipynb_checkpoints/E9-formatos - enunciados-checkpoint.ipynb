{
 "cells": [
  {
   "cell_type": "markdown",
   "metadata": {},
   "source": [
    "# Ejercicios sobre Archivos CSV y el formato JSON\n",
    "\n",
    "<hr>\n",
    "\n",
    "En las páginas del INE puede encontrarse distintos archivos Excel con los nombres de persona más frecuentes:\n",
    "\n",
    "    https://www.ine.es/dyngs/INEbase/es/operacion.htm?c=Estadistica_C&cid=1254736177009&menu=resultados&idp=1254734710990\n",
    "\n",
    "Uno de ellos incluye todos los nombres con frecuencia igual o mayor a 20 personas. Contiene dos tablas, una con los masculinos y otra con los femeninos. \n",
    "\n",
    "Para empezar, abre este archivo Excel con Access y generar dos archivos csv, uno con los nombres masculinos y otro con los femeninos.\n",
    "\n",
    "### Apartado 1\n",
    "\n",
    "Diseña un programa en Python que cargue ambos archivos en sendas listas, y las \n",
    "almacene en sendas variables, una con los nombres masculinos y otra con los femeninos."
   ]
  },
  {
   "cell_type": "markdown",
   "metadata": {},
   "source": [
    "Si intentamos acceder a un elemento de la \"lista\" csvFile (ej. `csvFile[7]`) vemos que no es en realidad una lista... por eso la reconvertimos así `list(csvFile)`.\n",
    "\n",
    "Vemos que aparecen unas líneas iniciales que no nos interesan, así que nos quedamos con las que sí, y las guardamos en una variable:"
   ]
  },
  {
   "cell_type": "markdown",
   "metadata": {},
   "source": [
    "### Apartado 2\n",
    "\n",
    "La lista con los nombres femeninos puede ampliar cada elemento con un valor adicional representativo del sexo femenino, una “F”. Resp., los nombres masculinos con una “M”."
   ]
  },
  {
   "cell_type": "markdown",
   "metadata": {},
   "source": [
    "### Apartado 3\n",
    "\n",
    "Ahora deseamos unir ambas listas y convertir los números en números enteros o reales, según el caso."
   ]
  },
  {
   "cell_type": "markdown",
   "metadata": {},
   "source": [
    "### Apartado 4\n",
    "\n",
    "Ordenamos ahora la lista alfabéticamente..."
   ]
  },
  {
   "cell_type": "markdown",
   "metadata": {},
   "source": [
    "### Apartado 5\n",
    "\n",
    "... y finalmente deseamos almacenar el resultado en un archivo cvs"
   ]
  }
 ],
 "metadata": {
  "kernelspec": {
   "display_name": "Python 3",
   "language": "python",
   "name": "python3"
  },
  "language_info": {
   "codemirror_mode": {
    "name": "ipython",
    "version": 3
   },
   "file_extension": ".py",
   "mimetype": "text/x-python",
   "name": "python",
   "nbconvert_exporter": "python",
   "pygments_lexer": "ipython3",
   "version": "3.7.3"
  }
 },
 "nbformat": 4,
 "nbformat_minor": 2
}
