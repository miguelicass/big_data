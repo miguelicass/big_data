{
 "cells": [
  {
   "cell_type": "markdown",
   "metadata": {},
   "source": [
    "# Expresiones regulares. Ejercicios resueltos"
   ]
  },
  {
   "cell_type": "markdown",
   "metadata": {},
   "source": [
    "### Ejercicio 1. Extracción de imágenes\n",
    "\n",
    "Diseña una expresión regular que capture y extraiga el nombre de un archivo de imagen (esto es, *.img, *.jpg, *.png) de una url. Por ejemplo, en las siguientes:\n",
    "\n",
    "<pre>\n",
    "http://www.domain.com/static/js/imagen1.jpg\n",
    "http://www.domain.com/index.php?a=imagen2.img\n",
    "http://www.domain.com/index.php?a=/imagen3.png\n",
    "http://www.domain.com/?v=http://domain.com/static/imagen4.mpg\n",
    "http://www.domain.com/?v=http://domain.com/static/?v=http://www.domain/src/este.js&var=lol\n",
    "</pre>\n",
    "\n",
    "Detalles:\n",
    "\n",
    "<ul>\n",
    "  <li> El nombre del archivo estará precedido por el carácter \"/\" o \"=\". </li>\n",
    "  <li> Luego, caracteres distintos del carácter \"/\" o \"=\", seguidos de un punto y una extensión válida.\n",
    "      Ésta será la cadena de caracteres que nos interesa capturar</li>\n",
    "</ul>"
   ]
  },
  {
   "cell_type": "code",
   "execution_count": 1,
   "metadata": {
    "collapsed": false
   },
   "outputs": [
    {
     "name": "stdout",
     "output_type": "stream",
     "text": [
      "imagen1.jpg\n",
      "imagen2.img\n",
      "imagen3.png\n",
      "imagen4.png\n",
      "imagen5.png\n",
      "imagen6.png\n",
      "imagen7.mpg\n",
      "imagen8.jpeg\n",
      "---\n",
      "---\n"
     ]
    }
   ],
   "source": [
    "import re\n",
    "\n",
    "casos = \"\"\"http://www.domain.com/static/js/imagen1.jpg\n",
    "http://www.domain.com/index.php?a/imagen2.img\n",
    "www.domain.com/index.php?a=/imagen3.png                        # Dos puntos\n",
    "www.domain.com/index.php?a=/imagen4.png\n",
    "=www.domain.com/index.php?a=/imagen5.png\n",
    "=/www.domain.com/index.php?a=/imagen6.png\n",
    "http://www.domain.com/?v=http://domain.com/static/imagen7.mpg\n",
    "http://www.domain.com/?v=http://domain.com/static/imagen8.jpeg/\n",
    "http://www.domain.com/?v=http://domain.com/static/?v=http://www.domain/src/este.js&var=lol\n",
    "\"\"\"\n",
    "\n",
    "for caso in casos.split(\"\\n\"):\n",
    "  result = re.findall(r'[/=]([^/=]*\\.(?:jpg|mpg|img|png|jpeg))', caso)\n",
    "  if result:\n",
    "    print(result[0])   #sólo el primer grupo, pues la extensión ya está incluida\n",
    "  else:\n",
    "    print(\"---\")"
   ]
  },
  {
   "cell_type": "markdown",
   "metadata": {},
   "source": [
    "### Explicación\n",
    "\n",
    "Explicación:\n",
    "<ul>\n",
    "  <li> La cadena \"[/=]\" representa el  caracter inicial que puede ser \"/\" o \"=\". </li>\n",
    "  <li> La cadena \"[^/=]*\" representa cualquier cadena de caracteres que no contenga \"/\" ni \"=\". </li>\n",
    "  <li> Un par de paréntesis \"normal\", representa un grupo que se desea capturar. </li>\n",
    "  <li> Un par de paréntesis abiero así: \"(?:\", representa un grupo que NO se desea capturar. </li>\n",
    "  En el programa, se extrae el primer resultado de la lista de varios posibles, en realidad, uno solo.\n",
    "  Si se prueba capturando los dos grupos descritos se verá por qué es necesario el seleccionar uno.\n",
    "</ul>"
   ]
  },
  {
   "cell_type": "markdown",
   "metadata": {},
   "source": [
    "### Ejercicio 2. Coloreado de un fragmento de texto, en un archivo HMTL\n",
    "\n",
    "He aquí un fragmento de un archivo html:\n",
    "\n",
    "    <pre>\n",
    "        <p>'Este fragmento de html es negro, <font color=\"00ff00\">ahora verde</font> y de nuevo negro...'</p>\n",
    "    </pre>\n",
    "\n",
    "Viendo cómo queda en la pantalla con mi navegador, resulta lo siguiente:\n",
    "\n",
    "<html> <center>\n",
    "    'Este fragmento de html es negro, <font color=\"00ff00\">ahora verde</font> y de nuevo negro...'\n",
    "</center> </html>\n",
    "\n",
    "Te pido una expresión regular que identifique, en una cadena de caracteres, un fragmento de texto coloreado y el código del color que tiene:\n",
    "\n",
    "    >>> cadena = 'Este fragmento de html es negro, <font color=\"00ff00\">ahora verde</font> y de nuevo negro...'\n",
    "    >>> obtener_texto_y_color(cadena)\n",
    "    ('00ff00', 'ahora verde')\n",
    "\n",
    "Obviamente, lo más interesante de la función $\\verb+obtener_texto_y_color+$ es el patrón usado, en el que se define la expresión regular adecuada. Pero no es lo único."
   ]
  },
  {
   "cell_type": "code",
   "execution_count": 2,
   "metadata": {
    "collapsed": false
   },
   "outputs": [
    {
     "data": {
      "text/plain": [
       "[('00ff00', 'ahora verde')]"
      ]
     },
     "execution_count": 2,
     "metadata": {},
     "output_type": "execute_result"
    }
   ],
   "source": [
    "import re\n",
    "\n",
    "cadena1 = 'Este fragmento de html es negro, <font color=\"00ff00\">ahora verde</font> y de nuevo negro...'\n",
    "\n",
    "# primera versión del patrón:\n",
    "\n",
    "patron1 = re.compile('<font color=\"(......)\">(.+)</font>')\n",
    "\n",
    "patron1.findall(cadena1)"
   ]
  },
  {
   "cell_type": "code",
   "execution_count": 3,
   "metadata": {
    "collapsed": false
   },
   "outputs": [
    {
     "data": {
      "text/plain": [
       "[('00ff00', 'ahora verde')]"
      ]
     },
     "execution_count": 3,
     "metadata": {},
     "output_type": "execute_result"
    }
   ],
   "source": [
    "\"\"\"\n",
    "Esta versión no funciona si hay más espacios, o si las etiquetas están en mayúsculas,\n",
    "o si hay otras etiquetas...\n",
    "\"\"\" \n",
    "\n",
    "cadena2 = 'Fragmento negro, <FONT a=5   color  =  \"00ff00\" otra_label=456>ahora verde</foNt> y de nuevo negro...'\n",
    "\n",
    "# segunda versión del patrón:\n",
    "\n",
    "patron2 = re.compile('<font.*color *= *\"(......)\".*>(.+)</font>', re.IGNORECASE)\n",
    "\n",
    "patron2.findall(cadena2)"
   ]
  },
  {
   "cell_type": "code",
   "execution_count": 4,
   "metadata": {
    "collapsed": false
   },
   "outputs": [
    {
     "data": {
      "text/plain": [
       "[('00aa00', 'otro color')]"
      ]
     },
     "execution_count": 4,
     "metadata": {},
     "output_type": "execute_result"
    }
   ],
   "source": [
    "\"\"\"\n",
    "Ahora consideramos que la cadena tiene varios fragmentos coloreados, y queremos extraerlos todos.\n",
    "\"\"\" \n",
    "\n",
    "cadena3 = 'Normal, <FONT color = \"00ff00\">verde</foNt> negro <FONT color = \"00aa00\">otro color</foNt>negro de nuevo...'\n",
    "\n",
    "# Tercera versión del patrón:\n",
    "\n",
    "patron3 = re.compile('<font.*color *= *\"(......)\".*>(.+)</font>', re.IGNORECASE)\n",
    "patron3.findall(cadena3)\n",
    "\n",
    "# Y no nos gusta la respuesta: Deberíamos excluir los fragmentos con FONT dentro de FONT."
   ]
  },
  {
   "cell_type": "markdown",
   "metadata": {},
   "source": [
    "Necesitamos excluir los fragmentos con FONT dentro de FONT. Para ello, usamos el siquiente patrón:\n",
    "\n",
    "<pre>\n",
    "    '(<font(?:(?!font).)*</font>)'\n",
    "</pre>\n",
    "\n",
    "Explicación:\n",
    "\n",
    "<pre>\n",
    "    (?:       # principio de un grupo que no se captura\n",
    "      (?!     # principio de un grupo negativo anticipado\n",
    "        font  # secuencia literal font\n",
    "      )       # fin de un grupo negativo\n",
    "      .       # un carácter cualquiera\n",
    "    )         # fin del grupo que no capturado\n",
    "</pre>"
   ]
  },
  {
   "cell_type": "code",
   "execution_count": 5,
   "metadata": {
    "collapsed": false
   },
   "outputs": [
    {
     "data": {
      "text/plain": [
       "[('00ff00', 'verde'), ('00aa00', 'otro color')]"
      ]
     },
     "execution_count": 5,
     "metadata": {},
     "output_type": "execute_result"
    }
   ],
   "source": [
    "\"\"\"\n",
    "Juntando todo:\n",
    "\"\"\" \n",
    "\n",
    "cadena4 = 'Normal, <FONT color = \"00ff00\">verde</FONT> negro <font color = \"00aa00\">otro color</font>negro de nuevo...'\n",
    "\n",
    "# Tercera versión del patrón:\n",
    "\n",
    "patron4 = re.compile('(<font(?:(?!font).)*</font>)', re.IGNORECASE)\n",
    "patron4.findall(cadena4)\n",
    "\n",
    "# Por supuesto, a cada una de estas cadenas le podemos aplicar de nuevo el patrón segundo:\n",
    "\n",
    "def extraer_texto_y_color(cadena):\n",
    "    patron4 = re.compile('(<font(?:(?!font).)*</font>)', re.IGNORECASE)\n",
    "    fragmentos = patron4.findall(cadena)\n",
    "    patron2 = re.compile('<font.*color *= *\"(......)\".*>(.+)</font>', re.IGNORECASE)\n",
    "    return [patron2.findall(i)[0] for i in fragmentos]\n",
    "\n",
    "extraer_texto_y_color(cadena4)"
   ]
  }
 ],
 "metadata": {
  "kernelspec": {
   "display_name": "Python 3",
   "language": "python",
   "name": "python3"
  },
  "language_info": {
   "codemirror_mode": {
    "name": "ipython",
    "version": 3
   },
   "file_extension": ".py",
   "mimetype": "text/x-python",
   "name": "python",
   "nbconvert_exporter": "python",
   "pygments_lexer": "ipython3",
   "version": "3.6.0"
  }
 },
 "nbformat": 4,
 "nbformat_minor": 0
}
