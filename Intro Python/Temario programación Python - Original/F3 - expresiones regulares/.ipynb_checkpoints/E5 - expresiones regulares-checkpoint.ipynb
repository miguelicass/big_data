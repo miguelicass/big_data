{
 "cells": [
  {
   "cell_type": "markdown",
   "metadata": {},
   "source": [
    "# Expresiones regulares\n",
    "\n",
    "<hr>\n",
    "\n",
    "Una expresión regular es un patrón que describe una colección de cadenas de caracteres.\n",
    "\n",
    "Por ejemplo, el patrón `𝚊.𝚞` representa todas las cadenas de caracteres que empiezan por la letra `a`, luego un carácter cualquiera (representado por el símbolo `.`) y luego la letra `u`. Más concretamente, el patrón `a.u` representa las cadenas `abu`, `agu` y `a-u`, pero no las cadenas `Abu` o `ave`.\n",
    "\n",
    "Otro ejemplo: el patrón `\"𝚊𝚋*\"` representa las cadenas de caracteres que empiecen por la letra `a` seguida por cero o más caracteres `b`.\n",
    "\n",
    "Y otro: el patrón `\"𝚚𝚞𝚒(𝚓𝚘𝚝𝚎|𝚓𝚊𝚗𝚘|𝚖𝚎𝚛𝚊)\"` representa las cadenas de caracteres que empiecen por `qui`, seguidas `jote`, por `jano` o por `mera`. Concretamente, las cadenas `\"quijote\"`, por `\"quijano\"` o por `quimera`."
   ]
  },
  {
   "cell_type": "markdown",
   "metadata": {},
   "source": [
    "### La función `match()`\n",
    "\n",
    "La función `match()` averigua si una cadena de caracteres contiene un patrón, *en su comienzo*.\n",
    "\n",
    "Por ejemplo, como el símbolo `\".\"` representa exactamente un carácter cualquiera, el patrón `\"a.u\"` encaja al comienzo de las cadenas `\"abuelo\"`, `\"avuelo\"`, `\"avutarda\"` y `\"aguja\"`, pero no de las cadenas `\"Abuelo\"` y `\"aaaaa\"`."
   ]
  },
  {
   "cell_type": "code",
   "execution_count": 1,
   "metadata": {},
   "outputs": [
    {
     "name": "stdout",
     "output_type": "stream",
     "text": [
      "El patrón encaja en la cadena abuelo\n",
      "El patrón NO encaja en la cadena Abuelo\n",
      "abuelo\n",
      "avuelo\n",
      "avutarda\n",
      "aguja\n"
     ]
    }
   ],
   "source": [
    "import re\n",
    "\n",
    "patron = re.compile(\"a.u\")\n",
    "\n",
    "cadena = \"abuelo\"\n",
    "if re.match(patron, cadena):\n",
    "    print(\"El patrón encaja en la cadena \" + cadena)\n",
    "else:\n",
    "    print(\"El patrón NO encaja en la cadena \" + cadena)\n",
    "\n",
    "cadena = \"Abuelo\"\n",
    "if re.match(patron, cadena):\n",
    "    print(\"El patrón encaja en la cadena \" + cadena)\n",
    "else:\n",
    "    print(\"El patrón NO encaja en la cadena \" + cadena)\n",
    "\n",
    "for cadena in [\"abuelo\", \"Abuelo\", \"avuelo\", \"avutarda\", \"aguja\", \"aaaaa\"]:\n",
    "    if re.match(patron, cadena):\n",
    "        print(cadena)"
   ]
  },
  {
   "cell_type": "markdown",
   "metadata": {},
   "source": [
    "### Otro comodín: `\"*\"`\n",
    "\n",
    "Otro comodín es el símbolo `\"*\"`, que representa exactamente la repetición \"ninguna o más veces\", del carácter precedente. Así por ejemplo, el patrón `\"ab*o\"` representa el comienzo de las cadenas `\"abono\"` y `\"abbbbonar\"` o `\"ao\"`, pero no de las cadenas `\"abuelo\"` o `\"aaaaa\"`."
   ]
  },
  {
   "cell_type": "code",
   "execution_count": 2,
   "metadata": {},
   "outputs": [
    {
     "name": "stdout",
     "output_type": "stream",
     "text": [
      "abono\n",
      "abbbbonar\n",
      "ao\n"
     ]
    }
   ],
   "source": [
    "patron = re.compile(\"ab*o\")\n",
    "\n",
    "for cadena in [\"abuelo\", \"Abuelo\", \"abono\", \"abbbbonar\", \\\n",
    "               \"abuela\", \"abuelitos\", \"aaaaa\", \"ao\"]:\n",
    "    if re.match(patron, cadena):\n",
    "        print(cadena)"
   ]
  },
  {
   "cell_type": "markdown",
   "metadata": {},
   "source": [
    "### Algunos patrones básicos\n",
    "\n",
    "El símbolo `\".\"` en el patrón representa un carácter cualquiera, y `\"*\"`, ninguna o más repeticiones del símbolo precedente. En los patrones se usan otros muchos símbolos. Veamos algunos ejemplos para empezar:\n",
    "\n",
    "Algunos códigos especiales nos permiten identificar dígitos, caracteres no dígitos...\n",
    "\n",
    "| Patrón \t| Significado                             |\n",
    "|-|-|\n",
    "| \"a*\" \t    | El carácter a, ninguna o más veces                                   |\n",
    "| \"a+\" \t    | El carácter a, una o más veces                              |\n",
    "| \"[a-z]\"   | Una letra de la \"a\" a la \"z\"   |\n",
    "| \"[1-9]+\"  | Un dígito entre uno y nueve, una o más veces                            |\n",
    "| \"mi(.$\\verb+|+$..)o\" \t| Empieza por \"mi\", luego uno o dos caracteres y luego una \"o\": mito, mico, mirlo, miedo               |\n",
    "| \"^The.*Spain$\" \t| Empieza por \"The\" y termina con \"Spain\""
   ]
  },
  {
   "cell_type": "markdown",
   "metadata": {},
   "source": [
    "### La función `search()`:\n",
    "\n",
    "La función `search()` recorre una cadena y busca en ella algún fragmento que encaje con el patrón dado, y da el fragmento posible en caso de encontrarlo:"
   ]
  },
  {
   "cell_type": "code",
   "execution_count": 3,
   "metadata": {},
   "outputs": [
    {
     "name": "stdout",
     "output_type": "stream",
     "text": [
      "None\n",
      "<re.Match object; span=(13, 17), match='cha,'>\n",
      "13\n",
      "17\n"
     ]
    }
   ],
   "source": [
    "patron = re.compile(\"c...\")\n",
    "\n",
    "encaje = re.search(patron, \"En un lugar...\")\n",
    "print(encaje)\n",
    "\n",
    "encaje = re.search(patron, \"... de la Mancha, de cuyo nombre no quiero acordarme...\")\n",
    "print(encaje)\n",
    "print(encaje.start())\n",
    "print(encaje.end())"
   ]
  },
  {
   "cell_type": "markdown",
   "metadata": {},
   "source": [
    "### La función `findall()`:\n",
    "\n",
    "Podríamos desear ver todos los encajes, y no sólo el primero: nuestra función es ahora `findall()`:"
   ]
  },
  {
   "cell_type": "code",
   "execution_count": 4,
   "metadata": {},
   "outputs": [
    {
     "name": "stdout",
     "output_type": "stream",
     "text": [
      "['cha ', 'cuyo', 'cord', 'cín ', 'co y', 'corr']\n",
      "['n lug', 'e la ', 'e los']\n"
     ]
    }
   ],
   "source": [
    "cadena = \"\"\"En un lugar de la Mancha de cuyo nombre\\\n",
    "no quiero acordarme, había un hidalgo, de los de\\\n",
    "lanza en astillero, rocín flaco y galgo corredor...\"\"\"\n",
    "\n",
    "print(re.findall(\"c...\", cadena))\n",
    "\n",
    "print(re.findall(\". l..\", cadena))"
   ]
  },
  {
   "cell_type": "markdown",
   "metadata": {},
   "source": [
    "### La función `split()`:\n",
    "\n",
    "Separa una cadena según un patrón:"
   ]
  },
  {
   "cell_type": "code",
   "execution_count": 5,
   "metadata": {},
   "outputs": [
    {
     "name": "stdout",
     "output_type": "stream",
     "text": [
      "['En un lugar de la Man', 'de ', ' nombreno quiero a', 'arme, había un hidalgo, de los delanza en astillero, ro', 'fla', ' galgo ', 'edor...']\n"
     ]
    }
   ],
   "source": [
    "cadena = \"\"\"En un lugar de la Mancha de cuyo nombre\\\n",
    "no quiero acordarme, había un hidalgo, de los de\\\n",
    "lanza en astillero, rocín flaco y galgo corredor...\"\"\"\n",
    "\n",
    "separada = re.split(\"c...\", cadena)\n",
    "print(separada)"
   ]
  },
  {
   "cell_type": "markdown",
   "metadata": {},
   "source": [
    "### La función `sub()`:\n",
    "\n",
    "Sustituye las apariciones de un patrón por otra cosa, en una cadena de carateres:"
   ]
  },
  {
   "cell_type": "code",
   "execution_count": 6,
   "metadata": {},
   "outputs": [
    {
     "name": "stdout",
     "output_type": "stream",
     "text": [
      "En un lugar de la Man----de ---- nombreno quiero a----arme, había un hidalgo, de los delanza en astillero, ro----fla---- galgo ----edor...\n"
     ]
    }
   ],
   "source": [
    "cadena = \"\"\"En un lugar de la Mancha de cuyo nombre\\\n",
    "no quiero acordarme, había un hidalgo, de los de\\\n",
    "lanza en astillero, rocín flaco y galgo corredor...\"\"\"\n",
    "\n",
    "separada = re.sub(\"c...\", \"----\", cadena)\n",
    "print(separada)"
   ]
  },
  {
   "cell_type": "markdown",
   "metadata": {},
   "source": [
    "### La función `group()`:\n",
    "\n",
    "Dentro de un fragmento que encaja con un patrón, podemos distinguir partes. La función group permite definir estas partes y localizarlas por separado:"
   ]
  },
  {
   "cell_type": "code",
   "execution_count": 7,
   "metadata": {},
   "outputs": [
    {
     "name": "stdout",
     "output_type": "stream",
     "text": [
      "cha d\n",
      "cha d\n",
      "ha d\n",
      "ha\n",
      " d\n"
     ]
    }
   ],
   "source": [
    "cadena = \"\"\"En un lugar de la Mancha de cuyo nombre\\\n",
    "no quiero acordarme, había un hidalgo, de los de\\\n",
    "lanza en astillero, rocín flaco y galgo corredor...\"\"\"\n",
    "\n",
    "patron = re.compile(\"c....\")\n",
    "encaje = re.search(patron, cadena)\n",
    "print(encaje.group())\n",
    "\n",
    "patron = re.compile(\"c((..)(..))\")\n",
    "encaje = re.search(patron, cadena)\n",
    "print(encaje.group(0))\n",
    "print(encaje.group(1))\n",
    "print(encaje.group(2))\n",
    "print(encaje.group(3))"
   ]
  },
  {
   "cell_type": "markdown",
   "metadata": {},
   "source": [
    "### Patrones\n",
    "\n",
    "En los ejemplos anteriores hemos visto los patrones siguientes:\n",
    "\n",
    "<ul>\n",
    "    <li> El patron \"ab*\", que representa las cadenas de caracteres que empiezan por la letra `a` seguida de cero o más caracteres \"b\" </li>\n",
    "    <li> El patrón \". l..\", que representa las cadenas de cinco caracteres: uno cualquiera, un espacio, la letra \"l\" y dos caracteres cualesquiera más. </li>\n",
    "</ul>\n",
    "\n",
    "Pero hay otros patrones posibles, que se pueden definir con las siguientes convenciones. Vamos a verlos mediante ejemplos:"
   ]
  },
  {
   "cell_type": "code",
   "execution_count": 8,
   "metadata": {},
   "outputs": [
    {
     "name": "stdout",
     "output_type": "stream",
     "text": [
      "Búsqueda con el patrón '.ab*'\n",
      "['0a', '2ab', '3ab', '4ab', '5a', 'aa', 'aa', 'aa', '6abb', '7abbbbb', '6ab', 'bab', 'bab']\n",
      "Búsqueda con el patrón '.ab+'\n",
      "['2ab', '3ab', '4ab', '6abb', '7abbbbb', '6ab', 'bab', 'bab']\n",
      "Búsqueda con el patrón '.ab?'\n",
      "['0a', '2ab', '3ab', '4ab', '5a', 'aa', 'aa', 'aa', '6ab', 'bab', '7ab', '6ab', 'bab', 'bab']\n",
      "Búsqueda con el patrón '.ab{2}'\n",
      "['6abb', '7abb']\n",
      "Búsqueda con el patrón '.ab{2,4}'\n",
      "['6abb', '7abbbb']\n",
      "Búsqueda con el patrón '.[ab].'\n",
      "['0a ', '1b ', '2ab', '3ab', '4ab', '5aa', 'aaa', 'aa ', '6ab', 'bab', '7ab', 'bbb', '6ab', 'aba', 'bab', 'aba']\n",
      "Búsqueda con el patrón '.[ab]+'\n",
      "['0a', '1b', '2ab', '3aba', '4ab', '5aaaaaaa', '6abbab', '7abbbbb', '6abababababab']\n"
     ]
    }
   ],
   "source": [
    "patrones = ['.ab*',       # un carácter, el carácter \"a\" seguido por cero o más caracteres \"b\".\n",
    "            '.ab+',       # un carácter, el carácter \"a\" seguido por uno o más caracteres \"b\".\n",
    "            '.ab?',       # un carácter, el carácter \"a\" seguido por cero o un carácter \"b\".\n",
    "            '.ab{2}',     # un carácter, el carácter \"a\" seguido por dos caracteres \"b\".\n",
    "            '.ab{2,4}',   # un carácter, el carácter \"a\" seguido por 2, 3 o 4 caracteres \"b\".\n",
    "            '.[ab].',     # \"[ab]\" es el carácter \"a\" o el carácter \"b\".\n",
    "            '.[ab]+',     # un carácter seguido de uno o más caracteres \"a\" o \"b\"\n",
    "           ]\n",
    "\n",
    "frase = \"0a 1b 2ab 3aba 4abc 5aaaaaaa 6abbab 7abbbbb 6abababababab\"\n",
    "\n",
    "for p in patrones:\n",
    "    print(\"Búsqueda con el patrón '\" + p + \"'\")\n",
    "    print(re.findall(p,frase))"
   ]
  },
  {
   "cell_type": "markdown",
   "metadata": {},
   "source": [
    "### Secuencias de escape\n",
    "\n",
    "Algunos códigos especiales nos permiten identificar dígitos, caracteres no dígitos...\n",
    "\n",
    "| Código \t| Significado                             |\n",
    "|-|-|\n",
    "| \"\\d\" \t| un dígito                                   |\n",
    "| \"\\D\" \t| un carácter no dígito                              |\n",
    "| \"\\s\" \t| espacio en blanco o tabulador o nueva línea, etc.)   |\n",
    "| \"\\S\" \t| no espacio en blanco o...                            |\n",
    "| \"\\w\" \t| carácter alfaumérico               |\n",
    "| \"\\W\" \t| no carácter alfaumérico                     |"
   ]
  },
  {
   "cell_type": "code",
   "execution_count": 9,
   "metadata": {},
   "outputs": [
    {
     "name": "stdout",
     "output_type": "stream",
     "text": [
      "Búsqueda con el patrón \\d+\n",
      "['666']\n",
      "Búsqueda con el patrón \\D+\n",
      "['¡El número del anticristo es ', ', el número de la bestia!']\n",
      "Búsqueda con el patrón \\s+\n",
      "[' ', ' ', ' ', ' ', ' ', ' ', ' ', ' ', ' ', ' ']\n",
      "Búsqueda con el patrón \\S+\n",
      "['¡El', 'número', 'del', 'anticristo', 'es', '666,', 'el', 'número', 'de', 'la', 'bestia!']\n",
      "Búsqueda con el patrón \\w+\n",
      "['El', 'número', 'del', 'anticristo', 'es', '666', 'el', 'número', 'de', 'la', 'bestia']\n",
      "Búsqueda con el patrón \\W+\n",
      "['¡', ' ', ' ', ' ', ' ', ' ', ', ', ' ', ' ', ' ', ' ', '!']\n"
     ]
    }
   ],
   "source": [
    "patrones = [\"\\d+\", # Secuencia de dígitos\n",
    "            \"\\D+\", # Secuencia de no dígitos\n",
    "            \"\\s+\", # Secuencia de espacios en blanco\n",
    "            \"\\S+\", # Secuencia de no espacios en blanco\n",
    "            \"\\w+\", # Secuencia de caracteres alfanuméricos\n",
    "            \"\\W+\", # Secuencia de no caracteres alfanuméricos\n",
    "           ]\n",
    "\n",
    "frase = \"¡El número del anticristo es 666, el número de la bestia!\"\n",
    "\n",
    "for p in patrones:\n",
    "    print(\"Búsqueda con el patrón \" + p)\n",
    "    print(re.findall(p,frase))"
   ]
  },
  {
   "cell_type": "code",
   "execution_count": 10,
   "metadata": {},
   "outputs": [
    {
     "name": "stdout",
     "output_type": "stream",
     "text": [
      "Búsqueda con el patrón [^!.? ]+\n",
      "['¡Qué', 'lindos', 'ojos', '¿Puedes', 'decirme', 'tu', 'nombre']\n",
      "Búsqueda con el patrón [a-z]\n",
      "['u', 'l', 'i', 'n', 'd', 'o', 's', 'o', 'j', 'o', 's', 'u', 'e', 'd', 'e', 's', 'd', 'e', 'c', 'i', 'r', 'm', 'e', 't', 'u', 'n', 'o', 'm', 'b', 'r', 'e']\n",
      "Búsqueda con el patrón [a-zA-Z]\n",
      "['Q', 'u', 'l', 'i', 'n', 'd', 'o', 's', 'o', 'j', 'o', 's', 'P', 'u', 'e', 'd', 'e', 's', 'd', 'e', 'c', 'i', 'r', 'm', 'e', 't', 'u', 'n', 'o', 'm', 'b', 'r', 'e']\n",
      "Búsqueda con el patrón [A-Z][a-z]\n",
      "['Qu', 'Pu']\n"
     ]
    }
   ],
   "source": [
    "patrones = [\"[^!.? ]+\",   # \"Un carácter que no es ni \"!\", ni \".\", ni \"?\" ni \" \".\n",
    "            \"[a-z]\",      # rango de caracteres\n",
    "            \"[a-zA-Z]\",   # una minúscula o una mayúscula\n",
    "            \"[A-Z][a-z]\", # una minúscula seguida de una mayúscula\n",
    "           ]\n",
    "\n",
    "frase = \"¡Qué lindos ojos! ¿Puedes decirme tu nombre?\"\n",
    "\n",
    "for p in patrones:\n",
    "    print(\"Búsqueda con el patrón \" + p)\n",
    "    print(re.findall(p,frase))"
   ]
  },
  {
   "cell_type": "markdown",
   "metadata": {},
   "source": [
    "### Ejemplos adicionales"
   ]
  },
  {
   "cell_type": "code",
   "execution_count": 11,
   "metadata": {},
   "outputs": [
    {
     "name": "stdout",
     "output_type": "stream",
     "text": [
      "['cpareja@ucm.es', 'c.pareja@sip.ucm.es', 'c_pareja@SIP.ucm.es.es.es']\n"
     ]
    }
   ],
   "source": [
    "# Patrón para identificar una dirección de email:\n",
    "patron_email = r\"([a-zA-Z0-9_.+-]+@[a-zA-Z0-9-]+\\.[a-zA-Z0-9-.]+)\"\n",
    "frase = \"Mi email es cpareja@ucm.es, no c.pareja@sip.ucm.es ni c_pareja@SIP.ucm.es.es.es\"\n",
    "print(re.findall(patron_email,frase))"
   ]
  },
  {
   "cell_type": "code",
   "execution_count": 12,
   "metadata": {},
   "outputs": [
    {
     "name": "stdout",
     "output_type": "stream",
     "text": [
      "<re.Match object; span=(1, 11), match='26/11/1962'>\n",
      "26/11/1962\n",
      "None\n"
     ]
    }
   ],
   "source": [
    "# Patrón para identificar una fecha:\n",
    "fecha_re = re.compile('\\d{2}/\\d{2}/\\d{4}')\n",
    "\n",
    "linea = '[26/11/1962 00:01:35] <font color=\"#00ff00\"¡Sorpresa!</font>>'\n",
    "encaje = fecha_re.search(linea)\n",
    "print(encaje)\n",
    "print(encaje.group(0))\n",
    "\n",
    "linea_sin_fecha = \"En tiempos de Ahrun al Rashid...\"\n",
    "encaje = fecha_re.search(linea_sin_fecha)\n",
    "print(encaje)"
   ]
  },
  {
   "cell_type": "code",
   "execution_count": 13,
   "metadata": {},
   "outputs": [
    {
     "name": "stdout",
     "output_type": "stream",
     "text": [
      "<re.Match object; span=(1, 20), match='26/11/1962 00:01:35'>\n",
      "26/11/1962 00:01:35\n",
      "26/11/1962\n",
      "00:01:35\n"
     ]
    }
   ],
   "source": [
    "# Patrón para identificar una fecha y una hora:\n",
    "\n",
    "linea = '[26/11/1962 00:01:35] <font color=\"#00ff00\"¡Sorpresa!</font>>'\n",
    "\n",
    "# Ahora definimos dos grupos, con los paréntesis:\n",
    "fecha_con_hora = re.compile('(\\d{2}/\\d{2}/\\d{4}) (\\d{2}:\\d{2}:\\d{2})')\n",
    "\n",
    "encaje = fecha_con_hora.search(linea)\n",
    "print(encaje)\n",
    "print(encaje.group(0))\n",
    "print(encaje.group(1))\n",
    "print(encaje.group(2))"
   ]
  },
  {
   "cell_type": "code",
   "execution_count": 14,
   "metadata": {},
   "outputs": [
    {
     "data": {
      "text/plain": [
       "datetime.datetime(1962, 11, 26, 0, 1, 35)"
      ]
     },
     "execution_count": 14,
     "metadata": {},
     "output_type": "execute_result"
    }
   ],
   "source": [
    "# Para reconvertir las cadenas de caracteres de  fechas en fechas:\n",
    "from datetime import datetime\n",
    "fecha = datetime.strptime(encaje.group(0), \"%d/%m/%Y %H:%M:%S\")\n",
    "fecha\n",
    "\n",
    "# https://docs.python.org/3.6/library/datetime.html#strftime-strptime-behavior"
   ]
  },
  {
   "cell_type": "markdown",
   "metadata": {},
   "source": [
    "### Brevísimo comentario final\n",
    "\n",
    "Las expresiones regulares se pueden manejar en Python mediante la librería \"$\\verb+re+$\", que se ha de importar para poder usar las funciones para manejar los patrones y las funciones \"$\\verb+match()+$\", \"$\\verb+search()+$\", \"$\\verb+findall()+$\", etc., con las que manejaremos las expresiones regulares.\n",
    "\n",
    "Pero el tema en sí es bastante más amplio en el mundo de la Computación, pues involucra conceptos de autómatas finitos deterministas y no deterministas, compiladores, etc., que no consideramos aquí obviamente.\n",
    "\n",
    "Entre las muchas referencias que pueden consultarse, he aquí dos que me gustan a mí:\n",
    "\n",
    "<ul>\n",
    "    <li> https://www.w3schools.com/python/python_regex.asp </li>\n",
    "    <li> https://docs.python.org/3/howto/regex.html </li>\n",
    "</ul>   "
   ]
  }
 ],
 "metadata": {
  "kernelspec": {
   "display_name": "Python 3",
   "language": "python",
   "name": "python3"
  },
  "language_info": {
   "codemirror_mode": {
    "name": "ipython",
    "version": 3
   },
   "file_extension": ".py",
   "mimetype": "text/x-python",
   "name": "python",
   "nbconvert_exporter": "python",
   "pygments_lexer": "ipython3",
   "version": "3.7.3"
  }
 },
 "nbformat": 4,
 "nbformat_minor": 1
}
