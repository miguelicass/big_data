{
 "cells": [
  {
   "cell_type": "markdown",
   "metadata": {},
   "source": [
    "# Objetos. Dos ejercicios resueltos\n",
    "\n",
    "<hr>"
   ]
  },
  {
   "cell_type": "markdown",
   "metadata": {},
   "source": [
    "### Complejos\n",
    "\n",
    "Define un módulo `Complejo` basado en la representación binómica y con operaciones de creación (en forma binómica o polar), para obtener la parte real, imaginaria, módulo y argumento de un complejo, así como operaciones de escritura (en forma binómica o polar). Operaciones con complejos."
   ]
  },
  {
   "cell_type": "code",
   "execution_count": 1,
   "metadata": {},
   "outputs": [],
   "source": [
    "from math import sin, cos, sqrt, atan\n",
    "\n",
    "class Complejo:\n",
    "    \"\"\"Clase Complejo, basada en su representación binómica\"\"\"\n",
    "\n",
    "    componente_real = None\n",
    "    componente_imag = None\n",
    "\n",
    "    def __init__(self, modo, real_o_radio, imag_o_argumento):\n",
    "        if modo == \"binom\":\n",
    "            self.componente_real = real_o_radio\n",
    "            self.componente_imag = imag_o_argumento\n",
    "        if modo == \"polar\":\n",
    "           self.componente_real = real_o_radio * cos(imag_o_argumento)\n",
    "           self.componente_imag = real_o_radio * sin(imag_o_argumento)\n",
    "\n",
    "    def parte_real(self):\n",
    "        return self.componente_real\n",
    "\n",
    "    def parte_imag(self):\n",
    "        return self.componente_imag\n",
    "        \n",
    "    def modulo(self):\n",
    "        return sqrt(self.componente_real ** 2 + self.componente_imag ** 2)\n",
    "\n",
    "    def argumento(self):\n",
    "        return atan(self.componente_real / self.componente_imag)\n",
    "\n",
    "    def escribir_complejo_binom(self):\n",
    "        print(\"[\" + str(self.componente_real)\n",
    "              + \", \" + str(self.componente_imag) + \"]\")\n",
    "\n",
    "    def escribir_complejo_polar(self):\n",
    "        print(\"<\" + str(self.modulo())\n",
    "              + \", \" + str(self.argumento()) + \">\")\n",
    "\n",
    "    def __add__(self, other):\n",
    "        parte_real_nueva = self.componente_real + other.parte_real()\n",
    "        parte_imag_nueva = self.componente_imag + other.parte_imag()\n",
    "        return Complejo(\"binom\", parte_real_nueva, parte_imag_nueva)"
   ]
  },
  {
   "cell_type": "markdown",
   "metadata": {},
   "source": [
    "Además de la suma (`+`), las demás operaciones también pueden sobrecargarse:\n",
    "\n",
    "        https://www.programiz.com/python-programming/operator-overloading\n",
    "        \n",
    "Un método muy útil es el que permite ver una clase como un string (digamos que en forma bonómica), mejor que un método para escribirlo. \n",
    "\n",
    "        def __str__(self):\n",
    "            return \"[\" + str(self.componente_real) \\\n",
    "                + \", \" + str(self.componente_imag) + \"]\"\n",
    "\n",
    "Añádelo y comprueba el funcionamiento de la función print. Lo veremos en el siguiente ejemplo.\n",
    "\n",
    "Veamos un ejemplo de uso del complejo."
   ]
  },
  {
   "cell_type": "code",
   "execution_count": 2,
   "metadata": {},
   "outputs": [
    {
     "name": "stdout",
     "output_type": "stream",
     "text": [
      "<__main__.Complejo object at 0x00000288085FE080>\n",
      "[4, 3]\n",
      "<5.0, 0.9272952180016122>\n",
      "4 3 5.0 0.9272952180016122\n",
      "\n",
      "[4.330127018922194, 2.4999999999999996]\n",
      "[8.330127018922195, 5.5]\n"
     ]
    }
   ],
   "source": [
    "from math import pi\n",
    "\n",
    "z1 = Complejo(\"binom\", 4, 3)\n",
    "print(z1)\n",
    "z1.escribir_complejo_binom()\n",
    "z1.escribir_complejo_polar()\n",
    "print(z1.parte_real(), z1.parte_imag(), z1.modulo(), z1.argumento())\n",
    "\n",
    "print()\n",
    "\n",
    "z2 = Complejo(\"polar\", 5, pi/6)\n",
    "z2.escribir_complejo_binom()\n",
    "z3 = z1 + z2\n",
    "z3.escribir_complejo_binom()"
   ]
  },
  {
   "cell_type": "markdown",
   "metadata": {},
   "source": [
    "Lo corriente es definir un módulo (un archivo) separado en el que se incluye la clase, y luego otros programas de aplicación en las que se usa dicho módulo.\n",
    "\n",
    "Si el módulo de definición del complejo se define en un archivo, digamos, bajo el nombre `complejoBin.py`, un programa que usa dicha clase debe imnportar las definiciones que necesite:"
   ]
  },
  {
   "cell_type": "code",
   "execution_count": 3,
   "metadata": {},
   "outputs": [
    {
     "name": "stdout",
     "output_type": "stream",
     "text": [
      "[4, 3]\n",
      "<9.982034669914624, 0.9872463845991051>\n"
     ]
    }
   ],
   "source": [
    "from complejoBin import *\n",
    "from math import pi\n",
    "\n",
    "z1 = Complejo(\"binom\", 4, 3)\n",
    "z1.escribir_complejo_binom()\n",
    "(z1 + Complejo(\"polar\", 5, pi/6)).escribir_complejo_polar()"
   ]
  },
  {
   "cell_type": "markdown",
   "metadata": {},
   "source": [
    "En Spyder, para que la clase sea accesible desde el programa, es necesario que dicho programa esté en la misma carpeta."
   ]
  },
  {
   "cell_type": "markdown",
   "metadata": {},
   "source": [
    "### Un automóvil\n",
    "\n",
    "Define el objeto “automóvil”, que únicamente puede estar orientado según las direcciones de los puntos cardinales, N, S, E, O, y cuyas velocidades son números naturales, con el estado inicial siguiente…\n",
    "\n",
    "-\tmotor_encendido: False\n",
    "-\tvelocidad: 0\n",
    "-\tdirección: “N”\n",
    "\n",
    "… y los métodos siguientes:\n",
    "\n",
    "-\tencender_motor()\n",
    "-\tapagar_motor(), que únicamente funciona si la velocidad es nula.\n",
    "-\tacelerar(), decelerar(), frenar()\n",
    "-\tgiro_dcha(), giro_izda()\n",
    "-\tOperación de escritura, para operar con print.\n"
   ]
  },
  {
   "cell_type": "code",
   "execution_count": 4,
   "metadata": {},
   "outputs": [],
   "source": [
    "class Automovil():\n",
    "    motor_encendido = False\n",
    "    velocidad = 0\n",
    "    direccion = \"N\"\n",
    "\n",
    "    def encender_motor(self):\n",
    "        self.motor_encendido = True\n",
    "        self.velocidad = 0\n",
    "\n",
    "    def apagar_motor(self):\n",
    "        self.motor_encendido = False\n",
    "        self.velocidad = 0\n",
    "        \n",
    "    def acelerar(self, cuanto=1):\n",
    "        self.velocidad = self.velocidad + cuanto\n",
    "        \n",
    "    def decelerar(self, cuanto=1):\n",
    "        if self.velocidad >= cuanto:\n",
    "            self.velocidad = self.velocidad - cuanto\n",
    "\n",
    "    def frenar(self):\n",
    "        self.velocidad = 0\n",
    "\n",
    "    def giro_dcha(self):\n",
    "        if self.direccion == \"N\":\n",
    "            self.direccion = \"E\"\n",
    "        elif self.direccion == \"E\":\n",
    "            self.direccion = \"S\"\n",
    "        elif self.direccion == \"S\":\n",
    "            self.direccion = \"O\"\n",
    "        else:\n",
    "            self.direccion = \"N\"\n",
    "            \n",
    "    def giro_izda(self):\n",
    "        if self.direccion == \"N\":\n",
    "            self.direccion = \"O\"\n",
    "        elif self.direccion == \"O\":\n",
    "            self.direccion = \"S\"\n",
    "        elif self.direccion == \"S\":\n",
    "            self.direccion = \"E\"\n",
    "        else:\n",
    "            self.direccion = \"N\"\n",
    "            \n",
    "    def __str__(self):\n",
    "        if self.motor_encendido:\n",
    "            return \"[On, \" \\\n",
    "                + \"v=\" + str(self.velocidad) + \", \" \\\n",
    "                + self.direccion + \"]\"\n",
    "        else:\n",
    "            return \"[Off]\""
   ]
  },
  {
   "cell_type": "code",
   "execution_count": 5,
   "metadata": {},
   "outputs": [
    {
     "name": "stdout",
     "output_type": "stream",
     "text": [
      "[Off]\n",
      "[On, v=0, N]\n",
      "[On, v=1, N]\n",
      "[On, v=31, N]\n",
      "[On, v=31, N]\n",
      "[On, v=31, E]\n"
     ]
    }
   ],
   "source": [
    "a = Automovil()\n",
    "print(a)\n",
    "a.encender_motor()\n",
    "print(a)\n",
    "a.acelerar()\n",
    "print(a)\n",
    "a.acelerar(30)\n",
    "print(a)\n",
    "a.decelerar(50) # imposible\n",
    "print(a)\n",
    "a.giro_dcha()\n",
    "print(a)"
   ]
  }
 ],
 "metadata": {
  "kernelspec": {
   "display_name": "Python 3",
   "language": "python",
   "name": "python3"
  },
  "language_info": {
   "codemirror_mode": {
    "name": "ipython",
    "version": 3
   },
   "file_extension": ".py",
   "mimetype": "text/x-python",
   "name": "python",
   "nbconvert_exporter": "python",
   "pygments_lexer": "ipython3",
   "version": "3.7.3"
  }
 },
 "nbformat": 4,
 "nbformat_minor": 1
}
