{
 "cells": [
  {
   "cell_type": "markdown",
   "metadata": {},
   "source": [
    "# Clases y Objetos\n",
    "\n",
    "En un *objeto* se encapsula la *información* y las *operaciones* necesarias para operar dicho objeto.\n",
    "\n",
    "Por ejemplo, la información sobre un coche concreto registra su estado (posición, orientación, velocidad, etc.) más las posibles operaciones (encender el motor o apagarlo, acelerar o frenar, girar, saber la velocidad, etc.)\n",
    "\n",
    "Otro ejemplo: la información sobre una televisión incluye su estado (encendida o apagada, canal seleccionado, volumen, etc.), y las operaciones posibles, encenderla o apagarla, cambiar el volumen o el canal, consultar el volumen o el canal, etc."
   ]
  },
  {
   "cell_type": "markdown",
   "metadata": {},
   "source": [
    "## Ejemplo: la clase Punto\n",
    "\n",
    "Deseamos trabajar con objetos geométricos, y el más sencillo es el punto. Empezamos definiendo un punto en dos dimensiones; el tipo de datos correspondiente tiene sus dos coordenadas típicas.\n",
    "\n",
    "La manera de hacerlo en Python es la siguiente:"
   ]
  },
  {
   "cell_type": "code",
   "execution_count": 1,
   "metadata": {},
   "outputs": [],
   "source": [
    "class Point(object):\n",
    "    def __init__(self):\n",
    "        self.x = 0.0\n",
    "        self.y = 0.0"
   ]
  },
  {
   "cell_type": "code",
   "execution_count": 2,
   "metadata": {},
   "outputs": [
    {
     "name": "stdout",
     "output_type": "stream",
     "text": [
      "0.0 0.0\n",
      "4.0 5.0\n",
      "<class '__main__.Point'>\n"
     ]
    }
   ],
   "source": [
    "p0 = Point()\n",
    "p1 = Point()\n",
    "p1.x, p1.y = 4., 5.\n",
    "print (p0.x, p0.y)\n",
    "print (p1.x, p1.y)\n",
    "print(type(p0))"
   ]
  },
  {
   "cell_type": "markdown",
   "metadata": {},
   "source": [
    "Hemos definido la *clase* `Punto`, que es un objeto genérico, y esta definición nos ha permitido luego crear los *objetos* particulares `p0`y `p1`, variables que representan puntos concretos. Este objeto únicamente tiene de momento información, las coordenadas `x`e `y`. Estos datos definen la posición del punto, su *estado*, y cada uno de ellos es un *atributo* de la clase `Punto`.\n",
    "\n",
    "Para referirnos a los atributos, dentro de la clase, usamos el identificador `self`."
   ]
  },
  {
   "cell_type": "markdown",
   "metadata": {},
   "source": [
    "Vamos a añadir una operación, para saber la distancia del punto al origen de coordenadas:"
   ]
  },
  {
   "cell_type": "code",
   "execution_count": 3,
   "metadata": {},
   "outputs": [
    {
     "name": "stdout",
     "output_type": "stream",
     "text": [
      "13.0\n"
     ]
    }
   ],
   "source": [
    "from math import sqrt, pi\n",
    "\n",
    "class Point(object):\n",
    "    def __init__(self):\n",
    "        self.x = 0.0\n",
    "        self.y = 0.0\n",
    "    def distOrigen(self):\n",
    "        return sqrt(self.x**2 + self.y**2)\n",
    "\n",
    "p = Point()\n",
    "p.x, p.y = 12.0, 5.0\n",
    "print(p.distOrigen())"
   ]
  },
  {
   "cell_type": "markdown",
   "metadata": {},
   "source": [
    "Acabamos de definir la primera operación, que se llama *método* en el mundo de la Programación Orientada a Objetos (POO)."
   ]
  },
  {
   "cell_type": "markdown",
   "metadata": {},
   "source": [
    "**Ejemplo** de uso de estos objetos. Podemos escribir una función que calcule la distancia entre dos Points:"
   ]
  },
  {
   "cell_type": "code",
   "execution_count": 4,
   "metadata": {},
   "outputs": [],
   "source": [
    "from math import sqrt, pi\n",
    "\n",
    "def distancia(p0, p1):\n",
    "    return sqrt((p0.x - p1.x)**2 + (p0.y - p1.y)**2)"
   ]
  },
  {
   "cell_type": "markdown",
   "metadata": {},
   "source": [
    "Con una función como ésta, es fácil discernir si cuatro Points forman un rectángulo:"
   ]
  },
  {
   "cell_type": "code",
   "execution_count": 5,
   "metadata": {},
   "outputs": [
    {
     "data": {
      "text/plain": [
       "True"
      ]
     },
     "execution_count": 5,
     "metadata": {},
     "output_type": "execute_result"
    }
   ],
   "source": [
    "def es_rectangulo(a, b, c, d):\n",
    "    dab = distancia(a, b)\n",
    "    dac = distancia(a, c)\n",
    "    dad = distancia(a, d)\n",
    "    dbc = distancia(b, c)\n",
    "    dbd = distancia(b, d)\n",
    "    dcd = distancia(c, d)\n",
    "    return dab == dcd and dac == dbd and dad == dbc\n",
    "\n",
    "p0, p1, p2, p3 = Point(), Point(), Point(), Point()\n",
    "\n",
    "p0.x, p0.y = 0, 0\n",
    "p1.x, p1.y = 1, 1\n",
    "p2.x, p2.y = 0, 1\n",
    "p3.x, p3.y = 1, 0\n",
    "\n",
    "es_rectangulo(p0, p1, p2, p3)"
   ]
  },
  {
   "cell_type": "markdown",
   "metadata": {},
   "source": [
    "**Nota:** En realidad, la distancia entre Points debería definirse mejor como un *método* de la clase Point. Lo veremos más adelante."
   ]
  },
  {
   "cell_type": "markdown",
   "metadata": {},
   "source": [
    "## Métodos especiales \\_\\_init\\_\\_ y \\_\\_str\\_\\_ "
   ]
  },
  {
   "cell_type": "markdown",
   "metadata": {},
   "source": [
    "La definición anterior no permite definir más puntos que el (0, 0). Aunque luego se pueda cambiar, sería mejor poder definir un punto que, inicialmente, tenga la posición que se desee.\n",
    "\n",
    "Para ello, se debe utilizar el  *constructor* `__init__`, que es un método especializado en crear objetos con un determinado estado:"
   ]
  },
  {
   "cell_type": "code",
   "execution_count": 6,
   "metadata": {},
   "outputs": [],
   "source": [
    "class Point(object):\n",
    "    \"\"\"\n",
    "    Point class. It represents 2D points.\n",
    "    \n",
    "    Attributes\n",
    "    ---------\n",
    "    x, y: float    \n",
    "    \"\"\"\n",
    "    def __init__(self, px, py):\n",
    "        \"\"\"\n",
    "        Constructor\n",
    "        \n",
    "        Parameters\n",
    "        ----------\n",
    "        x: float\n",
    "        y: float\n",
    "        \"\"\"\n",
    "        self.x = px\n",
    "        self.y = py"
   ]
  },
  {
   "cell_type": "code",
   "execution_count": 7,
   "metadata": {},
   "outputs": [
    {
     "name": "stdout",
     "output_type": "stream",
     "text": [
      "3.1622776601683795\n",
      "True\n"
     ]
    }
   ],
   "source": [
    "p0, p1, p2, p3 = Point(0,0), Point(3,1), Point(0,1), Point(3,0)\n",
    "print(distancia(p0, p1))\n",
    "print(es_rectangulo(p0, p1, p2, p3))"
   ]
  },
  {
   "cell_type": "code",
   "execution_count": 8,
   "metadata": {},
   "outputs": [
    {
     "name": "stdout",
     "output_type": "stream",
     "text": [
      "<__main__.Point object at 0x0000029DCA3E3A58>\n"
     ]
    },
    {
     "data": {
      "text/plain": [
       "<__main__.Point at 0x29dca3e3a58>"
      ]
     },
     "execution_count": 8,
     "metadata": {},
     "output_type": "execute_result"
    }
   ],
   "source": [
    "print(p0)\n",
    "p0"
   ]
  },
  {
   "cell_type": "markdown",
   "metadata": {},
   "source": [
    "Otro método especial es `__str__` que determina cómo se escriben (con `print`) los objetos de una clase:"
   ]
  },
  {
   "cell_type": "code",
   "execution_count": 9,
   "metadata": {},
   "outputs": [],
   "source": [
    "class Point(object):\n",
    "    \"\"\"\n",
    "    clase Point. Representa  puntos en 2D\n",
    "    \n",
    "    Attributes\n",
    "    ----------\n",
    "    x, y: float    \n",
    "    \"\"\"\n",
    "    def __init__(self, px, py):\n",
    "        \"\"\"\n",
    "        Constructor\n",
    "        \n",
    "        Parameters\n",
    "        ----------\n",
    "        x: float\n",
    "        y: float\n",
    "        \"\"\"\n",
    "        self.x = px\n",
    "        self.y = py\n",
    "        \n",
    "    def __str__(self):\n",
    "        \"\"\"\n",
    "        Este metodo devuelve el str que representa un Point\n",
    "        \"\"\"\n",
    "        return '(́{0:.2f}, {1:.2f})'.format(self.x, self.y)"
   ]
  },
  {
   "cell_type": "code",
   "execution_count": 10,
   "metadata": {},
   "outputs": [
    {
     "name": "stdout",
     "output_type": "stream",
     "text": [
      "(́3.00, 4.00)\n"
     ]
    },
    {
     "data": {
      "text/plain": [
       "<__main__.Point at 0x29dca2ecb00>"
      ]
     },
     "execution_count": 10,
     "metadata": {},
     "output_type": "execute_result"
    }
   ],
   "source": [
    "p0 = Point(3.0, 4.0)\n",
    "print(p0)\n",
    "p0"
   ]
  },
  {
   "cell_type": "markdown",
   "metadata": {},
   "source": [
    "## Más métodos"
   ]
  },
  {
   "cell_type": "markdown",
   "metadata": {},
   "source": [
    "También podemos *encapsular* la función distancia dentro de la clase `Point`"
   ]
  },
  {
   "cell_type": "code",
   "execution_count": 11,
   "metadata": {},
   "outputs": [],
   "source": [
    "class Point(object):\n",
    "    def __init__(self, px, py):\n",
    "        self.x = px\n",
    "        self.y = py\n",
    "    \n",
    "    def __str__(self):\n",
    "        return '(' + str(self.x) + ', ' + str(self.y) + ')'\n",
    "    \n",
    "    def distance(self, other):\n",
    "        \"\"\"\n",
    "        This function returns the distance from this object to other\n",
    "        \"\"\"\n",
    "        return sqrt((self.x - other.x)**2 + (self.y - other.y)**2)\n",
    "   "
   ]
  },
  {
   "cell_type": "code",
   "execution_count": 12,
   "metadata": {},
   "outputs": [
    {
     "name": "stdout",
     "output_type": "stream",
     "text": [
      "(5, 6) (6, 7) 1.4142135623730951\n"
     ]
    }
   ],
   "source": [
    "p = Point(5, 6)\n",
    "q = Point(6, 7)\n",
    "print(p, q, p.distance(q))"
   ]
  },
  {
   "cell_type": "code",
   "execution_count": 13,
   "metadata": {},
   "outputs": [
    {
     "data": {
      "text/plain": [
       "True"
      ]
     },
     "execution_count": 13,
     "metadata": {},
     "output_type": "execute_result"
    }
   ],
   "source": [
    "def es_rectangle(a, b, c, d):\n",
    "    dab = a.distance(b)\n",
    "    dac = a.distance(c)\n",
    "    dad = a.distance(d)\n",
    "    dbc = b.distance(c)\n",
    "    dbd = b.distance(d)\n",
    "    dcd = c.distance(d)\n",
    "    return dab == dcd and dac == dbd and dad == dbc\n",
    "\n",
    "p0, p1, p2, p3 = Point(0,0), Point(1,1), Point(0,1), Point(1,0)\n",
    "es_rectangle(p0, p1, p2, p3)"
   ]
  },
  {
   "cell_type": "markdown",
   "metadata": {},
   "source": [
    "También hay métodos que modifican el estado del objeto. Pensemos, por ejemplo, en mover el objeto."
   ]
  },
  {
   "cell_type": "code",
   "execution_count": 14,
   "metadata": {},
   "outputs": [],
   "source": [
    "class Point(object):\n",
    "    def __init__(self, px, py):\n",
    "        self.x = px\n",
    "        self.y = py\n",
    "    \n",
    "    def __str__(self):\n",
    "        return 'Point(' + str(self.x) + ', ' + str(self.y) + ')'\n",
    "    \n",
    "    def distance(self, other):\n",
    "        return sqrt((self.x - other.x)**2 + (self.y - other.y)**2)\n",
    "    \n",
    "    def move(self, t_x, t_y):\n",
    "        self.x = self.x + t_x\n",
    "        self.y = self.y + t_y"
   ]
  },
  {
   "cell_type": "markdown",
   "metadata": {},
   "source": [
    "Observa que el método `move` no tiene `return`, modifica la posición de un Point pero no devuelve nada."
   ]
  },
  {
   "cell_type": "code",
   "execution_count": 15,
   "metadata": {},
   "outputs": [
    {
     "name": "stdout",
     "output_type": "stream",
     "text": [
      "Point(1.0, 2.0)\n",
      "Point(7.0, 3.5)\n",
      "6.18465843842649\n",
      "Point(3.0, 6.0)\n"
     ]
    }
   ],
   "source": [
    "p0 = Point(1.0, 2.0)\n",
    "p1 = Point(7.0, 3.5)\n",
    "print(p0)\n",
    "print(p1)\n",
    "print(p0.distance(p1))\n",
    "p0.move(2.0, 4.0)\n",
    "print(p0)"
   ]
  },
  {
   "cell_type": "markdown",
   "metadata": {},
   "source": [
    "Si definimos el objeto Vector, un punto se puede mover según un vector, más cómodamente."
   ]
  },
  {
   "cell_type": "code",
   "execution_count": 16,
   "metadata": {},
   "outputs": [],
   "source": [
    "class Point(object):\n",
    "    def __init__(self, px, py):\n",
    "        self.x = px\n",
    "        self.y = py\n",
    "    \n",
    "    def __str__(self):\n",
    "        return 'Point(́{0:.2f}, {1:.2f})'.format(self.x, self.y)\n",
    "    \n",
    "    def distance(self, other):\n",
    "        return sqrt((self.x - other.x)**2 + (self.y - other.y)**2)\n",
    "    \n",
    "    def move(self, v):\n",
    "        \"\"\"\n",
    "        This function move this point applying the vector v\n",
    "        \"\"\"\n",
    "        self.x = self.x + v.x\n",
    "        self.y = self.y + v.y\n",
    "        \n",
    "class Vector(object):\n",
    "    \"\"\"This class reperesents a 2D vector\n",
    "    \n",
    "    Attributes\n",
    "    ---------\n",
    "    x, y: float    \n",
    "    \"\"\"\n",
    "    def __init__(self, px, py):\n",
    "        \"\"\"\n",
    "        Constructor\n",
    "        \n",
    "        Parameters\n",
    "        ----------\n",
    "        x: float\n",
    "        y: float\n",
    "        \"\"\"\n",
    "        self.x = px\n",
    "        self.y = py\n",
    "        \n",
    "    def __str__(self):\n",
    "        \"\"\"\n",
    "        This method returns str representation of the Vector\n",
    "        \"\"\"\n",
    "        return 'Vector(́{0:.2f}, {0:.2f})'.format(self.x, self.y)\n"
   ]
  },
  {
   "cell_type": "code",
   "execution_count": 17,
   "metadata": {},
   "outputs": [
    {
     "name": "stdout",
     "output_type": "stream",
     "text": [
      "Point(́1.00, 3.00)\n",
      "Point(́3.00, 4.00)\n"
     ]
    }
   ],
   "source": [
    "p0 = Point(1.0, 3.0)\n",
    "print(p0)\n",
    "p0.move(Vector(2.0, 1.0))\n",
    "print(p0)"
   ]
  },
  {
   "cell_type": "markdown",
   "metadata": {},
   "source": [
    "## Objetos como atributos de otro objeto"
   ]
  },
  {
   "cell_type": "code",
   "execution_count": 18,
   "metadata": {},
   "outputs": [],
   "source": [
    " class Circle(object):\n",
    "    \"\"\"\n",
    "        Class to represents a circle.\n",
    "    \"\"\"\n",
    "    def __init__(self, center, radius):\n",
    "        \"\"\"\n",
    "        Constuctor\n",
    "        \n",
    "        Parameters:\n",
    "        -----------\n",
    "        center: Point\n",
    "        radius: float\n",
    "        \"\"\"\n",
    "        self.center = center\n",
    "        self.radius = radius\n",
    "\n",
    "    def __str__(self):\n",
    "        return 'Circle({0}, {1:.2f})'.format(self.center, self.radius)\n",
    "\n",
    "    def surface(self):\n",
    "        \"\"\"\n",
    "        This function returns the surface of the circle\n",
    "        \"\"\"\n",
    "        return pi*self.radius**2"
   ]
  },
  {
   "cell_type": "code",
   "execution_count": 19,
   "metadata": {},
   "outputs": [
    {
     "name": "stdout",
     "output_type": "stream",
     "text": [
      "Circle(Point(́2.00, 1.00), 2.00)\n",
      "12.566370614359172\n"
     ]
    }
   ],
   "source": [
    "p0 = Point(2.0, 1.0)\n",
    "c = Circle(p0, 2.0)\n",
    "print(c)\n",
    "print(c.surface())"
   ]
  },
  {
   "cell_type": "markdown",
   "metadata": {},
   "source": [
    "Y si sabemos trasladar un Point, sabemos trasladar un círculo:"
   ]
  },
  {
   "cell_type": "code",
   "execution_count": 20,
   "metadata": {},
   "outputs": [],
   "source": [
    "class Circle(object):\n",
    "    def __init__(self, center, radius):\n",
    "        self.center = center\n",
    "        self.radius = radius\n",
    "\n",
    "    def __str__(self):\n",
    "        return 'Circle({0}, {1:.2f})'.format(self.center, self.radius)\n",
    "    \n",
    "    def surface(self):\n",
    "        \"\"\"\n",
    "        This function returns the surface of the circle\n",
    "        \"\"\"\n",
    "        return pi*self.radius**2\n",
    "    \n",
    "    def move(self, v):\n",
    "        \"\"\"\n",
    "        This funciton move the Circle applying vector v\n",
    "        \"\"\"\n",
    "        self.center.move(v)"
   ]
  },
  {
   "cell_type": "code",
   "execution_count": 21,
   "metadata": {},
   "outputs": [
    {
     "name": "stdout",
     "output_type": "stream",
     "text": [
      "Circle(Point(́2.00, 1.00), 2.00)\n",
      "Circle(Point(́5.00, 2.00), 2.00)\n",
      "Point(́5.00, 2.00)\n"
     ]
    }
   ],
   "source": [
    "p0 = Point(2.0, 1.0)\n",
    "c = Circle(p0, 2.0)\n",
    "print(c)\n",
    "c.move(Vector(3.0, 1.0))\n",
    "print(c)\n",
    "print(p0)"
   ]
  },
  {
   "cell_type": "markdown",
   "metadata": {},
   "source": [
    "Observemos que se ha producido un efecto lateral. Al mover el círculo, se ha movido también el punto. Se comparte memoria. Si no quiero que pase tengo que hacer una copia."
   ]
  },
  {
   "cell_type": "code",
   "execution_count": 22,
   "metadata": {},
   "outputs": [
    {
     "name": "stdout",
     "output_type": "stream",
     "text": [
      "Circle(Point(́2.00, 1.00), 2.00)\n",
      "Circle(Point(́5.00, 2.00), 2.00)\n",
      "Point(́2.00, 1.00)\n"
     ]
    }
   ],
   "source": [
    "from copy import deepcopy as dcopy\n",
    "\n",
    "p0 = Point(2.0, 1.0)\n",
    "c = Circle(dcopy(p0), 2.0)\n",
    "print(c)\n",
    "c.move(Vector(3.0, 1.0))\n",
    "print(c)\n",
    "print(p0)"
   ]
  },
  {
   "cell_type": "markdown",
   "metadata": {},
   "source": [
    "# Métodos especiales\n",
    "\n",
    "En todas las clases se pueden definir métodos con nombres concretos para poder usar las clases de forma más cómoda: https://docs.python.org/3/reference/datamodel.html#special-method-names"
   ]
  },
  {
   "cell_type": "code",
   "execution_count": 23,
   "metadata": {},
   "outputs": [],
   "source": [
    "class Point(object):\n",
    "    def __init__(self, px, py):\n",
    "        self.x = px\n",
    "        self.y = py\n",
    "    \n",
    "    def __str__(self):\n",
    "        return 'Point(́{0:.2f}, {1:.2f})'.format(self.x, self.y)\n",
    "    \n",
    "    \n",
    "    def __add__(self, v):\n",
    "        \"\"\"\n",
    "        This function returns a new point adding vector v to self\n",
    "        \n",
    "        Paramters\n",
    "        ---------\n",
    "        v: Vector\n",
    "        \n",
    "        Returns\n",
    "        -------\n",
    "        Point\n",
    "        \"\"\"\n",
    "        if not isinstance(v, Vector):\n",
    "            return NotImplemented\n",
    "        else:\n",
    "            return Point(self.x + v.x, self.y + v.y)\n",
    "    \n",
    "    \n",
    "    def __sub__(self, p):\n",
    "        \"\"\"This method returns the vector form p to self\n",
    "        \n",
    "        Paramters\n",
    "        ---------\n",
    "        p: Point\n",
    "        \n",
    "        Returns\n",
    "        -------\n",
    "        \n",
    "        Vector\n",
    "        \"\"\"\n",
    "        if not isinstance(p, Point):\n",
    "            return NotImplemented\n",
    "        else:\n",
    "            return Vector(self.x - p.x, self.y - p.y)\n",
    "        \n",
    "        \n",
    "    def distance(self, p):\n",
    "        \"\"\"This method computes the distance from shelf to p\n",
    "        \n",
    "        Parameters\n",
    "        ----------\n",
    "        p: Point\n",
    "        \n",
    "        Returns\n",
    "        -------\n",
    "        float\n",
    "        \"\"\"\n",
    "        return (self - p).module()\n",
    "        \n",
    "class Vector(object):\n",
    "    \"\"\"This class reperesents a 2D vector\n",
    "    \n",
    "    Attributes\n",
    "    ---------\n",
    "    x,y: float    \n",
    "    \"\"\"\n",
    "    def __init__(self, px, py):\n",
    "        \"\"\"\n",
    "        Constructor\n",
    "        \n",
    "        Parameters\n",
    "        ----------\n",
    "        x: float\n",
    "        y: float\n",
    "        \"\"\"\n",
    "        self.x = px\n",
    "        self.y = py\n",
    "    \n",
    "    def module(self):\n",
    "        \"\"\"This method returns the module of a vector\"\"\"\n",
    "        return sqrt(self.x**2 + self.y**2)\n",
    "        \n",
    "    def __str__(self):\n",
    "        \"\"\"\n",
    "        This method returns str representation of the Vector\n",
    "        \"\"\"\n",
    "        return 'Vector(́{0:.2f}, {0:.2f})'.format(self.x, self.y)\n"
   ]
  },
  {
   "cell_type": "code",
   "execution_count": 24,
   "metadata": {},
   "outputs": [
    {
     "data": {
      "text/plain": [
       "2.8284271247461903"
      ]
     },
     "execution_count": 24,
     "metadata": {},
     "output_type": "execute_result"
    }
   ],
   "source": [
    "p = Point(0,1)\n",
    "v = Vector(2,2)\n",
    "q = p + v\n",
    "q.distance(p)"
   ]
  }
 ],
 "metadata": {
  "kernelspec": {
   "display_name": "Python 3",
   "language": "python",
   "name": "python3"
  },
  "language_info": {
   "codemirror_mode": {
    "name": "ipython",
    "version": 3
   },
   "file_extension": ".py",
   "mimetype": "text/x-python",
   "name": "python",
   "nbconvert_exporter": "python",
   "pygments_lexer": "ipython3",
   "version": "3.7.3"
  }
 },
 "nbformat": 4,
 "nbformat_minor": 1
}
