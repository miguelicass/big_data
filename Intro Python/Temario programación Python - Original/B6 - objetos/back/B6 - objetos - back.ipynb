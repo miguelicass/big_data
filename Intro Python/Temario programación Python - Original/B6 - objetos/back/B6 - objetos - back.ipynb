{
 "cells": [
  {
   "cell_type": "markdown",
   "metadata": {},
   "source": [
    "# Definiendo nuevos tipos de datos: Clases\n",
    "\n",
    "Python nos permite crear nuevos tipos de datos para guardar información de manera más sofisticada. \n",
    "\n",
    "Por ejemplo, supongamos que queremos trabajar con objetos geométricos. \n",
    "\n",
    "De ellos los más básicos son los Points, empezaremos en dos dimensiones.\n",
    "\n",
    "Para ello necesitamos definir un nuevo tipo de datos al que llamamos `Point`. Para definir un tipo de datos utilizamos la sintaxis siguiente:"
   ]
  },
  {
   "cell_type": "code",
   "execution_count": 9,
   "metadata": {
    "collapsed": true
   },
   "outputs": [],
   "source": [
    "from math import sqrt, pi"
   ]
  },
  {
   "cell_type": "code",
   "execution_count": 10,
   "metadata": {
    "collapsed": true
   },
   "outputs": [],
   "source": [
    "class Point(object):\n",
    "    def __init__(self):\n",
    "        self.x = 0.0\n",
    "        self.y = 0.0"
   ]
  },
  {
   "cell_type": "markdown",
   "metadata": {},
   "source": [
    "El identificador `Point` es el nombre que utilizaremos luego para definir objetos de este tipo. Las variables `x` e `y` almacenan el estado del objeto, en este caso un Point en dos dimensiones.\n",
    "\n",
    "Pero, si estamos definiendo objetos es porque queremos utilizarlos ..."
   ]
  },
  {
   "cell_type": "code",
   "execution_count": 11,
   "metadata": {
    "collapsed": false
   },
   "outputs": [
    {
     "name": "stdout",
     "output_type": "stream",
     "text": [
      "0.0 0.0\n",
      "4.0 5.0\n"
     ]
    }
   ],
   "source": [
    "p0 = Point()\n",
    "p1 = Point()\n",
    "p1.x, p1.y = 4., 5.\n",
    "print (p0.x, p0.y)\n",
    "print (p1.x, p1.y)"
   ]
  },
  {
   "cell_type": "code",
   "execution_count": 12,
   "metadata": {
    "collapsed": false
   },
   "outputs": [
    {
     "data": {
      "text/plain": [
       "(<__main__.Point at 0x7f3ac81ba588>,\n",
       " '<__main__.Point object at 0x7f3ac81ba588>',\n",
       " 0.0,\n",
       " 0.0,\n",
       " __main__.Point)"
      ]
     },
     "execution_count": 12,
     "metadata": {},
     "output_type": "execute_result"
    }
   ],
   "source": [
    "p0, str(p0), p0.x, p0.y, type(p0)"
   ]
  },
  {
   "cell_type": "code",
   "execution_count": 13,
   "metadata": {
    "collapsed": false
   },
   "outputs": [
    {
     "name": "stdout",
     "output_type": "stream",
     "text": [
      "<__main__.Point object at 0x7f3ac81ba588>\n"
     ]
    }
   ],
   "source": [
    "print(p0)"
   ]
  },
  {
   "cell_type": "markdown",
   "metadata": {},
   "source": [
    "Los Points que hemos definido tienen dos *atributos* que son sus coordenadas. \n",
    "Podemos escribir una función que nos devuelva la distancia entre dos Points"
   ]
  },
  {
   "cell_type": "code",
   "execution_count": 14,
   "metadata": {
    "collapsed": true
   },
   "outputs": [],
   "source": [
    "def distancia(p0, p1):\n",
    "    return sqrt((p0.x - p1.x)**2 + (p0.y - p1.y)**2)"
   ]
  },
  {
   "cell_type": "markdown",
   "metadata": {},
   "source": [
    "De esta forma podemos escribir mucho mejor el ejercicio de la hoja 1 en que debíamos discernir si cuatro Points formaban un rectángulo:"
   ]
  },
  {
   "cell_type": "code",
   "execution_count": 15,
   "metadata": {
    "collapsed": false
   },
   "outputs": [
    {
     "data": {
      "text/plain": [
       "True"
      ]
     },
     "execution_count": 15,
     "metadata": {},
     "output_type": "execute_result"
    }
   ],
   "source": [
    "def es_rectangulo(a, b, c, d):\n",
    "    dab = distancia(a, b)\n",
    "    dac = distancia(a, c)\n",
    "    dad = distancia(a, d)\n",
    "    dbc = distancia(b, c)\n",
    "    dbd = distancia(b, d)\n",
    "    dcd = distancia(c, d)\n",
    "    return dab == dcd and dac == dbd and dad == dbc\n",
    "\n",
    "p0, p1, p2, p3 = Point(), Point(), Point(), Point()\n",
    "p0.x, p0.y = 0, 0\n",
    "p1.x, p1.y = 1, 1\n",
    "p2.x, p2.y = 0, 1\n",
    "p3.x, p3.y = 1, 0\n",
    "es_rectangulo(p0, p1, p2, p3)"
   ]
  },
  {
   "cell_type": "markdown",
   "metadata": {},
   "source": [
    "**Nota:** La distancia entre Points debe ser un *método* de la clase Point. Lo veremos más adelante."
   ]
  },
  {
   "cell_type": "markdown",
   "metadata": {},
   "source": [
    "## Métodos especiales \\_\\_init\\_\\_ y \\_\\_str\\_\\_ "
   ]
  },
  {
   "cell_type": "markdown",
   "metadata": {},
   "source": [
    "Lo que hemos visto anteriormente no es la forma correcta de definir *objetos* de una *clase*. La forma correcta de inicializar los distintos Points es utilizar lo que se denomina un *constructor*. \n",
    "El método `__init__`  se encarga de crear objetos con un determinado estado:"
   ]
  },
  {
   "cell_type": "code",
   "execution_count": 16,
   "metadata": {
    "collapsed": true
   },
   "outputs": [],
   "source": [
    "class Point(object):\n",
    "    \"\"\"\n",
    "    Point class. It represents 2D points.\n",
    "    \n",
    "    Attributes\n",
    "    ---------\n",
    "    x,y: float    \n",
    "    \"\"\"\n",
    "    def __init__(self, px, py):\n",
    "        \"\"\"\n",
    "        Constructor\n",
    "        \n",
    "        Parameters\n",
    "        ----------\n",
    "        x: float\n",
    "        y: float\n",
    "        \"\"\"\n",
    "        self.x = px\n",
    "        self.y = py"
   ]
  },
  {
   "cell_type": "code",
   "execution_count": 17,
   "metadata": {
    "collapsed": false
   },
   "outputs": [
    {
     "data": {
      "text/plain": [
       "True"
      ]
     },
     "execution_count": 17,
     "metadata": {},
     "output_type": "execute_result"
    }
   ],
   "source": [
    "p0, p1, p2, p3 = Point(0,0), Point(1,1), Point(0,1), Point(1,0)\n",
    "es_rectangulo(p0, p1, p2, p3)"
   ]
  },
  {
   "cell_type": "code",
   "execution_count": 18,
   "metadata": {
    "collapsed": false
   },
   "outputs": [
    {
     "name": "stdout",
     "output_type": "stream",
     "text": [
      "<__main__.Point object at 0x7f3ac81ba898>\n"
     ]
    },
    {
     "data": {
      "text/plain": [
       "<__main__.Point at 0x7f3ac81ba898>"
      ]
     },
     "execution_count": 18,
     "metadata": {},
     "output_type": "execute_result"
    }
   ],
   "source": [
    "print(p0)\n",
    "p0"
   ]
  },
  {
   "cell_type": "markdown",
   "metadata": {},
   "source": [
    "Otro método especial es `__str__` que determina cómo se escriben (con `print`) los objetos de una clase:"
   ]
  },
  {
   "cell_type": "code",
   "execution_count": 19,
   "metadata": {
    "collapsed": true
   },
   "outputs": [],
   "source": [
    "class Point(object):\n",
    "    \"\"\"\n",
    "    Point class. It represents 2D points.\n",
    "    \n",
    "    Attributes\n",
    "    ---------\n",
    "    x,y: float    \n",
    "    \"\"\"\n",
    "    def __init__(self, px, py):\n",
    "        \"\"\"\n",
    "        Constructor\n",
    "        \n",
    "        Parameters\n",
    "        ----------\n",
    "        x: float\n",
    "        y: float\n",
    "        \"\"\"\n",
    "        self.x = px\n",
    "        self.y = py\n",
    "        \n",
    "    def __str__(self):\n",
    "        \"\"\"\n",
    "        This method returns str representation of a Point\n",
    "        \"\"\"\n",
    "        return '(́{0:.2f}, {0:.2f})'.format(self.x, self.y)\n"
   ]
  },
  {
   "cell_type": "code",
   "execution_count": 20,
   "metadata": {
    "collapsed": false
   },
   "outputs": [
    {
     "name": "stdout",
     "output_type": "stream",
     "text": [
      "(́3.00, 3.00)\n"
     ]
    },
    {
     "data": {
      "text/plain": [
       "<__main__.Point at 0x7f3ac81ba710>"
      ]
     },
     "execution_count": 20,
     "metadata": {},
     "output_type": "execute_result"
    }
   ],
   "source": [
    "p0 = Point(3.0, 4.0)\n",
    "print(p0)\n",
    "p0"
   ]
  },
  {
   "cell_type": "code",
   "execution_count": 21,
   "metadata": {
    "collapsed": false
   },
   "outputs": [
    {
     "data": {
      "text/plain": [
       "5.0"
      ]
     },
     "execution_count": 21,
     "metadata": {},
     "output_type": "execute_result"
    }
   ],
   "source": [
    "p1 = Point(6.0, 0.0)\n",
    "distancia(p0, p1)"
   ]
  },
  {
   "cell_type": "markdown",
   "metadata": {},
   "source": [
    "## Definiendo otros métodos"
   ]
  },
  {
   "cell_type": "markdown",
   "metadata": {},
   "source": [
    "También podemos *encapsular* la función distancia dentro de la clase `Point`"
   ]
  },
  {
   "cell_type": "code",
   "execution_count": 22,
   "metadata": {
    "collapsed": true
   },
   "outputs": [],
   "source": [
    "class Point(object):\n",
    "    def __init__(self, px, py):\n",
    "        self.x = px\n",
    "        self.y = py\n",
    "    \n",
    "    def __str__(self):\n",
    "        return '(' + str(self.x) + ', ' + str(self.y) + ')'\n",
    "    \n",
    "    def distance(self, other):\n",
    "        \"\"\"\n",
    "        This function returns the distance from this object to other\n",
    "        \"\"\"\n",
    "        return sqrt((self.x - other.x)**2 + (self.y - other.y)**2)\n",
    "   "
   ]
  },
  {
   "cell_type": "code",
   "execution_count": 23,
   "metadata": {
    "collapsed": false
   },
   "outputs": [
    {
     "name": "stdout",
     "output_type": "stream",
     "text": [
      "(5, 6) (6, 7) 1.4142135623730951\n"
     ]
    }
   ],
   "source": [
    "p = Point(5, 6)\n",
    "q = Point(6, 7)\n",
    "print(p, q, p.distance(q))"
   ]
  },
  {
   "cell_type": "code",
   "execution_count": 24,
   "metadata": {
    "collapsed": false
   },
   "outputs": [
    {
     "data": {
      "text/plain": [
       "True"
      ]
     },
     "execution_count": 24,
     "metadata": {},
     "output_type": "execute_result"
    }
   ],
   "source": [
    "def es_rectangle(a, b, c, d):\n",
    "    dab = a.distance(b)\n",
    "    dac = a.distance(c)\n",
    "    dad = a.distance(d)\n",
    "    dbc = b.distance(c)\n",
    "    dbd = b.distance(d)\n",
    "    dcd = c.distance(d)\n",
    "    return dab == dcd and dac == dbd and dad == dbc\n",
    "\n",
    "p0, p1, p2, p3 = Point(0,0), Point(1,1), Point(0,1), Point(1,0)\n",
    "es_rectangle(p0, p1, p2, p3)"
   ]
  },
  {
   "cell_type": "markdown",
   "metadata": {},
   "source": [
    "También hay métodos que actúan sobre el estado del objeto. Pensemos, por ejemplo, en mover el objeto."
   ]
  },
  {
   "cell_type": "code",
   "execution_count": 25,
   "metadata": {
    "collapsed": true
   },
   "outputs": [],
   "source": [
    "class Point(object):\n",
    "    def __init__(self, px, py):\n",
    "        self.x = px\n",
    "        self.y = py\n",
    "    \n",
    "    def __str__(self):\n",
    "        return 'Point(' + str(self.x) + ', ' + str(self.y) + ')'\n",
    "    \n",
    "    def distance(self, other):\n",
    "        return sqrt((self.x - other.x)**2 + (self.y - other.y)**2)\n",
    "    \n",
    "    def move(self, t_x, t_y):\n",
    "        self.x = self.x + t_x\n",
    "        self.y = self.y + t_y"
   ]
  },
  {
   "cell_type": "markdown",
   "metadata": {},
   "source": [
    "Observa que el método `traslada` no tiene `return`, se encarga de hacer el movimiento en el Point pero no devuelve nada."
   ]
  },
  {
   "cell_type": "code",
   "execution_count": 26,
   "metadata": {
    "collapsed": false
   },
   "outputs": [
    {
     "name": "stdout",
     "output_type": "stream",
     "text": [
      "Point(1.0, 2.0)\n",
      "Point(3.0, 6.0)\n"
     ]
    }
   ],
   "source": [
    "p0 = Point(1.0, 2.0)\n",
    "print(p0)\n",
    "p0.move(2.0, 4.0)\n",
    "print(p0)"
   ]
  },
  {
   "cell_type": "code",
   "execution_count": 27,
   "metadata": {
    "collapsed": true
   },
   "outputs": [],
   "source": [
    "class Point(object):\n",
    "    def __init__(self, px, py):\n",
    "        self.x = px\n",
    "        self.y = py\n",
    "    \n",
    "    def __str__(self):\n",
    "        return 'Point(́{0:.2f}, {1:.2f})'.format(self.x, self.y)\n",
    "    \n",
    "    def distance(self, other):\n",
    "        return sqrt((self.x - other.x)**2 + (self.y - other.y)**2)\n",
    "    \n",
    "    def move(self, v):\n",
    "        \"\"\"\n",
    "        This function move this point applying the vector v\n",
    "        \"\"\"\n",
    "        self.x = self.x + v.x\n",
    "        self.y = self.y + v.y\n",
    "        \n",
    "class Vector(object):\n",
    "    \"\"\"This class reperesents a 2D vector\n",
    "    \n",
    "    Attributes\n",
    "    ---------\n",
    "    x,y: float    \n",
    "    \"\"\"\n",
    "    def __init__(self, px, py):\n",
    "        \"\"\"\n",
    "        Constructor\n",
    "        \n",
    "        Parameters\n",
    "        ----------\n",
    "        x: float\n",
    "        y: float\n",
    "        \"\"\"\n",
    "        self.x = px\n",
    "        self.y = py\n",
    "        \n",
    "    def __str__(self):\n",
    "        \"\"\"\n",
    "        This method returns str representation of the Vector\n",
    "        \"\"\"\n",
    "        return 'Vector(́{0:.2f}, {0:.2f})'.format(self.x, self.y)\n"
   ]
  },
  {
   "cell_type": "code",
   "execution_count": 28,
   "metadata": {
    "collapsed": false
   },
   "outputs": [
    {
     "name": "stdout",
     "output_type": "stream",
     "text": [
      "Point(́1.00, 3.00)\n",
      "Point(́3.00, 4.00)\n"
     ]
    }
   ],
   "source": [
    "p0 = Point(1.0, 3.0)\n",
    "print(p0)\n",
    "p0.move(Vector(2.0, 1.0))\n",
    "print(p0)"
   ]
  },
  {
   "cell_type": "markdown",
   "metadata": {},
   "source": [
    "## Objetos como atributos de otro objeto"
   ]
  },
  {
   "cell_type": "code",
   "execution_count": 29,
   "metadata": {
    "collapsed": true
   },
   "outputs": [],
   "source": [
    " class Circle(object):\n",
    "    \"\"\"\n",
    "        Class to represents a circle.\n",
    "    \"\"\"\n",
    "    def __init__(self, center, radius):\n",
    "        \"\"\"\n",
    "        Constuctor\n",
    "        \n",
    "        Parameters:\n",
    "        center: Point\n",
    "        radius: float\n",
    "        \"\"\"\n",
    "        self.center = center\n",
    "        self.radius = radius\n",
    "\n",
    "    def __str__(self):\n",
    "        return 'Circle({0}, {1:.2f})'.format(self.center, self.radius)\n",
    "\n",
    "    def surface(self):\n",
    "        \"\"\"\n",
    "        This function returns the surface of the circle\n",
    "        \"\"\"\n",
    "        return pi*self.radius**2"
   ]
  },
  {
   "cell_type": "code",
   "execution_count": 30,
   "metadata": {
    "collapsed": false
   },
   "outputs": [
    {
     "name": "stdout",
     "output_type": "stream",
     "text": [
      "Circle(Point(́2.00, 1.00), 2.00)\n",
      "12.566370614359172\n"
     ]
    }
   ],
   "source": [
    "p0 = Point(2.0, 1.0)\n",
    "c = Circle(p0, 2.0)\n",
    "print(c)\n",
    "print(c.surface())"
   ]
  },
  {
   "cell_type": "markdown",
   "metadata": {},
   "source": [
    "Y si sabemos trasladar un Point, sabemos trasladar un círculo:"
   ]
  },
  {
   "cell_type": "code",
   "execution_count": 31,
   "metadata": {
    "collapsed": true
   },
   "outputs": [],
   "source": [
    "class Circle(object):\n",
    "    def __init__(self, center, radius):\n",
    "        self.center = center\n",
    "        self.radius = radius\n",
    "\n",
    "    def __str__(self):\n",
    "        return 'Circle({0}, {1:.2f})'.format(self.center, self.radius)\n",
    "    \n",
    "    def surface(self):\n",
    "        \"\"\"\n",
    "        This function returns the surface of the circle\n",
    "        \"\"\"\n",
    "        return pi*self.radius**2\n",
    "    \n",
    "    def move(self, v):\n",
    "        \"\"\"\n",
    "        This funciton move the Circle applying vector v\n",
    "        \"\"\"\n",
    "        self.center.move(v)"
   ]
  },
  {
   "cell_type": "code",
   "execution_count": 32,
   "metadata": {
    "collapsed": false
   },
   "outputs": [
    {
     "name": "stdout",
     "output_type": "stream",
     "text": [
      "Circle(Point(́2.00, 1.00), 2.00)\n",
      "Circle(Point(́5.00, 2.00), 2.00)\n",
      "Point(́5.00, 2.00)\n"
     ]
    }
   ],
   "source": [
    "p0 = Point(2.0, 1.0)\n",
    "c = Circle(p0, 2.0)\n",
    "print(c)\n",
    "c.move(Vector(3.0, 1.0))\n",
    "print(c)\n",
    "print(p0)"
   ]
  },
  {
   "cell_type": "markdown",
   "metadata": {},
   "source": [
    "Observemos que se ha producido un efecto lateral. Al mover el círculo, se ha movido también el punto. Se comparte memoria. Si no quiero que pase tengo que hacer una copia."
   ]
  },
  {
   "cell_type": "code",
   "execution_count": 33,
   "metadata": {
    "collapsed": false
   },
   "outputs": [
    {
     "name": "stdout",
     "output_type": "stream",
     "text": [
      "Circle(Point(́2.00, 1.00), 2.00)\n",
      "Circle(Point(́5.00, 2.00), 2.00)\n",
      "Point(́2.00, 1.00)\n"
     ]
    }
   ],
   "source": [
    "from copy import deepcopy as dcopy\n",
    "\n",
    "p0 = Point(2.0, 1.0)\n",
    "c = Circle(dcopy(p0), 2.0)\n",
    "print(c)\n",
    "c.move(Vector(3.0, 1.0))\n",
    "print(c)\n",
    "print(p0)"
   ]
  },
  {
   "cell_type": "markdown",
   "metadata": {},
   "source": [
    "# Métodos especiales\n",
    "\n",
    "En todas las clases se pueden definir métodos con nombres concretos para poder usar las clases de forma más cómoda: https://docs.python.org/3/reference/datamodel.html#special-method-names"
   ]
  },
  {
   "cell_type": "code",
   "execution_count": 36,
   "metadata": {
    "collapsed": true
   },
   "outputs": [],
   "source": [
    "class Point(object):\n",
    "    def __init__(self, px, py):\n",
    "        self.x = px\n",
    "        self.y = py\n",
    "    \n",
    "    def __str__(self):\n",
    "        return 'Point(́{0:.2f}, {1:.2f})'.format(self.x, self.y)\n",
    "    \n",
    "    \n",
    "    def __add__(self, v):\n",
    "        \"\"\"\n",
    "        This function returns a new point adding vector v to self\n",
    "        \n",
    "        Paramters\n",
    "        ---------\n",
    "        v: Vector\n",
    "        \n",
    "        Returns\n",
    "        -------\n",
    "        Point\n",
    "        \"\"\"\n",
    "        if not isinstance(v, Vector):\n",
    "            return NotImplemented\n",
    "        else:\n",
    "            return Point(self.x + v.x, self.y + v.y)\n",
    "    \n",
    "    \n",
    "    def __sub__(self, p):\n",
    "        \"\"\"This method returns the vector form p to self\n",
    "        \n",
    "        Paramters\n",
    "        ---------\n",
    "        p: Point\n",
    "        \n",
    "        Returns\n",
    "        -------\n",
    "        \n",
    "        Vector\n",
    "        \"\"\"\n",
    "        if not isinstance(p, Point):\n",
    "            return NotImplemented\n",
    "        else:\n",
    "            return Vector(self.x - p.x, self.y - p.y)\n",
    "        \n",
    "        \n",
    "    def distance(self, p):\n",
    "        \"\"\"This method computes the distance from shelf to p\n",
    "        \n",
    "        Parameters\n",
    "        ----------\n",
    "        p: Point\n",
    "        \n",
    "        Returns\n",
    "        -------\n",
    "        float\n",
    "        \"\"\"\n",
    "        return (self - p).module()\n",
    "        \n",
    "class Vector(object):\n",
    "    \"\"\"This class reperesents a 2D vector\n",
    "    \n",
    "    Attributes\n",
    "    ---------\n",
    "    x,y: float    \n",
    "    \"\"\"\n",
    "    def __init__(self, px, py):\n",
    "        \"\"\"\n",
    "        Constructor\n",
    "        \n",
    "        Parameters\n",
    "        ----------\n",
    "        x: float\n",
    "        y: float\n",
    "        \"\"\"\n",
    "        self.x = px\n",
    "        self.y = py\n",
    "    \n",
    "    def module(self):\n",
    "        \"\"\"This method returns the module of a vector\"\"\"\n",
    "        return sqrt(self.x**2 + self.y**2)\n",
    "        \n",
    "    def __str__(self):\n",
    "        \"\"\"\n",
    "        This method returns str representation of the Vector\n",
    "        \"\"\"\n",
    "        return 'Vector(́{0:.2f}, {0:.2f})'.format(self.x, self.y)\n"
   ]
  },
  {
   "cell_type": "code",
   "execution_count": 37,
   "metadata": {
    "collapsed": false
   },
   "outputs": [
    {
     "data": {
      "text/plain": [
       "2.8284271247461903"
      ]
     },
     "execution_count": 37,
     "metadata": {},
     "output_type": "execute_result"
    }
   ],
   "source": [
    "p = Point(0,1)\n",
    "v = Vector(2,2)\n",
    "q = p + v\n",
    "q.distance(p)"
   ]
  },
  {
   "cell_type": "code",
   "execution_count": null,
   "metadata": {
    "collapsed": true
   },
   "outputs": [],
   "source": []
  }
 ],
 "metadata": {
  "kernelspec": {
   "display_name": "Python 3",
   "language": "python",
   "name": "python3"
  },
  "language_info": {
   "codemirror_mode": {
    "name": "ipython",
    "version": 3
   },
   "file_extension": ".py",
   "mimetype": "text/x-python",
   "name": "python",
   "nbconvert_exporter": "python",
   "pygments_lexer": "ipython3",
   "version": "3.6.0"
  }
 },
 "nbformat": 4,
 "nbformat_minor": 1
}
