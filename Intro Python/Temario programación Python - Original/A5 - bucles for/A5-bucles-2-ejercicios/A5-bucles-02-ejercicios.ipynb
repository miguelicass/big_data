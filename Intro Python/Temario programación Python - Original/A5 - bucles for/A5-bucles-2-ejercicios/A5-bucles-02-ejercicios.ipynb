{
 "cells": [
  {
   "cell_type": "markdown",
   "metadata": {},
   "source": [
    "# Bucles. Ejercicios (cont.)\n",
    "\n",
    "<hr>"
   ]
  },
  {
   "cell_type": "markdown",
   "metadata": {},
   "source": [
    "### Divisores de un número\n",
    "\n",
    "Diseña una función que calcule la lista de los divisores, y si es posible hazlo de forma que recorra los candidatos sin rebasar la raíz del dato."
   ]
  },
  {
   "cell_type": "code",
   "execution_count": 1,
   "metadata": {},
   "outputs": [
    {
     "name": "stdout",
     "output_type": "stream",
     "text": [
      "1  2  3  4  6  9  12  18  36  \n",
      "[1, 2, 3, 4, 6, 9, 12, 18, 36]\n",
      "[1, 36, 2, 18, 3, 12, 4, 9, 6]\n"
     ]
    }
   ],
   "source": [
    "# Tres soluciones:\n",
    "import math\n",
    "\n",
    "def imprimir_divisores(n):\n",
    "    for d in range(1, n+1):\n",
    "        if n % d == 0:\n",
    "            print(d, \" \", end=\"\")\n",
    "    print()\n",
    "    \n",
    "def divisores(n):\n",
    "    return [d for d in range(1, n+1) if n % d == 0]\n",
    "\n",
    "def divisores_2(n):\n",
    "    divs = []\n",
    "    for d in range(1, int(math.sqrt(n))+1):\n",
    "        if n % d == 0:\n",
    "            divs.append(d)\n",
    "            if d*d != n:\n",
    "                divs.append(n//d)\n",
    "    return divs\n",
    "\n",
    "imprimir_divisores(36)\n",
    "                   \n",
    "print(divisores(36))\n",
    "                   \n",
    "print(divisores_2(36))"
   ]
  },
  {
   "cell_type": "markdown",
   "metadata": {},
   "source": [
    "### Mínimo y máximo\n",
    "\n",
    "Diseña una función que toma una lista de enteros como parámetro y devuelve el mínimo y el máximo valor de dicha lista.."
   ]
  },
  {
   "cell_type": "code",
   "execution_count": 2,
   "metadata": {},
   "outputs": [
    {
     "name": "stdout",
     "output_type": "stream",
     "text": [
      "(1, 531245)\n",
      "(1, 531245)\n"
     ]
    }
   ],
   "source": [
    "def minimo_maximo(lista):\n",
    "    a, b = lista[0], lista[0]\n",
    "    for i in lista[1:]:\n",
    "        if i < a:\n",
    "            a = i\n",
    "        if i > b:\n",
    "            b = i\n",
    "    return a, b\n",
    "    \n",
    "# Pensándolo mejor, existen funciones ya predefinidas para esto:\n",
    "\n",
    "def min_max(lista):\n",
    "    return min(lista), max(lista)\n",
    "\n",
    "print(minimo_maximo([1, 4, 2, 876, 12345, 647, 123, 531245, 3145]))\n",
    "print(min_max([1, 4, 2, 876, 12345, 647, 123, 531245, 3145]))"
   ]
  },
  {
   "cell_type": "markdown",
   "metadata": {},
   "source": [
    "### Minúsculas\n",
    "\n",
    "Diseña una función que filtra las palabras de una lista, quedándose con las que están escritas en minúscula."
   ]
  },
  {
   "cell_type": "code",
   "execution_count": 3,
   "metadata": {},
   "outputs": [
    {
     "data": {
      "text/plain": [
       "['peluche', 'fer']"
      ]
     },
     "execution_count": 3,
     "metadata": {},
     "output_type": "execute_result"
    }
   ],
   "source": [
    "def minusculas(lista):\n",
    "    return [p for p in lista if p.lower() == p]\n",
    "\n",
    "minusculas([\"peluche\", \"Peluchito\", \"fer\", \"Fer\"])"
   ]
  },
  {
   "cell_type": "markdown",
   "metadata": {},
   "source": [
    "### Simplificar una fracción\n",
    "\n",
    "Una fracción se puede simplificar calculando el máximo común divisor de sus términos… Diseña una función que da la fracción simplificada y otro que simplifica “in place” una fracción dada. Este asunto puede ilustrar el concepto de objetos mutables e inmutables."
   ]
  },
  {
   "cell_type": "code",
   "execution_count": 4,
   "metadata": {},
   "outputs": [
    {
     "name": "stdout",
     "output_type": "stream",
     "text": [
      "[3, 2]\n"
     ]
    }
   ],
   "source": [
    "from math import gcd as mcm\n",
    "\n",
    "def simplificar(fraccion):\n",
    "    m = mcm(fraccion[0], fraccion[1])\n",
    "    fraccion[0] = fraccion[0] // m\n",
    "    fraccion[1] = fraccion[1] // m\n",
    "\n",
    "f = [36, 24]\n",
    "simplificar(f)\n",
    "print(f)"
   ]
  }
 ],
 "metadata": {
  "kernelspec": {
   "display_name": "Python 3",
   "language": "python",
   "name": "python3"
  },
  "language_info": {
   "codemirror_mode": {
    "name": "ipython",
    "version": 3
   },
   "file_extension": ".py",
   "mimetype": "text/x-python",
   "name": "python",
   "nbconvert_exporter": "python",
   "pygments_lexer": "ipython3",
   "version": "3.7.3"
  }
 },
 "nbformat": 4,
 "nbformat_minor": 1
}
