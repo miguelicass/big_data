{
 "cells": [
  {
   "cell_type": "markdown",
   "metadata": {},
   "source": [
    "# Estructuras iterativas: bucles acotados `for_in`\n",
    "\n",
    "<hr>\n",
    "\n",
    "A través de los bucles, podemos hacer que una instrucción o secuencia de instrucciones se repitan (un número determinado) de veces. La instrucción básica es `for`."
   ]
  },
  {
   "cell_type": "markdown",
   "metadata": {},
   "source": [
    "Sintaxis:\n",
    "\n",
    "`for <<variable>> in <<secuencia>>:\n",
    "     <<cuerpo del bucle>>`"
   ]
  },
  {
   "cell_type": "markdown",
   "metadata": {},
   "source": [
    "#### Bucles `for_in` con listas"
   ]
  },
  {
   "cell_type": "code",
   "execution_count": 1,
   "metadata": {},
   "outputs": [
    {
     "data": {
      "text/plain": [
       "(5.166666666666667, 5.857142857142857, 7.5)"
      ]
     },
     "execution_count": 1,
     "metadata": {},
     "output_type": "execute_result"
    }
   ],
   "source": [
    "def nota_media(lista_de_notas):\n",
    "    \"\"\"\n",
    "    Calcula la media de una lista de notas numéricas\n",
    "    \n",
    "    Parameters\n",
    "    ----------\n",
    "    notas : [float]\n",
    "        Lista de notas, no vacía\n",
    "        \n",
    "    Returns\n",
    "    -------\n",
    "    float\n",
    "        Media de las notas\n",
    "        \n",
    "    Example\n",
    "    -------\n",
    "    >>> nota_media([5, 6, 9, 10])\n",
    "    7.5\n",
    "    \"\"\"\n",
    "    suma = 0.0\n",
    "    for nota in lista_de_notas:\n",
    "        suma = suma + nota\n",
    "    return suma / len(lista_de_notas)\n",
    "\n",
    "nota_media([4.5, 6, 5]), nota_media([4, 6, 5, 7, 5, 6, 8]), nota_media([5, 6, 9, 10])"
   ]
  },
  {
   "cell_type": "code",
   "execution_count": 2,
   "metadata": {},
   "outputs": [
    {
     "data": {
      "text/plain": [
       "(['Ana', 'Marta', 'Alba', 'Lara'], ['Ana'])"
      ]
     },
     "execution_count": 2,
     "metadata": {},
     "output_type": "execute_result"
    }
   ],
   "source": [
    "def nombres_cortos(lista_de_nombres, n):\n",
    "    \"\"\"\n",
    "    La función filtra una lista_de_nombres,\n",
    "    devolviendo únicamente los de longitud menor o igual que n.\n",
    "    \n",
    "    Parameters\n",
    "    ----------\n",
    "    lista_de_nombres : [string]\n",
    "        Lista of strings\n",
    "    n : int\n",
    "        Longitud máxima\n",
    "    \n",
    "    Returns\n",
    "    -------\n",
    "    [string] \n",
    "        Lista de los nombres de lista_de_nombres con long <= n\n",
    "        \n",
    "    Example\n",
    "    -------\n",
    "    >>> nombres_cortos(['Ana', 'Marta', 'Patricia', 'Alba', 'Silvia', 'Gloria', 'Lara'], 3)\n",
    "    ['Ana']\n",
    "    \"\"\"\n",
    "    n_cortos = []\n",
    "    for nombre in lista_de_nombres:\n",
    "        if len(nombre) <= n:\n",
    "            n_cortos.append(nombre)\n",
    "    return n_cortos\n",
    "\n",
    "lista = ['Ana', 'Marta', 'Patricia', 'Alba', 'Silvia', 'Gloria', 'Lara']\n",
    "nombres_cortos(lista, 5), nombres_cortos(lista, 3)"
   ]
  },
  {
   "cell_type": "markdown",
   "metadata": {},
   "source": [
    "#### La función `range()`\n",
    "\n",
    "La función `range()` genera un rango, algo muy parecido a una lista, y que se puede convertir en una lista sencillamente:"
   ]
  },
  {
   "cell_type": "code",
   "execution_count": 3,
   "metadata": {},
   "outputs": [
    {
     "data": {
      "text/plain": [
       "range(0, 10)"
      ]
     },
     "execution_count": 3,
     "metadata": {},
     "output_type": "execute_result"
    }
   ],
   "source": [
    "range(10)"
   ]
  },
  {
   "cell_type": "code",
   "execution_count": 4,
   "metadata": {},
   "outputs": [
    {
     "data": {
      "text/plain": [
       "[0, 1, 2, 3, 4, 5, 6, 7, 8, 9]"
      ]
     },
     "execution_count": 4,
     "metadata": {},
     "output_type": "execute_result"
    }
   ],
   "source": [
    "list(range(10))"
   ]
  },
  {
   "cell_type": "markdown",
   "metadata": {},
   "source": [
    "Esta función es muy flexible: con dos parámetros, toma el primero como el valor inicial;\n",
    "y con tres, el tercero da el incremento entre elementos:"
   ]
  },
  {
   "cell_type": "code",
   "execution_count": 5,
   "metadata": {},
   "outputs": [
    {
     "data": {
      "text/plain": [
       "([5, 6, 7, 8, 9], [5, 8, 11, 14, 17], [10, 9, 8, 7, 6])"
      ]
     },
     "execution_count": 5,
     "metadata": {},
     "output_type": "execute_result"
    }
   ],
   "source": [
    "list(range(5, 10)), list(range(5, 20, 3)), list(range(10, 5, -1))"
   ]
  },
  {
   "cell_type": "markdown",
   "metadata": {},
   "source": [
    "#### Bucles `for_in` para listas generadas con `range()`\n",
    "\n",
    "La función `range` se usa con frecuencia para diseñar bucles `for_in`:"
   ]
  },
  {
   "cell_type": "code",
   "execution_count": 6,
   "metadata": {},
   "outputs": [
    {
     "data": {
      "text/plain": [
       "([88, 98, 26], [12, 40, 79], [38, 91, 5, 82, 7])"
      ]
     },
     "execution_count": 6,
     "metadata": {},
     "output_type": "execute_result"
    }
   ],
   "source": [
    "def lista_aleatoria(n):\n",
    "    \"\"\"\n",
    "    genera una lista aleatoria de n enteros aleatorios entre 0 y 100.\n",
    "    \n",
    "    Parameters\n",
    "    ----------\n",
    "    n : int\n",
    "        Longitud de la lista resultante\n",
    "        n >= 0\n",
    "        \n",
    "    Returns\n",
    "    -------\n",
    "    [int]\n",
    "        Lista de n enteros aleatorios entre 0 y 100\n",
    "        \n",
    "    Example\n",
    "    -------\n",
    "    >>> lista_aleatoria(3)\n",
    "    [1, 88, 31]\n",
    "    \"\"\"\n",
    "    import random\n",
    "    lista = []\n",
    "    for x in range(n):\n",
    "        lista.append(random.randint(0, 100))\n",
    "    return lista\n",
    "\n",
    "lista_aleatoria(3), lista_aleatoria(3), lista_aleatoria(5)"
   ]
  },
  {
   "cell_type": "code",
   "execution_count": 7,
   "metadata": {},
   "outputs": [
    {
     "data": {
      "text/plain": [
       "[0, 35, 70]"
      ]
     },
     "execution_count": 7,
     "metadata": {},
     "output_type": "execute_result"
    }
   ],
   "source": [
    "def multiplos_de_7_y_5(n):\n",
    "    \"\"\"\n",
    "    Genera la lista de enteros de [0...n] que son\n",
    "    multiplos de 7 y de 5 simultáneamente.\n",
    "    \n",
    "    Parameters\n",
    "    ----------\n",
    "    n : int\n",
    "        Límite superior\n",
    "        \n",
    "    Returns\n",
    "    -------\n",
    "    [int]\n",
    "        Lista de múltiplos de 7 y 5\n",
    "        \n",
    "    Example\n",
    "    -------\n",
    "    >>> multiplos_de_7_y_5(100)\n",
    "    [0, 35, 70]\n",
    "    \"\"\"\n",
    "    multiplos = []\n",
    "    for x in range(n):\n",
    "        if (x % 5 == 0) and (x % 7 == 0):\n",
    "            multiplos.append(x)\n",
    "    return multiplos\n",
    "\n",
    "multiplos_de_7_y_5(100)"
   ]
  },
  {
   "cell_type": "markdown",
   "metadata": {},
   "source": [
    "Otra versión, saltando ya en el bucle de 7 en 7:"
   ]
  },
  {
   "cell_type": "code",
   "execution_count": 8,
   "metadata": {},
   "outputs": [
    {
     "data": {
      "text/plain": [
       "[35, 70]"
      ]
     },
     "execution_count": 8,
     "metadata": {},
     "output_type": "execute_result"
    }
   ],
   "source": [
    "def multiplos_de_7_y_5(n):\n",
    "    \n",
    "    multiplos = []\n",
    "    for x in range(7, n, 7):\n",
    "        if x % 5 == 0:\n",
    "            multiplos.append(x)\n",
    "    return multiplos\n",
    "\n",
    "multiplos_de_7_y_5(100)"
   ]
  },
  {
   "cell_type": "code",
   "execution_count": 9,
   "metadata": {},
   "outputs": [
    {
     "data": {
      "text/plain": [
       "([1, 2, 3, 4], ['hola', 'buenas', 'tardes'])"
      ]
     },
     "execution_count": 9,
     "metadata": {},
     "output_type": "execute_result"
    }
   ],
   "source": [
    "def lista_inversa(lista_inicial):\n",
    "    \"\"\"\n",
    "    Genera una lista como la dada, pero en orden invertido. \n",
    "    \n",
    "    Parameters\n",
    "    ----------\n",
    "    lista_inicial : list \n",
    "        Lista original\n",
    "        \n",
    "    Returns\n",
    "    -------\n",
    "    list:\n",
    "        Lista invertida\n",
    "        \n",
    "    Example\n",
    "    -------\n",
    "    >>> lista_inversa([1, 2, 3, 4])\n",
    "    [4, 3, 2, 1]\n",
    "    \"\"\"\n",
    "    lista_inv = []\n",
    "    for i in lista_inicial:\n",
    "        lista_inv.append(i)\n",
    "    return lista_inv\n",
    "\n",
    "lista_inversa([1,2,3,4]), lista_inversa([\"hola\",\"buenas\",\"tardes\"])"
   ]
  },
  {
   "cell_type": "markdown",
   "metadata": {},
   "source": [
    "#### Bucles `for_in` en strings"
   ]
  },
  {
   "cell_type": "code",
   "execution_count": 10,
   "metadata": {},
   "outputs": [
    {
     "name": "stdout",
     "output_type": "stream",
     "text": [
      "hola"
     ]
    }
   ],
   "source": [
    "for c in 'hola':\n",
    "    print(c, end='')"
   ]
  },
  {
   "cell_type": "code",
   "execution_count": 11,
   "metadata": {},
   "outputs": [
    {
     "name": "stdout",
     "output_type": "stream",
     "text": [
      "b 98 B 66\n",
      "u 117 U 85\n",
      "e 101 E 69\n",
      "n 110 N 78\n",
      "a 97 A 65\n",
      "s 115 S 83\n",
      "  32   32\n",
      "t 116 T 84\n",
      "a 97 A 65\n",
      "r 114 R 82\n",
      "d 100 D 68\n",
      "e 101 E 69\n",
      "s 115 S 83\n",
      "  32   32\n",
      "á 225 Á 193\n",
      "n 110 N 78\n",
      "g 103 G 71\n",
      "e 101 E 69\n",
      "l 108 L 76\n"
     ]
    }
   ],
   "source": [
    "for c in 'Buenas Tardes Ángel':\n",
    "    print(c.lower(), ord(c.lower()), c.upper(), ord(c.upper()))"
   ]
  },
  {
   "cell_type": "code",
   "execution_count": 12,
   "metadata": {},
   "outputs": [
    {
     "name": "stdout",
     "output_type": "stream",
     "text": [
      "b\t98\tB\t66\n",
      "u\t117\tU\t85\n",
      "e\t101\tE\t69\n",
      "n\t110\tN\t78\n",
      "a\t97\tA\t65\n",
      "s\t115\tS\t83\n",
      " \t32\t \t32\n",
      "t\t116\tT\t84\n",
      "a\t97\tA\t65\n",
      "r\t114\tR\t82\n",
      "d\t100\tD\t68\n",
      "e\t101\tE\t69\n",
      "s\t115\tS\t83\n"
     ]
    }
   ],
   "source": [
    "for c in 'buenas tardes':\n",
    "    print('{0}\\t{1}\\t{2}\\t{3}'.format(c.lower(), ord(c.lower()), c.upper() ,ord(c.upper())))"
   ]
  },
  {
   "cell_type": "code",
   "execution_count": 13,
   "metadata": {},
   "outputs": [],
   "source": [
    "def cuenta_letras(letra, palabra):\n",
    "    \"\"\"\n",
    "    Cuenta el número de apariciones de una letra en la palabra dada\n",
    "    \n",
    "    Parameters\n",
    "    ----------\n",
    "    letra : string\n",
    "        Letter to count the occurrences\n",
    "    word : string\n",
    "        Word\n",
    "        \n",
    "    Result\n",
    "    ------\n",
    "    int\n",
    "        Número de veces que la letra aparece en la palabra\n",
    "        \n",
    "    Example\n",
    "    -------\n",
    "    >>> cuenta_letras('o', 'pelirrojo')\n",
    "    2\n",
    "    \"\"\"\n",
    "    contador = 0\n",
    "    for char in palabra:\n",
    "        if char == letra:\n",
    "            contador = contador + 1\n",
    "    return contador"
   ]
  },
  {
   "cell_type": "code",
   "execution_count": 14,
   "metadata": {},
   "outputs": [
    {
     "data": {
      "text/plain": [
       "2"
      ]
     },
     "execution_count": 14,
     "metadata": {},
     "output_type": "execute_result"
    }
   ],
   "source": [
    "cuenta_letras('o', 'pelirrojo')"
   ]
  },
  {
   "cell_type": "code",
   "execution_count": 15,
   "metadata": {},
   "outputs": [
    {
     "data": {
      "text/plain": [
       "1"
      ]
     },
     "execution_count": 15,
     "metadata": {},
     "output_type": "execute_result"
    }
   ],
   "source": [
    "cuenta_letras('j', 'pelirrojo')"
   ]
  },
  {
   "cell_type": "code",
   "execution_count": 16,
   "metadata": {},
   "outputs": [
    {
     "data": {
      "text/plain": [
       "0"
      ]
     },
     "execution_count": 16,
     "metadata": {},
     "output_type": "execute_result"
    }
   ],
   "source": [
    "cuenta_letras('a', 'pelirrojo')"
   ]
  },
  {
   "cell_type": "code",
   "execution_count": 17,
   "metadata": {},
   "outputs": [
    {
     "data": {
      "text/plain": [
       "0"
      ]
     },
     "execution_count": 17,
     "metadata": {},
     "output_type": "execute_result"
    }
   ],
   "source": [
    "cuenta_letras('J', 'pelirrojo')"
   ]
  }
 ],
 "metadata": {
  "kernelspec": {
   "display_name": "Python 3",
   "language": "python",
   "name": "python3"
  },
  "language_info": {
   "codemirror_mode": {
    "name": "ipython",
    "version": 3
   },
   "file_extension": ".py",
   "mimetype": "text/x-python",
   "name": "python",
   "nbconvert_exporter": "python",
   "pygments_lexer": "ipython3",
   "version": "3.7.3"
  }
 },
 "nbformat": 4,
 "nbformat_minor": 1
}
