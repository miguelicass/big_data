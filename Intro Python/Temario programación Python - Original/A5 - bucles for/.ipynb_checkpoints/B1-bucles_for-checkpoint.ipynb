{
 "cells": [
  {
   "cell_type": "markdown",
   "metadata": {},
   "source": [
    "# Estructuras iterativas: bucles acotados `for_in`\n",
    "\n",
    "<hr>\n",
    "\n",
    "A través de los bucles, podemos hacer que una instrucción o secuencia de instrucciones se repitan (un número determinado o no) de veces. La instrucción básica es `while`."
   ]
  },
  {
   "cell_type": "markdown",
   "metadata": {},
   "source": [
    "Sintaxis:\n",
    "\n",
    "`for <<variable>> in <<secuencia>>:\n",
    "     <<cuerpo del bucle>>`"
   ]
  },
  {
   "cell_type": "markdown",
   "metadata": {},
   "source": [
    "#### Bucles `for_in` con listas"
   ]
  },
  {
   "cell_type": "code",
   "execution_count": 3,
   "metadata": {},
   "outputs": [
    {
     "data": {
      "text/plain": [
       "(5.166666666666667, 5.857142857142857, 7.5)"
      ]
     },
     "execution_count": 3,
     "metadata": {},
     "output_type": "execute_result"
    }
   ],
   "source": [
    "def nota_media(lista_de_notas):\n",
    "    \"\"\"\n",
    "    Calcula la media de una lista de notas numéricas\n",
    "    \n",
    "    Parameters\n",
    "    ----------\n",
    "    notas : [float]\n",
    "        Lista de notas, no vacía\n",
    "        \n",
    "    Returns\n",
    "    -------\n",
    "    float\n",
    "        Media de las notas\n",
    "        \n",
    "    Example\n",
    "    -------\n",
    "    >>> nota_media([5, 6, 9, 10])\n",
    "    7.5\n",
    "    \"\"\"\n",
    "    suma = 0.0\n",
    "    for nota in lista_de_notas:\n",
    "        suma = suma + nota\n",
    "    return suma / len(lista_de_notas)\n",
    "\n",
    "nota_media([4.5, 6, 5]), nota_media([4, 6, 5, 7, 5, 6, 8]), nota_media([5, 6, 9, 10])"
   ]
  },
  {
   "cell_type": "code",
   "execution_count": 5,
   "metadata": {},
   "outputs": [
    {
     "data": {
      "text/plain": [
       "(['Ana', 'Marta', 'Alba', 'Lara'], ['Ana'])"
      ]
     },
     "execution_count": 5,
     "metadata": {},
     "output_type": "execute_result"
    }
   ],
   "source": [
    "def nombres_cortos(lista_de_nombres, n):\n",
    "    \"\"\"\n",
    "    La función filtra una lista_de_nombres,\n",
    "    devolviendo únicamente los de longitud menor o igual que n.\n",
    "    \n",
    "    Parameters\n",
    "    ----------\n",
    "    lista_de_nombres : [string]\n",
    "        Lista of strings\n",
    "    n : int\n",
    "        Longitud máxima\n",
    "    \n",
    "    Returns\n",
    "    -------\n",
    "    [string] \n",
    "        Lista de los nombres de lista_de_nombres con long <= n\n",
    "        \n",
    "    Example\n",
    "    -------\n",
    "    >>> nombres_cortos(['Ana', 'Marta', 'Patricia', 'Alba', 'Silvia', 'Gloria', 'Lara'], 3)\n",
    "    ['Ana']\n",
    "    \"\"\"\n",
    "    n_cortos = []\n",
    "    for nombre in lista_de_nombres:\n",
    "        if len(nombre) <= n:\n",
    "            n_cortos.append(nombre)\n",
    "    return n_cortos\n",
    "\n",
    "lista = ['Ana', 'Marta', 'Patricia', 'Alba', 'Silvia', 'Gloria', 'Lara']\n",
    "nombres_cortos(lista, 5), nombres_cortos(lista, 3)"
   ]
  },
  {
   "cell_type": "markdown",
   "metadata": {},
   "source": [
    "#### La función `range()`\n",
    "\n",
    "La función `range()` genera rangos, algo muy parecido a listaslistas de forma muy flexible. Una manera muy frecuente de hacer bucles `for_in` es generando la lista que hace de secuencia con la función `range()`. Veamos algunos detalles sobre esta función `range()`."
   ]
  },
  {
   "cell_type": "code",
   "execution_count": null,
   "metadata": {},
   "outputs": [],
   "source": [
    "#### La función `range()`\n",
    "\n",
    "La función `range()` genera rangos, algo muy parecido a listaslistas de forma muy flexible. Una manera muy frecuente de hacer bucles `for_in` es generando la lista que hace de secuencia con la función `range()`. Veamos algunos detalles sobre esta función `range()`."
   ]
  },
  {
   "cell_type": "code",
   "execution_count": 3,
   "metadata": {},
   "outputs": [
    {
     "data": {
      "text/plain": [
       "range(0, 10)"
      ]
     },
     "execution_count": 3,
     "metadata": {},
     "output_type": "execute_result"
    }
   ],
   "source": [
    "range(10)"
   ]
  },
  {
   "cell_type": "code",
   "execution_count": 4,
   "metadata": {},
   "outputs": [
    {
     "data": {
      "text/plain": [
       "[0, 1, 2, 3, 4, 5, 6, 7, 8, 9]"
      ]
     },
     "execution_count": 4,
     "metadata": {},
     "output_type": "execute_result"
    }
   ],
   "source": [
    "list(range(10))"
   ]
  },
  {
   "cell_type": "code",
   "execution_count": 5,
   "metadata": {},
   "outputs": [
    {
     "data": {
      "text/plain": [
       "[3, 4, 5, 6, 7, 8, 9, 10, 11]"
      ]
     },
     "execution_count": 5,
     "metadata": {},
     "output_type": "execute_result"
    }
   ],
   "source": [
    "list(range(3, 12))"
   ]
  },
  {
   "cell_type": "code",
   "execution_count": 6,
   "metadata": {},
   "outputs": [
    {
     "data": {
      "text/plain": [
       "[5, 10, 15, 20, 25, 30, 35, 40, 45, 50, 55]"
      ]
     },
     "execution_count": 6,
     "metadata": {},
     "output_type": "execute_result"
    }
   ],
   "source": [
    "list(range(5, 60, 5))"
   ]
  },
  {
   "cell_type": "code",
   "execution_count": 7,
   "metadata": {},
   "outputs": [
    {
     "data": {
      "text/plain": [
       "[]"
      ]
     },
     "execution_count": 7,
     "metadata": {},
     "output_type": "execute_result"
    }
   ],
   "source": [
    "list(range(10, 2))"
   ]
  },
  {
   "cell_type": "code",
   "execution_count": 8,
   "metadata": {},
   "outputs": [
    {
     "data": {
      "text/plain": [
       "[10, 9, 8, 7, 6, 5, 4, 3]"
      ]
     },
     "execution_count": 8,
     "metadata": {},
     "output_type": "execute_result"
    }
   ],
   "source": [
    "list(range(10, 2, -1))"
   ]
  },
  {
   "cell_type": "code",
   "execution_count": 9,
   "metadata": {},
   "outputs": [
    {
     "data": {
      "text/plain": [
       "[5, 6, 7, 8, 9, 10, 11, 12, 13, 14, 15, 16]"
      ]
     },
     "execution_count": 9,
     "metadata": {},
     "output_type": "execute_result"
    }
   ],
   "source": [
    "a=6\n",
    "b=10\n",
    "list(range(a-1, (b*2)-3))"
   ]
  },
  {
   "cell_type": "markdown",
   "metadata": {},
   "source": [
    "#### Bucles `for_in` para listas generadas con `range()`"
   ]
  },
  {
   "cell_type": "code",
   "execution_count": 10,
   "metadata": {
    "collapsed": true
   },
   "outputs": [],
   "source": [
    "def random_list(n):\n",
    "    \"\"\"\n",
    "    Returns a list of n random integer between 0 and 100.\n",
    "    \n",
    "    Parameters\n",
    "    ----------\n",
    "    n : int\n",
    "        Lenght of the resulting list of random integers\n",
    "        n >= 0\n",
    "        \n",
    "    Returns\n",
    "    -------\n",
    "    [int]\n",
    "        List of random integers between 0 and 100 with length n\n",
    "        \n",
    "    Example\n",
    "    -------\n",
    "    >>> random_list(3)\n",
    "    [1, 88, 31]\n",
    "    \"\"\"\n",
    "    import random\n",
    "    result = []\n",
    "    for x in range(n):\n",
    "        result.append(random.randint(0, 100))\n",
    "    return result"
   ]
  },
  {
   "cell_type": "code",
   "execution_count": 11,
   "metadata": {},
   "outputs": [
    {
     "data": {
      "text/plain": [
       "([5, 82, 37], [77, 16, 97, 32, 94])"
      ]
     },
     "execution_count": 11,
     "metadata": {},
     "output_type": "execute_result"
    }
   ],
   "source": [
    "random_list(3), random_list(5)"
   ]
  },
  {
   "cell_type": "code",
   "execution_count": 12,
   "metadata": {
    "collapsed": true
   },
   "outputs": [],
   "source": [
    "def random_list(n, minimum, maximum):\n",
    "    \"\"\"\n",
    "    Returns a list of n random integers between minimum and maximum.\n",
    "    \n",
    "    Parameters\n",
    "    ----------\n",
    "    n : int\n",
    "        Number of random integers n>=0\n",
    "    minimum : int\n",
    "        Minimum value of the generated random numbers\n",
    "    maximum : int\n",
    "        Maximum value of the generated random numbers\n",
    "        minimum <= maximum\n",
    "        \n",
    "    Returns\n",
    "    -------\n",
    "    [int]\n",
    "        List of n random numbers between minimum and maximum\n",
    "        \n",
    "    Example\n",
    "    -------\n",
    "    >>> random_list(3,1,5)\n",
    "    [2, 4, 4]\n",
    "    \"\"\"\n",
    "    import random\n",
    "    result = []\n",
    "    for x in range(n):\n",
    "        result.append(random.randint(minimum, maximum))\n",
    "    return result"
   ]
  },
  {
   "cell_type": "code",
   "execution_count": 13,
   "metadata": {},
   "outputs": [
    {
     "data": {
      "text/plain": [
       "([5, 4, 2], [131, 437, 118, 532, 965])"
      ]
     },
     "execution_count": 13,
     "metadata": {},
     "output_type": "execute_result"
    }
   ],
   "source": [
    "random_list(3,1,5), random_list(5,0,1000)"
   ]
  },
  {
   "cell_type": "code",
   "execution_count": 17,
   "metadata": {
    "collapsed": true
   },
   "outputs": [],
   "source": [
    "def multiple_7_and_5(n):\n",
    "    \"\"\"\n",
    "    Returns the list of positive numbers below n that are, at the same time,\n",
    "    multiple of 7 and 5.\n",
    "    \n",
    "    Parameters\n",
    "    ----------\n",
    "    n : int\n",
    "        Right limit\n",
    "        \n",
    "    Returns\n",
    "    -------\n",
    "    [int]\n",
    "        List of numbers below n that are multiple of 7 and 5\n",
    "        \n",
    "    Example\n",
    "    -------\n",
    "    >>> multiple_7_and_5(100)\n",
    "    [0, 35, 70]\n",
    "    \"\"\"\n",
    "    result = []\n",
    "    for x in range(n):\n",
    "        if (x % 5 == 0) and (x % 7 == 0):\n",
    "            result.append(x)\n",
    "    return result"
   ]
  },
  {
   "cell_type": "code",
   "execution_count": 18,
   "metadata": {},
   "outputs": [
    {
     "data": {
      "text/plain": [
       "[0, 35, 70]"
      ]
     },
     "execution_count": 18,
     "metadata": {},
     "output_type": "execute_result"
    }
   ],
   "source": [
    "multiple_7_and_5(100)"
   ]
  },
  {
   "cell_type": "markdown",
   "metadata": {},
   "source": [
    "Si no nos gusta que aparezca el 0, podemos hacer que el rango comience en 1."
   ]
  },
  {
   "cell_type": "code",
   "execution_count": 19,
   "metadata": {
    "collapsed": true
   },
   "outputs": [],
   "source": [
    "def multiple_7_and_5(n):\n",
    "    \"\"\"\n",
    "    Returns the list of numbers in [1..n) that are, at the same time,\n",
    "    multiple of 7 and 5.\n",
    "    \n",
    "    Parameters\n",
    "    ----------\n",
    "    n : int\n",
    "        Right limit\n",
    "        \n",
    "    Returns\n",
    "    -------\n",
    "    [int]\n",
    "        List of numbers in [1..n) that are multiple of 7 and 5\n",
    "        \n",
    "    Example\n",
    "    -------\n",
    "    >>> multiple_7_and_5(100)\n",
    "    [35, 70]\n",
    "    \"\"\"\n",
    "    result = []\n",
    "    for x in range(1, n):\n",
    "        if (x % 5 == 0) and (x % 7 == 0):\n",
    "            result.append(x)\n",
    "    return result"
   ]
  },
  {
   "cell_type": "code",
   "execution_count": 20,
   "metadata": {},
   "outputs": [
    {
     "data": {
      "text/plain": [
       "[35, 70]"
      ]
     },
     "execution_count": 20,
     "metadata": {},
     "output_type": "execute_result"
    }
   ],
   "source": [
    "multiple_7_and_5(100)"
   ]
  },
  {
   "cell_type": "markdown",
   "metadata": {},
   "source": [
    "Pero ... no es una forma muy eficaz, hay muchos números de los que podemos fácilmente *'librarnos'*"
   ]
  },
  {
   "cell_type": "code",
   "execution_count": 21,
   "metadata": {
    "collapsed": true
   },
   "outputs": [],
   "source": [
    "def multiple_7_and_5(n):\n",
    "    \"\"\"\n",
    "    Returns the list of numbers in [1..n) that are, at the same time,\n",
    "    multiple of 7 and 5.\n",
    "    \n",
    "    Parameters\n",
    "    ----------\n",
    "    n : int\n",
    "        Right limit\n",
    "        \n",
    "    Returns\n",
    "    -------\n",
    "    [int]\n",
    "        List of numbers in [1..n) that are multiple of 7 and 5\n",
    "        \n",
    "    Example\n",
    "    -------\n",
    "    >>> multiple_7_and_5(100)\n",
    "    [35, 70]\n",
    "    \"\"\"\n",
    "    result = []\n",
    "    for x in range(7, n, 7):\n",
    "        if x % 5 == 0:\n",
    "            result.append(x)\n",
    "    return result"
   ]
  },
  {
   "cell_type": "code",
   "execution_count": 22,
   "metadata": {},
   "outputs": [
    {
     "data": {
      "text/plain": [
       "[35, 70]"
      ]
     },
     "execution_count": 22,
     "metadata": {},
     "output_type": "execute_result"
    }
   ],
   "source": [
    "multiple_7_and_5(100)"
   ]
  },
  {
   "cell_type": "code",
   "execution_count": 23,
   "metadata": {
    "collapsed": true
   },
   "outputs": [],
   "source": [
    "def reverse(initial_list):\n",
    "    \"\"\"\n",
    "    Returns a list with the elements of initial_list reversed, \n",
    "    that is, the first element of initial_list would be the last element, \n",
    "    the second element of initial_list would be the second to last...\n",
    "    \n",
    "    Parameters\n",
    "    ----------\n",
    "    initial_list : list \n",
    "        Original list\n",
    "        \n",
    "    Returns\n",
    "    -------\n",
    "    list\n",
    "        Reversed list\n",
    "        \n",
    "    Example\n",
    "    -------\n",
    "    >>> reverse([1,2,3,4])\n",
    "    [4, 3, 2, 1]\n",
    "    \"\"\"\n",
    "    result = []\n",
    "    start = len(initial_list)-1\n",
    "    end = -1\n",
    "    for i in range(start, end, -1):\n",
    "        result.append(initial_list[i])\n",
    "    return result\n",
    "        "
   ]
  },
  {
   "cell_type": "code",
   "execution_count": 24,
   "metadata": {},
   "outputs": [
    {
     "data": {
      "text/plain": [
       "([4, 3, 2, 1], ['tardes', 'buenas', 'hola'])"
      ]
     },
     "execution_count": 24,
     "metadata": {},
     "output_type": "execute_result"
    }
   ],
   "source": [
    "reverse([1,2,3,4]), reverse([\"hola\",\"buenas\",\"tardes\"])"
   ]
  },
  {
   "cell_type": "markdown",
   "metadata": {},
   "source": [
    "#### Bucles `for_in` en strings"
   ]
  },
  {
   "cell_type": "code",
   "execution_count": 26,
   "metadata": {},
   "outputs": [
    {
     "name": "stdout",
     "output_type": "stream",
     "text": [
      "hola"
     ]
    }
   ],
   "source": [
    "for c in 'hola':\n",
    "    print(c, end='')"
   ]
  },
  {
   "cell_type": "code",
   "execution_count": 29,
   "metadata": {},
   "outputs": [
    {
     "name": "stdout",
     "output_type": "stream",
     "text": [
      "b 98 B 66\n",
      "u 117 U 85\n",
      "e 101 E 69\n",
      "n 110 N 78\n",
      "a 97 A 65\n",
      "s 115 S 83\n",
      "  32   32\n",
      "t 116 T 84\n",
      "a 97 A 65\n",
      "r 114 R 82\n",
      "d 100 D 68\n",
      "e 101 E 69\n",
      "s 115 S 83\n",
      "  32   32\n",
      "á 225 Á 193\n",
      "n 110 N 78\n",
      "g 103 G 71\n",
      "e 101 E 69\n",
      "l 108 L 76\n"
     ]
    }
   ],
   "source": [
    "for c in 'Buenas Tardes Ángel':\n",
    "    print(c.lower(), ord(c.lower()), c.upper(), ord(c.upper()))"
   ]
  },
  {
   "cell_type": "code",
   "execution_count": 30,
   "metadata": {},
   "outputs": [
    {
     "name": "stdout",
     "output_type": "stream",
     "text": [
      "b\t98\tB\t66\n",
      "u\t117\tU\t85\n",
      "e\t101\tE\t69\n",
      "n\t110\tN\t78\n",
      "a\t97\tA\t65\n",
      "s\t115\tS\t83\n",
      " \t32\t \t32\n",
      "t\t116\tT\t84\n",
      "a\t97\tA\t65\n",
      "r\t114\tR\t82\n",
      "d\t100\tD\t68\n",
      "e\t101\tE\t69\n",
      "s\t115\tS\t83\n"
     ]
    }
   ],
   "source": [
    "for c in 'buenas tardes':\n",
    "    print('{0}\\t{1}\\t{2}\\t{3}'.format(c.lower(), ord(c.lower()), c.upper() ,ord(c.upper())))"
   ]
  },
  {
   "cell_type": "code",
   "execution_count": 31,
   "metadata": {
    "collapsed": true
   },
   "outputs": [],
   "source": [
    "def letter_count(letter, word):\n",
    "    \"\"\"\n",
    "    Counts the occurrences of letter in word.\n",
    "    \n",
    "    Parameters\n",
    "    ----------\n",
    "    letter : string\n",
    "        Letter to count the occurrences\n",
    "    word : string\n",
    "        Word\n",
    "        \n",
    "    Result\n",
    "    ------\n",
    "    int\n",
    "        Number of ocurrences of letter in word\n",
    "        \n",
    "    Example\n",
    "    -------\n",
    "    >>> letter_count('o', 'pelirrojo')\n",
    "    2\n",
    "    \"\"\"\n",
    "    cont = 0\n",
    "    for char in word:\n",
    "        if char == letter:\n",
    "            cont = cont + 1\n",
    "    return cont        "
   ]
  },
  {
   "cell_type": "code",
   "execution_count": 32,
   "metadata": {},
   "outputs": [
    {
     "data": {
      "text/plain": [
       "2"
      ]
     },
     "execution_count": 32,
     "metadata": {},
     "output_type": "execute_result"
    }
   ],
   "source": [
    "letter_count('o', 'pelirrojo')"
   ]
  },
  {
   "cell_type": "code",
   "execution_count": 33,
   "metadata": {},
   "outputs": [
    {
     "data": {
      "text/plain": [
       "1"
      ]
     },
     "execution_count": 33,
     "metadata": {},
     "output_type": "execute_result"
    }
   ],
   "source": [
    "letter_count('j', 'pelirrojo')"
   ]
  },
  {
   "cell_type": "code",
   "execution_count": 34,
   "metadata": {},
   "outputs": [
    {
     "data": {
      "text/plain": [
       "0"
      ]
     },
     "execution_count": 34,
     "metadata": {},
     "output_type": "execute_result"
    }
   ],
   "source": [
    "letter_count('a', 'pelirrojo')"
   ]
  },
  {
   "cell_type": "code",
   "execution_count": 35,
   "metadata": {},
   "outputs": [
    {
     "data": {
      "text/plain": [
       "0"
      ]
     },
     "execution_count": 35,
     "metadata": {},
     "output_type": "execute_result"
    }
   ],
   "source": [
    "letter_count('J', 'pelirrojo')"
   ]
  },
  {
   "cell_type": "code",
   "execution_count": 36,
   "metadata": {
    "collapsed": true
   },
   "outputs": [],
   "source": [
    "def letter_count(letter, word):\n",
    "    \"\"\"\n",
    "    Counts the occurrences of letter in word. This function is not case sensitive, that\n",
    "    is letter_count('A', 'Ana') = 2 and letter_count('a', 'ANA') = 2.\n",
    "    \n",
    "    Parameters\n",
    "    ----------\n",
    "    letter : string\n",
    "        Letter to count the occurrences\n",
    "    word : string\n",
    "        Word\n",
    "        \n",
    "    Result\n",
    "    ------\n",
    "    int\n",
    "        Number of ocurrences of letter in word, ignoring case\n",
    "        \n",
    "    Example\n",
    "    -------\n",
    "    >>> letter_count('L', 'pelirrojo')\n",
    "    1\n",
    "    \"\"\"\n",
    "    cont = 0\n",
    "    for char in word:\n",
    "        if char.upper() == letter.upper():\n",
    "            cont = cont + 1\n",
    "    return cont "
   ]
  },
  {
   "cell_type": "code",
   "execution_count": 37,
   "metadata": {},
   "outputs": [
    {
     "data": {
      "text/plain": [
       "1"
      ]
     },
     "execution_count": 37,
     "metadata": {},
     "output_type": "execute_result"
    }
   ],
   "source": [
    "letter_count('j', 'Pelirrojo')"
   ]
  },
  {
   "cell_type": "code",
   "execution_count": 38,
   "metadata": {},
   "outputs": [
    {
     "data": {
      "text/plain": [
       "1"
      ]
     },
     "execution_count": 38,
     "metadata": {},
     "output_type": "execute_result"
    }
   ],
   "source": [
    "letter_count('J', 'Pelirrojo')"
   ]
  },
  {
   "cell_type": "code",
   "execution_count": 34,
   "metadata": {},
   "outputs": [
    {
     "data": {
      "text/plain": [
       "1"
      ]
     },
     "execution_count": 34,
     "metadata": {},
     "output_type": "execute_result"
    }
   ],
   "source": [
    "letter_count('p', 'Pelirrojo')"
   ]
  },
  {
   "cell_type": "code",
   "execution_count": null,
   "metadata": {
    "collapsed": true
   },
   "outputs": [],
   "source": []
  },
  {
   "cell_type": "code",
   "execution_count": null,
   "metadata": {
    "collapsed": true
   },
   "outputs": [],
   "source": []
  }
 ],
 "metadata": {
  "kernelspec": {
   "display_name": "Python 3",
   "language": "python",
   "name": "python3"
  },
  "language_info": {
   "codemirror_mode": {
    "name": "ipython",
    "version": 3
   },
   "file_extension": ".py",
   "mimetype": "text/x-python",
   "name": "python",
   "nbconvert_exporter": "python",
   "pygments_lexer": "ipython3",
   "version": "3.7.3"
  }
 },
 "nbformat": 4,
 "nbformat_minor": 1
}
