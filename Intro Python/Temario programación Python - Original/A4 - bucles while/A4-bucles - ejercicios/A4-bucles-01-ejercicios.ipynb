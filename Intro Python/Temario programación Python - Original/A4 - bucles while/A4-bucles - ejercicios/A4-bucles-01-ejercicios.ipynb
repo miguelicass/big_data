{
 "cells": [
  {
   "cell_type": "markdown",
   "metadata": {},
   "source": [
    "# Bucles. Ejercicios\n",
    "\n",
    "<hr>"
   ]
  },
  {
   "cell_type": "markdown",
   "metadata": {},
   "source": [
    "### Máximo común divisor, mediante diferencias\n",
    "\n",
    "Uno de los algoritmos más antiguos es el que calcula el máximo común divisor mediante restas sucesivas. Diséñalo."
   ]
  },
  {
   "cell_type": "code",
   "execution_count": 1,
   "metadata": {},
   "outputs": [
    {
     "data": {
      "text/plain": [
       "(4, 4, 13, 1)"
      ]
     },
     "execution_count": 1,
     "metadata": {},
     "output_type": "execute_result"
    }
   ],
   "source": [
    "def mcd(a, b):\n",
    "    \"\"\"\n",
    "    Parameters:\n",
    "    -----------\n",
    "        a, b: int, int\n",
    "    Precondition:\n",
    "    -------------\n",
    "        a, b != 0\n",
    "    \"\"\"\n",
    "    a, b = abs(a), abs(b)\n",
    "    while a != b:\n",
    "        if a > b:\n",
    "            a = a-b\n",
    "        else:\n",
    "            b = b-a\n",
    "    return a\n",
    "\n",
    "mcd(8, 12), mcd(-8, 12), mcd(13, 13), mcd(234, 1)"
   ]
  },
  {
   "cell_type": "markdown",
   "metadata": {},
   "source": [
    "### Mínimo común múltiplo\n",
    "\n",
    "El mínimo común múltiplo puede calcularse aumentando… hasta llegar a un múltiplo común. Diseña este algoritmo."
   ]
  },
  {
   "cell_type": "code",
   "execution_count": 2,
   "metadata": {},
   "outputs": [
    {
     "data": {
      "text/plain": [
       "(24, 24, 13, 234)"
      ]
     },
     "execution_count": 2,
     "metadata": {},
     "output_type": "execute_result"
    }
   ],
   "source": [
    "def mcm(a, b):\n",
    "    \"\"\"\n",
    "    Parameters:\n",
    "    -----------\n",
    "        a, b: int, int\n",
    "    Precondition:\n",
    "    -------------\n",
    "        a, b != 0\n",
    "    \"\"\"\n",
    "    a, b = abs(a), abs(b)\n",
    "    m, n = a, b\n",
    "    while m != n:\n",
    "        if m > n:\n",
    "            n = n + b\n",
    "        else:\n",
    "            m = m + a\n",
    "    return m\n",
    "\n",
    "mcm(8, 12), mcm(-8, 12), mcm(13, 13), mcm(234, 1)"
   ]
  },
  {
   "cell_type": "markdown",
   "metadata": {},
   "source": [
    "### Suma marciana\n",
    "\n",
    "Se ha encontrado en Marte la siguiente operación de sumar, resuelta en una roca:\n",
    "\n",
    "<img src='./images/cuenta-marte.png' alt='' style='height:75px'>\n",
    "\n",
    "Se desea descifrar el significado (o sea, el valor) de esos símbolos, supuesto que se ha usado el sistema de numeración decimal.\n",
    "\n",
    "Una posibilidad es tantear todas las combinaciones de cifras posibles y ver cuáles de ellas funcionan:\n",
    "\n",
    "<img src='./images/tanteos.png' alt='' style='height:200px'>"
   ]
  },
  {
   "cell_type": "markdown",
   "metadata": {},
   "source": [
    "He aquí una primera solución, usando bucles `while`:"
   ]
  },
  {
   "cell_type": "code",
   "execution_count": 3,
   "metadata": {},
   "outputs": [
    {
     "name": "stdout",
     "output_type": "stream",
     "text": [
      "5 6 1\n",
      "+ 5 4\n",
      "-------\n",
      "6 1 5\n",
      "\n",
      "7 8 5\n",
      "+ 7 2\n",
      "-------\n",
      "8 5 7\n",
      "\n",
      "8 9 7\n",
      "+ 8 1\n",
      "-------\n",
      "9 7 8\n",
      "\n"
     ]
    }
   ],
   "source": [
    "def martian_sum():\n",
    "    soluciones = []\n",
    "    club = 0\n",
    "    while club <10:\n",
    "        diamond = 0\n",
    "        while diamond <10:\n",
    "            spade = 0\n",
    "            while spade <10:\n",
    "                heart = 0\n",
    "                while heart <10:\n",
    "                    sum1 = 100*club + 10*diamond + spade\n",
    "                    sum2 = 10*club + heart\n",
    "                    suma = 100 * diamond + 10 * spade + club\n",
    "                    if diamond != club \\\n",
    "                        and spade != club and spade != diamond \\\n",
    "                        and heart != club and heart != diamond and heart != spade \\\n",
    "                        and sum1 + sum2 == suma:\n",
    "                            print(club , diamond , spade)\n",
    "                            print(\"+\", club , heart)\n",
    "                            print(\"-------\")\n",
    "                            print(diamond, spade, club)\n",
    "                            print()\n",
    "                    heart +=1\n",
    "                spade +=1\n",
    "            diamond += 1\n",
    "        club += 1\n",
    "\n",
    "martian_sum()"
   ]
  },
  {
   "cell_type": "code",
   "execution_count": 4,
   "metadata": {},
   "outputs": [
    {
     "name": "stdout",
     "output_type": "stream",
     "text": [
      "5 6 1\n",
      "+ 5 4\n",
      "-------\n",
      "6 1 5\n",
      "\n",
      "7 8 5\n",
      "+ 7 2\n",
      "-------\n",
      "8 5 7\n",
      "\n",
      "8 9 7\n",
      "+ 8 1\n",
      "-------\n",
      "9 7 8\n",
      "\n"
     ]
    }
   ],
   "source": [
    "# Otra versión, con bucles for:\n",
    "\n",
    "def martian_sum():\n",
    "    for club in range(10):\n",
    "        for diamond in range(10):\n",
    "            for spade in range(10):\n",
    "                for heart in range(10):\n",
    "                    sum1 = 100*club + 10*diamond + spade\n",
    "                    sum2 = 10*club + heart\n",
    "                    suma = 100 * diamond + 10 * spade + club\n",
    "                    if diamond != club \\\n",
    "                        and spade != club and spade != diamond \\\n",
    "                        and heart != club and heart != diamond and heart != spade \\\n",
    "                        and sum1 + sum2 == suma:\n",
    "                            print(club , diamond , spade)\n",
    "                            print(\"+\", club , heart)\n",
    "                            print(\"-------\")\n",
    "                            print(diamond, spade, club)\n",
    "                            print()\n",
    "\n",
    "martian_sum()"
   ]
  },
  {
   "cell_type": "code",
   "execution_count": 5,
   "metadata": {},
   "outputs": [
    {
     "name": "stdout",
     "output_type": "stream",
     "text": [
      "[(5, 6, 1, 4), (7, 8, 5, 2), (8, 9, 7, 1)]\n",
      "5 6 1\n",
      "+ 5 4\n",
      "-------\n",
      "6 1 5\n",
      "\n",
      "7 8 5\n",
      "+ 7 2\n",
      "-------\n",
      "8 5 7\n",
      "\n",
      "8 9 7\n",
      "+ 8 1\n",
      "-------\n",
      "9 7 8\n",
      "\n"
     ]
    }
   ],
   "source": [
    "# Otra versión, con bucles for\n",
    "# y adelantando los filtros de que los valores son distintos, ganando en eficiencia\n",
    "# y separando los cálculos de la presentación.\n",
    "\n",
    "def martian_sum():\n",
    "    soluciones = []\n",
    "    for club in range(10):\n",
    "        for diamond in range(10):\n",
    "            if diamond != club:\n",
    "                for spade in range(10):\n",
    "                    if spade not in {club, diamond}:\n",
    "                        for heart in range(10):\n",
    "                            if heart not in {club, diamond, spade}:\n",
    "                                sum1 = 100*club + 10*diamond + spade\n",
    "                                sum2 = 10*club + heart\n",
    "                                suma = 100 * diamond + 10 * spade + club\n",
    "                                if sum1 + sum2 == suma:\n",
    "                                    nueva_solucion = club, diamond, spade, heart\n",
    "                                    soluciones.append(nueva_solucion)\n",
    "    return soluciones\n",
    "\n",
    "def presentar_suma(cuatro_valores):\n",
    "    club, diamond, spade, heart = cuatro_valores\n",
    "    print(club , diamond , spade)\n",
    "    print(\"+\", club , heart)\n",
    "    print(\"-------\")\n",
    "    print(diamond, spade, club)\n",
    "    print()\n",
    "                                        \n",
    "posibles_soluciones = martian_sum()\n",
    "\n",
    "print(posibles_soluciones)\n",
    "\n",
    "for sol in posibles_soluciones:\n",
    "    presentar_suma(sol)"
   ]
  },
  {
   "cell_type": "markdown",
   "metadata": {},
   "source": [
    "### Juego de adivinación\n",
    "\n",
    "Consideremos el siguiente juego entre los jugadores A (adivino) y P (pensador): P piensa un número aleatorio entre 1 y N (digamos 1000, por ejemplo), y A trata de adivinarlo, mediante tanteos sucesivos, hasta dar con él. Para cada tanteo, P da una respuesta orientativa de entre las siguientes:\n",
    "\n",
    "        Fallaste. El número oculto es menor que el tuyo.\n",
    "        El número oculto es mayor.\n",
    "        Acertaste al fin.\n",
    "\n",
    "Quizá la mejor estrategia consiste en tantear en primer lugar el número central entre los posibles, porque así descartamos la mitad en cada intento.\n",
    "\n",
    "Diseña un programa que representa el papel de P, de manera que el usuario de dicho programa tendrá que adivinar el número oculto."
   ]
  },
  {
   "cell_type": "code",
   "execution_count": 6,
   "metadata": {},
   "outputs": [
    {
     "name": "stdout",
     "output_type": "stream",
     "text": [
      "Trata de adivinar el número oculto: 450\n",
      "El número oculto es mayor.\n",
      "Trata de adivinar el número oculto: 600\n",
      "El número oculto es mayor.\n",
      "Trata de adivinar el número oculto: 800\n",
      "El número oculto es menor.\n",
      "Trata de adivinar el número oculto: 700\n",
      "El número oculto es mayor.\n",
      "Trata de adivinar el número oculto: 750\n",
      "El número oculto es menor.\n",
      "Trata de adivinar el número oculto: 725\n",
      "El número oculto es menor.\n",
      "Trata de adivinar el número oculto: 712\n",
      "El número oculto es menor.\n",
      "Trata de adivinar el número oculto: 705\n",
      "Acertaste al fin.\n"
     ]
    }
   ],
   "source": [
    "import random\n",
    "\n",
    "def adivino_p():\n",
    "    N = 1000\n",
    "    num_oculto = random.randrange(1, N+1)\n",
    "    adivinado = False\n",
    "    while not adivinado:\n",
    "        intento = int(input(\"Trata de adivinar el número oculto: \"))\n",
    "        if intento == num_oculto:\n",
    "            adivinado = True\n",
    "            print(\"Acertaste al fin.\")\n",
    "        elif intento < num_oculto:\n",
    "            print(\"El número oculto es mayor.\")\n",
    "        else:\n",
    "            print(\"El número oculto es menor.\")\n",
    "\n",
    "adivino_p()"
   ]
  },
  {
   "cell_type": "code",
   "execution_count": 7,
   "metadata": {},
   "outputs": [
    {
     "name": "stdout",
     "output_type": "stream",
     "text": [
      "Piensa un número entero entre 1 y 1000.\n",
      "Pulsa <enter> cuando estés listo.\n",
      "\n",
      "Mi intento es el número  500\n",
      "Si he acertado, di Sí.\n",
      "Si tu número es mayor o menor que el mío, di '>' o '<' resp.\n",
      ">\n",
      "Mi intento es el número  750\n",
      "Si he acertado, di Sí.\n",
      "Si tu número es mayor o menor que el mío, di '>' o '<' resp.\n",
      "<\n",
      "Mi intento es el número  625\n",
      "Si he acertado, di Sí.\n",
      "Si tu número es mayor o menor que el mío, di '>' o '<' resp.\n",
      ">\n",
      "Mi intento es el número  687\n",
      "Si he acertado, di Sí.\n",
      "Si tu número es mayor o menor que el mío, di '>' o '<' resp.\n",
      ">\n",
      "Mi intento es el número  718\n",
      "Si he acertado, di Sí.\n",
      "Si tu número es mayor o menor que el mío, di '>' o '<' resp.\n",
      ">\n",
      "Mi intento es el número  734\n",
      "Si he acertado, di Sí.\n",
      "Si tu número es mayor o menor que el mío, di '>' o '<' resp.\n",
      "Sí\n",
      "Bien hecho\n"
     ]
    }
   ],
   "source": [
    "def adivino_a():\n",
    "    a, b = 1, 1000\n",
    "    print(\"Piensa un número entero entre 1 y 1000.\")\n",
    "    print(\"Pulsa <enter> cuando estés listo.\")\n",
    "    input()\n",
    "    intento = (a+b)//2   \n",
    "    respuesta = \" \"\n",
    "    while respuesta[0].upper() != \"S\":\n",
    "        print(\"Mi intento es el número \", intento)\n",
    "        print(\"Si he acertado, di Sí.\")\n",
    "        print(\"Si tu número es mayor o menor que el mío, di '>' o '<' resp.\")\n",
    "        respuesta = input()\n",
    "        if respuesta == '<':\n",
    "            b = intento - 1\n",
    "        else:\n",
    "            a = intento + 1\n",
    "        intento = (a+b)//2\n",
    "    print(\"Bien hecho\")\n",
    "    \n",
    "adivino_a()"
   ]
  },
  {
   "cell_type": "markdown",
   "metadata": {},
   "source": [
    "### Cero de una función, método de la bisección\n",
    "\n",
    "Diseña una función que calcule el cero de otra función según el método de bipartición. Este ejercicio está tomado del libro “Ejercicios creativos y recreativos en C++” (v. http://antares.sip.ucm.es/cpareja/libroCPP/). En la página 227 puede encontrarse una breve explicación del mismo, quizá te resulte útil."
   ]
  },
  {
   "cell_type": "markdown",
   "metadata": {},
   "source": [
    "Vamos con la solución. En efecto, en el libro mencionado se puede encontrar una siguiente explicación en la que el intervalo que acota la solución se va reduciendo a la mitad sucesivamente: \n",
    "\n",
    "<img src='./images/cerofun-bipartición.png' alt='' style='height:125px'>\n",
    "\n",
    "El diseño de este procedimiento en Python es fácil:"
   ]
  },
  {
   "cell_type": "code",
   "execution_count": 8,
   "metadata": {},
   "outputs": [
    {
     "name": "stdout",
     "output_type": "stream",
     "text": [
      "1.953125\n",
      "2.0001220703125\n"
     ]
    }
   ],
   "source": [
    "def biparticion(f, a, b, eps=0.001):\n",
    "    \"\"\"\n",
    "    Precondition: f es continua en [a, b]\n",
    "    y f(a) <= 0, f(b) >= 0\n",
    "    \"\"\"\n",
    "    while b-a > eps:\n",
    "        m = (a+b)/2\n",
    "        if f(m) < 0:\n",
    "            a = m\n",
    "        else:\n",
    "            b = m\n",
    "    return m\n",
    "\n",
    "def f(x):\n",
    "    return x**2 - 4\n",
    "\n",
    "print(biparticion(f, 0, 5, eps=0.1))\n",
    "\n",
    "print(biparticion(f, 0, 5))\n"
   ]
  },
  {
   "cell_type": "markdown",
   "metadata": {},
   "source": [
    "Seguro que no te resultará difícil modificar la función anterior para que también opere cuando f(a) >= 0 y f(b) <=0"
   ]
  },
  {
   "cell_type": "markdown",
   "metadata": {},
   "source": [
    "### Cero de una función. Método de Newton-Raphson\n",
    "\n",
    "Esta vez, el método se puede consultar en la wikipedia, entre otros muchos lugares en Internet. De ahí he extraído la siguiente imagen:\n",
    "\n",
    "<img src='./images/Newton_raphson.png' alt='' style='height:200px'>"
   ]
  },
  {
   "cell_type": "code",
   "execution_count": 9,
   "metadata": {},
   "outputs": [
    {
     "name": "stdout",
     "output_type": "stream",
     "text": [
      "2.0499955002564083\n",
      "2.0006108521972603\n"
     ]
    }
   ],
   "source": [
    "def cero_newton_raphson(f, x, eps=0.001):\n",
    "    while f(x - eps) * f(x + eps) >= 0:\n",
    "        x = x - f(x)/derivada(f, x)\n",
    "    return x\n",
    "\n",
    "def derivada(f, x, eps=0.0001):\n",
    "    return (f(x+eps) - f(x)) / eps\n",
    "\n",
    "def f(x):\n",
    "    return x**2 - 4\n",
    "\n",
    "print(cero_newton_raphson(f, 1, eps=0.1))\n",
    "\n",
    "print(cero_newton_raphson(f, 1))"
   ]
  },
  {
   "cell_type": "markdown",
   "metadata": {},
   "source": [
    "### Descomposicion de un número en factores\n",
    "\n",
    "Diseña un algoritmo que realice la descomposición clásica de un número en factores, a la manera clásica: se comienza dividiendo el número original entre el divisor más pequeño posible (2), se actualiza el dividendo y se continúa con ese divisor o con el siguiente, cuando haya de ser así:\n",
    "\n",
    "        60|2\n",
    "        30|2\n",
    "        15|3\n",
    "        5|5\n",
    "        1|"
   ]
  },
  {
   "cell_type": "code",
   "execution_count": 10,
   "metadata": {},
   "outputs": [
    {
     "name": "stdout",
     "output_type": "stream",
     "text": [
      "60  |  2\n",
      "30  |  2\n",
      "15  |  3\n",
      "5  |  5\n",
      "1  |  1\n",
      "\n",
      "150  |  2\n",
      "75  |  3\n",
      "25  |  5\n",
      "5  |  5\n",
      "1  |  1\n",
      "\n",
      "39  |  3\n",
      "13  |  13\n",
      "1  |  1\n",
      "\n"
     ]
    }
   ],
   "source": [
    "def descomponer(n):\n",
    "    \"\"\"pre.: n > 0 \"\"\"\n",
    "    d = 2\n",
    "    while n > 1:\n",
    "        if n % d == 0:\n",
    "            print(n, \" | \", d)\n",
    "            n = n // d\n",
    "        else:\n",
    "            d = d + 1\n",
    "    \n",
    "    print(n, \" | \", 1)\n",
    "    print()\n",
    "    \n",
    "descomponer(60)\n",
    "\n",
    "descomponer(150)\n",
    "\n",
    "descomponer(39)"
   ]
  },
  {
   "cell_type": "code",
   "execution_count": 11,
   "metadata": {},
   "outputs": [
    {
     "name": "stdout",
     "output_type": "stream",
     "text": [
      "   60  |  2\n",
      "   30  |  2\n",
      "   15  |  3\n",
      "    5  |  5\n",
      "    1  |  1\n",
      "\n",
      "  150  |  2\n",
      "   75  |  3\n",
      "   25  |  5\n",
      "    5  |  5\n",
      "    1  |  1\n",
      "\n",
      "   39  |  3\n",
      "   13  |  13\n",
      "    1  |  1\n",
      "\n"
     ]
    }
   ],
   "source": [
    "# Hagamos una versión que justifica a la derecha los números,\n",
    "# sólo para que quede más bonita la salida:\n",
    "\n",
    "def descomponer(n):\n",
    "    \"\"\"pre.: n > 0 \"\"\"\n",
    "    d = 2\n",
    "    while n > 1:\n",
    "        if n % d == 0:\n",
    "            print(str(n).rjust(5), \" | \", d)\n",
    "            n = n // d\n",
    "        else:\n",
    "            d = d + 1\n",
    "    \n",
    "    print(str(n).rjust(5), \" | \", 1)\n",
    "    print()\n",
    "    \n",
    "descomponer(60)\n",
    "\n",
    "descomponer(150)\n",
    "\n",
    "descomponer(39)"
   ]
  }
 ],
 "metadata": {
  "kernelspec": {
   "display_name": "Python 3",
   "language": "python",
   "name": "python3"
  },
  "language_info": {
   "codemirror_mode": {
    "name": "ipython",
    "version": 3
   },
   "file_extension": ".py",
   "mimetype": "text/x-python",
   "name": "python",
   "nbconvert_exporter": "python",
   "pygments_lexer": "ipython3",
   "version": "3.7.3"
  }
 },
 "nbformat": 4,
 "nbformat_minor": 1
}
