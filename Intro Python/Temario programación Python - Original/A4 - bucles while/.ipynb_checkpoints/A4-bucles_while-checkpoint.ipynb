{
 "cells": [
  {
   "cell_type": "markdown",
   "metadata": {},
   "source": [
    "# Estructuras iterativas: bucles condicionales\n",
    "\n",
    "<hr>\n",
    "\n",
    "A través de los bucles, podemos hacer que una instrucción o secuencia de instrucciones se repitan (un número determinado o no) de veces. La instrucción básica es `while`."
   ]
  },
  {
   "cell_type": "markdown",
   "metadata": {},
   "source": [
    "## Bucle while"
   ]
  },
  {
   "cell_type": "markdown",
   "metadata": {},
   "source": [
    "Sintaxis:\n",
    "\n",
    "`while <<condición>>:\n",
    "    <<instrucciones>>`\n",
    "     \n",
    "Las instrucciones ser repiten mientras se verifique la condición."
   ]
  },
  {
   "cell_type": "markdown",
   "metadata": {},
   "source": [
    "He aquí un ejemplo muy sencillo. Deseamos sumar los primeros números enteros hasta uno dado. Por ejemplo, si el límite superior es 10, la suma sería 1 + 2 + ... + 10, lo cual vale 55:"
   ]
  },
  {
   "cell_type": "code",
   "execution_count": 1,
   "metadata": {},
   "outputs": [
    {
     "name": "stdout",
     "output_type": "stream",
     "text": [
      "55\n"
     ]
    }
   ],
   "source": [
    "lim_sup = 10\n",
    "suma = 0\n",
    "i = 1\n",
    "while i <= lim_sup:\n",
    "    suma = suma + i\n",
    "    i = i + 1\n",
    "\n",
    "print(suma)"
   ]
  },
  {
   "cell_type": "markdown",
   "metadata": {},
   "source": [
    "En forma de función, sería así"
   ]
  },
  {
   "cell_type": "code",
   "execution_count": 2,
   "metadata": {},
   "outputs": [],
   "source": [
    "def suma_hasta(lim_sup):\n",
    "    \"\"\"\n",
    "    Esta función calcula la suma de los enteros desde 1 hasta lim_sup, \n",
    "    incluyendo ambos. Si lim_sup < 1, la función devuelve 0\n",
    "    (puesto que no hay ningún entero entero que cumpla la condición).\n",
    "    \n",
    "    Parameters\n",
    "    ----------\n",
    "    lim_sup : int\n",
    "        límite superior\n",
    "        \n",
    "    Returns\n",
    "    -------\n",
    "    int\n",
    "        Suma de 1 + 2 + 3 + ... lim_sup\n",
    "        \n",
    "    Example\n",
    "    -------\n",
    "    >>> suma_hasta(4)\n",
    "    10\n",
    "    \"\"\"\n",
    "    suma = 0\n",
    "    i = 1\n",
    "    while i <= lim_sup:\n",
    "        suma = suma + i\n",
    "        i = i + 1\n",
    "    return suma"
   ]
  },
  {
   "cell_type": "code",
   "execution_count": 3,
   "metadata": {},
   "outputs": [
    {
     "data": {
      "text/plain": [
       "(36, 28, 0, 80200)"
      ]
     },
     "execution_count": 3,
     "metadata": {},
     "output_type": "execute_result"
    }
   ],
   "source": [
    "suma_hasta(8), suma_hasta(7), suma_hasta(-3), suma_hasta(400)"
   ]
  },
  {
   "cell_type": "markdown",
   "metadata": {},
   "source": [
    "#### Factorización $n = 2^k * m$\n",
    "\n",
    "Descomponer un número, separando su potencia de dos y el factor restante.  \n",
    "\n",
    "Ejemplos: `12 = 2^2 * 3, 16 = 2^4 * 1, 7 = 2^0 * 7`."
   ]
  },
  {
   "cell_type": "markdown",
   "metadata": {},
   "source": [
    "Una primera aproximación."
   ]
  },
  {
   "cell_type": "code",
   "execution_count": 4,
   "metadata": {},
   "outputs": [
    {
     "data": {
      "text/plain": [
       "((4, 3), (8, 1), (1, 7))"
      ]
     },
     "execution_count": 4,
     "metadata": {},
     "output_type": "execute_result"
    }
   ],
   "source": [
    "def mayor_pot_2(n):\n",
    "    \"\"\"\n",
    "    Esta función calcula la mayor potencia de 2\n",
    "    que es divisor de un entero dado, n, dando además\n",
    "    el factor complementario:\n",
    "    Si tenemos n = 2^k * r, y 2^(k+1) ya no es divisor de n:    \n",
    "        mayor_pot_2(n) = 2^k, r\n",
    "    \n",
    "    Parameters\n",
    "    ----------\n",
    "    n: int\n",
    "        Entero, del que deseamos extraer la mayor potencia de 2\n",
    "    \n",
    "    Returns\n",
    "    -------\n",
    "    (int, int)\n",
    "        Par (pow2, r) donde pow2 es la mayor potencia de 2 que divide a n,\n",
    "        y pow2*r = n\n",
    "        \n",
    "    Example\n",
    "    -------\n",
    "    >>> mayor_pot_2(12)\n",
    "    (4, 3)        \n",
    "    \"\"\"\n",
    "    pow2, resto = 1, n\n",
    "    while (resto % 2) == 0:\n",
    "        pow2 = pow2 * 2\n",
    "        resto = resto // 2\n",
    "    return pow2, resto\n",
    "\n",
    "mayor_pot_2(12), mayor_pot_2(8), mayor_pot_2(7)"
   ]
  },
  {
   "cell_type": "markdown",
   "metadata": {},
   "source": [
    "Ya estamos muy cerca, ahora contamos el exponente de la potencia en lugar de calcularlo."
   ]
  },
  {
   "cell_type": "code",
   "execution_count": 5,
   "metadata": {},
   "outputs": [
    {
     "data": {
      "text/plain": [
       "((1, 1), (3, 1), (0, 7), (2, 3))"
      ]
     },
     "execution_count": 5,
     "metadata": {},
     "output_type": "execute_result"
    }
   ],
   "source": [
    "def mayor_pot2_exp(n):\n",
    "    \"\"\"\n",
    "    Esta función calcula el mayor exponente de 2, digamos k,\n",
    "    tal que 2^k es divisor de un entero dado, n, dando además\n",
    "    el factor complementario:\n",
    "    Si tenemos n = 2^k * r, y 2^(k+1) ya no es divisor de n:    \n",
    "        mayor_pot_2(n) = k, r\n",
    "    \n",
    "    Parameters\n",
    "    ----------\n",
    "    n: int\n",
    "        Entero, del que deseamos extraer la mayor potencia de 2\n",
    "    \n",
    "    Returns\n",
    "    -------\n",
    "    (int, int)\n",
    "        Par (exp2, r) donde 2^exp2 es la mayor potencia de 2 que divide a n,\n",
    "        y 2^exp2 * k = n\n",
    "        \n",
    "    Example\n",
    "    -------\n",
    "    >>> mayor_pot2_exp(12)\n",
    "    (2, 3)\n",
    "    \"\"\"\n",
    "    exp2, resto = 0, n\n",
    "    while (resto % 2) == 0:\n",
    "        exp2 = exp2 + 1\n",
    "        resto = resto // 2\n",
    "    return exp2, resto\n",
    "\n",
    "mayor_pot2_exp(2), mayor_pot2_exp(8), mayor_pot2_exp(7), mayor_pot2_exp(12)"
   ]
  },
  {
   "cell_type": "markdown",
   "metadata": {},
   "source": [
    "Si queremos *ver* los resultados más bonitos..."
   ]
  },
  {
   "cell_type": "code",
   "execution_count": 6,
   "metadata": {},
   "outputs": [
    {
     "name": "stdout",
     "output_type": "stream",
     "text": [
      "3214134134 = 2^1 * 1607067067\n"
     ]
    }
   ],
   "source": [
    "n = 3214134134\n",
    "a, b = mayor_pot2_exp(n)\n",
    "print(\"{0} = 2^{1} * {2}\".format(n, a, b))"
   ]
  },
  {
   "cell_type": "markdown",
   "metadata": {},
   "source": [
    "**Nota:** No es buena idea introducir la visualización en el `return` de la función.\n",
    "Es mejor diseñar funciones que calculan valores y, si luegon queremos ver el resultado en un forma más legible,\n",
    "diseñamos algo parecido a lo que acabamos de hacer con la función `print`."
   ]
  },
  {
   "cell_type": "markdown",
   "metadata": {},
   "source": [
    "#### Suma de las cifras de un número"
   ]
  },
  {
   "cell_type": "markdown",
   "metadata": {},
   "source": [
    "Para trabajar con las cifras de un número, hay dos expresiones de gran utilidad: el cociente y el resto de dividir por 10, que nos dan elmúmero sin su  última cifra y dicha úlria cifra: "
   ]
  },
  {
   "cell_type": "code",
   "execution_count": 7,
   "metadata": {},
   "outputs": [
    {
     "data": {
      "text/plain": [
       "(153, 6)"
      ]
     },
     "execution_count": 7,
     "metadata": {},
     "output_type": "execute_result"
    }
   ],
   "source": [
    "n = 1536\n",
    "n // 10, n % 10"
   ]
  },
  {
   "cell_type": "markdown",
   "metadata": {},
   "source": [
    "Ahora podemos usar una asignación añadir la última cifra a una variable acumulador (digmaos que está a cero) y otra para transformar el número eliminando su última cifra: "
   ]
  },
  {
   "cell_type": "code",
   "execution_count": 8,
   "metadata": {},
   "outputs": [
    {
     "name": "stdout",
     "output_type": "stream",
     "text": [
      "174539 0\n",
      "17453 9\n"
     ]
    }
   ],
   "source": [
    "n = 174539\n",
    "acum = 0\n",
    "print(n, acum)\n",
    "acum = acum + n % 10\n",
    "n = n // 10\n",
    "print(n, acum)"
   ]
  },
  {
   "cell_type": "markdown",
   "metadata": {},
   "source": [
    "Hagámoslo de nuevo: "
   ]
  },
  {
   "cell_type": "code",
   "execution_count": 9,
   "metadata": {},
   "outputs": [
    {
     "name": "stdout",
     "output_type": "stream",
     "text": [
      "1745 12\n"
     ]
    }
   ],
   "source": [
    "acum = acum + n % 10\n",
    "n = n // 10\n",
    "print(n, acum)"
   ]
  },
  {
   "cell_type": "markdown",
   "metadata": {},
   "source": [
    "Unas pocas veces más: "
   ]
  },
  {
   "cell_type": "code",
   "execution_count": 10,
   "metadata": {},
   "outputs": [
    {
     "name": "stdout",
     "output_type": "stream",
     "text": [
      "174 17\n",
      "17 21\n",
      "1 28\n",
      "0 29\n",
      "0 29\n"
     ]
    }
   ],
   "source": [
    "acum = acum + n % 10\n",
    "n = n // 10\n",
    "print(n, acum)\n",
    "\n",
    "acum = acum + n % 10\n",
    "n = n // 10\n",
    "print(n, acum)\n",
    "\n",
    "acum = acum + n % 10\n",
    "n = n // 10\n",
    "print(n, acum)\n",
    "\n",
    "acum = acum + n % 10\n",
    "n = n // 10\n",
    "print(n, acum)\n",
    "\n",
    "acum = acum + n % 10\n",
    "n = n // 10\n",
    "print(n, acum)"
   ]
  },
  {
   "cell_type": "markdown",
   "metadata": {},
   "source": [
    "Vemos que, cuando n == 0, las instrucciones no tienen efecto: se acumula un 0 y el número no cambia. Podíamos haber parado cuando n== 0."
   ]
  },
  {
   "cell_type": "markdown",
   "metadata": {},
   "source": [
    "Con `while` la cosa es más sencilla, general y clara"
   ]
  },
  {
   "cell_type": "code",
   "execution_count": 11,
   "metadata": {},
   "outputs": [
    {
     "name": "stdout",
     "output_type": "stream",
     "text": [
      "6\n",
      "58\n"
     ]
    }
   ],
   "source": [
    "def suma_de_cifras(n):\n",
    "    \"\"\"\n",
    "    Esta función calcula la suma de las cifras de un entero positivo\n",
    "    \n",
    "    Parameters\n",
    "    ----------\n",
    "    n : int\n",
    "        Un entero positivo\n",
    "    \n",
    "    Returns\n",
    "    -------\n",
    "    int\n",
    "        La suma de los dígitos de n\n",
    "    \n",
    "    Example\n",
    "    -------\n",
    "    >>> suma_de_cifras(123)\n",
    "    6\n",
    "    \"\"\"\n",
    "    suma = 0\n",
    "    while n != 0:\n",
    "        suma = suma + n % 10\n",
    "        n = n // 10\n",
    "    return suma\n",
    "\n",
    "print(suma_de_cifras(123))\n",
    "print(suma_de_cifras(239814065983))"
   ]
  },
  {
   "cell_type": "markdown",
   "metadata": {},
   "source": [
    "#### Criterios de divisibilidad\n",
    "¿Es el número `233432436598764523578` divisible por `3` y por `9`?\n"
   ]
  },
  {
   "cell_type": "code",
   "execution_count": 12,
   "metadata": {},
   "outputs": [],
   "source": [
    "def divisible_by_3(n):\n",
    "    \"\"\"\n",
    "    This function decides if a positive integer is divisible by 3. n >= 0. \n",
    "    \n",
    "    Parameters\n",
    "    ----------\n",
    "    n : int\n",
    "        Integer positive number\n",
    "    \n",
    "    Returns\n",
    "    -------\n",
    "    bool\n",
    "        Whether n is divisible by 3 or not\n",
    "    \n",
    "    Example\n",
    "    -------\n",
    "    >>> divisible_by_3(14)\n",
    "    False\n",
    "    \"\"\"\n",
    "    copy = n\n",
    "    while copy > 9:\n",
    "        copy = suma_de_cifras(copy)\n",
    "    if (copy == 0) or (copy == 3) or (copy == 6) or (copy == 9):\n",
    "        return True\n",
    "    else:\n",
    "        return False"
   ]
  },
  {
   "cell_type": "code",
   "execution_count": 13,
   "metadata": {},
   "outputs": [
    {
     "name": "stdout",
     "output_type": "stream",
     "text": [
      "True\n",
      "False\n"
     ]
    }
   ],
   "source": [
    "print(divisible_by_3(334132413413241231))\n",
    "print(divisible_by_3(14))"
   ]
  },
  {
   "cell_type": "code",
   "execution_count": 14,
   "metadata": {},
   "outputs": [],
   "source": [
    "def divisible_by_9(n):\n",
    "    \"\"\"\n",
    "    This function decides if a positive integer is divisible by 9. n >= 0. \n",
    "    \n",
    "    Parameters\n",
    "    ----------\n",
    "    n : int\n",
    "        Integer positive number\n",
    "    \n",
    "    Returns\n",
    "    -------\n",
    "    bool\n",
    "        Whether n is divisible by 9 or not\n",
    "        \n",
    "    Example\n",
    "    -------\n",
    "    >>> divisible_by_9(19)\n",
    "    False\n",
    "    \"\"\"\n",
    "    copy = n\n",
    "    while copy > 9:\n",
    "        copy = suma_de_cifras(copy)\n",
    "    return (copy == 0) or (copy == 9)"
   ]
  },
  {
   "cell_type": "code",
   "execution_count": 15,
   "metadata": {},
   "outputs": [
    {
     "data": {
      "text/plain": [
       "(True, True, False)"
      ]
     },
     "execution_count": 15,
     "metadata": {},
     "output_type": "execute_result"
    }
   ],
   "source": [
    "divisible_by_9(18), divisible_by_9(3413413413414), divisible_by_9(19)"
   ]
  },
  {
   "cell_type": "code",
   "execution_count": 16,
   "metadata": {},
   "outputs": [
    {
     "data": {
      "text/plain": [
       "True"
      ]
     },
     "execution_count": 16,
     "metadata": {},
     "output_type": "execute_result"
    }
   ],
   "source": [
    "divisible_by_3(233432436598764523578) and \\\n",
    "divisible_by_9(233432436598764523578)"
   ]
  },
  {
   "cell_type": "markdown",
   "metadata": {},
   "source": [
    "Divisivilidad por 11: las suma de las cifras en posición par es igual a la suma de las cifras en posición impar."
   ]
  },
  {
   "cell_type": "code",
   "execution_count": 17,
   "metadata": {},
   "outputs": [],
   "source": [
    "def sum_par_impar(n):\n",
    "    pos_par = True\n",
    "    pares = 0\n",
    "    impares = 0\n",
    "    \n",
    "    while  n!=0:\n",
    "        digit = n%10\n",
    "        if pos_par :\n",
    "            pares = pares + digit\n",
    "        else:\n",
    "            impares = impares + digit\n",
    "        n= n // 10\n",
    "        pos_par = not pos_par\n",
    "    return (pares,impares)"
   ]
  },
  {
   "cell_type": "code",
   "execution_count": 18,
   "metadata": {},
   "outputs": [
    {
     "data": {
      "text/plain": [
       "(5, 4)"
      ]
     },
     "execution_count": 18,
     "metadata": {},
     "output_type": "execute_result"
    }
   ],
   "source": [
    "sum_par_impar(12123)"
   ]
  },
  {
   "cell_type": "code",
   "execution_count": 19,
   "metadata": {},
   "outputs": [],
   "source": [
    "def divisible_11(n):\n",
    "    while n > 11:\n",
    "        pares, impares = sum_par_impar(n)\n",
    "        if pares > impares:\n",
    "            n = pares - impares\n",
    "        else:\n",
    "            n = impares - pares\n",
    "    return n==0 or n==11"
   ]
  },
  {
   "cell_type": "code",
   "execution_count": 20,
   "metadata": {
    "scrolled": true
   },
   "outputs": [
    {
     "data": {
      "text/plain": [
       "True"
      ]
     },
     "execution_count": 20,
     "metadata": {},
     "output_type": "execute_result"
    }
   ],
   "source": [
    "divisible_11(11)"
   ]
  },
  {
   "cell_type": "code",
   "execution_count": 21,
   "metadata": {},
   "outputs": [
    {
     "data": {
      "text/plain": [
       "True"
      ]
     },
     "execution_count": 21,
     "metadata": {},
     "output_type": "execute_result"
    }
   ],
   "source": [
    "divisible_11(135777972)\n"
   ]
  },
  {
   "cell_type": "code",
   "execution_count": 22,
   "metadata": {},
   "outputs": [
    {
     "data": {
      "text/plain": [
       "False"
      ]
     },
     "execution_count": 22,
     "metadata": {},
     "output_type": "execute_result"
    }
   ],
   "source": [
    "divisible_11(135776972)\n"
   ]
  },
  {
   "cell_type": "markdown",
   "metadata": {},
   "source": [
    "#### ¿Es primo un número?\n",
    "¿Es el número `233432436598764523577` primo? ¿Lo es $n$? Para saberlo, basta con tantear si son divisores los números $2, 3, ..., \\sqrt{n}$."
   ]
  },
  {
   "cell_type": "code",
   "execution_count": 23,
   "metadata": {},
   "outputs": [],
   "source": [
    "def es_primo(n):\n",
    "    \"\"\"\n",
    "    Function that checks if n is prime\n",
    "    \n",
    "    Pamarameters\n",
    "    ============\n",
    "    n : int\n",
    "    \n",
    "    Returns\n",
    "    =======\n",
    "    bool\n",
    "    \n",
    "    Precondition\n",
    "    ============\n",
    "    n>1\n",
    "    \"\"\"\n",
    "    i = 2\n",
    "    while i*i <= n and (n%i!=0):\n",
    "        i += 1\n",
    "    return i*i>n"
   ]
  },
  {
   "cell_type": "code",
   "execution_count": 24,
   "metadata": {},
   "outputs": [
    {
     "name": "stdout",
     "output_type": "stream",
     "text": [
      "[(2, True), (3, True), (4, False), (5, True), (6, False), (7, True), (8, False), (9, False), (10, False), (11, True), (12, False), (13, True), (14, False), (15, False), (16, False), (17, True), (18, False), (19, True), (20, False), (21, False), (22, False), (23, True), (24, False), (25, False), (26, False), (27, False), (28, False), (29, True), (30, False), (31, True), (32, False), (33, False), (34, False), (35, False), (36, False), (37, True), (38, False), (39, False), (40, False), (41, True), (42, False), (43, True), (44, False), (45, False), (46, False), (47, True), (48, False), (49, False), (50, False), (51, False), (52, False), (53, True), (54, False), (55, False), (56, False), (57, False), (58, False), (59, True), (60, False), (61, True), (62, False), (63, False), (64, False), (65, False), (66, False), (67, True), (68, False), (69, False), (70, False), (71, True), (72, False), (73, True), (74, False), (75, False), (76, False), (77, False), (78, False), (79, True), (80, False), (81, False), (82, False), (83, True), (84, False), (85, False), (86, False), (87, False), (88, False), (89, True), (90, False), (91, False), (92, False), (93, False), (94, False), (95, False), (96, False), (97, True), (98, False), (99, False)]\n"
     ]
    }
   ],
   "source": [
    "print([(i, es_primo(i)) for i in range(2, 100)])"
   ]
  },
  {
   "cell_type": "markdown",
   "metadata": {},
   "source": [
    "### Ejercicio propuesto\n",
    "\n",
    "Diseña un algoritmo que realice la descomposición clásica de un número en factores, a la manera clásica:\n",
    "se comienza dividiendo el número original entre el divisor más pequeño posible (2),\n",
    "se actualiza el dividendo y se continúa con ese divisor o con el siguiente, cuando haya de ser así:\n",
    "\n",
    "    60|2\n",
    "    30|2\n",
    "    15|3\n",
    "     5|5\n",
    "     1|"
   ]
  }
 ],
 "metadata": {
  "kernelspec": {
   "display_name": "Python 3",
   "language": "python",
   "name": "python3"
  },
  "language_info": {
   "codemirror_mode": {
    "name": "ipython",
    "version": 3
   },
   "file_extension": ".py",
   "mimetype": "text/x-python",
   "name": "python",
   "nbconvert_exporter": "python",
   "pygments_lexer": "ipython3",
   "version": "3.7.3"
  }
 },
 "nbformat": 4,
 "nbformat_minor": 1
}
