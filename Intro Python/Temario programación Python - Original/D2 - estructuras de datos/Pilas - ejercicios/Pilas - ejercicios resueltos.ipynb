{
 "cells": [
  {
   "cell_type": "markdown",
   "metadata": {},
   "source": [
    "# Pilas. Ejercicios resueltos\n",
    "\n",
    "<hr>"
   ]
  },
  {
   "cell_type": "markdown",
   "metadata": {},
   "source": [
    "### Carga masiva de una pila\n",
    "\n",
    "1. Diseña una función que carga una pila con todos los elementos de una lista, añadiendo en primer lugar el de posición cero, etc. Para ello, usa las pilas implementadas como `deque` del módulo `collections`.\n",
    "\n",
    "2. Por supuesto, una operación como la descrita existe ya: `extend`. Diseña primer la tuya y luego compara el resultado con la que te ofrece el módulo `collections`. "
   ]
  },
  {
   "cell_type": "code",
   "execution_count": 1,
   "metadata": {},
   "outputs": [
    {
     "name": "stdout",
     "output_type": "stream",
     "text": [
      "deque(['a', 'b', 'c', 'd', 'e'])\n",
      "deque(['a', 'b', 'c', 'd', 'e', 'a', 'b', 'c', 'd', 'e'])\n",
      "...................................................\n",
      "deque(['a', 'b', 'c', 'd', 'e'])\n",
      "deque(['a', 'b', 'c', 'd', 'e', 'a', 'b', 'c', 'd', 'e'])\n"
     ]
    }
   ],
   "source": [
    "from collections import deque\n",
    "\n",
    "def cargar_pila(lista, pila):\n",
    "    for elem in lista:\n",
    "        pila.append(elem)\n",
    "\n",
    "pila_letras = deque()\n",
    "\n",
    "cargar_pila(\"abcde\", pila_letras) \n",
    "print(pila_letras)\n",
    "\n",
    "cargar_pila(\"abcde\", pila_letras) \n",
    "print(pila_letras)\n",
    "\n",
    "print(\"...................................................\")\n",
    "\n",
    "pila_letras = deque()\n",
    "\n",
    "pila_letras.extend(\"abcde\") \n",
    "print(pila_letras)\n",
    "\n",
    "pila_letras.extend(\"abcde\") \n",
    "print(pila_letras)"
   ]
  },
  {
   "cell_type": "markdown",
   "metadata": {},
   "source": [
    "### Transferencia de pila a pila\n",
    "\n",
    "3. Diseña también una función que transfiere todos los elementos de una pila a otra. Digamos que la función tiene la siguiente signatura:\n",
    "\n",
    "       transferir(p_from, q_to)\n",
    "\n",
    "   Queda claro que la pila segunda queda como la inicial, pero invertida.\n",
    "\n",
    "4. Diseña una función que transfiere todos los elementos de una pila **a otras dos**, y luego los de una de éstas a la otra:\n",
    "\n",
    "       pila_a = <a, b, c, d, e>\n",
    "           ->   pila_b = <e, d, c, b, a>\n",
    "                pila_c = <e, d, c, b, a>"
   ]
  },
  {
   "cell_type": "code",
   "execution_count": 2,
   "metadata": {},
   "outputs": [
    {
     "name": "stdout",
     "output_type": "stream",
     "text": [
      "pila_a =  deque(['a', 'b', 'c', 'd', 'e'])\n",
      "pila_b =  deque([])\n",
      "pila_a =  deque([])\n",
      "pila_b =  deque(['e', 'd', 'c', 'b', 'a'])\n",
      "\n",
      ".............................................\n",
      "\n",
      "pa =  deque(['a', 'b', 'c', 'd', 'e'])\n",
      "pb =  deque([])\n",
      "pc =  deque([])\n",
      "\n",
      "pa =  deque([])\n",
      "pb =  deque(['e', 'd', 'c', 'b', 'a'])\n",
      "pc =  deque(['e', 'd', 'c', 'b', 'a'])\n"
     ]
    }
   ],
   "source": [
    "from collections import deque\n",
    "\n",
    "def transferir(desde_pila, a_pila):\n",
    "    while bool(desde_pila): # no vacía\n",
    "        elem = desde_pila.pop()\n",
    "        a_pila.append(elem)\n",
    "\n",
    "pila_a, pila_b = deque(), deque()\n",
    "cargar_pila(\"abcde\", pila_a) \n",
    "print(\"pila_a = \", pila_a)\n",
    "print(\"pila_b = \", pila_b)\n",
    "\n",
    "transferir(pila_a, pila_b)\n",
    "print(\"pila_a = \", pila_a)\n",
    "print(\"pila_b = \", pila_b)\n",
    "\n",
    "print(\"\\n.............................................\\n\")\n",
    "\n",
    "def transferir_doble(desde_pila, a_pila1, a_pila2):\n",
    "    while bool(desde_pila): # no vacía\n",
    "        elem = desde_pila.pop()\n",
    "        a_pila1.append(elem)\n",
    "        a_pila2.append(elem)\n",
    "\n",
    "pa, pb, pc = deque(), deque(), deque()\n",
    "\n",
    "cargar_pila(\"abcde\", pa) \n",
    "print(\"pa = \", pa)\n",
    "print(\"pb = \", pb)\n",
    "print(\"pc = \", pc)\n",
    "\n",
    "print()\n",
    "\n",
    "transferir_doble(pa, pb, pc)\n",
    "print(\"pa = \", pa)\n",
    "print(\"pb = \", pb)\n",
    "print(\"pc = \", pc)"
   ]
  },
  {
   "cell_type": "markdown",
   "metadata": {},
   "source": [
    "5. Una palabra es palíndroma, o capicúa, si se lee igual al derecho que al revés: radar, orejero, oso, rallar, arenera, reconocer, etc. ¿Podrías idear un algoritmo con pilas para saber si una palabra es palíndroma o no?"
   ]
  },
  {
   "cell_type": "code",
   "execution_count": 3,
   "metadata": {},
   "outputs": [
    {
     "name": "stdout",
     "output_type": "stream",
     "text": [
      "False\n",
      "True\n",
      "True\n"
     ]
    },
    {
     "data": {
      "text/plain": [
       "[True, True, True, True, True, True, False, False]"
      ]
     },
     "execution_count": 3,
     "metadata": {},
     "output_type": "execute_result"
    }
   ],
   "source": [
    "def palindromo(palabra):\n",
    "    p1, p2, p3 = deque(), deque(), deque()\n",
    "    cargar_pila(palabra, p1)\n",
    "    cargar_pila(palabra, p2)\n",
    "    transferir(p2, p3)\n",
    "    # Ahora basta con comparar p1 y p3\n",
    "    while bool(p1) and bool(p3):\n",
    "        if p1.pop() != p3.pop():\n",
    "            return False\n",
    "    return bool(p1) == bool(p3)\n",
    "\n",
    "print(palindromo(\"amor\"))\n",
    "print(palindromo(\"radar\"))\n",
    "print(palindromo(\"\"))\n",
    "\n",
    "list(map(palindromo, [\"radar\", \"orejero\", \"oso\", \"rallar\", \"arenera\", \"reconocer\", \"pavo\", \"arenero\"]))"
   ]
  },
  {
   "cell_type": "markdown",
   "metadata": {},
   "source": [
    "6. La variante más conocida de la función anterior es la que coprueba si una frase es un palíndromo, omitiendo espacios y tildes y sin mirar si una letra es mayúscula o minúscula: \"Dábale arroz a la zorra el abad\", \"¿Acaso hubo búhos acá?\", \"Amo la pacífica Paloma\", \"Arriba la birra\", \"Luz azul\", \"Roma ni se conoce sin oro, ni se conoce sin amor\", etc."
   ]
  },
  {
   "cell_type": "code",
   "execution_count": 4,
   "metadata": {},
   "outputs": [
    {
     "name": "stdout",
     "output_type": "stream",
     "text": [
      "anabelebana\n",
      "Dábale arroz a la zorra el abad  -  dabalearrozalazorraelabad  -  True\n",
      "¿Acaso hubo búhos acá?  -  acasohubobuhosaca  -  True\n",
      "Amo la pacífica Paloma  -  amolapacificapaloma  -  True\n",
      "Arriba la birra  -  arribalabirra  -  True\n",
      "Luz azul  -  luzazul  -  True\n",
      "Roma ni se conoce sin oro, ni se conoce sin amor  -  romaniseconocesinoroniseconocesinamor  -  True\n",
      "Frase no palindromo, que también teníamos que poner alguna  -  frasenopalindromoquetambienteniamosqueponeralguna  -  False\n"
     ]
    }
   ],
   "source": [
    "def limpiar_frase(frase):\n",
    "    resultado = \"\"\n",
    "    for c in frase:\n",
    "        if c.isalpha():\n",
    "            c = c.lower()\n",
    "            if c in \"áéíóúñ\":\n",
    "                i = \"áéíóúñ\".index(c)\n",
    "                c = \"aeioun\"[i]\n",
    "            resultado = resultado + c\n",
    "    return resultado\n",
    "\n",
    "print(limpiar_frase(\"Anabel ebana\"))\n",
    "\n",
    "\n",
    "frases = [\"Dábale arroz a la zorra el abad\", \n",
    "          \"¿Acaso hubo búhos acá?\",\n",
    "          \"Amo la pacífica Paloma\",\n",
    "          \"Arriba la birra\",\n",
    "          \"Luz azul\",\n",
    "          \"Roma ni se conoce sin oro, ni se conoce sin amor\",\n",
    "          \"Frase no palindromo, que también teníamos que poner alguna\"]\n",
    "\n",
    "for f in frases:\n",
    "    fl = limpiar_frase(f)\n",
    "    print(f, \" - \", fl, \" - \", palindromo(fl))"
   ]
  },
  {
   "cell_type": "markdown",
   "metadata": {},
   "source": [
    "### Paréntesis emparejados\n",
    "\n",
    "Cuando se escribe una fórmula o una frase que usa paréntesis, a veces se nos escapa uno de más o de menos, abierto o cerrado. \n",
    "         \n",
    "         \"(2+3)*[2 - x^(4+y)] / {(3-z)*[x * (1 + pi/3)]^sin(1/[1 + 1/(1 + 1/x)])}\"\n",
    "\n",
    "Una función adecuada comprobará que una frase tiene los paréntesis, llaves y corchetes adecuadamente emparejados. Diséñala."
   ]
  },
  {
   "cell_type": "code",
   "execution_count": 5,
   "metadata": {},
   "outputs": [
    {
     "name": "stdout",
     "output_type": "stream",
     "text": [
      "True\n",
      "False\n",
      "False\n",
      "False\n"
     ]
    }
   ],
   "source": [
    "def bien_emparejada(expresion):\n",
    "    delim_izdos = \"([{\"\n",
    "    delim_dchos = \")]}\"\n",
    "    pila = deque()\n",
    "    for c in expresion:\n",
    "        # print(pila, c)  # just for testing\n",
    "        if c in delim_izdos:\n",
    "            pila.append(c)\n",
    "        elif c in delim_dchos:\n",
    "            if not bool(pila): # pila vacía\n",
    "                return False\n",
    "            ultimo_abierto = pila.pop()\n",
    "            if delim_dchos.index(c) != delim_izdos.index(ultimo_abierto):\n",
    "                return False\n",
    "    return not bool(pila)\n",
    "            \n",
    "print(bien_emparejada(\"(2+3)*[2 - x^(4+y)] / {(3-z)*[x * (1 + pi/3)]^sin(1/[1 + 1/(1 + 1/x)])}\"))\n",
    "print(bien_emparejada(\"() [\"))\n",
    "print(bien_emparejada(\"() ]\"))\n",
    "print(bien_emparejada(\")(\"))"
   ]
  },
  {
   "cell_type": "markdown",
   "metadata": {},
   "source": [
    "**Nota:** Fíjate en la línea insertada como comentario:\n",
    "\n",
    "        # print(pila, c)  # just for testing\n",
    "\n",
    "Si la activas (eliminando el comentario inicial), podrás ver cómo opera esta función paso a paso."
   ]
  }
 ],
 "metadata": {
  "kernelspec": {
   "display_name": "Python 3",
   "language": "python",
   "name": "python3"
  },
  "language_info": {
   "codemirror_mode": {
    "name": "ipython",
    "version": 3
   },
   "file_extension": ".py",
   "mimetype": "text/x-python",
   "name": "python",
   "nbconvert_exporter": "python",
   "pygments_lexer": "ipython3",
   "version": "3.7.3"
  }
 },
 "nbformat": 4,
 "nbformat_minor": 1
}
