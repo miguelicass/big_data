{
 "cells": [
  {
   "cell_type": "markdown",
   "metadata": {
    "collapsed": true
   },
   "source": [
    "# Pilas\n",
    "\n",
    "<hr>\n",
    "\n",
    "Una pila es una estructura de datos secuencial que almacena elementos de manera que el último en llegar es el primero en salir. Esto se resume habitualmente diciendo que el comportamiento de las pilas es el de *Last In First Out*, o más brevemente aún, que las pilas son listas *LIFO*.\n",
    "\n",
    "En una pila, cada elemento que se añade entre por un extremo, y cada elemento que se extrae, sale de ese mismo extremo. Las operaciones de añadir un elemento y de extraerlo se llaman `push` y `pop`, en inglés.\n",
    "\n",
    "\n",
    "\n",
    "<table background-color=\"transparent\">\n",
    "    <tr>\n",
    "        <td>\n",
    "            <img src=\"images/0-VHc4F6eq1k7ZiOnT.jpg\"  width=\"500\">\n",
    "        </td>\n",
    "        <td>\n",
    "            &nbsp;&nbsp;&nbsp;&nbsp;\n",
    "        </td>\n",
    "        <td>\n",
    "            <img src=\"images/pilas.jpg\" width=\"200\">\n",
    "        </td>\n",
    "    </tr>\n",
    "</table>    \n",
    "\n",
    "Las operaciones asociadas a las pilas son las siguientes:\n",
    "\n",
    "|Operación | Comportamiento |\n",
    "|---       |---             |\n",
    "|empty()   | Comprueba si la pila está vacía o no |\n",
    "|size()    | Da el tamaño de la pila |\n",
    "|top()     | Devuelve la referencia a la cima de la pila |\n",
    "|push(g)   | Añade el elemento ‘e’, en la cima de la pila |\n",
    "|pop()     | Suprime el elemento de la cima de la pila |\n",
    "\n",
    "Todas las operaciones tienen un coste $\\cal{O}(1)$."
   ]
  },
  {
   "cell_type": "markdown",
   "metadata": {
    "collapsed": true
   },
   "source": [
    "## Uso de las pilas implementadas mediante listas"
   ]
  },
  {
   "cell_type": "code",
   "execution_count": 4,
   "metadata": {},
   "outputs": [
    {
     "name": "stdout",
     "output_type": "stream",
     "text": [
      "Pila inicial:\n",
      "[]\n",
      "\n",
      "La pila tras añadir algunos elementos:\n",
      "['a', 'b', 'c']\n",
      "\n",
      "Elementos extraídos de la pila:\n",
      "c\n",
      "b\n",
      "\n",
      "La pila tras extraer los elementos:\n",
      "['a']\n"
     ]
    }
   ],
   "source": [
    "stack = []\n",
    "  \n",
    "print('Pila inicial:') \n",
    "print(stack) \n",
    "\n",
    "# Push\n",
    "stack.append('a')\n",
    "stack.append('b') \n",
    "stack.append('c') \n",
    "\n",
    "print('\\nLa pila tras añadir algunos elementos:') \n",
    "print(stack) \n",
    "  \n",
    "# Pop\n",
    " \n",
    "print('\\nElementos extraídos de la pila:') \n",
    "print(stack.pop()) \n",
    "print(stack.pop()) \n",
    "  \n",
    "print('\\nLa pila tras extraer los elementos:') \n",
    "print(stack)"
   ]
  },
  {
   "cell_type": "markdown",
   "metadata": {
    "collapsed": true
   },
   "source": [
    "## Uso de las pilas usando los `collections.deque`"
   ]
  },
  {
   "cell_type": "code",
   "execution_count": 5,
   "metadata": {},
   "outputs": [
    {
     "name": "stdout",
     "output_type": "stream",
     "text": [
      "Pila inicial:\n",
      "deque([])\n",
      "La pila tras añadir algunos elementos:\n",
      "deque(['a', 'b', 'c'])\n",
      "\n",
      "Elementos extraídos de la pila:\n",
      "c\n",
      "b\n",
      "\n",
      "La pila tras extraer los elementos:\n",
      "deque(['a'])\n"
     ]
    }
   ],
   "source": [
    "from collections import deque\n",
    "\n",
    "stack = deque() \n",
    "\n",
    "print('Pila inicial:') \n",
    "print(stack) \n",
    "\n",
    "# Push\n",
    "\n",
    "stack.append('a')\n",
    "stack.append('b') \n",
    "stack.append('c') \n",
    "  \n",
    "print('La pila tras añadir algunos elementos:') \n",
    "print(stack) \n",
    "  \n",
    "# Pop\n",
    " \n",
    "print('\\nElementos extraídos de la pila:') \n",
    "print(stack.pop()) \n",
    "print(stack.pop()) \n",
    "  \n",
    "print('\\nLa pila tras extraer los elementos:') \n",
    "print(stack) "
   ]
  },
  {
   "cell_type": "markdown",
   "metadata": {
    "collapsed": true
   },
   "source": [
    "## Implementación de una pila a nuestra medida"
   ]
  },
  {
   "cell_type": "code",
   "execution_count": 17,
   "metadata": {},
   "outputs": [
    {
     "name": "stdout",
     "output_type": "stream",
     "text": [
      "True\n",
      "True\n",
      "True\n",
      "True\n",
      "True\n",
      "False\n",
      "5\n",
      "e\n",
      "d\n",
      "<__main__.Stack object at 0x0000025030DCDEF0>\n",
      "['a', 'b', 'c']\n",
      "c\n",
      "b\n",
      "['a']\n",
      "a\n",
      "False\n",
      "[]\n"
     ]
    }
   ],
   "source": [
    "# Esta implementación se basa en una pila\n",
    "\n",
    "class Stack:\n",
    "    \n",
    "    #Constructor \n",
    "    def __init__(self):\n",
    "        self.stack = []\n",
    "        self.max_size = 5\n",
    "        self.top = 0\n",
    "    \n",
    "    #Adds element to the Stack\n",
    "    def push(self, data):\n",
    "        if self.top >= self.max_size:\n",
    "            return False # Pila llena\n",
    "        self.stack.append(data)\n",
    "        self.top += 1\n",
    "        return True\n",
    "        \n",
    "    #Removes element from the stack\n",
    "    def pop(self):\n",
    "        if self.top <= 0:\n",
    "            return False\n",
    "        item = self.stack.pop()\n",
    "        self.top -= 1\n",
    "        return item\n",
    "        \n",
    "    #Size of the stack\n",
    "    def size(self):\n",
    "        return self.top\n",
    "\n",
    "pila = Stack()\n",
    "print(pila.push('a'))   # True\n",
    "print(pila.push('b'))   # True\n",
    "print(pila.push('c'))   # True\n",
    "print(pila.push('d'))   # True\n",
    "print(pila.push('e'))   # True\n",
    "print(pila.push('f'))   # False (pila llena)\n",
    "\n",
    "print(pila.size())      # 5        \n",
    "print(pila.pop())       # e\n",
    "print(pila.pop())       # d\n",
    "\n",
    "print(pila)             # <__main__.Stack object at 0x0000025030DC4C88>\n",
    "print(pila.stack)       # ['a', 'b', 'c']\n",
    "\n",
    "print(pila.pop())       # c\n",
    "print(pila.pop())       # b\n",
    "print(pila.stack)       # ['a']\n",
    "print(pila.pop())       # a\n",
    "print(pila.pop())       # False\n",
    "print(pila.stack)       # []"
   ]
  },
  {
   "cell_type": "code",
   "execution_count": null,
   "metadata": {},
   "outputs": [],
   "source": []
  }
 ],
 "metadata": {
  "kernelspec": {
   "display_name": "Python 3",
   "language": "python",
   "name": "python3"
  },
  "language_info": {
   "codemirror_mode": {
    "name": "ipython",
    "version": 3
   },
   "file_extension": ".py",
   "mimetype": "text/x-python",
   "name": "python",
   "nbconvert_exporter": "python",
   "pygments_lexer": "ipython3",
   "version": "3.7.3"
  }
 },
 "nbformat": 4,
 "nbformat_minor": 2
}
