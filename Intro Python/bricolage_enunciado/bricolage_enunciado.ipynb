{
 "cells": [
  {
   "cell_type": "markdown",
   "metadata": {
    "collapsed": true
   },
   "source": [
    "<h1>\n",
    "    <center>\n",
    "        Bricolage\n",
    "    </center>\n",
    "</h1>\n",
    "\n",
    "<hr>\n",
    "\n",
    "### Datos personales\n",
    "\n",
    "-   **Apellidos:** ......................................\n",
    "-   **Nombre:** ......................................\n",
    "-   **Email:** ......................................\n",
    "-   **DNI:** ......................................\n",
    "\n",
    "<hr>"
   ]
  },
  {
   "cell_type": "markdown",
   "metadata": {
    "collapsed": true
   },
   "source": [
    "## Gestión del inventario de un almacén de bricolage\n",
    "\n",
    "Necesitamos gestionar el inventario de una tienda de bricolage. Inicialmente, los artículos están registrados en un archivo como el siguiente:\n",
    "\n",
    "<center>\n",
    "    <img src=\"./inventario_bricolage.png\" width=\"500\">\n",
    "</center>\n",
    "\n",
    "Se trata de un archivo de texto (llamado “inventario_bricolage.txt”).\n",
    "En él, que cada línea contiene la siguiente información referida a las existencias de un producto concreto:\n",
    "\n",
    "-\tEl código del producto\n",
    "-\tLa cantidad mínima que debería haber siempre, para atender la demanda previsible\n",
    "-\tLas existencias en ese momento\n",
    "-\tLa cantidad máxima de dicho producto que cabe en los estantes del supermercado\n",
    "-\tLa ubicación, es decir, el código del estante en la tienda\n",
    "-\tUna descripción concisa pero suficiente\n",
    "\n",
    "Cada dato de los descritos está separado de los datos contiguos por dos barras, así: `//`."
   ]
  },
  {
   "cell_type": "markdown",
   "metadata": {
    "collapsed": true
   },
   "source": [
    "## 1. Definición de la clase `Articulo`\n",
    "\n",
    "Define una clase Articulo, cuyos atributos serán:\n",
    "\n",
    "-\tLa cantidad mínima que debería haber siempre, para atender la demanda previsible\n",
    "-\tLa cantidad máxima de dicho producto que cabe en los estantes del supermercado\n",
    "-\tLa ubicación, es decir, el código del estante en la tienda\n",
    "-\tUna descripción concisa pero suficiente\n",
    "\n",
    "Fíjate en que no se incluye el código del producto, ni tampoco la cantidad que hay en cada momento realmente en el almacén.\n",
    "\n",
    "Las operaciones básicas para empezar serán únicamente las siguientes:\n",
    "\n",
    "-   La de creación (`__init__`), que creará el diccionario a partir del archivo de datos descrito\n",
    "-   Un método (`__str__`) que convierte la descripción de un artículo en un string.\n",
    "\n",
    "**Nota.** En este apartado, se valorará también la documentación aportada. Pon atención a documentar adecuadamente la clase definida.\n",
    "\n",
    "**Nota.** El funcionamiento será como el que se muestra seguidamente. Esto **no** debe modificarse."
   ]
  },
  {
   "cell_type": "code",
   "execution_count": 1,
   "metadata": {},
   "outputs": [],
   "source": [
    "# Este apartado debe ser completado por el estudiante\n",
    "\n"
   ]
  },
  {
   "cell_type": "code",
   "execution_count": 2,
   "metadata": {},
   "outputs": [
    {
     "name": "stdout",
     "output_type": "stream",
     "text": [
      "<25 100 001_AA 'Tornillos con cabeza grande'>\n"
     ]
    }
   ],
   "source": [
    "articulo = Articulo(25, 100, \"001_AA\", \"Tornillos con cabeza grande\")\n",
    "print(articulo)"
   ]
  },
  {
   "cell_type": "markdown",
   "metadata": {
    "collapsed": true
   },
   "source": [
    "## 2. Creación de un diccionario con todos los Artículos\n",
    "\n",
    "Define ahora una función que cargue los datos del archivo en un diccionario, cuya clave es el código de un artículo\n",
    "y cuyo valor asociado, la descripción de dicho artículo recogida en la clase anterior.\n",
    "\n",
    "**Nota.** En este apartado, se valorará también la documentación aportada. Pon atención a documentar adecuadamente la clase definida.\n",
    "\n",
    "**Nota.** El funcionamiento será como el que se muestra seguidamente. Esto **no** debe modificarse."
   ]
  },
  {
   "cell_type": "code",
   "execution_count": 3,
   "metadata": {},
   "outputs": [],
   "source": [
    "# Este apartado debe ser completado por el estudiante\n",
    "\n"
   ]
  },
  {
   "cell_type": "code",
   "execution_count": 4,
   "metadata": {},
   "outputs": [
    {
     "name": "stdout",
     "output_type": "stream",
     "text": [
      "F01 70 <25 100 001_AA 'Tornillos con cabeza grande'>\n",
      "F02 3 <2 10 001_AB 'Alicates grandes'>\n",
      "F03 35 <20 80 021_CA 'Arandelas delgadas para tornillos de debeza grande'>\n",
      "F04 27 <5 30 031_ZA 'Alcayatas planas en paquetes de 25'>\n",
      "F05 458 <200 1000 061_ZU 'caja de chinchetas'>\n",
      "F06 45 <25 100 034_CA 'martillo de mediano'>\n"
     ]
    }
   ],
   "source": [
    "inventario, existencias = lectura_datos(\"inventario_bricolage.txt\")\n",
    "for k, v in inventario.items():\n",
    "    print(k, existencias[k], v)"
   ]
  },
  {
   "cell_type": "markdown",
   "metadata": {
    "collapsed": true
   },
   "source": [
    "## 3. Definición de la clase `Almacen`\n",
    "\n",
    "Define una clase para llevar todo el almacén. Esta clase tendrá *dos* atributos:\n",
    "\n",
    "-   Un diccionario con las descripciones de los `productos`, salvo las existencias en cada momento\n",
    "-   Un segundo diccionario con las `existencias` de cada producto\n",
    "\n",
    "En ambos diccionarios, la clave será el código del producto, que obviamente ya no se repetirá en la descripción.\n",
    "\n",
    "La operación básica para empezar será un único método:\n",
    "\n",
    "-   La de creación (`__init__`), que creará los diccionarios a partir del archivo de datos descrito\n",
    "-   La operaciónUn `__str__` típica.\n",
    "\n",
    "**Nota.** El funcionamiento será como el que se muestra seguidamente. Esto **no** debe modificarse."
   ]
  },
  {
   "cell_type": "code",
   "execution_count": 5,
   "metadata": {},
   "outputs": [],
   "source": [
    "# Este apartado debe ser completado por el estudiante\n",
    "\n"
   ]
  },
  {
   "cell_type": "code",
   "execution_count": 6,
   "metadata": {},
   "outputs": [
    {
     "name": "stdout",
     "output_type": "stream",
     "text": [
      "F01 70 -> <25 100 001_AA 'Tornillos con cabeza grande'>\n",
      "F02 3 -> <2 10 001_AB 'Alicates grandes'>\n",
      "F03 35 -> <20 80 021_CA 'Arandelas delgadas para tornillos de debeza grande'>\n",
      "F04 27 -> <5 30 031_ZA 'Alcayatas planas en paquetes de 25'>\n",
      "F05 458 -> <200 1000 061_ZU 'caja de chinchetas'>\n",
      "F06 45 -> <25 100 034_CA 'martillo de mediano'>\n",
      "\n"
     ]
    }
   ],
   "source": [
    "almacen = Almacen(\"inventario_bricolage.txt\")\n",
    "print(almacen)"
   ]
  },
  {
   "cell_type": "markdown",
   "metadata": {
    "collapsed": true
   },
   "source": [
    "## 4. Ventas\n",
    "\n",
    "Añade ahora una operación para vender un artículo, en la cantidad que se indique, con la consecuente disminución de esa cantidad en las existencias de dicho artículo. Para esta operación hay que tener en cuenta lo siguiente:\n",
    "\n",
    "-   Si esta cantidad rebasara las existencias, esa venta **no** se efectúa.\n",
    "\n",
    "Nuevamente, copia la clase definida en el apartado anterior y añade el método de venta de un artículo, teniendo en cuenta el test de funcionamiento que se propone justo a continuación."
   ]
  },
  {
   "cell_type": "code",
   "execution_count": 7,
   "metadata": {},
   "outputs": [],
   "source": [
    "# Este apartado debe ser completado por el estudiante\n",
    "\n"
   ]
  },
  {
   "cell_type": "markdown",
   "metadata": {},
   "source": [
    "**Nota.** El funcionamiento será como el que se muestra seguidamente. Esto **no** debe modificarse."
   ]
  },
  {
   "cell_type": "code",
   "execution_count": 8,
   "metadata": {},
   "outputs": [
    {
     "name": "stdout",
     "output_type": "stream",
     "text": [
      "F01 70 -> <25 100 001_AA 'Tornillos con cabeza grande'>\n",
      "F02 3 -> <2 10 001_AB 'Alicates grandes'>\n",
      "F03 35 -> <20 80 021_CA 'Arandelas delgadas para tornillos de debeza grande'>\n",
      "F04 27 -> <5 30 031_ZA 'Alcayatas planas en paquetes de 25'>\n",
      "F05 458 -> <200 1000 061_ZU 'caja de chinchetas'>\n",
      "F06 45 -> <25 100 034_CA 'martillo de mediano'>\n",
      "\n",
      "<25 100 034_CA 'martillo de mediano'>\n",
      "45\n",
      "15\n",
      "15\n"
     ]
    }
   ],
   "source": [
    "almacen = Almacen(\"inventario_bricolage.txt\")\n",
    "print(almacen)\n",
    "\n",
    "print(almacen.datos_producto(\"F06\"))\n",
    "print(almacen.cantidad_producto(\"F06\"))\n",
    "\n",
    "almacen.vender(\"F06\", 30)\n",
    "print(almacen.cantidad_producto(\"F06\"))\n",
    "\n",
    "almacen.vender(\"F06\", 30)\n",
    "print(almacen.cantidad_producto(\"F06\"))"
   ]
  },
  {
   "cell_type": "markdown",
   "metadata": {
    "collapsed": true
   },
   "source": [
    "## 5. Ventas, mejorado\n",
    "\n",
    "Consideramos seguidamente dos mejoras, que nos facilitarán la posterior gestión de nuestro inventario:\n",
    "\n",
    "-   ** Mejora 1**.\n",
    "    Nos gustaría anotar también la colección de `articulos_anomalos` que, al pasar por caja,\n",
    "    presentan la anomalía de que se intenta comprar una cantidad superior a la que tenemos regitrada.\n",
    "\n",
    "-   ** Mejora 2**.\n",
    "    Igualmente, podemos llevar otra relación de `artículos_para_reponer`, \n",
    "    con los que precisan reposición, por haber rebasado el umbral mínimo. \n",
    "\n",
    "Las mejoras descritas requieren modificar nuestra clase en dos aspectos:\n",
    "\n",
    "-   La operación `__init__`, que ha de registrar inicialmente ambas relaciones,\n",
    "    y te pido que lo implementes mediante sendos conjuntos\n",
    "\n",
    "-   La operación de venta, que añadirá un artículo al conjunto de `articulos_anomalos` cuando se requiera,\n",
    "    y al de `artículos_para_reponer` cuando sea necesario.\n",
    "\n",
    "Redefine la clase y plantea tú los tests que consideres conveniente."
   ]
  },
  {
   "cell_type": "code",
   "execution_count": 9,
   "metadata": {},
   "outputs": [],
   "source": [
    "# Este apartado debe ser completado por el estudiante\n",
    "\n"
   ]
  },
  {
   "cell_type": "code",
   "execution_count": 10,
   "metadata": {},
   "outputs": [
    {
     "name": "stdout",
     "output_type": "stream",
     "text": [
      "Artículos: \n",
      "F01 70 -> <25 100 001_AA 'Tornillos con cabeza grande'>\n",
      "F02 3 -> <2 10 001_AB 'Alicates grandes'>\n",
      "F03 35 -> <20 80 021_CA 'Arandelas delgadas para tornillos de debeza grande'>\n",
      "F04 27 -> <5 30 031_ZA 'Alcayatas planas en paquetes de 25'>\n",
      "F05 458 -> <200 1000 061_ZU 'caja de chinchetas'>\n",
      "F06 45 -> <25 100 034_CA 'martillo de mediano'>\n",
      "\n",
      "Anomalías: set()\n",
      "Reposiciones: set()\n",
      "<25 100 034_CA 'martillo de mediano'>\n",
      "45\n",
      "15\n",
      "15\n",
      "Artículos: \n",
      "F01 70 -> <25 100 001_AA 'Tornillos con cabeza grande'>\n",
      "F02 3 -> <2 10 001_AB 'Alicates grandes'>\n",
      "F03 35 -> <20 80 021_CA 'Arandelas delgadas para tornillos de debeza grande'>\n",
      "F04 27 -> <5 30 031_ZA 'Alcayatas planas en paquetes de 25'>\n",
      "F05 458 -> <200 1000 061_ZU 'caja de chinchetas'>\n",
      "F06 15 -> <25 100 034_CA 'martillo de mediano'>\n",
      "\n",
      "Anomalías: {'F06'}\n",
      "Reposiciones: {'F06'}\n"
     ]
    }
   ],
   "source": [
    "# Tests de funcionamiento: \n",
    "\n",
    "# Este apartado debe ser completado por el estudiante\n",
    "\n"
   ]
  },
  {
   "cell_type": "markdown",
   "metadata": {
    "collapsed": true
   },
   "source": [
    "## 6. Balance\n",
    "\n",
    "Disponemos ahora de un campo adicional en el archivo `inventario_bricolage_precios.txt`, con el precio de cada artículo, un real, en euros:\n",
    "\n",
    "<center>\n",
    "    <img src=\"./inventario_bricolage_precios.png\" width=\"500\">\n",
    "</center>\n",
    "\n",
    "\n",
    "Efectúa los cambios necesarios para que nuestro inventario incorpore dicho dato nuevo,\n",
    "y añade una operación que calcule el balance del almacén en un instante, sumando para cada artículo el producto de su precio por su cantidad."
   ]
  },
  {
   "cell_type": "code",
   "execution_count": 11,
   "metadata": {},
   "outputs": [],
   "source": [
    "# Este apartado debe ser completado por el estudiante\n",
    "\n"
   ]
  },
  {
   "cell_type": "markdown",
   "metadata": {},
   "source": [
    "**Nota.** El test de funcionamiento siguiente **no** debe modificarse."
   ]
  },
  {
   "cell_type": "code",
   "execution_count": 12,
   "metadata": {},
   "outputs": [
    {
     "name": "stdout",
     "output_type": "stream",
     "text": [
      "Artículos: \n",
      "F01 70 -> <25 100 001_AA 'Tornillos con cabeza grande' 3.2€>\n",
      "F02 3 -> <2 10 001_AB 'Alicates grandes' 12.3€>\n",
      "F03 35 -> <20 80 021_CA 'Arandelas delgadas para tornillos de debeza grande' 3.8€>\n",
      "F04 27 -> <5 30 031_ZA 'Alcayatas planas en paquetes de 25' 4.9€>\n",
      "F05 458 -> <200 1000 061_ZU 'caja de chinchetas' 2.1€>\n",
      "F06 45 -> <25 100 034_CA 'martillo de mediano' 16.3€>\n",
      "\n",
      "Anomalías: set()\n",
      "Reposiciones: set()\n",
      "<25 100 034_CA 'martillo de mediano' 16.3€>\n",
      "45\n",
      "35\n",
      "25\n",
      "Artículos: \n",
      "F01 70 -> <25 100 001_AA 'Tornillos con cabeza grande' 3.2€>\n",
      "F02 3 -> <2 10 001_AB 'Alicates grandes' 12.3€>\n",
      "F03 35 -> <20 80 021_CA 'Arandelas delgadas para tornillos de debeza grande' 3.8€>\n",
      "F04 27 -> <5 30 031_ZA 'Alcayatas planas en paquetes de 25' 4.9€>\n",
      "F05 458 -> <200 1000 061_ZU 'caja de chinchetas' 2.1€>\n",
      "F06 25 -> <25 100 034_CA 'martillo de mediano' 16.3€>\n",
      "\n",
      "Anomalías: set()\n",
      "Reposiciones: set()\n",
      "Total balance:  1895.5 euros\n"
     ]
    }
   ],
   "source": [
    "almacen = Almacen(\"inventario_bricolage_precios.txt\")\n",
    "print(almacen)\n",
    "\n",
    "print(almacen.datos_producto(\"F06\"))\n",
    "print(almacen.cantidad_producto(\"F06\"))\n",
    "\n",
    "almacen.vender(\"F06\", 10)\n",
    "print(almacen.cantidad_producto(\"F06\"))\n",
    "\n",
    "almacen.vender(\"F06\", 10)\n",
    "print(almacen.cantidad_producto(\"F06\"))\n",
    "\n",
    "print(almacen)\n",
    "print(\"Total balance: \", round(almacen.balance(), 1), \"euros\")"
   ]
  }
 ],
 "metadata": {
  "kernelspec": {
   "display_name": "Python 3",
   "language": "python",
   "name": "python3"
  },
  "language_info": {
   "codemirror_mode": {
    "name": "ipython",
    "version": 3
   },
   "file_extension": ".py",
   "mimetype": "text/x-python",
   "name": "python",
   "nbconvert_exporter": "python",
   "pygments_lexer": "ipython3",
   "version": "3.8.3"
  }
 },
 "nbformat": 4,
 "nbformat_minor": 2
}
