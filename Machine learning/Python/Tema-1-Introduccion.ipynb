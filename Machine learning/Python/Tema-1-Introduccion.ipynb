{
 "cells": [
  {
   "cell_type": "code",
   "execution_count": 1,
   "metadata": {},
   "outputs": [],
   "source": [
    "import warnings\n",
    "warnings.filterwarnings('ignore')"
   ]
  },
  {
   "cell_type": "markdown",
   "metadata": {},
   "source": [
    "### Modelo 1: Clasificación"
   ]
  },
  {
   "cell_type": "code",
   "execution_count": null,
   "metadata": {},
   "outputs": [],
   "source": [
    "from sklearn.linear_model import LogisticRegression\n",
    "from sklearn import datasets\n",
    "from pickle import load, dump\n",
    "\n",
    "digits = datasets.load_digits()\n",
    "features = digits.data\n",
    "target = digits.target\n",
    "\n",
    "model = LogisticRegression()\n",
    "model.fit(features, target)\n",
    "model.score(features, target)\n",
    "\n",
    "dump(model, open('./models/2021-01-22-lr.pkl', 'wb'))"
   ]
  },
  {
   "cell_type": "code",
   "execution_count": 10,
   "metadata": {
    "scrolled": true
   },
   "outputs": [],
   "source": [
    "from sklearn.linear_model import LogisticRegression\n",
    "from sklearn.model_selection import train_test_split\n",
    "from sklearn import datasets\n",
    "from pickle import load, dump\n",
    "\n",
    "digits = datasets.load_digits()\n",
    "features = digits.data\n",
    "target = digits.target\n",
    "\n",
    "features_train, features_test, target_train, target_test = train_test_split(features, target)\n",
    "\n",
    "model = LogisticRegression()\n",
    "model.fit(features_train, target_train)\n",
    "model.score(features_test, target_test)\n",
    "\n",
    "dump(model, open('./models/2021-01-22-lr.pkl', 'wb'))"
   ]
  },
  {
   "cell_type": "code",
   "execution_count": null,
   "metadata": {},
   "outputs": [],
   "source": [
    "from sklearn.linear_model import LogisticRegression\n",
    "from sklearn.model_selection import train_test_split\n",
    "from sklearn.preprocessing import StandardScaler\n",
    "from sklearn import datasets\n",
    "from pickle import load, dump\n",
    "\n",
    "digits = datasets.load_digits()\n",
    "features = digits.data\n",
    "target = digits.target\n",
    "\n",
    "features_train, features_test, target_train, target_test = train_test_split(features, target)\n",
    "\n",
    "model = LogisticRegression()\n",
    "standarizer = StandardScaler()\n",
    "pipeline = Pipeline([('standarizer', standardizer), \n",
    "                     ('lr', model)])\n",
    "\n",
    "pipeline.fit(features_train, target_train)\n",
    "pipeline.score(features_test, target_test)\n",
    "\n",
    "dump(pipeline, open('./models/2021-01-22-lr-standscaler.pkl', 'wb'))"
   ]
  },
  {
   "cell_type": "markdown",
   "metadata": {},
   "source": [
    "### Ejercicio: Regresión"
   ]
  },
  {
   "cell_type": "code",
   "execution_count": null,
   "metadata": {},
   "outputs": [],
   "source": [
    "from sklearn.linear_model import Lasso\n",
    "from sklearn.model_selection import train_test_split\n",
    "from sklearn.preprocessing import StandardScaler\n",
    "from sklearn import datasets\n",
    "from pickle import load, dump\n",
    "\n",
    "\n",
    "boston = datasets.load_boston()\n",
    "features, target = boston.data, boston.target\n",
    "\n",
    "features_train, features_test, target_train, target_test = train_test_split(features, target)\n",
    "\n",
    "\"\"\" Modelo 1 \"\"\"\n",
    "model = Lasso()\n",
    "standarizer = StandardScaler()\n",
    "pipeline = Pipeline([('standarizer', standardizer), \n",
    "                     ('lr', model)])\n",
    "\n",
    "pipeline.fit(features_train, target_train)\n",
    "print(pipeline.score(features_test, target_test))\n",
    "\n",
    "\"\"\" Modelo 2 \"\"\"\n",
    "model = Lasso()\n",
    "model.fit(features_train, target_train)\n",
    "print(model.score(features_test, target_test))"
   ]
  },
  {
   "cell_type": "markdown",
   "metadata": {},
   "source": [
    "### Semillas"
   ]
  },
  {
   "cell_type": "code",
   "execution_count": 8,
   "metadata": {},
   "outputs": [
    {
     "name": "stdout",
     "output_type": "stream",
     "text": [
      "0.771320643266746\n",
      "0.771320643266746\n",
      "0.771320643266746\n",
      "0.771320643266746\n",
      "0.771320643266746\n"
     ]
    },
    {
     "data": {
      "image/png": "[encoded data removed]",
      "text/plain": [
       "<Figure size 432x288 with 1 Axes>"
      ]
     },
     "metadata": {
      "needs_background": "light"
     },
     "output_type": "display_data"
    }
   ],
   "source": [
    "import numpy as np\n",
    "import matplotlib.pyplot as plt\n",
    "\n",
    "np.random.randn()\n",
    "\n",
    "for i in range(5):\n",
    "    np.random.seed(10)\n",
    "    n = np.random.rand()\n",
    "    print(n)\n",
    "    \n",
    "mu = 35\n",
    "sigma = 2.5\n",
    "np.random.randn() * sigma+ mu\n",
    "\n",
    "np.random.randn(10) * sigma+ mu\n",
    "\n",
    "n = np.random.randn(1000) * sigma+ mu\n",
    "plt.hist(n)\n",
    "plt.show()"
   ]
  },
  {
   "cell_type": "code",
   "execution_count": 18,
   "metadata": {},
   "outputs": [
    {
     "data": {
      "text/plain": [
       "0.9688888888888889"
      ]
     },
     "execution_count": 18,
     "metadata": {},
     "output_type": "execute_result"
    }
   ],
   "source": [
    "digits = datasets.load_digits()\n",
    "features = digits.data\n",
    "target = digits.target\n",
    "\n",
    "X_train, X_test, y_train, y_test = train_test_split(features, target, random_state=1)\n",
    "\n",
    "model = LogisticRegression(random_state=1)\n",
    "model.fit(X_train, y_train)\n",
    "model.score(X_test, y_test)"
   ]
  },
  {
   "cell_type": "markdown",
   "metadata": {},
   "source": [
    "### Comparación de algoritmos"
   ]
  },
  {
   "cell_type": "code",
   "execution_count": 23,
   "metadata": {},
   "outputs": [
    {
     "name": "stdout",
     "output_type": "stream",
     "text": [
      "LR :  0.9688888888888889\n",
      "LDA :  0.9666666666666667\n",
      "KNN :  0.9933333333333333\n",
      "DTC :  0.8644444444444445\n",
      "NB :  0.8533333333333334\n",
      "RFC :  0.98\n",
      "SVM :  0.9888888888888889\n"
     ]
    }
   ],
   "source": [
    "from sklearn.linear_model import LogisticRegression\n",
    "from sklearn.tree import DecisionTreeClassifier\n",
    "from sklearn.neighbors import KNeighborsClassifier\n",
    "from sklearn.discriminant_analysis import LinearDiscriminantAnalysis\n",
    "from sklearn.naive_bayes import GaussianNB\n",
    "from sklearn.ensemble import RandomForestClassifier\n",
    "from sklearn.svm import SVC\n",
    "\n",
    "digits = datasets.load_digits()\n",
    "features = digits.data\n",
    "target = digits.target\n",
    "\n",
    "models = []\n",
    "models.append(('LR', LogisticRegression()))\n",
    "models.append(('LDA', LinearDiscriminantAnalysis()))\n",
    "models.append(('KNN', KNeighborsClassifier()))\n",
    "models.append(('DTC', DecisionTreeClassifier()))\n",
    "models.append(('NB', GaussianNB()))\n",
    "models.append(('RFC', RandomForestClassifier()))\n",
    "models.append(('SVM', SVC()))\n",
    "\n",
    "X_train, X_test, y_train, y_test = train_test_split(features, target)\n",
    "\n",
    "for name, model in models:\n",
    "    model.fit(X_train, y_train)\n",
    "    score = model.score(X_test, y_test)\n",
    "    print(name, ': ', str(score))"
   ]
  },
  {
   "cell_type": "markdown",
   "metadata": {},
   "source": [
    "### Ejercicio: Regresión"
   ]
  },
  {
   "cell_type": "code",
   "execution_count": 32,
   "metadata": {},
   "outputs": [
    {
     "name": "stdout",
     "output_type": "stream",
     "text": [
      "LR :  0.6220514951399005\n",
      "LASSO :  0.4894584693965284\n",
      "RFR :  0.8841430843211482\n",
      "KNN :  0.9850879167458381\n",
      "CART :  0.6516655217270562\n"
     ]
    }
   ],
   "source": [
    "from sklearn.linear_model import LinearRegression, Lasso\n",
    "from sklearn.tree import DecisionTreeRegressor\n",
    "from sklearn.neighbors import KNeighborsRegressor\n",
    "from sklearn.ensemble import RandomForestRegressor\n",
    "\n",
    "boston = datasets.load_boston()\n",
    "features, target = boston.data, boston.target\n",
    "\n",
    "features_train, features_test, target_train, target_test = train_test_split(features, target, random_state=99)\n",
    "\n",
    "models = []\n",
    "models.append(('LR', LinearRegression()))\n",
    "models.append(('LASSO', Lasso(random_state=99)))\n",
    "models.append(('RFR', RandomForestRegressor(random_state=99)))\n",
    "models.append(('KNN', KNeighborsRegressor()))\n",
    "models.append(('CART', DecisionTreeRegressor(random_state=99)))\n",
    "\n",
    "for name, model in models:\n",
    "    model.fit(X_train, y_train)\n",
    "    score = model.score(X_test, y_test)\n",
    "    print(name, ': ', str(score))"
   ]
  },
  {
   "cell_type": "code",
   "execution_count": null,
   "metadata": {},
   "outputs": [],
   "source": []
  },
  {
   "cell_type": "code",
   "execution_count": null,
   "metadata": {},
   "outputs": [],
   "source": []
  },
  {
   "cell_type": "code",
   "execution_count": null,
   "metadata": {},
   "outputs": [],
   "source": []
  },
  {
   "cell_type": "code",
   "execution_count": null,
   "metadata": {},
   "outputs": [],
   "source": []
  },
  {
   "cell_type": "code",
   "execution_count": null,
   "metadata": {},
   "outputs": [],
   "source": []
  },
  {
   "cell_type": "code",
   "execution_count": null,
   "metadata": {},
   "outputs": [],
   "source": []
  }
 ],
 "metadata": {
  "kernelspec": {
   "display_name": "Python 3",
   "language": "python",
   "name": "python3"
  },
  "language_info": {
   "codemirror_mode": {
    "name": "ipython",
    "version": 3
   },
   "file_extension": ".py",
   "mimetype": "text/x-python",
   "name": "python",
   "nbconvert_exporter": "python",
   "pygments_lexer": "ipython3",
   "version": "3.8.5"
  }
 },
 "nbformat": 4,
 "nbformat_minor": 2
}
